{
 "cells": [
  {
   "cell_type": "code",
   "execution_count": 1,
   "id": "e2980a03",
   "metadata": {},
   "outputs": [],
   "source": [
    "import subprocess\n",
    "\n",
    "import numpy as np"
   ]
  },
  {
   "cell_type": "code",
   "execution_count": 2,
   "id": "9db62163",
   "metadata": {
    "scrolled": true
   },
   "outputs": [
    {
     "data": {
      "text/plain": [
       "array([[ 15,  24,   1, ...,   2,   1,  20],\n",
       "       [ 24,   6,  20, ...,  26,  14,  29],\n",
       "       [ 22,   9,   9, ...,   0,  16,   0],\n",
       "       ...,\n",
       "       [  5,  22, 102, ..., 103,  14,  60],\n",
       "       [105, 105,  28, ...,  79,  51,  14],\n",
       "       [ 74,  50,  24, ...,  78,  39,   6]])"
      ]
     },
     "execution_count": 2,
     "metadata": {},
     "output_type": "execute_result"
    }
   ],
   "source": [
    "n_tasks = 100\n",
    "n_members = 20\n",
    "t = np.random.randint(1, 100, (n_members, n_tasks))\n",
    "for i in range(n_members):\n",
    "    t[i] *= (5 + i)\n",
    "t[:] //= 20\n",
    "t"
   ]
  },
  {
   "cell_type": "code",
   "execution_count": 84,
   "id": "2f9b73a3",
   "metadata": {},
   "outputs": [],
   "source": [
    "n = n_tasks * n_members + 2\n",
    "m = n_tasks + n_members + 1\n",
    "with open(\"in2.txt\", \"w\") as f:\n",
    "    print(m, n, file=f)\n",
    "    c = np.random.random(n_tasks * n_members) * 0.0\n",
    "    print(*c, -1, 10000, file=f)\n",
    "    b = np.random.random(n_members) * 20.0\n",
    "    for i in range(n_members):\n",
    "        c = np.zeros(n_tasks * n_members, dtype=np.int32)\n",
    "        c[i*n_tasks:(i+1)*n_tasks] = t[i]\n",
    "        print(*c, -1, 0, b[i], file=f)\n",
    "    for i in range(n_tasks):\n",
    "        c = np.zeros(n_tasks * n_members, dtype=np.int32)\n",
    "        c[i::n_tasks] = -1\n",
    "        print(*c, 0, 1, 0, file=f)\n",
    "    c = np.zeros(n_tasks * n_members, dtype=np.int32)\n",
    "    print(*c, 0, 1, 1, file=f)"
   ]
  },
  {
   "cell_type": "code",
   "execution_count": 85,
   "id": "a08df408",
   "metadata": {},
   "outputs": [
    {
     "name": "stdout",
     "output_type": "stream",
     "text": [
      "CPU times: user 2.12 ms, sys: 4.29 ms, total: 6.41 ms\n",
      "Wall time: 261 ms\n"
     ]
    },
    {
     "data": {
      "text/plain": [
       "CompletedProcess(args='./a.out 1000 < in2.txt > out2.txt', returncode=0)"
      ]
     },
     "execution_count": 85,
     "metadata": {},
     "output_type": "execute_result"
    }
   ],
   "source": [
    "%%time\n",
    "subprocess.run(\"./a.out 1000 < in2.txt > out2.txt\", shell=True)"
   ]
  },
  {
   "cell_type": "code",
   "execution_count": 86,
   "id": "25402253",
   "metadata": {},
   "outputs": [],
   "source": [
    "res = !cat out2.txt\n",
    "res = list(map(float, res[1].split()))"
   ]
  },
  {
   "cell_type": "code",
   "execution_count": 87,
   "id": "077afff4",
   "metadata": {},
   "outputs": [
    {
     "data": {
      "text/plain": [
       "(7.72809, 1.0)"
      ]
     },
     "execution_count": 87,
     "metadata": {},
     "output_type": "execute_result"
    }
   ],
   "source": [
    "X, target, v = res[:-2], res[-2], res[-1]\n",
    "target, v"
   ]
  },
  {
   "cell_type": "code",
   "execution_count": 88,
   "id": "64e68d3a",
   "metadata": {},
   "outputs": [],
   "source": [
    "X = np.array(X).reshape(n_members, n_tasks)"
   ]
  },
  {
   "cell_type": "code",
   "execution_count": 89,
   "id": "779e23fb",
   "metadata": {},
   "outputs": [
    {
     "data": {
      "image/png": "[encoded data removed]",
      "text/plain": [
       "<Figure size 1296x288 with 2 Axes>"
      ]
     },
     "metadata": {
      "needs_background": "light"
     },
     "output_type": "display_data"
    }
   ],
   "source": [
    "import matplotlib.pyplot as plt\n",
    "plt.figure(figsize=(18, 4))\n",
    "plt.imshow(X, aspect=3, cmap=\"Blues\")\n",
    "plt.colorbar()\n",
    "plt.show()"
   ]
  },
  {
   "cell_type": "code",
   "execution_count": 90,
   "id": "20a08fa0",
   "metadata": {
    "scrolled": false
   },
   "outputs": [
    {
     "data": {
      "text/plain": [
       "array([1.        , 1.        , 1.        , 1.        , 1.        ,\n",
       "       1.        , 1.        , 1.        , 1.        , 1.00000012,\n",
       "       1.        , 1.        , 1.        , 1.        , 1.        ,\n",
       "       1.        , 1.        , 1.        , 1.        , 1.        ,\n",
       "       1.        , 1.        , 1.        , 1.        , 1.        ,\n",
       "       1.        , 1.        , 1.        , 0.9999995 , 1.        ,\n",
       "       1.        , 1.        , 1.        , 1.        , 1.        ,\n",
       "       1.        , 1.        , 1.        , 1.        , 1.        ,\n",
       "       1.        , 1.        , 1.        , 1.        , 1.        ,\n",
       "       1.        , 1.        , 1.        , 1.        , 1.        ,\n",
       "       1.        , 1.        , 1.        , 1.        , 1.        ,\n",
       "       1.        , 1.        , 1.        , 1.        , 1.        ,\n",
       "       1.        , 1.        , 1.        , 1.        , 1.        ,\n",
       "       1.        , 1.        , 1.        , 1.        , 1.        ,\n",
       "       1.        , 1.        , 1.        , 1.        , 1.        ,\n",
       "       1.        , 1.        , 1.        , 1.        , 1.        ,\n",
       "       1.        , 1.        , 1.        , 1.        , 1.        ,\n",
       "       1.        , 1.        , 1.        , 1.        , 1.        ,\n",
       "       1.        , 1.        , 1.00000088, 1.        , 1.        ,\n",
       "       1.        , 1.        , 1.        , 1.        , 1.        ])"
      ]
     },
     "execution_count": 90,
     "metadata": {},
     "output_type": "execute_result"
    }
   ],
   "source": [
    "X.sum(0)"
   ]
  },
  {
   "cell_type": "code",
   "execution_count": 93,
   "id": "7b03b011",
   "metadata": {},
   "outputs": [
    {
     "data": {
      "text/plain": [
       "array([7.72808656, 7.72808754, 7.72809178, 7.72808641, 7.72807837,\n",
       "       7.72808688, 7.72809234, 7.72808593, 7.7280768 , 7.72808624,\n",
       "       7.72808614, 7.72808873, 7.72808642, 7.72809221, 7.72808609,\n",
       "       7.72808689, 7.72808364, 7.72808925, 7.72808105, 7.72808614])"
      ]
     },
     "execution_count": 93,
     "metadata": {},
     "output_type": "execute_result"
    }
   ],
   "source": [
    "(X * t).sum(1) - b"
   ]
  },
  {
   "cell_type": "code",
   "execution_count": 94,
   "id": "522a07c3",
   "metadata": {},
   "outputs": [
    {
     "data": {
      "text/plain": [
       "array([ 1.51936144, 14.18725546, 17.80383022,  4.35348404, 15.03725143,\n",
       "        6.54962852, 15.65051056,  9.65373807, 15.5372202 ,  0.4174248 ,\n",
       "       14.17748016, 13.86197847,  2.83740258, 12.58374779,  7.38112616,\n",
       "       15.16394551,  7.44991816, 14.72547275, 19.50570035, 17.27366386])"
      ]
     },
     "execution_count": 94,
     "metadata": {},
     "output_type": "execute_result"
    }
   ],
   "source": [
    "b"
   ]
  },
  {
   "cell_type": "code",
   "execution_count": null,
   "id": "16373b88",
   "metadata": {},
   "outputs": [],
   "source": []
  }
 ],
 "metadata": {
  "kernelspec": {
   "display_name": "Python 3",
   "language": "python",
   "name": "python3"
  },
  "language_info": {
   "codemirror_mode": {
    "name": "ipython",
    "version": 3
   },
   "file_extension": ".py",
   "mimetype": "text/x-python",
   "name": "python",
   "nbconvert_exporter": "python",
   "pygments_lexer": "ipython3",
   "version": "3.8.8"
  }
 },
 "nbformat": 4,
 "nbformat_minor": 5
}
