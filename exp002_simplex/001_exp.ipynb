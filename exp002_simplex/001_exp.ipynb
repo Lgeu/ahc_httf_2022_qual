{
 "cells": [
  {
   "cell_type": "code",
   "execution_count": 1,
   "id": "0709a19d",
   "metadata": {},
   "outputs": [],
   "source": [
    "import subprocess\n",
    "\n",
    "import numpy as np"
   ]
  },
  {
   "cell_type": "code",
   "execution_count": 2,
   "id": "da20ae0d",
   "metadata": {
    "scrolled": true
   },
   "outputs": [
    {
     "data": {
      "text/plain": [
       "array([[99, 47, 66, ..., 11, 10, 12],\n",
       "       [45, 53, 14, ..., 65, 35, 13],\n",
       "       [91, 72, 57, ..., 72, 77, 28],\n",
       "       ...,\n",
       "       [ 2, 90, 19, ..., 80, 51, 61],\n",
       "       [16, 23, 51, ..., 62, 86, 10],\n",
       "       [27, 67, 95, ..., 96, 61, 78]])"
      ]
     },
     "execution_count": 2,
     "metadata": {},
     "output_type": "execute_result"
    }
   ],
   "source": [
    "n_tasks = 100\n",
    "n_members = 20\n",
    "t = np.random.randint(1, 100, (n_members, n_tasks))\n",
    "t"
   ]
  },
  {
   "cell_type": "code",
   "execution_count": 3,
   "id": "b9819658",
   "metadata": {},
   "outputs": [],
   "source": [
    "n = n_tasks * n_members + 2\n",
    "m = n_tasks + n_members + 1\n",
    "with open(\"in2.txt\", \"w\") as f:\n",
    "    print(m, n, file=f)\n",
    "    c = np.zeros(n_tasks * n_members, dtype=np.int32)\n",
    "    print(*c, -1, 10000, file=f)\n",
    "    for i in range(n_members):\n",
    "        c = np.zeros(n_tasks * n_members, dtype=np.int32)\n",
    "        c[i*n_tasks:(i+1)*n_tasks] = t[i]\n",
    "        print(*c, -1, 0, 0, file=f)\n",
    "    for i in range(n_tasks):\n",
    "        c = np.zeros(n_tasks * n_members, dtype=np.int32)\n",
    "        c[i::n_tasks] = -1\n",
    "        print(*c, 0, 1, 0, file=f)\n",
    "    c = np.zeros(n_tasks * n_members, dtype=np.int32)\n",
    "    print(*c, 0, 1, 1, file=f)"
   ]
  },
  {
   "cell_type": "code",
   "execution_count": 4,
   "id": "a7a1d369",
   "metadata": {},
   "outputs": [
    {
     "name": "stdout",
     "output_type": "stream",
     "text": [
      "CPU times: user 0 ns, sys: 6.1 ms, total: 6.1 ms\n",
      "Wall time: 122 ms\n"
     ]
    },
    {
     "data": {
      "text/plain": [
       "CompletedProcess(args='./a.out < in2.txt > out2.txt', returncode=0)"
      ]
     },
     "execution_count": 4,
     "metadata": {},
     "output_type": "execute_result"
    }
   ],
   "source": [
    "%%time\n",
    "subprocess.run(\"./a.out < in2.txt > out2.txt\", shell=True)"
   ]
  },
  {
   "cell_type": "code",
   "execution_count": 5,
   "id": "73de5584",
   "metadata": {},
   "outputs": [],
   "source": [
    "res = !cat out2.txt | grep Decision\n",
    "res = res[0].split(\": \")[1].strip()\n",
    "res = list(map(float, res.split()[2::3]))"
   ]
  },
  {
   "cell_type": "code",
   "execution_count": 6,
   "id": "2cbe87d3",
   "metadata": {},
   "outputs": [
    {
     "data": {
      "text/plain": [
       "(25.885, 1.0)"
      ]
     },
     "execution_count": 6,
     "metadata": {},
     "output_type": "execute_result"
    }
   ],
   "source": [
    "X, target, v = res[:-2], res[-2], res[-1]\n",
    "target, v"
   ]
  },
  {
   "cell_type": "code",
   "execution_count": 7,
   "id": "4ed2acc3",
   "metadata": {},
   "outputs": [],
   "source": [
    "X = np.array(X).reshape(n_members, n_tasks)"
   ]
  },
  {
   "cell_type": "code",
   "execution_count": 8,
   "id": "d8bfb8d8",
   "metadata": {},
   "outputs": [
    {
     "data": {
      "image/png": "[encoded data removed]",
      "text/plain": [
       "<Figure size 1296x288 with 2 Axes>"
      ]
     },
     "metadata": {
      "needs_background": "light"
     },
     "output_type": "display_data"
    }
   ],
   "source": [
    "import matplotlib.pyplot as plt\n",
    "plt.figure(figsize=(18, 4))\n",
    "plt.imshow(X, aspect=3, cmap=\"Blues\")\n",
    "plt.colorbar()\n",
    "plt.show()"
   ]
  },
  {
   "cell_type": "code",
   "execution_count": 9,
   "id": "0ee62316",
   "metadata": {},
   "outputs": [
    {
     "data": {
      "text/plain": [
       "array([1.   , 1.   , 1.   , 1.   , 1.   , 1.   , 1.   , 1.   , 1.   ,\n",
       "       1.   , 1.   , 1.   , 1.001, 1.   , 1.   , 1.   , 1.   , 1.   ,\n",
       "       1.   , 1.   , 1.   , 1.   , 1.   , 1.   , 1.   , 1.   , 1.   ,\n",
       "       1.   , 1.   , 1.   , 1.   , 1.   , 1.   , 1.   , 1.   , 1.   ,\n",
       "       1.   , 1.   , 1.   , 1.   , 0.999, 1.   , 1.   , 1.   , 1.   ,\n",
       "       1.   , 1.   , 1.   , 1.   , 1.   , 1.   , 1.   , 1.   , 1.   ,\n",
       "       1.   , 1.   , 1.   , 1.   , 1.   , 1.   , 1.   , 1.   , 1.   ,\n",
       "       1.   , 1.   , 1.   , 1.   , 1.   , 1.   , 1.   , 1.   , 1.   ,\n",
       "       1.   , 1.   , 1.   , 1.   , 1.   , 1.   , 1.   , 1.   , 1.   ,\n",
       "       1.   , 1.   , 1.   , 1.   , 1.   , 1.   , 1.   , 1.   , 1.   ,\n",
       "       1.   , 1.   , 1.   , 1.   , 1.   , 1.   , 1.   , 1.   , 1.   ,\n",
       "       1.   ])"
      ]
     },
     "execution_count": 9,
     "metadata": {},
     "output_type": "execute_result"
    }
   ],
   "source": [
    "X.sum(0)"
   ]
  },
  {
   "cell_type": "code",
   "execution_count": 10,
   "id": "4c22ba29",
   "metadata": {},
   "outputs": [
    {
     "data": {
      "text/plain": [
       "array([25.885, 25.896, 25.882, 25.888, 25.887, 25.884, 25.886, 25.884,\n",
       "       25.884, 25.885, 25.886, 25.884, 25.888, 25.875, 25.886, 25.891,\n",
       "       25.882, 25.881, 25.88 , 25.89 ])"
      ]
     },
     "execution_count": 10,
     "metadata": {},
     "output_type": "execute_result"
    }
   ],
   "source": [
    "(X * t).sum(1)"
   ]
  },
  {
   "cell_type": "code",
   "execution_count": null,
   "id": "29fb0ee6",
   "metadata": {},
   "outputs": [],
   "source": []
  }
 ],
 "metadata": {
  "kernelspec": {
   "display_name": "Python 3",
   "language": "python",
   "name": "python3"
  },
  "language_info": {
   "codemirror_mode": {
    "name": "ipython",
    "version": 3
   },
   "file_extension": ".py",
   "mimetype": "text/x-python",
   "name": "python",
   "nbconvert_exporter": "python",
   "pygments_lexer": "ipython3",
   "version": "3.8.8"
  }
 },
 "nbformat": 4,
 "nbformat_minor": 5
}
