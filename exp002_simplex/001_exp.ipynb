{
 "cells": [
  {
   "cell_type": "code",
   "execution_count": 46,
   "id": "cd034b40",
   "metadata": {},
   "outputs": [],
   "source": [
    "import subprocess\n",
    "\n",
    "import numpy as np"
   ]
  },
  {
   "cell_type": "code",
   "execution_count": 51,
   "id": "5d58e857",
   "metadata": {
    "scrolled": true
   },
   "outputs": [
    {
     "data": {
      "text/plain": [
       "array([[ 21,   4,  18, ...,  23,   9,   4],\n",
       "       [  0,  12,  18, ...,  16,  28,   8],\n",
       "       [ 18,   1,   3, ...,  30,  27,   4],\n",
       "       ...,\n",
       "       [ 73,  19,  14, ...,  39,   2,  93],\n",
       "       [ 25,  97, 106, ...,  46,  44,  16],\n",
       "       [ 21,  97,  76, ...,  80,   8,  61]])"
      ]
     },
     "execution_count": 51,
     "metadata": {},
     "output_type": "execute_result"
    }
   ],
   "source": [
    "n_tasks = 100\n",
    "n_members = 20\n",
    "t = np.random.randint(1, 100, (n_members, n_tasks))\n",
    "for i in range(n_members):\n",
    "    t[i] *= (5 + i)\n",
    "t[:] //= 20\n",
    "t"
   ]
  },
  {
   "cell_type": "code",
   "execution_count": 52,
   "id": "113eb121",
   "metadata": {},
   "outputs": [],
   "source": [
    "n = n_tasks * n_members + 2\n",
    "m = n_tasks + n_members + 1\n",
    "with open(\"in2.txt\", \"w\") as f:\n",
    "    print(m, n, file=f)\n",
    "    c = np.zeros(n_tasks * n_members, dtype=np.int32)\n",
    "    print(*c, -1, 10000, file=f)\n",
    "    for i in range(n_members):\n",
    "        c = np.zeros(n_tasks * n_members, dtype=np.int32)\n",
    "        c[i*n_tasks:(i+1)*n_tasks] = t[i]\n",
    "        print(*c, -1, 0, 0, file=f)\n",
    "    for i in range(n_tasks):\n",
    "        c = np.zeros(n_tasks * n_members, dtype=np.int32)\n",
    "        c[i::n_tasks] = -1\n",
    "        print(*c, 0, 1, 0, file=f)\n",
    "    c = np.zeros(n_tasks * n_members, dtype=np.int32)\n",
    "    print(*c, 0, 1, 1, file=f)"
   ]
  },
  {
   "cell_type": "code",
   "execution_count": 129,
   "id": "b48cfc8a",
   "metadata": {},
   "outputs": [
    {
     "name": "stdout",
     "output_type": "stream",
     "text": [
      "CPU times: user 6.26 ms, sys: 415 µs, total: 6.68 ms\n",
      "Wall time: 113 ms\n"
     ]
    },
    {
     "data": {
      "text/plain": [
       "CompletedProcess(args='./a.out < in2.txt > out2.txt', returncode=0)"
      ]
     },
     "execution_count": 129,
     "metadata": {},
     "output_type": "execute_result"
    }
   ],
   "source": [
    "%%time\n",
    "subprocess.run(\"./a.out < in2.txt > out2.txt\", shell=True)"
   ]
  },
  {
   "cell_type": "code",
   "execution_count": 119,
   "id": "549f179b",
   "metadata": {},
   "outputs": [],
   "source": [
    "res = !cat out2.txt | grep Decision\n",
    "res = res[0].split(\": \")[1].strip()\n",
    "res = list(map(float, res.split()[2::3]))"
   ]
  },
  {
   "cell_type": "code",
   "execution_count": 120,
   "id": "d786b4b2",
   "metadata": {},
   "outputs": [
    {
     "data": {
      "text/plain": [
       "(12.304, 1.0)"
      ]
     },
     "execution_count": 120,
     "metadata": {},
     "output_type": "execute_result"
    }
   ],
   "source": [
    "X, target, v = res[:-2], res[-2], res[-1]\n",
    "target, v"
   ]
  },
  {
   "cell_type": "code",
   "execution_count": 121,
   "id": "8b0fdb68",
   "metadata": {},
   "outputs": [],
   "source": [
    "X = np.array(X).reshape(n_members, n_tasks)"
   ]
  },
  {
   "cell_type": "code",
   "execution_count": 122,
   "id": "31ca4022",
   "metadata": {},
   "outputs": [
    {
     "data": {
      "image/png": "[encoded data removed]",
      "text/plain": [
       "<Figure size 1296x288 with 2 Axes>"
      ]
     },
     "metadata": {
      "needs_background": "light"
     },
     "output_type": "display_data"
    }
   ],
   "source": [
    "import matplotlib.pyplot as plt\n",
    "plt.figure(figsize=(18, 4))\n",
    "plt.imshow(X, aspect=3, cmap=\"Blues\")\n",
    "plt.colorbar()\n",
    "plt.show()"
   ]
  },
  {
   "cell_type": "code",
   "execution_count": 123,
   "id": "a12ac9c3",
   "metadata": {},
   "outputs": [
    {
     "data": {
      "text/plain": [
       "array([1., 1., 1., 1., 1., 1., 1., 1., 1., 1., 1., 1., 1., 1., 1., 1., 1.,\n",
       "       1., 1., 1., 1., 1., 1., 1., 1., 1., 1., 1., 1., 1., 1., 1., 1., 1.,\n",
       "       1., 1., 1., 1., 1., 1., 1., 1., 1., 1., 1., 1., 1., 1., 1., 1., 1.,\n",
       "       1., 1., 1., 1., 1., 1., 1., 1., 1., 1., 1., 1., 1., 1., 1., 1., 1.,\n",
       "       1., 1., 1., 1., 1., 1., 1., 1., 1., 1., 1., 1., 1., 1., 1., 1., 1.,\n",
       "       1., 1., 1., 1., 1., 1., 1., 1., 1., 1., 1., 1., 1., 1., 1.])"
      ]
     },
     "execution_count": 123,
     "metadata": {},
     "output_type": "execute_result"
    }
   ],
   "source": [
    "X.sum(0)"
   ]
  },
  {
   "cell_type": "code",
   "execution_count": 124,
   "id": "4010758c",
   "metadata": {},
   "outputs": [
    {
     "data": {
      "text/plain": [
       "array([12.308, 12.304, 12.304, 12.305, 12.302, 12.305, 12.304, 12.302,\n",
       "       12.306, 12.304, 12.303, 12.304, 12.302, 12.311, 12.304, 12.3  ,\n",
       "       12.304, 12.305, 12.304, 12.304])"
      ]
     },
     "execution_count": 124,
     "metadata": {},
     "output_type": "execute_result"
    }
   ],
   "source": [
    "(X * t).sum(1)"
   ]
  },
  {
   "cell_type": "code",
   "execution_count": null,
   "id": "a1f5dcaa",
   "metadata": {},
   "outputs": [],
   "source": []
  }
 ],
 "metadata": {
  "kernelspec": {
   "display_name": "Python 3",
   "language": "python",
   "name": "python3"
  },
  "language_info": {
   "codemirror_mode": {
    "name": "ipython",
    "version": 3
   },
   "file_extension": ".py",
   "mimetype": "text/x-python",
   "name": "python",
   "nbconvert_exporter": "python",
   "pygments_lexer": "ipython3",
   "version": "3.8.8"
  }
 },
 "nbformat": 4,
 "nbformat_minor": 5
}
