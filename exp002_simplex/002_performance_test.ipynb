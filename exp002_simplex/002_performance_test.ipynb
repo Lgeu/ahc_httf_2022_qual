{
 "cells": [
  {
   "cell_type": "code",
   "execution_count": 1,
   "id": "31d03a7d",
   "metadata": {},
   "outputs": [],
   "source": [
    "from time import time\n",
    "import subprocess\n",
    "\n",
    "import numpy as np\n",
    "import matplotlib.pyplot as plt"
   ]
  },
  {
   "cell_type": "code",
   "execution_count": 36,
   "id": "5227accf",
   "metadata": {},
   "outputs": [
    {
     "data": {
      "text/plain": [
       "array([[ 97,  46,  15, ...,  61,  44,  81],\n",
       "       [ 75,  36,  66, ...,  11,  53,  15],\n",
       "       [ 36, 104,  84, ..., 105,  52,  82],\n",
       "       ...,\n",
       "       [253,  59, 108, ..., 251,  91, 162],\n",
       "       [257,  61, 268, ..., 260, 103, 201],\n",
       "       [ 31, 133,   8, ...,  84, 104, 150]])"
      ]
     },
     "execution_count": 36,
     "metadata": {},
     "output_type": "execute_result"
    }
   ],
   "source": [
    "n_tasks = 100\n",
    "n_members = 20\n",
    "t = np.random.randint(1, 100, (n_members, n_tasks))\n",
    "for i in range(n_members):\n",
    "    t[i] *= (10 + i)\n",
    "t[:] //= 10\n",
    "t"
   ]
  },
  {
   "cell_type": "code",
   "execution_count": 37,
   "id": "9d16649c",
   "metadata": {},
   "outputs": [],
   "source": [
    "n = n_tasks * n_members + 2\n",
    "m = n_tasks + n_members + 1\n",
    "with open(\"in2.txt\", \"w\") as f:\n",
    "    print(m, n, file=f)\n",
    "    c = np.zeros(n_tasks * n_members, dtype=np.int32)\n",
    "    print(*c, -1, 100000, file=f)\n",
    "    for i in range(n_members):\n",
    "        c = np.zeros(n_tasks * n_members, dtype=np.int32)\n",
    "        c[i*n_tasks:(i+1)*n_tasks] = t[i]\n",
    "        print(*c, -1, 0, 0, file=f)\n",
    "    for i in range(n_tasks):\n",
    "        c = np.zeros(n_tasks * n_members, dtype=np.int32)\n",
    "        c[i::n_tasks] = -1\n",
    "        print(*c, 0, 1, 0, file=f)\n",
    "    c = np.zeros(n_tasks * n_members, dtype=np.int32)\n",
    "    print(*c, 0, 1, 1, file=f)"
   ]
  },
  {
   "cell_type": "code",
   "execution_count": 4,
   "id": "a8ba8365",
   "metadata": {},
   "outputs": [],
   "source": [
    "!g++ -Wall simplex.cpp -Ofast -march=skylake -std=c++17"
   ]
  },
  {
   "cell_type": "code",
   "execution_count": 5,
   "id": "0652a3bf",
   "metadata": {},
   "outputs": [
    {
     "name": "stdout",
     "output_type": "stream",
     "text": [
      "100 0.0 0.0 0.05809640884399414\n",
      "200 0.0 0.0 0.06332111358642578\n",
      "300 84.4975 1.0 0.08086633682250977\n",
      "400 52.1196 1.0 0.10332393646240234\n",
      "500 45.3891 1.0 0.11351919174194336\n",
      "600 42.4348 1.0 0.12137413024902344\n",
      "700 42.4348 1.0 0.12128591537475586\n",
      "800 42.4348 1.0 0.12197542190551758\n",
      "900 42.4348 1.0 0.12490987777709961\n",
      "1000 42.4348 1.0 0.1268923282623291\n"
     ]
    }
   ],
   "source": [
    "for max_iter in range(100, 1001, 100):\n",
    "    t0 = time()\n",
    "    subprocess.run(f\"./a.out {max_iter} < in2.txt > out2.txt\", shell=True)\n",
    "    t1 = time() - t0\n",
    "    res = !cat out2.txt\n",
    "    res = list(map(float, res[1].split()))\n",
    "    X, target, v = res[:-2], res[-2], res[-1]\n",
    "    print(max_iter, target, v, t1)"
   ]
  },
  {
   "cell_type": "code",
   "execution_count": 6,
   "id": "56245173",
   "metadata": {},
   "outputs": [],
   "source": [
    "# %%time\n",
    "# max_iter = 500\n",
    "# subprocess.run(f\"./a.out {max_iter} < in2.txt > out2.txt\", shell=True)"
   ]
  },
  {
   "cell_type": "code",
   "execution_count": 7,
   "id": "7351bb2e",
   "metadata": {},
   "outputs": [],
   "source": [
    "res = !cat out2.txt\n",
    "res = list(map(float, res[1].split()))"
   ]
  },
  {
   "cell_type": "code",
   "execution_count": 8,
   "id": "2ab30e86",
   "metadata": {},
   "outputs": [
    {
     "data": {
      "text/plain": [
       "(42.4348, 1.0)"
      ]
     },
     "execution_count": 8,
     "metadata": {},
     "output_type": "execute_result"
    }
   ],
   "source": [
    "X, target, v = res[:-2], res[-2], res[-1]\n",
    "target, v"
   ]
  },
  {
   "cell_type": "code",
   "execution_count": null,
   "id": "657efc36",
   "metadata": {},
   "outputs": [],
   "source": []
  }
 ],
 "metadata": {
  "kernelspec": {
   "display_name": "Python 3",
   "language": "python",
   "name": "python3"
  },
  "language_info": {
   "codemirror_mode": {
    "name": "ipython",
    "version": 3
   },
   "file_extension": ".py",
   "mimetype": "text/x-python",
   "name": "python",
   "nbconvert_exporter": "python",
   "pygments_lexer": "ipython3",
   "version": "3.8.8"
  }
 },
 "nbformat": 4,
 "nbformat_minor": 5
}
