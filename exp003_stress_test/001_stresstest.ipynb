{
 "cells": [
  {
   "cell_type": "code",
   "execution_count": 1,
   "id": "9a1a3e0f",
   "metadata": {},
   "outputs": [],
   "source": [
    "from subprocess import Popen, PIPE\n",
    "\n",
    "import numpy as np"
   ]
  },
  {
   "cell_type": "code",
   "execution_count": 2,
   "id": "e86230f5",
   "metadata": {},
   "outputs": [
    {
     "name": "stdout",
     "output_type": "stream",
     "text": [
      "a.out  main.cpp  out.txt  perf.data  perf.data.old\r\n"
     ]
    }
   ],
   "source": [
    "!ls ../answer/"
   ]
  },
  {
   "cell_type": "code",
   "execution_count": 3,
   "id": "3d271d51",
   "metadata": {
    "scrolled": true
   },
   "outputs": [
    {
     "name": "stdout",
     "output_type": "stream",
     "text": [
      "0000\n",
      "['[simplex] iteration = 820', '[simplex] iteration = 967', '[simplex] iteration = 937', '[simplex] iteration = 975', '[simplex] iteration = 1050', '[simplex] iteration = 950', '[simplex] iteration = 981', '[simplex] iteration = 902', '[simplex] iteration = 989', '[simplex] iteration = 965', '[simplex] iteration = 1016', '[simplex] iteration = 974', '[simplex] iteration = 984', '[simplex] iteration = 982', '[simplex] iteration = 970', '[simplex] iteration = 927', '[simplex] iteration = 737', '[simplex] iteration = 829', '[simplex] iteration = 922', '[simplex] iteration = 629', '[simplex] iteration = 896', '[simplex] iteration = 857', '[simplex] iteration = 248', '[simplex] iteration = 47', 'Score = 2200', 'real 0.99', 'user 0.96', 'sys 0.13']\n",
      "0001\n",
      "['[simplex] iteration = 928', '[simplex] iteration = 994', '[simplex] iteration = 993', '[simplex] iteration = 946', '[simplex] iteration = 1078', '[simplex] iteration = 947', '[simplex] iteration = 765', '[simplex] iteration = 768', '[simplex] iteration = 707', '[simplex] iteration = 754', '[simplex] iteration = 768', '[simplex] iteration = 731', '[simplex] iteration = 794', '[simplex] iteration = 644', '[simplex] iteration = 724', '[simplex] iteration = 772', '[simplex] iteration = 884', '[simplex] iteration = 735', '[simplex] iteration = 803', '[simplex] iteration = 849', '[simplex] iteration = 696', '[simplex] iteration = 764', '[simplex] iteration = 666', '[simplex] iteration = 154', 'Score = 1722', 'real 0.81', 'user 0.74', 'sys 0.16']\n",
      "0002\n",
      "['[simplex] iteration = 859', '[simplex] iteration = 941', '[simplex] iteration = 987', '[simplex] iteration = 832', '[simplex] iteration = 966', '[simplex] iteration = 1004', '[simplex] iteration = 918', '[simplex] iteration = 933', '[simplex] iteration = 973', '[simplex] iteration = 970', '[simplex] iteration = 988', '[simplex] iteration = 746', '[simplex] iteration = 926', '[simplex] iteration = 803', '[simplex] iteration = 773', '[simplex] iteration = 991', '[simplex] iteration = 780', '[simplex] iteration = 714', '[simplex] iteration = 1015', '[simplex] iteration = 639', '[simplex] iteration = 977', '[simplex] iteration = 702', '[simplex] iteration = 415', '[simplex] iteration = 44', 'Score = 2406', 'real 0.97', 'user 0.97', 'sys 0.09']\n",
      "0003\n",
      "['[simplex] iteration = 893', '[simplex] iteration = 871', '[simplex] iteration = 870', '[simplex] iteration = 927', '[simplex] iteration = 848', '[simplex] iteration = 858', '[simplex] iteration = 955', '[simplex] iteration = 911', '[simplex] iteration = 920', '[simplex] iteration = 929', '[simplex] iteration = 1028', '[simplex] iteration = 883', '[simplex] iteration = 982', '[simplex] iteration = 985', '[simplex] iteration = 952', '[simplex] iteration = 903', '[simplex] iteration = 1020', '[simplex] iteration = 951', '[simplex] iteration = 817', '[simplex] iteration = 815', '[simplex] iteration = 773', '[simplex] iteration = 729', '[simplex] iteration = 424', '[simplex] iteration = 81', 'Score = 2079', 'real 1.07', 'user 1.02', 'sys 0.16']\n",
      "0004\n",
      "['[simplex] iteration = 669', '[simplex] iteration = 659', '[simplex] iteration = 766', '[simplex] iteration = 758', '[simplex] iteration = 728', '[simplex] iteration = 737', '[simplex] iteration = 723', '[simplex] iteration = 686', '[simplex] iteration = 751', '[simplex] iteration = 745', '[simplex] iteration = 761', '[simplex] iteration = 702', '[simplex] iteration = 533', '[simplex] iteration = 515', '[simplex] iteration = 512', '[simplex] iteration = 543', '[simplex] iteration = 495', '[simplex] iteration = 506', '[simplex] iteration = 528', '[simplex] iteration = 510', '[simplex] iteration = 567', '[simplex] iteration = 598', '[simplex] iteration = 363', '[simplex] iteration = 218', 'Score = 1656', 'real 0.75', 'user 0.73', 'sys 0.10']\n",
      "0005\n",
      "['[simplex] iteration = 896', '[simplex] iteration = 794', '[simplex] iteration = 719', '[simplex] iteration = 670', '[simplex] iteration = 595', '[simplex] iteration = 643', '[simplex] iteration = 778', '[simplex] iteration = 776', '[simplex] iteration = 743', '[simplex] iteration = 793', '[simplex] iteration = 741', '[simplex] iteration = 685', '[simplex] iteration = 611', '[simplex] iteration = 654', '[simplex] iteration = 713', '[simplex] iteration = 733', '[simplex] iteration = 755', '[simplex] iteration = 569', '[simplex] iteration = 663', '[simplex] iteration = 711', '[simplex] iteration = 667', '[simplex] iteration = 728', '[simplex] iteration = 693', '[simplex] iteration = 152', 'Score = 1254', 'real 0.69', 'user 0.65', 'sys 0.11']\n",
      "0006\n",
      "['[simplex] iteration = 949', '[simplex] iteration = 887', '[simplex] iteration = 1027', '[simplex] iteration = 1132', '[simplex] iteration = 1074', '[simplex] iteration = 1098', '[simplex] iteration = 1075', '[simplex] iteration = 1006', '[simplex] iteration = 541', '[simplex] iteration = 799', '[simplex] iteration = 804', '[simplex] iteration = 612', '[simplex] iteration = 815', '[simplex] iteration = 670', '[simplex] iteration = 761', '[simplex] iteration = 827', '[simplex] iteration = 864', '[simplex] iteration = 755', '[simplex] iteration = 555', '[simplex] iteration = 744', '[simplex] iteration = 619', '[simplex] iteration = 506', '[simplex] iteration = 518', '[simplex] iteration = 146', 'Score = 1945', 'real 0.85', 'user 0.84', 'sys 0.10']\n",
      "0007\n",
      "['[simplex] iteration = 896', '[simplex] iteration = 898', '[simplex] iteration = 903', '[simplex] iteration = 741', '[simplex] iteration = 888', '[simplex] iteration = 691', '[simplex] iteration = 737', '[simplex] iteration = 670', '[simplex] iteration = 655', '[simplex] iteration = 686', '[simplex] iteration = 824', '[simplex] iteration = 754', '[simplex] iteration = 758', '[simplex] iteration = 837', '[simplex] iteration = 628', '[simplex] iteration = 815', '[simplex] iteration = 733', '[simplex] iteration = 669', '[simplex] iteration = 694', '[simplex] iteration = 717', '[simplex] iteration = 531', '[simplex] iteration = 776', '[simplex] iteration = 530', '[simplex] iteration = 217', 'Score = 1553', 'real 0.74', 'user 0.73', 'sys 0.10']\n",
      "0008\n",
      "['[simplex] iteration = 967', '[simplex] iteration = 1010', '[simplex] iteration = 998', '[simplex] iteration = 1021', '[simplex] iteration = 1037', '[simplex] iteration = 975', '[simplex] iteration = 992', '[simplex] iteration = 1033', '[simplex] iteration = 959', '[simplex] iteration = 1051', '[simplex] iteration = 990', '[simplex] iteration = 752', '[simplex] iteration = 634', '[simplex] iteration = 814', '[simplex] iteration = 800', '[simplex] iteration = 806', '[simplex] iteration = 664', '[simplex] iteration = 720', '[simplex] iteration = 727', '[simplex] iteration = 751', '[simplex] iteration = 912', '[simplex] iteration = 840', '[simplex] iteration = 688', '[simplex] iteration = 90', 'Score = 2171', 'real 0.93', 'user 0.92', 'sys 0.12']\n",
      "0009\n",
      "['[simplex] iteration = 927', '[simplex] iteration = 906', '[simplex] iteration = 969', '[simplex] iteration = 920', '[simplex] iteration = 979', '[simplex] iteration = 897', '[simplex] iteration = 969', '[simplex] iteration = 894', '[simplex] iteration = 907', '[simplex] iteration = 939', '[simplex] iteration = 898', '[simplex] iteration = 886', '[simplex] iteration = 999', '[simplex] iteration = 964', '[simplex] iteration = 932', '[simplex] iteration = 845', '[simplex] iteration = 1030', '[simplex] iteration = 1006', '[simplex] iteration = 1002', '[simplex] iteration = 690', '[simplex] iteration = 906', '[simplex] iteration = 629', '[simplex] iteration = 397', '[simplex] iteration = 73', 'Score = 2285', 'real 1.03', 'user 1.00', 'sys 0.13']\n",
      "0010\n",
      "['[simplex] iteration = 726', '[simplex] iteration = 720', '[simplex] iteration = 694', '[simplex] iteration = 706', '[simplex] iteration = 692', '[simplex] iteration = 728', '[simplex] iteration = 687', '[simplex] iteration = 767', '[simplex] iteration = 747', '[simplex] iteration = 783', '[simplex] iteration = 750', '[simplex] iteration = 717', '[simplex] iteration = 729', '[simplex] iteration = 688', '[simplex] iteration = 723', '[simplex] iteration = 427', '[simplex] iteration = 559', '[simplex] iteration = 284', '[simplex] iteration = 642', '[simplex] iteration = 584', '[simplex] iteration = 465', '[simplex] iteration = 558', '[simplex] iteration = 229', '[simplex] iteration = 78', 'Score = 2171', 'real 0.73', 'user 0.70', 'sys 0.10']\n",
      "0011\n"
     ]
    },
    {
     "name": "stdout",
     "output_type": "stream",
     "text": [
      "['[simplex] iteration = 879', '[simplex] iteration = 1049', '[simplex] iteration = 886', '[simplex] iteration = 727', '[simplex] iteration = 735', '[simplex] iteration = 789', '[simplex] iteration = 766', '[simplex] iteration = 720', '[simplex] iteration = 614', '[simplex] iteration = 793', '[simplex] iteration = 767', '[simplex] iteration = 848', '[simplex] iteration = 716', '[simplex] iteration = 796', '[simplex] iteration = 630', '[simplex] iteration = 740', '[simplex] iteration = 805', '[simplex] iteration = 830', '[simplex] iteration = 789', '[simplex] iteration = 734', '[simplex] iteration = 755', '[simplex] iteration = 724', '[simplex] iteration = 661', '[simplex] iteration = 208', 'Score = 1492', 'real 0.85', 'user 0.83', 'sys 0.10']\n",
      "0012\n",
      "['[simplex] iteration = 909', '[simplex] iteration = 923', '[simplex] iteration = 885', '[simplex] iteration = 824', '[simplex] iteration = 864', '[simplex] iteration = 877', '[simplex] iteration = 842', '[simplex] iteration = 875', '[simplex] iteration = 818', '[simplex] iteration = 876', '[simplex] iteration = 836', '[simplex] iteration = 899', '[simplex] iteration = 785', '[simplex] iteration = 834', '[simplex] iteration = 722', '[simplex] iteration = 837', '[simplex] iteration = 684', '[simplex] iteration = 763', '[simplex] iteration = 620', '[simplex] iteration = 599', '[simplex] iteration = 700', '[simplex] iteration = 318', '[simplex] iteration = 548', '[simplex] iteration = 180', 'Score = 1950', 'real 0.96', 'user 0.93', 'sys 0.12']\n",
      "0013\n",
      "['[simplex] iteration = 856', '[simplex] iteration = 861', '[simplex] iteration = 829', '[simplex] iteration = 842', '[simplex] iteration = 889', '[simplex] iteration = 827', '[simplex] iteration = 800', '[simplex] iteration = 881', '[simplex] iteration = 883', '[simplex] iteration = 777', '[simplex] iteration = 874', '[simplex] iteration = 825', '[simplex] iteration = 871', '[simplex] iteration = 861', '[simplex] iteration = 779', '[simplex] iteration = 771', '[simplex] iteration = 927', '[simplex] iteration = 843', '[simplex] iteration = 816', '[simplex] iteration = 816', '[simplex] iteration = 721', '[simplex] iteration = 790', '[simplex] iteration = 198', '[simplex] iteration = 35', 'Score = 2109', 'real 1.87', 'user 1.83', 'sys 0.27']\n",
      "0014\n",
      "['[simplex] iteration = 922', '[simplex] iteration = 979', '[simplex] iteration = 930', '[simplex] iteration = 1021', '[simplex] iteration = 1081', '[simplex] iteration = 973', '[simplex] iteration = 1140', '[simplex] iteration = 1031', '[simplex] iteration = 1041', '[simplex] iteration = 957', '[simplex] iteration = 1056', '[simplex] iteration = 1068', '[simplex] iteration = 894', '[simplex] iteration = 702', '[simplex] iteration = 793', '[simplex] iteration = 904', '[simplex] iteration = 947', '[simplex] iteration = 792', '[simplex] iteration = 759', '[simplex] iteration = 766', '[simplex] iteration = 827', '[simplex] iteration = 767', '[simplex] iteration = 678', '[simplex] iteration = 193', 'Score = 1834', 'real 1.06', 'user 1.02', 'sys 0.15']\n",
      "0015\n",
      "['[simplex] iteration = 862', '[simplex] iteration = 861', '[simplex] iteration = 848', '[simplex] iteration = 768', '[simplex] iteration = 804', '[simplex] iteration = 854', '[simplex] iteration = 838', '[simplex] iteration = 821', '[simplex] iteration = 886', '[simplex] iteration = 880', '[simplex] iteration = 922', '[simplex] iteration = 956', '[simplex] iteration = 860', '[simplex] iteration = 895', '[simplex] iteration = 909', '[simplex] iteration = 864', '[simplex] iteration = 713', '[simplex] iteration = 543', '[simplex] iteration = 676', '[simplex] iteration = 671', '[simplex] iteration = 656', '[simplex] iteration = 668', '[simplex] iteration = 636', '[simplex] iteration = 140', 'Score = 1732', 'real 0.91', 'user 0.88', 'sys 0.13']\n",
      "0016\n",
      "['[simplex] iteration = 889', '[simplex] iteration = 950', '[simplex] iteration = 910', '[simplex] iteration = 941', '[simplex] iteration = 1009', '[simplex] iteration = 976', '[simplex] iteration = 949', '[simplex] iteration = 1031', '[simplex] iteration = 896', '[simplex] iteration = 927', '[simplex] iteration = 937', '[simplex] iteration = 1002', '[simplex] iteration = 1034', '[simplex] iteration = 1020', '[simplex] iteration = 820', '[simplex] iteration = 715', '[simplex] iteration = 716', '[simplex] iteration = 725', '[simplex] iteration = 763', '[simplex] iteration = 654', '[simplex] iteration = 851', '[simplex] iteration = 709', '[simplex] iteration = 463', '[simplex] iteration = 145', 'Score = 1825', 'real 0.96', 'user 0.95', 'sys 0.11']\n",
      "0017\n",
      "['[simplex] iteration = 798', '[simplex] iteration = 841', '[simplex] iteration = 918', '[simplex] iteration = 953', '[simplex] iteration = 899', '[simplex] iteration = 949', '[simplex] iteration = 983', '[simplex] iteration = 1010', '[simplex] iteration = 1026', '[simplex] iteration = 1107', '[simplex] iteration = 1081', '[simplex] iteration = 1009', '[simplex] iteration = 986', '[simplex] iteration = 983', '[simplex] iteration = 953', '[simplex] iteration = 1034', '[simplex] iteration = 992', '[simplex] iteration = 1052', '[simplex] iteration = 1042', '[simplex] iteration = 1062', '[simplex] iteration = 1076', '[simplex] iteration = 1020', '[simplex] iteration = 659', '[simplex] iteration = 167', 'Score = 2184', 'real 1.27', 'user 1.27', 'sys 0.12']\n",
      "0018\n",
      "['[simplex] iteration = 944', '[simplex] iteration = 880', '[simplex] iteration = 919', '[simplex] iteration = 848', '[simplex] iteration = 534', '[simplex] iteration = 591', '[simplex] iteration = 687', '[simplex] iteration = 610', '[simplex] iteration = 642', '[simplex] iteration = 673', '[simplex] iteration = 686', '[simplex] iteration = 674', '[simplex] iteration = 390', '[simplex] iteration = 555', '[simplex] iteration = 726', '[simplex] iteration = 721', '[simplex] iteration = 695', '[simplex] iteration = 678', '[simplex] iteration = 628', '[simplex] iteration = 517', '[simplex] iteration = 620', '[simplex] iteration = 655', '[simplex] iteration = 640', '[simplex] iteration = 112', 'Score = 1715', 'real 0.64', 'user 0.59', 'sys 0.13']\n",
      "0019\n",
      "['[simplex] iteration = 924', '[simplex] iteration = 709', '[simplex] iteration = 774', '[simplex] iteration = 749', '[simplex] iteration = 702', '[simplex] iteration = 604', '[simplex] iteration = 786', '[simplex] iteration = 766', '[simplex] iteration = 773', '[simplex] iteration = 764', '[simplex] iteration = 822', '[simplex] iteration = 762', '[simplex] iteration = 798', '[simplex] iteration = 563', '[simplex] iteration = 830', '[simplex] iteration = 747', '[simplex] iteration = 791', '[simplex] iteration = 513', '[simplex] iteration = 831', '[simplex] iteration = 683', '[simplex] iteration = 767', '[simplex] iteration = 817', '[simplex] iteration = 701', '[simplex] iteration = 287', 'Score = 1322', 'real 0.78', 'user 0.76', 'sys 0.10']\n",
      "0020\n",
      "['[simplex] iteration = 714', '[simplex] iteration = 691', '[simplex] iteration = 708', '[simplex] iteration = 764', '[simplex] iteration = 733', '[simplex] iteration = 732', '[simplex] iteration = 803', '[simplex] iteration = 714', '[simplex] iteration = 709', '[simplex] iteration = 815', '[simplex] iteration = 577', '[simplex] iteration = 729', '[simplex] iteration = 753', '[simplex] iteration = 707', '[simplex] iteration = 446', '[simplex] iteration = 513', '[simplex] iteration = 575', '[simplex] iteration = 601', '[simplex] iteration = 501', '[simplex] iteration = 562', '[simplex] iteration = 574', '[simplex] iteration = 264', '[simplex] iteration = 518', '[simplex] iteration = 67', 'Score = 2186', 'real 1.64', 'user 1.59', 'sys 0.23']\n",
      "0021\n",
      "['[simplex] iteration = 872', '[simplex] iteration = 897', '[simplex] iteration = 915', '[simplex] iteration = 972', '[simplex] iteration = 952', '[simplex] iteration = 942', '[simplex] iteration = 953', '[simplex] iteration = 946', '[simplex] iteration = 996', '[simplex] iteration = 933', '[simplex] iteration = 1007', '[simplex] iteration = 914', '[simplex] iteration = 980', '[simplex] iteration = 1036', '[simplex] iteration = 891', '[simplex] iteration = 911', '[simplex] iteration = 784', '[simplex] iteration = 961', '[simplex] iteration = 943', '[simplex] iteration = 634', '[simplex] iteration = 578', '[simplex] iteration = 998', '[simplex] iteration = 239', '[simplex] iteration = 70', 'Score = 2312', 'real 0.95', 'user 0.91', 'sys 0.13']\n",
      "0022\n"
     ]
    },
    {
     "name": "stdout",
     "output_type": "stream",
     "text": [
      "['[simplex] iteration = 848', '[simplex] iteration = 872', '[simplex] iteration = 878', '[simplex] iteration = 910', '[simplex] iteration = 918', '[simplex] iteration = 991', '[simplex] iteration = 791', '[simplex] iteration = 904', '[simplex] iteration = 903', '[simplex] iteration = 918', '[simplex] iteration = 937', '[simplex] iteration = 548', '[simplex] iteration = 401', '[simplex] iteration = 691', '[simplex] iteration = 587', '[simplex] iteration = 668', '[simplex] iteration = 723', '[simplex] iteration = 686', '[simplex] iteration = 753', '[simplex] iteration = 498', '[simplex] iteration = 790', '[simplex] iteration = 759', '[simplex] iteration = 644', '[simplex] iteration = 167', 'Score = 2043', 'real 0.79', 'user 0.76', 'sys 0.10']\n",
      "0023\n",
      "['[simplex] iteration = 845', '[simplex] iteration = 709', '[simplex] iteration = 669', '[simplex] iteration = 698', '[simplex] iteration = 731', '[simplex] iteration = 597', '[simplex] iteration = 657', '[simplex] iteration = 650', '[simplex] iteration = 637', '[simplex] iteration = 471', '[simplex] iteration = 412', '[simplex] iteration = 672', '[simplex] iteration = 467', '[simplex] iteration = 629', '[simplex] iteration = 558', '[simplex] iteration = 592', '[simplex] iteration = 664', '[simplex] iteration = 749', '[simplex] iteration = 751', '[simplex] iteration = 639', '[simplex] iteration = 493', '[simplex] iteration = 626', '[simplex] iteration = 598', '[simplex] iteration = 138', 'Score = 1619', 'real 0.64', 'user 0.61', 'sys 0.10']\n",
      "0024\n",
      "['[simplex] iteration = 929', '[simplex] iteration = 885', '[simplex] iteration = 938', '[simplex] iteration = 1018', '[simplex] iteration = 997', '[simplex] iteration = 1018', '[simplex] iteration = 1030', '[simplex] iteration = 995', '[simplex] iteration = 1012', '[simplex] iteration = 1051', '[simplex] iteration = 1064', '[simplex] iteration = 1074', '[simplex] iteration = 979', '[simplex] iteration = 942', '[simplex] iteration = 1030', '[simplex] iteration = 1028', '[simplex] iteration = 929', '[simplex] iteration = 903', '[simplex] iteration = 1024', '[simplex] iteration = 971', '[simplex] iteration = 775', '[simplex] iteration = 943', '[simplex] iteration = 504', '[simplex] iteration = 55', 'Score = 2210', 'real 1.09', 'user 1.08', 'sys 0.13']\n",
      "0025\n",
      "['[simplex] iteration = 839', '[simplex] iteration = 788', '[simplex] iteration = 771', '[simplex] iteration = 749', '[simplex] iteration = 830', '[simplex] iteration = 748', '[simplex] iteration = 713', '[simplex] iteration = 690', '[simplex] iteration = 786', '[simplex] iteration = 793', '[simplex] iteration = 813', '[simplex] iteration = 793', '[simplex] iteration = 808', '[simplex] iteration = 724', '[simplex] iteration = 831', '[simplex] iteration = 682', '[simplex] iteration = 604', '[simplex] iteration = 729', '[simplex] iteration = 532', '[simplex] iteration = 733', '[simplex] iteration = 769', '[simplex] iteration = 338', '[simplex] iteration = 198', '[simplex] iteration = 30', 'Score = 2272', 'real 0.91', 'user 0.89', 'sys 0.10']\n",
      "0026\n",
      "['[simplex] iteration = 954', '[simplex] iteration = 941', '[simplex] iteration = 853', '[simplex] iteration = 868', '[simplex] iteration = 982', '[simplex] iteration = 775', '[simplex] iteration = 716', '[simplex] iteration = 719', '[simplex] iteration = 750', '[simplex] iteration = 705', '[simplex] iteration = 752', '[simplex] iteration = 608', '[simplex] iteration = 663', '[simplex] iteration = 688', '[simplex] iteration = 797', '[simplex] iteration = 771', '[simplex] iteration = 564', '[simplex] iteration = 732', '[simplex] iteration = 718', '[simplex] iteration = 682', '[simplex] iteration = 754', '[simplex] iteration = 737', '[simplex] iteration = 508', '[simplex] iteration = 223', 'Score = 1129', 'real 0.78', 'user 0.74', 'sys 0.12']\n",
      "0027\n",
      "['[simplex] iteration = 1006', '[simplex] iteration = 1022', '[simplex] iteration = 990', '[simplex] iteration = 1011', '[simplex] iteration = 1009', '[simplex] iteration = 1113', '[simplex] iteration = 1022', '[simplex] iteration = 1015', '[simplex] iteration = 1084', '[simplex] iteration = 1024', '[simplex] iteration = 961', '[simplex] iteration = 928', '[simplex] iteration = 1034', '[simplex] iteration = 922', '[simplex] iteration = 894', '[simplex] iteration = 1059', '[simplex] iteration = 858', '[simplex] iteration = 962', '[simplex] iteration = 991', '[simplex] iteration = 995', '[simplex] iteration = 946', '[simplex] iteration = 934', '[simplex] iteration = 409', '[simplex] iteration = 139', 'Score = 2221', 'real 2.06', 'user 2.03', 'sys 0.27']\n",
      "0028\n",
      "['[simplex] iteration = 836', '[simplex] iteration = 828', '[simplex] iteration = 795', '[simplex] iteration = 780', '[simplex] iteration = 856', '[simplex] iteration = 885', '[simplex] iteration = 767', '[simplex] iteration = 817', '[simplex] iteration = 836', '[simplex] iteration = 878', '[simplex] iteration = 880', '[simplex] iteration = 849', '[simplex] iteration = 805', '[simplex] iteration = 824', '[simplex] iteration = 804', '[simplex] iteration = 880', '[simplex] iteration = 857', '[simplex] iteration = 866', '[simplex] iteration = 816', '[simplex] iteration = 846', '[simplex] iteration = 804', '[simplex] iteration = 755', '[simplex] iteration = 540', '[simplex] iteration = 38', 'Score = 2228', 'real 0.97', 'user 0.95', 'sys 0.11']\n",
      "0029\n",
      "['[simplex] iteration = 884', '[simplex] iteration = 1042', '[simplex] iteration = 1036', '[simplex] iteration = 981', '[simplex] iteration = 979', '[simplex] iteration = 793', '[simplex] iteration = 800', '[simplex] iteration = 766', '[simplex] iteration = 623', '[simplex] iteration = 761', '[simplex] iteration = 717', '[simplex] iteration = 620', '[simplex] iteration = 740', '[simplex] iteration = 755', '[simplex] iteration = 695', '[simplex] iteration = 701', '[simplex] iteration = 780', '[simplex] iteration = 768', '[simplex] iteration = 726', '[simplex] iteration = 722', '[simplex] iteration = 741', '[simplex] iteration = 727', '[simplex] iteration = 719', '[simplex] iteration = 216', 'Score = 1723', 'real 0.78', 'user 0.75', 'sys 0.11']\n",
      "0030\n",
      "['[simplex] iteration = 841', '[simplex] iteration = 801', '[simplex] iteration = 793', '[simplex] iteration = 843', '[simplex] iteration = 751', '[simplex] iteration = 701', '[simplex] iteration = 632', '[simplex] iteration = 619', '[simplex] iteration = 662', '[simplex] iteration = 472', '[simplex] iteration = 576', '[simplex] iteration = 591', '[simplex] iteration = 566', '[simplex] iteration = 784', '[simplex] iteration = 707', '[simplex] iteration = 480', '[simplex] iteration = 690', '[simplex] iteration = 550', '[simplex] iteration = 502', '[simplex] iteration = 453', '[simplex] iteration = 386', '[simplex] iteration = 734', '[simplex] iteration = 579', '[simplex] iteration = 190', 'Score = 1479', 'real 0.67', 'user 0.66', 'sys 0.07']\n",
      "0031\n",
      "['[simplex] iteration = 865', '[simplex] iteration = 943', '[simplex] iteration = 928', '[simplex] iteration = 955', '[simplex] iteration = 887', '[simplex] iteration = 916', '[simplex] iteration = 905', '[simplex] iteration = 954', '[simplex] iteration = 946', '[simplex] iteration = 924', '[simplex] iteration = 924', '[simplex] iteration = 987', '[simplex] iteration = 959', '[simplex] iteration = 842', '[simplex] iteration = 896', '[simplex] iteration = 945', '[simplex] iteration = 921', '[simplex] iteration = 935', '[simplex] iteration = 924', '[simplex] iteration = 901', '[simplex] iteration = 1004', '[simplex] iteration = 962', '[simplex] iteration = 392', '[simplex] iteration = 61', 'Score = 2086', 'real 1.00', 'user 1.02', 'sys 0.08']\n",
      "0032\n",
      "['[simplex] iteration = 890', '[simplex] iteration = 911', '[simplex] iteration = 810', '[simplex] iteration = 679', '[simplex] iteration = 727', '[simplex] iteration = 757', '[simplex] iteration = 782', '[simplex] iteration = 691', '[simplex] iteration = 516', '[simplex] iteration = 692', '[simplex] iteration = 672', '[simplex] iteration = 572', '[simplex] iteration = 664', '[simplex] iteration = 682', '[simplex] iteration = 744', '[simplex] iteration = 657', '[simplex] iteration = 744', '[simplex] iteration = 801', '[simplex] iteration = 774', '[simplex] iteration = 731', '[simplex] iteration = 761', '[simplex] iteration = 699', '[simplex] iteration = 637', '[simplex] iteration = 137', 'Score = 1273', 'real 0.73', 'user 0.67', 'sys 0.14']\n",
      "0033\n"
     ]
    },
    {
     "name": "stdout",
     "output_type": "stream",
     "text": [
      "['[simplex] iteration = 867', '[simplex] iteration = 905', '[simplex] iteration = 909', '[simplex] iteration = 793', '[simplex] iteration = 818', '[simplex] iteration = 590', '[simplex] iteration = 662', '[simplex] iteration = 608', '[simplex] iteration = 597', '[simplex] iteration = 711', '[simplex] iteration = 596', '[simplex] iteration = 518', '[simplex] iteration = 562', '[simplex] iteration = 447', '[simplex] iteration = 560', '[simplex] iteration = 603', '[simplex] iteration = 580', '[simplex] iteration = 740', '[simplex] iteration = 684', '[simplex] iteration = 641', '[simplex] iteration = 641', '[simplex] iteration = 424', '[simplex] iteration = 634', '[simplex] iteration = 98', 'Score = 1775', 'real 0.65', 'user 0.63', 'sys 0.08']\n",
      "0034\n",
      "['[simplex] iteration = 903', '[simplex] iteration = 943', '[simplex] iteration = 924', '[simplex] iteration = 905', '[simplex] iteration = 939', '[simplex] iteration = 936', '[simplex] iteration = 922', '[simplex] iteration = 805', '[simplex] iteration = 692', '[simplex] iteration = 813', '[simplex] iteration = 689', '[simplex] iteration = 585', '[simplex] iteration = 901', '[simplex] iteration = 750', '[simplex] iteration = 579', '[simplex] iteration = 719', '[simplex] iteration = 791', '[simplex] iteration = 734', '[simplex] iteration = 764', '[simplex] iteration = 487', '[simplex] iteration = 858', '[simplex] iteration = 727', '[simplex] iteration = 655', '[simplex] iteration = 135', 'Score = 1687', 'real 1.80', 'user 1.74', 'sys 0.27']\n",
      "0035\n",
      "['[simplex] iteration = 1035', '[simplex] iteration = 1094', '[simplex] iteration = 1060', '[simplex] iteration = 1142', '[simplex] iteration = 1199', '[simplex] iteration = 1026', '[simplex] iteration = 1143', '[simplex] iteration = 1308', '[simplex] iteration = 1077', '[simplex] iteration = 1043', '[simplex] iteration = 1149', '[simplex] iteration = 1158', '[simplex] iteration = 1167', '[simplex] iteration = 1185', '[simplex] iteration = 1183', '[simplex] iteration = 1170', '[simplex] iteration = 906', '[simplex] iteration = 1007', '[simplex] iteration = 812', '[simplex] iteration = 689', '[simplex] iteration = 888', '[simplex] iteration = 906', '[simplex] iteration = 544', '[simplex] iteration = 132', 'Score = 2235', 'real 1.21', 'user 1.19', 'sys 0.13']\n",
      "0036\n",
      "['[simplex] iteration = 930', '[simplex] iteration = 936', '[simplex] iteration = 835', '[simplex] iteration = 660', '[simplex] iteration = 754', '[simplex] iteration = 643', '[simplex] iteration = 689', '[simplex] iteration = 764', '[simplex] iteration = 701', '[simplex] iteration = 634', '[simplex] iteration = 731', '[simplex] iteration = 616', '[simplex] iteration = 762', '[simplex] iteration = 622', '[simplex] iteration = 469', '[simplex] iteration = 734', '[simplex] iteration = 741', '[simplex] iteration = 703', '[simplex] iteration = 501', '[simplex] iteration = 708', '[simplex] iteration = 696', '[simplex] iteration = 748', '[simplex] iteration = 793', '[simplex] iteration = 212', 'Score = 1384', 'real 0.77', 'user 0.74', 'sys 0.11']\n",
      "0037\n",
      "['[simplex] iteration = 826', '[simplex] iteration = 876', '[simplex] iteration = 1037', '[simplex] iteration = 980', '[simplex] iteration = 952', '[simplex] iteration = 790', '[simplex] iteration = 945', '[simplex] iteration = 958', '[simplex] iteration = 901', '[simplex] iteration = 515', '[simplex] iteration = 416', '[simplex] iteration = 744', '[simplex] iteration = 675', '[simplex] iteration = 704', '[simplex] iteration = 719', '[simplex] iteration = 797', '[simplex] iteration = 588', '[simplex] iteration = 702', '[simplex] iteration = 767', '[simplex] iteration = 656', '[simplex] iteration = 645', '[simplex] iteration = 669', '[simplex] iteration = 657', '[simplex] iteration = 166', 'Score = 1960', 'real 0.80', 'user 0.78', 'sys 0.11']\n",
      "0038\n",
      "['[simplex] iteration = 921', '[simplex] iteration = 934', '[simplex] iteration = 889', '[simplex] iteration = 932', '[simplex] iteration = 864', '[simplex] iteration = 900', '[simplex] iteration = 835', '[simplex] iteration = 954', '[simplex] iteration = 905', '[simplex] iteration = 892', '[simplex] iteration = 932', '[simplex] iteration = 877', '[simplex] iteration = 874', '[simplex] iteration = 879', '[simplex] iteration = 1014', '[simplex] iteration = 887', '[simplex] iteration = 946', '[simplex] iteration = 920', '[simplex] iteration = 890', '[simplex] iteration = 897', '[simplex] iteration = 884', '[simplex] iteration = 890', '[simplex] iteration = 404', '[simplex] iteration = 63', 'Score = 2209', 'real 0.96', 'user 0.94', 'sys 0.11']\n",
      "0039\n",
      "['[simplex] iteration = 862', '[simplex] iteration = 723', '[simplex] iteration = 641', '[simplex] iteration = 695', '[simplex] iteration = 681', '[simplex] iteration = 640', '[simplex] iteration = 639', '[simplex] iteration = 664', '[simplex] iteration = 608', '[simplex] iteration = 699', '[simplex] iteration = 660', '[simplex] iteration = 657', '[simplex] iteration = 703', '[simplex] iteration = 678', '[simplex] iteration = 637', '[simplex] iteration = 622', '[simplex] iteration = 601', '[simplex] iteration = 627', '[simplex] iteration = 683', '[simplex] iteration = 615', '[simplex] iteration = 619', '[simplex] iteration = 388', '[simplex] iteration = 504', '[simplex] iteration = 161', 'Score = 1293', 'real 0.70', 'user 0.65', 'sys 0.12']\n",
      "0040\n",
      "['[simplex] iteration = 757', '[simplex] iteration = 674', '[simplex] iteration = 687', '[simplex] iteration = 708', '[simplex] iteration = 671', '[simplex] iteration = 797', '[simplex] iteration = 689', '[simplex] iteration = 739', '[simplex] iteration = 720', '[simplex] iteration = 697', '[simplex] iteration = 524', '[simplex] iteration = 672', '[simplex] iteration = 646', '[simplex] iteration = 654', '[simplex] iteration = 694', '[simplex] iteration = 573', '[simplex] iteration = 534', '[simplex] iteration = 663', '[simplex] iteration = 603', '[simplex] iteration = 648', '[simplex] iteration = 659', '[simplex] iteration = 770', '[simplex] iteration = 396', '[simplex] iteration = 129', 'Score = 1573', 'real 0.72', 'user 0.68', 'sys 0.11']\n",
      "0041\n",
      "['[simplex] iteration = 869', '[simplex] iteration = 1007', '[simplex] iteration = 996', '[simplex] iteration = 1082', '[simplex] iteration = 1068', '[simplex] iteration = 1038', '[simplex] iteration = 1048', '[simplex] iteration = 1006', '[simplex] iteration = 1060', '[simplex] iteration = 988', '[simplex] iteration = 1004', '[simplex] iteration = 1027', '[simplex] iteration = 1006', '[simplex] iteration = 971', '[simplex] iteration = 1016', '[simplex] iteration = 1057', '[simplex] iteration = 989', '[simplex] iteration = 990', '[simplex] iteration = 1053', '[simplex] iteration = 870', '[simplex] iteration = 748', '[simplex] iteration = 806', '[simplex] iteration = 756', '[simplex] iteration = 195', 'Score = 2028', 'real 2.05', 'user 2.05', 'sys 0.25']\n",
      "0042\n",
      "['[simplex] iteration = 816', '[simplex] iteration = 831', '[simplex] iteration = 841', '[simplex] iteration = 920', '[simplex] iteration = 927', '[simplex] iteration = 943', '[simplex] iteration = 907', '[simplex] iteration = 881', '[simplex] iteration = 912', '[simplex] iteration = 857', '[simplex] iteration = 798', '[simplex] iteration = 693', '[simplex] iteration = 654', '[simplex] iteration = 699', '[simplex] iteration = 658', '[simplex] iteration = 683', '[simplex] iteration = 706', '[simplex] iteration = 694', '[simplex] iteration = 717', '[simplex] iteration = 697', '[simplex] iteration = 705', '[simplex] iteration = 699', '[simplex] iteration = 669', '[simplex] iteration = 191', 'Score = 1413', 'real 0.89', 'user 0.86', 'sys 0.11']\n",
      "0043\n",
      "['[simplex] iteration = 937', '[simplex] iteration = 984', '[simplex] iteration = 869', '[simplex] iteration = 927', '[simplex] iteration = 937', '[simplex] iteration = 818', '[simplex] iteration = 547', '[simplex] iteration = 458', '[simplex] iteration = 703', '[simplex] iteration = 607', '[simplex] iteration = 488', '[simplex] iteration = 725', '[simplex] iteration = 669', '[simplex] iteration = 465', '[simplex] iteration = 775', '[simplex] iteration = 677', '[simplex] iteration = 728', '[simplex] iteration = 671', '[simplex] iteration = 756', '[simplex] iteration = 477', '[simplex] iteration = 666', '[simplex] iteration = 638', '[simplex] iteration = 484', '[simplex] iteration = 86', 'Score = 1712', 'real 0.71', 'user 0.67', 'sys 0.12']\n",
      "0044\n"
     ]
    },
    {
     "name": "stdout",
     "output_type": "stream",
     "text": [
      "['[simplex] iteration = 835', '[simplex] iteration = 886', '[simplex] iteration = 882', '[simplex] iteration = 966', '[simplex] iteration = 993', '[simplex] iteration = 965', '[simplex] iteration = 952', '[simplex] iteration = 971', '[simplex] iteration = 874', '[simplex] iteration = 857', '[simplex] iteration = 794', '[simplex] iteration = 763', '[simplex] iteration = 860', '[simplex] iteration = 712', '[simplex] iteration = 732', '[simplex] iteration = 598', '[simplex] iteration = 657', '[simplex] iteration = 763', '[simplex] iteration = 662', '[simplex] iteration = 762', '[simplex] iteration = 715', '[simplex] iteration = 692', '[simplex] iteration = 622', '[simplex] iteration = 111', 'Score = 1923', 'real 0.81', 'user 0.81', 'sys 0.09']\n",
      "0045\n",
      "['[simplex] iteration = 859', '[simplex] iteration = 797', '[simplex] iteration = 875', '[simplex] iteration = 834', '[simplex] iteration = 877', '[simplex] iteration = 780', '[simplex] iteration = 791', '[simplex] iteration = 798', '[simplex] iteration = 776', '[simplex] iteration = 800', '[simplex] iteration = 874', '[simplex] iteration = 772', '[simplex] iteration = 859', '[simplex] iteration = 848', '[simplex] iteration = 871', '[simplex] iteration = 859', '[simplex] iteration = 781', '[simplex] iteration = 825', '[simplex] iteration = 768', '[simplex] iteration = 717', '[simplex] iteration = 776', '[simplex] iteration = 751', '[simplex] iteration = 440', '[simplex] iteration = 42', 'Score = 2043', 'real 0.92', 'user 0.89', 'sys 0.12']\n",
      "0046\n",
      "['[simplex] iteration = 919', '[simplex] iteration = 932', '[simplex] iteration = 956', '[simplex] iteration = 798', '[simplex] iteration = 488', '[simplex] iteration = 610', '[simplex] iteration = 755', '[simplex] iteration = 759', '[simplex] iteration = 611', '[simplex] iteration = 762', '[simplex] iteration = 697', '[simplex] iteration = 556', '[simplex] iteration = 737', '[simplex] iteration = 749', '[simplex] iteration = 820', '[simplex] iteration = 510', '[simplex] iteration = 597', '[simplex] iteration = 580', '[simplex] iteration = 586', '[simplex] iteration = 499', '[simplex] iteration = 753', '[simplex] iteration = 708', '[simplex] iteration = 834', '[simplex] iteration = 145', 'Score = 1642', 'real 0.69', 'user 0.67', 'sys 0.11']\n",
      "0047\n",
      "['[simplex] iteration = 900', '[simplex] iteration = 903', '[simplex] iteration = 919', '[simplex] iteration = 935', '[simplex] iteration = 937', '[simplex] iteration = 949', '[simplex] iteration = 889', '[simplex] iteration = 913', '[simplex] iteration = 1028', '[simplex] iteration = 1010', '[simplex] iteration = 967', '[simplex] iteration = 1067', '[simplex] iteration = 980', '[simplex] iteration = 1030', '[simplex] iteration = 991', '[simplex] iteration = 945', '[simplex] iteration = 976', '[simplex] iteration = 717', '[simplex] iteration = 720', '[simplex] iteration = 868', '[simplex] iteration = 846', '[simplex] iteration = 649', '[simplex] iteration = 679', '[simplex] iteration = 120', 'Score = 1947', 'real 1.07', 'user 1.04', 'sys 0.14']\n",
      "0048\n",
      "['[simplex] iteration = 918', '[simplex] iteration = 1022', '[simplex] iteration = 963', '[simplex] iteration = 992', '[simplex] iteration = 990', '[simplex] iteration = 1057', '[simplex] iteration = 1041', '[simplex] iteration = 1033', '[simplex] iteration = 1053', '[simplex] iteration = 1043', '[simplex] iteration = 1059', '[simplex] iteration = 1172', '[simplex] iteration = 1142', '[simplex] iteration = 1133', '[simplex] iteration = 1048', '[simplex] iteration = 1021', '[simplex] iteration = 1025', '[simplex] iteration = 1072', '[simplex] iteration = 1079', '[simplex] iteration = 1039', '[simplex] iteration = 766', '[simplex] iteration = 986', '[simplex] iteration = 392', '[simplex] iteration = 80', 'Score = 2286', 'real 2.15', 'user 2.11', 'sys 0.26']\n",
      "0049\n",
      "['[simplex] iteration = 1065', '[simplex] iteration = 1066', '[simplex] iteration = 1060', '[simplex] iteration = 1132', '[simplex] iteration = 1036', '[simplex] iteration = 1093', '[simplex] iteration = 1070', '[simplex] iteration = 1081', '[simplex] iteration = 1101', '[simplex] iteration = 1064', '[simplex] iteration = 1118', '[simplex] iteration = 1087', '[simplex] iteration = 1129', '[simplex] iteration = 1108', '[simplex] iteration = 1032', '[simplex] iteration = 1079', '[simplex] iteration = 1109', '[simplex] iteration = 1101', '[simplex] iteration = 1073', '[simplex] iteration = 703', '[simplex] iteration = 774', '[simplex] iteration = 647', '[simplex] iteration = 733', '[simplex] iteration = 203', 'Score = 1948', 'real 1.12', 'user 1.10', 'sys 0.12']\n"
     ]
    }
   ],
   "source": [
    "scores = []\n",
    "times = []\n",
    "for i in range(50):\n",
    "    i = f\"{i:04d}\"\n",
    "    print(i)\n",
    "    res = !time -p ../tools/target/release/tester ../answer/a.out < ../tools/in/{i}.txt > out.txt\n",
    "    \n",
    "    score = int(res[-4].split()[-1])\n",
    "    t = float(res[-3].split()[-1])\n",
    "    \n",
    "    scores.append(score)\n",
    "    times.append(t)\n",
    "    \n",
    "    print(res)"
   ]
  },
  {
   "cell_type": "code",
   "execution_count": 4,
   "id": "5715fdb0",
   "metadata": {},
   "outputs": [
    {
     "data": {
      "text/plain": [
       "1868.88"
      ]
     },
     "execution_count": 4,
     "metadata": {},
     "output_type": "execute_result"
    }
   ],
   "source": [
    "np.mean(scores)"
   ]
  },
  {
   "cell_type": "code",
   "execution_count": 5,
   "id": "c2b423a7",
   "metadata": {},
   "outputs": [
    {
     "data": {
      "text/plain": [
       "[0.99,\n",
       " 0.81,\n",
       " 0.97,\n",
       " 1.07,\n",
       " 0.75,\n",
       " 0.69,\n",
       " 0.85,\n",
       " 0.74,\n",
       " 0.93,\n",
       " 1.03,\n",
       " 0.73,\n",
       " 0.85,\n",
       " 0.96,\n",
       " 1.87,\n",
       " 1.06,\n",
       " 0.91,\n",
       " 0.96,\n",
       " 1.27,\n",
       " 0.64,\n",
       " 0.78,\n",
       " 1.64,\n",
       " 0.95,\n",
       " 0.79,\n",
       " 0.64,\n",
       " 1.09,\n",
       " 0.91,\n",
       " 0.78,\n",
       " 2.06,\n",
       " 0.97,\n",
       " 0.78,\n",
       " 0.67,\n",
       " 1.0,\n",
       " 0.73,\n",
       " 0.65,\n",
       " 1.8,\n",
       " 1.21,\n",
       " 0.77,\n",
       " 0.8,\n",
       " 0.96,\n",
       " 0.7,\n",
       " 0.72,\n",
       " 2.05,\n",
       " 0.89,\n",
       " 0.71,\n",
       " 0.81,\n",
       " 0.92,\n",
       " 0.69,\n",
       " 1.07,\n",
       " 2.15,\n",
       " 1.12]"
      ]
     },
     "execution_count": 5,
     "metadata": {},
     "output_type": "execute_result"
    }
   ],
   "source": [
    "times"
   ]
  },
  {
   "cell_type": "code",
   "execution_count": 6,
   "id": "72e27b56",
   "metadata": {},
   "outputs": [
    {
     "data": {
      "text/plain": [
       "93444.0"
      ]
     },
     "execution_count": 6,
     "metadata": {},
     "output_type": "execute_result"
    }
   ],
   "source": [
    "np.mean(scores) * 50"
   ]
  },
  {
   "cell_type": "code",
   "execution_count": 8,
   "id": "34becb42",
   "metadata": {},
   "outputs": [
    {
     "data": {
      "text/plain": [
       "26"
      ]
     },
     "execution_count": 8,
     "metadata": {},
     "output_type": "execute_result"
    }
   ],
   "source": [
    "np.argmin(scores)"
   ]
  },
  {
   "cell_type": "code",
   "execution_count": null,
   "id": "66ad73f1",
   "metadata": {},
   "outputs": [],
   "source": []
  }
 ],
 "metadata": {
  "kernelspec": {
   "display_name": "Python 3",
   "language": "python",
   "name": "python3"
  },
  "language_info": {
   "codemirror_mode": {
    "name": "ipython",
    "version": 3
   },
   "file_extension": ".py",
   "mimetype": "text/x-python",
   "name": "python",
   "nbconvert_exporter": "python",
   "pygments_lexer": "ipython3",
   "version": "3.8.8"
  }
 },
 "nbformat": 4,
 "nbformat_minor": 5
}
