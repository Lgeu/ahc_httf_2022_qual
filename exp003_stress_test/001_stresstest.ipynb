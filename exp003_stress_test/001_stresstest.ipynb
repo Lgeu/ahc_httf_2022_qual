{
 "cells": [
  {
   "cell_type": "code",
   "execution_count": 1,
   "id": "6791f7f4",
   "metadata": {},
   "outputs": [],
   "source": [
    "from subprocess import Popen, PIPE\n",
    "\n",
    "import numpy as np"
   ]
  },
  {
   "cell_type": "code",
   "execution_count": 2,
   "id": "ab7e7e9b",
   "metadata": {},
   "outputs": [
    {
     "name": "stdout",
     "output_type": "stream",
     "text": [
      "a.out  main.cpp  out.txt  perf.data  perf.data.old\r\n"
     ]
    }
   ],
   "source": [
    "!ls ../answer/"
   ]
  },
  {
   "cell_type": "code",
   "execution_count": null,
   "id": "1e0c841e",
   "metadata": {
    "scrolled": true
   },
   "outputs": [
    {
     "name": "stdout",
     "output_type": "stream",
     "text": [
      "0000\n",
      "['[simplex] iteration = 851', '[simplex] iteration = 852', '[simplex] iteration = 897', '[simplex] iteration = 936', '[simplex] iteration = 935', '[simplex] iteration = 896', '[simplex] iteration = 975', '[simplex] iteration = 962', '[simplex] iteration = 973', '[simplex] iteration = 926', '[simplex] iteration = 984', '[simplex] iteration = 976', '[simplex] iteration = 913', '[simplex] iteration = 1043', '[simplex] iteration = 995', '[simplex] iteration = 950', '[simplex] iteration = 963', '[simplex] iteration = 742', '[simplex] iteration = 880', '[simplex] iteration = 885', '[simplex] iteration = 783', '[simplex] iteration = 761', '[simplex] iteration = 386', '[simplex] iteration = 52', 'Score = 2219', 'real 0.99', 'user 0.97', 'sys 0.03']\n",
      "0001\n"
     ]
    }
   ],
   "source": [
    "scores = []\n",
    "times = []\n",
    "for i in range(50):\n",
    "    i = f\"{i:04d}\"\n",
    "    print(i)\n",
    "    res = !time -p ../tools/target/release/tester ../answer/a.out < ../tools/in/{i}.txt > out.txt\n",
    "    \n",
    "    score = int(res[-4].split()[-1])\n",
    "    t = float(res[-3].split()[-1])\n",
    "    \n",
    "    scores.append(score)\n",
    "    times.append(t)\n",
    "    \n",
    "    print(res)"
   ]
  },
  {
   "cell_type": "code",
   "execution_count": null,
   "id": "426fc8bf",
   "metadata": {},
   "outputs": [],
   "source": [
    "np.mean(scores), np.mean(scores) * 50"
   ]
  },
  {
   "cell_type": "code",
   "execution_count": 5,
   "id": "310de99b",
   "metadata": {},
   "outputs": [
    {
     "data": {
      "text/plain": [
       "[0.99,\n",
       " 0.76,\n",
       " 0.88,\n",
       " 0.98,\n",
       " 0.65,\n",
       " 0.64,\n",
       " 0.86,\n",
       " 0.58,\n",
       " 0.89,\n",
       " 0.99,\n",
       " 0.73,\n",
       " 0.63,\n",
       " 0.85,\n",
       " 0.88,\n",
       " 0.95,\n",
       " 0.89,\n",
       " 0.97,\n",
       " 1.11,\n",
       " 0.65,\n",
       " 0.71,\n",
       " 0.62,\n",
       " 1.0,\n",
       " 0.87,\n",
       " 0.56,\n",
       " 1.0,\n",
       " 0.78,\n",
       " 0.68,\n",
       " 1.09,\n",
       " 0.88,\n",
       " 0.76,\n",
       " 0.64,\n",
       " 0.98,\n",
       " 0.74,\n",
       " 0.61,\n",
       " 0.76,\n",
       " 1.07,\n",
       " 0.66,\n",
       " 0.71,\n",
       " 1.0,\n",
       " 0.61,\n",
       " 0.69,\n",
       " 0.93,\n",
       " 0.81,\n",
       " 0.73,\n",
       " 0.84,\n",
       " 0.83,\n",
       " 0.64,\n",
       " 1.06,\n",
       " 2.13,\n",
       " 1.06]"
      ]
     },
     "execution_count": 5,
     "metadata": {},
     "output_type": "execute_result"
    }
   ],
   "source": [
    "times"
   ]
  },
  {
   "cell_type": "code",
   "execution_count": 6,
   "id": "20de2178",
   "metadata": {},
   "outputs": [
    {
     "data": {
      "text/plain": [
       "102820.0"
      ]
     },
     "execution_count": 6,
     "metadata": {},
     "output_type": "execute_result"
    }
   ],
   "source": [
    "np.mean(scores) * 50"
   ]
  },
  {
   "cell_type": "code",
   "execution_count": 7,
   "id": "474e8f81",
   "metadata": {},
   "outputs": [
    {
     "data": {
      "text/plain": [
       "19"
      ]
     },
     "execution_count": 7,
     "metadata": {},
     "output_type": "execute_result"
    }
   ],
   "source": [
    "np.argmin(scores)"
   ]
  },
  {
   "cell_type": "code",
   "execution_count": 8,
   "id": "3fdb734a",
   "metadata": {},
   "outputs": [
    {
     "data": {
      "text/plain": [
       "(48, 2.13)"
      ]
     },
     "execution_count": 8,
     "metadata": {},
     "output_type": "execute_result"
    }
   ],
   "source": [
    "np.argmax(times), max(times)"
   ]
  },
  {
   "cell_type": "code",
   "execution_count": null,
   "id": "980e9690",
   "metadata": {},
   "outputs": [],
   "source": []
  }
 ],
 "metadata": {
  "kernelspec": {
   "display_name": "Python 3",
   "language": "python",
   "name": "python3"
  },
  "language_info": {
   "codemirror_mode": {
    "name": "ipython",
    "version": 3
   },
   "file_extension": ".py",
   "mimetype": "text/x-python",
   "name": "python",
   "nbconvert_exporter": "python",
   "pygments_lexer": "ipython3",
   "version": "3.8.8"
  }
 },
 "nbformat": 4,
 "nbformat_minor": 5
}
