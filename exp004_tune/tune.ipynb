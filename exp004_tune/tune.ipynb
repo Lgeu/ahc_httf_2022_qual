{
 "cells": [
  {
   "cell_type": "code",
   "execution_count": 1,
   "id": "7b8ba4a9",
   "metadata": {},
   "outputs": [],
   "source": [
    "#!git clone https://github.com/atcoder/ac-library.git"
   ]
  },
  {
   "cell_type": "code",
   "execution_count": null,
   "id": "6281f558",
   "metadata": {},
   "outputs": [],
   "source": []
  },
  {
   "cell_type": "code",
   "execution_count": 2,
   "id": "a3455e77",
   "metadata": {},
   "outputs": [],
   "source": [
    "import re\n",
    "import sys\n",
    "from time import sleep\n",
    "from pprint import pprint\n",
    "from pathlib import Path\n",
    "from functools import partial\n",
    "import subprocess\n",
    "from subprocess import PIPE\n",
    "\n",
    "import numpy as np\n",
    "import optuna\n",
    "import pandas as pd\n",
    "import matplotlib.pyplot as plt\n",
    "\n",
    "FILENAME = \"main.cpp\""
   ]
  },
  {
   "cell_type": "code",
   "execution_count": 3,
   "id": "48a659ef",
   "metadata": {},
   "outputs": [],
   "source": [
    "!cp ../answer/{FILENAME} ./{FILENAME}"
   ]
  },
  {
   "cell_type": "code",
   "execution_count": 4,
   "id": "e821a008",
   "metadata": {},
   "outputs": [],
   "source": [
    "!clang++ {FILENAME} -std=gnu++17 -Wall -Wextra -O2 -o {FILENAME}.out -I/"
   ]
  },
  {
   "cell_type": "code",
   "execution_count": 5,
   "id": "117ef21d",
   "metadata": {},
   "outputs": [],
   "source": [
    "SEED = 0\n",
    "N_TESTCASES = 500"
   ]
  },
  {
   "cell_type": "code",
   "execution_count": 6,
   "id": "4f1834e3",
   "metadata": {
    "scrolled": true
   },
   "outputs": [
    {
     "name": "stdout",
     "output_type": "stream",
     "text": [
      "\u001b[0m\u001b[0m\u001b[1m\u001b[32m    Updating\u001b[0m crates.io index\n",
      "\u001b[K\u001b[0m\u001b[0m\u001b[1m\u001b[32m  Downloaded\u001b[0m quote v0.6.13                                                    m\u001b[1m\u001b[36m       Fetch\u001b[0m [=======>                 ]  34.68%, 17.60MiB/s                  \n",
      "\u001b[K\u001b[0m\u001b[0m\u001b[1m\u001b[32m  Downloaded\u001b[0m syn v0.15.44                                                  \n",
      "\u001b[K\u001b[0m\u001b[0m\u001b[1m\u001b[32m  Downloaded\u001b[0m rand_chacha v0.2.2                                            \n",
      "\u001b[K\u001b[0m\u001b[0m\u001b[1m\u001b[32m  Downloaded\u001b[0m rand_pcg v0.2.1ng bytes: 182.6 KB                             \n",
      "\u001b[K\u001b[0m\u001b[0m\u001b[1m\u001b[32m  Downloaded\u001b[0m rand_core v0.5.1g bytes: 141.7 KB                             \n",
      "\u001b[K\u001b[0m\u001b[0m\u001b[1m\u001b[32m  Downloaded\u001b[0m rand_distr v0.2.2 bytes: 147.9 KB                             \n",
      "\u001b[K\u001b[0m\u001b[0m\u001b[1m\u001b[32m  Downloaded\u001b[0m unicode-xid v0.1.0bytes: 123.1 KB                             \n",
      "\u001b[K\u001b[0m\u001b[0m\u001b[1m\u001b[32m  Downloaded\u001b[0m proc-macro2 v0.4.30ytes: 109.7 KB                             \n",
      "\u001b[K\u001b[0m\u001b[0m\u001b[1m\u001b[32m  Downloaded\u001b[0m ppv-lite86 v0.2.10ytes: 60.6 KB                               \n",
      "\u001b[K\u001b[0m\u001b[0m\u001b[1m\u001b[32m  Downloaded\u001b[0m getrandom v0.1.16bytes: 44.3 KB                               \n",
      "\u001b[K\u001b[0m\u001b[0m\u001b[1m\u001b[32m  Downloaded\u001b[0m rand v0.7.3ining bytes: 11.5 KB                               \n",
      "\u001b[K\u001b[0m\u001b[0m\u001b[1m\u001b[32m  Downloaded\u001b[0m lazy_static v1.4.0                                            \n",
      "\u001b[K\u001b[0m\u001b[0m\u001b[1m\u001b[32m  Downloaded\u001b[0m cfg-if v1.0.0                                                 \n",
      "\u001b[K\u001b[0m\u001b[0m\u001b[1m\u001b[32m  Downloaded\u001b[0m libc v0.2.93ning bytes: 314.9 KB                              \n",
      "\u001b[K\u001b[0m\u001b[0m\u001b[1m\u001b[32m  Downloaded\u001b[0m proconio v0.3.6                                               \n",
      "\u001b[K\u001b[0m\u001b[0m\u001b[1m\u001b[32m  Downloaded\u001b[0m svg v0.9.1                                                    \n",
      "\u001b[K\u001b[0m\u001b[0m\u001b[1m\u001b[32m  Downloaded\u001b[0m proconio-derive v0.1.9                                        \n",
      "\u001b[K\u001b[0m\u001b[0m\u001b[1m\u001b[32m  Downloaded\u001b[0m 17 crates (1.1 MB) in 0.62s                                   \n",
      "\u001b[0m\u001b[0m\u001b[1m\u001b[32m   Compiling\u001b[0m libc v0.2.93\n",
      "\u001b[0m\u001b[0m\u001b[1m\u001b[32m   Compiling\u001b[0m getrandom v0.1.16\n",
      "\u001b[0m\u001b[0m\u001b[1m\u001b[32m   Compiling\u001b[0m cfg-if v1.0.0\n",
      "\u001b[0m\u001b[0m\u001b[1m\u001b[32m   Compiling\u001b[0m proc-macro2 v0.4.30\n",
      "\u001b[K\u001b[0m\u001b[0m\u001b[1m\u001b[32m   Compiling\u001b[0m unicode-xid v0.1.0        ] 0/27: getrandom(build.rs), cfg-...\n",
      "\u001b[K\u001b[0m\u001b[0m\u001b[1m\u001b[32m   Compiling\u001b[0m syn v0.15.44              ] 1/27: getrandom(build.rs), proc...\n",
      "\u001b[K\u001b[0m\u001b[0m\u001b[1m\u001b[32m   Compiling\u001b[0m ppv-lite86 v0.2.10        ] 2/27: syn(build.rs), getrandom(...\n",
      "\u001b[K\u001b[0m\u001b[0m\u001b[1m\u001b[32m   Compiling\u001b[0m lazy_static v1.4.0        ] 3/27: syn(build.rs), getrandom(...\n",
      "\u001b[K\u001b[0m\u001b[0m\u001b[1m\u001b[32m   Compiling\u001b[0m svg v0.9.1                ] 4/27: syn(build.rs), lazy_stati...\n",
      "\u001b[K\u001b[0m\u001b[0m\u001b[1m\u001b[32m   Compiling\u001b[0m quote v0.6.13            ] 12/27: libc, proc-macro2, svg      \n",
      "\u001b[K\u001b[0m\u001b[0m\u001b[1m\u001b[32m   Compiling\u001b[0m rand_core v0.5.1         ] 15/27: getrandom, syn, svg         \n",
      "\u001b[K\u001b[0m\u001b[0m\u001b[1m\u001b[32m   Compiling\u001b[0m rand_pcg v0.2.1          ] 16/27: rand_core, syn, svg         \n",
      "\u001b[K\u001b[0m\u001b[0m\u001b[1m\u001b[32m   Compiling\u001b[0m rand_chacha v0.2.2       ] 17/27: syn, rand_pcg, svg          \n",
      "\u001b[K\u001b[0m\u001b[0m\u001b[1m\u001b[32m   Compiling\u001b[0m rand v0.7.3=====>        ] 19/27: syn, rand_chacha            \n",
      "\u001b[K\u001b[0m\u001b[0m\u001b[1m\u001b[32m   Compiling\u001b[0m rand_distr v0.2.2>       ] 20/27: rand, syn                   \n",
      "\u001b[K\u001b[0m\u001b[0m\u001b[1m\u001b[32m   Compiling\u001b[0m proconio-derive v0.1.9   ] 22/27: syn                         \n",
      "\u001b[K\u001b[0m\u001b[0m\u001b[1m\u001b[32m   Compiling\u001b[0m proconio v0.3.6=====>    ] 23/27: proconio-derive             \n",
      "\u001b[K\u001b[0m\u001b[0m\u001b[1m\u001b[32m   Compiling\u001b[0m tools v1.0.0 (/home/user/ahc_httf_2022_qual/tools)            \n",
      "\u001b[K\u001b[0m\u001b[0m\u001b[1m\u001b[32m    Finished\u001b[0m release [optimized] target(s) in 45.27sin)                    \n",
      "\u001b[0m\u001b[0m\u001b[1m\u001b[32m     Running\u001b[0m `/home/user/ahc_httf_2022_qual/tools/target/release/gen seeds.txt`\n",
      "0000.txt  0063.txt  0126.txt  0189.txt\t0252.txt  0315.txt  0378.txt  0441.txt\n",
      "0001.txt  0064.txt  0127.txt  0190.txt\t0253.txt  0316.txt  0379.txt  0442.txt\n",
      "0002.txt  0065.txt  0128.txt  0191.txt\t0254.txt  0317.txt  0380.txt  0443.txt\n",
      "0003.txt  0066.txt  0129.txt  0192.txt\t0255.txt  0318.txt  0381.txt  0444.txt\n",
      "0004.txt  0067.txt  0130.txt  0193.txt\t0256.txt  0319.txt  0382.txt  0445.txt\n",
      "0005.txt  0068.txt  0131.txt  0194.txt\t0257.txt  0320.txt  0383.txt  0446.txt\n",
      "0006.txt  0069.txt  0132.txt  0195.txt\t0258.txt  0321.txt  0384.txt  0447.txt\n",
      "0007.txt  0070.txt  0133.txt  0196.txt\t0259.txt  0322.txt  0385.txt  0448.txt\n",
      "0008.txt  0071.txt  0134.txt  0197.txt\t0260.txt  0323.txt  0386.txt  0449.txt\n",
      "0009.txt  0072.txt  0135.txt  0198.txt\t0261.txt  0324.txt  0387.txt  0450.txt\n",
      "0010.txt  0073.txt  0136.txt  0199.txt\t0262.txt  0325.txt  0388.txt  0451.txt\n",
      "0011.txt  0074.txt  0137.txt  0200.txt\t0263.txt  0326.txt  0389.txt  0452.txt\n",
      "0012.txt  0075.txt  0138.txt  0201.txt\t0264.txt  0327.txt  0390.txt  0453.txt\n",
      "0013.txt  0076.txt  0139.txt  0202.txt\t0265.txt  0328.txt  0391.txt  0454.txt\n",
      "0014.txt  0077.txt  0140.txt  0203.txt\t0266.txt  0329.txt  0392.txt  0455.txt\n",
      "0015.txt  0078.txt  0141.txt  0204.txt\t0267.txt  0330.txt  0393.txt  0456.txt\n",
      "0016.txt  0079.txt  0142.txt  0205.txt\t0268.txt  0331.txt  0394.txt  0457.txt\n",
      "0017.txt  0080.txt  0143.txt  0206.txt\t0269.txt  0332.txt  0395.txt  0458.txt\n",
      "0018.txt  0081.txt  0144.txt  0207.txt\t0270.txt  0333.txt  0396.txt  0459.txt\n",
      "0019.txt  0082.txt  0145.txt  0208.txt\t0271.txt  0334.txt  0397.txt  0460.txt\n",
      "0020.txt  0083.txt  0146.txt  0209.txt\t0272.txt  0335.txt  0398.txt  0461.txt\n",
      "0021.txt  0084.txt  0147.txt  0210.txt\t0273.txt  0336.txt  0399.txt  0462.txt\n",
      "0022.txt  0085.txt  0148.txt  0211.txt\t0274.txt  0337.txt  0400.txt  0463.txt\n",
      "0023.txt  0086.txt  0149.txt  0212.txt\t0275.txt  0338.txt  0401.txt  0464.txt\n",
      "0024.txt  0087.txt  0150.txt  0213.txt\t0276.txt  0339.txt  0402.txt  0465.txt\n",
      "0025.txt  0088.txt  0151.txt  0214.txt\t0277.txt  0340.txt  0403.txt  0466.txt\n",
      "0026.txt  0089.txt  0152.txt  0215.txt\t0278.txt  0341.txt  0404.txt  0467.txt\n",
      "0027.txt  0090.txt  0153.txt  0216.txt\t0279.txt  0342.txt  0405.txt  0468.txt\n",
      "0028.txt  0091.txt  0154.txt  0217.txt\t0280.txt  0343.txt  0406.txt  0469.txt\n",
      "0029.txt  0092.txt  0155.txt  0218.txt\t0281.txt  0344.txt  0407.txt  0470.txt\n",
      "0030.txt  0093.txt  0156.txt  0219.txt\t0282.txt  0345.txt  0408.txt  0471.txt\n",
      "0031.txt  0094.txt  0157.txt  0220.txt\t0283.txt  0346.txt  0409.txt  0472.txt\n",
      "0032.txt  0095.txt  0158.txt  0221.txt\t0284.txt  0347.txt  0410.txt  0473.txt\n",
      "0033.txt  0096.txt  0159.txt  0222.txt\t0285.txt  0348.txt  0411.txt  0474.txt\n",
      "0034.txt  0097.txt  0160.txt  0223.txt\t0286.txt  0349.txt  0412.txt  0475.txt\n",
      "0035.txt  0098.txt  0161.txt  0224.txt\t0287.txt  0350.txt  0413.txt  0476.txt\n",
      "0036.txt  0099.txt  0162.txt  0225.txt\t0288.txt  0351.txt  0414.txt  0477.txt\n",
      "0037.txt  0100.txt  0163.txt  0226.txt\t0289.txt  0352.txt  0415.txt  0478.txt\n",
      "0038.txt  0101.txt  0164.txt  0227.txt\t0290.txt  0353.txt  0416.txt  0479.txt\n",
      "0039.txt  0102.txt  0165.txt  0228.txt\t0291.txt  0354.txt  0417.txt  0480.txt\n",
      "0040.txt  0103.txt  0166.txt  0229.txt\t0292.txt  0355.txt  0418.txt  0481.txt\n",
      "0041.txt  0104.txt  0167.txt  0230.txt\t0293.txt  0356.txt  0419.txt  0482.txt\n",
      "0042.txt  0105.txt  0168.txt  0231.txt\t0294.txt  0357.txt  0420.txt  0483.txt\n",
      "0043.txt  0106.txt  0169.txt  0232.txt\t0295.txt  0358.txt  0421.txt  0484.txt\n",
      "0044.txt  0107.txt  0170.txt  0233.txt\t0296.txt  0359.txt  0422.txt  0485.txt\n",
      "0045.txt  0108.txt  0171.txt  0234.txt\t0297.txt  0360.txt  0423.txt  0486.txt\n",
      "0046.txt  0109.txt  0172.txt  0235.txt\t0298.txt  0361.txt  0424.txt  0487.txt\n",
      "0047.txt  0110.txt  0173.txt  0236.txt\t0299.txt  0362.txt  0425.txt  0488.txt\n",
      "0048.txt  0111.txt  0174.txt  0237.txt\t0300.txt  0363.txt  0426.txt  0489.txt\n",
      "0049.txt  0112.txt  0175.txt  0238.txt\t0301.txt  0364.txt  0427.txt  0490.txt\n",
      "0050.txt  0113.txt  0176.txt  0239.txt\t0302.txt  0365.txt  0428.txt  0491.txt\n",
      "0051.txt  0114.txt  0177.txt  0240.txt\t0303.txt  0366.txt  0429.txt  0492.txt\n",
      "0052.txt  0115.txt  0178.txt  0241.txt\t0304.txt  0367.txt  0430.txt  0493.txt\n",
      "0053.txt  0116.txt  0179.txt  0242.txt\t0305.txt  0368.txt  0431.txt  0494.txt\n",
      "0054.txt  0117.txt  0180.txt  0243.txt\t0306.txt  0369.txt  0432.txt  0495.txt\n",
      "0055.txt  0118.txt  0181.txt  0244.txt\t0307.txt  0370.txt  0433.txt  0496.txt\n",
      "0056.txt  0119.txt  0182.txt  0245.txt\t0308.txt  0371.txt  0434.txt  0497.txt\n",
      "0057.txt  0120.txt  0183.txt  0246.txt\t0309.txt  0372.txt  0435.txt  0498.txt\n",
      "0058.txt  0121.txt  0184.txt  0247.txt\t0310.txt  0373.txt  0436.txt  0499.txt\n",
      "0059.txt  0122.txt  0185.txt  0248.txt\t0311.txt  0374.txt  0437.txt\n",
      "0060.txt  0123.txt  0186.txt  0249.txt\t0312.txt  0375.txt  0438.txt\n",
      "0061.txt  0124.txt  0187.txt  0250.txt\t0313.txt  0376.txt  0439.txt\n",
      "0062.txt  0125.txt  0188.txt  0251.txt\t0314.txt  0377.txt  0440.txt\n"
     ]
    }
   ],
   "source": [
    "!seq {SEED} {SEED+N_TESTCASES-1} > seeds.txt && cargo run --release --manifest-path ../tools/Cargo.toml --bin gen seeds.txt\n",
    "!ls in"
   ]
  },
  {
   "cell_type": "code",
   "execution_count": 7,
   "id": "80f38bab",
   "metadata": {},
   "outputs": [
    {
     "name": "stdout",
     "output_type": "stream",
     "text": [
      "\u001b[0m\u001b[0m\u001b[1m\u001b[32m   Compiling\u001b[0m tools v1.0.0 (/home/user/ahc_httf_2022_qual/tools)\n",
      "\u001b[K\u001b[0m\u001b[0m\u001b[1m\u001b[32m    Finished\u001b[0m release [optimized] target(s) in 1.19ser(bin)                 \n"
     ]
    }
   ],
   "source": [
    "!cargo build --release --manifest-path ../tools/Cargo.toml --bin tester"
   ]
  },
  {
   "cell_type": "code",
   "execution_count": 8,
   "id": "958702f2",
   "metadata": {
    "scrolled": true
   },
   "outputs": [
    {
     "name": "stdout",
     "output_type": "stream",
     "text": [
      "0000 Score = 2236\n",
      "0001 Score = 2122\n",
      "0002 Score = 2484\n",
      "0003 Score = 2102\n",
      "0004 Score = 1867\n",
      "0005 Score = 1660\n",
      "0006 Score = 2246\n",
      "0007 Score = 1975\n",
      "0008 Score = 2426\n",
      "0009 Score = 2309\n",
      "0010 Score = 2373\n",
      "0011 Score = 1966\n",
      "0012 Score = 2148\n",
      "0013 Score = 2157\n",
      "0014 Score = 1995\n",
      "0015 Score = 2038\n",
      "0016 Score = 1986\n",
      "0017 Score = 2291\n",
      "0018 Score = 2076\n",
      "0019 Score = 1640\n",
      "0020 Score = 2337\n",
      "0021 Score = 2338\n",
      "0022 Score = 2321\n",
      "0023 Score = 2001\n",
      "0024 Score = 2208\n",
      "0025 Score = 2308\n",
      "0026 Score = 1590\n",
      "0027 Score = 2361\n",
      "0028 Score = 2259\n",
      "0029 Score = 1970\n",
      "0030 Score = 1940\n",
      "0031 Score = 2096\n",
      "0032 Score = 1587\n",
      "0033 Score = 2133\n",
      "0034 Score = 1961\n",
      "0035 Score = 2441\n",
      "0036 Score = 1743\n",
      "0037 Score = 2335\n",
      "0038 Score = 2289\n",
      "0039 Score = 1844\n",
      "0040 Score = 1831\n",
      "0041 Score = 2248\n",
      "0042 Score = 1625\n",
      "0043 Score = 1958\n",
      "0044 Score = 2182\n",
      "0045 Score = 2073\n",
      "0046 Score = 1983\n",
      "0047 Score = 2163\n",
      "0048 Score = 2317\n",
      "0049 Score = 2159\n",
      "0050 Score = 1764\n",
      "0051 Score = 2245\n",
      "0052 Score = 2240\n",
      "0053 Score = 2163\n",
      "0054 Score = 2215\n",
      "0055 Score = 2142\n",
      "0056 Score = 2036\n",
      "0057 Score = 2077\n",
      "0058 Score = 1753\n",
      "0059 Score = 2303\n",
      "0060 Score = 1765\n",
      "0061 Score = 2095\n",
      "0062 Score = 1982\n",
      "0063 Score = 1639\n",
      "0064 Score = 1944\n",
      "0065 Score = 2314\n",
      "0066 Score = 2010\n",
      "0067 Score = 2018\n",
      "0068 Score = 1960\n",
      "0069 Score = 2102\n",
      "0070 Score = 1569\n",
      "0071 Score = 1825\n",
      "0072 Score = 2270\n",
      "0073 Score = 2118\n",
      "0074 Score = 2157\n",
      "0075 Score = 1654\n",
      "0076 Score = 1961\n",
      "0077 Score = 2055\n",
      "0078 Score = 2134\n",
      "0079 Score = 2109\n",
      "0080 Score = 2078\n",
      "0081 Score = 2013\n",
      "0082 Score = 1662\n",
      "0083 Score = 2036\n",
      "0084 Score = 1876\n",
      "0085 Score = 2409\n",
      "0086 Score = 1989\n",
      "0087 Score = 2020\n",
      "0088 Score = 2251\n",
      "0089 Score = 1512\n",
      "0090 Score = 2070\n",
      "0091 Score = 1934\n",
      "0092 Score = 2066\n",
      "0093 Score = 2192\n",
      "0094 Score = 2180\n",
      "0095 Score = 2221\n",
      "0096 Score = 2020\n",
      "0097 Score = 1875\n",
      "0098 Score = 2115\n",
      "0099 Score = 2008\n",
      "0100 Score = 2111\n",
      "0101 Score = 2060\n",
      "0102 Score = 1779\n",
      "0103 Score = 1886\n",
      "0104 Score = 1941\n",
      "0105 Score = 2225\n",
      "0106 Score = 2223\n",
      "0107 Score = 2102\n",
      "0108 Score = 2023\n",
      "0109 Score = 2344\n",
      "0110 Score = 1937\n",
      "0111 Score = 1690\n",
      "0112 Score = 2287\n",
      "0113 Score = 1663\n",
      "0114 Score = 1937\n",
      "0115 Score = 2098\n",
      "0116 Score = 1935\n",
      "0117 Score = 2081\n",
      "0118 Score = 1831\n",
      "0119 Score = 2301\n",
      "0120 Score = 2030\n",
      "0121 Score = 2061\n",
      "0122 Score = 2121\n",
      "0123 Score = 1985\n",
      "0124 Score = 2194\n",
      "0125 Score = 2207\n",
      "0126 Score = 1653\n",
      "0127 Score = 1649\n",
      "0128 Score = 2110\n",
      "0129 Score = 2054\n",
      "0130 Score = 1533\n",
      "0131 Score = 1967\n",
      "0132 Score = 1554\n",
      "0133 Score = 1916\n",
      "0134 Score = 1910\n",
      "0135 Score = 1767\n",
      "0136 Score = 1592\n",
      "0137 Score = 1937\n",
      "0138 Score = 1662\n",
      "0139 Score = 2018\n",
      "0140 Score = 1665\n",
      "0141 Score = 2575\n",
      "0142 Score = 2069\n",
      "0143 Score = 1856\n",
      "0144 Score = 1939\n",
      "0145 Score = 1708\n",
      "0146 Score = 2233\n",
      "0147 Score = 1918\n",
      "0148 Score = 2490\n",
      "0149 Score = 2315\n",
      "0150 Score = 1904\n",
      "0151 Score = 2177\n",
      "0152 Score = 1600\n",
      "0153 Score = 2049\n",
      "0154 Score = 2274\n",
      "0155 Score = 1998\n",
      "0156 Score = 2175\n",
      "0157 Score = 2077\n",
      "0158 Score = 1936\n",
      "0159 Score = 1922\n",
      "0160 Score = 2048\n",
      "0161 Score = 1547\n",
      "0162 Score = 1326\n",
      "0163 Score = 2032\n",
      "0164 Score = 2207\n",
      "0165 Score = 2009\n",
      "0166 Score = 2319\n",
      "0167 Score = 2013\n",
      "0168 Score = 1469\n",
      "0169 Score = 2109\n",
      "0170 Score = 2025\n",
      "0171 Score = 1541\n",
      "0172 Score = 2227\n",
      "0173 Score = 2124\n",
      "0174 Score = 1670\n",
      "0175 Score = 2304\n",
      "0176 Score = 2275\n",
      "0177 Score = 2052\n",
      "0178 Score = 2012\n",
      "0179 Score = 1871\n",
      "0180 Score = 1999\n",
      "0181 Score = 2308\n",
      "0182 Score = 2066\n",
      "0183 Score = 2320\n",
      "0184 Score = 2102\n",
      "0185 Score = 2188\n",
      "0186 Score = 2095\n",
      "0187 Score = 2147\n",
      "0188 Score = 2036\n",
      "0189 Score = 1578\n",
      "0190 Score = 1707\n",
      "0191 Score = 2130\n",
      "0192 Score = 1902\n",
      "0193 Score = 2404\n",
      "0194 Score = 2316\n",
      "0195 Score = 1883\n",
      "0196 Score = 2493\n",
      "0197 Score = 1912\n",
      "0198 Score = 2046\n",
      "0199 Score = 1786\n",
      "0200 Score = 1649\n",
      "0201 Score = 1532\n",
      "0202 Score = 2097\n",
      "0203 Score = 1842\n",
      "0204 Score = 2418\n",
      "0205 Score = 1894\n",
      "0206 Score = 1964\n",
      "0207 Score = 1738\n",
      "0208 Score = 2203\n",
      "0209 Score = 2029\n",
      "0210 Score = 2134\n",
      "0211 Score = 1916\n",
      "0212 Score = 2235\n",
      "0213 Score = 2102\n",
      "0214 Score = 2187\n",
      "0215 Score = 1651\n",
      "0216 Score = 2457\n",
      "0217 Score = 2199\n",
      "0218 Score = 1926\n",
      "0219 Score = 2145\n",
      "0220 Score = 1963\n",
      "0221 Score = 1728\n",
      "0222 Score = 2027\n",
      "0223 Score = 2167\n",
      "0224 Score = 1766\n",
      "0225 Score = 1921\n",
      "0226 Score = 2218\n",
      "0227 Score = 2372\n",
      "0228 Score = 1779\n",
      "0229 Score = 2136\n",
      "0230 Score = 1779\n",
      "0231 Score = 2167\n",
      "0232 Score = 1503\n",
      "0233 Score = 1738\n",
      "0234 Score = 2184\n",
      "0235 Score = 2066\n",
      "0236 Score = 2046\n",
      "0237 Score = 2043\n",
      "0238 Score = 1818\n",
      "0239 Score = 2098\n",
      "0240 Score = 2288\n",
      "0241 Score = 1944\n",
      "0242 Score = 2223\n",
      "0243 Score = 2108\n",
      "0244 Score = 2289\n",
      "0245 Score = 2316\n",
      "0246 Score = 2132\n",
      "0247 Score = 2454\n",
      "0248 Score = 1783\n",
      "0249 Score = 2166\n",
      "0250 Score = 2271\n",
      "0251 Score = 1255\n",
      "0252 Score = 1794\n",
      "0253 Score = 1962\n",
      "0254 Score = 1584\n",
      "0255 Score = 2120\n",
      "0256 Score = 2171\n",
      "0257 Score = 1788\n",
      "0258 Score = 1924\n",
      "0259 Score = 2327\n",
      "0260 Score = 2005\n",
      "0261 Score = 1941\n",
      "0262 Score = 1626\n",
      "0263 Score = 2287\n",
      "0264 Score = 2050\n",
      "0265 Score = 2319\n",
      "0266 Score = 2117\n",
      "0267 Score = 2446\n",
      "0268 Score = 2140\n",
      "0269 Score = 2111\n",
      "0270 Score = 1876\n",
      "0271 Score = 1832\n",
      "0272 Score = 2200\n",
      "0273 Score = 1786\n",
      "0274 Score = 2436\n",
      "0275 Score = 1700\n",
      "0276 Score = 2204\n",
      "0277 Score = 2181\n",
      "0278 Score = 1766\n",
      "0279 Score = 2241\n",
      "0280 Score = 1978\n",
      "0281 Score = 2313\n",
      "0282 Score = 2100\n",
      "0283 Score = 2053\n",
      "0284 Score = 2283\n",
      "0285 Score = 1956\n",
      "0286 Score = 1763\n",
      "0287 Score = 2010\n",
      "0288 Score = 2324\n",
      "0289 Score = 1704\n",
      "0290 Score = 1947\n",
      "0291 Score = 2070\n",
      "0292 Score = 2356\n",
      "0293 Score = 1791\n",
      "0294 Score = 2259\n",
      "0295 Score = 1779\n",
      "0296 Score = 1932\n",
      "0297 Score = 2242\n",
      "0298 Score = 2111\n",
      "0299 Score = 2193\n",
      "0300 Score = 2003\n",
      "0301 Score = 1974\n",
      "0302 Score = 2264\n",
      "0303 Score = 2251\n",
      "0304 Score = 2083\n",
      "0305 Score = 1473\n",
      "0306 Score = 1793\n",
      "0307 Score = 2235\n",
      "0308 Score = 2253\n",
      "0309 Score = 2260\n",
      "0310 Score = 1863\n",
      "0311 Score = 2173\n",
      "0312 Score = 2004\n",
      "0313 Score = 2066\n",
      "0314 Score = 1967\n",
      "0315 Score = 2197\n",
      "0316 Score = 1850\n",
      "0317 Score = 2248\n",
      "0318 Score = 1982\n",
      "0319 Score = 1590\n",
      "0320 Score = 1627\n",
      "0321 Score = 1956\n",
      "0322 Score = 1668\n",
      "0323 Score = 2175\n",
      "0324 Score = 2169\n",
      "0325 Score = 2227\n",
      "0326 Score = 1815\n",
      "0327 Score = 1607\n",
      "0328 Score = 2036\n",
      "0329 Score = 2058\n",
      "0330 Score = 2045\n",
      "0331 Score = 1920\n",
      "0332 Score = 2220\n",
      "0333 Score = 2186\n",
      "0334 Score = 2169\n",
      "0335 Score = 1568\n",
      "0336 Score = 2262\n",
      "0337 Score = 2210\n",
      "0338 Score = 1961\n",
      "0339 Score = 2417\n",
      "0340 Score = 2204\n",
      "0341 Score = 2252\n",
      "0342 Score = 2047\n",
      "0343 Score = 2188\n",
      "0344 Score = 1787\n",
      "0345 Score = 2214\n",
      "0346 Score = 2017\n",
      "0347 Score = 1830\n",
      "0348 Score = 1787\n",
      "0349 Score = 2348\n",
      "0350 Score = 2023\n",
      "0351 Score = 2093\n",
      "0352 Score = 1727\n",
      "0353 Score = 1468\n",
      "0354 Score = 2015\n",
      "0355 Score = 1996\n",
      "0356 Score = 1935\n",
      "0357 Score = 1990\n",
      "0358 Score = 1770\n",
      "0359 Score = 1850\n",
      "0360 Score = 2137\n",
      "0361 Score = 2149\n",
      "0362 Score = 1791\n",
      "0363 Score = 1826\n",
      "0364 Score = 2374\n",
      "0365 Score = 2107\n",
      "0366 Score = 2341\n",
      "0367 Score = 2164\n",
      "0368 Score = 1730\n",
      "0369 Score = 1781\n",
      "0370 Score = 2206\n",
      "0371 Score = 1522\n",
      "0372 Score = 1334\n",
      "0373 Score = 2092\n",
      "0374 Score = 2056\n",
      "0375 Score = 2216\n",
      "0376 Score = 1698\n",
      "0377 Score = 2107\n",
      "0378 Score = 2182\n",
      "0379 Score = 2232\n",
      "0380 Score = 2138\n",
      "0381 Score = 2086\n",
      "0382 Score = 2385\n",
      "0383 Score = 2128\n",
      "0384 Score = 1194\n",
      "0385 Score = 1749\n",
      "0386 Score = 2025\n",
      "0387 Score = 2405\n",
      "0388 Score = 2175\n",
      "0389 Score = 2216\n",
      "0390 Score = 1966\n",
      "0391 Score = 1626\n",
      "0392 Score = 1728\n",
      "0393 Score = 1665\n",
      "0394 Score = 2150\n",
      "0395 Score = 1795\n",
      "0396 Score = 1944\n",
      "0397 Score = 1827\n",
      "0398 Score = 1643\n",
      "0399 Score = 2239\n",
      "0400 Score = 1799\n",
      "0401 Score = 1913\n",
      "0402 Score = 2289\n",
      "0403 Score = 2257\n",
      "0404 Score = 1671\n",
      "0405 Score = 1974\n",
      "0406 Score = 1710\n",
      "0407 Score = 2324\n",
      "0408 Score = 1593\n",
      "0409 Score = 2120\n",
      "0410 Score = 1711\n",
      "0411 Score = 2045\n",
      "0412 Score = 2130\n",
      "0413 Score = 1886\n",
      "0414 Score = 2411\n",
      "0415 Score = 1909\n",
      "0416 Score = 1973\n",
      "0417 Score = 2126\n",
      "0418 Score = 1810\n",
      "0419 Score = 2447\n",
      "0420 Score = 2036\n",
      "0421 Score = 1991\n",
      "0422 Score = 1642\n",
      "0423 Score = 1813\n",
      "0424 Score = 1717\n",
      "0425 Score = 2306\n",
      "0426 Score = 1853\n",
      "0427 Score = 2106\n",
      "0428 Score = 1754\n",
      "0429 Score = 2430\n",
      "0430 Score = 1601\n",
      "0431 Score = 1993\n",
      "0432 Score = 2145\n",
      "0433 Score = 2316\n",
      "0434 Score = 1888\n",
      "0435 Score = 1668\n",
      "0436 Score = 1922\n",
      "0437 Score = 1870\n",
      "0438 Score = 2452\n",
      "0439 Score = 1695\n",
      "0440 Score = 2235\n",
      "0441 Score = 1758\n",
      "0442 Score = 2311\n",
      "0443 Score = 1839\n",
      "0444 Score = 1747\n",
      "0445 Score = 1761\n",
      "0446 Score = 2032\n",
      "0447 Score = 1947\n",
      "0448 Score = 1626\n",
      "0449 Score = 1528\n",
      "0450 Score = 1655\n",
      "0451 Score = 1548\n",
      "0452 Score = 1359\n",
      "0453 Score = 1963\n",
      "0454 Score = 2319\n",
      "0455 Score = 2048\n"
     ]
    },
    {
     "name": "stdout",
     "output_type": "stream",
     "text": [
      "0456 Score = 1703\n",
      "0457 Score = 1426\n",
      "0458 Score = 1895\n",
      "0459 Score = 2224\n",
      "0460 Score = 2143\n",
      "0461 Score = 2063\n",
      "0462 Score = 2310\n",
      "0463 Score = 2131\n",
      "0464 Score = 1896\n",
      "0465 Score = 1789\n",
      "0466 Score = 1964\n",
      "0467 Score = 2377\n",
      "0468 Score = 2075\n",
      "0469 Score = 2058\n",
      "0470 Score = 2075\n",
      "0471 Score = 1956\n",
      "0472 Score = 2023\n",
      "0473 Score = 1650\n",
      "0474 Score = 2216\n",
      "0475 Score = 2221\n",
      "0476 Score = 1762\n",
      "0477 Score = 2256\n",
      "0478 Score = 2345\n",
      "0479 Score = 2368\n",
      "0480 Score = 1601\n",
      "0481 Score = 1706\n",
      "0482 Score = 2026\n",
      "0483 Score = 2235\n",
      "0484 Score = 1604\n",
      "0485 Score = 2041\n",
      "0486 Score = 2310\n",
      "0487 Score = 1700\n",
      "0488 Score = 2056\n",
      "0489 Score = 2172\n",
      "0490 Score = 1902\n",
      "0491 Score = 2037\n",
      "0492 Score = 1681\n",
      "0493 Score = 2241\n",
      "0494 Score = 1994\n",
      "0495 Score = 2324\n",
      "0496 Score = 2188\n",
      "0497 Score = 2148\n",
      "0498 Score = 1819\n",
      "0499 Score = 2111\n",
      "CPU times: user 1.2 s, sys: 2.76 s, total: 3.95 s\n",
      "Wall time: 18min 30s\n"
     ]
    },
    {
     "data": {
      "text/plain": [
       "(2012.298, 100614.9, 243.70076978951053)"
      ]
     },
     "execution_count": 8,
     "metadata": {},
     "output_type": "execute_result"
    }
   ],
   "source": [
    "%%time\n",
    "# もとのスコアの確認\n",
    "scores = []\n",
    "for i in range(N_TESTCASES):\n",
    "    i = f\"{i:04d}\"\n",
    "    score = !../tools/target/release/tester $(pwd)/{FILENAME}.out < in/{i}.txt 2>&1 | grep Score\n",
    "    print(i, *score)\n",
    "    score = int(score[0].split()[-1])\n",
    "    scores.append(score)\n",
    "np.mean(scores), np.mean(scores) * 50, np.std(scores)"
   ]
  },
  {
   "cell_type": "code",
   "execution_count": 6,
   "id": "077a9893",
   "metadata": {},
   "outputs": [
    {
     "name": "stdout",
     "output_type": "stream",
     "text": [
      "6 variables were found.\n"
     ]
    },
    {
     "data": {
      "text/html": [
       "<div>\n",
       "<style scoped>\n",
       "    .dataframe tbody tr th:only-of-type {\n",
       "        vertical-align: middle;\n",
       "    }\n",
       "\n",
       "    .dataframe tbody tr th {\n",
       "        vertical-align: top;\n",
       "    }\n",
       "\n",
       "    .dataframe thead th {\n",
       "        text-align: right;\n",
       "    }\n",
       "</style>\n",
       "<table border=\"1\" class=\"dataframe\">\n",
       "  <thead>\n",
       "    <tr style=\"text-align: right;\">\n",
       "      <th></th>\n",
       "      <th>name</th>\n",
       "      <th>method</th>\n",
       "      <th>min</th>\n",
       "      <th>max</th>\n",
       "      <th>log</th>\n",
       "      <th>left</th>\n",
       "      <th>right</th>\n",
       "    </tr>\n",
       "  </thead>\n",
       "  <tbody>\n",
       "    <tr>\n",
       "      <th>0</th>\n",
       "      <td>MCMC_Q_L2_NORM_RANGE</td>\n",
       "      <td>suggest_float</td>\n",
       "      <td>2.000</td>\n",
       "      <td>20.0</td>\n",
       "      <td>True</td>\n",
       "      <td>constexpr auto MCMC_Q_L2_NORM_RANGE =</td>\n",
       "      <td>;         // OPTIMIZE LOG [2.0, 20.0]</td>\n",
       "    </tr>\n",
       "    <tr>\n",
       "      <th>1</th>\n",
       "      <td>MCMC_Q_RANGE</td>\n",
       "      <td>suggest_float</td>\n",
       "      <td>0.200</td>\n",
       "      <td>10.0</td>\n",
       "      <td>True</td>\n",
       "      <td>constexpr auto MCMC_Q_RANGE =</td>\n",
       "      <td>;                  // OPTIMIZE LOG [0.2, 10.0]</td>\n",
       "    </tr>\n",
       "    <tr>\n",
       "      <th>2</th>\n",
       "      <td>EXPECTED_SKILL_EMA_ALPHA_COEF</td>\n",
       "      <td>suggest_float</td>\n",
       "      <td>0.020</td>\n",
       "      <td>2.0</td>\n",
       "      <td>True</td>\n",
       "      <td>constexpr auto EXPECTED_SKILL_EMA_ALPHA_COEF =</td>\n",
       "      <td>; // OPTIMIZE LOG [0.02, 2.0]</td>\n",
       "    </tr>\n",
       "    <tr>\n",
       "      <th>3</th>\n",
       "      <td>MAX_N_NOT_OPEN_TASKS_IN_QUEUE</td>\n",
       "      <td>suggest_int</td>\n",
       "      <td>60.000</td>\n",
       "      <td>100.0</td>\n",
       "      <td>False</td>\n",
       "      <td>constexpr auto MAX_N_NOT_OPEN_TASKS_IN_QUEUE =</td>\n",
       "      <td>; // OPTIMIZE [60, 100]</td>\n",
       "    </tr>\n",
       "    <tr>\n",
       "      <th>4</th>\n",
       "      <td>PRIORITY_DAY_OFFSET</td>\n",
       "      <td>suggest_int</td>\n",
       "      <td>400.000</td>\n",
       "      <td>1200.0</td>\n",
       "      <td>False</td>\n",
       "      <td>constexpr auto PRIORITY_DAY_OFFSET =</td>\n",
       "      <td>;          // OPTIMIZE [400, 1200]</td>\n",
       "    </tr>\n",
       "    <tr>\n",
       "      <th>5</th>\n",
       "      <td>PRIORITY_COEF</td>\n",
       "      <td>suggest_float</td>\n",
       "      <td>0.002</td>\n",
       "      <td>2.0</td>\n",
       "      <td>True</td>\n",
       "      <td>constexpr auto PRIORITY_COEF =</td>\n",
       "      <td>;               // OPTIMIZE LOG [0.002, 2.0]</td>\n",
       "    </tr>\n",
       "  </tbody>\n",
       "</table>\n",
       "</div>"
      ],
      "text/plain": [
       "                            name         method      min     max    log  \\\n",
       "0           MCMC_Q_L2_NORM_RANGE  suggest_float    2.000    20.0   True   \n",
       "1                   MCMC_Q_RANGE  suggest_float    0.200    10.0   True   \n",
       "2  EXPECTED_SKILL_EMA_ALPHA_COEF  suggest_float    0.020     2.0   True   \n",
       "3  MAX_N_NOT_OPEN_TASKS_IN_QUEUE    suggest_int   60.000   100.0  False   \n",
       "4            PRIORITY_DAY_OFFSET    suggest_int  400.000  1200.0  False   \n",
       "5                  PRIORITY_COEF  suggest_float    0.002     2.0   True   \n",
       "\n",
       "                                              left  \\\n",
       "0           constexpr auto MCMC_Q_L2_NORM_RANGE =    \n",
       "1                   constexpr auto MCMC_Q_RANGE =    \n",
       "2  constexpr auto EXPECTED_SKILL_EMA_ALPHA_COEF =    \n",
       "3  constexpr auto MAX_N_NOT_OPEN_TASKS_IN_QUEUE =    \n",
       "4            constexpr auto PRIORITY_DAY_OFFSET =    \n",
       "5                  constexpr auto PRIORITY_COEF =    \n",
       "\n",
       "                                            right  \n",
       "0           ;         // OPTIMIZE LOG [2.0, 20.0]  \n",
       "1  ;                  // OPTIMIZE LOG [0.2, 10.0]  \n",
       "2                   ; // OPTIMIZE LOG [0.02, 2.0]  \n",
       "3                         ; // OPTIMIZE [60, 100]  \n",
       "4              ;          // OPTIMIZE [400, 1200]  \n",
       "5    ;               // OPTIMIZE LOG [0.002, 2.0]  "
      ]
     },
     "metadata": {},
     "output_type": "display_data"
    }
   ],
   "source": [
    "# ここでエラー出力は何かおかしいかもしれない\n",
    "\n",
    "\n",
    "# パラメータ抽出\n",
    "with open(FILENAME) as f:\n",
    "    answer = f.read()\n",
    "\n",
    "\n",
    "variables_optimize = []\n",
    "\n",
    "for left, value, right, options in re.findall(r\"^([^/\\n]*=\\s*)(.+?)(\\s*;\\s*//(?:.*\\W)?OPTIMIZE(\\W.*))$\", answer, re.MULTILINE):\n",
    "    name = left.replace(\"=\", \"\").strip().split()[-1]\n",
    "    \n",
    "    searched = re.search(r\".*\\[(?P<min>.*),(?P<max>.*)\\].*\", options)\n",
    "    if searched:\n",
    "        min_value = max_value = None\n",
    "        try:\n",
    "            min_value = eval(searched.group(\"min\"))\n",
    "            max_value = eval(searched.group(\"max\"))\n",
    "            assert min_value <= max_value\n",
    "        except Exception as e:\n",
    "            print(f\"searched={searched}\", file=sys.stderr)\n",
    "            print(e, file=sys.stderr)\n",
    "            continue\n",
    "        log = \"LOG\" in options  # 雑、直したほうが良い\n",
    "        if type(min_value) != type(max_value):\n",
    "            print(f\"searched={searched}\", file=sys.stderr)\n",
    "            print(\"types not matched\", file=sys.stderr)\n",
    "            continue\n",
    "        if isinstance(min_value, int):\n",
    "            method = \"suggest_int\"\n",
    "        elif isinstance(min_value, float):\n",
    "            method = \"suggest_float\"\n",
    "        else:\n",
    "            print(f\"searched={searched}\", file=sys.stderr)\n",
    "            print(f\"unknown type ({type(min_value)})\", file=sys.stderr)\n",
    "            continue\n",
    "        variables_optimize.append({\n",
    "            \"name\": name,\n",
    "            \"method\": method,\n",
    "            \"min\": min_value,\n",
    "            \"max\": max_value,\n",
    "            \"log\": log,\n",
    "            \"left\": left,\n",
    "            \"right\": right,\n",
    "        })\n",
    "    elif searched := re.search(r\".*\\{(?P<choices>.*?)\\}.*\", options):\n",
    "        choices = list(map(lambda x: x.strip(), searched.group(\"choices\").split(\",\")))\n",
    "        variables_optimize.append({\n",
    "            \"name\": name,\n",
    "            \"method\": \"suggest_categorical\",\n",
    "            \"choices\": choices,\n",
    "            \"left\": left,\n",
    "            \"right\": right,\n",
    "        })\n",
    "    else:\n",
    "        print(f\"searched={searched}\", file=sys.stderr)\n",
    "        print(f\"pattern was matched but options are incorrect.\", file=sys.stderr)\n",
    "\n",
    "print(len(variables_optimize), \"variables were found.\")\n",
    "if globals().get(\"pd\"):\n",
    "    display(pd.DataFrame(variables_optimize))\n",
    "else:\n",
    "    pprint(variables_optimize)\n",
    "\n"
   ]
  },
  {
   "cell_type": "code",
   "execution_count": 7,
   "id": "8964fced",
   "metadata": {},
   "outputs": [],
   "source": [
    "def escape(string):  # 正規表現の中でそのまま使いたい文字列をエスケープ\n",
    "    res = !echo '{string}' | sed -e 's/[]\\/$*.^[]/\\\\&/g'\n",
    "    return res[0]\n",
    "\n",
    "def escape_sed(string):  # sed の置換後の文字列用のエスケープ\n",
    "    res = !echo '{string}' | sed -e 's/[\\/&]/\\\\&/g'\n",
    "    return res[0]\n",
    "\n",
    "def run(cmd):\n",
    "    p = subprocess.Popen(\n",
    "        cmd, stdout=subprocess.PIPE, stderr=subprocess.STDOUT, shell=isinstance(cmd, str)\n",
    "    )\n",
    "    for line in iter(p.stdout.readline, b''):\n",
    "        print(line.decode(\"utf8\"), end=\"\")\n",
    "\n",
    "def objective_with_index(trial, n_internal_parallel):\n",
    "    index_parallel = f\"{trial.number:04d}\"\n",
    "    print(f\"{index_parallel=}\")\n",
    "    \n",
    "    parameters_changed_filename = f\"{index_parallel}_{FILENAME}\"\n",
    "    directory_input = Path(\"./in\")  # 中のすべてのファイルに対して実行される\n",
    "    \n",
    "    run([\"mkdir\", f\"{index_parallel}_out\"])\n",
    "    run([\"mkdir\", f\"{index_parallel}_score\"])\n",
    "    \n",
    "    # ファイル作成\n",
    "    run(f\"cp {FILENAME} {parameters_changed_filename}\")\n",
    "    sed_options = [f\"-i {parameters_changed_filename}\"]\n",
    "    for variable in variables_optimize:\n",
    "        if variable[\"method\"] == \"suggest_categorical\":\n",
    "            val =  trial.suggest_categorical(variable[\"name\"], variable[\"choices\"])\n",
    "        else:\n",
    "            val = getattr(trial, variable[\"method\"])(variable[\"name\"], variable[\"min\"], variable[\"max\"], log=variable[\"log\"])\n",
    "        left = variable[\"left\"]\n",
    "        right = variable[\"right\"]\n",
    "        sed_options.append(f\"\"\"-e 's/^{escape(left)}.*{escape(right)}$/{escape_sed(left)}{val}{escape_sed(right)}/'\"\"\")\n",
    "    command_sed = f\"sed {' '.join(sed_options)}\"\n",
    "    print(command_sed)\n",
    "    run(command_sed)\n",
    "    \n",
    "    # コンパイル\n",
    "    command_compile = f\"clang++ {parameters_changed_filename} -std=gnu++17 -O2 -DONLINE_JUDGE -I/ -o {parameters_changed_filename}.out\"\n",
    "    print(command_compile)\n",
    "    run(command_compile)\n",
    "    # 実行・採点コマンド (@ はファイル名)\n",
    "    command_exec = (\n",
    "        #f\"../tools/target/release/tester $(pwd)/{parameters_changed_filename}.out < {directory_input}/@ 2>&1 | grep Score\"\n",
    "        f\"../tools/target/release/tester $(pwd)/{parameters_changed_filename}.out < {directory_input}/@ 2>&1 | grep Score | sed -E s/[^0-9]+// > ./{index_parallel}_score/@;\"\n",
    "        #f\"cargo run --release --manifest-path ../tools/Cargo.toml --bin tester {directory_input}/@ $(pwd)/{parameters_changed_filename}.out 2>&1 | grep Score | sed -E s/[^0-9]+// > ./{index_parallel}_score/@;\"\n",
    "        #f\"./{parameters_changed_filename}.out < {directory_input}/@ > ./{index_parallel}_out/@;\"\n",
    "        #f\"cargo run --release --manifest-path ./tools/Cargo.toml --bin vis {directory_input}/@ ./{index_parallel}_out/@ 2> /dev/null > ./{index_parallel}_score/@;\"\n",
    "    )\n",
    "    # 並列実行 (sed はパスのディレクトリ部分を消してファイル名にしてる)\n",
    "    run(f\"find {directory_input}/* | sed 's!^.*/!!' | xargs -I@ -P {n_internal_parallel} sh -c '{command_exec}'\")\n",
    "    \n",
    "    # 集計\n",
    "    sum_score = 0\n",
    "    for file_path in Path(f\"./{index_parallel}_score/\").iterdir():  \n",
    "        with open(file_path) as f:\n",
    "            sum_score += int(f.read())\n",
    "    \n",
    "    # 後始末\n",
    "    run(f\"rm -rf {index_parallel}_out\")\n",
    "    run(f\"rm -rf {index_parallel}_score\")\n",
    "    run(f\"rm -rf {parameters_changed_filename}\")\n",
    "    run(f\"rm -rf {parameters_changed_filename}.out\")\n",
    "    \n",
    "    return sum_score\n"
   ]
  },
  {
   "cell_type": "code",
   "execution_count": 10,
   "id": "76d5690f",
   "metadata": {},
   "outputs": [
    {
     "name": "stderr",
     "output_type": "stream",
     "text": [
      "\u001b[32m[I 2021-11-12 21:29:17,631]\u001b[0m A new study created in RDB with name: study\u001b[0m\n"
     ]
    }
   ],
   "source": [
    "storage_path = f\"study.db\"\n",
    "storage = f\"sqlite:///{storage_path}\"\n",
    "study_name = \"study\"\n",
    "study = optuna.create_study(storage=storage, load_if_exists=True, study_name=study_name, direction=\"maximize\")\n",
    "\n",
    "def callback(study, trial):\n",
    "    try:\n",
    "        if study.best_value == trial.value:\n",
    "            print(f\"Updated! {study.best_value}\")\n",
    "            index_parallel = f\"{trial.number:04d}\"\n",
    "            parameters_changed_filename = f\"{index_parallel}_{FILENAME}\"\n",
    "            !cp {parameters_changed_filename} 00000_best_parameters.cpp\n",
    "        print(\"callback ok\")\n",
    "    except:\n",
    "        print(\":(\")"
   ]
  },
  {
   "cell_type": "code",
   "execution_count": null,
   "id": "b8a42cba",
   "metadata": {
    "scrolled": true
   },
   "outputs": [
    {
     "name": "stdout",
     "output_type": "stream",
     "text": [
      "index_parallel='0001'\n",
      "index_parallel='0000'\n",
      "index_parallel='0002'\n"
     ]
    },
    {
     "name": "stderr",
     "output_type": "stream",
     "text": [
      "/home/user/anaconda3/lib/python3.8/site-packages/optuna/study/study.py:393: FutureWarning: `n_jobs` argument has been deprecated in v2.7.0. This feature will be removed in v4.0.0. See https://github.com/optuna/optuna/releases/tag/v2.7.0.\n",
      "  warnings.warn(\n"
     ]
    },
    {
     "name": "stdout",
     "output_type": "stream",
     "text": [
      "sed -i 0000_main.cpp -e 's/^constexpr auto MCMC_Q_L2_NORM_RANGE = .*;         \\/\\/ OPTIMIZE LOG \\[2\\.0, 20\\.0\\]$/constexpr auto MCMC_Q_L2_NORM_RANGE = 7.12038165153063;         \\/\\/ OPTIMIZE LOG [2.0, 20.0]/' -e 's/^constexpr auto MCMC_Q_RANGE = .*;                  \\/\\/ OPTIMIZE LOG \\[0\\.2, 10\\.0\\]$/constexpr auto MCMC_Q_RANGE = 6.3261068219554675;                  \\/\\/ OPTIMIZE LOG [0.2, 10.0]/' -e 's/^constexpr auto EXPECTED_SKILL_EMA_ALPHA_COEF = .*; \\/\\/ OPTIMIZE LOG \\[0\\.02, 2\\.0\\]$/constexpr auto EXPECTED_SKILL_EMA_ALPHA_COEF = 0.5606898684930279; \\/\\/ OPTIMIZE LOG [0.02, 2.0]/' -e 's/^constexpr auto MAX_N_NOT_OPEN_TASKS_IN_QUEUE = .*; \\/\\/ OPTIMIZE \\[60, 100\\]$/constexpr auto MAX_N_NOT_OPEN_TASKS_IN_QUEUE = 62; \\/\\/ OPTIMIZE [60, 100]/' -e 's/^constexpr auto PRIORITY_DAY_OFFSET = .*;          \\/\\/ OPTIMIZE \\[400, 1200\\]$/constexpr auto PRIORITY_DAY_OFFSET = 730;          \\/\\/ OPTIMIZE [400, 1200]/' -e 's/^constexpr auto PRIORITY_COEF = .*;               \\/\\/ OPTIMIZE LOG \\[0\\.002, 2\\.0\\]$/constexpr auto PRIORITY_COEF = 0.2161057863392588;               \\/\\/ OPTIMIZE LOG [0.002, 2.0]/'\n",
      "clang++ 0000_main.cpp -std=gnu++17 -O2 -DONLINE_JUDGE -I/ -o 0000_main.cpp.out\n",
      "sed -i 0001_main.cpp -e 's/^constexpr auto MCMC_Q_L2_NORM_RANGE = .*;         \\/\\/ OPTIMIZE LOG \\[2\\.0, 20\\.0\\]$/constexpr auto MCMC_Q_L2_NORM_RANGE = 10.678726965804834;         \\/\\/ OPTIMIZE LOG [2.0, 20.0]/' -e 's/^constexpr auto MCMC_Q_RANGE = .*;                  \\/\\/ OPTIMIZE LOG \\[0\\.2, 10\\.0\\]$/constexpr auto MCMC_Q_RANGE = 8.501094578019957;                  \\/\\/ OPTIMIZE LOG [0.2, 10.0]/' -e 's/^constexpr auto EXPECTED_SKILL_EMA_ALPHA_COEF = .*; \\/\\/ OPTIMIZE LOG \\[0\\.02, 2\\.0\\]$/constexpr auto EXPECTED_SKILL_EMA_ALPHA_COEF = 0.02598844115922582; \\/\\/ OPTIMIZE LOG [0.02, 2.0]/' -e 's/^constexpr auto MAX_N_NOT_OPEN_TASKS_IN_QUEUE = .*; \\/\\/ OPTIMIZE \\[60, 100\\]$/constexpr auto MAX_N_NOT_OPEN_TASKS_IN_QUEUE = 97; \\/\\/ OPTIMIZE [60, 100]/' -e 's/^constexpr auto PRIORITY_DAY_OFFSET = .*;          \\/\\/ OPTIMIZE \\[400, 1200\\]$/constexpr auto PRIORITY_DAY_OFFSET = 435;          \\/\\/ OPTIMIZE [400, 1200]/' -e 's/^constexpr auto PRIORITY_COEF = .*;               \\/\\/ OPTIMIZE LOG \\[0\\.002, 2\\.0\\]$/constexpr auto PRIORITY_COEF = 0.013869754859411061;               \\/\\/ OPTIMIZE LOG [0.002, 2.0]/'\n",
      "clang++ 0001_main.cpp -std=gnu++17 -O2 -DONLINE_JUDGE -I/ -o 0001_main.cpp.out\n",
      "sed -i 0002_main.cpp -e 's/^constexpr auto MCMC_Q_L2_NORM_RANGE = .*;         \\/\\/ OPTIMIZE LOG \\[2\\.0, 20\\.0\\]$/constexpr auto MCMC_Q_L2_NORM_RANGE = 3.384117661909016;         \\/\\/ OPTIMIZE LOG [2.0, 20.0]/' -e 's/^constexpr auto MCMC_Q_RANGE = .*;                  \\/\\/ OPTIMIZE LOG \\[0\\.2, 10\\.0\\]$/constexpr auto MCMC_Q_RANGE = 1.079497403481504;                  \\/\\/ OPTIMIZE LOG [0.2, 10.0]/' -e 's/^constexpr auto EXPECTED_SKILL_EMA_ALPHA_COEF = .*; \\/\\/ OPTIMIZE LOG \\[0\\.02, 2\\.0\\]$/constexpr auto EXPECTED_SKILL_EMA_ALPHA_COEF = 0.10774228630014906; \\/\\/ OPTIMIZE LOG [0.02, 2.0]/' -e 's/^constexpr auto MAX_N_NOT_OPEN_TASKS_IN_QUEUE = .*; \\/\\/ OPTIMIZE \\[60, 100\\]$/constexpr auto MAX_N_NOT_OPEN_TASKS_IN_QUEUE = 68; \\/\\/ OPTIMIZE [60, 100]/' -e 's/^constexpr auto PRIORITY_DAY_OFFSET = .*;          \\/\\/ OPTIMIZE \\[400, 1200\\]$/constexpr auto PRIORITY_DAY_OFFSET = 752;          \\/\\/ OPTIMIZE [400, 1200]/' -e 's/^constexpr auto PRIORITY_COEF = .*;               \\/\\/ OPTIMIZE LOG \\[0\\.002, 2\\.0\\]$/constexpr auto PRIORITY_COEF = 0.022027305020456505;               \\/\\/ OPTIMIZE LOG [0.002, 2.0]/'\n",
      "clang++ 0002_main.cpp -std=gnu++17 -O2 -DONLINE_JUDGE -I/ -o 0002_main.cpp.out\n"
     ]
    },
    {
     "name": "stderr",
     "output_type": "stream",
     "text": [
      "\u001b[32m[I 2021-11-12 21:33:13,891]\u001b[0m Trial 0 finished with value: 1004564.0 and parameters: {'MCMC_Q_L2_NORM_RANGE': 7.12038165153063, 'MCMC_Q_RANGE': 6.3261068219554675, 'EXPECTED_SKILL_EMA_ALPHA_COEF': 0.5606898684930279, 'MAX_N_NOT_OPEN_TASKS_IN_QUEUE': 62, 'PRIORITY_DAY_OFFSET': 730, 'PRIORITY_COEF': 0.2161057863392588}. Best is trial 0 with value: 1004564.0.\u001b[0m\n"
     ]
    },
    {
     "name": "stdout",
     "output_type": "stream",
     "text": [
      "Updated! 1004564.0\n",
      "cp: cannot stat '0000_main.cpp': No such file or directory\n",
      "callback ok\n",
      "index_parallel='0003'\n",
      "sed -i 0003_main.cpp -e 's/^constexpr auto MCMC_Q_L2_NORM_RANGE = .*;         \\/\\/ OPTIMIZE LOG \\[2\\.0, 20\\.0\\]$/constexpr auto MCMC_Q_L2_NORM_RANGE = 9.979906500688346;         \\/\\/ OPTIMIZE LOG [2.0, 20.0]/' -e 's/^constexpr auto MCMC_Q_RANGE = .*;                  \\/\\/ OPTIMIZE LOG \\[0\\.2, 10\\.0\\]$/constexpr auto MCMC_Q_RANGE = 4.011652596542475;                  \\/\\/ OPTIMIZE LOG [0.2, 10.0]/' -e 's/^constexpr auto EXPECTED_SKILL_EMA_ALPHA_COEF = .*; \\/\\/ OPTIMIZE LOG \\[0\\.02, 2\\.0\\]$/constexpr auto EXPECTED_SKILL_EMA_ALPHA_COEF = 0.6887869781397384; \\/\\/ OPTIMIZE LOG [0.02, 2.0]/' -e 's/^constexpr auto MAX_N_NOT_OPEN_TASKS_IN_QUEUE = .*; \\/\\/ OPTIMIZE \\[60, 100\\]$/constexpr auto MAX_N_NOT_OPEN_TASKS_IN_QUEUE = 80; \\/\\/ OPTIMIZE [60, 100]/' -e 's/^constexpr auto PRIORITY_DAY_OFFSET = .*;          \\/\\/ OPTIMIZE \\[400, 1200\\]$/constexpr auto PRIORITY_DAY_OFFSET = 1173;          \\/\\/ OPTIMIZE [400, 1200]/' -e 's/^constexpr auto PRIORITY_COEF = .*;               \\/\\/ OPTIMIZE LOG \\[0\\.002, 2\\.0\\]$/constexpr auto PRIORITY_COEF = 0.002515519770116294;               \\/\\/ OPTIMIZE LOG [0.002, 2.0]/'\n",
      "clang++ 0003_main.cpp -std=gnu++17 -O2 -DONLINE_JUDGE -I/ -o 0003_main.cpp.out\n"
     ]
    },
    {
     "name": "stderr",
     "output_type": "stream",
     "text": [
      "\u001b[32m[I 2021-11-12 21:33:16,601]\u001b[0m Trial 1 finished with value: 980024.0 and parameters: {'MCMC_Q_L2_NORM_RANGE': 10.678726965804834, 'MCMC_Q_RANGE': 8.501094578019957, 'EXPECTED_SKILL_EMA_ALPHA_COEF': 0.02598844115922582, 'MAX_N_NOT_OPEN_TASKS_IN_QUEUE': 97, 'PRIORITY_DAY_OFFSET': 435, 'PRIORITY_COEF': 0.013869754859411061}. Best is trial 0 with value: 1004564.0.\u001b[0m\n"
     ]
    },
    {
     "name": "stdout",
     "output_type": "stream",
     "text": [
      "callback ok\n",
      "index_parallel='0004'\n"
     ]
    },
    {
     "name": "stderr",
     "output_type": "stream",
     "text": [
      "\u001b[32m[I 2021-11-12 21:33:16,992]\u001b[0m Trial 2 finished with value: 999732.0 and parameters: {'MCMC_Q_L2_NORM_RANGE': 3.384117661909016, 'MCMC_Q_RANGE': 1.079497403481504, 'EXPECTED_SKILL_EMA_ALPHA_COEF': 0.10774228630014906, 'MAX_N_NOT_OPEN_TASKS_IN_QUEUE': 68, 'PRIORITY_DAY_OFFSET': 752, 'PRIORITY_COEF': 0.022027305020456505}. Best is trial 0 with value: 1004564.0.\u001b[0m\n"
     ]
    },
    {
     "name": "stdout",
     "output_type": "stream",
     "text": [
      "callback ok\n",
      "index_parallel='0005'\n",
      "sed -i 0004_main.cpp -e 's/^constexpr auto MCMC_Q_L2_NORM_RANGE = .*;         \\/\\/ OPTIMIZE LOG \\[2\\.0, 20\\.0\\]$/constexpr auto MCMC_Q_L2_NORM_RANGE = 4.07884124658451;         \\/\\/ OPTIMIZE LOG [2.0, 20.0]/' -e 's/^constexpr auto MCMC_Q_RANGE = .*;                  \\/\\/ OPTIMIZE LOG \\[0\\.2, 10\\.0\\]$/constexpr auto MCMC_Q_RANGE = 0.6357423953046792;                  \\/\\/ OPTIMIZE LOG [0.2, 10.0]/' -e 's/^constexpr auto EXPECTED_SKILL_EMA_ALPHA_COEF = .*; \\/\\/ OPTIMIZE LOG \\[0\\.02, 2\\.0\\]$/constexpr auto EXPECTED_SKILL_EMA_ALPHA_COEF = 0.027289589241608077; \\/\\/ OPTIMIZE LOG [0.02, 2.0]/' -e 's/^constexpr auto MAX_N_NOT_OPEN_TASKS_IN_QUEUE = .*; \\/\\/ OPTIMIZE \\[60, 100\\]$/constexpr auto MAX_N_NOT_OPEN_TASKS_IN_QUEUE = 66; \\/\\/ OPTIMIZE [60, 100]/' -e 's/^constexpr auto PRIORITY_DAY_OFFSET = .*;          \\/\\/ OPTIMIZE \\[400, 1200\\]$/constexpr auto PRIORITY_DAY_OFFSET = 771;          \\/\\/ OPTIMIZE [400, 1200]/' -e 's/^constexpr auto PRIORITY_COEF = .*;               \\/\\/ OPTIMIZE LOG \\[0\\.002, 2\\.0\\]$/constexpr auto PRIORITY_COEF = 0.0022938517932896405;               \\/\\/ OPTIMIZE LOG [0.002, 2.0]/'\n",
      "clang++ 0004_main.cpp -std=gnu++17 -O2 -DONLINE_JUDGE -I/ -o 0004_main.cpp.out\n",
      "sed -i 0005_main.cpp -e 's/^constexpr auto MCMC_Q_L2_NORM_RANGE = .*;         \\/\\/ OPTIMIZE LOG \\[2\\.0, 20\\.0\\]$/constexpr auto MCMC_Q_L2_NORM_RANGE = 3.920201665134826;         \\/\\/ OPTIMIZE LOG [2.0, 20.0]/' -e 's/^constexpr auto MCMC_Q_RANGE = .*;                  \\/\\/ OPTIMIZE LOG \\[0\\.2, 10\\.0\\]$/constexpr auto MCMC_Q_RANGE = 0.34643620993602586;                  \\/\\/ OPTIMIZE LOG [0.2, 10.0]/' -e 's/^constexpr auto EXPECTED_SKILL_EMA_ALPHA_COEF = .*; \\/\\/ OPTIMIZE LOG \\[0\\.02, 2\\.0\\]$/constexpr auto EXPECTED_SKILL_EMA_ALPHA_COEF = 0.16554866457578135; \\/\\/ OPTIMIZE LOG [0.02, 2.0]/' -e 's/^constexpr auto MAX_N_NOT_OPEN_TASKS_IN_QUEUE = .*; \\/\\/ OPTIMIZE \\[60, 100\\]$/constexpr auto MAX_N_NOT_OPEN_TASKS_IN_QUEUE = 77; \\/\\/ OPTIMIZE [60, 100]/' -e 's/^constexpr auto PRIORITY_DAY_OFFSET = .*;          \\/\\/ OPTIMIZE \\[400, 1200\\]$/constexpr auto PRIORITY_DAY_OFFSET = 747;          \\/\\/ OPTIMIZE [400, 1200]/' -e 's/^constexpr auto PRIORITY_COEF = .*;               \\/\\/ OPTIMIZE LOG \\[0\\.002, 2\\.0\\]$/constexpr auto PRIORITY_COEF = 0.029162968498417704;               \\/\\/ OPTIMIZE LOG [0.002, 2.0]/'\n",
      "clang++ 0005_main.cpp -std=gnu++17 -O2 -DONLINE_JUDGE -I/ -o 0005_main.cpp.out\n"
     ]
    },
    {
     "name": "stderr",
     "output_type": "stream",
     "text": [
      "\u001b[32m[I 2021-11-12 21:37:12,392]\u001b[0m Trial 3 finished with value: 1003345.0 and parameters: {'MCMC_Q_L2_NORM_RANGE': 9.979906500688346, 'MCMC_Q_RANGE': 4.011652596542475, 'EXPECTED_SKILL_EMA_ALPHA_COEF': 0.6887869781397384, 'MAX_N_NOT_OPEN_TASKS_IN_QUEUE': 80, 'PRIORITY_DAY_OFFSET': 1173, 'PRIORITY_COEF': 0.002515519770116294}. Best is trial 0 with value: 1004564.0.\u001b[0m\n"
     ]
    },
    {
     "name": "stdout",
     "output_type": "stream",
     "text": [
      "callback ok\n",
      "index_parallel='0006'\n",
      "sed -i 0006_main.cpp -e 's/^constexpr auto MCMC_Q_L2_NORM_RANGE = .*;         \\/\\/ OPTIMIZE LOG \\[2\\.0, 20\\.0\\]$/constexpr auto MCMC_Q_L2_NORM_RANGE = 12.703729512695057;         \\/\\/ OPTIMIZE LOG [2.0, 20.0]/' -e 's/^constexpr auto MCMC_Q_RANGE = .*;                  \\/\\/ OPTIMIZE LOG \\[0\\.2, 10\\.0\\]$/constexpr auto MCMC_Q_RANGE = 0.25954054793381565;                  \\/\\/ OPTIMIZE LOG [0.2, 10.0]/' -e 's/^constexpr auto EXPECTED_SKILL_EMA_ALPHA_COEF = .*; \\/\\/ OPTIMIZE LOG \\[0\\.02, 2\\.0\\]$/constexpr auto EXPECTED_SKILL_EMA_ALPHA_COEF = 0.1420188082753534; \\/\\/ OPTIMIZE LOG [0.02, 2.0]/' -e 's/^constexpr auto MAX_N_NOT_OPEN_TASKS_IN_QUEUE = .*; \\/\\/ OPTIMIZE \\[60, 100\\]$/constexpr auto MAX_N_NOT_OPEN_TASKS_IN_QUEUE = 75; \\/\\/ OPTIMIZE [60, 100]/' -e 's/^constexpr auto PRIORITY_DAY_OFFSET = .*;          \\/\\/ OPTIMIZE \\[400, 1200\\]$/constexpr auto PRIORITY_DAY_OFFSET = 863;          \\/\\/ OPTIMIZE [400, 1200]/' -e 's/^constexpr auto PRIORITY_COEF = .*;               \\/\\/ OPTIMIZE LOG \\[0\\.002, 2\\.0\\]$/constexpr auto PRIORITY_COEF = 0.3433560582620296;               \\/\\/ OPTIMIZE LOG [0.002, 2.0]/'\n",
      "clang++ 0006_main.cpp -std=gnu++17 -O2 -DONLINE_JUDGE -I/ -o 0006_main.cpp.out\n"
     ]
    },
    {
     "name": "stderr",
     "output_type": "stream",
     "text": [
      "\u001b[32m[I 2021-11-12 21:37:14,369]\u001b[0m Trial 4 finished with value: 980224.0 and parameters: {'MCMC_Q_L2_NORM_RANGE': 4.07884124658451, 'MCMC_Q_RANGE': 0.6357423953046792, 'EXPECTED_SKILL_EMA_ALPHA_COEF': 0.027289589241608077, 'MAX_N_NOT_OPEN_TASKS_IN_QUEUE': 66, 'PRIORITY_DAY_OFFSET': 771, 'PRIORITY_COEF': 0.0022938517932896405}. Best is trial 0 with value: 1004564.0.\u001b[0m\n"
     ]
    },
    {
     "name": "stdout",
     "output_type": "stream",
     "text": [
      "callback ok\n",
      "index_parallel='0007'\n",
      "sed -i 0007_main.cpp -e 's/^constexpr auto MCMC_Q_L2_NORM_RANGE = .*;         \\/\\/ OPTIMIZE LOG \\[2\\.0, 20\\.0\\]$/constexpr auto MCMC_Q_L2_NORM_RANGE = 16.17726792955681;         \\/\\/ OPTIMIZE LOG [2.0, 20.0]/' -e 's/^constexpr auto MCMC_Q_RANGE = .*;                  \\/\\/ OPTIMIZE LOG \\[0\\.2, 10\\.0\\]$/constexpr auto MCMC_Q_RANGE = 1.8993194643242082;                  \\/\\/ OPTIMIZE LOG [0.2, 10.0]/' -e 's/^constexpr auto EXPECTED_SKILL_EMA_ALPHA_COEF = .*; \\/\\/ OPTIMIZE LOG \\[0\\.02, 2\\.0\\]$/constexpr auto EXPECTED_SKILL_EMA_ALPHA_COEF = 0.08701568786989411; \\/\\/ OPTIMIZE LOG [0.02, 2.0]/' -e 's/^constexpr auto MAX_N_NOT_OPEN_TASKS_IN_QUEUE = .*; \\/\\/ OPTIMIZE \\[60, 100\\]$/constexpr auto MAX_N_NOT_OPEN_TASKS_IN_QUEUE = 97; \\/\\/ OPTIMIZE [60, 100]/' -e 's/^constexpr auto PRIORITY_DAY_OFFSET = .*;          \\/\\/ OPTIMIZE \\[400, 1200\\]$/constexpr auto PRIORITY_DAY_OFFSET = 1029;          \\/\\/ OPTIMIZE [400, 1200]/' -e 's/^constexpr auto PRIORITY_COEF = .*;               \\/\\/ OPTIMIZE LOG \\[0\\.002, 2\\.0\\]$/constexpr auto PRIORITY_COEF = 0.0037220168941263757;               \\/\\/ OPTIMIZE LOG [0.002, 2.0]/'\n",
      "clang++ 0007_main.cpp -std=gnu++17 -O2 -DONLINE_JUDGE -I/ -o 0007_main.cpp.out\n"
     ]
    },
    {
     "name": "stderr",
     "output_type": "stream",
     "text": [
      "\u001b[32m[I 2021-11-12 21:37:20,725]\u001b[0m Trial 5 finished with value: 1001397.0 and parameters: {'MCMC_Q_L2_NORM_RANGE': 3.920201665134826, 'MCMC_Q_RANGE': 0.34643620993602586, 'EXPECTED_SKILL_EMA_ALPHA_COEF': 0.16554866457578135, 'MAX_N_NOT_OPEN_TASKS_IN_QUEUE': 77, 'PRIORITY_DAY_OFFSET': 747, 'PRIORITY_COEF': 0.029162968498417704}. Best is trial 0 with value: 1004564.0.\u001b[0m\n"
     ]
    },
    {
     "name": "stdout",
     "output_type": "stream",
     "text": [
      "callback ok\n",
      "index_parallel='0008'\n",
      "sed -i 0008_main.cpp -e 's/^constexpr auto MCMC_Q_L2_NORM_RANGE = .*;         \\/\\/ OPTIMIZE LOG \\[2\\.0, 20\\.0\\]$/constexpr auto MCMC_Q_L2_NORM_RANGE = 11.852845482234565;         \\/\\/ OPTIMIZE LOG [2.0, 20.0]/' -e 's/^constexpr auto MCMC_Q_RANGE = .*;                  \\/\\/ OPTIMIZE LOG \\[0\\.2, 10\\.0\\]$/constexpr auto MCMC_Q_RANGE = 5.379509599021074;                  \\/\\/ OPTIMIZE LOG [0.2, 10.0]/' -e 's/^constexpr auto EXPECTED_SKILL_EMA_ALPHA_COEF = .*; \\/\\/ OPTIMIZE LOG \\[0\\.02, 2\\.0\\]$/constexpr auto EXPECTED_SKILL_EMA_ALPHA_COEF = 0.20231359126580015; \\/\\/ OPTIMIZE LOG [0.02, 2.0]/' -e 's/^constexpr auto MAX_N_NOT_OPEN_TASKS_IN_QUEUE = .*; \\/\\/ OPTIMIZE \\[60, 100\\]$/constexpr auto MAX_N_NOT_OPEN_TASKS_IN_QUEUE = 96; \\/\\/ OPTIMIZE [60, 100]/' -e 's/^constexpr auto PRIORITY_DAY_OFFSET = .*;          \\/\\/ OPTIMIZE \\[400, 1200\\]$/constexpr auto PRIORITY_DAY_OFFSET = 995;          \\/\\/ OPTIMIZE [400, 1200]/' -e 's/^constexpr auto PRIORITY_COEF = .*;               \\/\\/ OPTIMIZE LOG \\[0\\.002, 2\\.0\\]$/constexpr auto PRIORITY_COEF = 0.10778312032770927;               \\/\\/ OPTIMIZE LOG [0.002, 2.0]/'\n",
      "clang++ 0008_main.cpp -std=gnu++17 -O2 -DONLINE_JUDGE -I/ -o 0008_main.cpp.out\n"
     ]
    },
    {
     "name": "stderr",
     "output_type": "stream",
     "text": [
      "\u001b[32m[I 2021-11-12 21:41:12,213]\u001b[0m Trial 7 finished with value: 996116.0 and parameters: {'MCMC_Q_L2_NORM_RANGE': 16.17726792955681, 'MCMC_Q_RANGE': 1.8993194643242082, 'EXPECTED_SKILL_EMA_ALPHA_COEF': 0.08701568786989411, 'MAX_N_NOT_OPEN_TASKS_IN_QUEUE': 97, 'PRIORITY_DAY_OFFSET': 1029, 'PRIORITY_COEF': 0.0037220168941263757}. Best is trial 0 with value: 1004564.0.\u001b[0m\n"
     ]
    },
    {
     "name": "stdout",
     "output_type": "stream",
     "text": [
      "callback ok\n",
      "index_parallel='0009'\n",
      "sed -i 0009_main.cpp -e 's/^constexpr auto MCMC_Q_L2_NORM_RANGE = .*;         \\/\\/ OPTIMIZE LOG \\[2\\.0, 20\\.0\\]$/constexpr auto MCMC_Q_L2_NORM_RANGE = 2.50614460158005;         \\/\\/ OPTIMIZE LOG [2.0, 20.0]/' -e 's/^constexpr auto MCMC_Q_RANGE = .*;                  \\/\\/ OPTIMIZE LOG \\[0\\.2, 10\\.0\\]$/constexpr auto MCMC_Q_RANGE = 8.960004394035277;                  \\/\\/ OPTIMIZE LOG [0.2, 10.0]/' -e 's/^constexpr auto EXPECTED_SKILL_EMA_ALPHA_COEF = .*; \\/\\/ OPTIMIZE LOG \\[0\\.02, 2\\.0\\]$/constexpr auto EXPECTED_SKILL_EMA_ALPHA_COEF = 1.1728015875958617; \\/\\/ OPTIMIZE LOG [0.02, 2.0]/' -e 's/^constexpr auto MAX_N_NOT_OPEN_TASKS_IN_QUEUE = .*; \\/\\/ OPTIMIZE \\[60, 100\\]$/constexpr auto MAX_N_NOT_OPEN_TASKS_IN_QUEUE = 92; \\/\\/ OPTIMIZE [60, 100]/' -e 's/^constexpr auto PRIORITY_DAY_OFFSET = .*;          \\/\\/ OPTIMIZE \\[400, 1200\\]$/constexpr auto PRIORITY_DAY_OFFSET = 790;          \\/\\/ OPTIMIZE [400, 1200]/' -e 's/^constexpr auto PRIORITY_COEF = .*;               \\/\\/ OPTIMIZE LOG \\[0\\.002, 2\\.0\\]$/constexpr auto PRIORITY_COEF = 0.4039618010701505;               \\/\\/ OPTIMIZE LOG [0.002, 2.0]/'\n",
      "clang++ 0009_main.cpp -std=gnu++17 -O2 -DONLINE_JUDGE -I/ -o 0009_main.cpp.out\n"
     ]
    },
    {
     "name": "stderr",
     "output_type": "stream",
     "text": [
      "\u001b[32m[I 2021-11-12 21:41:13,220]\u001b[0m Trial 6 finished with value: 996131.0 and parameters: {'MCMC_Q_L2_NORM_RANGE': 12.703729512695057, 'MCMC_Q_RANGE': 0.25954054793381565, 'EXPECTED_SKILL_EMA_ALPHA_COEF': 0.1420188082753534, 'MAX_N_NOT_OPEN_TASKS_IN_QUEUE': 75, 'PRIORITY_DAY_OFFSET': 863, 'PRIORITY_COEF': 0.3433560582620296}. Best is trial 0 with value: 1004564.0.\u001b[0m\n"
     ]
    },
    {
     "name": "stdout",
     "output_type": "stream",
     "text": [
      "callback ok\n",
      "index_parallel='0010'\n",
      "sed -i 0010_main.cpp -e 's/^constexpr auto MCMC_Q_L2_NORM_RANGE = .*;         \\/\\/ OPTIMIZE LOG \\[2\\.0, 20\\.0\\]$/constexpr auto MCMC_Q_L2_NORM_RANGE = 7.494073381659166;         \\/\\/ OPTIMIZE LOG [2.0, 20.0]/' -e 's/^constexpr auto MCMC_Q_RANGE = .*;                  \\/\\/ OPTIMIZE LOG \\[0\\.2, 10\\.0\\]$/constexpr auto MCMC_Q_RANGE = 0.7823033622558004;                  \\/\\/ OPTIMIZE LOG [0.2, 10.0]/' -e 's/^constexpr auto EXPECTED_SKILL_EMA_ALPHA_COEF = .*; \\/\\/ OPTIMIZE LOG \\[0\\.02, 2\\.0\\]$/constexpr auto EXPECTED_SKILL_EMA_ALPHA_COEF = 0.21950954479347007; \\/\\/ OPTIMIZE LOG [0.02, 2.0]/' -e 's/^constexpr auto MAX_N_NOT_OPEN_TASKS_IN_QUEUE = .*; \\/\\/ OPTIMIZE \\[60, 100\\]$/constexpr auto MAX_N_NOT_OPEN_TASKS_IN_QUEUE = 82; \\/\\/ OPTIMIZE [60, 100]/' -e 's/^constexpr auto PRIORITY_DAY_OFFSET = .*;          \\/\\/ OPTIMIZE \\[400, 1200\\]$/constexpr auto PRIORITY_DAY_OFFSET = 1151;          \\/\\/ OPTIMIZE [400, 1200]/' -e 's/^constexpr auto PRIORITY_COEF = .*;               \\/\\/ OPTIMIZE LOG \\[0\\.002, 2\\.0\\]$/constexpr auto PRIORITY_COEF = 0.12841628688523443;               \\/\\/ OPTIMIZE LOG [0.002, 2.0]/'\n",
      "clang++ 0010_main.cpp -std=gnu++17 -O2 -DONLINE_JUDGE -I/ -o 0010_main.cpp.out\n"
     ]
    },
    {
     "name": "stderr",
     "output_type": "stream",
     "text": [
      "\u001b[32m[I 2021-11-12 21:41:20,258]\u001b[0m Trial 8 finished with value: 1003324.0 and parameters: {'MCMC_Q_L2_NORM_RANGE': 11.852845482234565, 'MCMC_Q_RANGE': 5.379509599021074, 'EXPECTED_SKILL_EMA_ALPHA_COEF': 0.20231359126580015, 'MAX_N_NOT_OPEN_TASKS_IN_QUEUE': 96, 'PRIORITY_DAY_OFFSET': 995, 'PRIORITY_COEF': 0.10778312032770927}. Best is trial 0 with value: 1004564.0.\u001b[0m\n"
     ]
    },
    {
     "name": "stdout",
     "output_type": "stream",
     "text": [
      "callback ok\n",
      "index_parallel='0011'\n",
      "sed -i 0011_main.cpp -e 's/^constexpr auto MCMC_Q_L2_NORM_RANGE = .*;         \\/\\/ OPTIMIZE LOG \\[2\\.0, 20\\.0\\]$/constexpr auto MCMC_Q_L2_NORM_RANGE = 12.67875136647716;         \\/\\/ OPTIMIZE LOG [2.0, 20.0]/' -e 's/^constexpr auto MCMC_Q_RANGE = .*;                  \\/\\/ OPTIMIZE LOG \\[0\\.2, 10\\.0\\]$/constexpr auto MCMC_Q_RANGE = 3.3205431128698666;                  \\/\\/ OPTIMIZE LOG [0.2, 10.0]/' -e 's/^constexpr auto EXPECTED_SKILL_EMA_ALPHA_COEF = .*; \\/\\/ OPTIMIZE LOG \\[0\\.02, 2\\.0\\]$/constexpr auto EXPECTED_SKILL_EMA_ALPHA_COEF = 0.05061335238664184; \\/\\/ OPTIMIZE LOG [0.02, 2.0]/' -e 's/^constexpr auto MAX_N_NOT_OPEN_TASKS_IN_QUEUE = .*; \\/\\/ OPTIMIZE \\[60, 100\\]$/constexpr auto MAX_N_NOT_OPEN_TASKS_IN_QUEUE = 91; \\/\\/ OPTIMIZE [60, 100]/' -e 's/^constexpr auto PRIORITY_DAY_OFFSET = .*;          \\/\\/ OPTIMIZE \\[400, 1200\\]$/constexpr auto PRIORITY_DAY_OFFSET = 843;          \\/\\/ OPTIMIZE [400, 1200]/' -e 's/^constexpr auto PRIORITY_COEF = .*;               \\/\\/ OPTIMIZE LOG \\[0\\.002, 2\\.0\\]$/constexpr auto PRIORITY_COEF = 0.0026748788856228584;               \\/\\/ OPTIMIZE LOG [0.002, 2.0]/'\n",
      "clang++ 0011_main.cpp -std=gnu++17 -O2 -DONLINE_JUDGE -I/ -o 0011_main.cpp.out\n"
     ]
    },
    {
     "name": "stderr",
     "output_type": "stream",
     "text": [
      "\u001b[32m[I 2021-11-12 21:45:14,086]\u001b[0m Trial 10 finished with value: 1003058.0 and parameters: {'MCMC_Q_L2_NORM_RANGE': 7.494073381659166, 'MCMC_Q_RANGE': 0.7823033622558004, 'EXPECTED_SKILL_EMA_ALPHA_COEF': 0.21950954479347007, 'MAX_N_NOT_OPEN_TASKS_IN_QUEUE': 82, 'PRIORITY_DAY_OFFSET': 1151, 'PRIORITY_COEF': 0.12841628688523443}. Best is trial 0 with value: 1004564.0.\u001b[0m\n"
     ]
    },
    {
     "name": "stdout",
     "output_type": "stream",
     "text": [
      "callback ok\n",
      "index_parallel='0012'\n",
      "sed -i 0012_main.cpp -e 's/^constexpr auto MCMC_Q_L2_NORM_RANGE = .*;         \\/\\/ OPTIMIZE LOG \\[2\\.0, 20\\.0\\]$/constexpr auto MCMC_Q_L2_NORM_RANGE = 2.166504397712569;         \\/\\/ OPTIMIZE LOG [2.0, 20.0]/' -e 's/^constexpr auto MCMC_Q_RANGE = .*;                  \\/\\/ OPTIMIZE LOG \\[0\\.2, 10\\.0\\]$/constexpr auto MCMC_Q_RANGE = 3.506192393345058;                  \\/\\/ OPTIMIZE LOG [0.2, 10.0]/' -e 's/^constexpr auto EXPECTED_SKILL_EMA_ALPHA_COEF = .*; \\/\\/ OPTIMIZE LOG \\[0\\.02, 2\\.0\\]$/constexpr auto EXPECTED_SKILL_EMA_ALPHA_COEF = 1.413036332281759; \\/\\/ OPTIMIZE LOG [0.02, 2.0]/' -e 's/^constexpr auto MAX_N_NOT_OPEN_TASKS_IN_QUEUE = .*; \\/\\/ OPTIMIZE \\[60, 100\\]$/constexpr auto MAX_N_NOT_OPEN_TASKS_IN_QUEUE = 60; \\/\\/ OPTIMIZE [60, 100]/' -e 's/^constexpr auto PRIORITY_DAY_OFFSET = .*;          \\/\\/ OPTIMIZE \\[400, 1200\\]$/constexpr auto PRIORITY_DAY_OFFSET = 527;          \\/\\/ OPTIMIZE [400, 1200]/' -e 's/^constexpr auto PRIORITY_COEF = .*;               \\/\\/ OPTIMIZE LOG \\[0\\.002, 2\\.0\\]$/constexpr auto PRIORITY_COEF = 1.7522137629555432;               \\/\\/ OPTIMIZE LOG [0.002, 2.0]/'\n",
      "clang++ 0012_main.cpp -std=gnu++17 -O2 -DONLINE_JUDGE -I/ -o 0012_main.cpp.out\n"
     ]
    },
    {
     "name": "stderr",
     "output_type": "stream",
     "text": [
      "\u001b[32m[I 2021-11-12 21:45:17,904]\u001b[0m Trial 9 finished with value: 1004832.0 and parameters: {'MCMC_Q_L2_NORM_RANGE': 2.50614460158005, 'MCMC_Q_RANGE': 8.960004394035277, 'EXPECTED_SKILL_EMA_ALPHA_COEF': 1.1728015875958617, 'MAX_N_NOT_OPEN_TASKS_IN_QUEUE': 92, 'PRIORITY_DAY_OFFSET': 790, 'PRIORITY_COEF': 0.4039618010701505}. Best is trial 9 with value: 1004832.0.\u001b[0m\n"
     ]
    },
    {
     "name": "stdout",
     "output_type": "stream",
     "text": [
      "Updated! 1004832.0\n",
      "cp: cannot stat '0009_main.cpp': No such file or directory\r\n"
     ]
    },
    {
     "name": "stderr",
     "output_type": "stream",
     "text": [
      "\u001b[32m[I 2021-11-12 21:45:18,058]\u001b[0m Trial 11 finished with value: 988298.0 and parameters: {'MCMC_Q_L2_NORM_RANGE': 12.67875136647716, 'MCMC_Q_RANGE': 3.3205431128698666, 'EXPECTED_SKILL_EMA_ALPHA_COEF': 0.05061335238664184, 'MAX_N_NOT_OPEN_TASKS_IN_QUEUE': 91, 'PRIORITY_DAY_OFFSET': 843, 'PRIORITY_COEF': 0.0026748788856228584}. Best is trial 9 with value: 1004832.0.\u001b[0m\n"
     ]
    },
    {
     "name": "stdout",
     "output_type": "stream",
     "text": [
      "callback ok\n",
      "index_parallel='0013'\n",
      "callback ok\n",
      "index_parallel='0014'\n",
      "sed -i 0013_main.cpp -e 's/^constexpr auto MCMC_Q_L2_NORM_RANGE = .*;         \\/\\/ OPTIMIZE LOG \\[2\\.0, 20\\.0\\]$/constexpr auto MCMC_Q_L2_NORM_RANGE = 2.562391190735092;         \\/\\/ OPTIMIZE LOG [2.0, 20.0]/' -e 's/^constexpr auto MCMC_Q_RANGE = .*;                  \\/\\/ OPTIMIZE LOG \\[0\\.2, 10\\.0\\]$/constexpr auto MCMC_Q_RANGE = 8.547679721227574;                  \\/\\/ OPTIMIZE LOG [0.2, 10.0]/' -e 's/^constexpr auto EXPECTED_SKILL_EMA_ALPHA_COEF = .*; \\/\\/ OPTIMIZE LOG \\[0\\.02, 2\\.0\\]$/constexpr auto EXPECTED_SKILL_EMA_ALPHA_COEF = 1.6160320018587657; \\/\\/ OPTIMIZE LOG [0.02, 2.0]/' -e 's/^constexpr auto MAX_N_NOT_OPEN_TASKS_IN_QUEUE = .*; \\/\\/ OPTIMIZE \\[60, 100\\]$/constexpr auto MAX_N_NOT_OPEN_TASKS_IN_QUEUE = 61; \\/\\/ OPTIMIZE [60, 100]/' -e 's/^constexpr auto PRIORITY_DAY_OFFSET = .*;          \\/\\/ OPTIMIZE \\[400, 1200\\]$/constexpr auto PRIORITY_DAY_OFFSET = 590;          \\/\\/ OPTIMIZE [400, 1200]/' -e 's/^constexpr auto PRIORITY_COEF = .*;               \\/\\/ OPTIMIZE LOG \\[0\\.002, 2\\.0\\]$/constexpr auto PRIORITY_COEF = 1.9777077409551842;               \\/\\/ OPTIMIZE LOG [0.002, 2.0]/'\n",
      "clang++ 0013_main.cpp -std=gnu++17 -O2 -DONLINE_JUDGE -I/ -o 0013_main.cpp.out\n",
      "sed -i 0014_main.cpp -e 's/^constexpr auto MCMC_Q_L2_NORM_RANGE = .*;         \\/\\/ OPTIMIZE LOG \\[2\\.0, 20\\.0\\]$/constexpr auto MCMC_Q_L2_NORM_RANGE = 2.6138826592264897;         \\/\\/ OPTIMIZE LOG [2.0, 20.0]/' -e 's/^constexpr auto MCMC_Q_RANGE = .*;                  \\/\\/ OPTIMIZE LOG \\[0\\.2, 10\\.0\\]$/constexpr auto MCMC_Q_RANGE = 9.754155952173756;                  \\/\\/ OPTIMIZE LOG [0.2, 10.0]/' -e 's/^constexpr auto EXPECTED_SKILL_EMA_ALPHA_COEF = .*; \\/\\/ OPTIMIZE LOG \\[0\\.02, 2\\.0\\]$/constexpr auto EXPECTED_SKILL_EMA_ALPHA_COEF = 1.843133512899915; \\/\\/ OPTIMIZE LOG [0.02, 2.0]/' -e 's/^constexpr auto MAX_N_NOT_OPEN_TASKS_IN_QUEUE = .*; \\/\\/ OPTIMIZE \\[60, 100\\]$/constexpr auto MAX_N_NOT_OPEN_TASKS_IN_QUEUE = 61; \\/\\/ OPTIMIZE [60, 100]/' -e 's/^constexpr auto PRIORITY_DAY_OFFSET = .*;          \\/\\/ OPTIMIZE \\[400, 1200\\]$/constexpr auto PRIORITY_DAY_OFFSET = 568;          \\/\\/ OPTIMIZE [400, 1200]/' -e 's/^constexpr auto PRIORITY_COEF = .*;               \\/\\/ OPTIMIZE LOG \\[0\\.002, 2\\.0\\]$/constexpr auto PRIORITY_COEF = 1.6835256156678091;               \\/\\/ OPTIMIZE LOG [0.002, 2.0]/'\n",
      "clang++ 0014_main.cpp -std=gnu++17 -O2 -DONLINE_JUDGE -I/ -o 0014_main.cpp.out\n"
     ]
    },
    {
     "name": "stderr",
     "output_type": "stream",
     "text": [
      "\u001b[32m[I 2021-11-12 21:49:07,784]\u001b[0m Trial 12 finished with value: 1004132.0 and parameters: {'MCMC_Q_L2_NORM_RANGE': 2.166504397712569, 'MCMC_Q_RANGE': 3.506192393345058, 'EXPECTED_SKILL_EMA_ALPHA_COEF': 1.413036332281759, 'MAX_N_NOT_OPEN_TASKS_IN_QUEUE': 60, 'PRIORITY_DAY_OFFSET': 527, 'PRIORITY_COEF': 1.7522137629555432}. Best is trial 9 with value: 1004832.0.\u001b[0m\n"
     ]
    },
    {
     "name": "stdout",
     "output_type": "stream",
     "text": [
      "callback ok\n",
      "index_parallel='0015'\n",
      "sed -i 0015_main.cpp -e 's/^constexpr auto MCMC_Q_L2_NORM_RANGE = .*;         \\/\\/ OPTIMIZE LOG \\[2\\.0, 20\\.0\\]$/constexpr auto MCMC_Q_L2_NORM_RANGE = 6.384553687859111;         \\/\\/ OPTIMIZE LOG [2.0, 20.0]/' -e 's/^constexpr auto MCMC_Q_RANGE = .*;                  \\/\\/ OPTIMIZE LOG \\[0\\.2, 10\\.0\\]$/constexpr auto MCMC_Q_RANGE = 9.817681498969396;                  \\/\\/ OPTIMIZE LOG [0.2, 10.0]/' -e 's/^constexpr auto EXPECTED_SKILL_EMA_ALPHA_COEF = .*; \\/\\/ OPTIMIZE LOG \\[0\\.02, 2\\.0\\]$/constexpr auto EXPECTED_SKILL_EMA_ALPHA_COEF = 0.6298502994980292; \\/\\/ OPTIMIZE LOG [0.02, 2.0]/' -e 's/^constexpr auto MAX_N_NOT_OPEN_TASKS_IN_QUEUE = .*; \\/\\/ OPTIMIZE \\[60, 100\\]$/constexpr auto MAX_N_NOT_OPEN_TASKS_IN_QUEUE = 86; \\/\\/ OPTIMIZE [60, 100]/' -e 's/^constexpr auto PRIORITY_DAY_OFFSET = .*;          \\/\\/ OPTIMIZE \\[400, 1200\\]$/constexpr auto PRIORITY_DAY_OFFSET = 646;          \\/\\/ OPTIMIZE [400, 1200]/' -e 's/^constexpr auto PRIORITY_COEF = .*;               \\/\\/ OPTIMIZE LOG \\[0\\.002, 2\\.0\\]$/constexpr auto PRIORITY_COEF = 0.5624994940467134;               \\/\\/ OPTIMIZE LOG [0.002, 2.0]/'\n",
      "clang++ 0015_main.cpp -std=gnu++17 -O2 -DONLINE_JUDGE -I/ -o 0015_main.cpp.out\n"
     ]
    },
    {
     "name": "stderr",
     "output_type": "stream",
     "text": [
      "\u001b[32m[I 2021-11-12 21:49:15,810]\u001b[0m Trial 13 finished with value: 1002162.0 and parameters: {'MCMC_Q_L2_NORM_RANGE': 2.562391190735092, 'MCMC_Q_RANGE': 8.547679721227574, 'EXPECTED_SKILL_EMA_ALPHA_COEF': 1.6160320018587657, 'MAX_N_NOT_OPEN_TASKS_IN_QUEUE': 61, 'PRIORITY_DAY_OFFSET': 590, 'PRIORITY_COEF': 1.9777077409551842}. Best is trial 9 with value: 1004832.0.\u001b[0m\n"
     ]
    },
    {
     "name": "stdout",
     "output_type": "stream",
     "text": [
      "callback ok\n",
      "index_parallel='0016'\n"
     ]
    },
    {
     "name": "stderr",
     "output_type": "stream",
     "text": [
      "\u001b[32m[I 2021-11-12 21:49:16,247]\u001b[0m Trial 14 finished with value: 1003872.0 and parameters: {'MCMC_Q_L2_NORM_RANGE': 2.6138826592264897, 'MCMC_Q_RANGE': 9.754155952173756, 'EXPECTED_SKILL_EMA_ALPHA_COEF': 1.843133512899915, 'MAX_N_NOT_OPEN_TASKS_IN_QUEUE': 61, 'PRIORITY_DAY_OFFSET': 568, 'PRIORITY_COEF': 1.6835256156678091}. Best is trial 9 with value: 1004832.0.\u001b[0m\n"
     ]
    },
    {
     "name": "stdout",
     "output_type": "stream",
     "text": [
      "callback ok\n",
      "index_parallel='0017'\n",
      "sed -i 0016_main.cpp -e 's/^constexpr auto MCMC_Q_L2_NORM_RANGE = .*;         \\/\\/ OPTIMIZE LOG \\[2\\.0, 20\\.0\\]$/constexpr auto MCMC_Q_L2_NORM_RANGE = 5.480323377799062;         \\/\\/ OPTIMIZE LOG [2.0, 20.0]/' -e 's/^constexpr auto MCMC_Q_RANGE = .*;                  \\/\\/ OPTIMIZE LOG \\[0\\.2, 10\\.0\\]$/constexpr auto MCMC_Q_RANGE = 1.8929195110365136;                  \\/\\/ OPTIMIZE LOG [0.2, 10.0]/' -e 's/^constexpr auto EXPECTED_SKILL_EMA_ALPHA_COEF = .*; \\/\\/ OPTIMIZE LOG \\[0\\.02, 2\\.0\\]$/constexpr auto EXPECTED_SKILL_EMA_ALPHA_COEF = 0.4929305520281698; \\/\\/ OPTIMIZE LOG [0.02, 2.0]/' -e 's/^constexpr auto MAX_N_NOT_OPEN_TASKS_IN_QUEUE = .*; \\/\\/ OPTIMIZE \\[60, 100\\]$/constexpr auto MAX_N_NOT_OPEN_TASKS_IN_QUEUE = 88; \\/\\/ OPTIMIZE [60, 100]/' -e 's/^constexpr auto PRIORITY_DAY_OFFSET = .*;          \\/\\/ OPTIMIZE \\[400, 1200\\]$/constexpr auto PRIORITY_DAY_OFFSET = 640;          \\/\\/ OPTIMIZE [400, 1200]/' -e 's/^constexpr auto PRIORITY_COEF = .*;               \\/\\/ OPTIMIZE LOG \\[0\\.002, 2\\.0\\]$/constexpr auto PRIORITY_COEF = 0.3185849854988326;               \\/\\/ OPTIMIZE LOG [0.002, 2.0]/'\n",
      "clang++ 0016_main.cpp -std=gnu++17 -O2 -DONLINE_JUDGE -I/ -o 0016_main.cpp.out\n",
      "sed -i 0017_main.cpp -e 's/^constexpr auto MCMC_Q_L2_NORM_RANGE = .*;         \\/\\/ OPTIMIZE LOG \\[2\\.0, 20\\.0\\]$/constexpr auto MCMC_Q_L2_NORM_RANGE = 5.789105245621329;         \\/\\/ OPTIMIZE LOG [2.0, 20.0]/' -e 's/^constexpr auto MCMC_Q_RANGE = .*;                  \\/\\/ OPTIMIZE LOG \\[0\\.2, 10\\.0\\]$/constexpr auto MCMC_Q_RANGE = 1.8249260970625119;                  \\/\\/ OPTIMIZE LOG [0.2, 10.0]/' -e 's/^constexpr auto EXPECTED_SKILL_EMA_ALPHA_COEF = .*; \\/\\/ OPTIMIZE LOG \\[0\\.02, 2\\.0\\]$/constexpr auto EXPECTED_SKILL_EMA_ALPHA_COEF = 0.5707222566560414; \\/\\/ OPTIMIZE LOG [0.02, 2.0]/' -e 's/^constexpr auto MAX_N_NOT_OPEN_TASKS_IN_QUEUE = .*; \\/\\/ OPTIMIZE \\[60, 100\\]$/constexpr auto MAX_N_NOT_OPEN_TASKS_IN_QUEUE = 87; \\/\\/ OPTIMIZE [60, 100]/' -e 's/^constexpr auto PRIORITY_DAY_OFFSET = .*;          \\/\\/ OPTIMIZE \\[400, 1200\\]$/constexpr auto PRIORITY_DAY_OFFSET = 700;          \\/\\/ OPTIMIZE [400, 1200]/' -e 's/^constexpr auto PRIORITY_COEF = .*;               \\/\\/ OPTIMIZE LOG \\[0\\.002, 2\\.0\\]$/constexpr auto PRIORITY_COEF = 0.44721538560300483;               \\/\\/ OPTIMIZE LOG [0.002, 2.0]/'\n",
      "clang++ 0017_main.cpp -std=gnu++17 -O2 -DONLINE_JUDGE -I/ -o 0017_main.cpp.out\n"
     ]
    },
    {
     "name": "stderr",
     "output_type": "stream",
     "text": [
      "\u001b[32m[I 2021-11-12 21:53:11,344]\u001b[0m Trial 15 finished with value: 1006381.0 and parameters: {'MCMC_Q_L2_NORM_RANGE': 6.384553687859111, 'MCMC_Q_RANGE': 9.817681498969396, 'EXPECTED_SKILL_EMA_ALPHA_COEF': 0.6298502994980292, 'MAX_N_NOT_OPEN_TASKS_IN_QUEUE': 86, 'PRIORITY_DAY_OFFSET': 646, 'PRIORITY_COEF': 0.5624994940467134}. Best is trial 15 with value: 1006381.0.\u001b[0m\n"
     ]
    },
    {
     "name": "stdout",
     "output_type": "stream",
     "text": [
      "Updated! 1006381.0\n",
      "cp: cannot stat '0015_main.cpp': No such file or directory\n",
      "callback ok\n",
      "index_parallel='0018'\n",
      "sed -i 0018_main.cpp -e 's/^constexpr auto MCMC_Q_L2_NORM_RANGE = .*;         \\/\\/ OPTIMIZE LOG \\[2\\.0, 20\\.0\\]$/constexpr auto MCMC_Q_L2_NORM_RANGE = 4.436481652682251;         \\/\\/ OPTIMIZE LOG [2.0, 20.0]/' -e 's/^constexpr auto MCMC_Q_RANGE = .*;                  \\/\\/ OPTIMIZE LOG \\[0\\.2, 10\\.0\\]$/constexpr auto MCMC_Q_RANGE = 2.936002825920064;                  \\/\\/ OPTIMIZE LOG [0.2, 10.0]/' -e 's/^constexpr auto EXPECTED_SKILL_EMA_ALPHA_COEF = .*; \\/\\/ OPTIMIZE LOG \\[0\\.02, 2\\.0\\]$/constexpr auto EXPECTED_SKILL_EMA_ALPHA_COEF = 0.48684423339266975; \\/\\/ OPTIMIZE LOG [0.02, 2.0]/' -e 's/^constexpr auto MAX_N_NOT_OPEN_TASKS_IN_QUEUE = .*; \\/\\/ OPTIMIZE \\[60, 100\\]$/constexpr auto MAX_N_NOT_OPEN_TASKS_IN_QUEUE = 88; \\/\\/ OPTIMIZE [60, 100]/' -e 's/^constexpr auto PRIORITY_DAY_OFFSET = .*;          \\/\\/ OPTIMIZE \\[400, 1200\\]$/constexpr auto PRIORITY_DAY_OFFSET = 659;          \\/\\/ OPTIMIZE [400, 1200]/' -e 's/^constexpr auto PRIORITY_COEF = .*;               \\/\\/ OPTIMIZE LOG \\[0\\.002, 2\\.0\\]$/constexpr auto PRIORITY_COEF = 0.4817329705848045;               \\/\\/ OPTIMIZE LOG [0.002, 2.0]/'\n",
      "clang++ 0018_main.cpp -std=gnu++17 -O2 -DONLINE_JUDGE -I/ -o 0018_main.cpp.out\n"
     ]
    },
    {
     "name": "stderr",
     "output_type": "stream",
     "text": [
      "\u001b[32m[I 2021-11-12 21:53:16,811]\u001b[0m Trial 17 finished with value: 1008599.0 and parameters: {'MCMC_Q_L2_NORM_RANGE': 5.789105245621329, 'MCMC_Q_RANGE': 1.8249260970625119, 'EXPECTED_SKILL_EMA_ALPHA_COEF': 0.5707222566560414, 'MAX_N_NOT_OPEN_TASKS_IN_QUEUE': 87, 'PRIORITY_DAY_OFFSET': 700, 'PRIORITY_COEF': 0.44721538560300483}. Best is trial 17 with value: 1008599.0.\u001b[0m\n"
     ]
    },
    {
     "name": "stdout",
     "output_type": "stream",
     "text": [
      "Updated! 1008599.0\n",
      "cp: cannot stat '0017_main.cpp': No such file or directory\r\n"
     ]
    },
    {
     "name": "stderr",
     "output_type": "stream",
     "text": [
      "\u001b[32m[I 2021-11-12 21:53:16,914]\u001b[0m Trial 16 finished with value: 1008863.0 and parameters: {'MCMC_Q_L2_NORM_RANGE': 5.480323377799062, 'MCMC_Q_RANGE': 1.8929195110365136, 'EXPECTED_SKILL_EMA_ALPHA_COEF': 0.4929305520281698, 'MAX_N_NOT_OPEN_TASKS_IN_QUEUE': 88, 'PRIORITY_DAY_OFFSET': 640, 'PRIORITY_COEF': 0.3185849854988326}. Best is trial 16 with value: 1008863.0.\u001b[0m\n"
     ]
    },
    {
     "name": "stdout",
     "output_type": "stream",
     "text": [
      "Updated! 1008863.0\n",
      "cp: cannot stat '0016_main.cpp': No such file or directory\n",
      "callback ok\n",
      "index_parallel='0019'\n",
      "callback ok\n",
      "index_parallel='0020'\n",
      "sed -i 0019_main.cpp -e 's/^constexpr auto MCMC_Q_L2_NORM_RANGE = .*;         \\/\\/ OPTIMIZE LOG \\[2\\.0, 20\\.0\\]$/constexpr auto MCMC_Q_L2_NORM_RANGE = 5.239617398374116;         \\/\\/ OPTIMIZE LOG [2.0, 20.0]/' -e 's/^constexpr auto MCMC_Q_RANGE = .*;                  \\/\\/ OPTIMIZE LOG \\[0\\.2, 10\\.0\\]$/constexpr auto MCMC_Q_RANGE = 1.9378265129142065;                  \\/\\/ OPTIMIZE LOG [0.2, 10.0]/' -e 's/^constexpr auto EXPECTED_SKILL_EMA_ALPHA_COEF = .*; \\/\\/ OPTIMIZE LOG \\[0\\.02, 2\\.0\\]$/constexpr auto EXPECTED_SKILL_EMA_ALPHA_COEF = 0.32661421227250037; \\/\\/ OPTIMIZE LOG [0.02, 2.0]/' -e 's/^constexpr auto MAX_N_NOT_OPEN_TASKS_IN_QUEUE = .*; \\/\\/ OPTIMIZE \\[60, 100\\]$/constexpr auto MAX_N_NOT_OPEN_TASKS_IN_QUEUE = 86; \\/\\/ OPTIMIZE [60, 100]/' -e 's/^constexpr auto PRIORITY_DAY_OFFSET = .*;          \\/\\/ OPTIMIZE \\[400, 1200\\]$/constexpr auto PRIORITY_DAY_OFFSET = 414;          \\/\\/ OPTIMIZE [400, 1200]/' -e 's/^constexpr auto PRIORITY_COEF = .*;               \\/\\/ OPTIMIZE LOG \\[0\\.002, 2\\.0\\]$/constexpr auto PRIORITY_COEF = 0.7144858318722258;               \\/\\/ OPTIMIZE LOG [0.002, 2.0]/'\n",
      "clang++ 0019_main.cpp -std=gnu++17 -O2 -DONLINE_JUDGE -I/ -o 0019_main.cpp.out\n",
      "sed -i 0020_main.cpp -e 's/^constexpr auto MCMC_Q_L2_NORM_RANGE = .*;         \\/\\/ OPTIMIZE LOG \\[2\\.0, 20\\.0\\]$/constexpr auto MCMC_Q_L2_NORM_RANGE = 5.106161697201702;         \\/\\/ OPTIMIZE LOG [2.0, 20.0]/' -e 's/^constexpr auto MCMC_Q_RANGE = .*;                  \\/\\/ OPTIMIZE LOG \\[0\\.2, 10\\.0\\]$/constexpr auto MCMC_Q_RANGE = 1.7835729698066443;                  \\/\\/ OPTIMIZE LOG [0.2, 10.0]/' -e 's/^constexpr auto EXPECTED_SKILL_EMA_ALPHA_COEF = .*; \\/\\/ OPTIMIZE LOG \\[0\\.02, 2\\.0\\]$/constexpr auto EXPECTED_SKILL_EMA_ALPHA_COEF = 0.41109224057581284; \\/\\/ OPTIMIZE LOG [0.02, 2.0]/' -e 's/^constexpr auto MAX_N_NOT_OPEN_TASKS_IN_QUEUE = .*; \\/\\/ OPTIMIZE \\[60, 100\\]$/constexpr auto MAX_N_NOT_OPEN_TASKS_IN_QUEUE = 86; \\/\\/ OPTIMIZE [60, 100]/' -e 's/^constexpr auto PRIORITY_DAY_OFFSET = .*;          \\/\\/ OPTIMIZE \\[400, 1200\\]$/constexpr auto PRIORITY_DAY_OFFSET = 446;          \\/\\/ OPTIMIZE [400, 1200]/' -e 's/^constexpr auto PRIORITY_COEF = .*;               \\/\\/ OPTIMIZE LOG \\[0\\.002, 2\\.0\\]$/constexpr auto PRIORITY_COEF = 0.8195377801001823;               \\/\\/ OPTIMIZE LOG [0.002, 2.0]/'\n",
      "clang++ 0020_main.cpp -std=gnu++17 -O2 -DONLINE_JUDGE -I/ -o 0020_main.cpp.out\n"
     ]
    },
    {
     "name": "stderr",
     "output_type": "stream",
     "text": [
      "\u001b[32m[I 2021-11-12 21:57:12,572]\u001b[0m Trial 18 finished with value: 1009296.0 and parameters: {'MCMC_Q_L2_NORM_RANGE': 4.436481652682251, 'MCMC_Q_RANGE': 2.936002825920064, 'EXPECTED_SKILL_EMA_ALPHA_COEF': 0.48684423339266975, 'MAX_N_NOT_OPEN_TASKS_IN_QUEUE': 88, 'PRIORITY_DAY_OFFSET': 659, 'PRIORITY_COEF': 0.4817329705848045}. Best is trial 18 with value: 1009296.0.\u001b[0m\n"
     ]
    },
    {
     "name": "stdout",
     "output_type": "stream",
     "text": [
      "Updated! 1009296.0\n",
      "cp: cannot stat '0018_main.cpp': No such file or directory\n",
      "callback ok\n",
      "index_parallel='0021'\n",
      "sed -i 0021_main.cpp -e 's/^constexpr auto MCMC_Q_L2_NORM_RANGE = .*;         \\/\\/ OPTIMIZE LOG \\[2\\.0, 20\\.0\\]$/constexpr auto MCMC_Q_L2_NORM_RANGE = 4.981257674307708;         \\/\\/ OPTIMIZE LOG [2.0, 20.0]/' -e 's/^constexpr auto MCMC_Q_RANGE = .*;                  \\/\\/ OPTIMIZE LOG \\[0\\.2, 10\\.0\\]$/constexpr auto MCMC_Q_RANGE = 2.6518346628196037;                  \\/\\/ OPTIMIZE LOG [0.2, 10.0]/' -e 's/^constexpr auto EXPECTED_SKILL_EMA_ALPHA_COEF = .*; \\/\\/ OPTIMIZE LOG \\[0\\.02, 2\\.0\\]$/constexpr auto EXPECTED_SKILL_EMA_ALPHA_COEF = 0.32465159512578123; \\/\\/ OPTIMIZE LOG [0.02, 2.0]/' -e 's/^constexpr auto MAX_N_NOT_OPEN_TASKS_IN_QUEUE = .*; \\/\\/ OPTIMIZE \\[60, 100\\]$/constexpr auto MAX_N_NOT_OPEN_TASKS_IN_QUEUE = 85; \\/\\/ OPTIMIZE [60, 100]/' -e 's/^constexpr auto PRIORITY_DAY_OFFSET = .*;          \\/\\/ OPTIMIZE \\[400, 1200\\]$/constexpr auto PRIORITY_DAY_OFFSET = 486;          \\/\\/ OPTIMIZE [400, 1200]/' -e 's/^constexpr auto PRIORITY_COEF = .*;               \\/\\/ OPTIMIZE LOG \\[0\\.002, 2\\.0\\]$/constexpr auto PRIORITY_COEF = 0.7631570513170378;               \\/\\/ OPTIMIZE LOG [0.002, 2.0]/'\n",
      "clang++ 0021_main.cpp -std=gnu++17 -O2 -DONLINE_JUDGE -I/ -o 0021_main.cpp.out\n"
     ]
    },
    {
     "name": "stderr",
     "output_type": "stream",
     "text": [
      "\u001b[32m[I 2021-11-12 21:57:17,763]\u001b[0m Trial 19 finished with value: 1006675.0 and parameters: {'MCMC_Q_L2_NORM_RANGE': 5.239617398374116, 'MCMC_Q_RANGE': 1.9378265129142065, 'EXPECTED_SKILL_EMA_ALPHA_COEF': 0.32661421227250037, 'MAX_N_NOT_OPEN_TASKS_IN_QUEUE': 86, 'PRIORITY_DAY_OFFSET': 414, 'PRIORITY_COEF': 0.7144858318722258}. Best is trial 18 with value: 1009296.0.\u001b[0m\n"
     ]
    },
    {
     "name": "stdout",
     "output_type": "stream",
     "text": [
      "callback ok\n",
      "index_parallel='0022'\n"
     ]
    },
    {
     "name": "stderr",
     "output_type": "stream",
     "text": [
      "\u001b[32m[I 2021-11-12 21:57:17,992]\u001b[0m Trial 20 finished with value: 1009354.0 and parameters: {'MCMC_Q_L2_NORM_RANGE': 5.106161697201702, 'MCMC_Q_RANGE': 1.7835729698066443, 'EXPECTED_SKILL_EMA_ALPHA_COEF': 0.41109224057581284, 'MAX_N_NOT_OPEN_TASKS_IN_QUEUE': 86, 'PRIORITY_DAY_OFFSET': 446, 'PRIORITY_COEF': 0.8195377801001823}. Best is trial 20 with value: 1009354.0.\u001b[0m\n"
     ]
    },
    {
     "name": "stdout",
     "output_type": "stream",
     "text": [
      "Updated! 1009354.0\n",
      "cp: cannot stat '0020_main.cpp': No such file or directory\n",
      "callback ok\n",
      "index_parallel='0023'\n",
      "sed -i 0022_main.cpp -e 's/^constexpr auto MCMC_Q_L2_NORM_RANGE = .*;         \\/\\/ OPTIMIZE LOG \\[2\\.0, 20\\.0\\]$/constexpr auto MCMC_Q_L2_NORM_RANGE = 4.889387820334413;         \\/\\/ OPTIMIZE LOG [2.0, 20.0]/' -e 's/^constexpr auto MCMC_Q_RANGE = .*;                  \\/\\/ OPTIMIZE LOG \\[0\\.2, 10\\.0\\]$/constexpr auto MCMC_Q_RANGE = 2.6794165766786904;                  \\/\\/ OPTIMIZE LOG [0.2, 10.0]/' -e 's/^constexpr auto EXPECTED_SKILL_EMA_ALPHA_COEF = .*; \\/\\/ OPTIMIZE LOG \\[0\\.02, 2\\.0\\]$/constexpr auto EXPECTED_SKILL_EMA_ALPHA_COEF = 0.3662053821531517; \\/\\/ OPTIMIZE LOG [0.02, 2.0]/' -e 's/^constexpr auto MAX_N_NOT_OPEN_TASKS_IN_QUEUE = .*; \\/\\/ OPTIMIZE \\[60, 100\\]$/constexpr auto MAX_N_NOT_OPEN_TASKS_IN_QUEUE = 90; \\/\\/ OPTIMIZE [60, 100]/' -e 's/^constexpr auto PRIORITY_DAY_OFFSET = .*;          \\/\\/ OPTIMIZE \\[400, 1200\\]$/constexpr auto PRIORITY_DAY_OFFSET = 488;          \\/\\/ OPTIMIZE [400, 1200]/' -e 's/^constexpr auto PRIORITY_COEF = .*;               \\/\\/ OPTIMIZE LOG \\[0\\.002, 2\\.0\\]$/constexpr auto PRIORITY_COEF = 0.17558691181609684;               \\/\\/ OPTIMIZE LOG [0.002, 2.0]/'\n",
      "clang++ 0022_main.cpp -std=gnu++17 -O2 -DONLINE_JUDGE -I/ -o 0022_main.cpp.out\n",
      "sed -i 0023_main.cpp -e 's/^constexpr auto MCMC_Q_L2_NORM_RANGE = .*;         \\/\\/ OPTIMIZE LOG \\[2\\.0, 20\\.0\\]$/constexpr auto MCMC_Q_L2_NORM_RANGE = 4.769354075433341;         \\/\\/ OPTIMIZE LOG [2.0, 20.0]/' -e 's/^constexpr auto MCMC_Q_RANGE = .*;                  \\/\\/ OPTIMIZE LOG \\[0\\.2, 10\\.0\\]$/constexpr auto MCMC_Q_RANGE = 1.1838850263009482;                  \\/\\/ OPTIMIZE LOG [0.2, 10.0]/' -e 's/^constexpr auto EXPECTED_SKILL_EMA_ALPHA_COEF = .*; \\/\\/ OPTIMIZE LOG \\[0\\.02, 2\\.0\\]$/constexpr auto EXPECTED_SKILL_EMA_ALPHA_COEF = 0.29538716933517073; \\/\\/ OPTIMIZE LOG [0.02, 2.0]/' -e 's/^constexpr auto MAX_N_NOT_OPEN_TASKS_IN_QUEUE = .*; \\/\\/ OPTIMIZE \\[60, 100\\]$/constexpr auto MAX_N_NOT_OPEN_TASKS_IN_QUEUE = 91; \\/\\/ OPTIMIZE [60, 100]/' -e 's/^constexpr auto PRIORITY_DAY_OFFSET = .*;          \\/\\/ OPTIMIZE \\[400, 1200\\]$/constexpr auto PRIORITY_DAY_OFFSET = 497;          \\/\\/ OPTIMIZE [400, 1200]/' -e 's/^constexpr auto PRIORITY_COEF = .*;               \\/\\/ OPTIMIZE LOG \\[0\\.002, 2\\.0\\]$/constexpr auto PRIORITY_COEF = 0.9159330055516731;               \\/\\/ OPTIMIZE LOG [0.002, 2.0]/'\n",
      "clang++ 0023_main.cpp -std=gnu++17 -O2 -DONLINE_JUDGE -I/ -o 0023_main.cpp.out\n"
     ]
    },
    {
     "name": "stderr",
     "output_type": "stream",
     "text": [
      "\u001b[32m[I 2021-11-12 22:01:12,730]\u001b[0m Trial 21 finished with value: 1006975.0 and parameters: {'MCMC_Q_L2_NORM_RANGE': 4.981257674307708, 'MCMC_Q_RANGE': 2.6518346628196037, 'EXPECTED_SKILL_EMA_ALPHA_COEF': 0.32465159512578123, 'MAX_N_NOT_OPEN_TASKS_IN_QUEUE': 85, 'PRIORITY_DAY_OFFSET': 486, 'PRIORITY_COEF': 0.7631570513170378}. Best is trial 20 with value: 1009354.0.\u001b[0m\n"
     ]
    },
    {
     "name": "stdout",
     "output_type": "stream",
     "text": [
      "callback ok\n",
      "index_parallel='0024'\n",
      "sed -i 0024_main.cpp -e 's/^constexpr auto MCMC_Q_L2_NORM_RANGE = .*;         \\/\\/ OPTIMIZE LOG \\[2\\.0, 20\\.0\\]$/constexpr auto MCMC_Q_L2_NORM_RANGE = 4.388262347802918;         \\/\\/ OPTIMIZE LOG [2.0, 20.0]/' -e 's/^constexpr auto MCMC_Q_RANGE = .*;                  \\/\\/ OPTIMIZE LOG \\[0\\.2, 10\\.0\\]$/constexpr auto MCMC_Q_RANGE = 1.2575530110670126;                  \\/\\/ OPTIMIZE LOG [0.2, 10.0]/' -e 's/^constexpr auto EXPECTED_SKILL_EMA_ALPHA_COEF = .*; \\/\\/ OPTIMIZE LOG \\[0\\.02, 2\\.0\\]$/constexpr auto EXPECTED_SKILL_EMA_ALPHA_COEF = 0.3493086475943745; \\/\\/ OPTIMIZE LOG [0.02, 2.0]/' -e 's/^constexpr auto MAX_N_NOT_OPEN_TASKS_IN_QUEUE = .*; \\/\\/ OPTIMIZE \\[60, 100\\]$/constexpr auto MAX_N_NOT_OPEN_TASKS_IN_QUEUE = 91; \\/\\/ OPTIMIZE [60, 100]/' -e 's/^constexpr auto PRIORITY_DAY_OFFSET = .*;          \\/\\/ OPTIMIZE \\[400, 1200\\]$/constexpr auto PRIORITY_DAY_OFFSET = 633;          \\/\\/ OPTIMIZE [400, 1200]/' -e 's/^constexpr auto PRIORITY_COEF = .*;               \\/\\/ OPTIMIZE LOG \\[0\\.002, 2\\.0\\]$/constexpr auto PRIORITY_COEF = 0.1796394375636195;               \\/\\/ OPTIMIZE LOG [0.002, 2.0]/'\n",
      "clang++ 0024_main.cpp -std=gnu++17 -O2 -DONLINE_JUDGE -I/ -o 0024_main.cpp.out\n"
     ]
    },
    {
     "name": "stderr",
     "output_type": "stream",
     "text": [
      "\u001b[32m[I 2021-11-12 22:01:19,427]\u001b[0m Trial 22 finished with value: 1008531.0 and parameters: {'MCMC_Q_L2_NORM_RANGE': 4.889387820334413, 'MCMC_Q_RANGE': 2.6794165766786904, 'EXPECTED_SKILL_EMA_ALPHA_COEF': 0.3662053821531517, 'MAX_N_NOT_OPEN_TASKS_IN_QUEUE': 90, 'PRIORITY_DAY_OFFSET': 488, 'PRIORITY_COEF': 0.17558691181609684}. Best is trial 20 with value: 1009354.0.\u001b[0m\n"
     ]
    },
    {
     "name": "stdout",
     "output_type": "stream",
     "text": [
      "callback ok\n",
      "index_parallel='0025'\n"
     ]
    },
    {
     "name": "stderr",
     "output_type": "stream",
     "text": [
      "\u001b[32m[I 2021-11-12 22:01:19,972]\u001b[0m Trial 23 finished with value: 1007332.0 and parameters: {'MCMC_Q_L2_NORM_RANGE': 4.769354075433341, 'MCMC_Q_RANGE': 1.1838850263009482, 'EXPECTED_SKILL_EMA_ALPHA_COEF': 0.29538716933517073, 'MAX_N_NOT_OPEN_TASKS_IN_QUEUE': 91, 'PRIORITY_DAY_OFFSET': 497, 'PRIORITY_COEF': 0.9159330055516731}. Best is trial 20 with value: 1009354.0.\u001b[0m\n"
     ]
    },
    {
     "name": "stdout",
     "output_type": "stream",
     "text": [
      "sed -i 0025_main.cpp -e 's/^constexpr auto MCMC_Q_L2_NORM_RANGE = .*;         \\/\\/ OPTIMIZE LOG \\[2\\.0, 20\\.0\\]$/constexpr auto MCMC_Q_L2_NORM_RANGE = 8.10920332609669;         \\/\\/ OPTIMIZE LOG [2.0, 20.0]/' -e 's/^constexpr auto MCMC_Q_RANGE = .*;                  \\/\\/ OPTIMIZE LOG \\[0\\.2, 10\\.0\\]$/constexpr auto MCMC_Q_RANGE = 1.1955688637329762;                  \\/\\/ OPTIMIZE LOG [0.2, 10.0]/' -e 's/^constexpr auto EXPECTED_SKILL_EMA_ALPHA_COEF = .*; \\/\\/ OPTIMIZE LOG \\[0\\.02, 2\\.0\\]$/constexpr auto EXPECTED_SKILL_EMA_ALPHA_COEF = 0.9203572922587493; \\/\\/ OPTIMIZE LOG [0.02, 2.0]/' -e 's/^constexpr auto MAX_N_NOT_OPEN_TASKS_IN_QUEUE = .*; \\/\\/ OPTIMIZE \\[60, 100\\]$/constexpr auto MAX_N_NOT_OPEN_TASKS_IN_QUEUE = 94; \\/\\/ OPTIMIZE [60, 100]/' -e 's/^constexpr auto PRIORITY_DAY_OFFSET = .*;          \\/\\/ OPTIMIZE \\[400, 1200\\]$/constexpr auto PRIORITY_DAY_OFFSET = 652;          \\/\\/ OPTIMIZE [400, 1200]/' -e 's/^constexpr auto PRIORITY_COEF = .*;               \\/\\/ OPTIMIZE LOG \\[0\\.002, 2\\.0\\]$/constexpr auto PRIORITY_COEF = 0.9966505232873583;               \\/\\/ OPTIMIZE LOG [0.002, 2.0]/'\n",
      "clang++ 0025_main.cpp -std=gnu++17 -O2 -DONLINE_JUDGE -I/ -o 0025_main.cpp.out\n",
      "callback ok\n",
      "index_parallel='0026'\n",
      "sed -i 0026_main.cpp -e 's/^constexpr auto MCMC_Q_L2_NORM_RANGE = .*;         \\/\\/ OPTIMIZE LOG \\[2\\.0, 20\\.0\\]$/constexpr auto MCMC_Q_L2_NORM_RANGE = 8.201395862095833;         \\/\\/ OPTIMIZE LOG [2.0, 20.0]/' -e 's/^constexpr auto MCMC_Q_RANGE = .*;                  \\/\\/ OPTIMIZE LOG \\[0\\.2, 10\\.0\\]$/constexpr auto MCMC_Q_RANGE = 1.440298079563644;                  \\/\\/ OPTIMIZE LOG [0.2, 10.0]/' -e 's/^constexpr auto EXPECTED_SKILL_EMA_ALPHA_COEF = .*; \\/\\/ OPTIMIZE LOG \\[0\\.02, 2\\.0\\]$/constexpr auto EXPECTED_SKILL_EMA_ALPHA_COEF = 0.7922967787541187; \\/\\/ OPTIMIZE LOG [0.02, 2.0]/' -e 's/^constexpr auto MAX_N_NOT_OPEN_TASKS_IN_QUEUE = .*; \\/\\/ OPTIMIZE \\[60, 100\\]$/constexpr auto MAX_N_NOT_OPEN_TASKS_IN_QUEUE = 75; \\/\\/ OPTIMIZE [60, 100]/' -e 's/^constexpr auto PRIORITY_DAY_OFFSET = .*;          \\/\\/ OPTIMIZE \\[400, 1200\\]$/constexpr auto PRIORITY_DAY_OFFSET = 638;          \\/\\/ OPTIMIZE [400, 1200]/' -e 's/^constexpr auto PRIORITY_COEF = .*;               \\/\\/ OPTIMIZE LOG \\[0\\.002, 2\\.0\\]$/constexpr auto PRIORITY_COEF = 0.0681319504344832;               \\/\\/ OPTIMIZE LOG [0.002, 2.0]/'\n",
      "clang++ 0026_main.cpp -std=gnu++17 -O2 -DONLINE_JUDGE -I/ -o 0026_main.cpp.out\n"
     ]
    },
    {
     "name": "stderr",
     "output_type": "stream",
     "text": [
      "\u001b[32m[I 2021-11-12 22:05:16,140]\u001b[0m Trial 24 finished with value: 1008583.0 and parameters: {'MCMC_Q_L2_NORM_RANGE': 4.388262347802918, 'MCMC_Q_RANGE': 1.2575530110670126, 'EXPECTED_SKILL_EMA_ALPHA_COEF': 0.3493086475943745, 'MAX_N_NOT_OPEN_TASKS_IN_QUEUE': 91, 'PRIORITY_DAY_OFFSET': 633, 'PRIORITY_COEF': 0.1796394375636195}. Best is trial 20 with value: 1009354.0.\u001b[0m\n"
     ]
    },
    {
     "name": "stdout",
     "output_type": "stream",
     "text": [
      "callback ok\n",
      "index_parallel='0027'\n",
      "sed -i 0027_main.cpp -e 's/^constexpr auto MCMC_Q_L2_NORM_RANGE = .*;         \\/\\/ OPTIMIZE LOG \\[2\\.0, 20\\.0\\]$/constexpr auto MCMC_Q_L2_NORM_RANGE = 3.26275087666837;         \\/\\/ OPTIMIZE LOG [2.0, 20.0]/' -e 's/^constexpr auto MCMC_Q_RANGE = .*;                  \\/\\/ OPTIMIZE LOG \\[0\\.2, 10\\.0\\]$/constexpr auto MCMC_Q_RANGE = 0.8729340662024655;                  \\/\\/ OPTIMIZE LOG [0.2, 10.0]/' -e 's/^constexpr auto EXPECTED_SKILL_EMA_ALPHA_COEF = .*; \\/\\/ OPTIMIZE LOG \\[0\\.02, 2\\.0\\]$/constexpr auto EXPECTED_SKILL_EMA_ALPHA_COEF = 1.0063379513675574; \\/\\/ OPTIMIZE LOG [0.02, 2.0]/' -e 's/^constexpr auto MAX_N_NOT_OPEN_TASKS_IN_QUEUE = .*; \\/\\/ OPTIMIZE \\[60, 100\\]$/constexpr auto MAX_N_NOT_OPEN_TASKS_IN_QUEUE = 75; \\/\\/ OPTIMIZE [60, 100]/' -e 's/^constexpr auto PRIORITY_DAY_OFFSET = .*;          \\/\\/ OPTIMIZE \\[400, 1200\\]$/constexpr auto PRIORITY_DAY_OFFSET = 610;          \\/\\/ OPTIMIZE [400, 1200]/' -e 's/^constexpr auto PRIORITY_COEF = .*;               \\/\\/ OPTIMIZE LOG \\[0\\.002, 2\\.0\\]$/constexpr auto PRIORITY_COEF = 0.07213430495213546;               \\/\\/ OPTIMIZE LOG [0.002, 2.0]/'\n",
      "clang++ 0027_main.cpp -std=gnu++17 -O2 -DONLINE_JUDGE -I/ -o 0027_main.cpp.out\n"
     ]
    },
    {
     "name": "stderr",
     "output_type": "stream",
     "text": [
      "\u001b[32m[I 2021-11-12 22:05:20,317]\u001b[0m Trial 26 finished with value: 1009815.0 and parameters: {'MCMC_Q_L2_NORM_RANGE': 8.201395862095833, 'MCMC_Q_RANGE': 1.440298079563644, 'EXPECTED_SKILL_EMA_ALPHA_COEF': 0.7922967787541187, 'MAX_N_NOT_OPEN_TASKS_IN_QUEUE': 75, 'PRIORITY_DAY_OFFSET': 638, 'PRIORITY_COEF': 0.0681319504344832}. Best is trial 26 with value: 1009815.0.\u001b[0m\n"
     ]
    },
    {
     "name": "stdout",
     "output_type": "stream",
     "text": [
      "Updated! 1009815.0\n",
      "cp: cannot stat '0026_main.cpp': No such file or directory\n",
      "callback ok\n",
      "index_parallel='0028'\n",
      "sed -i 0028_main.cpp -e 's/^constexpr auto MCMC_Q_L2_NORM_RANGE = .*;         \\/\\/ OPTIMIZE LOG \\[2\\.0, 20\\.0\\]$/constexpr auto MCMC_Q_L2_NORM_RANGE = 8.152013025902834;         \\/\\/ OPTIMIZE LOG [2.0, 20.0]/' -e 's/^constexpr auto MCMC_Q_RANGE = .*;                  \\/\\/ OPTIMIZE LOG \\[0\\.2, 10\\.0\\]$/constexpr auto MCMC_Q_RANGE = 0.8401910780009031;                  \\/\\/ OPTIMIZE LOG [0.2, 10.0]/' -e 's/^constexpr auto EXPECTED_SKILL_EMA_ALPHA_COEF = .*; \\/\\/ OPTIMIZE LOG \\[0\\.02, 2\\.0\\]$/constexpr auto EXPECTED_SKILL_EMA_ALPHA_COEF = 0.96962450091001; \\/\\/ OPTIMIZE LOG [0.02, 2.0]/' -e 's/^constexpr auto MAX_N_NOT_OPEN_TASKS_IN_QUEUE = .*; \\/\\/ OPTIMIZE \\[60, 100\\]$/constexpr auto MAX_N_NOT_OPEN_TASKS_IN_QUEUE = 73; \\/\\/ OPTIMIZE [60, 100]/' -e 's/^constexpr auto PRIORITY_DAY_OFFSET = .*;          \\/\\/ OPTIMIZE \\[400, 1200\\]$/constexpr auto PRIORITY_DAY_OFFSET = 935;          \\/\\/ OPTIMIZE [400, 1200]/' -e 's/^constexpr auto PRIORITY_COEF = .*;               \\/\\/ OPTIMIZE LOG \\[0\\.002, 2\\.0\\]$/constexpr auto PRIORITY_COEF = 0.06364102046647746;               \\/\\/ OPTIMIZE LOG [0.002, 2.0]/'\n",
      "clang++ 0028_main.cpp -std=gnu++17 -O2 -DONLINE_JUDGE -I/ -o 0028_main.cpp.out\n"
     ]
    },
    {
     "name": "stderr",
     "output_type": "stream",
     "text": [
      "\u001b[32m[I 2021-11-12 22:05:21,432]\u001b[0m Trial 25 finished with value: 1009758.0 and parameters: {'MCMC_Q_L2_NORM_RANGE': 8.10920332609669, 'MCMC_Q_RANGE': 1.1955688637329762, 'EXPECTED_SKILL_EMA_ALPHA_COEF': 0.9203572922587493, 'MAX_N_NOT_OPEN_TASKS_IN_QUEUE': 94, 'PRIORITY_DAY_OFFSET': 652, 'PRIORITY_COEF': 0.9966505232873583}. Best is trial 26 with value: 1009815.0.\u001b[0m\n"
     ]
    },
    {
     "name": "stdout",
     "output_type": "stream",
     "text": [
      "callback ok\n",
      "index_parallel='0029'\n",
      "sed -i 0029_main.cpp -e 's/^constexpr auto MCMC_Q_L2_NORM_RANGE = .*;         \\/\\/ OPTIMIZE LOG \\[2\\.0, 20\\.0\\]$/constexpr auto MCMC_Q_L2_NORM_RANGE = 8.139763605139729;         \\/\\/ OPTIMIZE LOG [2.0, 20.0]/' -e 's/^constexpr auto MCMC_Q_RANGE = .*;                  \\/\\/ OPTIMIZE LOG \\[0\\.2, 10\\.0\\]$/constexpr auto MCMC_Q_RANGE = 0.7198298649577044;                  \\/\\/ OPTIMIZE LOG [0.2, 10.0]/' -e 's/^constexpr auto EXPECTED_SKILL_EMA_ALPHA_COEF = .*; \\/\\/ OPTIMIZE LOG \\[0\\.02, 2\\.0\\]$/constexpr auto EXPECTED_SKILL_EMA_ALPHA_COEF = 0.9606294656224098; \\/\\/ OPTIMIZE LOG [0.02, 2.0]/' -e 's/^constexpr auto MAX_N_NOT_OPEN_TASKS_IN_QUEUE = .*; \\/\\/ OPTIMIZE \\[60, 100\\]$/constexpr auto MAX_N_NOT_OPEN_TASKS_IN_QUEUE = 73; \\/\\/ OPTIMIZE [60, 100]/' -e 's/^constexpr auto PRIORITY_DAY_OFFSET = .*;          \\/\\/ OPTIMIZE \\[400, 1200\\]$/constexpr auto PRIORITY_DAY_OFFSET = 539;          \\/\\/ OPTIMIZE [400, 1200]/' -e 's/^constexpr auto PRIORITY_COEF = .*;               \\/\\/ OPTIMIZE LOG \\[0\\.002, 2\\.0\\]$/constexpr auto PRIORITY_COEF = 0.041580436061705674;               \\/\\/ OPTIMIZE LOG [0.002, 2.0]/'\n",
      "clang++ 0029_main.cpp -std=gnu++17 -O2 -DONLINE_JUDGE -I/ -o 0029_main.cpp.out\n"
     ]
    },
    {
     "name": "stderr",
     "output_type": "stream",
     "text": [
      "\u001b[32m[I 2021-11-12 22:09:21,250]\u001b[0m Trial 27 finished with value: 1008708.0 and parameters: {'MCMC_Q_L2_NORM_RANGE': 3.26275087666837, 'MCMC_Q_RANGE': 0.8729340662024655, 'EXPECTED_SKILL_EMA_ALPHA_COEF': 1.0063379513675574, 'MAX_N_NOT_OPEN_TASKS_IN_QUEUE': 75, 'PRIORITY_DAY_OFFSET': 610, 'PRIORITY_COEF': 0.07213430495213546}. Best is trial 26 with value: 1009815.0.\u001b[0m\n"
     ]
    },
    {
     "name": "stdout",
     "output_type": "stream",
     "text": [
      "callback ok\n",
      "index_parallel='0030'\n",
      "sed -i 0030_main.cpp -e 's/^constexpr auto MCMC_Q_L2_NORM_RANGE = .*;         \\/\\/ OPTIMIZE LOG \\[2\\.0, 20\\.0\\]$/constexpr auto MCMC_Q_L2_NORM_RANGE = 7.5059749452236435;         \\/\\/ OPTIMIZE LOG [2.0, 20.0]/' -e 's/^constexpr auto MCMC_Q_RANGE = .*;                  \\/\\/ OPTIMIZE LOG \\[0\\.2, 10\\.0\\]$/constexpr auto MCMC_Q_RANGE = 0.5589703708738257;                  \\/\\/ OPTIMIZE LOG [0.2, 10.0]/' -e 's/^constexpr auto EXPECTED_SKILL_EMA_ALPHA_COEF = .*; \\/\\/ OPTIMIZE LOG \\[0\\.02, 2\\.0\\]$/constexpr auto EXPECTED_SKILL_EMA_ALPHA_COEF = 0.8848399193680762; \\/\\/ OPTIMIZE LOG [0.02, 2.0]/' -e 's/^constexpr auto MAX_N_NOT_OPEN_TASKS_IN_QUEUE = .*; \\/\\/ OPTIMIZE \\[60, 100\\]$/constexpr auto MAX_N_NOT_OPEN_TASKS_IN_QUEUE = 71; \\/\\/ OPTIMIZE [60, 100]/' -e 's/^constexpr auto PRIORITY_DAY_OFFSET = .*;          \\/\\/ OPTIMIZE \\[400, 1200\\]$/constexpr auto PRIORITY_DAY_OFFSET = 559;          \\/\\/ OPTIMIZE [400, 1200]/' -e 's/^constexpr auto PRIORITY_COEF = .*;               \\/\\/ OPTIMIZE LOG \\[0\\.002, 2\\.0\\]$/constexpr auto PRIORITY_COEF = 0.007550614160854622;               \\/\\/ OPTIMIZE LOG [0.002, 2.0]/'\n",
      "clang++ 0030_main.cpp -std=gnu++17 -O2 -DONLINE_JUDGE -I/ -o 0030_main.cpp.out\n"
     ]
    },
    {
     "name": "stderr",
     "output_type": "stream",
     "text": [
      "\u001b[32m[I 2021-11-12 22:09:22,979]\u001b[0m Trial 28 finished with value: 1006247.0 and parameters: {'MCMC_Q_L2_NORM_RANGE': 8.152013025902834, 'MCMC_Q_RANGE': 0.8401910780009031, 'EXPECTED_SKILL_EMA_ALPHA_COEF': 0.96962450091001, 'MAX_N_NOT_OPEN_TASKS_IN_QUEUE': 73, 'PRIORITY_DAY_OFFSET': 935, 'PRIORITY_COEF': 0.06364102046647746}. Best is trial 26 with value: 1009815.0.\u001b[0m\n"
     ]
    },
    {
     "name": "stdout",
     "output_type": "stream",
     "text": [
      "callback ok\n",
      "index_parallel='0031'\n",
      "sed -i 0031_main.cpp -e 's/^constexpr auto MCMC_Q_L2_NORM_RANGE = .*;         \\/\\/ OPTIMIZE LOG \\[2\\.0, 20\\.0\\]$/constexpr auto MCMC_Q_L2_NORM_RANGE = 8.375594592325845;         \\/\\/ OPTIMIZE LOG [2.0, 20.0]/' -e 's/^constexpr auto MCMC_Q_RANGE = .*;                  \\/\\/ OPTIMIZE LOG \\[0\\.2, 10\\.0\\]$/constexpr auto MCMC_Q_RANGE = 0.611821202295883;                  \\/\\/ OPTIMIZE LOG [0.2, 10.0]/' -e 's/^constexpr auto EXPECTED_SKILL_EMA_ALPHA_COEF = .*; \\/\\/ OPTIMIZE LOG \\[0\\.02, 2\\.0\\]$/constexpr auto EXPECTED_SKILL_EMA_ALPHA_COEF = 0.8404177363469058; \\/\\/ OPTIMIZE LOG [0.02, 2.0]/' -e 's/^constexpr auto MAX_N_NOT_OPEN_TASKS_IN_QUEUE = .*; \\/\\/ OPTIMIZE \\[60, 100\\]$/constexpr auto MAX_N_NOT_OPEN_TASKS_IN_QUEUE = 100; \\/\\/ OPTIMIZE [60, 100]/' -e 's/^constexpr auto PRIORITY_DAY_OFFSET = .*;          \\/\\/ OPTIMIZE \\[400, 1200\\]$/constexpr auto PRIORITY_DAY_OFFSET = 548;          \\/\\/ OPTIMIZE [400, 1200]/' -e 's/^constexpr auto PRIORITY_COEF = .*;               \\/\\/ OPTIMIZE LOG \\[0\\.002, 2\\.0\\]$/constexpr auto PRIORITY_COEF = 1.1885149686858454;               \\/\\/ OPTIMIZE LOG [0.002, 2.0]/'\n",
      "clang++ 0031_main.cpp -std=gnu++17 -O2 -DONLINE_JUDGE -I/ -o 0031_main.cpp.out\n"
     ]
    },
    {
     "name": "stderr",
     "output_type": "stream",
     "text": [
      "\u001b[32m[I 2021-11-12 22:09:23,864]\u001b[0m Trial 29 finished with value: 1007393.0 and parameters: {'MCMC_Q_L2_NORM_RANGE': 8.139763605139729, 'MCMC_Q_RANGE': 0.7198298649577044, 'EXPECTED_SKILL_EMA_ALPHA_COEF': 0.9606294656224098, 'MAX_N_NOT_OPEN_TASKS_IN_QUEUE': 73, 'PRIORITY_DAY_OFFSET': 539, 'PRIORITY_COEF': 0.041580436061705674}. Best is trial 26 with value: 1009815.0.\u001b[0m\n"
     ]
    },
    {
     "name": "stdout",
     "output_type": "stream",
     "text": [
      "callback ok\n",
      "index_parallel='0032'\n",
      "sed -i 0032_main.cpp -e 's/^constexpr auto MCMC_Q_L2_NORM_RANGE = .*;         \\/\\/ OPTIMIZE LOG \\[2\\.0, 20\\.0\\]$/constexpr auto MCMC_Q_L2_NORM_RANGE = 9.196532871921704;         \\/\\/ OPTIMIZE LOG [2.0, 20.0]/' -e 's/^constexpr auto MCMC_Q_RANGE = .*;                  \\/\\/ OPTIMIZE LOG \\[0\\.2, 10\\.0\\]$/constexpr auto MCMC_Q_RANGE = 0.5728589782352551;                  \\/\\/ OPTIMIZE LOG [0.2, 10.0]/' -e 's/^constexpr auto EXPECTED_SKILL_EMA_ALPHA_COEF = .*; \\/\\/ OPTIMIZE LOG \\[0\\.02, 2\\.0\\]$/constexpr auto EXPECTED_SKILL_EMA_ALPHA_COEF = 0.8200580616042225; \\/\\/ OPTIMIZE LOG [0.02, 2.0]/' -e 's/^constexpr auto MAX_N_NOT_OPEN_TASKS_IN_QUEUE = .*; \\/\\/ OPTIMIZE \\[60, 100\\]$/constexpr auto MAX_N_NOT_OPEN_TASKS_IN_QUEUE = 81; \\/\\/ OPTIMIZE [60, 100]/' -e 's/^constexpr auto PRIORITY_DAY_OFFSET = .*;          \\/\\/ OPTIMIZE \\[400, 1200\\]$/constexpr auto PRIORITY_DAY_OFFSET = 696;          \\/\\/ OPTIMIZE [400, 1200]/' -e 's/^constexpr auto PRIORITY_COEF = .*;               \\/\\/ OPTIMIZE LOG \\[0\\.002, 2\\.0\\]$/constexpr auto PRIORITY_COEF = 0.006648690889675276;               \\/\\/ OPTIMIZE LOG [0.002, 2.0]/'\n",
      "clang++ 0032_main.cpp -std=gnu++17 -O2 -DONLINE_JUDGE -I/ -o 0032_main.cpp.out\n"
     ]
    },
    {
     "name": "stderr",
     "output_type": "stream",
     "text": [
      "\u001b[32m[I 2021-11-12 22:13:24,189]\u001b[0m Trial 30 finished with value: 1006965.0 and parameters: {'MCMC_Q_L2_NORM_RANGE': 7.5059749452236435, 'MCMC_Q_RANGE': 0.5589703708738257, 'EXPECTED_SKILL_EMA_ALPHA_COEF': 0.8848399193680762, 'MAX_N_NOT_OPEN_TASKS_IN_QUEUE': 71, 'PRIORITY_DAY_OFFSET': 559, 'PRIORITY_COEF': 0.007550614160854622}. Best is trial 26 with value: 1009815.0.\u001b[0m\n"
     ]
    },
    {
     "name": "stdout",
     "output_type": "stream",
     "text": [
      "callback ok\n",
      "index_parallel='0033'\n",
      "sed -i 0033_main.cpp -e 's/^constexpr auto MCMC_Q_L2_NORM_RANGE = .*;         \\/\\/ OPTIMIZE LOG \\[2\\.0, 20\\.0\\]$/constexpr auto MCMC_Q_L2_NORM_RANGE = 6.161385284362206;         \\/\\/ OPTIMIZE LOG [2.0, 20.0]/' -e 's/^constexpr auto MCMC_Q_RANGE = .*;                  \\/\\/ OPTIMIZE LOG \\[0\\.2, 10\\.0\\]$/constexpr auto MCMC_Q_RANGE = 1.5284378032855002;                  \\/\\/ OPTIMIZE LOG [0.2, 10.0]/' -e 's/^constexpr auto EXPECTED_SKILL_EMA_ALPHA_COEF = .*; \\/\\/ OPTIMIZE LOG \\[0\\.02, 2\\.0\\]$/constexpr auto EXPECTED_SKILL_EMA_ALPHA_COEF = 0.5115230557366741; \\/\\/ OPTIMIZE LOG [0.02, 2.0]/' -e 's/^constexpr auto MAX_N_NOT_OPEN_TASKS_IN_QUEUE = .*; \\/\\/ OPTIMIZE \\[60, 100\\]$/constexpr auto MAX_N_NOT_OPEN_TASKS_IN_QUEUE = 83; \\/\\/ OPTIMIZE [60, 100]/' -e 's/^constexpr auto PRIORITY_DAY_OFFSET = .*;          \\/\\/ OPTIMIZE \\[400, 1200\\]$/constexpr auto PRIORITY_DAY_OFFSET = 697;          \\/\\/ OPTIMIZE [400, 1200]/' -e 's/^constexpr auto PRIORITY_COEF = .*;               \\/\\/ OPTIMIZE LOG \\[0\\.002, 2\\.0\\]$/constexpr auto PRIORITY_COEF = 1.0906378339135872;               \\/\\/ OPTIMIZE LOG [0.002, 2.0]/'\n",
      "clang++ 0033_main.cpp -std=gnu++17 -O2 -DONLINE_JUDGE -I/ -o 0033_main.cpp.out\n"
     ]
    },
    {
     "name": "stderr",
     "output_type": "stream",
     "text": [
      "\u001b[32m[I 2021-11-12 22:13:28,687]\u001b[0m Trial 31 finished with value: 1008718.0 and parameters: {'MCMC_Q_L2_NORM_RANGE': 8.375594592325845, 'MCMC_Q_RANGE': 0.611821202295883, 'EXPECTED_SKILL_EMA_ALPHA_COEF': 0.8404177363469058, 'MAX_N_NOT_OPEN_TASKS_IN_QUEUE': 100, 'PRIORITY_DAY_OFFSET': 548, 'PRIORITY_COEF': 1.1885149686858454}. Best is trial 26 with value: 1009815.0.\u001b[0m\n"
     ]
    },
    {
     "name": "stdout",
     "output_type": "stream",
     "text": [
      "callback ok\n",
      "index_parallel='0034'\n"
     ]
    },
    {
     "name": "stderr",
     "output_type": "stream",
     "text": [
      "\u001b[32m[I 2021-11-12 22:13:29,095]\u001b[0m Trial 32 finished with value: 1007720.0 and parameters: {'MCMC_Q_L2_NORM_RANGE': 9.196532871921704, 'MCMC_Q_RANGE': 0.5728589782352551, 'EXPECTED_SKILL_EMA_ALPHA_COEF': 0.8200580616042225, 'MAX_N_NOT_OPEN_TASKS_IN_QUEUE': 81, 'PRIORITY_DAY_OFFSET': 696, 'PRIORITY_COEF': 0.006648690889675276}. Best is trial 26 with value: 1009815.0.\u001b[0m\n"
     ]
    },
    {
     "name": "stdout",
     "output_type": "stream",
     "text": [
      "callback ok\n",
      "index_parallel='0035'\n",
      "sed -i 0034_main.cpp -e 's/^constexpr auto MCMC_Q_L2_NORM_RANGE = .*;         \\/\\/ OPTIMIZE LOG \\[2\\.0, 20\\.0\\]$/constexpr auto MCMC_Q_L2_NORM_RANGE = 9.498009194092846;         \\/\\/ OPTIMIZE LOG [2.0, 20.0]/' -e 's/^constexpr auto MCMC_Q_RANGE = .*;                  \\/\\/ OPTIMIZE LOG \\[0\\.2, 10\\.0\\]$/constexpr auto MCMC_Q_RANGE = 1.5143293757657297;                  \\/\\/ OPTIMIZE LOG [0.2, 10.0]/' -e 's/^constexpr auto EXPECTED_SKILL_EMA_ALPHA_COEF = .*; \\/\\/ OPTIMIZE LOG \\[0\\.02, 2\\.0\\]$/constexpr auto EXPECTED_SKILL_EMA_ALPHA_COEF = 0.5218148155640576; \\/\\/ OPTIMIZE LOG [0.02, 2.0]/' -e 's/^constexpr auto MAX_N_NOT_OPEN_TASKS_IN_QUEUE = .*; \\/\\/ OPTIMIZE \\[60, 100\\]$/constexpr auto MAX_N_NOT_OPEN_TASKS_IN_QUEUE = 82; \\/\\/ OPTIMIZE [60, 100]/' -e 's/^constexpr auto PRIORITY_DAY_OFFSET = .*;          \\/\\/ OPTIMIZE \\[400, 1200\\]$/constexpr auto PRIORITY_DAY_OFFSET = 698;          \\/\\/ OPTIMIZE [400, 1200]/' -e 's/^constexpr auto PRIORITY_COEF = .*;               \\/\\/ OPTIMIZE LOG \\[0\\.002, 2\\.0\\]$/constexpr auto PRIORITY_COEF = 0.27758942285952704;               \\/\\/ OPTIMIZE LOG [0.002, 2.0]/'\n",
      "clang++ 0034_main.cpp -std=gnu++17 -O2 -DONLINE_JUDGE -I/ -o 0034_main.cpp.out\n",
      "sed -i 0035_main.cpp -e 's/^constexpr auto MCMC_Q_L2_NORM_RANGE = .*;         \\/\\/ OPTIMIZE LOG \\[2\\.0, 20\\.0\\]$/constexpr auto MCMC_Q_L2_NORM_RANGE = 6.398588866263802;         \\/\\/ OPTIMIZE LOG [2.0, 20.0]/' -e 's/^constexpr auto MCMC_Q_RANGE = .*;                  \\/\\/ OPTIMIZE LOG \\[0\\.2, 10\\.0\\]$/constexpr auto MCMC_Q_RANGE = 1.4137038397717245;                  \\/\\/ OPTIMIZE LOG [0.2, 10.0]/' -e 's/^constexpr auto EXPECTED_SKILL_EMA_ALPHA_COEF = .*; \\/\\/ OPTIMIZE LOG \\[0\\.02, 2\\.0\\]$/constexpr auto EXPECTED_SKILL_EMA_ALPHA_COEF = 0.4759669134241268; \\/\\/ OPTIMIZE LOG [0.02, 2.0]/' -e 's/^constexpr auto MAX_N_NOT_OPEN_TASKS_IN_QUEUE = .*; \\/\\/ OPTIMIZE \\[60, 100\\]$/constexpr auto MAX_N_NOT_OPEN_TASKS_IN_QUEUE = 95; \\/\\/ OPTIMIZE [60, 100]/' -e 's/^constexpr auto PRIORITY_DAY_OFFSET = .*;          \\/\\/ OPTIMIZE \\[400, 1200\\]$/constexpr auto PRIORITY_DAY_OFFSET = 671;          \\/\\/ OPTIMIZE [400, 1200]/' -e 's/^constexpr auto PRIORITY_COEF = .*;               \\/\\/ OPTIMIZE LOG \\[0\\.002, 2\\.0\\]$/constexpr auto PRIORITY_COEF = 1.1246587923304359;               \\/\\/ OPTIMIZE LOG [0.002, 2.0]/'\n",
      "clang++ 0035_main.cpp -std=gnu++17 -O2 -DONLINE_JUDGE -I/ -o 0035_main.cpp.out\n"
     ]
    },
    {
     "name": "stderr",
     "output_type": "stream",
     "text": [
      "\u001b[32m[I 2021-11-12 22:17:26,528]\u001b[0m Trial 33 finished with value: 1008915.0 and parameters: {'MCMC_Q_L2_NORM_RANGE': 6.161385284362206, 'MCMC_Q_RANGE': 1.5284378032855002, 'EXPECTED_SKILL_EMA_ALPHA_COEF': 0.5115230557366741, 'MAX_N_NOT_OPEN_TASKS_IN_QUEUE': 83, 'PRIORITY_DAY_OFFSET': 697, 'PRIORITY_COEF': 1.0906378339135872}. Best is trial 26 with value: 1009815.0.\u001b[0m\n"
     ]
    },
    {
     "name": "stdout",
     "output_type": "stream",
     "text": [
      "callback ok\n",
      "index_parallel='0036'\n",
      "sed -i 0036_main.cpp -e 's/^constexpr auto MCMC_Q_L2_NORM_RANGE = .*;         \\/\\/ OPTIMIZE LOG \\[2\\.0, 20\\.0\\]$/constexpr auto MCMC_Q_L2_NORM_RANGE = 6.499144501117295;         \\/\\/ OPTIMIZE LOG [2.0, 20.0]/' -e 's/^constexpr auto MCMC_Q_RANGE = .*;                  \\/\\/ OPTIMIZE LOG \\[0\\.2, 10\\.0\\]$/constexpr auto MCMC_Q_RANGE = 5.131924601539391;                  \\/\\/ OPTIMIZE LOG [0.2, 10.0]/' -e 's/^constexpr auto EXPECTED_SKILL_EMA_ALPHA_COEF = .*; \\/\\/ OPTIMIZE LOG \\[0\\.02, 2\\.0\\]$/constexpr auto EXPECTED_SKILL_EMA_ALPHA_COEF = 0.441329443810305; \\/\\/ OPTIMIZE LOG [0.02, 2.0]/' -e 's/^constexpr auto MAX_N_NOT_OPEN_TASKS_IN_QUEUE = .*; \\/\\/ OPTIMIZE \\[60, 100\\]$/constexpr auto MAX_N_NOT_OPEN_TASKS_IN_QUEUE = 94; \\/\\/ OPTIMIZE [60, 100]/' -e 's/^constexpr auto PRIORITY_DAY_OFFSET = .*;          \\/\\/ OPTIMIZE \\[400, 1200\\]$/constexpr auto PRIORITY_DAY_OFFSET = 446;          \\/\\/ OPTIMIZE [400, 1200]/' -e 's/^constexpr auto PRIORITY_COEF = .*;               \\/\\/ OPTIMIZE LOG \\[0\\.002, 2\\.0\\]$/constexpr auto PRIORITY_COEF = 0.3209440579624464;               \\/\\/ OPTIMIZE LOG [0.002, 2.0]/'\n",
      "clang++ 0036_main.cpp -std=gnu++17 -O2 -DONLINE_JUDGE -I/ -o 0036_main.cpp.out\n"
     ]
    },
    {
     "name": "stderr",
     "output_type": "stream",
     "text": [
      "\u001b[32m[I 2021-11-12 22:17:30,726]\u001b[0m Trial 34 finished with value: 1009203.0 and parameters: {'MCMC_Q_L2_NORM_RANGE': 9.498009194092846, 'MCMC_Q_RANGE': 1.5143293757657297, 'EXPECTED_SKILL_EMA_ALPHA_COEF': 0.5218148155640576, 'MAX_N_NOT_OPEN_TASKS_IN_QUEUE': 82, 'PRIORITY_DAY_OFFSET': 698, 'PRIORITY_COEF': 0.27758942285952704}. Best is trial 26 with value: 1009815.0.\u001b[0m\n"
     ]
    },
    {
     "name": "stdout",
     "output_type": "stream",
     "text": [
      "callback ok\n",
      "index_parallel='0037'\n",
      "sed -i 0037_main.cpp -e 's/^constexpr auto MCMC_Q_L2_NORM_RANGE = .*;         \\/\\/ OPTIMIZE LOG \\[2\\.0, 20\\.0\\]$/constexpr auto MCMC_Q_L2_NORM_RANGE = 6.691873312295634;         \\/\\/ OPTIMIZE LOG [2.0, 20.0]/' -e 's/^constexpr auto MCMC_Q_RANGE = .*;                  \\/\\/ OPTIMIZE LOG \\[0\\.2, 10\\.0\\]$/constexpr auto MCMC_Q_RANGE = 6.058258450493299;                  \\/\\/ OPTIMIZE LOG [0.2, 10.0]/' -e 's/^constexpr auto EXPECTED_SKILL_EMA_ALPHA_COEF = .*; \\/\\/ OPTIMIZE LOG \\[0\\.02, 2\\.0\\]$/constexpr auto EXPECTED_SKILL_EMA_ALPHA_COEF = 0.4341674230827576; \\/\\/ OPTIMIZE LOG [0.02, 2.0]/' -e 's/^constexpr auto MAX_N_NOT_OPEN_TASKS_IN_QUEUE = .*; \\/\\/ OPTIMIZE \\[60, 100\\]$/constexpr auto MAX_N_NOT_OPEN_TASKS_IN_QUEUE = 94; \\/\\/ OPTIMIZE [60, 100]/' -e 's/^constexpr auto PRIORITY_DAY_OFFSET = .*;          \\/\\/ OPTIMIZE \\[400, 1200\\]$/constexpr auto PRIORITY_DAY_OFFSET = 661;          \\/\\/ OPTIMIZE [400, 1200]/' -e 's/^constexpr auto PRIORITY_COEF = .*;               \\/\\/ OPTIMIZE LOG \\[0\\.002, 2\\.0\\]$/constexpr auto PRIORITY_COEF = 0.5606443120295551;               \\/\\/ OPTIMIZE LOG [0.002, 2.0]/'\n",
      "clang++ 0037_main.cpp -std=gnu++17 -O2 -DONLINE_JUDGE -I/ -o 0037_main.cpp.out\n"
     ]
    },
    {
     "name": "stderr",
     "output_type": "stream",
     "text": [
      "\u001b[32m[I 2021-11-12 22:17:31,519]\u001b[0m Trial 35 finished with value: 1008573.0 and parameters: {'MCMC_Q_L2_NORM_RANGE': 6.398588866263802, 'MCMC_Q_RANGE': 1.4137038397717245, 'EXPECTED_SKILL_EMA_ALPHA_COEF': 0.4759669134241268, 'MAX_N_NOT_OPEN_TASKS_IN_QUEUE': 95, 'PRIORITY_DAY_OFFSET': 671, 'PRIORITY_COEF': 1.1246587923304359}. Best is trial 26 with value: 1009815.0.\u001b[0m\n"
     ]
    },
    {
     "name": "stdout",
     "output_type": "stream",
     "text": [
      "callback ok\n",
      "index_parallel='0038'\n",
      "sed -i 0038_main.cpp -e 's/^constexpr auto MCMC_Q_L2_NORM_RANGE = .*;         \\/\\/ OPTIMIZE LOG \\[2\\.0, 20\\.0\\]$/constexpr auto MCMC_Q_L2_NORM_RANGE = 3.4472631541191285;         \\/\\/ OPTIMIZE LOG [2.0, 20.0]/' -e 's/^constexpr auto MCMC_Q_RANGE = .*;                  \\/\\/ OPTIMIZE LOG \\[0\\.2, 10\\.0\\]$/constexpr auto MCMC_Q_RANGE = 5.12531475635329;                  \\/\\/ OPTIMIZE LOG [0.2, 10.0]/' -e 's/^constexpr auto EXPECTED_SKILL_EMA_ALPHA_COEF = .*; \\/\\/ OPTIMIZE LOG \\[0\\.02, 2\\.0\\]$/constexpr auto EXPECTED_SKILL_EMA_ALPHA_COEF = 1.3228130609258266; \\/\\/ OPTIMIZE LOG [0.02, 2.0]/' -e 's/^constexpr auto MAX_N_NOT_OPEN_TASKS_IN_QUEUE = .*; \\/\\/ OPTIMIZE \\[60, 100\\]$/constexpr auto MAX_N_NOT_OPEN_TASKS_IN_QUEUE = 79; \\/\\/ OPTIMIZE [60, 100]/' -e 's/^constexpr auto PRIORITY_DAY_OFFSET = .*;          \\/\\/ OPTIMIZE \\[400, 1200\\]$/constexpr auto PRIORITY_DAY_OFFSET = 451;          \\/\\/ OPTIMIZE [400, 1200]/' -e 's/^constexpr auto PRIORITY_COEF = .*;               \\/\\/ OPTIMIZE LOG \\[0\\.002, 2\\.0\\]$/constexpr auto PRIORITY_COEF = 0.015880910575053402;               \\/\\/ OPTIMIZE LOG [0.002, 2.0]/'\n",
      "clang++ 0038_main.cpp -std=gnu++17 -O2 -DONLINE_JUDGE -I/ -o 0038_main.cpp.out\n"
     ]
    },
    {
     "name": "stderr",
     "output_type": "stream",
     "text": [
      "\u001b[32m[I 2021-11-12 22:21:29,152]\u001b[0m Trial 36 finished with value: 1007654.0 and parameters: {'MCMC_Q_L2_NORM_RANGE': 6.499144501117295, 'MCMC_Q_RANGE': 5.131924601539391, 'EXPECTED_SKILL_EMA_ALPHA_COEF': 0.441329443810305, 'MAX_N_NOT_OPEN_TASKS_IN_QUEUE': 94, 'PRIORITY_DAY_OFFSET': 446, 'PRIORITY_COEF': 0.3209440579624464}. Best is trial 26 with value: 1009815.0.\u001b[0m\n"
     ]
    },
    {
     "name": "stdout",
     "output_type": "stream",
     "text": [
      "callback ok\n",
      "index_parallel='0039'\n",
      "sed -i 0039_main.cpp -e 's/^constexpr auto MCMC_Q_L2_NORM_RANGE = .*;         \\/\\/ OPTIMIZE LOG \\[2\\.0, 20\\.0\\]$/constexpr auto MCMC_Q_L2_NORM_RANGE = 3.581831633541868;         \\/\\/ OPTIMIZE LOG [2.0, 20.0]/' -e 's/^constexpr auto MCMC_Q_RANGE = .*;                  \\/\\/ OPTIMIZE LOG \\[0\\.2, 10\\.0\\]$/constexpr auto MCMC_Q_RANGE = 2.2797867741040454;                  \\/\\/ OPTIMIZE LOG [0.2, 10.0]/' -e 's/^constexpr auto EXPECTED_SKILL_EMA_ALPHA_COEF = .*; \\/\\/ OPTIMIZE LOG \\[0\\.02, 2\\.0\\]$/constexpr auto EXPECTED_SKILL_EMA_ALPHA_COEF = 0.2572833079818129; \\/\\/ OPTIMIZE LOG [0.02, 2.0]/' -e 's/^constexpr auto MAX_N_NOT_OPEN_TASKS_IN_QUEUE = .*; \\/\\/ OPTIMIZE \\[60, 100\\]$/constexpr auto MAX_N_NOT_OPEN_TASKS_IN_QUEUE = 79; \\/\\/ OPTIMIZE [60, 100]/' -e 's/^constexpr auto PRIORITY_DAY_OFFSET = .*;          \\/\\/ OPTIMIZE \\[400, 1200\\]$/constexpr auto PRIORITY_DAY_OFFSET = 836;          \\/\\/ OPTIMIZE [400, 1200]/' -e 's/^constexpr auto PRIORITY_COEF = .*;               \\/\\/ OPTIMIZE LOG \\[0\\.002, 2\\.0\\]$/constexpr auto PRIORITY_COEF = 0.013171216604815652;               \\/\\/ OPTIMIZE LOG [0.002, 2.0]/'\n",
      "clang++ 0039_main.cpp -std=gnu++17 -O2 -DONLINE_JUDGE -I/ -o 0039_main.cpp.out\n"
     ]
    },
    {
     "name": "stderr",
     "output_type": "stream",
     "text": [
      "\u001b[32m[I 2021-11-12 22:21:34,125]\u001b[0m Trial 37 finished with value: 1007107.0 and parameters: {'MCMC_Q_L2_NORM_RANGE': 6.691873312295634, 'MCMC_Q_RANGE': 6.058258450493299, 'EXPECTED_SKILL_EMA_ALPHA_COEF': 0.4341674230827576, 'MAX_N_NOT_OPEN_TASKS_IN_QUEUE': 94, 'PRIORITY_DAY_OFFSET': 661, 'PRIORITY_COEF': 0.5606443120295551}. Best is trial 26 with value: 1009815.0.\u001b[0m\n"
     ]
    },
    {
     "name": "stdout",
     "output_type": "stream",
     "text": [
      "callback ok\n",
      "index_parallel='0040'\n",
      "sed -i 0040_main.cpp -e 's/^constexpr auto MCMC_Q_L2_NORM_RANGE = .*;         \\/\\/ OPTIMIZE LOG \\[2\\.0, 20\\.0\\]$/constexpr auto MCMC_Q_L2_NORM_RANGE = 3.1632959992710648;         \\/\\/ OPTIMIZE LOG [2.0, 20.0]/' -e 's/^constexpr auto MCMC_Q_RANGE = .*;                  \\/\\/ OPTIMIZE LOG \\[0\\.2, 10\\.0\\]$/constexpr auto MCMC_Q_RANGE = 1.0507906994017948;                  \\/\\/ OPTIMIZE LOG [0.2, 10.0]/' -e 's/^constexpr auto EXPECTED_SKILL_EMA_ALPHA_COEF = .*; \\/\\/ OPTIMIZE LOG \\[0\\.02, 2\\.0\\]$/constexpr auto EXPECTED_SKILL_EMA_ALPHA_COEF = 0.2561049173186312; \\/\\/ OPTIMIZE LOG [0.02, 2.0]/' -e 's/^constexpr auto MAX_N_NOT_OPEN_TASKS_IN_QUEUE = .*; \\/\\/ OPTIMIZE \\[60, 100\\]$/constexpr auto MAX_N_NOT_OPEN_TASKS_IN_QUEUE = 67; \\/\\/ OPTIMIZE [60, 100]/' -e 's/^constexpr auto PRIORITY_DAY_OFFSET = .*;          \\/\\/ OPTIMIZE \\[400, 1200\\]$/constexpr auto PRIORITY_DAY_OFFSET = 834;          \\/\\/ OPTIMIZE [400, 1200]/' -e 's/^constexpr auto PRIORITY_COEF = .*;               \\/\\/ OPTIMIZE LOG \\[0\\.002, 2\\.0\\]$/constexpr auto PRIORITY_COEF = 0.020057717688560746;               \\/\\/ OPTIMIZE LOG [0.002, 2.0]/'\n",
      "clang++ 0040_main.cpp -std=gnu++17 -O2 -DONLINE_JUDGE -I/ -o 0040_main.cpp.out\n"
     ]
    },
    {
     "name": "stderr",
     "output_type": "stream",
     "text": [
      "\u001b[32m[I 2021-11-12 22:21:34,947]\u001b[0m Trial 38 finished with value: 1006545.0 and parameters: {'MCMC_Q_L2_NORM_RANGE': 3.4472631541191285, 'MCMC_Q_RANGE': 5.12531475635329, 'EXPECTED_SKILL_EMA_ALPHA_COEF': 1.3228130609258266, 'MAX_N_NOT_OPEN_TASKS_IN_QUEUE': 79, 'PRIORITY_DAY_OFFSET': 451, 'PRIORITY_COEF': 0.015880910575053402}. Best is trial 26 with value: 1009815.0.\u001b[0m\n"
     ]
    },
    {
     "name": "stdout",
     "output_type": "stream",
     "text": [
      "callback ok\n",
      "index_parallel='0041'\n",
      "sed -i 0041_main.cpp -e 's/^constexpr auto MCMC_Q_L2_NORM_RANGE = .*;         \\/\\/ OPTIMIZE LOG \\[2\\.0, 20\\.0\\]$/constexpr auto MCMC_Q_L2_NORM_RANGE = 19.64127812991674;         \\/\\/ OPTIMIZE LOG [2.0, 20.0]/' -e 's/^constexpr auto MCMC_Q_RANGE = .*;                  \\/\\/ OPTIMIZE LOG \\[0\\.2, 10\\.0\\]$/constexpr auto MCMC_Q_RANGE = 2.6665215778456934;                  \\/\\/ OPTIMIZE LOG [0.2, 10.0]/' -e 's/^constexpr auto EXPECTED_SKILL_EMA_ALPHA_COEF = .*; \\/\\/ OPTIMIZE LOG \\[0\\.02, 2\\.0\\]$/constexpr auto EXPECTED_SKILL_EMA_ALPHA_COEF = 0.2430317228904585; \\/\\/ OPTIMIZE LOG [0.02, 2.0]/' -e 's/^constexpr auto MAX_N_NOT_OPEN_TASKS_IN_QUEUE = .*; \\/\\/ OPTIMIZE \\[60, 100\\]$/constexpr auto MAX_N_NOT_OPEN_TASKS_IN_QUEUE = 65; \\/\\/ OPTIMIZE [60, 100]/' -e 's/^constexpr auto PRIORITY_DAY_OFFSET = .*;          \\/\\/ OPTIMIZE \\[400, 1200\\]$/constexpr auto PRIORITY_DAY_OFFSET = 750;          \\/\\/ OPTIMIZE [400, 1200]/' -e 's/^constexpr auto PRIORITY_COEF = .*;               \\/\\/ OPTIMIZE LOG \\[0\\.002, 2\\.0\\]$/constexpr auto PRIORITY_COEF = 0.03989734033624248;               \\/\\/ OPTIMIZE LOG [0.002, 2.0]/'\n",
      "clang++ 0041_main.cpp -std=gnu++17 -O2 -DONLINE_JUDGE -I/ -o 0041_main.cpp.out\n"
     ]
    },
    {
     "name": "stderr",
     "output_type": "stream",
     "text": [
      "\u001b[32m[I 2021-11-12 22:25:29,742]\u001b[0m Trial 41 finished with value: 1003158.0 and parameters: {'MCMC_Q_L2_NORM_RANGE': 19.64127812991674, 'MCMC_Q_RANGE': 2.6665215778456934, 'EXPECTED_SKILL_EMA_ALPHA_COEF': 0.2430317228904585, 'MAX_N_NOT_OPEN_TASKS_IN_QUEUE': 65, 'PRIORITY_DAY_OFFSET': 750, 'PRIORITY_COEF': 0.03989734033624248}. Best is trial 26 with value: 1009815.0.\u001b[0m\n"
     ]
    },
    {
     "name": "stdout",
     "output_type": "stream",
     "text": [
      "callback ok\n",
      "index_parallel='0042'\n"
     ]
    },
    {
     "name": "stderr",
     "output_type": "stream",
     "text": [
      "\u001b[32m[I 2021-11-12 22:25:30,410]\u001b[0m Trial 39 finished with value: 1003834.0 and parameters: {'MCMC_Q_L2_NORM_RANGE': 3.581831633541868, 'MCMC_Q_RANGE': 2.2797867741040454, 'EXPECTED_SKILL_EMA_ALPHA_COEF': 0.2572833079818129, 'MAX_N_NOT_OPEN_TASKS_IN_QUEUE': 79, 'PRIORITY_DAY_OFFSET': 836, 'PRIORITY_COEF': 0.013171216604815652}. Best is trial 26 with value: 1009815.0.\u001b[0m\n"
     ]
    },
    {
     "name": "stdout",
     "output_type": "stream",
     "text": [
      "sed -i 0042_main.cpp -e 's/^constexpr auto MCMC_Q_L2_NORM_RANGE = .*;         \\/\\/ OPTIMIZE LOG \\[2\\.0, 20\\.0\\]$/constexpr auto MCMC_Q_L2_NORM_RANGE = 10.71822716993885;         \\/\\/ OPTIMIZE LOG [2.0, 20.0]/' -e 's/^constexpr auto MCMC_Q_RANGE = .*;                  \\/\\/ OPTIMIZE LOG \\[0\\.2, 10\\.0\\]$/constexpr auto MCMC_Q_RANGE = 1.0552088938379005;                  \\/\\/ OPTIMIZE LOG [0.2, 10.0]/' -e 's/^constexpr auto EXPECTED_SKILL_EMA_ALPHA_COEF = .*; \\/\\/ OPTIMIZE LOG \\[0\\.02, 2\\.0\\]$/constexpr auto EXPECTED_SKILL_EMA_ALPHA_COEF = 0.670349873079957; \\/\\/ OPTIMIZE LOG [0.02, 2.0]/' -e 's/^constexpr auto MAX_N_NOT_OPEN_TASKS_IN_QUEUE = .*; \\/\\/ OPTIMIZE \\[60, 100\\]$/constexpr auto MAX_N_NOT_OPEN_TASKS_IN_QUEUE = 99; \\/\\/ OPTIMIZE [60, 100]/' -e 's/^constexpr auto PRIORITY_DAY_OFFSET = .*;          \\/\\/ OPTIMIZE \\[400, 1200\\]$/constexpr auto PRIORITY_DAY_OFFSET = 865;          \\/\\/ OPTIMIZE [400, 1200]/' -e 's/^constexpr auto PRIORITY_COEF = .*;               \\/\\/ OPTIMIZE LOG \\[0\\.002, 2\\.0\\]$/constexpr auto PRIORITY_COEF = 0.10735978114966964;               \\/\\/ OPTIMIZE LOG [0.002, 2.0]/'\n",
      "clang++ 0042_main.cpp -std=gnu++17 -O2 -DONLINE_JUDGE -I/ -o 0042_main.cpp.out\n",
      "callback ok\n",
      "index_parallel='0043'\n",
      "sed -i 0043_main.cpp -e 's/^constexpr auto MCMC_Q_L2_NORM_RANGE = .*;         \\/\\/ OPTIMIZE LOG \\[2\\.0, 20\\.0\\]$/constexpr auto MCMC_Q_L2_NORM_RANGE = 10.370325646611812;         \\/\\/ OPTIMIZE LOG [2.0, 20.0]/' -e 's/^constexpr auto MCMC_Q_RANGE = .*;                  \\/\\/ OPTIMIZE LOG \\[0\\.2, 10\\.0\\]$/constexpr auto MCMC_Q_RANGE = 0.9588338561446998;                  \\/\\/ OPTIMIZE LOG [0.2, 10.0]/' -e 's/^constexpr auto EXPECTED_SKILL_EMA_ALPHA_COEF = .*; \\/\\/ OPTIMIZE LOG \\[0\\.02, 2\\.0\\]$/constexpr auto EXPECTED_SKILL_EMA_ALPHA_COEF = 0.7076527618271432; \\/\\/ OPTIMIZE LOG [0.02, 2.0]/' -e 's/^constexpr auto MAX_N_NOT_OPEN_TASKS_IN_QUEUE = .*; \\/\\/ OPTIMIZE \\[60, 100\\]$/constexpr auto MAX_N_NOT_OPEN_TASKS_IN_QUEUE = 83; \\/\\/ OPTIMIZE [60, 100]/' -e 's/^constexpr auto PRIORITY_DAY_OFFSET = .*;          \\/\\/ OPTIMIZE \\[400, 1200\\]$/constexpr auto PRIORITY_DAY_OFFSET = 719;          \\/\\/ OPTIMIZE [400, 1200]/' -e 's/^constexpr auto PRIORITY_COEF = .*;               \\/\\/ OPTIMIZE LOG \\[0\\.002, 2\\.0\\]$/constexpr auto PRIORITY_COEF = 0.10846027024193093;               \\/\\/ OPTIMIZE LOG [0.002, 2.0]/'\n",
      "clang++ 0043_main.cpp -std=gnu++17 -O2 -DONLINE_JUDGE -I/ -o 0043_main.cpp.out\n"
     ]
    },
    {
     "name": "stderr",
     "output_type": "stream",
     "text": [
      "\u001b[32m[I 2021-11-12 22:25:33,277]\u001b[0m Trial 40 finished with value: 1003831.0 and parameters: {'MCMC_Q_L2_NORM_RANGE': 3.1632959992710648, 'MCMC_Q_RANGE': 1.0507906994017948, 'EXPECTED_SKILL_EMA_ALPHA_COEF': 0.2561049173186312, 'MAX_N_NOT_OPEN_TASKS_IN_QUEUE': 67, 'PRIORITY_DAY_OFFSET': 834, 'PRIORITY_COEF': 0.020057717688560746}. Best is trial 26 with value: 1009815.0.\u001b[0m\n"
     ]
    },
    {
     "name": "stdout",
     "output_type": "stream",
     "text": [
      "callback ok\n",
      "index_parallel='0044'\n",
      "sed -i 0044_main.cpp -e 's/^constexpr auto MCMC_Q_L2_NORM_RANGE = .*;         \\/\\/ OPTIMIZE LOG \\[2\\.0, 20\\.0\\]$/constexpr auto MCMC_Q_L2_NORM_RANGE = 11.181399739924226;         \\/\\/ OPTIMIZE LOG [2.0, 20.0]/' -e 's/^constexpr auto MCMC_Q_RANGE = .*;                  \\/\\/ OPTIMIZE LOG \\[0\\.2, 10\\.0\\]$/constexpr auto MCMC_Q_RANGE = 1.5570332192315788;                  \\/\\/ OPTIMIZE LOG [0.2, 10.0]/' -e 's/^constexpr auto EXPECTED_SKILL_EMA_ALPHA_COEF = .*; \\/\\/ OPTIMIZE LOG \\[0\\.02, 2\\.0\\]$/constexpr auto EXPECTED_SKILL_EMA_ALPHA_COEF = 0.1559144581443217; \\/\\/ OPTIMIZE LOG [0.02, 2.0]/' -e 's/^constexpr auto MAX_N_NOT_OPEN_TASKS_IN_QUEUE = .*; \\/\\/ OPTIMIZE \\[60, 100\\]$/constexpr auto MAX_N_NOT_OPEN_TASKS_IN_QUEUE = 83; \\/\\/ OPTIMIZE [60, 100]/' -e 's/^constexpr auto PRIORITY_DAY_OFFSET = .*;          \\/\\/ OPTIMIZE \\[400, 1200\\]$/constexpr auto PRIORITY_DAY_OFFSET = 723;          \\/\\/ OPTIMIZE [400, 1200]/' -e 's/^constexpr auto PRIORITY_COEF = .*;               \\/\\/ OPTIMIZE LOG \\[0\\.002, 2\\.0\\]$/constexpr auto PRIORITY_COEF = 0.20572276425788502;               \\/\\/ OPTIMIZE LOG [0.002, 2.0]/'\n",
      "clang++ 0044_main.cpp -std=gnu++17 -O2 -DONLINE_JUDGE -I/ -o 0044_main.cpp.out\n"
     ]
    },
    {
     "name": "stderr",
     "output_type": "stream",
     "text": [
      "\u001b[32m[I 2021-11-12 22:29:31,941]\u001b[0m Trial 42 finished with value: 1008057.0 and parameters: {'MCMC_Q_L2_NORM_RANGE': 10.71822716993885, 'MCMC_Q_RANGE': 1.0552088938379005, 'EXPECTED_SKILL_EMA_ALPHA_COEF': 0.670349873079957, 'MAX_N_NOT_OPEN_TASKS_IN_QUEUE': 99, 'PRIORITY_DAY_OFFSET': 865, 'PRIORITY_COEF': 0.10735978114966964}. Best is trial 26 with value: 1009815.0.\u001b[0m\n"
     ]
    },
    {
     "name": "stdout",
     "output_type": "stream",
     "text": [
      "callback ok\n",
      "index_parallel='0045'\n",
      "sed -i 0045_main.cpp -e 's/^constexpr auto MCMC_Q_L2_NORM_RANGE = .*;         \\/\\/ OPTIMIZE LOG \\[2\\.0, 20\\.0\\]$/constexpr auto MCMC_Q_L2_NORM_RANGE = 9.552832304065703;         \\/\\/ OPTIMIZE LOG [2.0, 20.0]/' -e 's/^constexpr auto MCMC_Q_RANGE = .*;                  \\/\\/ OPTIMIZE LOG \\[0\\.2, 10\\.0\\]$/constexpr auto MCMC_Q_RANGE = 1.4592550950971352;                  \\/\\/ OPTIMIZE LOG [0.2, 10.0]/' -e 's/^constexpr auto EXPECTED_SKILL_EMA_ALPHA_COEF = .*; \\/\\/ OPTIMIZE LOG \\[0\\.02, 2\\.0\\]$/constexpr auto EXPECTED_SKILL_EMA_ALPHA_COEF = 0.738981714946061; \\/\\/ OPTIMIZE LOG [0.02, 2.0]/' -e 's/^constexpr auto MAX_N_NOT_OPEN_TASKS_IN_QUEUE = .*; \\/\\/ OPTIMIZE \\[60, 100\\]$/constexpr auto MAX_N_NOT_OPEN_TASKS_IN_QUEUE = 84; \\/\\/ OPTIMIZE [60, 100]/' -e 's/^constexpr auto PRIORITY_DAY_OFFSET = .*;          \\/\\/ OPTIMIZE \\[400, 1200\\]$/constexpr auto PRIORITY_DAY_OFFSET = 733;          \\/\\/ OPTIMIZE [400, 1200]/' -e 's/^constexpr auto PRIORITY_COEF = .*;               \\/\\/ OPTIMIZE LOG \\[0\\.002, 2\\.0\\]$/constexpr auto PRIORITY_COEF = 0.28425862345685843;               \\/\\/ OPTIMIZE LOG [0.002, 2.0]/'\n",
      "clang++ 0045_main.cpp -std=gnu++17 -O2 -DONLINE_JUDGE -I/ -o 0045_main.cpp.out\n"
     ]
    },
    {
     "name": "stderr",
     "output_type": "stream",
     "text": [
      "\u001b[32m[I 2021-11-12 22:29:32,968]\u001b[0m Trial 43 finished with value: 1008023.0 and parameters: {'MCMC_Q_L2_NORM_RANGE': 10.370325646611812, 'MCMC_Q_RANGE': 0.9588338561446998, 'EXPECTED_SKILL_EMA_ALPHA_COEF': 0.7076527618271432, 'MAX_N_NOT_OPEN_TASKS_IN_QUEUE': 83, 'PRIORITY_DAY_OFFSET': 719, 'PRIORITY_COEF': 0.10846027024193093}. Best is trial 26 with value: 1009815.0.\u001b[0m\n"
     ]
    },
    {
     "name": "stdout",
     "output_type": "stream",
     "text": [
      "callback ok\n",
      "index_parallel='0046'\n",
      "sed -i 0046_main.cpp -e 's/^constexpr auto MCMC_Q_L2_NORM_RANGE = .*;         \\/\\/ OPTIMIZE LOG \\[2\\.0, 20\\.0\\]$/constexpr auto MCMC_Q_L2_NORM_RANGE = 15.060650216005573;         \\/\\/ OPTIMIZE LOG [2.0, 20.0]/' -e 's/^constexpr auto MCMC_Q_RANGE = .*;                  \\/\\/ OPTIMIZE LOG \\[0\\.2, 10\\.0\\]$/constexpr auto MCMC_Q_RANGE = 1.5691688239624464;                  \\/\\/ OPTIMIZE LOG [0.2, 10.0]/' -e 's/^constexpr auto EXPECTED_SKILL_EMA_ALPHA_COEF = .*; \\/\\/ OPTIMIZE LOG \\[0\\.02, 2\\.0\\]$/constexpr auto EXPECTED_SKILL_EMA_ALPHA_COEF = 0.14549849650011312; \\/\\/ OPTIMIZE LOG [0.02, 2.0]/' -e 's/^constexpr auto MAX_N_NOT_OPEN_TASKS_IN_QUEUE = .*; \\/\\/ OPTIMIZE \\[60, 100\\]$/constexpr auto MAX_N_NOT_OPEN_TASKS_IN_QUEUE = 89; \\/\\/ OPTIMIZE [60, 100]/' -e 's/^constexpr auto PRIORITY_DAY_OFFSET = .*;          \\/\\/ OPTIMIZE \\[400, 1200\\]$/constexpr auto PRIORITY_DAY_OFFSET = 788;          \\/\\/ OPTIMIZE [400, 1200]/' -e 's/^constexpr auto PRIORITY_COEF = .*;               \\/\\/ OPTIMIZE LOG \\[0\\.002, 2\\.0\\]$/constexpr auto PRIORITY_COEF = 0.2469285091612071;               \\/\\/ OPTIMIZE LOG [0.002, 2.0]/'\n",
      "clang++ 0046_main.cpp -std=gnu++17 -O2 -DONLINE_JUDGE -I/ -o 0046_main.cpp.out\n"
     ]
    },
    {
     "name": "stderr",
     "output_type": "stream",
     "text": [
      "\u001b[32m[I 2021-11-12 22:29:33,805]\u001b[0m Trial 44 finished with value: 1005629.0 and parameters: {'MCMC_Q_L2_NORM_RANGE': 11.181399739924226, 'MCMC_Q_RANGE': 1.5570332192315788, 'EXPECTED_SKILL_EMA_ALPHA_COEF': 0.1559144581443217, 'MAX_N_NOT_OPEN_TASKS_IN_QUEUE': 83, 'PRIORITY_DAY_OFFSET': 723, 'PRIORITY_COEF': 0.20572276425788502}. Best is trial 26 with value: 1009815.0.\u001b[0m\n"
     ]
    },
    {
     "name": "stdout",
     "output_type": "stream",
     "text": [
      "callback ok\n",
      "index_parallel='0047'\n",
      "sed -i 0047_main.cpp -e 's/^constexpr auto MCMC_Q_L2_NORM_RANGE = .*;         \\/\\/ OPTIMIZE LOG \\[2\\.0, 20\\.0\\]$/constexpr auto MCMC_Q_L2_NORM_RANGE = 14.189580082528643;         \\/\\/ OPTIMIZE LOG [2.0, 20.0]/' -e 's/^constexpr auto MCMC_Q_RANGE = .*;                  \\/\\/ OPTIMIZE LOG \\[0\\.2, 10\\.0\\]$/constexpr auto MCMC_Q_RANGE = 0.41169845917911313;                  \\/\\/ OPTIMIZE LOG [0.2, 10.0]/' -e 's/^constexpr auto EXPECTED_SKILL_EMA_ALPHA_COEF = .*; \\/\\/ OPTIMIZE LOG \\[0\\.02, 2\\.0\\]$/constexpr auto EXPECTED_SKILL_EMA_ALPHA_COEF = 0.6889394244257395; \\/\\/ OPTIMIZE LOG [0.02, 2.0]/' -e 's/^constexpr auto MAX_N_NOT_OPEN_TASKS_IN_QUEUE = .*; \\/\\/ OPTIMIZE \\[60, 100\\]$/constexpr auto MAX_N_NOT_OPEN_TASKS_IN_QUEUE = 89; \\/\\/ OPTIMIZE [60, 100]/' -e 's/^constexpr auto PRIORITY_DAY_OFFSET = .*;          \\/\\/ OPTIMIZE \\[400, 1200\\]$/constexpr auto PRIORITY_DAY_OFFSET = 799;          \\/\\/ OPTIMIZE [400, 1200]/' -e 's/^constexpr auto PRIORITY_COEF = .*;               \\/\\/ OPTIMIZE LOG \\[0\\.002, 2\\.0\\]$/constexpr auto PRIORITY_COEF = 0.5077914872703081;               \\/\\/ OPTIMIZE LOG [0.002, 2.0]/'\n",
      "clang++ 0047_main.cpp -std=gnu++17 -O2 -DONLINE_JUDGE -I/ -o 0047_main.cpp.out\n"
     ]
    },
    {
     "name": "stderr",
     "output_type": "stream",
     "text": [
      "\u001b[32m[I 2021-11-12 22:33:33,464]\u001b[0m Trial 46 finished with value: 1002538.0 and parameters: {'MCMC_Q_L2_NORM_RANGE': 15.060650216005573, 'MCMC_Q_RANGE': 1.5691688239624464, 'EXPECTED_SKILL_EMA_ALPHA_COEF': 0.14549849650011312, 'MAX_N_NOT_OPEN_TASKS_IN_QUEUE': 89, 'PRIORITY_DAY_OFFSET': 788, 'PRIORITY_COEF': 0.2469285091612071}. Best is trial 26 with value: 1009815.0.\u001b[0m\n"
     ]
    },
    {
     "name": "stdout",
     "output_type": "stream",
     "text": [
      "callback ok\n",
      "index_parallel='0048'\n"
     ]
    },
    {
     "name": "stderr",
     "output_type": "stream",
     "text": [
      "\u001b[32m[I 2021-11-12 22:33:33,775]\u001b[0m Trial 45 finished with value: 1007904.0 and parameters: {'MCMC_Q_L2_NORM_RANGE': 9.552832304065703, 'MCMC_Q_RANGE': 1.4592550950971352, 'EXPECTED_SKILL_EMA_ALPHA_COEF': 0.738981714946061, 'MAX_N_NOT_OPEN_TASKS_IN_QUEUE': 84, 'PRIORITY_DAY_OFFSET': 733, 'PRIORITY_COEF': 0.28425862345685843}. Best is trial 26 with value: 1009815.0.\u001b[0m\n"
     ]
    },
    {
     "name": "stdout",
     "output_type": "stream",
     "text": [
      "callback ok\n",
      "index_parallel='0049'\n",
      "sed -i 0048_main.cpp -e 's/^constexpr auto MCMC_Q_L2_NORM_RANGE = .*;         \\/\\/ OPTIMIZE LOG \\[2\\.0, 20\\.0\\]$/constexpr auto MCMC_Q_L2_NORM_RANGE = 9.423751581346856;         \\/\\/ OPTIMIZE LOG [2.0, 20.0]/' -e 's/^constexpr auto MCMC_Q_RANGE = .*;                  \\/\\/ OPTIMIZE LOG \\[0\\.2, 10\\.0\\]$/constexpr auto MCMC_Q_RANGE = 0.46684907402760917;                  \\/\\/ OPTIMIZE LOG [0.2, 10.0]/' -e 's/^constexpr auto EXPECTED_SKILL_EMA_ALPHA_COEF = .*; \\/\\/ OPTIMIZE LOG \\[0\\.02, 2\\.0\\]$/constexpr auto EXPECTED_SKILL_EMA_ALPHA_COEF = 1.165022562685603; \\/\\/ OPTIMIZE LOG [0.02, 2.0]/' -e 's/^constexpr auto MAX_N_NOT_OPEN_TASKS_IN_QUEUE = .*; \\/\\/ OPTIMIZE \\[60, 100\\]$/constexpr auto MAX_N_NOT_OPEN_TASKS_IN_QUEUE = 78; \\/\\/ OPTIMIZE [60, 100]/' -e 's/^constexpr auto PRIORITY_DAY_OFFSET = .*;          \\/\\/ OPTIMIZE \\[400, 1200\\]$/constexpr auto PRIORITY_DAY_OFFSET = 593;          \\/\\/ OPTIMIZE [400, 1200]/' -e 's/^constexpr auto PRIORITY_COEF = .*;               \\/\\/ OPTIMIZE LOG \\[0\\.002, 2\\.0\\]$/constexpr auto PRIORITY_COEF = 0.442649138920162;               \\/\\/ OPTIMIZE LOG [0.002, 2.0]/'\n",
      "clang++ 0048_main.cpp -std=gnu++17 -O2 -DONLINE_JUDGE -I/ -o 0048_main.cpp.out\n",
      "sed -i 0049_main.cpp -e 's/^constexpr auto MCMC_Q_L2_NORM_RANGE = .*;         \\/\\/ OPTIMIZE LOG \\[2\\.0, 20\\.0\\]$/constexpr auto MCMC_Q_L2_NORM_RANGE = 4.302360693414382;         \\/\\/ OPTIMIZE LOG [2.0, 20.0]/' -e 's/^constexpr auto MCMC_Q_RANGE = .*;                  \\/\\/ OPTIMIZE LOG \\[0\\.2, 10\\.0\\]$/constexpr auto MCMC_Q_RANGE = 3.8821607790877355;                  \\/\\/ OPTIMIZE LOG [0.2, 10.0]/' -e 's/^constexpr auto EXPECTED_SKILL_EMA_ALPHA_COEF = .*; \\/\\/ OPTIMIZE LOG \\[0\\.02, 2\\.0\\]$/constexpr auto EXPECTED_SKILL_EMA_ALPHA_COEF = 0.10271122339025943; \\/\\/ OPTIMIZE LOG [0.02, 2.0]/' -e 's/^constexpr auto MAX_N_NOT_OPEN_TASKS_IN_QUEUE = .*; \\/\\/ OPTIMIZE \\[60, 100\\]$/constexpr auto MAX_N_NOT_OPEN_TASKS_IN_QUEUE = 77; \\/\\/ OPTIMIZE [60, 100]/' -e 's/^constexpr auto PRIORITY_DAY_OFFSET = .*;          \\/\\/ OPTIMIZE \\[400, 1200\\]$/constexpr auto PRIORITY_DAY_OFFSET = 602;          \\/\\/ OPTIMIZE [400, 1200]/' -e 's/^constexpr auto PRIORITY_COEF = .*;               \\/\\/ OPTIMIZE LOG \\[0\\.002, 2\\.0\\]$/constexpr auto PRIORITY_COEF = 0.4803673944843215;               \\/\\/ OPTIMIZE LOG [0.002, 2.0]/'\n",
      "clang++ 0049_main.cpp -std=gnu++17 -O2 -DONLINE_JUDGE -I/ -o 0049_main.cpp.out\n"
     ]
    },
    {
     "name": "stderr",
     "output_type": "stream",
     "text": [
      "\u001b[32m[I 2021-11-12 22:33:37,914]\u001b[0m Trial 47 finished with value: 1007179.0 and parameters: {'MCMC_Q_L2_NORM_RANGE': 14.189580082528643, 'MCMC_Q_RANGE': 0.41169845917911313, 'EXPECTED_SKILL_EMA_ALPHA_COEF': 0.6889394244257395, 'MAX_N_NOT_OPEN_TASKS_IN_QUEUE': 89, 'PRIORITY_DAY_OFFSET': 799, 'PRIORITY_COEF': 0.5077914872703081}. Best is trial 26 with value: 1009815.0.\u001b[0m\n"
     ]
    },
    {
     "name": "stdout",
     "output_type": "stream",
     "text": [
      "callback ok\n",
      "index_parallel='0050'\n",
      "sed -i 0050_main.cpp -e 's/^constexpr auto MCMC_Q_L2_NORM_RANGE = .*;         \\/\\/ OPTIMIZE LOG \\[2\\.0, 20\\.0\\]$/constexpr auto MCMC_Q_L2_NORM_RANGE = 7.209109830903015;         \\/\\/ OPTIMIZE LOG [2.0, 20.0]/' -e 's/^constexpr auto MCMC_Q_RANGE = .*;                  \\/\\/ OPTIMIZE LOG \\[0\\.2, 10\\.0\\]$/constexpr auto MCMC_Q_RANGE = 4.039229523077447;                  \\/\\/ OPTIMIZE LOG [0.2, 10.0]/' -e 's/^constexpr auto EXPECTED_SKILL_EMA_ALPHA_COEF = .*; \\/\\/ OPTIMIZE LOG \\[0\\.02, 2\\.0\\]$/constexpr auto EXPECTED_SKILL_EMA_ALPHA_COEF = 1.2240298691116702; \\/\\/ OPTIMIZE LOG [0.02, 2.0]/' -e 's/^constexpr auto MAX_N_NOT_OPEN_TASKS_IN_QUEUE = .*; \\/\\/ OPTIMIZE \\[60, 100\\]$/constexpr auto MAX_N_NOT_OPEN_TASKS_IN_QUEUE = 77; \\/\\/ OPTIMIZE [60, 100]/' -e 's/^constexpr auto PRIORITY_DAY_OFFSET = .*;          \\/\\/ OPTIMIZE \\[400, 1200\\]$/constexpr auto PRIORITY_DAY_OFFSET = 587;          \\/\\/ OPTIMIZE [400, 1200]/' -e 's/^constexpr auto PRIORITY_COEF = .*;               \\/\\/ OPTIMIZE LOG \\[0\\.002, 2\\.0\\]$/constexpr auto PRIORITY_COEF = 1.4516629248497455;               \\/\\/ OPTIMIZE LOG [0.002, 2.0]/'\n",
      "clang++ 0050_main.cpp -std=gnu++17 -O2 -DONLINE_JUDGE -I/ -o 0050_main.cpp.out\n"
     ]
    },
    {
     "name": "stderr",
     "output_type": "stream",
     "text": [
      "\u001b[32m[I 2021-11-12 22:37:33,993]\u001b[0m Trial 49 finished with value: 999786.0 and parameters: {'MCMC_Q_L2_NORM_RANGE': 4.302360693414382, 'MCMC_Q_RANGE': 3.8821607790877355, 'EXPECTED_SKILL_EMA_ALPHA_COEF': 0.10271122339025943, 'MAX_N_NOT_OPEN_TASKS_IN_QUEUE': 77, 'PRIORITY_DAY_OFFSET': 602, 'PRIORITY_COEF': 0.4803673944843215}. Best is trial 26 with value: 1009815.0.\u001b[0m\n"
     ]
    },
    {
     "name": "stdout",
     "output_type": "stream",
     "text": [
      "callback ok\n",
      "index_parallel='0051'\n",
      "sed -i 0051_main.cpp -e 's/^constexpr auto MCMC_Q_L2_NORM_RANGE = .*;         \\/\\/ OPTIMIZE LOG \\[2\\.0, 20\\.0\\]$/constexpr auto MCMC_Q_L2_NORM_RANGE = 7.3148103111963225;         \\/\\/ OPTIMIZE LOG [2.0, 20.0]/' -e 's/^constexpr auto MCMC_Q_RANGE = .*;                  \\/\\/ OPTIMIZE LOG \\[0\\.2, 10\\.0\\]$/constexpr auto MCMC_Q_RANGE = 2.129001979194339;                  \\/\\/ OPTIMIZE LOG [0.2, 10.0]/' -e 's/^constexpr auto EXPECTED_SKILL_EMA_ALPHA_COEF = .*; \\/\\/ OPTIMIZE LOG \\[0\\.02, 2\\.0\\]$/constexpr auto EXPECTED_SKILL_EMA_ALPHA_COEF = 1.1369354467788835; \\/\\/ OPTIMIZE LOG [0.02, 2.0]/' -e 's/^constexpr auto MAX_N_NOT_OPEN_TASKS_IN_QUEUE = .*; \\/\\/ OPTIMIZE \\[60, 100\\]$/constexpr auto MAX_N_NOT_OPEN_TASKS_IN_QUEUE = 78; \\/\\/ OPTIMIZE [60, 100]/' -e 's/^constexpr auto PRIORITY_DAY_OFFSET = .*;          \\/\\/ OPTIMIZE \\[400, 1200\\]$/constexpr auto PRIORITY_DAY_OFFSET = 908;          \\/\\/ OPTIMIZE [400, 1200]/' -e 's/^constexpr auto PRIORITY_COEF = .*;               \\/\\/ OPTIMIZE LOG \\[0\\.002, 2\\.0\\]$/constexpr auto PRIORITY_COEF = 1.396987817198224;               \\/\\/ OPTIMIZE LOG [0.002, 2.0]/'\n",
      "clang++ 0051_main.cpp -std=gnu++17 -O2 -DONLINE_JUDGE -I/ -o 0051_main.cpp.out\n"
     ]
    },
    {
     "name": "stderr",
     "output_type": "stream",
     "text": [
      "\u001b[32m[I 2021-11-12 22:37:35,971]\u001b[0m Trial 48 finished with value: 1007665.0 and parameters: {'MCMC_Q_L2_NORM_RANGE': 9.423751581346856, 'MCMC_Q_RANGE': 0.46684907402760917, 'EXPECTED_SKILL_EMA_ALPHA_COEF': 1.165022562685603, 'MAX_N_NOT_OPEN_TASKS_IN_QUEUE': 78, 'PRIORITY_DAY_OFFSET': 593, 'PRIORITY_COEF': 0.442649138920162}. Best is trial 26 with value: 1009815.0.\u001b[0m\n"
     ]
    },
    {
     "name": "stdout",
     "output_type": "stream",
     "text": [
      "callback ok\n",
      "index_parallel='0052'\n",
      "sed -i 0052_main.cpp -e 's/^constexpr auto MCMC_Q_L2_NORM_RANGE = .*;         \\/\\/ OPTIMIZE LOG \\[2\\.0, 20\\.0\\]$/constexpr auto MCMC_Q_L2_NORM_RANGE = 7.247426379315241;         \\/\\/ OPTIMIZE LOG [2.0, 20.0]/' -e 's/^constexpr auto MCMC_Q_RANGE = .*;                  \\/\\/ OPTIMIZE LOG \\[0\\.2, 10\\.0\\]$/constexpr auto MCMC_Q_RANGE = 2.1945497818109914;                  \\/\\/ OPTIMIZE LOG [0.2, 10.0]/' -e 's/^constexpr auto EXPECTED_SKILL_EMA_ALPHA_COEF = .*; \\/\\/ OPTIMIZE LOG \\[0\\.02, 2\\.0\\]$/constexpr auto EXPECTED_SKILL_EMA_ALPHA_COEF = 0.19130031576229922; \\/\\/ OPTIMIZE LOG [0.02, 2.0]/' -e 's/^constexpr auto MAX_N_NOT_OPEN_TASKS_IN_QUEUE = .*; \\/\\/ OPTIMIZE \\[60, 100\\]$/constexpr auto MAX_N_NOT_OPEN_TASKS_IN_QUEUE = 81; \\/\\/ OPTIMIZE [60, 100]/' -e 's/^constexpr auto PRIORITY_DAY_OFFSET = .*;          \\/\\/ OPTIMIZE \\[400, 1200\\]$/constexpr auto PRIORITY_DAY_OFFSET = 678;          \\/\\/ OPTIMIZE [400, 1200]/' -e 's/^constexpr auto PRIORITY_COEF = .*;               \\/\\/ OPTIMIZE LOG \\[0\\.002, 2\\.0\\]$/constexpr auto PRIORITY_COEF = 0.7177856276243312;               \\/\\/ OPTIMIZE LOG [0.002, 2.0]/'\n",
      "clang++ 0052_main.cpp -std=gnu++17 -O2 -DONLINE_JUDGE -I/ -o 0052_main.cpp.out\n"
     ]
    },
    {
     "name": "stderr",
     "output_type": "stream",
     "text": [
      "\u001b[32m[I 2021-11-12 22:37:37,648]\u001b[0m Trial 50 finished with value: 1007176.0 and parameters: {'MCMC_Q_L2_NORM_RANGE': 7.209109830903015, 'MCMC_Q_RANGE': 4.039229523077447, 'EXPECTED_SKILL_EMA_ALPHA_COEF': 1.2240298691116702, 'MAX_N_NOT_OPEN_TASKS_IN_QUEUE': 77, 'PRIORITY_DAY_OFFSET': 587, 'PRIORITY_COEF': 1.4516629248497455}. Best is trial 26 with value: 1009815.0.\u001b[0m\n"
     ]
    },
    {
     "name": "stdout",
     "output_type": "stream",
     "text": [
      "callback ok\n",
      "index_parallel='0053'\n",
      "sed -i 0053_main.cpp -e 's/^constexpr auto MCMC_Q_L2_NORM_RANGE = .*;         \\/\\/ OPTIMIZE LOG \\[2\\.0, 20\\.0\\]$/constexpr auto MCMC_Q_L2_NORM_RANGE = 5.77513684798945;         \\/\\/ OPTIMIZE LOG [2.0, 20.0]/' -e 's/^constexpr auto MCMC_Q_RANGE = .*;                  \\/\\/ OPTIMIZE LOG \\[0\\.2, 10\\.0\\]$/constexpr auto MCMC_Q_RANGE = 2.004238873095084;                  \\/\\/ OPTIMIZE LOG [0.2, 10.0]/' -e 's/^constexpr auto EXPECTED_SKILL_EMA_ALPHA_COEF = .*; \\/\\/ OPTIMIZE LOG \\[0\\.02, 2\\.0\\]$/constexpr auto EXPECTED_SKILL_EMA_ALPHA_COEF = 0.5477237571962399; \\/\\/ OPTIMIZE LOG [0.02, 2.0]/' -e 's/^constexpr auto MAX_N_NOT_OPEN_TASKS_IN_QUEUE = .*; \\/\\/ OPTIMIZE \\[60, 100\\]$/constexpr auto MAX_N_NOT_OPEN_TASKS_IN_QUEUE = 81; \\/\\/ OPTIMIZE [60, 100]/' -e 's/^constexpr auto PRIORITY_DAY_OFFSET = .*;          \\/\\/ OPTIMIZE \\[400, 1200\\]$/constexpr auto PRIORITY_DAY_OFFSET = 685;          \\/\\/ OPTIMIZE [400, 1200]/' -e 's/^constexpr auto PRIORITY_COEF = .*;               \\/\\/ OPTIMIZE LOG \\[0\\.002, 2\\.0\\]$/constexpr auto PRIORITY_COEF = 0.766012458992112;               \\/\\/ OPTIMIZE LOG [0.002, 2.0]/'\n",
      "clang++ 0053_main.cpp -std=gnu++17 -O2 -DONLINE_JUDGE -I/ -o 0053_main.cpp.out\n"
     ]
    },
    {
     "name": "stderr",
     "output_type": "stream",
     "text": [
      "\u001b[32m[I 2021-11-12 22:41:33,053]\u001b[0m Trial 51 finished with value: 1006134.0 and parameters: {'MCMC_Q_L2_NORM_RANGE': 7.3148103111963225, 'MCMC_Q_RANGE': 2.129001979194339, 'EXPECTED_SKILL_EMA_ALPHA_COEF': 1.1369354467788835, 'MAX_N_NOT_OPEN_TASKS_IN_QUEUE': 78, 'PRIORITY_DAY_OFFSET': 908, 'PRIORITY_COEF': 1.396987817198224}. Best is trial 26 with value: 1009815.0.\u001b[0m\n"
     ]
    },
    {
     "name": "stdout",
     "output_type": "stream",
     "text": [
      "callback ok\n",
      "index_parallel='0054'\n",
      "sed -i 0054_main.cpp -e 's/^constexpr auto MCMC_Q_L2_NORM_RANGE = .*;         \\/\\/ OPTIMIZE LOG \\[2\\.0, 20\\.0\\]$/constexpr auto MCMC_Q_L2_NORM_RANGE = 5.820892156340016;         \\/\\/ OPTIMIZE LOG [2.0, 20.0]/' -e 's/^constexpr auto MCMC_Q_RANGE = .*;                  \\/\\/ OPTIMIZE LOG \\[0\\.2, 10\\.0\\]$/constexpr auto MCMC_Q_RANGE = 1.2774291704388674;                  \\/\\/ OPTIMIZE LOG [0.2, 10.0]/' -e 's/^constexpr auto EXPECTED_SKILL_EMA_ALPHA_COEF = .*; \\/\\/ OPTIMIZE LOG \\[0\\.02, 2\\.0\\]$/constexpr auto EXPECTED_SKILL_EMA_ALPHA_COEF = 0.5668541295060308; \\/\\/ OPTIMIZE LOG [0.02, 2.0]/' -e 's/^constexpr auto MAX_N_NOT_OPEN_TASKS_IN_QUEUE = .*; \\/\\/ OPTIMIZE \\[60, 100\\]$/constexpr auto MAX_N_NOT_OPEN_TASKS_IN_QUEUE = 81; \\/\\/ OPTIMIZE [60, 100]/' -e 's/^constexpr auto PRIORITY_DAY_OFFSET = .*;          \\/\\/ OPTIMIZE \\[400, 1200\\]$/constexpr auto PRIORITY_DAY_OFFSET = 684;          \\/\\/ OPTIMIZE [400, 1200]/' -e 's/^constexpr auto PRIORITY_COEF = .*;               \\/\\/ OPTIMIZE LOG \\[0\\.002, 2\\.0\\]$/constexpr auto PRIORITY_COEF = 0.8990396635441178;               \\/\\/ OPTIMIZE LOG [0.002, 2.0]/'\n",
      "clang++ 0054_main.cpp -std=gnu++17 -O2 -DONLINE_JUDGE -I/ -o 0054_main.cpp.out\n"
     ]
    },
    {
     "name": "stderr",
     "output_type": "stream",
     "text": [
      "\u001b[32m[I 2021-11-12 22:41:35,157]\u001b[0m Trial 52 finished with value: 1005812.0 and parameters: {'MCMC_Q_L2_NORM_RANGE': 7.247426379315241, 'MCMC_Q_RANGE': 2.1945497818109914, 'EXPECTED_SKILL_EMA_ALPHA_COEF': 0.19130031576229922, 'MAX_N_NOT_OPEN_TASKS_IN_QUEUE': 81, 'PRIORITY_DAY_OFFSET': 678, 'PRIORITY_COEF': 0.7177856276243312}. Best is trial 26 with value: 1009815.0.\u001b[0m\n"
     ]
    },
    {
     "name": "stdout",
     "output_type": "stream",
     "text": [
      "callback ok\n",
      "index_parallel='0055'\n",
      "sed -i 0055_main.cpp -e 's/^constexpr auto MCMC_Q_L2_NORM_RANGE = .*;         \\/\\/ OPTIMIZE LOG \\[2\\.0, 20\\.0\\]$/constexpr auto MCMC_Q_L2_NORM_RANGE = 5.6381020330575975;         \\/\\/ OPTIMIZE LOG [2.0, 20.0]/' -e 's/^constexpr auto MCMC_Q_RANGE = .*;                  \\/\\/ OPTIMIZE LOG \\[0\\.2, 10\\.0\\]$/constexpr auto MCMC_Q_RANGE = 1.7649919313771962;                  \\/\\/ OPTIMIZE LOG [0.2, 10.0]/' -e 's/^constexpr auto EXPECTED_SKILL_EMA_ALPHA_COEF = .*; \\/\\/ OPTIMIZE LOG \\[0\\.02, 2\\.0\\]$/constexpr auto EXPECTED_SKILL_EMA_ALPHA_COEF = 0.5468194647341371; \\/\\/ OPTIMIZE LOG [0.02, 2.0]/' -e 's/^constexpr auto MAX_N_NOT_OPEN_TASKS_IN_QUEUE = .*; \\/\\/ OPTIMIZE \\[60, 100\\]$/constexpr auto MAX_N_NOT_OPEN_TASKS_IN_QUEUE = 87; \\/\\/ OPTIMIZE [60, 100]/' -e 's/^constexpr auto PRIORITY_DAY_OFFSET = .*;          \\/\\/ OPTIMIZE \\[400, 1200\\]$/constexpr auto PRIORITY_DAY_OFFSET = 765;          \\/\\/ OPTIMIZE [400, 1200]/' -e 's/^constexpr auto PRIORITY_COEF = .*;               \\/\\/ OPTIMIZE LOG \\[0\\.002, 2\\.0\\]$/constexpr auto PRIORITY_COEF = 1.0209823990289224;               \\/\\/ OPTIMIZE LOG [0.002, 2.0]/'\n",
      "clang++ 0055_main.cpp -std=gnu++17 -O2 -DONLINE_JUDGE -I/ -o 0055_main.cpp.out\n"
     ]
    },
    {
     "name": "stderr",
     "output_type": "stream",
     "text": [
      "\u001b[32m[I 2021-11-12 22:41:38,076]\u001b[0m Trial 53 finished with value: 1008427.0 and parameters: {'MCMC_Q_L2_NORM_RANGE': 5.77513684798945, 'MCMC_Q_RANGE': 2.004238873095084, 'EXPECTED_SKILL_EMA_ALPHA_COEF': 0.5477237571962399, 'MAX_N_NOT_OPEN_TASKS_IN_QUEUE': 81, 'PRIORITY_DAY_OFFSET': 685, 'PRIORITY_COEF': 0.766012458992112}. Best is trial 26 with value: 1009815.0.\u001b[0m\n"
     ]
    },
    {
     "name": "stdout",
     "output_type": "stream",
     "text": [
      "callback ok\n",
      "index_parallel='0056'\n",
      "sed -i 0056_main.cpp -e 's/^constexpr auto MCMC_Q_L2_NORM_RANGE = .*;         \\/\\/ OPTIMIZE LOG \\[2\\.0, 20\\.0\\]$/constexpr auto MCMC_Q_L2_NORM_RANGE = 5.8495002241426075;         \\/\\/ OPTIMIZE LOG [2.0, 20.0]/' -e 's/^constexpr auto MCMC_Q_RANGE = .*;                  \\/\\/ OPTIMIZE LOG \\[0\\.2, 10\\.0\\]$/constexpr auto MCMC_Q_RANGE = 1.6422853881981287;                  \\/\\/ OPTIMIZE LOG [0.2, 10.0]/' -e 's/^constexpr auto EXPECTED_SKILL_EMA_ALPHA_COEF = .*; \\/\\/ OPTIMIZE LOG \\[0\\.02, 2\\.0\\]$/constexpr auto EXPECTED_SKILL_EMA_ALPHA_COEF = 0.5611214335784508; \\/\\/ OPTIMIZE LOG [0.02, 2.0]/' -e 's/^constexpr auto MAX_N_NOT_OPEN_TASKS_IN_QUEUE = .*; \\/\\/ OPTIMIZE \\[60, 100\\]$/constexpr auto MAX_N_NOT_OPEN_TASKS_IN_QUEUE = 85; \\/\\/ OPTIMIZE [60, 100]/' -e 's/^constexpr auto PRIORITY_DAY_OFFSET = .*;          \\/\\/ OPTIMIZE \\[400, 1200\\]$/constexpr auto PRIORITY_DAY_OFFSET = 760;          \\/\\/ OPTIMIZE [400, 1200]/' -e 's/^constexpr auto PRIORITY_COEF = .*;               \\/\\/ OPTIMIZE LOG \\[0\\.002, 2\\.0\\]$/constexpr auto PRIORITY_COEF = 1.0003874795189711;               \\/\\/ OPTIMIZE LOG [0.002, 2.0]/'\n",
      "clang++ 0056_main.cpp -std=gnu++17 -O2 -DONLINE_JUDGE -I/ -o 0056_main.cpp.out\n"
     ]
    },
    {
     "name": "stderr",
     "output_type": "stream",
     "text": [
      "\u001b[32m[I 2021-11-12 22:45:34,370]\u001b[0m Trial 54 finished with value: 1009074.0 and parameters: {'MCMC_Q_L2_NORM_RANGE': 5.820892156340016, 'MCMC_Q_RANGE': 1.2774291704388674, 'EXPECTED_SKILL_EMA_ALPHA_COEF': 0.5668541295060308, 'MAX_N_NOT_OPEN_TASKS_IN_QUEUE': 81, 'PRIORITY_DAY_OFFSET': 684, 'PRIORITY_COEF': 0.8990396635441178}. Best is trial 26 with value: 1009815.0.\u001b[0m\n"
     ]
    },
    {
     "name": "stdout",
     "output_type": "stream",
     "text": [
      "callback ok\n",
      "index_parallel='0057'\n",
      "sed -i 0057_main.cpp -e 's/^constexpr auto MCMC_Q_L2_NORM_RANGE = .*;         \\/\\/ OPTIMIZE LOG \\[2\\.0, 20\\.0\\]$/constexpr auto MCMC_Q_L2_NORM_RANGE = 8.92134090668847;         \\/\\/ OPTIMIZE LOG [2.0, 20.0]/' -e 's/^constexpr auto MCMC_Q_RANGE = .*;                  \\/\\/ OPTIMIZE LOG \\[0\\.2, 10\\.0\\]$/constexpr auto MCMC_Q_RANGE = 1.1712950572748184;                  \\/\\/ OPTIMIZE LOG [0.2, 10.0]/' -e 's/^constexpr auto EXPECTED_SKILL_EMA_ALPHA_COEF = .*; \\/\\/ OPTIMIZE LOG \\[0\\.02, 2\\.0\\]$/constexpr auto EXPECTED_SKILL_EMA_ALPHA_COEF = 0.39820055712207914; \\/\\/ OPTIMIZE LOG [0.02, 2.0]/' -e 's/^constexpr auto MAX_N_NOT_OPEN_TASKS_IN_QUEUE = .*; \\/\\/ OPTIMIZE \\[60, 100\\]$/constexpr auto MAX_N_NOT_OPEN_TASKS_IN_QUEUE = 86; \\/\\/ OPTIMIZE [60, 100]/' -e 's/^constexpr auto PRIORITY_DAY_OFFSET = .*;          \\/\\/ OPTIMIZE \\[400, 1200\\]$/constexpr auto PRIORITY_DAY_OFFSET = 635;          \\/\\/ OPTIMIZE [400, 1200]/' -e 's/^constexpr auto PRIORITY_COEF = .*;               \\/\\/ OPTIMIZE LOG \\[0\\.002, 2\\.0\\]$/constexpr auto PRIORITY_COEF = 0.8906221386464556;               \\/\\/ OPTIMIZE LOG [0.002, 2.0]/'\n",
      "clang++ 0057_main.cpp -std=gnu++17 -O2 -DONLINE_JUDGE -I/ -o 0057_main.cpp.out\n"
     ]
    },
    {
     "name": "stderr",
     "output_type": "stream",
     "text": [
      "\u001b[32m[I 2021-11-12 22:45:36,450]\u001b[0m Trial 55 finished with value: 1007501.0 and parameters: {'MCMC_Q_L2_NORM_RANGE': 5.6381020330575975, 'MCMC_Q_RANGE': 1.7649919313771962, 'EXPECTED_SKILL_EMA_ALPHA_COEF': 0.5468194647341371, 'MAX_N_NOT_OPEN_TASKS_IN_QUEUE': 87, 'PRIORITY_DAY_OFFSET': 765, 'PRIORITY_COEF': 1.0209823990289224}. Best is trial 26 with value: 1009815.0.\u001b[0m\n"
     ]
    },
    {
     "name": "stdout",
     "output_type": "stream",
     "text": [
      "callback ok\n",
      "index_parallel='0058'\n",
      "sed -i 0058_main.cpp -e 's/^constexpr auto MCMC_Q_L2_NORM_RANGE = .*;         \\/\\/ OPTIMIZE LOG \\[2\\.0, 20\\.0\\]$/constexpr auto MCMC_Q_L2_NORM_RANGE = 3.91923920613921;         \\/\\/ OPTIMIZE LOG [2.0, 20.0]/' -e 's/^constexpr auto MCMC_Q_RANGE = .*;                  \\/\\/ OPTIMIZE LOG \\[0\\.2, 10\\.0\\]$/constexpr auto MCMC_Q_RANGE = 0.24117686009165856;                  \\/\\/ OPTIMIZE LOG [0.2, 10.0]/' -e 's/^constexpr auto EXPECTED_SKILL_EMA_ALPHA_COEF = .*; \\/\\/ OPTIMIZE LOG \\[0\\.02, 2\\.0\\]$/constexpr auto EXPECTED_SKILL_EMA_ALPHA_COEF = 0.06469833415601538; \\/\\/ OPTIMIZE LOG [0.02, 2.0]/' -e 's/^constexpr auto MAX_N_NOT_OPEN_TASKS_IN_QUEUE = .*; \\/\\/ OPTIMIZE \\[60, 100\\]$/constexpr auto MAX_N_NOT_OPEN_TASKS_IN_QUEUE = 85; \\/\\/ OPTIMIZE [60, 100]/' -e 's/^constexpr auto PRIORITY_DAY_OFFSET = .*;          \\/\\/ OPTIMIZE \\[400, 1200\\]$/constexpr auto PRIORITY_DAY_OFFSET = 626;          \\/\\/ OPTIMIZE [400, 1200]/' -e 's/^constexpr auto PRIORITY_COEF = .*;               \\/\\/ OPTIMIZE LOG \\[0\\.002, 2\\.0\\]$/constexpr auto PRIORITY_COEF = 0.8449210537381205;               \\/\\/ OPTIMIZE LOG [0.002, 2.0]/'\n",
      "clang++ 0058_main.cpp -std=gnu++17 -O2 -DONLINE_JUDGE -I/ -o 0058_main.cpp.out\n"
     ]
    },
    {
     "name": "stderr",
     "output_type": "stream",
     "text": [
      "\u001b[32m[I 2021-11-12 22:45:38,949]\u001b[0m Trial 56 finished with value: 1006838.0 and parameters: {'MCMC_Q_L2_NORM_RANGE': 5.8495002241426075, 'MCMC_Q_RANGE': 1.6422853881981287, 'EXPECTED_SKILL_EMA_ALPHA_COEF': 0.5611214335784508, 'MAX_N_NOT_OPEN_TASKS_IN_QUEUE': 85, 'PRIORITY_DAY_OFFSET': 760, 'PRIORITY_COEF': 1.0003874795189711}. Best is trial 26 with value: 1009815.0.\u001b[0m\n"
     ]
    },
    {
     "name": "stdout",
     "output_type": "stream",
     "text": [
      "callback ok\n",
      "index_parallel='0059'\n",
      "sed -i 0059_main.cpp -e 's/^constexpr auto MCMC_Q_L2_NORM_RANGE = .*;         \\/\\/ OPTIMIZE LOG \\[2\\.0, 20\\.0\\]$/constexpr auto MCMC_Q_L2_NORM_RANGE = 3.8991054773902354;         \\/\\/ OPTIMIZE LOG [2.0, 20.0]/' -e 's/^constexpr auto MCMC_Q_RANGE = .*;                  \\/\\/ OPTIMIZE LOG \\[0\\.2, 10\\.0\\]$/constexpr auto MCMC_Q_RANGE = 0.2118544274587379;                  \\/\\/ OPTIMIZE LOG [0.2, 10.0]/' -e 's/^constexpr auto EXPECTED_SKILL_EMA_ALPHA_COEF = .*; \\/\\/ OPTIMIZE LOG \\[0\\.02, 2\\.0\\]$/constexpr auto EXPECTED_SKILL_EMA_ALPHA_COEF = 0.39234152045337106; \\/\\/ OPTIMIZE LOG [0.02, 2.0]/' -e 's/^constexpr auto MAX_N_NOT_OPEN_TASKS_IN_QUEUE = .*; \\/\\/ OPTIMIZE \\[60, 100\\]$/constexpr auto MAX_N_NOT_OPEN_TASKS_IN_QUEUE = 75; \\/\\/ OPTIMIZE [60, 100]/' -e 's/^constexpr auto PRIORITY_DAY_OFFSET = .*;          \\/\\/ OPTIMIZE \\[400, 1200\\]$/constexpr auto PRIORITY_DAY_OFFSET = 655;          \\/\\/ OPTIMIZE [400, 1200]/' -e 's/^constexpr auto PRIORITY_COEF = .*;               \\/\\/ OPTIMIZE LOG \\[0\\.002, 2\\.0\\]$/constexpr auto PRIORITY_COEF = 0.6297775147886528;               \\/\\/ OPTIMIZE LOG [0.002, 2.0]/'\n",
      "clang++ 0059_main.cpp -std=gnu++17 -O2 -DONLINE_JUDGE -I/ -o 0059_main.cpp.out\n"
     ]
    },
    {
     "name": "stderr",
     "output_type": "stream",
     "text": [
      "\u001b[32m[I 2021-11-12 22:49:35,013]\u001b[0m Trial 57 finished with value: 1008762.0 and parameters: {'MCMC_Q_L2_NORM_RANGE': 8.92134090668847, 'MCMC_Q_RANGE': 1.1712950572748184, 'EXPECTED_SKILL_EMA_ALPHA_COEF': 0.39820055712207914, 'MAX_N_NOT_OPEN_TASKS_IN_QUEUE': 86, 'PRIORITY_DAY_OFFSET': 635, 'PRIORITY_COEF': 0.8906221386464556}. Best is trial 26 with value: 1009815.0.\u001b[0m\n"
     ]
    },
    {
     "name": "stdout",
     "output_type": "stream",
     "text": [
      "callback ok\n",
      "index_parallel='0060'\n",
      "sed -i 0060_main.cpp -e 's/^constexpr auto MCMC_Q_L2_NORM_RANGE = .*;         \\/\\/ OPTIMIZE LOG \\[2\\.0, 20\\.0\\]$/constexpr auto MCMC_Q_L2_NORM_RANGE = 3.961692566689966;         \\/\\/ OPTIMIZE LOG [2.0, 20.0]/' -e 's/^constexpr auto MCMC_Q_RANGE = .*;                  \\/\\/ OPTIMIZE LOG \\[0\\.2, 10\\.0\\]$/constexpr auto MCMC_Q_RANGE = 0.222141094419538;                  \\/\\/ OPTIMIZE LOG [0.2, 10.0]/' -e 's/^constexpr auto EXPECTED_SKILL_EMA_ALPHA_COEF = .*; \\/\\/ OPTIMIZE LOG \\[0\\.02, 2\\.0\\]$/constexpr auto EXPECTED_SKILL_EMA_ALPHA_COEF = 1.9525072380355308; \\/\\/ OPTIMIZE LOG [0.02, 2.0]/' -e 's/^constexpr auto MAX_N_NOT_OPEN_TASKS_IN_QUEUE = .*; \\/\\/ OPTIMIZE \\[60, 100\\]$/constexpr auto MAX_N_NOT_OPEN_TASKS_IN_QUEUE = 75; \\/\\/ OPTIMIZE [60, 100]/' -e 's/^constexpr auto PRIORITY_DAY_OFFSET = .*;          \\/\\/ OPTIMIZE \\[400, 1200\\]$/constexpr auto PRIORITY_DAY_OFFSET = 511;          \\/\\/ OPTIMIZE [400, 1200]/' -e 's/^constexpr auto PRIORITY_COEF = .*;               \\/\\/ OPTIMIZE LOG \\[0\\.002, 2\\.0\\]$/constexpr auto PRIORITY_COEF = 1.9981936443372004;               \\/\\/ OPTIMIZE LOG [0.002, 2.0]/'\n",
      "clang++ 0060_main.cpp -std=gnu++17 -O2 -DONLINE_JUDGE -I/ -o 0060_main.cpp.out\n"
     ]
    },
    {
     "name": "stderr",
     "output_type": "stream",
     "text": [
      "\u001b[32m[I 2021-11-12 22:49:40,864]\u001b[0m Trial 58 finished with value: 988337.0 and parameters: {'MCMC_Q_L2_NORM_RANGE': 3.91923920613921, 'MCMC_Q_RANGE': 0.24117686009165856, 'EXPECTED_SKILL_EMA_ALPHA_COEF': 0.06469833415601538, 'MAX_N_NOT_OPEN_TASKS_IN_QUEUE': 85, 'PRIORITY_DAY_OFFSET': 626, 'PRIORITY_COEF': 0.8449210537381205}. Best is trial 26 with value: 1009815.0.\u001b[0m\n"
     ]
    },
    {
     "name": "stdout",
     "output_type": "stream",
     "text": [
      "callback ok\n",
      "index_parallel='0061'\n",
      "sed -i 0061_main.cpp -e 's/^constexpr auto MCMC_Q_L2_NORM_RANGE = .*;         \\/\\/ OPTIMIZE LOG \\[2\\.0, 20\\.0\\]$/constexpr auto MCMC_Q_L2_NORM_RANGE = 4.626315826167869;         \\/\\/ OPTIMIZE LOG [2.0, 20.0]/' -e 's/^constexpr auto MCMC_Q_RANGE = .*;                  \\/\\/ OPTIMIZE LOG \\[0\\.2, 10\\.0\\]$/constexpr auto MCMC_Q_RANGE = 3.277618481149261;                  \\/\\/ OPTIMIZE LOG [0.2, 10.0]/' -e 's/^constexpr auto EXPECTED_SKILL_EMA_ALPHA_COEF = .*; \\/\\/ OPTIMIZE LOG \\[0\\.02, 2\\.0\\]$/constexpr auto EXPECTED_SKILL_EMA_ALPHA_COEF = 1.7068696333908928; \\/\\/ OPTIMIZE LOG [0.02, 2.0]/' -e 's/^constexpr auto MAX_N_NOT_OPEN_TASKS_IN_QUEUE = .*; \\/\\/ OPTIMIZE \\[60, 100\\]$/constexpr auto MAX_N_NOT_OPEN_TASKS_IN_QUEUE = 70; \\/\\/ OPTIMIZE [60, 100]/' -e 's/^constexpr auto PRIORITY_DAY_OFFSET = .*;          \\/\\/ OPTIMIZE \\[400, 1200\\]$/constexpr auto PRIORITY_DAY_OFFSET = 514;          \\/\\/ OPTIMIZE [400, 1200]/' -e 's/^constexpr auto PRIORITY_COEF = .*;               \\/\\/ OPTIMIZE LOG \\[0\\.002, 2\\.0\\]$/constexpr auto PRIORITY_COEF = 0.6454693465786652;               \\/\\/ OPTIMIZE LOG [0.002, 2.0]/'\n",
      "clang++ 0061_main.cpp -std=gnu++17 -O2 -DONLINE_JUDGE -I/ -o 0061_main.cpp.out\n"
     ]
    },
    {
     "name": "stderr",
     "output_type": "stream",
     "text": [
      "\u001b[32m[I 2021-11-12 22:49:43,651]\u001b[0m Trial 59 finished with value: 999941.0 and parameters: {'MCMC_Q_L2_NORM_RANGE': 3.8991054773902354, 'MCMC_Q_RANGE': 0.2118544274587379, 'EXPECTED_SKILL_EMA_ALPHA_COEF': 0.39234152045337106, 'MAX_N_NOT_OPEN_TASKS_IN_QUEUE': 75, 'PRIORITY_DAY_OFFSET': 655, 'PRIORITY_COEF': 0.6297775147886528}. Best is trial 26 with value: 1009815.0.\u001b[0m\n"
     ]
    },
    {
     "name": "stdout",
     "output_type": "stream",
     "text": [
      "callback ok\n",
      "index_parallel='0062'\n",
      "sed -i 0062_main.cpp -e 's/^constexpr auto MCMC_Q_L2_NORM_RANGE = .*;         \\/\\/ OPTIMIZE LOG \\[2\\.0, 20\\.0\\]$/constexpr auto MCMC_Q_L2_NORM_RANGE = 4.559360948097225;         \\/\\/ OPTIMIZE LOG [2.0, 20.0]/' -e 's/^constexpr auto MCMC_Q_RANGE = .*;                  \\/\\/ OPTIMIZE LOG \\[0\\.2, 10\\.0\\]$/constexpr auto MCMC_Q_RANGE = 3.0982629586647112;                  \\/\\/ OPTIMIZE LOG [0.2, 10.0]/' -e 's/^constexpr auto EXPECTED_SKILL_EMA_ALPHA_COEF = .*; \\/\\/ OPTIMIZE LOG \\[0\\.02, 2\\.0\\]$/constexpr auto EXPECTED_SKILL_EMA_ALPHA_COEF = 1.7207289322987047; \\/\\/ OPTIMIZE LOG [0.02, 2.0]/' -e 's/^constexpr auto MAX_N_NOT_OPEN_TASKS_IN_QUEUE = .*; \\/\\/ OPTIMIZE \\[60, 100\\]$/constexpr auto MAX_N_NOT_OPEN_TASKS_IN_QUEUE = 93; \\/\\/ OPTIMIZE [60, 100]/' -e 's/^constexpr auto PRIORITY_DAY_OFFSET = .*;          \\/\\/ OPTIMIZE \\[400, 1200\\]$/constexpr auto PRIORITY_DAY_OFFSET = 521;          \\/\\/ OPTIMIZE [400, 1200]/' -e 's/^constexpr auto PRIORITY_COEF = .*;               \\/\\/ OPTIMIZE LOG \\[0\\.002, 2\\.0\\]$/constexpr auto PRIORITY_COEF = 0.13871260375809702;               \\/\\/ OPTIMIZE LOG [0.002, 2.0]/'\n",
      "clang++ 0062_main.cpp -std=gnu++17 -O2 -DONLINE_JUDGE -I/ -o 0062_main.cpp.out\n"
     ]
    },
    {
     "name": "stderr",
     "output_type": "stream",
     "text": [
      "\u001b[32m[I 2021-11-12 22:53:40,000]\u001b[0m Trial 61 finished with value: 1004958.0 and parameters: {'MCMC_Q_L2_NORM_RANGE': 4.626315826167869, 'MCMC_Q_RANGE': 3.277618481149261, 'EXPECTED_SKILL_EMA_ALPHA_COEF': 1.7068696333908928, 'MAX_N_NOT_OPEN_TASKS_IN_QUEUE': 70, 'PRIORITY_DAY_OFFSET': 514, 'PRIORITY_COEF': 0.6454693465786652}. Best is trial 26 with value: 1009815.0.\u001b[0m\n"
     ]
    },
    {
     "name": "stdout",
     "output_type": "stream",
     "text": [
      "callback ok\n",
      "index_parallel='0063'\n",
      "sed -i 0063_main.cpp -e 's/^constexpr auto MCMC_Q_L2_NORM_RANGE = .*;         \\/\\/ OPTIMIZE LOG \\[2\\.0, 20\\.0\\]$/constexpr auto MCMC_Q_L2_NORM_RANGE = 7.974389853434791;         \\/\\/ OPTIMIZE LOG [2.0, 20.0]/' -e 's/^constexpr auto MCMC_Q_RANGE = .*;                  \\/\\/ OPTIMIZE LOG \\[0\\.2, 10\\.0\\]$/constexpr auto MCMC_Q_RANGE = 1.310406752688646;                  \\/\\/ OPTIMIZE LOG [0.2, 10.0]/' -e 's/^constexpr auto EXPECTED_SKILL_EMA_ALPHA_COEF = .*; \\/\\/ OPTIMIZE LOG \\[0\\.02, 2\\.0\\]$/constexpr auto EXPECTED_SKILL_EMA_ALPHA_COEF = 0.5986809515283402; \\/\\/ OPTIMIZE LOG [0.02, 2.0]/' -e 's/^constexpr auto MAX_N_NOT_OPEN_TASKS_IN_QUEUE = .*; \\/\\/ OPTIMIZE \\[60, 100\\]$/constexpr auto MAX_N_NOT_OPEN_TASKS_IN_QUEUE = 93; \\/\\/ OPTIMIZE [60, 100]/' -e 's/^constexpr auto PRIORITY_DAY_OFFSET = .*;          \\/\\/ OPTIMIZE \\[400, 1200\\]$/constexpr auto PRIORITY_DAY_OFFSET = 714;          \\/\\/ OPTIMIZE [400, 1200]/' -e 's/^constexpr auto PRIORITY_COEF = .*;               \\/\\/ OPTIMIZE LOG \\[0\\.002, 2\\.0\\]$/constexpr auto PRIORITY_COEF = 0.3853612404347502;               \\/\\/ OPTIMIZE LOG [0.002, 2.0]/'\n",
      "clang++ 0063_main.cpp -std=gnu++17 -O2 -DONLINE_JUDGE -I/ -o 0063_main.cpp.out\n"
     ]
    },
    {
     "name": "stderr",
     "output_type": "stream",
     "text": [
      "\u001b[32m[I 2021-11-12 22:53:41,221]\u001b[0m Trial 60 finished with value: 999884.0 and parameters: {'MCMC_Q_L2_NORM_RANGE': 3.961692566689966, 'MCMC_Q_RANGE': 0.222141094419538, 'EXPECTED_SKILL_EMA_ALPHA_COEF': 1.9525072380355308, 'MAX_N_NOT_OPEN_TASKS_IN_QUEUE': 75, 'PRIORITY_DAY_OFFSET': 511, 'PRIORITY_COEF': 1.9981936443372004}. Best is trial 26 with value: 1009815.0.\u001b[0m\n"
     ]
    },
    {
     "name": "stdout",
     "output_type": "stream",
     "text": [
      "callback ok\n",
      "index_parallel='0064'\n",
      "sed -i 0064_main.cpp -e 's/^constexpr auto MCMC_Q_L2_NORM_RANGE = .*;         \\/\\/ OPTIMIZE LOG \\[2\\.0, 20\\.0\\]$/constexpr auto MCMC_Q_L2_NORM_RANGE = 8.073298204802922;         \\/\\/ OPTIMIZE LOG [2.0, 20.0]/' -e 's/^constexpr auto MCMC_Q_RANGE = .*;                  \\/\\/ OPTIMIZE LOG \\[0\\.2, 10\\.0\\]$/constexpr auto MCMC_Q_RANGE = 1.3186187058925147;                  \\/\\/ OPTIMIZE LOG [0.2, 10.0]/' -e 's/^constexpr auto EXPECTED_SKILL_EMA_ALPHA_COEF = .*; \\/\\/ OPTIMIZE LOG \\[0\\.02, 2\\.0\\]$/constexpr auto EXPECTED_SKILL_EMA_ALPHA_COEF = 0.033425974478684964; \\/\\/ OPTIMIZE LOG [0.02, 2.0]/' -e 's/^constexpr auto MAX_N_NOT_OPEN_TASKS_IN_QUEUE = .*; \\/\\/ OPTIMIZE \\[60, 100\\]$/constexpr auto MAX_N_NOT_OPEN_TASKS_IN_QUEUE = 82; \\/\\/ OPTIMIZE [60, 100]/' -e 's/^constexpr auto PRIORITY_DAY_OFFSET = .*;          \\/\\/ OPTIMIZE \\[400, 1200\\]$/constexpr auto PRIORITY_DAY_OFFSET = 712;          \\/\\/ OPTIMIZE [400, 1200]/' -e 's/^constexpr auto PRIORITY_COEF = .*;               \\/\\/ OPTIMIZE LOG \\[0\\.002, 2\\.0\\]$/constexpr auto PRIORITY_COEF = 1.4338988528535515;               \\/\\/ OPTIMIZE LOG [0.002, 2.0]/'\n",
      "clang++ 0064_main.cpp -std=gnu++17 -O2 -DONLINE_JUDGE -I/ -o 0064_main.cpp.out\n"
     ]
    },
    {
     "name": "stderr",
     "output_type": "stream",
     "text": [
      "\u001b[32m[I 2021-11-12 22:53:44,787]\u001b[0m Trial 62 finished with value: 1008585.0 and parameters: {'MCMC_Q_L2_NORM_RANGE': 4.559360948097225, 'MCMC_Q_RANGE': 3.0982629586647112, 'EXPECTED_SKILL_EMA_ALPHA_COEF': 1.7207289322987047, 'MAX_N_NOT_OPEN_TASKS_IN_QUEUE': 93, 'PRIORITY_DAY_OFFSET': 521, 'PRIORITY_COEF': 0.13871260375809702}. Best is trial 26 with value: 1009815.0.\u001b[0m\n"
     ]
    },
    {
     "name": "stdout",
     "output_type": "stream",
     "text": [
      "callback ok\n",
      "index_parallel='0065'\n",
      "sed -i 0065_main.cpp -e 's/^constexpr auto MCMC_Q_L2_NORM_RANGE = .*;         \\/\\/ OPTIMIZE LOG \\[2\\.0, 20\\.0\\]$/constexpr auto MCMC_Q_L2_NORM_RANGE = 5.229227975049146;         \\/\\/ OPTIMIZE LOG [2.0, 20.0]/' -e 's/^constexpr auto MCMC_Q_RANGE = .*;                  \\/\\/ OPTIMIZE LOG \\[0\\.2, 10\\.0\\]$/constexpr auto MCMC_Q_RANGE = 1.4048693804540333;                  \\/\\/ OPTIMIZE LOG [0.2, 10.0]/' -e 's/^constexpr auto EXPECTED_SKILL_EMA_ALPHA_COEF = .*; \\/\\/ OPTIMIZE LOG \\[0\\.02, 2\\.0\\]$/constexpr auto EXPECTED_SKILL_EMA_ALPHA_COEF = 0.027630151793505767; \\/\\/ OPTIMIZE LOG [0.02, 2.0]/' -e 's/^constexpr auto MAX_N_NOT_OPEN_TASKS_IN_QUEUE = .*; \\/\\/ OPTIMIZE \\[60, 100\\]$/constexpr auto MAX_N_NOT_OPEN_TASKS_IN_QUEUE = 83; \\/\\/ OPTIMIZE [60, 100]/' -e 's/^constexpr auto PRIORITY_DAY_OFFSET = .*;          \\/\\/ OPTIMIZE \\[400, 1200\\]$/constexpr auto PRIORITY_DAY_OFFSET = 572;          \\/\\/ OPTIMIZE [400, 1200]/' -e 's/^constexpr auto PRIORITY_COEF = .*;               \\/\\/ OPTIMIZE LOG \\[0\\.002, 2\\.0\\]$/constexpr auto PRIORITY_COEF = 0.3977907210575429;               \\/\\/ OPTIMIZE LOG [0.002, 2.0]/'\n",
      "clang++ 0065_main.cpp -std=gnu++17 -O2 -DONLINE_JUDGE -I/ -o 0065_main.cpp.out\n"
     ]
    },
    {
     "name": "stderr",
     "output_type": "stream",
     "text": [
      "\u001b[32m[I 2021-11-12 22:57:39,797]\u001b[0m Trial 64 finished with value: 985433.0 and parameters: {'MCMC_Q_L2_NORM_RANGE': 8.073298204802922, 'MCMC_Q_RANGE': 1.3186187058925147, 'EXPECTED_SKILL_EMA_ALPHA_COEF': 0.033425974478684964, 'MAX_N_NOT_OPEN_TASKS_IN_QUEUE': 82, 'PRIORITY_DAY_OFFSET': 712, 'PRIORITY_COEF': 1.4338988528535515}. Best is trial 26 with value: 1009815.0.\u001b[0m\n"
     ]
    },
    {
     "name": "stdout",
     "output_type": "stream",
     "text": [
      "callback ok\n",
      "index_parallel='0066'\n",
      "sed -i 0066_main.cpp -e 's/^constexpr auto MCMC_Q_L2_NORM_RANGE = .*;         \\/\\/ OPTIMIZE LOG \\[2\\.0, 20\\.0\\]$/constexpr auto MCMC_Q_L2_NORM_RANGE = 5.1960051396417475;         \\/\\/ OPTIMIZE LOG [2.0, 20.0]/' -e 's/^constexpr auto MCMC_Q_RANGE = .*;                  \\/\\/ OPTIMIZE LOG \\[0\\.2, 10\\.0\\]$/constexpr auto MCMC_Q_RANGE = 1.2783758337130087;                  \\/\\/ OPTIMIZE LOG [0.2, 10.0]/' -e 's/^constexpr auto EXPECTED_SKILL_EMA_ALPHA_COEF = .*; \\/\\/ OPTIMIZE LOG \\[0\\.02, 2\\.0\\]$/constexpr auto EXPECTED_SKILL_EMA_ALPHA_COEF = 0.6045618886588908; \\/\\/ OPTIMIZE LOG [0.02, 2.0]/' -e 's/^constexpr auto MAX_N_NOT_OPEN_TASKS_IN_QUEUE = .*; \\/\\/ OPTIMIZE \\[60, 100\\]$/constexpr auto MAX_N_NOT_OPEN_TASKS_IN_QUEUE = 83; \\/\\/ OPTIMIZE [60, 100]/' -e 's/^constexpr auto PRIORITY_DAY_OFFSET = .*;          \\/\\/ OPTIMIZE \\[400, 1200\\]$/constexpr auto PRIORITY_DAY_OFFSET = 700;          \\/\\/ OPTIMIZE [400, 1200]/' -e 's/^constexpr auto PRIORITY_COEF = .*;               \\/\\/ OPTIMIZE LOG \\[0\\.002, 2\\.0\\]$/constexpr auto PRIORITY_COEF = 0.3538821973215232;               \\/\\/ OPTIMIZE LOG [0.002, 2.0]/'\n",
      "clang++ 0066_main.cpp -std=gnu++17 -O2 -DONLINE_JUDGE -I/ -o 0066_main.cpp.out\n"
     ]
    },
    {
     "name": "stderr",
     "output_type": "stream",
     "text": [
      "\u001b[32m[I 2021-11-12 22:57:40,676]\u001b[0m Trial 63 finished with value: 1008382.0 and parameters: {'MCMC_Q_L2_NORM_RANGE': 7.974389853434791, 'MCMC_Q_RANGE': 1.310406752688646, 'EXPECTED_SKILL_EMA_ALPHA_COEF': 0.5986809515283402, 'MAX_N_NOT_OPEN_TASKS_IN_QUEUE': 93, 'PRIORITY_DAY_OFFSET': 714, 'PRIORITY_COEF': 0.3853612404347502}. Best is trial 26 with value: 1009815.0.\u001b[0m\n"
     ]
    },
    {
     "name": "stdout",
     "output_type": "stream",
     "text": [
      "callback ok\n",
      "index_parallel='0067'\n",
      "sed -i 0067_main.cpp -e 's/^constexpr auto MCMC_Q_L2_NORM_RANGE = .*;         \\/\\/ OPTIMIZE LOG \\[2\\.0, 20\\.0\\]$/constexpr auto MCMC_Q_L2_NORM_RANGE = 5.232523143301224;         \\/\\/ OPTIMIZE LOG [2.0, 20.0]/' -e 's/^constexpr auto MCMC_Q_RANGE = .*;                  \\/\\/ OPTIMIZE LOG \\[0\\.2, 10\\.0\\]$/constexpr auto MCMC_Q_RANGE = 2.4429969890589085;                  \\/\\/ OPTIMIZE LOG [0.2, 10.0]/' -e 's/^constexpr auto EXPECTED_SKILL_EMA_ALPHA_COEF = .*; \\/\\/ OPTIMIZE LOG \\[0\\.02, 2\\.0\\]$/constexpr auto EXPECTED_SKILL_EMA_ALPHA_COEF = 0.30708948421946203; \\/\\/ OPTIMIZE LOG [0.02, 2.0]/' -e 's/^constexpr auto MAX_N_NOT_OPEN_TASKS_IN_QUEUE = .*; \\/\\/ OPTIMIZE \\[60, 100\\]$/constexpr auto MAX_N_NOT_OPEN_TASKS_IN_QUEUE = 88; \\/\\/ OPTIMIZE [60, 100]/' -e 's/^constexpr auto PRIORITY_DAY_OFFSET = .*;          \\/\\/ OPTIMIZE \\[400, 1200\\]$/constexpr auto PRIORITY_DAY_OFFSET = 1069;          \\/\\/ OPTIMIZE [400, 1200]/' -e 's/^constexpr auto PRIORITY_COEF = .*;               \\/\\/ OPTIMIZE LOG \\[0\\.002, 2\\.0\\]$/constexpr auto PRIORITY_COEF = 1.2491654060914077;               \\/\\/ OPTIMIZE LOG [0.002, 2.0]/'\n",
      "clang++ 0067_main.cpp -std=gnu++17 -O2 -DONLINE_JUDGE -I/ -o 0067_main.cpp.out\n"
     ]
    },
    {
     "name": "stderr",
     "output_type": "stream",
     "text": [
      "\u001b[32m[I 2021-11-12 22:57:43,838]\u001b[0m Trial 65 finished with value: 983547.0 and parameters: {'MCMC_Q_L2_NORM_RANGE': 5.229227975049146, 'MCMC_Q_RANGE': 1.4048693804540333, 'EXPECTED_SKILL_EMA_ALPHA_COEF': 0.027630151793505767, 'MAX_N_NOT_OPEN_TASKS_IN_QUEUE': 83, 'PRIORITY_DAY_OFFSET': 572, 'PRIORITY_COEF': 0.3977907210575429}. Best is trial 26 with value: 1009815.0.\u001b[0m\n"
     ]
    },
    {
     "name": "stdout",
     "output_type": "stream",
     "text": [
      "callback ok\n",
      "index_parallel='0068'\n",
      "sed -i 0068_main.cpp -e 's/^constexpr auto MCMC_Q_L2_NORM_RANGE = .*;         \\/\\/ OPTIMIZE LOG \\[2\\.0, 20\\.0\\]$/constexpr auto MCMC_Q_L2_NORM_RANGE = 6.061366172342444;         \\/\\/ OPTIMIZE LOG [2.0, 20.0]/' -e 's/^constexpr auto MCMC_Q_RANGE = .*;                  \\/\\/ OPTIMIZE LOG \\[0\\.2, 10\\.0\\]$/constexpr auto MCMC_Q_RANGE = 0.956447574632865;                  \\/\\/ OPTIMIZE LOG [0.2, 10.0]/' -e 's/^constexpr auto EXPECTED_SKILL_EMA_ALPHA_COEF = .*; \\/\\/ OPTIMIZE LOG \\[0\\.02, 2\\.0\\]$/constexpr auto EXPECTED_SKILL_EMA_ALPHA_COEF = 0.3040459487110663; \\/\\/ OPTIMIZE LOG [0.02, 2.0]/' -e 's/^constexpr auto MAX_N_NOT_OPEN_TASKS_IN_QUEUE = .*; \\/\\/ OPTIMIZE \\[60, 100\\]$/constexpr auto MAX_N_NOT_OPEN_TASKS_IN_QUEUE = 88; \\/\\/ OPTIMIZE [60, 100]/' -e 's/^constexpr auto PRIORITY_DAY_OFFSET = .*;          \\/\\/ OPTIMIZE \\[400, 1200\\]$/constexpr auto PRIORITY_DAY_OFFSET = 619;          \\/\\/ OPTIMIZE [400, 1200]/' -e 's/^constexpr auto PRIORITY_COEF = .*;               \\/\\/ OPTIMIZE LOG \\[0\\.002, 2\\.0\\]$/constexpr auto PRIORITY_COEF = 1.3523813594702268;               \\/\\/ OPTIMIZE LOG [0.002, 2.0]/'\n",
      "clang++ 0068_main.cpp -std=gnu++17 -O2 -DONLINE_JUDGE -I/ -o 0068_main.cpp.out\n"
     ]
    },
    {
     "name": "stderr",
     "output_type": "stream",
     "text": [
      "\u001b[32m[I 2021-11-12 23:01:41,649]\u001b[0m Trial 66 finished with value: 1007472.0 and parameters: {'MCMC_Q_L2_NORM_RANGE': 5.1960051396417475, 'MCMC_Q_RANGE': 1.2783758337130087, 'EXPECTED_SKILL_EMA_ALPHA_COEF': 0.6045618886588908, 'MAX_N_NOT_OPEN_TASKS_IN_QUEUE': 83, 'PRIORITY_DAY_OFFSET': 700, 'PRIORITY_COEF': 0.3538821973215232}. Best is trial 26 with value: 1009815.0.\u001b[0m\n"
     ]
    },
    {
     "name": "stdout",
     "output_type": "stream",
     "text": [
      "callback ok\n",
      "index_parallel='0069'\n",
      "sed -i 0069_main.cpp -e 's/^constexpr auto MCMC_Q_L2_NORM_RANGE = .*;         \\/\\/ OPTIMIZE LOG \\[2\\.0, 20\\.0\\]$/constexpr auto MCMC_Q_L2_NORM_RANGE = 6.8121313844488585;         \\/\\/ OPTIMIZE LOG [2.0, 20.0]/' -e 's/^constexpr auto MCMC_Q_RANGE = .*;                  \\/\\/ OPTIMIZE LOG \\[0\\.2, 10\\.0\\]$/constexpr auto MCMC_Q_RANGE = 0.9259090912843099;                  \\/\\/ OPTIMIZE LOG [0.2, 10.0]/' -e 's/^constexpr auto EXPECTED_SKILL_EMA_ALPHA_COEF = .*; \\/\\/ OPTIMIZE LOG \\[0\\.02, 2\\.0\\]$/constexpr auto EXPECTED_SKILL_EMA_ALPHA_COEF = 0.30189403060473574; \\/\\/ OPTIMIZE LOG [0.02, 2.0]/' -e 's/^constexpr auto MAX_N_NOT_OPEN_TASKS_IN_QUEUE = .*; \\/\\/ OPTIMIZE \\[60, 100\\]$/constexpr auto MAX_N_NOT_OPEN_TASKS_IN_QUEUE = 88; \\/\\/ OPTIMIZE [60, 100]/' -e 's/^constexpr auto PRIORITY_DAY_OFFSET = .*;          \\/\\/ OPTIMIZE \\[400, 1200\\]$/constexpr auto PRIORITY_DAY_OFFSET = 613;          \\/\\/ OPTIMIZE [400, 1200]/' -e 's/^constexpr auto PRIORITY_COEF = .*;               \\/\\/ OPTIMIZE LOG \\[0\\.002, 2\\.0\\]$/constexpr auto PRIORITY_COEF = 1.227588597209943;               \\/\\/ OPTIMIZE LOG [0.002, 2.0]/'\n",
      "clang++ 0069_main.cpp -std=gnu++17 -O2 -DONLINE_JUDGE -I/ -o 0069_main.cpp.out\n"
     ]
    },
    {
     "name": "stderr",
     "output_type": "stream",
     "text": [
      "\u001b[32m[I 2021-11-12 23:01:42,515]\u001b[0m Trial 67 finished with value: 1004659.0 and parameters: {'MCMC_Q_L2_NORM_RANGE': 5.232523143301224, 'MCMC_Q_RANGE': 2.4429969890589085, 'EXPECTED_SKILL_EMA_ALPHA_COEF': 0.30708948421946203, 'MAX_N_NOT_OPEN_TASKS_IN_QUEUE': 88, 'PRIORITY_DAY_OFFSET': 1069, 'PRIORITY_COEF': 1.2491654060914077}. Best is trial 26 with value: 1009815.0.\u001b[0m\n"
     ]
    },
    {
     "name": "stdout",
     "output_type": "stream",
     "text": [
      "callback ok\n",
      "index_parallel='0070'\n",
      "sed -i 0070_main.cpp -e 's/^constexpr auto MCMC_Q_L2_NORM_RANGE = .*;         \\/\\/ OPTIMIZE LOG \\[2\\.0, 20\\.0\\]$/constexpr auto MCMC_Q_L2_NORM_RANGE = 6.097036676135219;         \\/\\/ OPTIMIZE LOG [2.0, 20.0]/' -e 's/^constexpr auto MCMC_Q_RANGE = .*;                  \\/\\/ OPTIMIZE LOG \\[0\\.2, 10\\.0\\]$/constexpr auto MCMC_Q_RANGE = 0.7083773018332827;                  \\/\\/ OPTIMIZE LOG [0.2, 10.0]/' -e 's/^constexpr auto EXPECTED_SKILL_EMA_ALPHA_COEF = .*; \\/\\/ OPTIMIZE LOG \\[0\\.02, 2\\.0\\]$/constexpr auto EXPECTED_SKILL_EMA_ALPHA_COEF = 0.4900571806284267; \\/\\/ OPTIMIZE LOG [0.02, 2.0]/' -e 's/^constexpr auto MAX_N_NOT_OPEN_TASKS_IN_QUEUE = .*; \\/\\/ OPTIMIZE \\[60, 100\\]$/constexpr auto MAX_N_NOT_OPEN_TASKS_IN_QUEUE = 98; \\/\\/ OPTIMIZE [60, 100]/' -e 's/^constexpr auto PRIORITY_DAY_OFFSET = .*;          \\/\\/ OPTIMIZE \\[400, 1200\\]$/constexpr auto PRIORITY_DAY_OFFSET = 662;          \\/\\/ OPTIMIZE [400, 1200]/' -e 's/^constexpr auto PRIORITY_COEF = .*;               \\/\\/ OPTIMIZE LOG \\[0\\.002, 2\\.0\\]$/constexpr auto PRIORITY_COEF = 1.0955551448672136;               \\/\\/ OPTIMIZE LOG [0.002, 2.0]/'\n",
      "clang++ 0070_main.cpp -std=gnu++17 -O2 -DONLINE_JUDGE -I/ -o 0070_main.cpp.out\n"
     ]
    },
    {
     "name": "stderr",
     "output_type": "stream",
     "text": [
      "\u001b[32m[I 2021-11-12 23:01:46,752]\u001b[0m Trial 68 finished with value: 1006838.0 and parameters: {'MCMC_Q_L2_NORM_RANGE': 6.061366172342444, 'MCMC_Q_RANGE': 0.956447574632865, 'EXPECTED_SKILL_EMA_ALPHA_COEF': 0.3040459487110663, 'MAX_N_NOT_OPEN_TASKS_IN_QUEUE': 88, 'PRIORITY_DAY_OFFSET': 619, 'PRIORITY_COEF': 1.3523813594702268}. Best is trial 26 with value: 1009815.0.\u001b[0m\n"
     ]
    },
    {
     "name": "stdout",
     "output_type": "stream",
     "text": [
      "callback ok\n",
      "index_parallel='0071'\n",
      "sed -i 0071_main.cpp -e 's/^constexpr auto MCMC_Q_L2_NORM_RANGE = .*;         \\/\\/ OPTIMIZE LOG \\[2\\.0, 20\\.0\\]$/constexpr auto MCMC_Q_L2_NORM_RANGE = 6.861145683887199;         \\/\\/ OPTIMIZE LOG [2.0, 20.0]/' -e 's/^constexpr auto MCMC_Q_RANGE = .*;                  \\/\\/ OPTIMIZE LOG \\[0\\.2, 10\\.0\\]$/constexpr auto MCMC_Q_RANGE = 0.6922284971272976;                  \\/\\/ OPTIMIZE LOG [0.2, 10.0]/' -e 's/^constexpr auto EXPECTED_SKILL_EMA_ALPHA_COEF = .*; \\/\\/ OPTIMIZE LOG \\[0\\.02, 2\\.0\\]$/constexpr auto EXPECTED_SKILL_EMA_ALPHA_COEF = 0.781459235791742; \\/\\/ OPTIMIZE LOG [0.02, 2.0]/' -e 's/^constexpr auto MAX_N_NOT_OPEN_TASKS_IN_QUEUE = .*; \\/\\/ OPTIMIZE \\[60, 100\\]$/constexpr auto MAX_N_NOT_OPEN_TASKS_IN_QUEUE = 80; \\/\\/ OPTIMIZE [60, 100]/' -e 's/^constexpr auto PRIORITY_DAY_OFFSET = .*;          \\/\\/ OPTIMIZE \\[400, 1200\\]$/constexpr auto PRIORITY_DAY_OFFSET = 469;          \\/\\/ OPTIMIZE [400, 1200]/' -e 's/^constexpr auto PRIORITY_COEF = .*;               \\/\\/ OPTIMIZE LOG \\[0\\.002, 2\\.0\\]$/constexpr auto PRIORITY_COEF = 0.5735177786542037;               \\/\\/ OPTIMIZE LOG [0.002, 2.0]/'\n",
      "clang++ 0071_main.cpp -std=gnu++17 -O2 -DONLINE_JUDGE -I/ -o 0071_main.cpp.out\n"
     ]
    },
    {
     "name": "stderr",
     "output_type": "stream",
     "text": [
      "\u001b[32m[I 2021-11-12 23:05:44,177]\u001b[0m Trial 69 finished with value: 1008017.0 and parameters: {'MCMC_Q_L2_NORM_RANGE': 6.8121313844488585, 'MCMC_Q_RANGE': 0.9259090912843099, 'EXPECTED_SKILL_EMA_ALPHA_COEF': 0.30189403060473574, 'MAX_N_NOT_OPEN_TASKS_IN_QUEUE': 88, 'PRIORITY_DAY_OFFSET': 613, 'PRIORITY_COEF': 1.227588597209943}. Best is trial 26 with value: 1009815.0.\u001b[0m\n"
     ]
    },
    {
     "name": "stdout",
     "output_type": "stream",
     "text": [
      "callback ok\n",
      "index_parallel='0072'\n",
      "sed -i 0072_main.cpp -e 's/^constexpr auto MCMC_Q_L2_NORM_RANGE = .*;         \\/\\/ OPTIMIZE LOG \\[2\\.0, 20\\.0\\]$/constexpr auto MCMC_Q_L2_NORM_RANGE = 8.603184606037294;         \\/\\/ OPTIMIZE LOG [2.0, 20.0]/' -e 's/^constexpr auto MCMC_Q_RANGE = .*;                  \\/\\/ OPTIMIZE LOG \\[0\\.2, 10\\.0\\]$/constexpr auto MCMC_Q_RANGE = 1.7362204799252539;                  \\/\\/ OPTIMIZE LOG [0.2, 10.0]/' -e 's/^constexpr auto EXPECTED_SKILL_EMA_ALPHA_COEF = .*; \\/\\/ OPTIMIZE LOG \\[0\\.02, 2\\.0\\]$/constexpr auto EXPECTED_SKILL_EMA_ALPHA_COEF = 0.7980206949592247; \\/\\/ OPTIMIZE LOG [0.02, 2.0]/' -e 's/^constexpr auto MAX_N_NOT_OPEN_TASKS_IN_QUEUE = .*; \\/\\/ OPTIMIZE \\[60, 100\\]$/constexpr auto MAX_N_NOT_OPEN_TASKS_IN_QUEUE = 98; \\/\\/ OPTIMIZE [60, 100]/' -e 's/^constexpr auto PRIORITY_DAY_OFFSET = .*;          \\/\\/ OPTIMIZE \\[400, 1200\\]$/constexpr auto PRIORITY_DAY_OFFSET = 659;          \\/\\/ OPTIMIZE [400, 1200]/' -e 's/^constexpr auto PRIORITY_COEF = .*;               \\/\\/ OPTIMIZE LOG \\[0\\.002, 2\\.0\\]$/constexpr auto PRIORITY_COEF = 0.5817118170060995;               \\/\\/ OPTIMIZE LOG [0.002, 2.0]/'\n",
      "clang++ 0072_main.cpp -std=gnu++17 -O2 -DONLINE_JUDGE -I/ -o 0072_main.cpp.out\n"
     ]
    },
    {
     "name": "stderr",
     "output_type": "stream",
     "text": [
      "\u001b[32m[I 2021-11-12 23:05:46,464]\u001b[0m Trial 70 finished with value: 1007482.0 and parameters: {'MCMC_Q_L2_NORM_RANGE': 6.097036676135219, 'MCMC_Q_RANGE': 0.7083773018332827, 'EXPECTED_SKILL_EMA_ALPHA_COEF': 0.4900571806284267, 'MAX_N_NOT_OPEN_TASKS_IN_QUEUE': 98, 'PRIORITY_DAY_OFFSET': 662, 'PRIORITY_COEF': 1.0955551448672136}. Best is trial 26 with value: 1009815.0.\u001b[0m\n"
     ]
    },
    {
     "name": "stdout",
     "output_type": "stream",
     "text": [
      "callback ok\n",
      "index_parallel='0073'\n",
      "sed -i 0073_main.cpp -e 's/^constexpr auto MCMC_Q_L2_NORM_RANGE = .*;         \\/\\/ OPTIMIZE LOG \\[2\\.0, 20\\.0\\]$/constexpr auto MCMC_Q_L2_NORM_RANGE = 5.536508834189455;         \\/\\/ OPTIMIZE LOG [2.0, 20.0]/' -e 's/^constexpr auto MCMC_Q_RANGE = .*;                  \\/\\/ OPTIMIZE LOG \\[0\\.2, 10\\.0\\]$/constexpr auto MCMC_Q_RANGE = 1.778999663513948;                  \\/\\/ OPTIMIZE LOG [0.2, 10.0]/' -e 's/^constexpr auto EXPECTED_SKILL_EMA_ALPHA_COEF = .*; \\/\\/ OPTIMIZE LOG \\[0\\.02, 2\\.0\\]$/constexpr auto EXPECTED_SKILL_EMA_ALPHA_COEF = 0.8153355021463693; \\/\\/ OPTIMIZE LOG [0.02, 2.0]/' -e 's/^constexpr auto MAX_N_NOT_OPEN_TASKS_IN_QUEUE = .*; \\/\\/ OPTIMIZE \\[60, 100\\]$/constexpr auto MAX_N_NOT_OPEN_TASKS_IN_QUEUE = 90; \\/\\/ OPTIMIZE [60, 100]/' -e 's/^constexpr auto PRIORITY_DAY_OFFSET = .*;          \\/\\/ OPTIMIZE \\[400, 1200\\]$/constexpr auto PRIORITY_DAY_OFFSET = 643;          \\/\\/ OPTIMIZE [400, 1200]/' -e 's/^constexpr auto PRIORITY_COEF = .*;               \\/\\/ OPTIMIZE LOG \\[0\\.002, 2\\.0\\]$/constexpr auto PRIORITY_COEF = 0.2732533839809605;               \\/\\/ OPTIMIZE LOG [0.002, 2.0]/'\n",
      "clang++ 0073_main.cpp -std=gnu++17 -O2 -DONLINE_JUDGE -I/ -o 0073_main.cpp.out\n"
     ]
    },
    {
     "name": "stderr",
     "output_type": "stream",
     "text": [
      "\u001b[32m[I 2021-11-12 23:05:50,287]\u001b[0m Trial 71 finished with value: 1008677.0 and parameters: {'MCMC_Q_L2_NORM_RANGE': 6.861145683887199, 'MCMC_Q_RANGE': 0.6922284971272976, 'EXPECTED_SKILL_EMA_ALPHA_COEF': 0.781459235791742, 'MAX_N_NOT_OPEN_TASKS_IN_QUEUE': 80, 'PRIORITY_DAY_OFFSET': 469, 'PRIORITY_COEF': 0.5735177786542037}. Best is trial 26 with value: 1009815.0.\u001b[0m\n"
     ]
    },
    {
     "name": "stdout",
     "output_type": "stream",
     "text": [
      "callback ok\n",
      "index_parallel='0074'\n",
      "sed -i 0074_main.cpp -e 's/^constexpr auto MCMC_Q_L2_NORM_RANGE = .*;         \\/\\/ OPTIMIZE LOG \\[2\\.0, 20\\.0\\]$/constexpr auto MCMC_Q_L2_NORM_RANGE = 5.592308016697907;         \\/\\/ OPTIMIZE LOG [2.0, 20.0]/' -e 's/^constexpr auto MCMC_Q_RANGE = .*;                  \\/\\/ OPTIMIZE LOG \\[0\\.2, 10\\.0\\]$/constexpr auto MCMC_Q_RANGE = 1.8654120012476934;                  \\/\\/ OPTIMIZE LOG [0.2, 10.0]/' -e 's/^constexpr auto EXPECTED_SKILL_EMA_ALPHA_COEF = .*; \\/\\/ OPTIMIZE LOG \\[0\\.02, 2\\.0\\]$/constexpr auto EXPECTED_SKILL_EMA_ALPHA_COEF = 0.44235065166545734; \\/\\/ OPTIMIZE LOG [0.02, 2.0]/' -e 's/^constexpr auto MAX_N_NOT_OPEN_TASKS_IN_QUEUE = .*; \\/\\/ OPTIMIZE \\[60, 100\\]$/constexpr auto MAX_N_NOT_OPEN_TASKS_IN_QUEUE = 90; \\/\\/ OPTIMIZE [60, 100]/' -e 's/^constexpr auto PRIORITY_DAY_OFFSET = .*;          \\/\\/ OPTIMIZE \\[400, 1200\\]$/constexpr auto PRIORITY_DAY_OFFSET = 648;          \\/\\/ OPTIMIZE [400, 1200]/' -e 's/^constexpr auto PRIORITY_COEF = .*;               \\/\\/ OPTIMIZE LOG \\[0\\.002, 2\\.0\\]$/constexpr auto PRIORITY_COEF = 0.24228152108337062;               \\/\\/ OPTIMIZE LOG [0.002, 2.0]/'\n",
      "clang++ 0074_main.cpp -std=gnu++17 -O2 -DONLINE_JUDGE -I/ -o 0074_main.cpp.out\n"
     ]
    },
    {
     "name": "stderr",
     "output_type": "stream",
     "text": [
      "\u001b[32m[I 2021-11-12 23:09:45,030]\u001b[0m Trial 72 finished with value: 1008792.0 and parameters: {'MCMC_Q_L2_NORM_RANGE': 8.603184606037294, 'MCMC_Q_RANGE': 1.7362204799252539, 'EXPECTED_SKILL_EMA_ALPHA_COEF': 0.7980206949592247, 'MAX_N_NOT_OPEN_TASKS_IN_QUEUE': 98, 'PRIORITY_DAY_OFFSET': 659, 'PRIORITY_COEF': 0.5817118170060995}. Best is trial 26 with value: 1009815.0.\u001b[0m\n"
     ]
    },
    {
     "name": "stdout",
     "output_type": "stream",
     "text": [
      "callback ok\n",
      "index_parallel='0075'\n",
      "sed -i 0075_main.cpp -e 's/^constexpr auto MCMC_Q_L2_NORM_RANGE = .*;         \\/\\/ OPTIMIZE LOG \\[2\\.0, 20\\.0\\]$/constexpr auto MCMC_Q_L2_NORM_RANGE = 12.178028333569905;         \\/\\/ OPTIMIZE LOG [2.0, 20.0]/' -e 's/^constexpr auto MCMC_Q_RANGE = .*;                  \\/\\/ OPTIMIZE LOG \\[0\\.2, 10\\.0\\]$/constexpr auto MCMC_Q_RANGE = 1.933077522044888;                  \\/\\/ OPTIMIZE LOG [0.2, 10.0]/' -e 's/^constexpr auto EXPECTED_SKILL_EMA_ALPHA_COEF = .*; \\/\\/ OPTIMIZE LOG \\[0\\.02, 2\\.0\\]$/constexpr auto EXPECTED_SKILL_EMA_ALPHA_COEF = 0.4573068359427855; \\/\\/ OPTIMIZE LOG [0.02, 2.0]/' -e 's/^constexpr auto MAX_N_NOT_OPEN_TASKS_IN_QUEUE = .*; \\/\\/ OPTIMIZE \\[60, 100\\]$/constexpr auto MAX_N_NOT_OPEN_TASKS_IN_QUEUE = 90; \\/\\/ OPTIMIZE [60, 100]/' -e 's/^constexpr auto PRIORITY_DAY_OFFSET = .*;          \\/\\/ OPTIMIZE \\[400, 1200\\]$/constexpr auto PRIORITY_DAY_OFFSET = 421;          \\/\\/ OPTIMIZE [400, 1200]/' -e 's/^constexpr auto PRIORITY_COEF = .*;               \\/\\/ OPTIMIZE LOG \\[0\\.002, 2\\.0\\]$/constexpr auto PRIORITY_COEF = 0.29505615904400295;               \\/\\/ OPTIMIZE LOG [0.002, 2.0]/'\n",
      "clang++ 0075_main.cpp -std=gnu++17 -O2 -DONLINE_JUDGE -I/ -o 0075_main.cpp.out\n"
     ]
    },
    {
     "name": "stderr",
     "output_type": "stream",
     "text": [
      "\u001b[32m[I 2021-11-12 23:09:48,789]\u001b[0m Trial 73 finished with value: 1008678.0 and parameters: {'MCMC_Q_L2_NORM_RANGE': 5.536508834189455, 'MCMC_Q_RANGE': 1.778999663513948, 'EXPECTED_SKILL_EMA_ALPHA_COEF': 0.8153355021463693, 'MAX_N_NOT_OPEN_TASKS_IN_QUEUE': 90, 'PRIORITY_DAY_OFFSET': 643, 'PRIORITY_COEF': 0.2732533839809605}. Best is trial 26 with value: 1009815.0.\u001b[0m\n"
     ]
    },
    {
     "name": "stdout",
     "output_type": "stream",
     "text": [
      "callback ok\n",
      "index_parallel='0076'\n",
      "sed -i 0076_main.cpp -e 's/^constexpr auto MCMC_Q_L2_NORM_RANGE = .*;         \\/\\/ OPTIMIZE LOG \\[2\\.0, 20\\.0\\]$/constexpr auto MCMC_Q_L2_NORM_RANGE = 4.9703412759947865;         \\/\\/ OPTIMIZE LOG [2.0, 20.0]/' -e 's/^constexpr auto MCMC_Q_RANGE = .*;                  \\/\\/ OPTIMIZE LOG \\[0\\.2, 10\\.0\\]$/constexpr auto MCMC_Q_RANGE = 1.166809385907009;                  \\/\\/ OPTIMIZE LOG [0.2, 10.0]/' -e 's/^constexpr auto EXPECTED_SKILL_EMA_ALPHA_COEF = .*; \\/\\/ OPTIMIZE LOG \\[0\\.02, 2\\.0\\]$/constexpr auto EXPECTED_SKILL_EMA_ALPHA_COEF = 0.468491293823201; \\/\\/ OPTIMIZE LOG [0.02, 2.0]/' -e 's/^constexpr auto MAX_N_NOT_OPEN_TASKS_IN_QUEUE = .*; \\/\\/ OPTIMIZE \\[60, 100\\]$/constexpr auto MAX_N_NOT_OPEN_TASKS_IN_QUEUE = 85; \\/\\/ OPTIMIZE [60, 100]/' -e 's/^constexpr auto PRIORITY_DAY_OFFSET = .*;          \\/\\/ OPTIMIZE \\[400, 1200\\]$/constexpr auto PRIORITY_DAY_OFFSET = 400;          \\/\\/ OPTIMIZE [400, 1200]/' -e 's/^constexpr auto PRIORITY_COEF = .*;               \\/\\/ OPTIMIZE LOG \\[0\\.002, 2\\.0\\]$/constexpr auto PRIORITY_COEF = 1.6700398268001888;               \\/\\/ OPTIMIZE LOG [0.002, 2.0]/'\n",
      "clang++ 0076_main.cpp -std=gnu++17 -O2 -DONLINE_JUDGE -I/ -o 0076_main.cpp.out\n"
     ]
    },
    {
     "name": "stderr",
     "output_type": "stream",
     "text": [
      "\u001b[32m[I 2021-11-12 23:09:51,000]\u001b[0m Trial 74 finished with value: 1007710.0 and parameters: {'MCMC_Q_L2_NORM_RANGE': 5.592308016697907, 'MCMC_Q_RANGE': 1.8654120012476934, 'EXPECTED_SKILL_EMA_ALPHA_COEF': 0.44235065166545734, 'MAX_N_NOT_OPEN_TASKS_IN_QUEUE': 90, 'PRIORITY_DAY_OFFSET': 648, 'PRIORITY_COEF': 0.24228152108337062}. Best is trial 26 with value: 1009815.0.\u001b[0m\n"
     ]
    },
    {
     "name": "stdout",
     "output_type": "stream",
     "text": [
      "callback ok\n",
      "index_parallel='0077'\n",
      "sed -i 0077_main.cpp -e 's/^constexpr auto MCMC_Q_L2_NORM_RANGE = .*;         \\/\\/ OPTIMIZE LOG \\[2\\.0, 20\\.0\\]$/constexpr auto MCMC_Q_L2_NORM_RANGE = 4.303919453838917;         \\/\\/ OPTIMIZE LOG [2.0, 20.0]/' -e 's/^constexpr auto MCMC_Q_RANGE = .*;                  \\/\\/ OPTIMIZE LOG \\[0\\.2, 10\\.0\\]$/constexpr auto MCMC_Q_RANGE = 2.989337349886034;                  \\/\\/ OPTIMIZE LOG [0.2, 10.0]/' -e 's/^constexpr auto EXPECTED_SKILL_EMA_ALPHA_COEF = .*; \\/\\/ OPTIMIZE LOG \\[0\\.02, 2\\.0\\]$/constexpr auto EXPECTED_SKILL_EMA_ALPHA_COEF = 0.49406677182908554; \\/\\/ OPTIMIZE LOG [0.02, 2.0]/' -e 's/^constexpr auto MAX_N_NOT_OPEN_TASKS_IN_QUEUE = .*; \\/\\/ OPTIMIZE \\[60, 100\\]$/constexpr auto MAX_N_NOT_OPEN_TASKS_IN_QUEUE = 84; \\/\\/ OPTIMIZE [60, 100]/' -e 's/^constexpr auto PRIORITY_DAY_OFFSET = .*;          \\/\\/ OPTIMIZE \\[400, 1200\\]$/constexpr auto PRIORITY_DAY_OFFSET = 738;          \\/\\/ OPTIMIZE [400, 1200]/' -e 's/^constexpr auto PRIORITY_COEF = .*;               \\/\\/ OPTIMIZE LOG \\[0\\.002, 2\\.0\\]$/constexpr auto PRIORITY_COEF = 1.6424738284438705;               \\/\\/ OPTIMIZE LOG [0.002, 2.0]/'\n",
      "clang++ 0077_main.cpp -std=gnu++17 -O2 -DONLINE_JUDGE -I/ -o 0077_main.cpp.out\n"
     ]
    },
    {
     "name": "stderr",
     "output_type": "stream",
     "text": [
      "\u001b[32m[I 2021-11-12 23:13:46,571]\u001b[0m Trial 75 finished with value: 1007203.0 and parameters: {'MCMC_Q_L2_NORM_RANGE': 12.178028333569905, 'MCMC_Q_RANGE': 1.933077522044888, 'EXPECTED_SKILL_EMA_ALPHA_COEF': 0.4573068359427855, 'MAX_N_NOT_OPEN_TASKS_IN_QUEUE': 90, 'PRIORITY_DAY_OFFSET': 421, 'PRIORITY_COEF': 0.29505615904400295}. Best is trial 26 with value: 1009815.0.\u001b[0m\n"
     ]
    },
    {
     "name": "stdout",
     "output_type": "stream",
     "text": [
      "callback ok\n",
      "index_parallel='0078'\n",
      "sed -i 0078_main.cpp -e 's/^constexpr auto MCMC_Q_L2_NORM_RANGE = .*;         \\/\\/ OPTIMIZE LOG \\[2\\.0, 20\\.0\\]$/constexpr auto MCMC_Q_L2_NORM_RANGE = 4.913508224868172;         \\/\\/ OPTIMIZE LOG [2.0, 20.0]/' -e 's/^constexpr auto MCMC_Q_RANGE = .*;                  \\/\\/ OPTIMIZE LOG \\[0\\.2, 10\\.0\\]$/constexpr auto MCMC_Q_RANGE = 2.9540075273333337;                  \\/\\/ OPTIMIZE LOG [0.2, 10.0]/' -e 's/^constexpr auto EXPECTED_SKILL_EMA_ALPHA_COEF = .*; \\/\\/ OPTIMIZE LOG \\[0\\.02, 2\\.0\\]$/constexpr auto EXPECTED_SKILL_EMA_ALPHA_COEF = 0.9457424972519475; \\/\\/ OPTIMIZE LOG [0.02, 2.0]/' -e 's/^constexpr auto MAX_N_NOT_OPEN_TASKS_IN_QUEUE = .*; \\/\\/ OPTIMIZE \\[60, 100\\]$/constexpr auto MAX_N_NOT_OPEN_TASKS_IN_QUEUE = 84; \\/\\/ OPTIMIZE [60, 100]/' -e 's/^constexpr auto PRIORITY_DAY_OFFSET = .*;          \\/\\/ OPTIMIZE \\[400, 1200\\]$/constexpr auto PRIORITY_DAY_OFFSET = 739;          \\/\\/ OPTIMIZE [400, 1200]/' -e 's/^constexpr auto PRIORITY_COEF = .*;               \\/\\/ OPTIMIZE LOG \\[0\\.002, 2\\.0\\]$/constexpr auto PRIORITY_COEF = 0.07466338923253363;               \\/\\/ OPTIMIZE LOG [0.002, 2.0]/'\n",
      "clang++ 0078_main.cpp -std=gnu++17 -O2 -DONLINE_JUDGE -I/ -o 0078_main.cpp.out\n"
     ]
    },
    {
     "name": "stderr",
     "output_type": "stream",
     "text": [
      "\u001b[32m[I 2021-11-12 23:13:52,979]\u001b[0m Trial 76 finished with value: 1008127.0 and parameters: {'MCMC_Q_L2_NORM_RANGE': 4.9703412759947865, 'MCMC_Q_RANGE': 1.166809385907009, 'EXPECTED_SKILL_EMA_ALPHA_COEF': 0.468491293823201, 'MAX_N_NOT_OPEN_TASKS_IN_QUEUE': 85, 'PRIORITY_DAY_OFFSET': 400, 'PRIORITY_COEF': 1.6700398268001888}. Best is trial 26 with value: 1009815.0.\u001b[0m\n"
     ]
    },
    {
     "name": "stdout",
     "output_type": "stream",
     "text": [
      "callback ok\n",
      "index_parallel='0079'\n",
      "sed -i 0079_main.cpp -e 's/^constexpr auto MCMC_Q_L2_NORM_RANGE = .*;         \\/\\/ OPTIMIZE LOG \\[2\\.0, 20\\.0\\]$/constexpr auto MCMC_Q_L2_NORM_RANGE = 6.260885891963517;         \\/\\/ OPTIMIZE LOG [2.0, 20.0]/' -e 's/^constexpr auto MCMC_Q_RANGE = .*;                  \\/\\/ OPTIMIZE LOG \\[0\\.2, 10\\.0\\]$/constexpr auto MCMC_Q_RANGE = 2.9408617037416525;                  \\/\\/ OPTIMIZE LOG [0.2, 10.0]/' -e 's/^constexpr auto EXPECTED_SKILL_EMA_ALPHA_COEF = .*; \\/\\/ OPTIMIZE LOG \\[0\\.02, 2\\.0\\]$/constexpr auto EXPECTED_SKILL_EMA_ALPHA_COEF = 0.9988541016392983; \\/\\/ OPTIMIZE LOG [0.02, 2.0]/' -e 's/^constexpr auto MAX_N_NOT_OPEN_TASKS_IN_QUEUE = .*; \\/\\/ OPTIMIZE \\[60, 100\\]$/constexpr auto MAX_N_NOT_OPEN_TASKS_IN_QUEUE = 84; \\/\\/ OPTIMIZE [60, 100]/' -e 's/^constexpr auto PRIORITY_DAY_OFFSET = .*;          \\/\\/ OPTIMIZE \\[400, 1200\\]$/constexpr auto PRIORITY_DAY_OFFSET = 739;          \\/\\/ OPTIMIZE [400, 1200]/' -e 's/^constexpr auto PRIORITY_COEF = .*;               \\/\\/ OPTIMIZE LOG \\[0\\.002, 2\\.0\\]$/constexpr auto PRIORITY_COEF = 0.07707841965397587;               \\/\\/ OPTIMIZE LOG [0.002, 2.0]/'\n",
      "clang++ 0079_main.cpp -std=gnu++17 -O2 -DONLINE_JUDGE -I/ -o 0079_main.cpp.out\n"
     ]
    },
    {
     "name": "stderr",
     "output_type": "stream",
     "text": [
      "\u001b[32m[I 2021-11-12 23:13:54,638]\u001b[0m Trial 77 finished with value: 1008575.0 and parameters: {'MCMC_Q_L2_NORM_RANGE': 4.303919453838917, 'MCMC_Q_RANGE': 2.989337349886034, 'EXPECTED_SKILL_EMA_ALPHA_COEF': 0.49406677182908554, 'MAX_N_NOT_OPEN_TASKS_IN_QUEUE': 84, 'PRIORITY_DAY_OFFSET': 738, 'PRIORITY_COEF': 1.6424738284438705}. Best is trial 26 with value: 1009815.0.\u001b[0m\n"
     ]
    },
    {
     "name": "stdout",
     "output_type": "stream",
     "text": [
      "callback ok\n",
      "index_parallel='0080'\n",
      "sed -i 0080_main.cpp -e 's/^constexpr auto MCMC_Q_L2_NORM_RANGE = .*;         \\/\\/ OPTIMIZE LOG \\[2\\.0, 20\\.0\\]$/constexpr auto MCMC_Q_L2_NORM_RANGE = 7.624041934641591;         \\/\\/ OPTIMIZE LOG [2.0, 20.0]/' -e 's/^constexpr auto MCMC_Q_RANGE = .*;                  \\/\\/ OPTIMIZE LOG \\[0\\.2, 10\\.0\\]$/constexpr auto MCMC_Q_RANGE = 2.400252874705886;                  \\/\\/ OPTIMIZE LOG [0.2, 10.0]/' -e 's/^constexpr auto EXPECTED_SKILL_EMA_ALPHA_COEF = .*; \\/\\/ OPTIMIZE LOG \\[0\\.02, 2\\.0\\]$/constexpr auto EXPECTED_SKILL_EMA_ALPHA_COEF = 1.4514283605285163; \\/\\/ OPTIMIZE LOG [0.02, 2.0]/' -e 's/^constexpr auto MAX_N_NOT_OPEN_TASKS_IN_QUEUE = .*; \\/\\/ OPTIMIZE \\[60, 100\\]$/constexpr auto MAX_N_NOT_OPEN_TASKS_IN_QUEUE = 80; \\/\\/ OPTIMIZE [60, 100]/' -e 's/^constexpr auto PRIORITY_DAY_OFFSET = .*;          \\/\\/ OPTIMIZE \\[400, 1200\\]$/constexpr auto PRIORITY_DAY_OFFSET = 573;          \\/\\/ OPTIMIZE [400, 1200]/' -e 's/^constexpr auto PRIORITY_COEF = .*;               \\/\\/ OPTIMIZE LOG \\[0\\.002, 2\\.0\\]$/constexpr auto PRIORITY_COEF = 0.1772435296919197;               \\/\\/ OPTIMIZE LOG [0.002, 2.0]/'\n",
      "clang++ 0080_main.cpp -std=gnu++17 -O2 -DONLINE_JUDGE -I/ -o 0080_main.cpp.out\n"
     ]
    },
    {
     "name": "stderr",
     "output_type": "stream",
     "text": [
      "\u001b[32m[I 2021-11-12 23:17:48,811]\u001b[0m Trial 78 finished with value: 1008348.0 and parameters: {'MCMC_Q_L2_NORM_RANGE': 4.913508224868172, 'MCMC_Q_RANGE': 2.9540075273333337, 'EXPECTED_SKILL_EMA_ALPHA_COEF': 0.9457424972519475, 'MAX_N_NOT_OPEN_TASKS_IN_QUEUE': 84, 'PRIORITY_DAY_OFFSET': 739, 'PRIORITY_COEF': 0.07466338923253363}. Best is trial 26 with value: 1009815.0.\u001b[0m\n"
     ]
    },
    {
     "name": "stdout",
     "output_type": "stream",
     "text": [
      "callback ok\n",
      "index_parallel='0081'\n",
      "sed -i 0081_main.cpp -e 's/^constexpr auto MCMC_Q_L2_NORM_RANGE = .*;         \\/\\/ OPTIMIZE LOG \\[2\\.0, 20\\.0\\]$/constexpr auto MCMC_Q_L2_NORM_RANGE = 2.8914027460387257;         \\/\\/ OPTIMIZE LOG [2.0, 20.0]/' -e 's/^constexpr auto MCMC_Q_RANGE = .*;                  \\/\\/ OPTIMIZE LOG \\[0\\.2, 10\\.0\\]$/constexpr auto MCMC_Q_RANGE = 1.5227965449559095;                  \\/\\/ OPTIMIZE LOG [0.2, 10.0]/' -e 's/^constexpr auto EXPECTED_SKILL_EMA_ALPHA_COEF = .*; \\/\\/ OPTIMIZE LOG \\[0\\.02, 2\\.0\\]$/constexpr auto EXPECTED_SKILL_EMA_ALPHA_COEF = 0.34633481812187095; \\/\\/ OPTIMIZE LOG [0.02, 2.0]/' -e 's/^constexpr auto MAX_N_NOT_OPEN_TASKS_IN_QUEUE = .*; \\/\\/ OPTIMIZE \\[60, 100\\]$/constexpr auto MAX_N_NOT_OPEN_TASKS_IN_QUEUE = 96; \\/\\/ OPTIMIZE [60, 100]/' -e 's/^constexpr auto PRIORITY_DAY_OFFSET = .*;          \\/\\/ OPTIMIZE \\[400, 1200\\]$/constexpr auto PRIORITY_DAY_OFFSET = 820;          \\/\\/ OPTIMIZE [400, 1200]/' -e 's/^constexpr auto PRIORITY_COEF = .*;               \\/\\/ OPTIMIZE LOG \\[0\\.002, 2\\.0\\]$/constexpr auto PRIORITY_COEF = 0.15214816579038667;               \\/\\/ OPTIMIZE LOG [0.002, 2.0]/'\n",
      "clang++ 0081_main.cpp -std=gnu++17 -O2 -DONLINE_JUDGE -I/ -o 0081_main.cpp.out\n"
     ]
    },
    {
     "name": "stderr",
     "output_type": "stream",
     "text": [
      "\u001b[32m[I 2021-11-12 23:17:54,928]\u001b[0m Trial 79 finished with value: 1006352.0 and parameters: {'MCMC_Q_L2_NORM_RANGE': 6.260885891963517, 'MCMC_Q_RANGE': 2.9408617037416525, 'EXPECTED_SKILL_EMA_ALPHA_COEF': 0.9988541016392983, 'MAX_N_NOT_OPEN_TASKS_IN_QUEUE': 84, 'PRIORITY_DAY_OFFSET': 739, 'PRIORITY_COEF': 0.07707841965397587}. Best is trial 26 with value: 1009815.0.\u001b[0m\n"
     ]
    },
    {
     "name": "stdout",
     "output_type": "stream",
     "text": [
      "callback ok\n",
      "index_parallel='0082'\n"
     ]
    },
    {
     "name": "stderr",
     "output_type": "stream",
     "text": [
      "\u001b[32m[I 2021-11-12 23:17:55,413]\u001b[0m Trial 80 finished with value: 1008286.0 and parameters: {'MCMC_Q_L2_NORM_RANGE': 7.624041934641591, 'MCMC_Q_RANGE': 2.400252874705886, 'EXPECTED_SKILL_EMA_ALPHA_COEF': 1.4514283605285163, 'MAX_N_NOT_OPEN_TASKS_IN_QUEUE': 80, 'PRIORITY_DAY_OFFSET': 573, 'PRIORITY_COEF': 0.1772435296919197}. Best is trial 26 with value: 1009815.0.\u001b[0m\n"
     ]
    },
    {
     "name": "stdout",
     "output_type": "stream",
     "text": [
      "callback ok\n",
      "index_parallel='0083'\n",
      "sed -i 0082_main.cpp -e 's/^constexpr auto MCMC_Q_L2_NORM_RANGE = .*;         \\/\\/ OPTIMIZE LOG \\[2\\.0, 20\\.0\\]$/constexpr auto MCMC_Q_L2_NORM_RANGE = 9.833560708339576;         \\/\\/ OPTIMIZE LOG [2.0, 20.0]/' -e 's/^constexpr auto MCMC_Q_RANGE = .*;                  \\/\\/ OPTIMIZE LOG \\[0\\.2, 10\\.0\\]$/constexpr auto MCMC_Q_RANGE = 2.4008506044405284;                  \\/\\/ OPTIMIZE LOG [0.2, 10.0]/' -e 's/^constexpr auto EXPECTED_SKILL_EMA_ALPHA_COEF = .*; \\/\\/ OPTIMIZE LOG \\[0\\.02, 2\\.0\\]$/constexpr auto EXPECTED_SKILL_EMA_ALPHA_COEF = 0.3565205732917678; \\/\\/ OPTIMIZE LOG [0.02, 2.0]/' -e 's/^constexpr auto MAX_N_NOT_OPEN_TASKS_IN_QUEUE = .*; \\/\\/ OPTIMIZE \\[60, 100\\]$/constexpr auto MAX_N_NOT_OPEN_TASKS_IN_QUEUE = 87; \\/\\/ OPTIMIZE [60, 100]/' -e 's/^constexpr auto PRIORITY_DAY_OFFSET = .*;          \\/\\/ OPTIMIZE \\[400, 1200\\]$/constexpr auto PRIORITY_DAY_OFFSET = 572;          \\/\\/ OPTIMIZE [400, 1200]/' -e 's/^constexpr auto PRIORITY_COEF = .*;               \\/\\/ OPTIMIZE LOG \\[0\\.002, 2\\.0\\]$/constexpr auto PRIORITY_COEF = 0.48712924555726295;               \\/\\/ OPTIMIZE LOG [0.002, 2.0]/'\n",
      "clang++ 0082_main.cpp -std=gnu++17 -O2 -DONLINE_JUDGE -I/ -o 0082_main.cpp.out\n",
      "sed -i 0083_main.cpp -e 's/^constexpr auto MCMC_Q_L2_NORM_RANGE = .*;         \\/\\/ OPTIMIZE LOG \\[2\\.0, 20\\.0\\]$/constexpr auto MCMC_Q_L2_NORM_RANGE = 9.863068935332564;         \\/\\/ OPTIMIZE LOG [2.0, 20.0]/' -e 's/^constexpr auto MCMC_Q_RANGE = .*;                  \\/\\/ OPTIMIZE LOG \\[0\\.2, 10\\.0\\]$/constexpr auto MCMC_Q_RANGE = 1.6636485184451375;                  \\/\\/ OPTIMIZE LOG [0.2, 10.0]/' -e 's/^constexpr auto EXPECTED_SKILL_EMA_ALPHA_COEF = .*; \\/\\/ OPTIMIZE LOG \\[0\\.02, 2\\.0\\]$/constexpr auto EXPECTED_SKILL_EMA_ALPHA_COEF = 0.3580005155460855; \\/\\/ OPTIMIZE LOG [0.02, 2.0]/' -e 's/^constexpr auto MAX_N_NOT_OPEN_TASKS_IN_QUEUE = .*; \\/\\/ OPTIMIZE \\[60, 100\\]$/constexpr auto MAX_N_NOT_OPEN_TASKS_IN_QUEUE = 96; \\/\\/ OPTIMIZE [60, 100]/' -e 's/^constexpr auto PRIORITY_DAY_OFFSET = .*;          \\/\\/ OPTIMIZE \\[400, 1200\\]$/constexpr auto PRIORITY_DAY_OFFSET = 681;          \\/\\/ OPTIMIZE [400, 1200]/' -e 's/^constexpr auto PRIORITY_COEF = .*;               \\/\\/ OPTIMIZE LOG \\[0\\.002, 2\\.0\\]$/constexpr auto PRIORITY_COEF = 0.5125688195592187;               \\/\\/ OPTIMIZE LOG [0.002, 2.0]/'\n",
      "clang++ 0083_main.cpp -std=gnu++17 -O2 -DONLINE_JUDGE -I/ -o 0083_main.cpp.out\n"
     ]
    },
    {
     "name": "stderr",
     "output_type": "stream",
     "text": [
      "\u001b[32m[I 2021-11-12 23:21:54,361]\u001b[0m Trial 81 finished with value: 1006176.0 and parameters: {'MCMC_Q_L2_NORM_RANGE': 2.8914027460387257, 'MCMC_Q_RANGE': 1.5227965449559095, 'EXPECTED_SKILL_EMA_ALPHA_COEF': 0.34633481812187095, 'MAX_N_NOT_OPEN_TASKS_IN_QUEUE': 96, 'PRIORITY_DAY_OFFSET': 820, 'PRIORITY_COEF': 0.15214816579038667}. Best is trial 26 with value: 1009815.0.\u001b[0m\n"
     ]
    },
    {
     "name": "stdout",
     "output_type": "stream",
     "text": [
      "callback ok\n",
      "index_parallel='0084'\n",
      "sed -i 0084_main.cpp -e 's/^constexpr auto MCMC_Q_L2_NORM_RANGE = .*;         \\/\\/ OPTIMIZE LOG \\[2\\.0, 20\\.0\\]$/constexpr auto MCMC_Q_L2_NORM_RANGE = 8.931769836093189;         \\/\\/ OPTIMIZE LOG [2.0, 20.0]/' -e 's/^constexpr auto MCMC_Q_RANGE = .*;                  \\/\\/ OPTIMIZE LOG \\[0\\.2, 10\\.0\\]$/constexpr auto MCMC_Q_RANGE = 1.6372171939080917;                  \\/\\/ OPTIMIZE LOG [0.2, 10.0]/' -e 's/^constexpr auto EXPECTED_SKILL_EMA_ALPHA_COEF = .*; \\/\\/ OPTIMIZE LOG \\[0\\.02, 2\\.0\\]$/constexpr auto EXPECTED_SKILL_EMA_ALPHA_COEF = 0.6737908909404402; \\/\\/ OPTIMIZE LOG [0.02, 2.0]/' -e 's/^constexpr auto MAX_N_NOT_OPEN_TASKS_IN_QUEUE = .*; \\/\\/ OPTIMIZE \\[60, 100\\]$/constexpr auto MAX_N_NOT_OPEN_TASKS_IN_QUEUE = 97; \\/\\/ OPTIMIZE [60, 100]/' -e 's/^constexpr auto PRIORITY_DAY_OFFSET = .*;          \\/\\/ OPTIMIZE \\[400, 1200\\]$/constexpr auto PRIORITY_DAY_OFFSET = 680;          \\/\\/ OPTIMIZE [400, 1200]/' -e 's/^constexpr auto PRIORITY_COEF = .*;               \\/\\/ OPTIMIZE LOG \\[0\\.002, 2\\.0\\]$/constexpr auto PRIORITY_COEF = 0.5040552049701127;               \\/\\/ OPTIMIZE LOG [0.002, 2.0]/'\n",
      "clang++ 0084_main.cpp -std=gnu++17 -O2 -DONLINE_JUDGE -I/ -o 0084_main.cpp.out\n"
     ]
    },
    {
     "name": "stderr",
     "output_type": "stream",
     "text": [
      "\u001b[32m[I 2021-11-12 23:21:57,385]\u001b[0m Trial 82 finished with value: 1006276.0 and parameters: {'MCMC_Q_L2_NORM_RANGE': 9.833560708339576, 'MCMC_Q_RANGE': 2.4008506044405284, 'EXPECTED_SKILL_EMA_ALPHA_COEF': 0.3565205732917678, 'MAX_N_NOT_OPEN_TASKS_IN_QUEUE': 87, 'PRIORITY_DAY_OFFSET': 572, 'PRIORITY_COEF': 0.48712924555726295}. Best is trial 26 with value: 1009815.0.\u001b[0m\n"
     ]
    },
    {
     "name": "stdout",
     "output_type": "stream",
     "text": [
      "callback ok\n",
      "index_parallel='0085'\n",
      "sed -i 0085_main.cpp -e 's/^constexpr auto MCMC_Q_L2_NORM_RANGE = .*;         \\/\\/ OPTIMIZE LOG \\[2\\.0, 20\\.0\\]$/constexpr auto MCMC_Q_L2_NORM_RANGE = 8.580899501262957;         \\/\\/ OPTIMIZE LOG [2.0, 20.0]/' -e 's/^constexpr auto MCMC_Q_RANGE = .*;                  \\/\\/ OPTIMIZE LOG \\[0\\.2, 10\\.0\\]$/constexpr auto MCMC_Q_RANGE = 1.0472637188373564;                  \\/\\/ OPTIMIZE LOG [0.2, 10.0]/' -e 's/^constexpr auto EXPECTED_SKILL_EMA_ALPHA_COEF = .*; \\/\\/ OPTIMIZE LOG \\[0\\.02, 2\\.0\\]$/constexpr auto EXPECTED_SKILL_EMA_ALPHA_COEF = 0.735293264140634; \\/\\/ OPTIMIZE LOG [0.02, 2.0]/' -e 's/^constexpr auto MAX_N_NOT_OPEN_TASKS_IN_QUEUE = .*; \\/\\/ OPTIMIZE \\[60, 100\\]$/constexpr auto MAX_N_NOT_OPEN_TASKS_IN_QUEUE = 97; \\/\\/ OPTIMIZE [60, 100]/' -e 's/^constexpr auto PRIORITY_DAY_OFFSET = .*;          \\/\\/ OPTIMIZE \\[400, 1200\\]$/constexpr auto PRIORITY_DAY_OFFSET = 681;          \\/\\/ OPTIMIZE [400, 1200]/' -e 's/^constexpr auto PRIORITY_COEF = .*;               \\/\\/ OPTIMIZE LOG \\[0\\.002, 2\\.0\\]$/constexpr auto PRIORITY_COEF = 0.8578602927845356;               \\/\\/ OPTIMIZE LOG [0.002, 2.0]/'\n",
      "clang++ 0085_main.cpp -std=gnu++17 -O2 -DONLINE_JUDGE -I/ -o 0085_main.cpp.out\n"
     ]
    },
    {
     "name": "stderr",
     "output_type": "stream",
     "text": [
      "\u001b[32m[I 2021-11-12 23:21:58,129]\u001b[0m Trial 83 finished with value: 1007530.0 and parameters: {'MCMC_Q_L2_NORM_RANGE': 9.863068935332564, 'MCMC_Q_RANGE': 1.6636485184451375, 'EXPECTED_SKILL_EMA_ALPHA_COEF': 0.3580005155460855, 'MAX_N_NOT_OPEN_TASKS_IN_QUEUE': 96, 'PRIORITY_DAY_OFFSET': 681, 'PRIORITY_COEF': 0.5125688195592187}. Best is trial 26 with value: 1009815.0.\u001b[0m\n"
     ]
    },
    {
     "name": "stdout",
     "output_type": "stream",
     "text": [
      "callback ok\n",
      "index_parallel='0086'\n",
      "sed -i 0086_main.cpp -e 's/^constexpr auto MCMC_Q_L2_NORM_RANGE = .*;         \\/\\/ OPTIMIZE LOG \\[2\\.0, 20\\.0\\]$/constexpr auto MCMC_Q_L2_NORM_RANGE = 9.07790116237693;         \\/\\/ OPTIMIZE LOG [2.0, 20.0]/' -e 's/^constexpr auto MCMC_Q_RANGE = .*;                  \\/\\/ OPTIMIZE LOG \\[0\\.2, 10\\.0\\]$/constexpr auto MCMC_Q_RANGE = 1.0395664109010507;                  \\/\\/ OPTIMIZE LOG [0.2, 10.0]/' -e 's/^constexpr auto EXPECTED_SKILL_EMA_ALPHA_COEF = .*; \\/\\/ OPTIMIZE LOG \\[0\\.02, 2\\.0\\]$/constexpr auto EXPECTED_SKILL_EMA_ALPHA_COEF = 0.5379401274249557; \\/\\/ OPTIMIZE LOG [0.02, 2.0]/' -e 's/^constexpr auto MAX_N_NOT_OPEN_TASKS_IN_QUEUE = .*; \\/\\/ OPTIMIZE \\[60, 100\\]$/constexpr auto MAX_N_NOT_OPEN_TASKS_IN_QUEUE = 92; \\/\\/ OPTIMIZE [60, 100]/' -e 's/^constexpr auto PRIORITY_DAY_OFFSET = .*;          \\/\\/ OPTIMIZE \\[400, 1200\\]$/constexpr auto PRIORITY_DAY_OFFSET = 698;          \\/\\/ OPTIMIZE [400, 1200]/' -e 's/^constexpr auto PRIORITY_COEF = .*;               \\/\\/ OPTIMIZE LOG \\[0\\.002, 2\\.0\\]$/constexpr auto PRIORITY_COEF = 0.7804597039124549;               \\/\\/ OPTIMIZE LOG [0.002, 2.0]/'\n",
      "clang++ 0086_main.cpp -std=gnu++17 -O2 -DONLINE_JUDGE -I/ -o 0086_main.cpp.out\n"
     ]
    },
    {
     "name": "stderr",
     "output_type": "stream",
     "text": [
      "\u001b[32m[I 2021-11-12 23:25:55,987]\u001b[0m Trial 84 finished with value: 1008064.0 and parameters: {'MCMC_Q_L2_NORM_RANGE': 8.931769836093189, 'MCMC_Q_RANGE': 1.6372171939080917, 'EXPECTED_SKILL_EMA_ALPHA_COEF': 0.6737908909404402, 'MAX_N_NOT_OPEN_TASKS_IN_QUEUE': 97, 'PRIORITY_DAY_OFFSET': 680, 'PRIORITY_COEF': 0.5040552049701127}. Best is trial 26 with value: 1009815.0.\u001b[0m\n"
     ]
    },
    {
     "name": "stdout",
     "output_type": "stream",
     "text": [
      "callback ok\n",
      "index_parallel='0087'\n",
      "sed -i 0087_main.cpp -e 's/^constexpr auto MCMC_Q_L2_NORM_RANGE = .*;         \\/\\/ OPTIMIZE LOG \\[2\\.0, 20\\.0\\]$/constexpr auto MCMC_Q_L2_NORM_RANGE = 8.576084442234563;         \\/\\/ OPTIMIZE LOG [2.0, 20.0]/' -e 's/^constexpr auto MCMC_Q_RANGE = .*;                  \\/\\/ OPTIMIZE LOG \\[0\\.2, 10\\.0\\]$/constexpr auto MCMC_Q_RANGE = 1.0934256623910086;                  \\/\\/ OPTIMIZE LOG [0.2, 10.0]/' -e 's/^constexpr auto EXPECTED_SKILL_EMA_ALPHA_COEF = .*; \\/\\/ OPTIMIZE LOG \\[0\\.02, 2\\.0\\]$/constexpr auto EXPECTED_SKILL_EMA_ALPHA_COEF = 0.5224192271414816; \\/\\/ OPTIMIZE LOG [0.02, 2.0]/' -e 's/^constexpr auto MAX_N_NOT_OPEN_TASKS_IN_QUEUE = .*; \\/\\/ OPTIMIZE \\[60, 100\\]$/constexpr auto MAX_N_NOT_OPEN_TASKS_IN_QUEUE = 95; \\/\\/ OPTIMIZE [60, 100]/' -e 's/^constexpr auto PRIORITY_DAY_OFFSET = .*;          \\/\\/ OPTIMIZE \\[400, 1200\\]$/constexpr auto PRIORITY_DAY_OFFSET = 543;          \\/\\/ OPTIMIZE [400, 1200]/' -e 's/^constexpr auto PRIORITY_COEF = .*;               \\/\\/ OPTIMIZE LOG \\[0\\.002, 2\\.0\\]$/constexpr auto PRIORITY_COEF = 0.7563459940218947;               \\/\\/ OPTIMIZE LOG [0.002, 2.0]/'\n",
      "clang++ 0087_main.cpp -std=gnu++17 -O2 -DONLINE_JUDGE -I/ -o 0087_main.cpp.out\n"
     ]
    },
    {
     "name": "stderr",
     "output_type": "stream",
     "text": [
      "\u001b[32m[I 2021-11-12 23:25:59,951]\u001b[0m Trial 85 finished with value: 1007237.0 and parameters: {'MCMC_Q_L2_NORM_RANGE': 8.580899501262957, 'MCMC_Q_RANGE': 1.0472637188373564, 'EXPECTED_SKILL_EMA_ALPHA_COEF': 0.735293264140634, 'MAX_N_NOT_OPEN_TASKS_IN_QUEUE': 97, 'PRIORITY_DAY_OFFSET': 681, 'PRIORITY_COEF': 0.8578602927845356}. Best is trial 26 with value: 1009815.0.\u001b[0m\n"
     ]
    },
    {
     "name": "stdout",
     "output_type": "stream",
     "text": [
      "callback ok\n",
      "index_parallel='0088'\n"
     ]
    },
    {
     "name": "stderr",
     "output_type": "stream",
     "text": [
      "\u001b[32m[I 2021-11-12 23:26:00,281]\u001b[0m Trial 86 finished with value: 1006308.0 and parameters: {'MCMC_Q_L2_NORM_RANGE': 9.07790116237693, 'MCMC_Q_RANGE': 1.0395664109010507, 'EXPECTED_SKILL_EMA_ALPHA_COEF': 0.5379401274249557, 'MAX_N_NOT_OPEN_TASKS_IN_QUEUE': 92, 'PRIORITY_DAY_OFFSET': 698, 'PRIORITY_COEF': 0.7804597039124549}. Best is trial 26 with value: 1009815.0.\u001b[0m\n"
     ]
    },
    {
     "name": "stdout",
     "output_type": "stream",
     "text": [
      "callback ok\n",
      "index_parallel='0089'\n",
      "sed -i 0088_main.cpp -e 's/^constexpr auto MCMC_Q_L2_NORM_RANGE = .*;         \\/\\/ OPTIMIZE LOG \\[2\\.0, 20\\.0\\]$/constexpr auto MCMC_Q_L2_NORM_RANGE = 7.63441549818851;         \\/\\/ OPTIMIZE LOG [2.0, 20.0]/' -e 's/^constexpr auto MCMC_Q_RANGE = .*;                  \\/\\/ OPTIMIZE LOG \\[0\\.2, 10\\.0\\]$/constexpr auto MCMC_Q_RANGE = 1.3878286527791004;                  \\/\\/ OPTIMIZE LOG [0.2, 10.0]/' -e 's/^constexpr auto EXPECTED_SKILL_EMA_ALPHA_COEF = .*; \\/\\/ OPTIMIZE LOG \\[0\\.02, 2\\.0\\]$/constexpr auto EXPECTED_SKILL_EMA_ALPHA_COEF = 0.534280281708592; \\/\\/ OPTIMIZE LOG [0.02, 2.0]/' -e 's/^constexpr auto MAX_N_NOT_OPEN_TASKS_IN_QUEUE = .*; \\/\\/ OPTIMIZE \\[60, 100\\]$/constexpr auto MAX_N_NOT_OPEN_TASKS_IN_QUEUE = 82; \\/\\/ OPTIMIZE [60, 100]/' -e 's/^constexpr auto PRIORITY_DAY_OFFSET = .*;          \\/\\/ OPTIMIZE \\[400, 1200\\]$/constexpr auto PRIORITY_DAY_OFFSET = 782;          \\/\\/ OPTIMIZE [400, 1200]/' -e 's/^constexpr auto PRIORITY_COEF = .*;               \\/\\/ OPTIMIZE LOG \\[0\\.002, 2\\.0\\]$/constexpr auto PRIORITY_COEF = 0.04112598307536207;               \\/\\/ OPTIMIZE LOG [0.002, 2.0]/'\n",
      "clang++ 0088_main.cpp -std=gnu++17 -O2 -DONLINE_JUDGE -I/ -o 0088_main.cpp.out\n",
      "sed -i 0089_main.cpp -e 's/^constexpr auto MCMC_Q_L2_NORM_RANGE = .*;         \\/\\/ OPTIMIZE LOG \\[2\\.0, 20\\.0\\]$/constexpr auto MCMC_Q_L2_NORM_RANGE = 11.248848511112568;         \\/\\/ OPTIMIZE LOG [2.0, 20.0]/' -e 's/^constexpr auto MCMC_Q_RANGE = .*;                  \\/\\/ OPTIMIZE LOG \\[0\\.2, 10\\.0\\]$/constexpr auto MCMC_Q_RANGE = 0.7949323721900625;                  \\/\\/ OPTIMIZE LOG [0.2, 10.0]/' -e 's/^constexpr auto EXPECTED_SKILL_EMA_ALPHA_COEF = .*; \\/\\/ OPTIMIZE LOG \\[0\\.02, 2\\.0\\]$/constexpr auto EXPECTED_SKILL_EMA_ALPHA_COEF = 0.894838232736207; \\/\\/ OPTIMIZE LOG [0.02, 2.0]/' -e 's/^constexpr auto MAX_N_NOT_OPEN_TASKS_IN_QUEUE = .*; \\/\\/ OPTIMIZE \\[60, 100\\]$/constexpr auto MAX_N_NOT_OPEN_TASKS_IN_QUEUE = 100; \\/\\/ OPTIMIZE [60, 100]/' -e 's/^constexpr auto PRIORITY_DAY_OFFSET = .*;          \\/\\/ OPTIMIZE \\[400, 1200\\]$/constexpr auto PRIORITY_DAY_OFFSET = 544;          \\/\\/ OPTIMIZE [400, 1200]/' -e 's/^constexpr auto PRIORITY_COEF = .*;               \\/\\/ OPTIMIZE LOG \\[0\\.002, 2\\.0\\]$/constexpr auto PRIORITY_COEF = 0.03413111390458109;               \\/\\/ OPTIMIZE LOG [0.002, 2.0]/'\n",
      "clang++ 0089_main.cpp -std=gnu++17 -O2 -DONLINE_JUDGE -I/ -o 0089_main.cpp.out\n"
     ]
    },
    {
     "name": "stderr",
     "output_type": "stream",
     "text": [
      "\u001b[32m[I 2021-11-12 23:29:57,262]\u001b[0m Trial 87 finished with value: 1010111.0 and parameters: {'MCMC_Q_L2_NORM_RANGE': 8.576084442234563, 'MCMC_Q_RANGE': 1.0934256623910086, 'EXPECTED_SKILL_EMA_ALPHA_COEF': 0.5224192271414816, 'MAX_N_NOT_OPEN_TASKS_IN_QUEUE': 95, 'PRIORITY_DAY_OFFSET': 543, 'PRIORITY_COEF': 0.7563459940218947}. Best is trial 87 with value: 1010111.0.\u001b[0m\n"
     ]
    },
    {
     "name": "stdout",
     "output_type": "stream",
     "text": [
      "Updated! 1010111.0\n",
      "cp: cannot stat '0087_main.cpp': No such file or directory\n",
      "callback ok\n",
      "index_parallel='0090'\n",
      "sed -i 0090_main.cpp -e 's/^constexpr auto MCMC_Q_L2_NORM_RANGE = .*;         \\/\\/ OPTIMIZE LOG \\[2\\.0, 20\\.0\\]$/constexpr auto MCMC_Q_L2_NORM_RANGE = 10.850712181099718;         \\/\\/ OPTIMIZE LOG [2.0, 20.0]/' -e 's/^constexpr auto MCMC_Q_RANGE = .*;                  \\/\\/ OPTIMIZE LOG \\[0\\.2, 10\\.0\\]$/constexpr auto MCMC_Q_RANGE = 0.7852672561917386;                  \\/\\/ OPTIMIZE LOG [0.2, 10.0]/' -e 's/^constexpr auto EXPECTED_SKILL_EMA_ALPHA_COEF = .*; \\/\\/ OPTIMIZE LOG \\[0\\.02, 2\\.0\\]$/constexpr auto EXPECTED_SKILL_EMA_ALPHA_COEF = 0.6338772706962373; \\/\\/ OPTIMIZE LOG [0.02, 2.0]/' -e 's/^constexpr auto MAX_N_NOT_OPEN_TASKS_IN_QUEUE = .*; \\/\\/ OPTIMIZE \\[60, 100\\]$/constexpr auto MAX_N_NOT_OPEN_TASKS_IN_QUEUE = 82; \\/\\/ OPTIMIZE [60, 100]/' -e 's/^constexpr auto PRIORITY_DAY_OFFSET = .*;          \\/\\/ OPTIMIZE \\[400, 1200\\]$/constexpr auto PRIORITY_DAY_OFFSET = 543;          \\/\\/ OPTIMIZE [400, 1200]/' -e 's/^constexpr auto PRIORITY_COEF = .*;               \\/\\/ OPTIMIZE LOG \\[0\\.002, 2\\.0\\]$/constexpr auto PRIORITY_COEF = 0.04488499046932858;               \\/\\/ OPTIMIZE LOG [0.002, 2.0]/'\n",
      "clang++ 0090_main.cpp -std=gnu++17 -O2 -DONLINE_JUDGE -I/ -o 0090_main.cpp.out\n"
     ]
    },
    {
     "name": "stderr",
     "output_type": "stream",
     "text": [
      "\u001b[32m[I 2021-11-12 23:30:00,664]\u001b[0m Trial 88 finished with value: 1008871.0 and parameters: {'MCMC_Q_L2_NORM_RANGE': 7.63441549818851, 'MCMC_Q_RANGE': 1.3878286527791004, 'EXPECTED_SKILL_EMA_ALPHA_COEF': 0.534280281708592, 'MAX_N_NOT_OPEN_TASKS_IN_QUEUE': 82, 'PRIORITY_DAY_OFFSET': 782, 'PRIORITY_COEF': 0.04112598307536207}. Best is trial 87 with value: 1010111.0.\u001b[0m\n"
     ]
    },
    {
     "name": "stdout",
     "output_type": "stream",
     "text": [
      "callback ok\n",
      "index_parallel='0091'\n",
      "sed -i 0091_main.cpp -e 's/^constexpr auto MCMC_Q_L2_NORM_RANGE = .*;         \\/\\/ OPTIMIZE LOG \\[2\\.0, 20\\.0\\]$/constexpr auto MCMC_Q_L2_NORM_RANGE = 7.550431780385127;         \\/\\/ OPTIMIZE LOG [2.0, 20.0]/' -e 's/^constexpr auto MCMC_Q_RANGE = .*;                  \\/\\/ OPTIMIZE LOG \\[0\\.2, 10\\.0\\]$/constexpr auto MCMC_Q_RANGE = 1.2262303457148331;                  \\/\\/ OPTIMIZE LOG [0.2, 10.0]/' -e 's/^constexpr auto EXPECTED_SKILL_EMA_ALPHA_COEF = .*; \\/\\/ OPTIMIZE LOG \\[0\\.02, 2\\.0\\]$/constexpr auto EXPECTED_SKILL_EMA_ALPHA_COEF = 0.637299898906383; \\/\\/ OPTIMIZE LOG [0.02, 2.0]/' -e 's/^constexpr auto MAX_N_NOT_OPEN_TASKS_IN_QUEUE = .*; \\/\\/ OPTIMIZE \\[60, 100\\]$/constexpr auto MAX_N_NOT_OPEN_TASKS_IN_QUEUE = 82; \\/\\/ OPTIMIZE [60, 100]/' -e 's/^constexpr auto PRIORITY_DAY_OFFSET = .*;          \\/\\/ OPTIMIZE \\[400, 1200\\]$/constexpr auto PRIORITY_DAY_OFFSET = 814;          \\/\\/ OPTIMIZE [400, 1200]/' -e 's/^constexpr auto PRIORITY_COEF = .*;               \\/\\/ OPTIMIZE LOG \\[0\\.002, 2\\.0\\]$/constexpr auto PRIORITY_COEF = 0.034856075272456384;               \\/\\/ OPTIMIZE LOG [0.002, 2.0]/'\n",
      "clang++ 0091_main.cpp -std=gnu++17 -O2 -DONLINE_JUDGE -I/ -o 0091_main.cpp.out\n"
     ]
    },
    {
     "name": "stderr",
     "output_type": "stream",
     "text": [
      "\u001b[32m[I 2021-11-12 23:30:01,861]\u001b[0m Trial 89 finished with value: 1009073.0 and parameters: {'MCMC_Q_L2_NORM_RANGE': 11.248848511112568, 'MCMC_Q_RANGE': 0.7949323721900625, 'EXPECTED_SKILL_EMA_ALPHA_COEF': 0.894838232736207, 'MAX_N_NOT_OPEN_TASKS_IN_QUEUE': 100, 'PRIORITY_DAY_OFFSET': 544, 'PRIORITY_COEF': 0.03413111390458109}. Best is trial 87 with value: 1010111.0.\u001b[0m\n"
     ]
    },
    {
     "name": "stdout",
     "output_type": "stream",
     "text": [
      "callback ok\n",
      "index_parallel='0092'\n",
      "sed -i 0092_main.cpp -e 's/^constexpr auto MCMC_Q_L2_NORM_RANGE = .*;         \\/\\/ OPTIMIZE LOG \\[2\\.0, 20\\.0\\]$/constexpr auto MCMC_Q_L2_NORM_RANGE = 11.38490536900623;         \\/\\/ OPTIMIZE LOG [2.0, 20.0]/' -e 's/^constexpr auto MCMC_Q_RANGE = .*;                  \\/\\/ OPTIMIZE LOG \\[0\\.2, 10\\.0\\]$/constexpr auto MCMC_Q_RANGE = 0.8345587489824582;                  \\/\\/ OPTIMIZE LOG [0.2, 10.0]/' -e 's/^constexpr auto EXPECTED_SKILL_EMA_ALPHA_COEF = .*; \\/\\/ OPTIMIZE LOG \\[0\\.02, 2\\.0\\]$/constexpr auto EXPECTED_SKILL_EMA_ALPHA_COEF = 0.6427697461123492; \\/\\/ OPTIMIZE LOG [0.02, 2.0]/' -e 's/^constexpr auto MAX_N_NOT_OPEN_TASKS_IN_QUEUE = .*; \\/\\/ OPTIMIZE \\[60, 100\\]$/constexpr auto MAX_N_NOT_OPEN_TASKS_IN_QUEUE = 99; \\/\\/ OPTIMIZE [60, 100]/' -e 's/^constexpr auto PRIORITY_DAY_OFFSET = .*;          \\/\\/ OPTIMIZE \\[400, 1200\\]$/constexpr auto PRIORITY_DAY_OFFSET = 535;          \\/\\/ OPTIMIZE [400, 1200]/' -e 's/^constexpr auto PRIORITY_COEF = .*;               \\/\\/ OPTIMIZE LOG \\[0\\.002, 2\\.0\\]$/constexpr auto PRIORITY_COEF = 0.025639537319675658;               \\/\\/ OPTIMIZE LOG [0.002, 2.0]/'\n",
      "clang++ 0092_main.cpp -std=gnu++17 -O2 -DONLINE_JUDGE -I/ -o 0092_main.cpp.out\n"
     ]
    },
    {
     "name": "stderr",
     "output_type": "stream",
     "text": [
      "\u001b[32m[I 2021-11-12 23:33:58,881]\u001b[0m Trial 90 finished with value: 1007982.0 and parameters: {'MCMC_Q_L2_NORM_RANGE': 10.850712181099718, 'MCMC_Q_RANGE': 0.7852672561917386, 'EXPECTED_SKILL_EMA_ALPHA_COEF': 0.6338772706962373, 'MAX_N_NOT_OPEN_TASKS_IN_QUEUE': 82, 'PRIORITY_DAY_OFFSET': 543, 'PRIORITY_COEF': 0.04488499046932858}. Best is trial 87 with value: 1010111.0.\u001b[0m\n"
     ]
    },
    {
     "name": "stdout",
     "output_type": "stream",
     "text": [
      "callback ok\n",
      "index_parallel='0093'\n",
      "sed -i 0093_main.cpp -e 's/^constexpr auto MCMC_Q_L2_NORM_RANGE = .*;         \\/\\/ OPTIMIZE LOG \\[2\\.0, 20\\.0\\]$/constexpr auto MCMC_Q_L2_NORM_RANGE = 7.686519227253163;         \\/\\/ OPTIMIZE LOG [2.0, 20.0]/' -e 's/^constexpr auto MCMC_Q_RANGE = .*;                  \\/\\/ OPTIMIZE LOG \\[0\\.2, 10\\.0\\]$/constexpr auto MCMC_Q_RANGE = 0.8019471262185706;                  \\/\\/ OPTIMIZE LOG [0.2, 10.0]/' -e 's/^constexpr auto EXPECTED_SKILL_EMA_ALPHA_COEF = .*; \\/\\/ OPTIMIZE LOG \\[0\\.02, 2\\.0\\]$/constexpr auto EXPECTED_SKILL_EMA_ALPHA_COEF = 1.0730315231795573; \\/\\/ OPTIMIZE LOG [0.02, 2.0]/' -e 's/^constexpr auto MAX_N_NOT_OPEN_TASKS_IN_QUEUE = .*; \\/\\/ OPTIMIZE \\[60, 100\\]$/constexpr auto MAX_N_NOT_OPEN_TASKS_IN_QUEUE = 99; \\/\\/ OPTIMIZE [60, 100]/' -e 's/^constexpr auto PRIORITY_DAY_OFFSET = .*;          \\/\\/ OPTIMIZE \\[400, 1200\\]$/constexpr auto PRIORITY_DAY_OFFSET = 493;          \\/\\/ OPTIMIZE [400, 1200]/' -e 's/^constexpr auto PRIORITY_COEF = .*;               \\/\\/ OPTIMIZE LOG \\[0\\.002, 2\\.0\\]$/constexpr auto PRIORITY_COEF = 0.020899407289725398;               \\/\\/ OPTIMIZE LOG [0.002, 2.0]/'\n",
      "clang++ 0093_main.cpp -std=gnu++17 -O2 -DONLINE_JUDGE -I/ -o 0093_main.cpp.out\n"
     ]
    },
    {
     "name": "stderr",
     "output_type": "stream",
     "text": [
      "\u001b[32m[I 2021-11-12 23:34:01,906]\u001b[0m Trial 91 finished with value: 1008157.0 and parameters: {'MCMC_Q_L2_NORM_RANGE': 7.550431780385127, 'MCMC_Q_RANGE': 1.2262303457148331, 'EXPECTED_SKILL_EMA_ALPHA_COEF': 0.637299898906383, 'MAX_N_NOT_OPEN_TASKS_IN_QUEUE': 82, 'PRIORITY_DAY_OFFSET': 814, 'PRIORITY_COEF': 0.034856075272456384}. Best is trial 87 with value: 1010111.0.\u001b[0m\n"
     ]
    },
    {
     "name": "stdout",
     "output_type": "stream",
     "text": [
      "callback ok\n",
      "index_parallel='0094'\n",
      "sed -i 0094_main.cpp -e 's/^constexpr auto MCMC_Q_L2_NORM_RANGE = .*;         \\/\\/ OPTIMIZE LOG \\[2\\.0, 20\\.0\\]$/constexpr auto MCMC_Q_L2_NORM_RANGE = 13.37297950107923;         \\/\\/ OPTIMIZE LOG [2.0, 20.0]/' -e 's/^constexpr auto MCMC_Q_RANGE = .*;                  \\/\\/ OPTIMIZE LOG \\[0\\.2, 10\\.0\\]$/constexpr auto MCMC_Q_RANGE = 0.877022048359265;                  \\/\\/ OPTIMIZE LOG [0.2, 10.0]/' -e 's/^constexpr auto EXPECTED_SKILL_EMA_ALPHA_COEF = .*; \\/\\/ OPTIMIZE LOG \\[0\\.02, 2\\.0\\]$/constexpr auto EXPECTED_SKILL_EMA_ALPHA_COEF = 1.1007921469690582; \\/\\/ OPTIMIZE LOG [0.02, 2.0]/' -e 's/^constexpr auto MAX_N_NOT_OPEN_TASKS_IN_QUEUE = .*; \\/\\/ OPTIMIZE \\[60, 100\\]$/constexpr auto MAX_N_NOT_OPEN_TASKS_IN_QUEUE = 79; \\/\\/ OPTIMIZE [60, 100]/' -e 's/^constexpr auto PRIORITY_DAY_OFFSET = .*;          \\/\\/ OPTIMIZE \\[400, 1200\\]$/constexpr auto PRIORITY_DAY_OFFSET = 781;          \\/\\/ OPTIMIZE [400, 1200]/' -e 's/^constexpr auto PRIORITY_COEF = .*;               \\/\\/ OPTIMIZE LOG \\[0\\.002, 2\\.0\\]$/constexpr auto PRIORITY_COEF = 0.03422392313024132;               \\/\\/ OPTIMIZE LOG [0.002, 2.0]/'\n",
      "clang++ 0094_main.cpp -std=gnu++17 -O2 -DONLINE_JUDGE -I/ -o 0094_main.cpp.out\n"
     ]
    },
    {
     "name": "stderr",
     "output_type": "stream",
     "text": [
      "\u001b[32m[I 2021-11-12 23:34:03,983]\u001b[0m Trial 92 finished with value: 1009351.0 and parameters: {'MCMC_Q_L2_NORM_RANGE': 11.38490536900623, 'MCMC_Q_RANGE': 0.8345587489824582, 'EXPECTED_SKILL_EMA_ALPHA_COEF': 0.6427697461123492, 'MAX_N_NOT_OPEN_TASKS_IN_QUEUE': 99, 'PRIORITY_DAY_OFFSET': 535, 'PRIORITY_COEF': 0.025639537319675658}. Best is trial 87 with value: 1010111.0.\u001b[0m\n"
     ]
    },
    {
     "name": "stdout",
     "output_type": "stream",
     "text": [
      "callback ok\n",
      "index_parallel='0095'\n",
      "sed -i 0095_main.cpp -e 's/^constexpr auto MCMC_Q_L2_NORM_RANGE = .*;         \\/\\/ OPTIMIZE LOG \\[2\\.0, 20\\.0\\]$/constexpr auto MCMC_Q_L2_NORM_RANGE = 13.052604157709466;         \\/\\/ OPTIMIZE LOG [2.0, 20.0]/' -e 's/^constexpr auto MCMC_Q_RANGE = .*;                  \\/\\/ OPTIMIZE LOG \\[0\\.2, 10\\.0\\]$/constexpr auto MCMC_Q_RANGE = 0.8237283145102217;                  \\/\\/ OPTIMIZE LOG [0.2, 10.0]/' -e 's/^constexpr auto EXPECTED_SKILL_EMA_ALPHA_COEF = .*; \\/\\/ OPTIMIZE LOG \\[0\\.02, 2\\.0\\]$/constexpr auto EXPECTED_SKILL_EMA_ALPHA_COEF = 0.4015600514425778; \\/\\/ OPTIMIZE LOG [0.02, 2.0]/' -e 's/^constexpr auto MAX_N_NOT_OPEN_TASKS_IN_QUEUE = .*; \\/\\/ OPTIMIZE \\[60, 100\\]$/constexpr auto MAX_N_NOT_OPEN_TASKS_IN_QUEUE = 100; \\/\\/ OPTIMIZE [60, 100]/' -e 's/^constexpr auto PRIORITY_DAY_OFFSET = .*;          \\/\\/ OPTIMIZE \\[400, 1200\\]$/constexpr auto PRIORITY_DAY_OFFSET = 551;          \\/\\/ OPTIMIZE [400, 1200]/' -e 's/^constexpr auto PRIORITY_COEF = .*;               \\/\\/ OPTIMIZE LOG \\[0\\.002, 2\\.0\\]$/constexpr auto PRIORITY_COEF = 0.054015278952272934;               \\/\\/ OPTIMIZE LOG [0.002, 2.0]/'\n",
      "clang++ 0095_main.cpp -std=gnu++17 -O2 -DONLINE_JUDGE -I/ -o 0095_main.cpp.out\n"
     ]
    },
    {
     "name": "stderr",
     "output_type": "stream",
     "text": [
      "\u001b[32m[I 2021-11-12 23:38:02,375]\u001b[0m Trial 93 finished with value: 1007833.0 and parameters: {'MCMC_Q_L2_NORM_RANGE': 7.686519227253163, 'MCMC_Q_RANGE': 0.8019471262185706, 'EXPECTED_SKILL_EMA_ALPHA_COEF': 1.0730315231795573, 'MAX_N_NOT_OPEN_TASKS_IN_QUEUE': 99, 'PRIORITY_DAY_OFFSET': 493, 'PRIORITY_COEF': 0.020899407289725398}. Best is trial 87 with value: 1010111.0.\u001b[0m\n"
     ]
    },
    {
     "name": "stdout",
     "output_type": "stream",
     "text": [
      "callback ok\n",
      "index_parallel='0096'\n",
      "sed -i 0096_main.cpp -e 's/^constexpr auto MCMC_Q_L2_NORM_RANGE = .*;         \\/\\/ OPTIMIZE LOG \\[2\\.0, 20\\.0\\]$/constexpr auto MCMC_Q_L2_NORM_RANGE = 13.914546542105352;         \\/\\/ OPTIMIZE LOG [2.0, 20.0]/' -e 's/^constexpr auto MCMC_Q_RANGE = .*;                  \\/\\/ OPTIMIZE LOG \\[0\\.2, 10\\.0\\]$/constexpr auto MCMC_Q_RANGE = 0.8864526325976617;                  \\/\\/ OPTIMIZE LOG [0.2, 10.0]/' -e 's/^constexpr auto EXPECTED_SKILL_EMA_ALPHA_COEF = .*; \\/\\/ OPTIMIZE LOG \\[0\\.02, 2\\.0\\]$/constexpr auto EXPECTED_SKILL_EMA_ALPHA_COEF = 0.4056096582837593; \\/\\/ OPTIMIZE LOG [0.02, 2.0]/' -e 's/^constexpr auto MAX_N_NOT_OPEN_TASKS_IN_QUEUE = .*; \\/\\/ OPTIMIZE \\[60, 100\\]$/constexpr auto MAX_N_NOT_OPEN_TASKS_IN_QUEUE = 100; \\/\\/ OPTIMIZE [60, 100]/' -e 's/^constexpr auto PRIORITY_DAY_OFFSET = .*;          \\/\\/ OPTIMIZE \\[400, 1200\\]$/constexpr auto PRIORITY_DAY_OFFSET = 467;          \\/\\/ OPTIMIZE [400, 1200]/' -e 's/^constexpr auto PRIORITY_COEF = .*;               \\/\\/ OPTIMIZE LOG \\[0\\.002, 2\\.0\\]$/constexpr auto PRIORITY_COEF = 0.03180425912702672;               \\/\\/ OPTIMIZE LOG [0.002, 2.0]/'\n",
      "clang++ 0096_main.cpp -std=gnu++17 -O2 -DONLINE_JUDGE -I/ -o 0096_main.cpp.out\n"
     ]
    },
    {
     "name": "stderr",
     "output_type": "stream",
     "text": [
      "\u001b[32m[I 2021-11-12 23:38:04,256]\u001b[0m Trial 94 finished with value: 1007000.0 and parameters: {'MCMC_Q_L2_NORM_RANGE': 13.37297950107923, 'MCMC_Q_RANGE': 0.877022048359265, 'EXPECTED_SKILL_EMA_ALPHA_COEF': 1.1007921469690582, 'MAX_N_NOT_OPEN_TASKS_IN_QUEUE': 79, 'PRIORITY_DAY_OFFSET': 781, 'PRIORITY_COEF': 0.03422392313024132}. Best is trial 87 with value: 1010111.0.\u001b[0m\n"
     ]
    },
    {
     "name": "stdout",
     "output_type": "stream",
     "text": [
      "callback ok\n",
      "index_parallel='0097'\n",
      "sed -i 0097_main.cpp -e 's/^constexpr auto MCMC_Q_L2_NORM_RANGE = .*;         \\/\\/ OPTIMIZE LOG \\[2\\.0, 20\\.0\\]$/constexpr auto MCMC_Q_L2_NORM_RANGE = 11.717167654298565;         \\/\\/ OPTIMIZE LOG [2.0, 20.0]/' -e 's/^constexpr auto MCMC_Q_RANGE = .*;                  \\/\\/ OPTIMIZE LOG \\[0\\.2, 10\\.0\\]$/constexpr auto MCMC_Q_RANGE = 1.1682330258150888;                  \\/\\/ OPTIMIZE LOG [0.2, 10.0]/' -e 's/^constexpr auto EXPECTED_SKILL_EMA_ALPHA_COEF = .*; \\/\\/ OPTIMIZE LOG \\[0\\.02, 2\\.0\\]$/constexpr auto EXPECTED_SKILL_EMA_ALPHA_COEF = 0.9114258142515586; \\/\\/ OPTIMIZE LOG [0.02, 2.0]/' -e 's/^constexpr auto MAX_N_NOT_OPEN_TASKS_IN_QUEUE = .*; \\/\\/ OPTIMIZE \\[60, 100\\]$/constexpr auto MAX_N_NOT_OPEN_TASKS_IN_QUEUE = 100; \\/\\/ OPTIMIZE [60, 100]/' -e 's/^constexpr auto PRIORITY_DAY_OFFSET = .*;          \\/\\/ OPTIMIZE \\[400, 1200\\]$/constexpr auto PRIORITY_DAY_OFFSET = 593;          \\/\\/ OPTIMIZE [400, 1200]/' -e 's/^constexpr auto PRIORITY_COEF = .*;               \\/\\/ OPTIMIZE LOG \\[0\\.002, 2\\.0\\]$/constexpr auto PRIORITY_COEF = 0.014831129371114374;               \\/\\/ OPTIMIZE LOG [0.002, 2.0]/'\n",
      "clang++ 0097_main.cpp -std=gnu++17 -O2 -DONLINE_JUDGE -I/ -o 0097_main.cpp.out\n"
     ]
    },
    {
     "name": "stderr",
     "output_type": "stream",
     "text": [
      "\u001b[32m[I 2021-11-12 23:38:06,000]\u001b[0m Trial 95 finished with value: 1007635.0 and parameters: {'MCMC_Q_L2_NORM_RANGE': 13.052604157709466, 'MCMC_Q_RANGE': 0.8237283145102217, 'EXPECTED_SKILL_EMA_ALPHA_COEF': 0.4015600514425778, 'MAX_N_NOT_OPEN_TASKS_IN_QUEUE': 100, 'PRIORITY_DAY_OFFSET': 551, 'PRIORITY_COEF': 0.054015278952272934}. Best is trial 87 with value: 1010111.0.\u001b[0m\n"
     ]
    },
    {
     "name": "stdout",
     "output_type": "stream",
     "text": [
      "callback ok\n",
      "index_parallel='0098'\n",
      "sed -i 0098_main.cpp -e 's/^constexpr auto MCMC_Q_L2_NORM_RANGE = .*;         \\/\\/ OPTIMIZE LOG \\[2\\.0, 20\\.0\\]$/constexpr auto MCMC_Q_L2_NORM_RANGE = 11.769172996079833;         \\/\\/ OPTIMIZE LOG [2.0, 20.0]/' -e 's/^constexpr auto MCMC_Q_RANGE = .*;                  \\/\\/ OPTIMIZE LOG \\[0\\.2, 10\\.0\\]$/constexpr auto MCMC_Q_RANGE = 1.1414876178541737;                  \\/\\/ OPTIMIZE LOG [0.2, 10.0]/' -e 's/^constexpr auto EXPECTED_SKILL_EMA_ALPHA_COEF = .*; \\/\\/ OPTIMIZE LOG \\[0\\.02, 2\\.0\\]$/constexpr auto EXPECTED_SKILL_EMA_ALPHA_COEF = 0.8521950469809146; \\/\\/ OPTIMIZE LOG [0.02, 2.0]/' -e 's/^constexpr auto MAX_N_NOT_OPEN_TASKS_IN_QUEUE = .*; \\/\\/ OPTIMIZE \\[60, 100\\]$/constexpr auto MAX_N_NOT_OPEN_TASKS_IN_QUEUE = 94; \\/\\/ OPTIMIZE [60, 100]/' -e 's/^constexpr auto PRIORITY_DAY_OFFSET = .*;          \\/\\/ OPTIMIZE \\[400, 1200\\]$/constexpr auto PRIORITY_DAY_OFFSET = 471;          \\/\\/ OPTIMIZE [400, 1200]/' -e 's/^constexpr auto PRIORITY_COEF = .*;               \\/\\/ OPTIMIZE LOG \\[0\\.002, 2\\.0\\]$/constexpr auto PRIORITY_COEF = 0.007171603938583531;               \\/\\/ OPTIMIZE LOG [0.002, 2.0]/'\n",
      "clang++ 0098_main.cpp -std=gnu++17 -O2 -DONLINE_JUDGE -I/ -o 0098_main.cpp.out\n"
     ]
    },
    {
     "name": "stderr",
     "output_type": "stream",
     "text": [
      "\u001b[32m[I 2021-11-12 23:42:03,791]\u001b[0m Trial 96 finished with value: 1009197.0 and parameters: {'MCMC_Q_L2_NORM_RANGE': 13.914546542105352, 'MCMC_Q_RANGE': 0.8864526325976617, 'EXPECTED_SKILL_EMA_ALPHA_COEF': 0.4056096582837593, 'MAX_N_NOT_OPEN_TASKS_IN_QUEUE': 100, 'PRIORITY_DAY_OFFSET': 467, 'PRIORITY_COEF': 0.03180425912702672}. Best is trial 87 with value: 1010111.0.\u001b[0m\n"
     ]
    },
    {
     "name": "stdout",
     "output_type": "stream",
     "text": [
      "callback ok\n",
      "index_parallel='0099'\n",
      "sed -i 0099_main.cpp -e 's/^constexpr auto MCMC_Q_L2_NORM_RANGE = .*;         \\/\\/ OPTIMIZE LOG \\[2\\.0, 20\\.0\\]$/constexpr auto MCMC_Q_L2_NORM_RANGE = 11.936530200679108;         \\/\\/ OPTIMIZE LOG [2.0, 20.0]/' -e 's/^constexpr auto MCMC_Q_RANGE = .*;                  \\/\\/ OPTIMIZE LOG \\[0\\.2, 10\\.0\\]$/constexpr auto MCMC_Q_RANGE = 0.5410622973639938;                  \\/\\/ OPTIMIZE LOG [0.2, 10.0]/' -e 's/^constexpr auto EXPECTED_SKILL_EMA_ALPHA_COEF = .*; \\/\\/ OPTIMIZE LOG \\[0\\.02, 2\\.0\\]$/constexpr auto EXPECTED_SKILL_EMA_ALPHA_COEF = 0.8784074071569651; \\/\\/ OPTIMIZE LOG [0.02, 2.0]/' -e 's/^constexpr auto MAX_N_NOT_OPEN_TASKS_IN_QUEUE = .*; \\/\\/ OPTIMIZE \\[60, 100\\]$/constexpr auto MAX_N_NOT_OPEN_TASKS_IN_QUEUE = 99; \\/\\/ OPTIMIZE [60, 100]/' -e 's/^constexpr auto PRIORITY_DAY_OFFSET = .*;          \\/\\/ OPTIMIZE \\[400, 1200\\]$/constexpr auto PRIORITY_DAY_OFFSET = 472;          \\/\\/ OPTIMIZE [400, 1200]/' -e 's/^constexpr auto PRIORITY_COEF = .*;               \\/\\/ OPTIMIZE LOG \\[0\\.002, 2\\.0\\]$/constexpr auto PRIORITY_COEF = 0.023931640586733954;               \\/\\/ OPTIMIZE LOG [0.002, 2.0]/'\n",
      "clang++ 0099_main.cpp -std=gnu++17 -O2 -DONLINE_JUDGE -I/ -o 0099_main.cpp.out\n"
     ]
    },
    {
     "name": "stderr",
     "output_type": "stream",
     "text": [
      "\u001b[32m[I 2021-11-12 23:42:05,424]\u001b[0m Trial 97 finished with value: 1008710.0 and parameters: {'MCMC_Q_L2_NORM_RANGE': 11.717167654298565, 'MCMC_Q_RANGE': 1.1682330258150888, 'EXPECTED_SKILL_EMA_ALPHA_COEF': 0.9114258142515586, 'MAX_N_NOT_OPEN_TASKS_IN_QUEUE': 100, 'PRIORITY_DAY_OFFSET': 593, 'PRIORITY_COEF': 0.014831129371114374}. Best is trial 87 with value: 1010111.0.\u001b[0m\n"
     ]
    },
    {
     "name": "stdout",
     "output_type": "stream",
     "text": [
      "callback ok\n",
      "index_parallel='0100'\n",
      "sed -i 0100_main.cpp -e 's/^constexpr auto MCMC_Q_L2_NORM_RANGE = .*;         \\/\\/ OPTIMIZE LOG \\[2\\.0, 20\\.0\\]$/constexpr auto MCMC_Q_L2_NORM_RANGE = 15.681616749768555;         \\/\\/ OPTIMIZE LOG [2.0, 20.0]/' -e 's/^constexpr auto MCMC_Q_RANGE = .*;                  \\/\\/ OPTIMIZE LOG \\[0\\.2, 10\\.0\\]$/constexpr auto MCMC_Q_RANGE = 0.5112463177104309;                  \\/\\/ OPTIMIZE LOG [0.2, 10.0]/' -e 's/^constexpr auto EXPECTED_SKILL_EMA_ALPHA_COEF = .*; \\/\\/ OPTIMIZE LOG \\[0\\.02, 2\\.0\\]$/constexpr auto EXPECTED_SKILL_EMA_ALPHA_COEF = 1.271086156634801; \\/\\/ OPTIMIZE LOG [0.02, 2.0]/' -e 's/^constexpr auto MAX_N_NOT_OPEN_TASKS_IN_QUEUE = .*; \\/\\/ OPTIMIZE \\[60, 100\\]$/constexpr auto MAX_N_NOT_OPEN_TASKS_IN_QUEUE = 95; \\/\\/ OPTIMIZE [60, 100]/' -e 's/^constexpr auto PRIORITY_DAY_OFFSET = .*;          \\/\\/ OPTIMIZE \\[400, 1200\\]$/constexpr auto PRIORITY_DAY_OFFSET = 469;          \\/\\/ OPTIMIZE [400, 1200]/' -e 's/^constexpr auto PRIORITY_COEF = .*;               \\/\\/ OPTIMIZE LOG \\[0\\.002, 2\\.0\\]$/constexpr auto PRIORITY_COEF = 0.030391443633506036;               \\/\\/ OPTIMIZE LOG [0.002, 2.0]/'\n",
      "clang++ 0100_main.cpp -std=gnu++17 -O2 -DONLINE_JUDGE -I/ -o 0100_main.cpp.out\n"
     ]
    },
    {
     "name": "stderr",
     "output_type": "stream",
     "text": [
      "\u001b[32m[I 2021-11-12 23:42:07,285]\u001b[0m Trial 98 finished with value: 1010228.0 and parameters: {'MCMC_Q_L2_NORM_RANGE': 11.769172996079833, 'MCMC_Q_RANGE': 1.1414876178541737, 'EXPECTED_SKILL_EMA_ALPHA_COEF': 0.8521950469809146, 'MAX_N_NOT_OPEN_TASKS_IN_QUEUE': 94, 'PRIORITY_DAY_OFFSET': 471, 'PRIORITY_COEF': 0.007171603938583531}. Best is trial 98 with value: 1010228.0.\u001b[0m\n"
     ]
    },
    {
     "name": "stdout",
     "output_type": "stream",
     "text": [
      "Updated! 1010228.0\n",
      "cp: cannot stat '0098_main.cpp': No such file or directory\n",
      "callback ok\n",
      "index_parallel='0101'\n",
      "sed -i 0101_main.cpp -e 's/^constexpr auto MCMC_Q_L2_NORM_RANGE = .*;         \\/\\/ OPTIMIZE LOG \\[2\\.0, 20\\.0\\]$/constexpr auto MCMC_Q_L2_NORM_RANGE = 17.401896132859058;         \\/\\/ OPTIMIZE LOG [2.0, 20.0]/' -e 's/^constexpr auto MCMC_Q_RANGE = .*;                  \\/\\/ OPTIMIZE LOG \\[0\\.2, 10\\.0\\]$/constexpr auto MCMC_Q_RANGE = 0.63550570140536;                  \\/\\/ OPTIMIZE LOG [0.2, 10.0]/' -e 's/^constexpr auto EXPECTED_SKILL_EMA_ALPHA_COEF = .*; \\/\\/ OPTIMIZE LOG \\[0\\.02, 2\\.0\\]$/constexpr auto EXPECTED_SKILL_EMA_ALPHA_COEF = 0.41367882047277693; \\/\\/ OPTIMIZE LOG [0.02, 2.0]/' -e 's/^constexpr auto MAX_N_NOT_OPEN_TASKS_IN_QUEUE = .*; \\/\\/ OPTIMIZE \\[60, 100\\]$/constexpr auto MAX_N_NOT_OPEN_TASKS_IN_QUEUE = 95; \\/\\/ OPTIMIZE [60, 100]/' -e 's/^constexpr auto PRIORITY_DAY_OFFSET = .*;          \\/\\/ OPTIMIZE \\[400, 1200\\]$/constexpr auto PRIORITY_DAY_OFFSET = 468;          \\/\\/ OPTIMIZE [400, 1200]/' -e 's/^constexpr auto PRIORITY_COEF = .*;               \\/\\/ OPTIMIZE LOG \\[0\\.002, 2\\.0\\]$/constexpr auto PRIORITY_COEF = 0.009663591404019834;               \\/\\/ OPTIMIZE LOG [0.002, 2.0]/'\n",
      "clang++ 0101_main.cpp -std=gnu++17 -O2 -DONLINE_JUDGE -I/ -o 0101_main.cpp.out\n"
     ]
    },
    {
     "name": "stderr",
     "output_type": "stream",
     "text": [
      "\u001b[32m[I 2021-11-12 23:46:08,443]\u001b[0m Trial 99 finished with value: 1008424.0 and parameters: {'MCMC_Q_L2_NORM_RANGE': 11.936530200679108, 'MCMC_Q_RANGE': 0.5410622973639938, 'EXPECTED_SKILL_EMA_ALPHA_COEF': 0.8784074071569651, 'MAX_N_NOT_OPEN_TASKS_IN_QUEUE': 99, 'PRIORITY_DAY_OFFSET': 472, 'PRIORITY_COEF': 0.023931640586733954}. Best is trial 98 with value: 1010228.0.\u001b[0m\n"
     ]
    },
    {
     "name": "stdout",
     "output_type": "stream",
     "text": [
      "callback ok\n",
      "index_parallel='0102'\n",
      "sed -i 0102_main.cpp -e 's/^constexpr auto MCMC_Q_L2_NORM_RANGE = .*;         \\/\\/ OPTIMIZE LOG \\[2\\.0, 20\\.0\\]$/constexpr auto MCMC_Q_L2_NORM_RANGE = 16.94049602085928;         \\/\\/ OPTIMIZE LOG [2.0, 20.0]/' -e 's/^constexpr auto MCMC_Q_RANGE = .*;                  \\/\\/ OPTIMIZE LOG \\[0\\.2, 10\\.0\\]$/constexpr auto MCMC_Q_RANGE = 1.1404067457008211;                  \\/\\/ OPTIMIZE LOG [0.2, 10.0]/' -e 's/^constexpr auto EXPECTED_SKILL_EMA_ALPHA_COEF = .*; \\/\\/ OPTIMIZE LOG \\[0\\.02, 2\\.0\\]$/constexpr auto EXPECTED_SKILL_EMA_ALPHA_COEF = 0.40703702590650526; \\/\\/ OPTIMIZE LOG [0.02, 2.0]/' -e 's/^constexpr auto MAX_N_NOT_OPEN_TASKS_IN_QUEUE = .*; \\/\\/ OPTIMIZE \\[60, 100\\]$/constexpr auto MAX_N_NOT_OPEN_TASKS_IN_QUEUE = 93; \\/\\/ OPTIMIZE [60, 100]/' -e 's/^constexpr auto PRIORITY_DAY_OFFSET = .*;          \\/\\/ OPTIMIZE \\[400, 1200\\]$/constexpr auto PRIORITY_DAY_OFFSET = 440;          \\/\\/ OPTIMIZE [400, 1200]/' -e 's/^constexpr auto PRIORITY_COEF = .*;               \\/\\/ OPTIMIZE LOG \\[0\\.002, 2\\.0\\]$/constexpr auto PRIORITY_COEF = 0.00933607662529303;               \\/\\/ OPTIMIZE LOG [0.002, 2.0]/'\n",
      "clang++ 0102_main.cpp -std=gnu++17 -O2 -DONLINE_JUDGE -I/ -o 0102_main.cpp.out\n"
     ]
    },
    {
     "name": "stderr",
     "output_type": "stream",
     "text": [
      "\u001b[32m[I 2021-11-12 23:46:09,874]\u001b[0m Trial 100 finished with value: 1007152.0 and parameters: {'MCMC_Q_L2_NORM_RANGE': 15.681616749768555, 'MCMC_Q_RANGE': 0.5112463177104309, 'EXPECTED_SKILL_EMA_ALPHA_COEF': 1.271086156634801, 'MAX_N_NOT_OPEN_TASKS_IN_QUEUE': 95, 'PRIORITY_DAY_OFFSET': 469, 'PRIORITY_COEF': 0.030391443633506036}. Best is trial 98 with value: 1010228.0.\u001b[0m\n"
     ]
    },
    {
     "name": "stdout",
     "output_type": "stream",
     "text": [
      "callback ok\n",
      "index_parallel='0103'\n",
      "sed -i 0103_main.cpp -e 's/^constexpr auto MCMC_Q_L2_NORM_RANGE = .*;         \\/\\/ OPTIMIZE LOG \\[2\\.0, 20\\.0\\]$/constexpr auto MCMC_Q_L2_NORM_RANGE = 10.421556060940187;         \\/\\/ OPTIMIZE LOG [2.0, 20.0]/' -e 's/^constexpr auto MCMC_Q_RANGE = .*;                  \\/\\/ OPTIMIZE LOG \\[0\\.2, 10\\.0\\]$/constexpr auto MCMC_Q_RANGE = 1.1195889391501248;                  \\/\\/ OPTIMIZE LOG [0.2, 10.0]/' -e 's/^constexpr auto EXPECTED_SKILL_EMA_ALPHA_COEF = .*; \\/\\/ OPTIMIZE LOG \\[0\\.02, 2\\.0\\]$/constexpr auto EXPECTED_SKILL_EMA_ALPHA_COEF = 0.7271627284495338; \\/\\/ OPTIMIZE LOG [0.02, 2.0]/' -e 's/^constexpr auto MAX_N_NOT_OPEN_TASKS_IN_QUEUE = .*; \\/\\/ OPTIMIZE \\[60, 100\\]$/constexpr auto MAX_N_NOT_OPEN_TASKS_IN_QUEUE = 95; \\/\\/ OPTIMIZE [60, 100]/' -e 's/^constexpr auto PRIORITY_DAY_OFFSET = .*;          \\/\\/ OPTIMIZE \\[400, 1200\\]$/constexpr auto PRIORITY_DAY_OFFSET = 433;          \\/\\/ OPTIMIZE [400, 1200]/' -e 's/^constexpr auto PRIORITY_COEF = .*;               \\/\\/ OPTIMIZE LOG \\[0\\.002, 2\\.0\\]$/constexpr auto PRIORITY_COEF = 0.012665121943336287;               \\/\\/ OPTIMIZE LOG [0.002, 2.0]/'\n",
      "clang++ 0103_main.cpp -std=gnu++17 -O2 -DONLINE_JUDGE -I/ -o 0103_main.cpp.out\n"
     ]
    },
    {
     "name": "stderr",
     "output_type": "stream",
     "text": [
      "\u001b[32m[I 2021-11-12 23:46:11,107]\u001b[0m Trial 101 finished with value: 1007119.0 and parameters: {'MCMC_Q_L2_NORM_RANGE': 17.401896132859058, 'MCMC_Q_RANGE': 0.63550570140536, 'EXPECTED_SKILL_EMA_ALPHA_COEF': 0.41367882047277693, 'MAX_N_NOT_OPEN_TASKS_IN_QUEUE': 95, 'PRIORITY_DAY_OFFSET': 468, 'PRIORITY_COEF': 0.009663591404019834}. Best is trial 98 with value: 1010228.0.\u001b[0m\n"
     ]
    },
    {
     "name": "stdout",
     "output_type": "stream",
     "text": [
      "callback ok\n",
      "index_parallel='0104'\n",
      "sed -i 0104_main.cpp -e 's/^constexpr auto MCMC_Q_L2_NORM_RANGE = .*;         \\/\\/ OPTIMIZE LOG \\[2\\.0, 20\\.0\\]$/constexpr auto MCMC_Q_L2_NORM_RANGE = 11.253429072992828;         \\/\\/ OPTIMIZE LOG [2.0, 20.0]/' -e 's/^constexpr auto MCMC_Q_RANGE = .*;                  \\/\\/ OPTIMIZE LOG \\[0\\.2, 10\\.0\\]$/constexpr auto MCMC_Q_RANGE = 1.0984141678202133;                  \\/\\/ OPTIMIZE LOG [0.2, 10.0]/' -e 's/^constexpr auto EXPECTED_SKILL_EMA_ALPHA_COEF = .*; \\/\\/ OPTIMIZE LOG \\[0\\.02, 2\\.0\\]$/constexpr auto EXPECTED_SKILL_EMA_ALPHA_COEF = 0.741212254310515; \\/\\/ OPTIMIZE LOG [0.02, 2.0]/' -e 's/^constexpr auto MAX_N_NOT_OPEN_TASKS_IN_QUEUE = .*; \\/\\/ OPTIMIZE \\[60, 100\\]$/constexpr auto MAX_N_NOT_OPEN_TASKS_IN_QUEUE = 98; \\/\\/ OPTIMIZE [60, 100]/' -e 's/^constexpr auto PRIORITY_DAY_OFFSET = .*;          \\/\\/ OPTIMIZE \\[400, 1200\\]$/constexpr auto PRIORITY_DAY_OFFSET = 537;          \\/\\/ OPTIMIZE [400, 1200]/' -e 's/^constexpr auto PRIORITY_COEF = .*;               \\/\\/ OPTIMIZE LOG \\[0\\.002, 2\\.0\\]$/constexpr auto PRIORITY_COEF = 0.005123017716237255;               \\/\\/ OPTIMIZE LOG [0.002, 2.0]/'\n",
      "clang++ 0104_main.cpp -std=gnu++17 -O2 -DONLINE_JUDGE -I/ -o 0104_main.cpp.out\n"
     ]
    },
    {
     "name": "stderr",
     "output_type": "stream",
     "text": [
      "\u001b[32m[I 2021-11-12 23:50:06,783]\u001b[0m Trial 102 finished with value: 1006679.0 and parameters: {'MCMC_Q_L2_NORM_RANGE': 16.94049602085928, 'MCMC_Q_RANGE': 1.1404067457008211, 'EXPECTED_SKILL_EMA_ALPHA_COEF': 0.40703702590650526, 'MAX_N_NOT_OPEN_TASKS_IN_QUEUE': 93, 'PRIORITY_DAY_OFFSET': 440, 'PRIORITY_COEF': 0.00933607662529303}. Best is trial 98 with value: 1010228.0.\u001b[0m\n"
     ]
    },
    {
     "name": "stdout",
     "output_type": "stream",
     "text": [
      "callback ok\n",
      "index_parallel='0105'\n",
      "sed -i 0105_main.cpp -e 's/^constexpr auto MCMC_Q_L2_NORM_RANGE = .*;         \\/\\/ OPTIMIZE LOG \\[2\\.0, 20\\.0\\]$/constexpr auto MCMC_Q_L2_NORM_RANGE = 14.225815580718407;         \\/\\/ OPTIMIZE LOG [2.0, 20.0]/' -e 's/^constexpr auto MCMC_Q_RANGE = .*;                  \\/\\/ OPTIMIZE LOG \\[0\\.2, 10\\.0\\]$/constexpr auto MCMC_Q_RANGE = 0.9295014462877548;                  \\/\\/ OPTIMIZE LOG [0.2, 10.0]/' -e 's/^constexpr auto EXPECTED_SKILL_EMA_ALPHA_COEF = .*; \\/\\/ OPTIMIZE LOG \\[0\\.02, 2\\.0\\]$/constexpr auto EXPECTED_SKILL_EMA_ALPHA_COEF = 0.721279578071281; \\/\\/ OPTIMIZE LOG [0.02, 2.0]/' -e 's/^constexpr auto MAX_N_NOT_OPEN_TASKS_IN_QUEUE = .*; \\/\\/ OPTIMIZE \\[60, 100\\]$/constexpr auto MAX_N_NOT_OPEN_TASKS_IN_QUEUE = 99; \\/\\/ OPTIMIZE [60, 100]/' -e 's/^constexpr auto PRIORITY_DAY_OFFSET = .*;          \\/\\/ OPTIMIZE \\[400, 1200\\]$/constexpr auto PRIORITY_DAY_OFFSET = 527;          \\/\\/ OPTIMIZE [400, 1200]/' -e 's/^constexpr auto PRIORITY_COEF = .*;               \\/\\/ OPTIMIZE LOG \\[0\\.002, 2\\.0\\]$/constexpr auto PRIORITY_COEF = 0.0028215234807565078;               \\/\\/ OPTIMIZE LOG [0.002, 2.0]/'\n",
      "clang++ 0105_main.cpp -std=gnu++17 -O2 -DONLINE_JUDGE -I/ -o 0105_main.cpp.out\n"
     ]
    },
    {
     "name": "stderr",
     "output_type": "stream",
     "text": [
      "\u001b[32m[I 2021-11-12 23:50:09,470]\u001b[0m Trial 103 finished with value: 1009148.0 and parameters: {'MCMC_Q_L2_NORM_RANGE': 10.421556060940187, 'MCMC_Q_RANGE': 1.1195889391501248, 'EXPECTED_SKILL_EMA_ALPHA_COEF': 0.7271627284495338, 'MAX_N_NOT_OPEN_TASKS_IN_QUEUE': 95, 'PRIORITY_DAY_OFFSET': 433, 'PRIORITY_COEF': 0.012665121943336287}. Best is trial 98 with value: 1010228.0.\u001b[0m\n"
     ]
    },
    {
     "name": "stdout",
     "output_type": "stream",
     "text": [
      "callback ok\n",
      "index_parallel='0106'\n",
      "sed -i 0106_main.cpp -e 's/^constexpr auto MCMC_Q_L2_NORM_RANGE = .*;         \\/\\/ OPTIMIZE LOG \\[2\\.0, 20\\.0\\]$/constexpr auto MCMC_Q_L2_NORM_RANGE = 14.330713415348214;         \\/\\/ OPTIMIZE LOG [2.0, 20.0]/' -e 's/^constexpr auto MCMC_Q_RANGE = .*;                  \\/\\/ OPTIMIZE LOG \\[0\\.2, 10\\.0\\]$/constexpr auto MCMC_Q_RANGE = 0.9678899072139373;                  \\/\\/ OPTIMIZE LOG [0.2, 10.0]/' -e 's/^constexpr auto EXPECTED_SKILL_EMA_ALPHA_COEF = .*; \\/\\/ OPTIMIZE LOG \\[0\\.02, 2\\.0\\]$/constexpr auto EXPECTED_SKILL_EMA_ALPHA_COEF = 0.7080241111289156; \\/\\/ OPTIMIZE LOG [0.02, 2.0]/' -e 's/^constexpr auto MAX_N_NOT_OPEN_TASKS_IN_QUEUE = .*; \\/\\/ OPTIMIZE \\[60, 100\\]$/constexpr auto MAX_N_NOT_OPEN_TASKS_IN_QUEUE = 94; \\/\\/ OPTIMIZE [60, 100]/' -e 's/^constexpr auto PRIORITY_DAY_OFFSET = .*;          \\/\\/ OPTIMIZE \\[400, 1200\\]$/constexpr auto PRIORITY_DAY_OFFSET = 428;          \\/\\/ OPTIMIZE [400, 1200]/' -e 's/^constexpr auto PRIORITY_COEF = .*;               \\/\\/ OPTIMIZE LOG \\[0\\.002, 2\\.0\\]$/constexpr auto PRIORITY_COEF = 0.0036404415220127762;               \\/\\/ OPTIMIZE LOG [0.002, 2.0]/'\n",
      "clang++ 0106_main.cpp -std=gnu++17 -O2 -DONLINE_JUDGE -I/ -o 0106_main.cpp.out\n"
     ]
    },
    {
     "name": "stderr",
     "output_type": "stream",
     "text": [
      "\u001b[32m[I 2021-11-12 23:50:10,366]\u001b[0m Trial 104 finished with value: 1008687.0 and parameters: {'MCMC_Q_L2_NORM_RANGE': 11.253429072992828, 'MCMC_Q_RANGE': 1.0984141678202133, 'EXPECTED_SKILL_EMA_ALPHA_COEF': 0.741212254310515, 'MAX_N_NOT_OPEN_TASKS_IN_QUEUE': 98, 'PRIORITY_DAY_OFFSET': 537, 'PRIORITY_COEF': 0.005123017716237255}. Best is trial 98 with value: 1010228.0.\u001b[0m\n"
     ]
    },
    {
     "name": "stdout",
     "output_type": "stream",
     "text": [
      "callback ok\n",
      "index_parallel='0107'\n",
      "sed -i 0107_main.cpp -e 's/^constexpr auto MCMC_Q_L2_NORM_RANGE = .*;         \\/\\/ OPTIMIZE LOG \\[2\\.0, 20\\.0\\]$/constexpr auto MCMC_Q_L2_NORM_RANGE = 10.655259306055406;         \\/\\/ OPTIMIZE LOG [2.0, 20.0]/' -e 's/^constexpr auto MCMC_Q_RANGE = .*;                  \\/\\/ OPTIMIZE LOG \\[0\\.2, 10\\.0\\]$/constexpr auto MCMC_Q_RANGE = 0.9399562368960509;                  \\/\\/ OPTIMIZE LOG [0.2, 10.0]/' -e 's/^constexpr auto EXPECTED_SKILL_EMA_ALPHA_COEF = .*; \\/\\/ OPTIMIZE LOG \\[0\\.02, 2\\.0\\]$/constexpr auto EXPECTED_SKILL_EMA_ALPHA_COEF = 0.5951015090075992; \\/\\/ OPTIMIZE LOG [0.02, 2.0]/' -e 's/^constexpr auto MAX_N_NOT_OPEN_TASKS_IN_QUEUE = .*; \\/\\/ OPTIMIZE \\[60, 100\\]$/constexpr auto MAX_N_NOT_OPEN_TASKS_IN_QUEUE = 94; \\/\\/ OPTIMIZE [60, 100]/' -e 's/^constexpr auto PRIORITY_DAY_OFFSET = .*;          \\/\\/ OPTIMIZE \\[400, 1200\\]$/constexpr auto PRIORITY_DAY_OFFSET = 426;          \\/\\/ OPTIMIZE [400, 1200]/' -e 's/^constexpr auto PRIORITY_COEF = .*;               \\/\\/ OPTIMIZE LOG \\[0\\.002, 2\\.0\\]$/constexpr auto PRIORITY_COEF = 0.011957414176476586;               \\/\\/ OPTIMIZE LOG [0.002, 2.0]/'\n",
      "clang++ 0107_main.cpp -std=gnu++17 -O2 -DONLINE_JUDGE -I/ -o 0107_main.cpp.out\n"
     ]
    },
    {
     "name": "stderr",
     "output_type": "stream",
     "text": [
      "\u001b[32m[I 2021-11-12 23:54:06,790]\u001b[0m Trial 105 finished with value: 1008313.0 and parameters: {'MCMC_Q_L2_NORM_RANGE': 14.225815580718407, 'MCMC_Q_RANGE': 0.9295014462877548, 'EXPECTED_SKILL_EMA_ALPHA_COEF': 0.721279578071281, 'MAX_N_NOT_OPEN_TASKS_IN_QUEUE': 99, 'PRIORITY_DAY_OFFSET': 527, 'PRIORITY_COEF': 0.0028215234807565078}. Best is trial 98 with value: 1010228.0.\u001b[0m\n"
     ]
    },
    {
     "name": "stdout",
     "output_type": "stream",
     "text": [
      "callback ok\n",
      "index_parallel='0108'\n",
      "sed -i 0108_main.cpp -e 's/^constexpr auto MCMC_Q_L2_NORM_RANGE = .*;         \\/\\/ OPTIMIZE LOG \\[2\\.0, 20\\.0\\]$/constexpr auto MCMC_Q_L2_NORM_RANGE = 10.253643378858682;         \\/\\/ OPTIMIZE LOG [2.0, 20.0]/' -e 's/^constexpr auto MCMC_Q_RANGE = .*;                  \\/\\/ OPTIMIZE LOG \\[0\\.2, 10\\.0\\]$/constexpr auto MCMC_Q_RANGE = 1.0097410929933888;                  \\/\\/ OPTIMIZE LOG [0.2, 10.0]/' -e 's/^constexpr auto EXPECTED_SKILL_EMA_ALPHA_COEF = .*; \\/\\/ OPTIMIZE LOG \\[0\\.02, 2\\.0\\]$/constexpr auto EXPECTED_SKILL_EMA_ALPHA_COEF = 0.5825783734124107; \\/\\/ OPTIMIZE LOG [0.02, 2.0]/' -e 's/^constexpr auto MAX_N_NOT_OPEN_TASKS_IN_QUEUE = .*; \\/\\/ OPTIMIZE \\[60, 100\\]$/constexpr auto MAX_N_NOT_OPEN_TASKS_IN_QUEUE = 94; \\/\\/ OPTIMIZE [60, 100]/' -e 's/^constexpr auto PRIORITY_DAY_OFFSET = .*;          \\/\\/ OPTIMIZE \\[400, 1200\\]$/constexpr auto PRIORITY_DAY_OFFSET = 431;          \\/\\/ OPTIMIZE [400, 1200]/' -e 's/^constexpr auto PRIORITY_COEF = .*;               \\/\\/ OPTIMIZE LOG \\[0\\.002, 2\\.0\\]$/constexpr auto PRIORITY_COEF = 0.004620455421944854;               \\/\\/ OPTIMIZE LOG [0.002, 2.0]/'\n",
      "clang++ 0108_main.cpp -std=gnu++17 -O2 -DONLINE_JUDGE -I/ -o 0108_main.cpp.out\n"
     ]
    },
    {
     "name": "stderr",
     "output_type": "stream",
     "text": [
      "\u001b[32m[I 2021-11-12 23:54:08,822]\u001b[0m Trial 106 finished with value: 1008576.0 and parameters: {'MCMC_Q_L2_NORM_RANGE': 14.330713415348214, 'MCMC_Q_RANGE': 0.9678899072139373, 'EXPECTED_SKILL_EMA_ALPHA_COEF': 0.7080241111289156, 'MAX_N_NOT_OPEN_TASKS_IN_QUEUE': 94, 'PRIORITY_DAY_OFFSET': 428, 'PRIORITY_COEF': 0.0036404415220127762}. Best is trial 98 with value: 1010228.0.\u001b[0m\n"
     ]
    },
    {
     "name": "stdout",
     "output_type": "stream",
     "text": [
      "callback ok\n",
      "index_parallel='0109'\n",
      "sed -i 0109_main.cpp -e 's/^constexpr auto MCMC_Q_L2_NORM_RANGE = .*;         \\/\\/ OPTIMIZE LOG \\[2\\.0, 20\\.0\\]$/constexpr auto MCMC_Q_L2_NORM_RANGE = 10.48578032169454;         \\/\\/ OPTIMIZE LOG [2.0, 20.0]/' -e 's/^constexpr auto MCMC_Q_RANGE = .*;                  \\/\\/ OPTIMIZE LOG \\[0\\.2, 10\\.0\\]$/constexpr auto MCMC_Q_RANGE = 1.3954033165053932;                  \\/\\/ OPTIMIZE LOG [0.2, 10.0]/' -e 's/^constexpr auto EXPECTED_SKILL_EMA_ALPHA_COEF = .*; \\/\\/ OPTIMIZE LOG \\[0\\.02, 2\\.0\\]$/constexpr auto EXPECTED_SKILL_EMA_ALPHA_COEF = 0.5778103185438304; \\/\\/ OPTIMIZE LOG [0.02, 2.0]/' -e 's/^constexpr auto MAX_N_NOT_OPEN_TASKS_IN_QUEUE = .*; \\/\\/ OPTIMIZE \\[60, 100\\]$/constexpr auto MAX_N_NOT_OPEN_TASKS_IN_QUEUE = 94; \\/\\/ OPTIMIZE [60, 100]/' -e 's/^constexpr auto PRIORITY_DAY_OFFSET = .*;          \\/\\/ OPTIMIZE \\[400, 1200\\]$/constexpr auto PRIORITY_DAY_OFFSET = 452;          \\/\\/ OPTIMIZE [400, 1200]/' -e 's/^constexpr auto PRIORITY_COEF = .*;               \\/\\/ OPTIMIZE LOG \\[0\\.002, 2\\.0\\]$/constexpr auto PRIORITY_COEF = 0.01768082309465511;               \\/\\/ OPTIMIZE LOG [0.002, 2.0]/'\n",
      "clang++ 0109_main.cpp -std=gnu++17 -O2 -DONLINE_JUDGE -I/ -o 0109_main.cpp.out\n"
     ]
    },
    {
     "name": "stderr",
     "output_type": "stream",
     "text": [
      "\u001b[32m[I 2021-11-12 23:54:10,393]\u001b[0m Trial 107 finished with value: 1010109.0 and parameters: {'MCMC_Q_L2_NORM_RANGE': 10.655259306055406, 'MCMC_Q_RANGE': 0.9399562368960509, 'EXPECTED_SKILL_EMA_ALPHA_COEF': 0.5951015090075992, 'MAX_N_NOT_OPEN_TASKS_IN_QUEUE': 94, 'PRIORITY_DAY_OFFSET': 426, 'PRIORITY_COEF': 0.011957414176476586}. Best is trial 98 with value: 1010228.0.\u001b[0m\n"
     ]
    },
    {
     "name": "stdout",
     "output_type": "stream",
     "text": [
      "callback ok\n",
      "index_parallel='0110'\n",
      "sed -i 0110_main.cpp -e 's/^constexpr auto MCMC_Q_L2_NORM_RANGE = .*;         \\/\\/ OPTIMIZE LOG \\[2\\.0, 20\\.0\\]$/constexpr auto MCMC_Q_L2_NORM_RANGE = 10.267628509229075;         \\/\\/ OPTIMIZE LOG [2.0, 20.0]/' -e 's/^constexpr auto MCMC_Q_RANGE = .*;                  \\/\\/ OPTIMIZE LOG \\[0\\.2, 10\\.0\\]$/constexpr auto MCMC_Q_RANGE = 1.0153075845680979;                  \\/\\/ OPTIMIZE LOG [0.2, 10.0]/' -e 's/^constexpr auto EXPECTED_SKILL_EMA_ALPHA_COEF = .*; \\/\\/ OPTIMIZE LOG \\[0\\.02, 2\\.0\\]$/constexpr auto EXPECTED_SKILL_EMA_ALPHA_COEF = 0.6045282352156; \\/\\/ OPTIMIZE LOG [0.02, 2.0]/' -e 's/^constexpr auto MAX_N_NOT_OPEN_TASKS_IN_QUEUE = .*; \\/\\/ OPTIMIZE \\[60, 100\\]$/constexpr auto MAX_N_NOT_OPEN_TASKS_IN_QUEUE = 92; \\/\\/ OPTIMIZE [60, 100]/' -e 's/^constexpr auto PRIORITY_DAY_OFFSET = .*;          \\/\\/ OPTIMIZE \\[400, 1200\\]$/constexpr auto PRIORITY_DAY_OFFSET = 457;          \\/\\/ OPTIMIZE [400, 1200]/' -e 's/^constexpr auto PRIORITY_COEF = .*;               \\/\\/ OPTIMIZE LOG \\[0\\.002, 2\\.0\\]$/constexpr auto PRIORITY_COEF = 0.010745325414938126;               \\/\\/ OPTIMIZE LOG [0.002, 2.0]/'\n",
      "clang++ 0110_main.cpp -std=gnu++17 -O2 -DONLINE_JUDGE -I/ -o 0110_main.cpp.out\n"
     ]
    },
    {
     "name": "stderr",
     "output_type": "stream",
     "text": [
      "\u001b[32m[I 2021-11-12 23:58:05,884]\u001b[0m Trial 108 finished with value: 1007432.0 and parameters: {'MCMC_Q_L2_NORM_RANGE': 10.253643378858682, 'MCMC_Q_RANGE': 1.0097410929933888, 'EXPECTED_SKILL_EMA_ALPHA_COEF': 0.5825783734124107, 'MAX_N_NOT_OPEN_TASKS_IN_QUEUE': 94, 'PRIORITY_DAY_OFFSET': 431, 'PRIORITY_COEF': 0.004620455421944854}. Best is trial 98 with value: 1010228.0.\u001b[0m\n"
     ]
    },
    {
     "name": "stdout",
     "output_type": "stream",
     "text": [
      "callback ok\n",
      "index_parallel='0111'\n",
      "sed -i 0111_main.cpp -e 's/^constexpr auto MCMC_Q_L2_NORM_RANGE = .*;         \\/\\/ OPTIMIZE LOG \\[2\\.0, 20\\.0\\]$/constexpr auto MCMC_Q_L2_NORM_RANGE = 10.412478400493198;         \\/\\/ OPTIMIZE LOG [2.0, 20.0]/' -e 's/^constexpr auto MCMC_Q_RANGE = .*;                  \\/\\/ OPTIMIZE LOG \\[0\\.2, 10\\.0\\]$/constexpr auto MCMC_Q_RANGE = 0.7341717851287439;                  \\/\\/ OPTIMIZE LOG [0.2, 10.0]/' -e 's/^constexpr auto EXPECTED_SKILL_EMA_ALPHA_COEF = .*; \\/\\/ OPTIMIZE LOG \\[0\\.02, 2\\.0\\]$/constexpr auto EXPECTED_SKILL_EMA_ALPHA_COEF = 1.0487269226345899; \\/\\/ OPTIMIZE LOG [0.02, 2.0]/' -e 's/^constexpr auto MAX_N_NOT_OPEN_TASKS_IN_QUEUE = .*; \\/\\/ OPTIMIZE \\[60, 100\\]$/constexpr auto MAX_N_NOT_OPEN_TASKS_IN_QUEUE = 92; \\/\\/ OPTIMIZE [60, 100]/' -e 's/^constexpr auto PRIORITY_DAY_OFFSET = .*;          \\/\\/ OPTIMIZE \\[400, 1200\\]$/constexpr auto PRIORITY_DAY_OFFSET = 453;          \\/\\/ OPTIMIZE [400, 1200]/' -e 's/^constexpr auto PRIORITY_COEF = .*;               \\/\\/ OPTIMIZE LOG \\[0\\.002, 2\\.0\\]$/constexpr auto PRIORITY_COEF = 0.012774262673563378;               \\/\\/ OPTIMIZE LOG [0.002, 2.0]/'\n",
      "clang++ 0111_main.cpp -std=gnu++17 -O2 -DONLINE_JUDGE -I/ -o 0111_main.cpp.out\n"
     ]
    },
    {
     "name": "stderr",
     "output_type": "stream",
     "text": [
      "\u001b[32m[I 2021-11-12 23:58:07,621]\u001b[0m Trial 109 finished with value: 1007225.0 and parameters: {'MCMC_Q_L2_NORM_RANGE': 10.48578032169454, 'MCMC_Q_RANGE': 1.3954033165053932, 'EXPECTED_SKILL_EMA_ALPHA_COEF': 0.5778103185438304, 'MAX_N_NOT_OPEN_TASKS_IN_QUEUE': 94, 'PRIORITY_DAY_OFFSET': 452, 'PRIORITY_COEF': 0.01768082309465511}. Best is trial 98 with value: 1010228.0.\u001b[0m\n"
     ]
    },
    {
     "name": "stdout",
     "output_type": "stream",
     "text": [
      "callback ok\n",
      "index_parallel='0112'\n",
      "sed -i 0112_main.cpp -e 's/^constexpr auto MCMC_Q_L2_NORM_RANGE = .*;         \\/\\/ OPTIMIZE LOG \\[2\\.0, 20\\.0\\]$/constexpr auto MCMC_Q_L2_NORM_RANGE = 9.710755520749915;         \\/\\/ OPTIMIZE LOG [2.0, 20.0]/' -e 's/^constexpr auto MCMC_Q_RANGE = .*;                  \\/\\/ OPTIMIZE LOG \\[0\\.2, 10\\.0\\]$/constexpr auto MCMC_Q_RANGE = 4.601902788536209;                  \\/\\/ OPTIMIZE LOG [0.2, 10.0]/' -e 's/^constexpr auto EXPECTED_SKILL_EMA_ALPHA_COEF = .*; \\/\\/ OPTIMIZE LOG \\[0\\.02, 2\\.0\\]$/constexpr auto EXPECTED_SKILL_EMA_ALPHA_COEF = 1.4147647277028934; \\/\\/ OPTIMIZE LOG [0.02, 2.0]/' -e 's/^constexpr auto MAX_N_NOT_OPEN_TASKS_IN_QUEUE = .*; \\/\\/ OPTIMIZE \\[60, 100\\]$/constexpr auto MAX_N_NOT_OPEN_TASKS_IN_QUEUE = 91; \\/\\/ OPTIMIZE [60, 100]/' -e 's/^constexpr auto PRIORITY_DAY_OFFSET = .*;          \\/\\/ OPTIMIZE \\[400, 1200\\]$/constexpr auto PRIORITY_DAY_OFFSET = 409;          \\/\\/ OPTIMIZE [400, 1200]/' -e 's/^constexpr auto PRIORITY_COEF = .*;               \\/\\/ OPTIMIZE LOG \\[0\\.002, 2\\.0\\]$/constexpr auto PRIORITY_COEF = 0.012262848990139626;               \\/\\/ OPTIMIZE LOG [0.002, 2.0]/'\n",
      "clang++ 0112_main.cpp -std=gnu++17 -O2 -DONLINE_JUDGE -I/ -o 0112_main.cpp.out\n"
     ]
    },
    {
     "name": "stderr",
     "output_type": "stream",
     "text": [
      "\u001b[32m[I 2021-11-12 23:58:09,451]\u001b[0m Trial 110 finished with value: 1010493.0 and parameters: {'MCMC_Q_L2_NORM_RANGE': 10.267628509229075, 'MCMC_Q_RANGE': 1.0153075845680979, 'EXPECTED_SKILL_EMA_ALPHA_COEF': 0.6045282352156, 'MAX_N_NOT_OPEN_TASKS_IN_QUEUE': 92, 'PRIORITY_DAY_OFFSET': 457, 'PRIORITY_COEF': 0.010745325414938126}. Best is trial 110 with value: 1010493.0.\u001b[0m\n"
     ]
    },
    {
     "name": "stdout",
     "output_type": "stream",
     "text": [
      "Updated! 1010493.0\n",
      "cp: cannot stat '0110_main.cpp': No such file or directory\n",
      "callback ok\n",
      "index_parallel='0113'\n",
      "sed -i 0113_main.cpp -e 's/^constexpr auto MCMC_Q_L2_NORM_RANGE = .*;         \\/\\/ OPTIMIZE LOG \\[2\\.0, 20\\.0\\]$/constexpr auto MCMC_Q_L2_NORM_RANGE = 9.599212860042162;         \\/\\/ OPTIMIZE LOG [2.0, 20.0]/' -e 's/^constexpr auto MCMC_Q_RANGE = .*;                  \\/\\/ OPTIMIZE LOG \\[0\\.2, 10\\.0\\]$/constexpr auto MCMC_Q_RANGE = 0.7242925447197913;                  \\/\\/ OPTIMIZE LOG [0.2, 10.0]/' -e 's/^constexpr auto EXPECTED_SKILL_EMA_ALPHA_COEF = .*; \\/\\/ OPTIMIZE LOG \\[0\\.02, 2\\.0\\]$/constexpr auto EXPECTED_SKILL_EMA_ALPHA_COEF = 0.6569996624442022; \\/\\/ OPTIMIZE LOG [0.02, 2.0]/' -e 's/^constexpr auto MAX_N_NOT_OPEN_TASKS_IN_QUEUE = .*; \\/\\/ OPTIMIZE \\[60, 100\\]$/constexpr auto MAX_N_NOT_OPEN_TASKS_IN_QUEUE = 92; \\/\\/ OPTIMIZE [60, 100]/' -e 's/^constexpr auto PRIORITY_DAY_OFFSET = .*;          \\/\\/ OPTIMIZE \\[400, 1200\\]$/constexpr auto PRIORITY_DAY_OFFSET = 503;          \\/\\/ OPTIMIZE [400, 1200]/' -e 's/^constexpr auto PRIORITY_COEF = .*;               \\/\\/ OPTIMIZE LOG \\[0\\.002, 2\\.0\\]$/constexpr auto PRIORITY_COEF = 0.012748778575900099;               \\/\\/ OPTIMIZE LOG [0.002, 2.0]/'\n",
      "clang++ 0113_main.cpp -std=gnu++17 -O2 -DONLINE_JUDGE -I/ -o 0113_main.cpp.out\n"
     ]
    },
    {
     "name": "stderr",
     "output_type": "stream",
     "text": [
      "\u001b[32m[I 2021-11-13 00:02:06,277]\u001b[0m Trial 111 finished with value: 1007066.0 and parameters: {'MCMC_Q_L2_NORM_RANGE': 10.412478400493198, 'MCMC_Q_RANGE': 0.7341717851287439, 'EXPECTED_SKILL_EMA_ALPHA_COEF': 1.0487269226345899, 'MAX_N_NOT_OPEN_TASKS_IN_QUEUE': 92, 'PRIORITY_DAY_OFFSET': 453, 'PRIORITY_COEF': 0.012774262673563378}. Best is trial 110 with value: 1010493.0.\u001b[0m\n"
     ]
    },
    {
     "name": "stdout",
     "output_type": "stream",
     "text": [
      "callback ok\n",
      "index_parallel='0114'\n",
      "sed -i 0114_main.cpp -e 's/^constexpr auto MCMC_Q_L2_NORM_RANGE = .*;         \\/\\/ OPTIMIZE LOG \\[2\\.0, 20\\.0\\]$/constexpr auto MCMC_Q_L2_NORM_RANGE = 12.4056520911485;         \\/\\/ OPTIMIZE LOG [2.0, 20.0]/' -e 's/^constexpr auto MCMC_Q_RANGE = .*;                  \\/\\/ OPTIMIZE LOG \\[0\\.2, 10\\.0\\]$/constexpr auto MCMC_Q_RANGE = 0.8703302395679934;                  \\/\\/ OPTIMIZE LOG [0.2, 10.0]/' -e 's/^constexpr auto EXPECTED_SKILL_EMA_ALPHA_COEF = .*; \\/\\/ OPTIMIZE LOG \\[0\\.02, 2\\.0\\]$/constexpr auto EXPECTED_SKILL_EMA_ALPHA_COEF = 0.627170088471463; \\/\\/ OPTIMIZE LOG [0.02, 2.0]/' -e 's/^constexpr auto MAX_N_NOT_OPEN_TASKS_IN_QUEUE = .*; \\/\\/ OPTIMIZE \\[60, 100\\]$/constexpr auto MAX_N_NOT_OPEN_TASKS_IN_QUEUE = 92; \\/\\/ OPTIMIZE [60, 100]/' -e 's/^constexpr auto PRIORITY_DAY_OFFSET = .*;          \\/\\/ OPTIMIZE \\[400, 1200\\]$/constexpr auto PRIORITY_DAY_OFFSET = 505;          \\/\\/ OPTIMIZE [400, 1200]/' -e 's/^constexpr auto PRIORITY_COEF = .*;               \\/\\/ OPTIMIZE LOG \\[0\\.002, 2\\.0\\]$/constexpr auto PRIORITY_COEF = 0.011472203549198055;               \\/\\/ OPTIMIZE LOG [0.002, 2.0]/'\n",
      "clang++ 0114_main.cpp -std=gnu++17 -O2 -DONLINE_JUDGE -I/ -o 0114_main.cpp.out\n"
     ]
    },
    {
     "name": "stderr",
     "output_type": "stream",
     "text": [
      "\u001b[32m[I 2021-11-13 00:02:07,490]\u001b[0m Trial 112 finished with value: 1006199.0 and parameters: {'MCMC_Q_L2_NORM_RANGE': 9.710755520749915, 'MCMC_Q_RANGE': 4.601902788536209, 'EXPECTED_SKILL_EMA_ALPHA_COEF': 1.4147647277028934, 'MAX_N_NOT_OPEN_TASKS_IN_QUEUE': 91, 'PRIORITY_DAY_OFFSET': 409, 'PRIORITY_COEF': 0.012262848990139626}. Best is trial 110 with value: 1010493.0.\u001b[0m\n"
     ]
    },
    {
     "name": "stdout",
     "output_type": "stream",
     "text": [
      "callback ok\n",
      "index_parallel='0115'\n",
      "sed -i 0115_main.cpp -e 's/^constexpr auto MCMC_Q_L2_NORM_RANGE = .*;         \\/\\/ OPTIMIZE LOG \\[2\\.0, 20\\.0\\]$/constexpr auto MCMC_Q_L2_NORM_RANGE = 12.405902283827064;         \\/\\/ OPTIMIZE LOG [2.0, 20.0]/' -e 's/^constexpr auto MCMC_Q_RANGE = .*;                  \\/\\/ OPTIMIZE LOG \\[0\\.2, 10\\.0\\]$/constexpr auto MCMC_Q_RANGE = 0.8743615748300911;                  \\/\\/ OPTIMIZE LOG [0.2, 10.0]/' -e 's/^constexpr auto EXPECTED_SKILL_EMA_ALPHA_COEF = .*; \\/\\/ OPTIMIZE LOG \\[0\\.02, 2\\.0\\]$/constexpr auto EXPECTED_SKILL_EMA_ALPHA_COEF = 0.5070831601973379; \\/\\/ OPTIMIZE LOG [0.02, 2.0]/' -e 's/^constexpr auto MAX_N_NOT_OPEN_TASKS_IN_QUEUE = .*; \\/\\/ OPTIMIZE \\[60, 100\\]$/constexpr auto MAX_N_NOT_OPEN_TASKS_IN_QUEUE = 92; \\/\\/ OPTIMIZE [60, 100]/' -e 's/^constexpr auto PRIORITY_DAY_OFFSET = .*;          \\/\\/ OPTIMIZE \\[400, 1200\\]$/constexpr auto PRIORITY_DAY_OFFSET = 500;          \\/\\/ OPTIMIZE [400, 1200]/' -e 's/^constexpr auto PRIORITY_COEF = .*;               \\/\\/ OPTIMIZE LOG \\[0\\.002, 2\\.0\\]$/constexpr auto PRIORITY_COEF = 0.007447589795152975;               \\/\\/ OPTIMIZE LOG [0.002, 2.0]/'\n",
      "clang++ 0115_main.cpp -std=gnu++17 -O2 -DONLINE_JUDGE -I/ -o 0115_main.cpp.out\n"
     ]
    },
    {
     "name": "stderr",
     "output_type": "stream",
     "text": [
      "\u001b[32m[I 2021-11-13 00:02:09,803]\u001b[0m Trial 113 finished with value: 1008420.0 and parameters: {'MCMC_Q_L2_NORM_RANGE': 9.599212860042162, 'MCMC_Q_RANGE': 0.7242925447197913, 'EXPECTED_SKILL_EMA_ALPHA_COEF': 0.6569996624442022, 'MAX_N_NOT_OPEN_TASKS_IN_QUEUE': 92, 'PRIORITY_DAY_OFFSET': 503, 'PRIORITY_COEF': 0.012748778575900099}. Best is trial 110 with value: 1010493.0.\u001b[0m\n"
     ]
    },
    {
     "name": "stdout",
     "output_type": "stream",
     "text": [
      "callback ok\n",
      "index_parallel='0116'\n",
      "sed -i 0116_main.cpp -e 's/^constexpr auto MCMC_Q_L2_NORM_RANGE = .*;         \\/\\/ OPTIMIZE LOG \\[2\\.0, 20\\.0\\]$/constexpr auto MCMC_Q_L2_NORM_RANGE = 12.68139739534701;         \\/\\/ OPTIMIZE LOG [2.0, 20.0]/' -e 's/^constexpr auto MCMC_Q_RANGE = .*;                  \\/\\/ OPTIMIZE LOG \\[0\\.2, 10\\.0\\]$/constexpr auto MCMC_Q_RANGE = 0.9070899647165065;                  \\/\\/ OPTIMIZE LOG [0.2, 10.0]/' -e 's/^constexpr auto EXPECTED_SKILL_EMA_ALPHA_COEF = .*; \\/\\/ OPTIMIZE LOG \\[0\\.02, 2\\.0\\]$/constexpr auto EXPECTED_SKILL_EMA_ALPHA_COEF = 0.5046728982267332; \\/\\/ OPTIMIZE LOG [0.02, 2.0]/' -e 's/^constexpr auto MAX_N_NOT_OPEN_TASKS_IN_QUEUE = .*; \\/\\/ OPTIMIZE \\[60, 100\\]$/constexpr auto MAX_N_NOT_OPEN_TASKS_IN_QUEUE = 96; \\/\\/ OPTIMIZE [60, 100]/' -e 's/^constexpr auto PRIORITY_DAY_OFFSET = .*;          \\/\\/ OPTIMIZE \\[400, 1200\\]$/constexpr auto PRIORITY_DAY_OFFSET = 494;          \\/\\/ OPTIMIZE [400, 1200]/' -e 's/^constexpr auto PRIORITY_COEF = .*;               \\/\\/ OPTIMIZE LOG \\[0\\.002, 2\\.0\\]$/constexpr auto PRIORITY_COEF = 0.010974899568847738;               \\/\\/ OPTIMIZE LOG [0.002, 2.0]/'\n",
      "clang++ 0116_main.cpp -std=gnu++17 -O2 -DONLINE_JUDGE -I/ -o 0116_main.cpp.out\n"
     ]
    },
    {
     "name": "stderr",
     "output_type": "stream",
     "text": [
      "\u001b[32m[I 2021-11-13 00:06:05,801]\u001b[0m Trial 114 finished with value: 1007960.0 and parameters: {'MCMC_Q_L2_NORM_RANGE': 12.4056520911485, 'MCMC_Q_RANGE': 0.8703302395679934, 'EXPECTED_SKILL_EMA_ALPHA_COEF': 0.627170088471463, 'MAX_N_NOT_OPEN_TASKS_IN_QUEUE': 92, 'PRIORITY_DAY_OFFSET': 505, 'PRIORITY_COEF': 0.011472203549198055}. Best is trial 110 with value: 1010493.0.\u001b[0m\n"
     ]
    },
    {
     "name": "stdout",
     "output_type": "stream",
     "text": [
      "callback ok\n",
      "index_parallel='0117'\n",
      "sed -i 0117_main.cpp -e 's/^constexpr auto MCMC_Q_L2_NORM_RANGE = .*;         \\/\\/ OPTIMIZE LOG \\[2\\.0, 20\\.0\\]$/constexpr auto MCMC_Q_L2_NORM_RANGE = 11.615970160735161;         \\/\\/ OPTIMIZE LOG [2.0, 20.0]/' -e 's/^constexpr auto MCMC_Q_RANGE = .*;                  \\/\\/ OPTIMIZE LOG \\[0\\.2, 10\\.0\\]$/constexpr auto MCMC_Q_RANGE = 1.1153996248888003;                  \\/\\/ OPTIMIZE LOG [0.2, 10.0]/' -e 's/^constexpr auto EXPECTED_SKILL_EMA_ALPHA_COEF = .*; \\/\\/ OPTIMIZE LOG \\[0\\.02, 2\\.0\\]$/constexpr auto EXPECTED_SKILL_EMA_ALPHA_COEF = 0.7916404076085264; \\/\\/ OPTIMIZE LOG [0.02, 2.0]/' -e 's/^constexpr auto MAX_N_NOT_OPEN_TASKS_IN_QUEUE = .*; \\/\\/ OPTIMIZE \\[60, 100\\]$/constexpr auto MAX_N_NOT_OPEN_TASKS_IN_QUEUE = 96; \\/\\/ OPTIMIZE [60, 100]/' -e 's/^constexpr auto PRIORITY_DAY_OFFSET = .*;          \\/\\/ OPTIMIZE \\[400, 1200\\]$/constexpr auto PRIORITY_DAY_OFFSET = 413;          \\/\\/ OPTIMIZE [400, 1200]/' -e 's/^constexpr auto PRIORITY_COEF = .*;               \\/\\/ OPTIMIZE LOG \\[0\\.002, 2\\.0\\]$/constexpr auto PRIORITY_COEF = 0.007021932553570547;               \\/\\/ OPTIMIZE LOG [0.002, 2.0]/'\n",
      "clang++ 0117_main.cpp -std=gnu++17 -O2 -DONLINE_JUDGE -I/ -o 0117_main.cpp.out\n"
     ]
    },
    {
     "name": "stderr",
     "output_type": "stream",
     "text": [
      "\u001b[32m[I 2021-11-13 00:06:06,704]\u001b[0m Trial 115 finished with value: 1008774.0 and parameters: {'MCMC_Q_L2_NORM_RANGE': 12.405902283827064, 'MCMC_Q_RANGE': 0.8743615748300911, 'EXPECTED_SKILL_EMA_ALPHA_COEF': 0.5070831601973379, 'MAX_N_NOT_OPEN_TASKS_IN_QUEUE': 92, 'PRIORITY_DAY_OFFSET': 500, 'PRIORITY_COEF': 0.007447589795152975}. Best is trial 110 with value: 1010493.0.\u001b[0m\n"
     ]
    },
    {
     "name": "stdout",
     "output_type": "stream",
     "text": [
      "callback ok\n",
      "index_parallel='0118'\n",
      "sed -i 0118_main.cpp -e 's/^constexpr auto MCMC_Q_L2_NORM_RANGE = .*;         \\/\\/ OPTIMIZE LOG \\[2\\.0, 20\\.0\\]$/constexpr auto MCMC_Q_L2_NORM_RANGE = 13.540626978493277;         \\/\\/ OPTIMIZE LOG [2.0, 20.0]/' -e 's/^constexpr auto MCMC_Q_RANGE = .*;                  \\/\\/ OPTIMIZE LOG \\[0\\.2, 10\\.0\\]$/constexpr auto MCMC_Q_RANGE = 1.265713109380525;                  \\/\\/ OPTIMIZE LOG [0.2, 10.0]/' -e 's/^constexpr auto EXPECTED_SKILL_EMA_ALPHA_COEF = .*; \\/\\/ OPTIMIZE LOG \\[0\\.02, 2\\.0\\]$/constexpr auto EXPECTED_SKILL_EMA_ALPHA_COEF = 0.7825677845862578; \\/\\/ OPTIMIZE LOG [0.02, 2.0]/' -e 's/^constexpr auto MAX_N_NOT_OPEN_TASKS_IN_QUEUE = .*; \\/\\/ OPTIMIZE \\[60, 100\\]$/constexpr auto MAX_N_NOT_OPEN_TASKS_IN_QUEUE = 96; \\/\\/ OPTIMIZE [60, 100]/' -e 's/^constexpr auto PRIORITY_DAY_OFFSET = .*;          \\/\\/ OPTIMIZE \\[400, 1200\\]$/constexpr auto PRIORITY_DAY_OFFSET = 479;          \\/\\/ OPTIMIZE [400, 1200]/' -e 's/^constexpr auto PRIORITY_COEF = .*;               \\/\\/ OPTIMIZE LOG \\[0\\.002, 2\\.0\\]$/constexpr auto PRIORITY_COEF = 0.00562695831542237;               \\/\\/ OPTIMIZE LOG [0.002, 2.0]/'\n",
      "clang++ 0118_main.cpp -std=gnu++17 -O2 -DONLINE_JUDGE -I/ -o 0118_main.cpp.out\n"
     ]
    },
    {
     "name": "stderr",
     "output_type": "stream",
     "text": [
      "\u001b[32m[I 2021-11-13 00:06:08,879]\u001b[0m Trial 116 finished with value: 1006693.0 and parameters: {'MCMC_Q_L2_NORM_RANGE': 12.68139739534701, 'MCMC_Q_RANGE': 0.9070899647165065, 'EXPECTED_SKILL_EMA_ALPHA_COEF': 0.5046728982267332, 'MAX_N_NOT_OPEN_TASKS_IN_QUEUE': 96, 'PRIORITY_DAY_OFFSET': 494, 'PRIORITY_COEF': 0.010974899568847738}. Best is trial 110 with value: 1010493.0.\u001b[0m\n"
     ]
    },
    {
     "name": "stdout",
     "output_type": "stream",
     "text": [
      "callback ok\n",
      "index_parallel='0119'\n",
      "sed -i 0119_main.cpp -e 's/^constexpr auto MCMC_Q_L2_NORM_RANGE = .*;         \\/\\/ OPTIMIZE LOG \\[2\\.0, 20\\.0\\]$/constexpr auto MCMC_Q_L2_NORM_RANGE = 10.96207460361121;         \\/\\/ OPTIMIZE LOG [2.0, 20.0]/' -e 's/^constexpr auto MCMC_Q_RANGE = .*;                  \\/\\/ OPTIMIZE LOG \\[0\\.2, 10\\.0\\]$/constexpr auto MCMC_Q_RANGE = 1.0857277529273666;                  \\/\\/ OPTIMIZE LOG [0.2, 10.0]/' -e 's/^constexpr auto EXPECTED_SKILL_EMA_ALPHA_COEF = .*; \\/\\/ OPTIMIZE LOG \\[0\\.02, 2\\.0\\]$/constexpr auto EXPECTED_SKILL_EMA_ALPHA_COEF = 0.8073737391951882; \\/\\/ OPTIMIZE LOG [0.02, 2.0]/' -e 's/^constexpr auto MAX_N_NOT_OPEN_TASKS_IN_QUEUE = .*; \\/\\/ OPTIMIZE \\[60, 100\\]$/constexpr auto MAX_N_NOT_OPEN_TASKS_IN_QUEUE = 95; \\/\\/ OPTIMIZE [60, 100]/' -e 's/^constexpr auto PRIORITY_DAY_OFFSET = .*;          \\/\\/ OPTIMIZE \\[400, 1200\\]$/constexpr auto PRIORITY_DAY_OFFSET = 455;          \\/\\/ OPTIMIZE [400, 1200]/' -e 's/^constexpr auto PRIORITY_COEF = .*;               \\/\\/ OPTIMIZE LOG \\[0\\.002, 2\\.0\\]$/constexpr auto PRIORITY_COEF = 0.005681058075178939;               \\/\\/ OPTIMIZE LOG [0.002, 2.0]/'\n",
      "clang++ 0119_main.cpp -std=gnu++17 -O2 -DONLINE_JUDGE -I/ -o 0119_main.cpp.out\n"
     ]
    },
    {
     "name": "stderr",
     "output_type": "stream",
     "text": [
      "\u001b[32m[I 2021-11-13 00:10:04,962]\u001b[0m Trial 117 finished with value: 1007893.0 and parameters: {'MCMC_Q_L2_NORM_RANGE': 11.615970160735161, 'MCMC_Q_RANGE': 1.1153996248888003, 'EXPECTED_SKILL_EMA_ALPHA_COEF': 0.7916404076085264, 'MAX_N_NOT_OPEN_TASKS_IN_QUEUE': 96, 'PRIORITY_DAY_OFFSET': 413, 'PRIORITY_COEF': 0.007021932553570547}. Best is trial 110 with value: 1010493.0.\u001b[0m\n"
     ]
    },
    {
     "name": "stdout",
     "output_type": "stream",
     "text": [
      "callback ok\n",
      "index_parallel='0120'\n",
      "sed -i 0120_main.cpp -e 's/^constexpr auto MCMC_Q_L2_NORM_RANGE = .*;         \\/\\/ OPTIMIZE LOG \\[2\\.0, 20\\.0\\]$/constexpr auto MCMC_Q_L2_NORM_RANGE = 13.319541355665;         \\/\\/ OPTIMIZE LOG [2.0, 20.0]/' -e 's/^constexpr auto MCMC_Q_RANGE = .*;                  \\/\\/ OPTIMIZE LOG \\[0\\.2, 10\\.0\\]$/constexpr auto MCMC_Q_RANGE = 7.729751174367987;                  \\/\\/ OPTIMIZE LOG [0.2, 10.0]/' -e 's/^constexpr auto EXPECTED_SKILL_EMA_ALPHA_COEF = .*; \\/\\/ OPTIMIZE LOG \\[0\\.02, 2\\.0\\]$/constexpr auto EXPECTED_SKILL_EMA_ALPHA_COEF = 0.43853139234694394; \\/\\/ OPTIMIZE LOG [0.02, 2.0]/' -e 's/^constexpr auto MAX_N_NOT_OPEN_TASKS_IN_QUEUE = .*; \\/\\/ OPTIMIZE \\[60, 100\\]$/constexpr auto MAX_N_NOT_OPEN_TASKS_IN_QUEUE = 95; \\/\\/ OPTIMIZE [60, 100]/' -e 's/^constexpr auto PRIORITY_DAY_OFFSET = .*;          \\/\\/ OPTIMIZE \\[400, 1200\\]$/constexpr auto PRIORITY_DAY_OFFSET = 475;          \\/\\/ OPTIMIZE [400, 1200]/' -e 's/^constexpr auto PRIORITY_COEF = .*;               \\/\\/ OPTIMIZE LOG \\[0\\.002, 2\\.0\\]$/constexpr auto PRIORITY_COEF = 0.009312535858958299;               \\/\\/ OPTIMIZE LOG [0.002, 2.0]/'\n",
      "clang++ 0120_main.cpp -std=gnu++17 -O2 -DONLINE_JUDGE -I/ -o 0120_main.cpp.out\n"
     ]
    },
    {
     "name": "stderr",
     "output_type": "stream",
     "text": [
      "\u001b[32m[I 2021-11-13 00:10:05,954]\u001b[0m Trial 118 finished with value: 1008200.0 and parameters: {'MCMC_Q_L2_NORM_RANGE': 13.540626978493277, 'MCMC_Q_RANGE': 1.265713109380525, 'EXPECTED_SKILL_EMA_ALPHA_COEF': 0.7825677845862578, 'MAX_N_NOT_OPEN_TASKS_IN_QUEUE': 96, 'PRIORITY_DAY_OFFSET': 479, 'PRIORITY_COEF': 0.00562695831542237}. Best is trial 110 with value: 1010493.0.\u001b[0m\n"
     ]
    },
    {
     "name": "stdout",
     "output_type": "stream",
     "text": [
      "callback ok\n",
      "index_parallel='0121'\n",
      "sed -i 0121_main.cpp -e 's/^constexpr auto MCMC_Q_L2_NORM_RANGE = .*;         \\/\\/ OPTIMIZE LOG \\[2\\.0, 20\\.0\\]$/constexpr auto MCMC_Q_L2_NORM_RANGE = 8.54680250818436;         \\/\\/ OPTIMIZE LOG [2.0, 20.0]/' -e 's/^constexpr auto MCMC_Q_RANGE = .*;                  \\/\\/ OPTIMIZE LOG \\[0\\.2, 10\\.0\\]$/constexpr auto MCMC_Q_RANGE = 2.0627378814887716;                  \\/\\/ OPTIMIZE LOG [0.2, 10.0]/' -e 's/^constexpr auto EXPECTED_SKILL_EMA_ALPHA_COEF = .*; \\/\\/ OPTIMIZE LOG \\[0\\.02, 2\\.0\\]$/constexpr auto EXPECTED_SKILL_EMA_ALPHA_COEF = 0.451191926223782; \\/\\/ OPTIMIZE LOG [0.02, 2.0]/' -e 's/^constexpr auto MAX_N_NOT_OPEN_TASKS_IN_QUEUE = .*; \\/\\/ OPTIMIZE \\[60, 100\\]$/constexpr auto MAX_N_NOT_OPEN_TASKS_IN_QUEUE = 95; \\/\\/ OPTIMIZE [60, 100]/' -e 's/^constexpr auto PRIORITY_DAY_OFFSET = .*;          \\/\\/ OPTIMIZE \\[400, 1200\\]$/constexpr auto PRIORITY_DAY_OFFSET = 449;          \\/\\/ OPTIMIZE [400, 1200]/' -e 's/^constexpr auto PRIORITY_COEF = .*;               \\/\\/ OPTIMIZE LOG \\[0\\.002, 2\\.0\\]$/constexpr auto PRIORITY_COEF = 0.02384452640863982;               \\/\\/ OPTIMIZE LOG [0.002, 2.0]/'\n",
      "clang++ 0121_main.cpp -std=gnu++17 -O2 -DONLINE_JUDGE -I/ -o 0121_main.cpp.out\n"
     ]
    },
    {
     "name": "stderr",
     "output_type": "stream",
     "text": [
      "\u001b[32m[I 2021-11-13 00:10:07,962]\u001b[0m Trial 119 finished with value: 1009711.0 and parameters: {'MCMC_Q_L2_NORM_RANGE': 10.96207460361121, 'MCMC_Q_RANGE': 1.0857277529273666, 'EXPECTED_SKILL_EMA_ALPHA_COEF': 0.8073737391951882, 'MAX_N_NOT_OPEN_TASKS_IN_QUEUE': 95, 'PRIORITY_DAY_OFFSET': 455, 'PRIORITY_COEF': 0.005681058075178939}. Best is trial 110 with value: 1010493.0.\u001b[0m\n"
     ]
    },
    {
     "name": "stdout",
     "output_type": "stream",
     "text": [
      "callback ok\n",
      "index_parallel='0122'\n",
      "sed -i 0122_main.cpp -e 's/^constexpr auto MCMC_Q_L2_NORM_RANGE = .*;         \\/\\/ OPTIMIZE LOG \\[2\\.0, 20\\.0\\]$/constexpr auto MCMC_Q_L2_NORM_RANGE = 9.226332880568927;         \\/\\/ OPTIMIZE LOG [2.0, 20.0]/' -e 's/^constexpr auto MCMC_Q_RANGE = .*;                  \\/\\/ OPTIMIZE LOG \\[0\\.2, 10\\.0\\]$/constexpr auto MCMC_Q_RANGE = 1.4914719796669451;                  \\/\\/ OPTIMIZE LOG [0.2, 10.0]/' -e 's/^constexpr auto EXPECTED_SKILL_EMA_ALPHA_COEF = .*; \\/\\/ OPTIMIZE LOG \\[0\\.02, 2\\.0\\]$/constexpr auto EXPECTED_SKILL_EMA_ALPHA_COEF = 0.22598173318145634; \\/\\/ OPTIMIZE LOG [0.02, 2.0]/' -e 's/^constexpr auto MAX_N_NOT_OPEN_TASKS_IN_QUEUE = .*; \\/\\/ OPTIMIZE \\[60, 100\\]$/constexpr auto MAX_N_NOT_OPEN_TASKS_IN_QUEUE = 93; \\/\\/ OPTIMIZE [60, 100]/' -e 's/^constexpr auto PRIORITY_DAY_OFFSET = .*;          \\/\\/ OPTIMIZE \\[400, 1200\\]$/constexpr auto PRIORITY_DAY_OFFSET = 461;          \\/\\/ OPTIMIZE [400, 1200]/' -e 's/^constexpr auto PRIORITY_COEF = .*;               \\/\\/ OPTIMIZE LOG \\[0\\.002, 2\\.0\\]$/constexpr auto PRIORITY_COEF = 0.005890622789690714;               \\/\\/ OPTIMIZE LOG [0.002, 2.0]/'\n",
      "clang++ 0122_main.cpp -std=gnu++17 -O2 -DONLINE_JUDGE -I/ -o 0122_main.cpp.out\n"
     ]
    },
    {
     "name": "stderr",
     "output_type": "stream",
     "text": [
      "\u001b[32m[I 2021-11-13 00:14:04,455]\u001b[0m Trial 121 finished with value: 1008713.0 and parameters: {'MCMC_Q_L2_NORM_RANGE': 8.54680250818436, 'MCMC_Q_RANGE': 2.0627378814887716, 'EXPECTED_SKILL_EMA_ALPHA_COEF': 0.451191926223782, 'MAX_N_NOT_OPEN_TASKS_IN_QUEUE': 95, 'PRIORITY_DAY_OFFSET': 449, 'PRIORITY_COEF': 0.02384452640863982}. Best is trial 110 with value: 1010493.0.\u001b[0m\n"
     ]
    },
    {
     "name": "stdout",
     "output_type": "stream",
     "text": [
      "callback ok\n",
      "index_parallel='0123'\n"
     ]
    },
    {
     "name": "stderr",
     "output_type": "stream",
     "text": [
      "\u001b[32m[I 2021-11-13 00:14:04,596]\u001b[0m Trial 120 finished with value: 1007387.0 and parameters: {'MCMC_Q_L2_NORM_RANGE': 13.319541355665, 'MCMC_Q_RANGE': 7.729751174367987, 'EXPECTED_SKILL_EMA_ALPHA_COEF': 0.43853139234694394, 'MAX_N_NOT_OPEN_TASKS_IN_QUEUE': 95, 'PRIORITY_DAY_OFFSET': 475, 'PRIORITY_COEF': 0.009312535858958299}. Best is trial 110 with value: 1010493.0.\u001b[0m\n"
     ]
    },
    {
     "name": "stdout",
     "output_type": "stream",
     "text": [
      "callback ok\n",
      "index_parallel='0124'\n",
      "sed -i 0123_main.cpp -e 's/^constexpr auto MCMC_Q_L2_NORM_RANGE = .*;         \\/\\/ OPTIMIZE LOG \\[2\\.0, 20\\.0\\]$/constexpr auto MCMC_Q_L2_NORM_RANGE = 11.031350265396954;         \\/\\/ OPTIMIZE LOG [2.0, 20.0]/' -e 's/^constexpr auto MCMC_Q_RANGE = .*;                  \\/\\/ OPTIMIZE LOG \\[0\\.2, 10\\.0\\]$/constexpr auto MCMC_Q_RANGE = 0.9901924253692361;                  \\/\\/ OPTIMIZE LOG [0.2, 10.0]/' -e 's/^constexpr auto EXPECTED_SKILL_EMA_ALPHA_COEF = .*; \\/\\/ OPTIMIZE LOG \\[0\\.02, 2\\.0\\]$/constexpr auto EXPECTED_SKILL_EMA_ALPHA_COEF = 0.847710014263296; \\/\\/ OPTIMIZE LOG [0.02, 2.0]/' -e 's/^constexpr auto MAX_N_NOT_OPEN_TASKS_IN_QUEUE = .*; \\/\\/ OPTIMIZE \\[60, 100\\]$/constexpr auto MAX_N_NOT_OPEN_TASKS_IN_QUEUE = 93; \\/\\/ OPTIMIZE [60, 100]/' -e 's/^constexpr auto PRIORITY_DAY_OFFSET = .*;          \\/\\/ OPTIMIZE \\[400, 1200\\]$/constexpr auto PRIORITY_DAY_OFFSET = 434;          \\/\\/ OPTIMIZE [400, 1200]/' -e 's/^constexpr auto PRIORITY_COEF = .*;               \\/\\/ OPTIMIZE LOG \\[0\\.002, 2\\.0\\]$/constexpr auto PRIORITY_COEF = 0.017526377439829093;               \\/\\/ OPTIMIZE LOG [0.002, 2.0]/'\n",
      "clang++ 0123_main.cpp -std=gnu++17 -O2 -DONLINE_JUDGE -I/ -o 0123_main.cpp.out\n",
      "sed -i 0124_main.cpp -e 's/^constexpr auto MCMC_Q_L2_NORM_RANGE = .*;         \\/\\/ OPTIMIZE LOG \\[2\\.0, 20\\.0\\]$/constexpr auto MCMC_Q_L2_NORM_RANGE = 11.182316193304878;         \\/\\/ OPTIMIZE LOG [2.0, 20.0]/' -e 's/^constexpr auto MCMC_Q_RANGE = .*;                  \\/\\/ OPTIMIZE LOG \\[0\\.2, 10\\.0\\]$/constexpr auto MCMC_Q_RANGE = 1.4599024437781323;                  \\/\\/ OPTIMIZE LOG [0.2, 10.0]/' -e 's/^constexpr auto EXPECTED_SKILL_EMA_ALPHA_COEF = .*; \\/\\/ OPTIMIZE LOG \\[0\\.02, 2\\.0\\]$/constexpr auto EXPECTED_SKILL_EMA_ALPHA_COEF = 0.2805608943459113; \\/\\/ OPTIMIZE LOG [0.02, 2.0]/' -e 's/^constexpr auto MAX_N_NOT_OPEN_TASKS_IN_QUEUE = .*; \\/\\/ OPTIMIZE \\[60, 100\\]$/constexpr auto MAX_N_NOT_OPEN_TASKS_IN_QUEUE = 93; \\/\\/ OPTIMIZE [60, 100]/' -e 's/^constexpr auto PRIORITY_DAY_OFFSET = .*;          \\/\\/ OPTIMIZE \\[400, 1200\\]$/constexpr auto PRIORITY_DAY_OFFSET = 433;          \\/\\/ OPTIMIZE [400, 1200]/' -e 's/^constexpr auto PRIORITY_COEF = .*;               \\/\\/ OPTIMIZE LOG \\[0\\.002, 2\\.0\\]$/constexpr auto PRIORITY_COEF = 0.008404647561992325;               \\/\\/ OPTIMIZE LOG [0.002, 2.0]/'\n",
      "clang++ 0124_main.cpp -std=gnu++17 -O2 -DONLINE_JUDGE -I/ -o 0124_main.cpp.out\n"
     ]
    },
    {
     "name": "stderr",
     "output_type": "stream",
     "text": [
      "\u001b[32m[I 2021-11-13 00:14:05,876]\u001b[0m Trial 122 finished with value: 1006455.0 and parameters: {'MCMC_Q_L2_NORM_RANGE': 9.226332880568927, 'MCMC_Q_RANGE': 1.4914719796669451, 'EXPECTED_SKILL_EMA_ALPHA_COEF': 0.22598173318145634, 'MAX_N_NOT_OPEN_TASKS_IN_QUEUE': 93, 'PRIORITY_DAY_OFFSET': 461, 'PRIORITY_COEF': 0.005890622789690714}. Best is trial 110 with value: 1010493.0.\u001b[0m\n"
     ]
    },
    {
     "name": "stdout",
     "output_type": "stream",
     "text": [
      "callback ok\n",
      "index_parallel='0125'\n",
      "sed -i 0125_main.cpp -e 's/^constexpr auto MCMC_Q_L2_NORM_RANGE = .*;         \\/\\/ OPTIMIZE LOG \\[2\\.0, 20\\.0\\]$/constexpr auto MCMC_Q_L2_NORM_RANGE = 11.026352853626102;         \\/\\/ OPTIMIZE LOG [2.0, 20.0]/' -e 's/^constexpr auto MCMC_Q_RANGE = .*;                  \\/\\/ OPTIMIZE LOG \\[0\\.2, 10\\.0\\]$/constexpr auto MCMC_Q_RANGE = 0.9980190178767282;                  \\/\\/ OPTIMIZE LOG [0.2, 10.0]/' -e 's/^constexpr auto EXPECTED_SKILL_EMA_ALPHA_COEF = .*; \\/\\/ OPTIMIZE LOG \\[0\\.02, 2\\.0\\]$/constexpr auto EXPECTED_SKILL_EMA_ALPHA_COEF = 0.6681102323647202; \\/\\/ OPTIMIZE LOG [0.02, 2.0]/' -e 's/^constexpr auto MAX_N_NOT_OPEN_TASKS_IN_QUEUE = .*; \\/\\/ OPTIMIZE \\[60, 100\\]$/constexpr auto MAX_N_NOT_OPEN_TASKS_IN_QUEUE = 97; \\/\\/ OPTIMIZE [60, 100]/' -e 's/^constexpr auto PRIORITY_DAY_OFFSET = .*;          \\/\\/ OPTIMIZE \\[400, 1200\\]$/constexpr auto PRIORITY_DAY_OFFSET = 442;          \\/\\/ OPTIMIZE [400, 1200]/' -e 's/^constexpr auto PRIORITY_COEF = .*;               \\/\\/ OPTIMIZE LOG \\[0\\.002, 2\\.0\\]$/constexpr auto PRIORITY_COEF = 0.017214439808015264;               \\/\\/ OPTIMIZE LOG [0.002, 2.0]/'\n",
      "clang++ 0125_main.cpp -std=gnu++17 -O2 -DONLINE_JUDGE -I/ -o 0125_main.cpp.out\n"
     ]
    },
    {
     "name": "stderr",
     "output_type": "stream",
     "text": [
      "\u001b[32m[I 2021-11-13 00:18:03,635]\u001b[0m Trial 124 finished with value: 1008174.0 and parameters: {'MCMC_Q_L2_NORM_RANGE': 11.182316193304878, 'MCMC_Q_RANGE': 1.4599024437781323, 'EXPECTED_SKILL_EMA_ALPHA_COEF': 0.2805608943459113, 'MAX_N_NOT_OPEN_TASKS_IN_QUEUE': 93, 'PRIORITY_DAY_OFFSET': 433, 'PRIORITY_COEF': 0.008404647561992325}. Best is trial 110 with value: 1010493.0.\u001b[0m\n"
     ]
    },
    {
     "name": "stdout",
     "output_type": "stream",
     "text": [
      "callback ok\n",
      "index_parallel='0126'\n",
      "sed -i 0126_main.cpp -e 's/^constexpr auto MCMC_Q_L2_NORM_RANGE = .*;         \\/\\/ OPTIMIZE LOG \\[2\\.0, 20\\.0\\]$/constexpr auto MCMC_Q_L2_NORM_RANGE = 10.01915336093696;         \\/\\/ OPTIMIZE LOG [2.0, 20.0]/' -e 's/^constexpr auto MCMC_Q_RANGE = .*;                  \\/\\/ OPTIMIZE LOG \\[0\\.2, 10\\.0\\]$/constexpr auto MCMC_Q_RANGE = 1.0014484283998664;                  \\/\\/ OPTIMIZE LOG [0.2, 10.0]/' -e 's/^constexpr auto EXPECTED_SKILL_EMA_ALPHA_COEF = .*; \\/\\/ OPTIMIZE LOG \\[0\\.02, 2\\.0\\]$/constexpr auto EXPECTED_SKILL_EMA_ALPHA_COEF = 0.6771147302991981; \\/\\/ OPTIMIZE LOG [0.02, 2.0]/' -e 's/^constexpr auto MAX_N_NOT_OPEN_TASKS_IN_QUEUE = .*; \\/\\/ OPTIMIZE \\[60, 100\\]$/constexpr auto MAX_N_NOT_OPEN_TASKS_IN_QUEUE = 98; \\/\\/ OPTIMIZE [60, 100]/' -e 's/^constexpr auto PRIORITY_DAY_OFFSET = .*;          \\/\\/ OPTIMIZE \\[400, 1200\\]$/constexpr auto PRIORITY_DAY_OFFSET = 400;          \\/\\/ OPTIMIZE [400, 1200]/' -e 's/^constexpr auto PRIORITY_COEF = .*;               \\/\\/ OPTIMIZE LOG \\[0\\.002, 2\\.0\\]$/constexpr auto PRIORITY_COEF = 0.017708577464390553;               \\/\\/ OPTIMIZE LOG [0.002, 2.0]/'\n",
      "clang++ 0126_main.cpp -std=gnu++17 -O2 -DONLINE_JUDGE -I/ -o 0126_main.cpp.out\n"
     ]
    },
    {
     "name": "stderr",
     "output_type": "stream",
     "text": [
      "\u001b[32m[I 2021-11-13 00:18:04,553]\u001b[0m Trial 123 finished with value: 1008523.0 and parameters: {'MCMC_Q_L2_NORM_RANGE': 11.031350265396954, 'MCMC_Q_RANGE': 0.9901924253692361, 'EXPECTED_SKILL_EMA_ALPHA_COEF': 0.847710014263296, 'MAX_N_NOT_OPEN_TASKS_IN_QUEUE': 93, 'PRIORITY_DAY_OFFSET': 434, 'PRIORITY_COEF': 0.017526377439829093}. Best is trial 110 with value: 1010493.0.\u001b[0m\n"
     ]
    },
    {
     "name": "stdout",
     "output_type": "stream",
     "text": [
      "callback ok\n",
      "index_parallel='0127'\n",
      "sed -i 0127_main.cpp -e 's/^constexpr auto MCMC_Q_L2_NORM_RANGE = .*;         \\/\\/ OPTIMIZE LOG \\[2\\.0, 20\\.0\\]$/constexpr auto MCMC_Q_L2_NORM_RANGE = 10.768583533255155;         \\/\\/ OPTIMIZE LOG [2.0, 20.0]/' -e 's/^constexpr auto MCMC_Q_RANGE = .*;                  \\/\\/ OPTIMIZE LOG \\[0\\.2, 10\\.0\\]$/constexpr auto MCMC_Q_RANGE = 1.3297849884234152;                  \\/\\/ OPTIMIZE LOG [0.2, 10.0]/' -e 's/^constexpr auto EXPECTED_SKILL_EMA_ALPHA_COEF = .*; \\/\\/ OPTIMIZE LOG \\[0\\.02, 2\\.0\\]$/constexpr auto EXPECTED_SKILL_EMA_ALPHA_COEF = 0.9700767991576147; \\/\\/ OPTIMIZE LOG [0.02, 2.0]/' -e 's/^constexpr auto MAX_N_NOT_OPEN_TASKS_IN_QUEUE = .*; \\/\\/ OPTIMIZE \\[60, 100\\]$/constexpr auto MAX_N_NOT_OPEN_TASKS_IN_QUEUE = 98; \\/\\/ OPTIMIZE [60, 100]/' -e 's/^constexpr auto PRIORITY_DAY_OFFSET = .*;          \\/\\/ OPTIMIZE \\[400, 1200\\]$/constexpr auto PRIORITY_DAY_OFFSET = 402;          \\/\\/ OPTIMIZE [400, 1200]/' -e 's/^constexpr auto PRIORITY_COEF = .*;               \\/\\/ OPTIMIZE LOG \\[0\\.002, 2\\.0\\]$/constexpr auto PRIORITY_COEF = 0.0038006892744331423;               \\/\\/ OPTIMIZE LOG [0.002, 2.0]/'\n",
      "clang++ 0127_main.cpp -std=gnu++17 -O2 -DONLINE_JUDGE -I/ -o 0127_main.cpp.out\n"
     ]
    },
    {
     "name": "stderr",
     "output_type": "stream",
     "text": [
      "\u001b[32m[I 2021-11-13 00:18:06,282]\u001b[0m Trial 125 finished with value: 1006325.0 and parameters: {'MCMC_Q_L2_NORM_RANGE': 11.026352853626102, 'MCMC_Q_RANGE': 0.9980190178767282, 'EXPECTED_SKILL_EMA_ALPHA_COEF': 0.6681102323647202, 'MAX_N_NOT_OPEN_TASKS_IN_QUEUE': 97, 'PRIORITY_DAY_OFFSET': 442, 'PRIORITY_COEF': 0.017214439808015264}. Best is trial 110 with value: 1010493.0.\u001b[0m\n"
     ]
    },
    {
     "name": "stdout",
     "output_type": "stream",
     "text": [
      "callback ok\n",
      "index_parallel='0128'\n",
      "sed -i 0128_main.cpp -e 's/^constexpr auto MCMC_Q_L2_NORM_RANGE = .*;         \\/\\/ OPTIMIZE LOG \\[2\\.0, 20\\.0\\]$/constexpr auto MCMC_Q_L2_NORM_RANGE = 8.205602099929674;         \\/\\/ OPTIMIZE LOG [2.0, 20.0]/' -e 's/^constexpr auto MCMC_Q_RANGE = .*;                  \\/\\/ OPTIMIZE LOG \\[0\\.2, 10\\.0\\]$/constexpr auto MCMC_Q_RANGE = 1.2135036260049132;                  \\/\\/ OPTIMIZE LOG [0.2, 10.0]/' -e 's/^constexpr auto EXPECTED_SKILL_EMA_ALPHA_COEF = .*; \\/\\/ OPTIMIZE LOG \\[0\\.02, 2\\.0\\]$/constexpr auto EXPECTED_SKILL_EMA_ALPHA_COEF = 0.6118639048636535; \\/\\/ OPTIMIZE LOG [0.02, 2.0]/' -e 's/^constexpr auto MAX_N_NOT_OPEN_TASKS_IN_QUEUE = .*; \\/\\/ OPTIMIZE \\[60, 100\\]$/constexpr auto MAX_N_NOT_OPEN_TASKS_IN_QUEUE = 89; \\/\\/ OPTIMIZE [60, 100]/' -e 's/^constexpr auto PRIORITY_DAY_OFFSET = .*;          \\/\\/ OPTIMIZE \\[400, 1200\\]$/constexpr auto PRIORITY_DAY_OFFSET = 401;          \\/\\/ OPTIMIZE [400, 1200]/' -e 's/^constexpr auto PRIORITY_COEF = .*;               \\/\\/ OPTIMIZE LOG \\[0\\.002, 2\\.0\\]$/constexpr auto PRIORITY_COEF = 0.008007936770928576;               \\/\\/ OPTIMIZE LOG [0.002, 2.0]/'\n",
      "clang++ 0128_main.cpp -std=gnu++17 -O2 -DONLINE_JUDGE -I/ -o 0128_main.cpp.out\n"
     ]
    },
    {
     "name": "stderr",
     "output_type": "stream",
     "text": [
      "\u001b[32m[I 2021-11-13 00:22:03,455]\u001b[0m Trial 126 finished with value: 1009053.0 and parameters: {'MCMC_Q_L2_NORM_RANGE': 10.01915336093696, 'MCMC_Q_RANGE': 1.0014484283998664, 'EXPECTED_SKILL_EMA_ALPHA_COEF': 0.6771147302991981, 'MAX_N_NOT_OPEN_TASKS_IN_QUEUE': 98, 'PRIORITY_DAY_OFFSET': 400, 'PRIORITY_COEF': 0.017708577464390553}. Best is trial 110 with value: 1010493.0.\u001b[0m\n"
     ]
    },
    {
     "name": "stdout",
     "output_type": "stream",
     "text": [
      "callback ok\n",
      "index_parallel='0129'\n"
     ]
    },
    {
     "name": "stderr",
     "output_type": "stream",
     "text": [
      "\u001b[32m[I 2021-11-13 00:22:03,708]\u001b[0m Trial 127 finished with value: 1007192.0 and parameters: {'MCMC_Q_L2_NORM_RANGE': 10.768583533255155, 'MCMC_Q_RANGE': 1.3297849884234152, 'EXPECTED_SKILL_EMA_ALPHA_COEF': 0.9700767991576147, 'MAX_N_NOT_OPEN_TASKS_IN_QUEUE': 98, 'PRIORITY_DAY_OFFSET': 402, 'PRIORITY_COEF': 0.0038006892744331423}. Best is trial 110 with value: 1010493.0.\u001b[0m\n"
     ]
    },
    {
     "name": "stdout",
     "output_type": "stream",
     "text": [
      "callback ok\n",
      "index_parallel='0130'\n",
      "sed -i 0129_main.cpp -e 's/^constexpr auto MCMC_Q_L2_NORM_RANGE = .*;         \\/\\/ OPTIMIZE LOG \\[2\\.0, 20\\.0\\]$/constexpr auto MCMC_Q_L2_NORM_RANGE = 8.244508519422832;         \\/\\/ OPTIMIZE LOG [2.0, 20.0]/' -e 's/^constexpr auto MCMC_Q_RANGE = .*;                  \\/\\/ OPTIMIZE LOG \\[0\\.2, 10\\.0\\]$/constexpr auto MCMC_Q_RANGE = 1.2158229278068575;                  \\/\\/ OPTIMIZE LOG [0.2, 10.0]/' -e 's/^constexpr auto EXPECTED_SKILL_EMA_ALPHA_COEF = .*; \\/\\/ OPTIMIZE LOG \\[0\\.02, 2\\.0\\]$/constexpr auto EXPECTED_SKILL_EMA_ALPHA_COEF = 0.9824017730875313; \\/\\/ OPTIMIZE LOG [0.02, 2.0]/' -e 's/^constexpr auto MAX_N_NOT_OPEN_TASKS_IN_QUEUE = .*; \\/\\/ OPTIMIZE \\[60, 100\\]$/constexpr auto MAX_N_NOT_OPEN_TASKS_IN_QUEUE = 89; \\/\\/ OPTIMIZE [60, 100]/' -e 's/^constexpr auto PRIORITY_DAY_OFFSET = .*;          \\/\\/ OPTIMIZE \\[400, 1200\\]$/constexpr auto PRIORITY_DAY_OFFSET = 517;          \\/\\/ OPTIMIZE [400, 1200]/' -e 's/^constexpr auto PRIORITY_COEF = .*;               \\/\\/ OPTIMIZE LOG \\[0\\.002, 2\\.0\\]$/constexpr auto PRIORITY_COEF = 0.6972747436297575;               \\/\\/ OPTIMIZE LOG [0.002, 2.0]/'\n",
      "clang++ 0129_main.cpp -std=gnu++17 -O2 -DONLINE_JUDGE -I/ -o 0129_main.cpp.out\n",
      "sed -i 0130_main.cpp -e 's/^constexpr auto MCMC_Q_L2_NORM_RANGE = .*;         \\/\\/ OPTIMIZE LOG \\[2\\.0, 20\\.0\\]$/constexpr auto MCMC_Q_L2_NORM_RANGE = 8.23420022170033;         \\/\\/ OPTIMIZE LOG [2.0, 20.0]/' -e 's/^constexpr auto MCMC_Q_RANGE = .*;                  \\/\\/ OPTIMIZE LOG \\[0\\.2, 10\\.0\\]$/constexpr auto MCMC_Q_RANGE = 1.0941596249579997;                  \\/\\/ OPTIMIZE LOG [0.2, 10.0]/' -e 's/^constexpr auto EXPECTED_SKILL_EMA_ALPHA_COEF = .*; \\/\\/ OPTIMIZE LOG \\[0\\.02, 2\\.0\\]$/constexpr auto EXPECTED_SKILL_EMA_ALPHA_COEF = 0.5977133293355656; \\/\\/ OPTIMIZE LOG [0.02, 2.0]/' -e 's/^constexpr auto MAX_N_NOT_OPEN_TASKS_IN_QUEUE = .*; \\/\\/ OPTIMIZE \\[60, 100\\]$/constexpr auto MAX_N_NOT_OPEN_TASKS_IN_QUEUE = 89; \\/\\/ OPTIMIZE [60, 100]/' -e 's/^constexpr auto PRIORITY_DAY_OFFSET = .*;          \\/\\/ OPTIMIZE \\[400, 1200\\]$/constexpr auto PRIORITY_DAY_OFFSET = 456;          \\/\\/ OPTIMIZE [400, 1200]/' -e 's/^constexpr auto PRIORITY_COEF = .*;               \\/\\/ OPTIMIZE LOG \\[0\\.002, 2\\.0\\]$/constexpr auto PRIORITY_COEF = 0.010491297884719319;               \\/\\/ OPTIMIZE LOG [0.002, 2.0]/'\n",
      "clang++ 0130_main.cpp -std=gnu++17 -O2 -DONLINE_JUDGE -I/ -o 0130_main.cpp.out\n"
     ]
    },
    {
     "name": "stderr",
     "output_type": "stream",
     "text": [
      "\u001b[32m[I 2021-11-13 00:22:05,944]\u001b[0m Trial 128 finished with value: 1009069.0 and parameters: {'MCMC_Q_L2_NORM_RANGE': 8.205602099929674, 'MCMC_Q_RANGE': 1.2135036260049132, 'EXPECTED_SKILL_EMA_ALPHA_COEF': 0.6118639048636535, 'MAX_N_NOT_OPEN_TASKS_IN_QUEUE': 89, 'PRIORITY_DAY_OFFSET': 401, 'PRIORITY_COEF': 0.008007936770928576}. Best is trial 110 with value: 1010493.0.\u001b[0m\n"
     ]
    },
    {
     "name": "stdout",
     "output_type": "stream",
     "text": [
      "callback ok\n",
      "index_parallel='0131'\n",
      "sed -i 0131_main.cpp -e 's/^constexpr auto MCMC_Q_L2_NORM_RANGE = .*;         \\/\\/ OPTIMIZE LOG \\[2\\.0, 20\\.0\\]$/constexpr auto MCMC_Q_L2_NORM_RANGE = 9.063316135611679;         \\/\\/ OPTIMIZE LOG [2.0, 20.0]/' -e 's/^constexpr auto MCMC_Q_RANGE = .*;                  \\/\\/ OPTIMIZE LOG \\[0\\.2, 10\\.0\\]$/constexpr auto MCMC_Q_RANGE = 1.1556308110434315;                  \\/\\/ OPTIMIZE LOG [0.2, 10.0]/' -e 's/^constexpr auto EXPECTED_SKILL_EMA_ALPHA_COEF = .*; \\/\\/ OPTIMIZE LOG \\[0\\.02, 2\\.0\\]$/constexpr auto EXPECTED_SKILL_EMA_ALPHA_COEF = 0.11850352438294312; \\/\\/ OPTIMIZE LOG [0.02, 2.0]/' -e 's/^constexpr auto MAX_N_NOT_OPEN_TASKS_IN_QUEUE = .*; \\/\\/ OPTIMIZE \\[60, 100\\]$/constexpr auto MAX_N_NOT_OPEN_TASKS_IN_QUEUE = 91; \\/\\/ OPTIMIZE [60, 100]/' -e 's/^constexpr auto PRIORITY_DAY_OFFSET = .*;          \\/\\/ OPTIMIZE \\[400, 1200\\]$/constexpr auto PRIORITY_DAY_OFFSET = 519;          \\/\\/ OPTIMIZE [400, 1200]/' -e 's/^constexpr auto PRIORITY_COEF = .*;               \\/\\/ OPTIMIZE LOG \\[0\\.002, 2\\.0\\]$/constexpr auto PRIORITY_COEF = 0.6925859320782805;               \\/\\/ OPTIMIZE LOG [0.002, 2.0]/'\n",
      "clang++ 0131_main.cpp -std=gnu++17 -O2 -DONLINE_JUDGE -I/ -o 0131_main.cpp.out\n"
     ]
    },
    {
     "name": "stderr",
     "output_type": "stream",
     "text": [
      "\u001b[32m[I 2021-11-13 00:26:03,385]\u001b[0m Trial 129 finished with value: 1008907.0 and parameters: {'MCMC_Q_L2_NORM_RANGE': 8.244508519422832, 'MCMC_Q_RANGE': 1.2158229278068575, 'EXPECTED_SKILL_EMA_ALPHA_COEF': 0.9824017730875313, 'MAX_N_NOT_OPEN_TASKS_IN_QUEUE': 89, 'PRIORITY_DAY_OFFSET': 517, 'PRIORITY_COEF': 0.6972747436297575}. Best is trial 110 with value: 1010493.0.\u001b[0m\n"
     ]
    },
    {
     "name": "stdout",
     "output_type": "stream",
     "text": [
      "callback ok\n",
      "index_parallel='0132'\n"
     ]
    },
    {
     "name": "stderr",
     "output_type": "stream",
     "text": [
      "\u001b[32m[I 2021-11-13 00:26:03,631]\u001b[0m Trial 130 finished with value: 1008509.0 and parameters: {'MCMC_Q_L2_NORM_RANGE': 8.23420022170033, 'MCMC_Q_RANGE': 1.0941596249579997, 'EXPECTED_SKILL_EMA_ALPHA_COEF': 0.5977133293355656, 'MAX_N_NOT_OPEN_TASKS_IN_QUEUE': 89, 'PRIORITY_DAY_OFFSET': 456, 'PRIORITY_COEF': 0.010491297884719319}. Best is trial 110 with value: 1010493.0.\u001b[0m\n"
     ]
    },
    {
     "name": "stdout",
     "output_type": "stream",
     "text": [
      "callback ok\n",
      "index_parallel='0133'\n",
      "sed -i 0132_main.cpp -e 's/^constexpr auto MCMC_Q_L2_NORM_RANGE = .*;         \\/\\/ OPTIMIZE LOG \\[2\\.0, 20\\.0\\]$/constexpr auto MCMC_Q_L2_NORM_RANGE = 3.695559022075964;         \\/\\/ OPTIMIZE LOG [2.0, 20.0]/' -e 's/^constexpr auto MCMC_Q_RANGE = .*;                  \\/\\/ OPTIMIZE LOG \\[0\\.2, 10\\.0\\]$/constexpr auto MCMC_Q_RANGE = 0.6856336668698764;                  \\/\\/ OPTIMIZE LOG [0.2, 10.0]/' -e 's/^constexpr auto EXPECTED_SKILL_EMA_ALPHA_COEF = .*; \\/\\/ OPTIMIZE LOG \\[0\\.02, 2\\.0\\]$/constexpr auto EXPECTED_SKILL_EMA_ALPHA_COEF = 0.7538865363262394; \\/\\/ OPTIMIZE LOG [0.02, 2.0]/' -e 's/^constexpr auto MAX_N_NOT_OPEN_TASKS_IN_QUEUE = .*; \\/\\/ OPTIMIZE \\[60, 100\\]$/constexpr auto MAX_N_NOT_OPEN_TASKS_IN_QUEUE = 91; \\/\\/ OPTIMIZE [60, 100]/' -e 's/^constexpr auto PRIORITY_DAY_OFFSET = .*;          \\/\\/ OPTIMIZE \\[400, 1200\\]$/constexpr auto PRIORITY_DAY_OFFSET = 421;          \\/\\/ OPTIMIZE [400, 1200]/' -e 's/^constexpr auto PRIORITY_COEF = .*;               \\/\\/ OPTIMIZE LOG \\[0\\.002, 2\\.0\\]$/constexpr auto PRIORITY_COEF = 1.0443702766447929;               \\/\\/ OPTIMIZE LOG [0.002, 2.0]/'\n",
      "clang++ 0132_main.cpp -std=gnu++17 -O2 -DONLINE_JUDGE -I/ -o 0132_main.cpp.out\n",
      "sed -i 0133_main.cpp -e 's/^constexpr auto MCMC_Q_L2_NORM_RANGE = .*;         \\/\\/ OPTIMIZE LOG \\[2\\.0, 20\\.0\\]$/constexpr auto MCMC_Q_L2_NORM_RANGE = 9.315616866589137;         \\/\\/ OPTIMIZE LOG [2.0, 20.0]/' -e 's/^constexpr auto MCMC_Q_RANGE = .*;                  \\/\\/ OPTIMIZE LOG \\[0\\.2, 10\\.0\\]$/constexpr auto MCMC_Q_RANGE = 0.31843683122189265;                  \\/\\/ OPTIMIZE LOG [0.2, 10.0]/' -e 's/^constexpr auto EXPECTED_SKILL_EMA_ALPHA_COEF = .*; \\/\\/ OPTIMIZE LOG \\[0\\.02, 2\\.0\\]$/constexpr auto EXPECTED_SKILL_EMA_ALPHA_COEF = 0.38235133938319377; \\/\\/ OPTIMIZE LOG [0.02, 2.0]/' -e 's/^constexpr auto MAX_N_NOT_OPEN_TASKS_IN_QUEUE = .*; \\/\\/ OPTIMIZE \\[60, 100\\]$/constexpr auto MAX_N_NOT_OPEN_TASKS_IN_QUEUE = 73; \\/\\/ OPTIMIZE [60, 100]/' -e 's/^constexpr auto PRIORITY_DAY_OFFSET = .*;          \\/\\/ OPTIMIZE \\[400, 1200\\]$/constexpr auto PRIORITY_DAY_OFFSET = 607;          \\/\\/ OPTIMIZE [400, 1200]/' -e 's/^constexpr auto PRIORITY_COEF = .*;               \\/\\/ OPTIMIZE LOG \\[0\\.002, 2\\.0\\]$/constexpr auto PRIORITY_COEF = 0.0894061455285447;               \\/\\/ OPTIMIZE LOG [0.002, 2.0]/'\n",
      "clang++ 0133_main.cpp -std=gnu++17 -O2 -DONLINE_JUDGE -I/ -o 0133_main.cpp.out\n"
     ]
    },
    {
     "name": "stderr",
     "output_type": "stream",
     "text": [
      "\u001b[32m[I 2021-11-13 00:26:04,863]\u001b[0m Trial 131 finished with value: 1002392.0 and parameters: {'MCMC_Q_L2_NORM_RANGE': 9.063316135611679, 'MCMC_Q_RANGE': 1.1556308110434315, 'EXPECTED_SKILL_EMA_ALPHA_COEF': 0.11850352438294312, 'MAX_N_NOT_OPEN_TASKS_IN_QUEUE': 91, 'PRIORITY_DAY_OFFSET': 519, 'PRIORITY_COEF': 0.6925859320782805}. Best is trial 110 with value: 1010493.0.\u001b[0m\n"
     ]
    },
    {
     "name": "stdout",
     "output_type": "stream",
     "text": [
      "callback ok\n",
      "index_parallel='0134'\n",
      "sed -i 0134_main.cpp -e 's/^constexpr auto MCMC_Q_L2_NORM_RANGE = .*;         \\/\\/ OPTIMIZE LOG \\[2\\.0, 20\\.0\\]$/constexpr auto MCMC_Q_L2_NORM_RANGE = 10.124537796844677;         \\/\\/ OPTIMIZE LOG [2.0, 20.0]/' -e 's/^constexpr auto MCMC_Q_RANGE = .*;                  \\/\\/ OPTIMIZE LOG \\[0\\.2, 10\\.0\\]$/constexpr auto MCMC_Q_RANGE = 1.374267522337142;                  \\/\\/ OPTIMIZE LOG [0.2, 10.0]/' -e 's/^constexpr auto EXPECTED_SKILL_EMA_ALPHA_COEF = .*; \\/\\/ OPTIMIZE LOG \\[0\\.02, 2\\.0\\]$/constexpr auto EXPECTED_SKILL_EMA_ALPHA_COEF = 0.539546252537672; \\/\\/ OPTIMIZE LOG [0.02, 2.0]/' -e 's/^constexpr auto MAX_N_NOT_OPEN_TASKS_IN_QUEUE = .*; \\/\\/ OPTIMIZE \\[60, 100\\]$/constexpr auto MAX_N_NOT_OPEN_TASKS_IN_QUEUE = 76; \\/\\/ OPTIMIZE [60, 100]/' -e 's/^constexpr auto PRIORITY_DAY_OFFSET = .*;          \\/\\/ OPTIMIZE \\[400, 1200\\]$/constexpr auto PRIORITY_DAY_OFFSET = 621;          \\/\\/ OPTIMIZE [400, 1200]/' -e 's/^constexpr auto PRIORITY_COEF = .*;               \\/\\/ OPTIMIZE LOG \\[0\\.002, 2\\.0\\]$/constexpr auto PRIORITY_COEF = 0.9218657826551742;               \\/\\/ OPTIMIZE LOG [0.002, 2.0]/'\n",
      "clang++ 0134_main.cpp -std=gnu++17 -O2 -DONLINE_JUDGE -I/ -o 0134_main.cpp.out\n"
     ]
    },
    {
     "name": "stderr",
     "output_type": "stream",
     "text": [
      "\u001b[32m[I 2021-11-13 00:30:03,738]\u001b[0m Trial 134 finished with value: 1006141.0 and parameters: {'MCMC_Q_L2_NORM_RANGE': 10.124537796844677, 'MCMC_Q_RANGE': 1.374267522337142, 'EXPECTED_SKILL_EMA_ALPHA_COEF': 0.539546252537672, 'MAX_N_NOT_OPEN_TASKS_IN_QUEUE': 76, 'PRIORITY_DAY_OFFSET': 621, 'PRIORITY_COEF': 0.9218657826551742}. Best is trial 110 with value: 1010493.0.\u001b[0m\n"
     ]
    },
    {
     "name": "stdout",
     "output_type": "stream",
     "text": [
      "callback ok\n",
      "index_parallel='0135'\n"
     ]
    },
    {
     "name": "stderr",
     "output_type": "stream",
     "text": [
      "\u001b[32m[I 2021-11-13 00:30:04,122]\u001b[0m Trial 133 finished with value: 1004836.0 and parameters: {'MCMC_Q_L2_NORM_RANGE': 9.315616866589137, 'MCMC_Q_RANGE': 0.31843683122189265, 'EXPECTED_SKILL_EMA_ALPHA_COEF': 0.38235133938319377, 'MAX_N_NOT_OPEN_TASKS_IN_QUEUE': 73, 'PRIORITY_DAY_OFFSET': 607, 'PRIORITY_COEF': 0.0894061455285447}. Best is trial 110 with value: 1010493.0.\u001b[0m\n"
     ]
    },
    {
     "name": "stdout",
     "output_type": "stream",
     "text": [
      "callback ok\n",
      "index_parallel='0136'\n",
      "sed -i 0135_main.cpp -e 's/^constexpr auto MCMC_Q_L2_NORM_RANGE = .*;         \\/\\/ OPTIMIZE LOG \\[2\\.0, 20\\.0\\]$/constexpr auto MCMC_Q_L2_NORM_RANGE = 4.120953271204793;         \\/\\/ OPTIMIZE LOG [2.0, 20.0]/' -e 's/^constexpr auto MCMC_Q_RANGE = .*;                  \\/\\/ OPTIMIZE LOG \\[0\\.2, 10\\.0\\]$/constexpr auto MCMC_Q_RANGE = 1.290717779571382;                  \\/\\/ OPTIMIZE LOG [0.2, 10.0]/' -e 's/^constexpr auto EXPECTED_SKILL_EMA_ALPHA_COEF = .*; \\/\\/ OPTIMIZE LOG \\[0\\.02, 2\\.0\\]$/constexpr auto EXPECTED_SKILL_EMA_ALPHA_COEF = 0.47956802532517673; \\/\\/ OPTIMIZE LOG [0.02, 2.0]/' -e 's/^constexpr auto MAX_N_NOT_OPEN_TASKS_IN_QUEUE = .*; \\/\\/ OPTIMIZE \\[60, 100\\]$/constexpr auto MAX_N_NOT_OPEN_TASKS_IN_QUEUE = 94; \\/\\/ OPTIMIZE [60, 100]/' -e 's/^constexpr auto PRIORITY_DAY_OFFSET = .*;          \\/\\/ OPTIMIZE \\[400, 1200\\]$/constexpr auto PRIORITY_DAY_OFFSET = 482;          \\/\\/ OPTIMIZE [400, 1200]/' -e 's/^constexpr auto PRIORITY_COEF = .*;               \\/\\/ OPTIMIZE LOG \\[0\\.002, 2\\.0\\]$/constexpr auto PRIORITY_COEF = 0.051443956614606344;               \\/\\/ OPTIMIZE LOG [0.002, 2.0]/'\n",
      "clang++ 0135_main.cpp -std=gnu++17 -O2 -DONLINE_JUDGE -I/ -o 0135_main.cpp.out\n",
      "sed -i 0136_main.cpp -e 's/^constexpr auto MCMC_Q_L2_NORM_RANGE = .*;         \\/\\/ OPTIMIZE LOG \\[2\\.0, 20\\.0\\]$/constexpr auto MCMC_Q_L2_NORM_RANGE = 3.728612827807123;         \\/\\/ OPTIMIZE LOG [2.0, 20.0]/' -e 's/^constexpr auto MCMC_Q_RANGE = .*;                  \\/\\/ OPTIMIZE LOG \\[0\\.2, 10\\.0\\]$/constexpr auto MCMC_Q_RANGE = 1.064055824252863;                  \\/\\/ OPTIMIZE LOG [0.2, 10.0]/' -e 's/^constexpr auto EXPECTED_SKILL_EMA_ALPHA_COEF = .*; \\/\\/ OPTIMIZE LOG \\[0\\.02, 2\\.0\\]$/constexpr auto EXPECTED_SKILL_EMA_ALPHA_COEF = 0.4858551780592339; \\/\\/ OPTIMIZE LOG [0.02, 2.0]/' -e 's/^constexpr auto MAX_N_NOT_OPEN_TASKS_IN_QUEUE = .*; \\/\\/ OPTIMIZE \\[60, 100\\]$/constexpr auto MAX_N_NOT_OPEN_TASKS_IN_QUEUE = 97; \\/\\/ OPTIMIZE [60, 100]/' -e 's/^constexpr auto PRIORITY_DAY_OFFSET = .*;          \\/\\/ OPTIMIZE \\[400, 1200\\]$/constexpr auto PRIORITY_DAY_OFFSET = 482;          \\/\\/ OPTIMIZE [400, 1200]/' -e 's/^constexpr auto PRIORITY_COEF = .*;               \\/\\/ OPTIMIZE LOG \\[0\\.002, 2\\.0\\]$/constexpr auto PRIORITY_COEF = 0.051473951328993496;               \\/\\/ OPTIMIZE LOG [0.002, 2.0]/'\n",
      "clang++ 0136_main.cpp -std=gnu++17 -O2 -DONLINE_JUDGE -I/ -o 0136_main.cpp.out\n"
     ]
    },
    {
     "name": "stderr",
     "output_type": "stream",
     "text": [
      "\u001b[32m[I 2021-11-13 00:30:05,832]\u001b[0m Trial 132 finished with value: 1009387.0 and parameters: {'MCMC_Q_L2_NORM_RANGE': 3.695559022075964, 'MCMC_Q_RANGE': 0.6856336668698764, 'EXPECTED_SKILL_EMA_ALPHA_COEF': 0.7538865363262394, 'MAX_N_NOT_OPEN_TASKS_IN_QUEUE': 91, 'PRIORITY_DAY_OFFSET': 421, 'PRIORITY_COEF': 1.0443702766447929}. Best is trial 110 with value: 1010493.0.\u001b[0m\n"
     ]
    },
    {
     "name": "stdout",
     "output_type": "stream",
     "text": [
      "callback ok\n",
      "index_parallel='0137'\n",
      "sed -i 0137_main.cpp -e 's/^constexpr auto MCMC_Q_L2_NORM_RANGE = .*;         \\/\\/ OPTIMIZE LOG \\[2\\.0, 20\\.0\\]$/constexpr auto MCMC_Q_L2_NORM_RANGE = 3.6796609424786473;         \\/\\/ OPTIMIZE LOG [2.0, 20.0]/' -e 's/^constexpr auto MCMC_Q_RANGE = .*;                  \\/\\/ OPTIMIZE LOG \\[0\\.2, 10\\.0\\]$/constexpr auto MCMC_Q_RANGE = 0.7841153575821255;                  \\/\\/ OPTIMIZE LOG [0.2, 10.0]/' -e 's/^constexpr auto EXPECTED_SKILL_EMA_ALPHA_COEF = .*; \\/\\/ OPTIMIZE LOG \\[0\\.02, 2\\.0\\]$/constexpr auto EXPECTED_SKILL_EMA_ALPHA_COEF = 0.8322718545373138; \\/\\/ OPTIMIZE LOG [0.02, 2.0]/' -e 's/^constexpr auto MAX_N_NOT_OPEN_TASKS_IN_QUEUE = .*; \\/\\/ OPTIMIZE \\[60, 100\\]$/constexpr auto MAX_N_NOT_OPEN_TASKS_IN_QUEUE = 63; \\/\\/ OPTIMIZE [60, 100]/' -e 's/^constexpr auto PRIORITY_DAY_OFFSET = .*;          \\/\\/ OPTIMIZE \\[400, 1200\\]$/constexpr auto PRIORITY_DAY_OFFSET = 424;          \\/\\/ OPTIMIZE [400, 1200]/' -e 's/^constexpr auto PRIORITY_COEF = .*;               \\/\\/ OPTIMIZE LOG \\[0\\.002, 2\\.0\\]$/constexpr auto PRIORITY_COEF = 1.050260833503894;               \\/\\/ OPTIMIZE LOG [0.002, 2.0]/'\n",
      "clang++ 0137_main.cpp -std=gnu++17 -O2 -DONLINE_JUDGE -I/ -o 0137_main.cpp.out\n"
     ]
    }
   ],
   "source": [
    "objective = partial(objective_with_index, n_internal_parallel=8)\n",
    "study.optimize(objective, n_trials=3000, timeout=86400, n_jobs=3, callbacks=[callback])"
   ]
  },
  {
   "cell_type": "code",
   "execution_count": 8,
   "id": "1cb20d8d",
   "metadata": {},
   "outputs": [],
   "source": [
    "!rm -rf ./*_score\n",
    "!rm -rf ./*_out\n",
    "!rm -rf ./*_main.cpp*\n",
    "!rm study.db"
   ]
  },
  {
   "cell_type": "code",
   "execution_count": null,
   "id": "9d406070",
   "metadata": {},
   "outputs": [],
   "source": []
  }
 ],
 "metadata": {
  "kernelspec": {
   "display_name": "Python 3",
   "language": "python",
   "name": "python3"
  },
  "language_info": {
   "codemirror_mode": {
    "name": "ipython",
    "version": 3
   },
   "file_extension": ".py",
   "mimetype": "text/x-python",
   "name": "python",
   "nbconvert_exporter": "python",
   "pygments_lexer": "ipython3",
   "version": "3.8.8"
  }
 },
 "nbformat": 4,
 "nbformat_minor": 5
}
