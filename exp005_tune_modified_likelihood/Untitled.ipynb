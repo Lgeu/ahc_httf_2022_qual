{
 "cells": [
  {
   "cell_type": "code",
   "execution_count": 1,
   "id": "070b0798",
   "metadata": {},
   "outputs": [],
   "source": [
    "import re\n",
    "import sys\n",
    "from time import sleep\n",
    "from pprint import pprint\n",
    "from pathlib import Path\n",
    "from functools import partial\n",
    "import subprocess\n",
    "from subprocess import PIPE\n",
    "\n",
    "import numpy as np\n",
    "import optuna\n",
    "import pandas as pd\n",
    "import matplotlib.pyplot as plt\n",
    "\n",
    "FILENAME = \"main.cpp\""
   ]
  },
  {
   "cell_type": "code",
   "execution_count": 2,
   "id": "adcb518f",
   "metadata": {},
   "outputs": [],
   "source": [
    "!cp ../answer/{FILENAME} ./{FILENAME}"
   ]
  },
  {
   "cell_type": "code",
   "execution_count": 3,
   "id": "1b4289e1",
   "metadata": {},
   "outputs": [],
   "source": [
    "!clang++ {FILENAME} -std=gnu++17 -Wall -Wextra -O2 -o {FILENAME}.out -I/"
   ]
  },
  {
   "cell_type": "code",
   "execution_count": 4,
   "id": "775eb17a",
   "metadata": {},
   "outputs": [],
   "source": [
    "SEED = 0\n",
    "N_TESTCASES = 500"
   ]
  },
  {
   "cell_type": "code",
   "execution_count": 5,
   "id": "c036bc62",
   "metadata": {
    "scrolled": true
   },
   "outputs": [
    {
     "name": "stdout",
     "output_type": "stream",
     "text": [
      "\u001b[0m\u001b[0m\u001b[1m\u001b[32m    Finished\u001b[0m release [optimized] target(s) in 0.19s\n",
      "\u001b[0m\u001b[0m\u001b[1m\u001b[32m     Running\u001b[0m `/home/user/ahc_httf_2022_qual/tools/target/release/gen seeds.txt`\n",
      "0000.txt  0063.txt  0126.txt  0189.txt\t0252.txt  0315.txt  0378.txt  0441.txt\n",
      "0001.txt  0064.txt  0127.txt  0190.txt\t0253.txt  0316.txt  0379.txt  0442.txt\n",
      "0002.txt  0065.txt  0128.txt  0191.txt\t0254.txt  0317.txt  0380.txt  0443.txt\n",
      "0003.txt  0066.txt  0129.txt  0192.txt\t0255.txt  0318.txt  0381.txt  0444.txt\n",
      "0004.txt  0067.txt  0130.txt  0193.txt\t0256.txt  0319.txt  0382.txt  0445.txt\n",
      "0005.txt  0068.txt  0131.txt  0194.txt\t0257.txt  0320.txt  0383.txt  0446.txt\n",
      "0006.txt  0069.txt  0132.txt  0195.txt\t0258.txt  0321.txt  0384.txt  0447.txt\n",
      "0007.txt  0070.txt  0133.txt  0196.txt\t0259.txt  0322.txt  0385.txt  0448.txt\n",
      "0008.txt  0071.txt  0134.txt  0197.txt\t0260.txt  0323.txt  0386.txt  0449.txt\n",
      "0009.txt  0072.txt  0135.txt  0198.txt\t0261.txt  0324.txt  0387.txt  0450.txt\n",
      "0010.txt  0073.txt  0136.txt  0199.txt\t0262.txt  0325.txt  0388.txt  0451.txt\n",
      "0011.txt  0074.txt  0137.txt  0200.txt\t0263.txt  0326.txt  0389.txt  0452.txt\n",
      "0012.txt  0075.txt  0138.txt  0201.txt\t0264.txt  0327.txt  0390.txt  0453.txt\n",
      "0013.txt  0076.txt  0139.txt  0202.txt\t0265.txt  0328.txt  0391.txt  0454.txt\n",
      "0014.txt  0077.txt  0140.txt  0203.txt\t0266.txt  0329.txt  0392.txt  0455.txt\n",
      "0015.txt  0078.txt  0141.txt  0204.txt\t0267.txt  0330.txt  0393.txt  0456.txt\n",
      "0016.txt  0079.txt  0142.txt  0205.txt\t0268.txt  0331.txt  0394.txt  0457.txt\n",
      "0017.txt  0080.txt  0143.txt  0206.txt\t0269.txt  0332.txt  0395.txt  0458.txt\n",
      "0018.txt  0081.txt  0144.txt  0207.txt\t0270.txt  0333.txt  0396.txt  0459.txt\n",
      "0019.txt  0082.txt  0145.txt  0208.txt\t0271.txt  0334.txt  0397.txt  0460.txt\n",
      "0020.txt  0083.txt  0146.txt  0209.txt\t0272.txt  0335.txt  0398.txt  0461.txt\n",
      "0021.txt  0084.txt  0147.txt  0210.txt\t0273.txt  0336.txt  0399.txt  0462.txt\n",
      "0022.txt  0085.txt  0148.txt  0211.txt\t0274.txt  0337.txt  0400.txt  0463.txt\n",
      "0023.txt  0086.txt  0149.txt  0212.txt\t0275.txt  0338.txt  0401.txt  0464.txt\n",
      "0024.txt  0087.txt  0150.txt  0213.txt\t0276.txt  0339.txt  0402.txt  0465.txt\n",
      "0025.txt  0088.txt  0151.txt  0214.txt\t0277.txt  0340.txt  0403.txt  0466.txt\n",
      "0026.txt  0089.txt  0152.txt  0215.txt\t0278.txt  0341.txt  0404.txt  0467.txt\n",
      "0027.txt  0090.txt  0153.txt  0216.txt\t0279.txt  0342.txt  0405.txt  0468.txt\n",
      "0028.txt  0091.txt  0154.txt  0217.txt\t0280.txt  0343.txt  0406.txt  0469.txt\n",
      "0029.txt  0092.txt  0155.txt  0218.txt\t0281.txt  0344.txt  0407.txt  0470.txt\n",
      "0030.txt  0093.txt  0156.txt  0219.txt\t0282.txt  0345.txt  0408.txt  0471.txt\n",
      "0031.txt  0094.txt  0157.txt  0220.txt\t0283.txt  0346.txt  0409.txt  0472.txt\n",
      "0032.txt  0095.txt  0158.txt  0221.txt\t0284.txt  0347.txt  0410.txt  0473.txt\n",
      "0033.txt  0096.txt  0159.txt  0222.txt\t0285.txt  0348.txt  0411.txt  0474.txt\n",
      "0034.txt  0097.txt  0160.txt  0223.txt\t0286.txt  0349.txt  0412.txt  0475.txt\n",
      "0035.txt  0098.txt  0161.txt  0224.txt\t0287.txt  0350.txt  0413.txt  0476.txt\n",
      "0036.txt  0099.txt  0162.txt  0225.txt\t0288.txt  0351.txt  0414.txt  0477.txt\n",
      "0037.txt  0100.txt  0163.txt  0226.txt\t0289.txt  0352.txt  0415.txt  0478.txt\n",
      "0038.txt  0101.txt  0164.txt  0227.txt\t0290.txt  0353.txt  0416.txt  0479.txt\n",
      "0039.txt  0102.txt  0165.txt  0228.txt\t0291.txt  0354.txt  0417.txt  0480.txt\n",
      "0040.txt  0103.txt  0166.txt  0229.txt\t0292.txt  0355.txt  0418.txt  0481.txt\n",
      "0041.txt  0104.txt  0167.txt  0230.txt\t0293.txt  0356.txt  0419.txt  0482.txt\n",
      "0042.txt  0105.txt  0168.txt  0231.txt\t0294.txt  0357.txt  0420.txt  0483.txt\n",
      "0043.txt  0106.txt  0169.txt  0232.txt\t0295.txt  0358.txt  0421.txt  0484.txt\n",
      "0044.txt  0107.txt  0170.txt  0233.txt\t0296.txt  0359.txt  0422.txt  0485.txt\n",
      "0045.txt  0108.txt  0171.txt  0234.txt\t0297.txt  0360.txt  0423.txt  0486.txt\n",
      "0046.txt  0109.txt  0172.txt  0235.txt\t0298.txt  0361.txt  0424.txt  0487.txt\n",
      "0047.txt  0110.txt  0173.txt  0236.txt\t0299.txt  0362.txt  0425.txt  0488.txt\n",
      "0048.txt  0111.txt  0174.txt  0237.txt\t0300.txt  0363.txt  0426.txt  0489.txt\n",
      "0049.txt  0112.txt  0175.txt  0238.txt\t0301.txt  0364.txt  0427.txt  0490.txt\n",
      "0050.txt  0113.txt  0176.txt  0239.txt\t0302.txt  0365.txt  0428.txt  0491.txt\n",
      "0051.txt  0114.txt  0177.txt  0240.txt\t0303.txt  0366.txt  0429.txt  0492.txt\n",
      "0052.txt  0115.txt  0178.txt  0241.txt\t0304.txt  0367.txt  0430.txt  0493.txt\n",
      "0053.txt  0116.txt  0179.txt  0242.txt\t0305.txt  0368.txt  0431.txt  0494.txt\n",
      "0054.txt  0117.txt  0180.txt  0243.txt\t0306.txt  0369.txt  0432.txt  0495.txt\n",
      "0055.txt  0118.txt  0181.txt  0244.txt\t0307.txt  0370.txt  0433.txt  0496.txt\n",
      "0056.txt  0119.txt  0182.txt  0245.txt\t0308.txt  0371.txt  0434.txt  0497.txt\n",
      "0057.txt  0120.txt  0183.txt  0246.txt\t0309.txt  0372.txt  0435.txt  0498.txt\n",
      "0058.txt  0121.txt  0184.txt  0247.txt\t0310.txt  0373.txt  0436.txt  0499.txt\n",
      "0059.txt  0122.txt  0185.txt  0248.txt\t0311.txt  0374.txt  0437.txt\n",
      "0060.txt  0123.txt  0186.txt  0249.txt\t0312.txt  0375.txt  0438.txt\n",
      "0061.txt  0124.txt  0187.txt  0250.txt\t0313.txt  0376.txt  0439.txt\n",
      "0062.txt  0125.txt  0188.txt  0251.txt\t0314.txt  0377.txt  0440.txt\n"
     ]
    }
   ],
   "source": [
    "!seq {SEED} {SEED+N_TESTCASES-1} > seeds.txt && cargo run --release --manifest-path ../tools/Cargo.toml --bin gen seeds.txt\n",
    "!ls in"
   ]
  },
  {
   "cell_type": "code",
   "execution_count": null,
   "id": "7d2a2d04",
   "metadata": {},
   "outputs": [],
   "source": [
    "# %%time\n",
    "# # もとのスコアの確認\n",
    "# scores = []\n",
    "# for i in range(N_TESTCASES):\n",
    "#     i = f\"{i:04d}\"\n",
    "#     score = !../tools/target/release/tester $(pwd)/{FILENAME}.out < in/{i}.txt 2>&1 | grep Score\n",
    "#     print(i, *score)\n",
    "#     score = int(score[0].split()[-1])\n",
    "#     scores.append(score)\n",
    "# np.mean(scores), np.mean(scores) * 50, np.std(scores)"
   ]
  },
  {
   "cell_type": "code",
   "execution_count": 6,
   "id": "7894d618",
   "metadata": {},
   "outputs": [
    {
     "name": "stdout",
     "output_type": "stream",
     "text": [
      "6 variables were found.\n"
     ]
    },
    {
     "data": {
      "text/html": [
       "<div>\n",
       "<style scoped>\n",
       "    .dataframe tbody tr th:only-of-type {\n",
       "        vertical-align: middle;\n",
       "    }\n",
       "\n",
       "    .dataframe tbody tr th {\n",
       "        vertical-align: top;\n",
       "    }\n",
       "\n",
       "    .dataframe thead th {\n",
       "        text-align: right;\n",
       "    }\n",
       "</style>\n",
       "<table border=\"1\" class=\"dataframe\">\n",
       "  <thead>\n",
       "    <tr style=\"text-align: right;\">\n",
       "      <th></th>\n",
       "      <th>name</th>\n",
       "      <th>method</th>\n",
       "      <th>min</th>\n",
       "      <th>max</th>\n",
       "      <th>log</th>\n",
       "      <th>left</th>\n",
       "      <th>right</th>\n",
       "    </tr>\n",
       "  </thead>\n",
       "  <tbody>\n",
       "    <tr>\n",
       "      <th>0</th>\n",
       "      <td>MCMC_Q_L2_NORM_RANGE</td>\n",
       "      <td>suggest_float</td>\n",
       "      <td>2.000</td>\n",
       "      <td>20.0</td>\n",
       "      <td>True</td>\n",
       "      <td>constexpr auto MCMC_Q_L2_NORM_RANGE =</td>\n",
       "      <td>;           // OPTIMIZE LOG [2.0, 20.0]</td>\n",
       "    </tr>\n",
       "    <tr>\n",
       "      <th>1</th>\n",
       "      <td>MCMC_Q_RANGE</td>\n",
       "      <td>suggest_float</td>\n",
       "      <td>0.200</td>\n",
       "      <td>10.0</td>\n",
       "      <td>True</td>\n",
       "      <td>constexpr auto MCMC_Q_RANGE =</td>\n",
       "      <td>;                   // OPTIMIZE LOG [0.2, 10.0]</td>\n",
       "    </tr>\n",
       "    <tr>\n",
       "      <th>2</th>\n",
       "      <td>EXPECTED_SKILL_EMA_ALPHA_COEF</td>\n",
       "      <td>suggest_float</td>\n",
       "      <td>0.020</td>\n",
       "      <td>2.0</td>\n",
       "      <td>True</td>\n",
       "      <td>constexpr auto EXPECTED_SKILL_EMA_ALPHA_COEF =</td>\n",
       "      <td>; // OPTIMIZE LOG [0.02, 2.0]</td>\n",
       "    </tr>\n",
       "    <tr>\n",
       "      <th>3</th>\n",
       "      <td>MAX_N_NOT_OPEN_TASKS_IN_QUEUE</td>\n",
       "      <td>suggest_int</td>\n",
       "      <td>60.000</td>\n",
       "      <td>100.0</td>\n",
       "      <td>False</td>\n",
       "      <td>constexpr auto MAX_N_NOT_OPEN_TASKS_IN_QUEUE =</td>\n",
       "      <td>; // OPTIMIZE [60, 100]</td>\n",
       "    </tr>\n",
       "    <tr>\n",
       "      <th>4</th>\n",
       "      <td>PRIORITY_DAY_OFFSET</td>\n",
       "      <td>suggest_int</td>\n",
       "      <td>400.000</td>\n",
       "      <td>1200.0</td>\n",
       "      <td>False</td>\n",
       "      <td>constexpr auto PRIORITY_DAY_OFFSET =</td>\n",
       "      <td>;          // OPTIMIZE [400, 1200]</td>\n",
       "    </tr>\n",
       "    <tr>\n",
       "      <th>5</th>\n",
       "      <td>PRIORITY_COEF</td>\n",
       "      <td>suggest_float</td>\n",
       "      <td>0.002</td>\n",
       "      <td>2.0</td>\n",
       "      <td>True</td>\n",
       "      <td>constexpr auto PRIORITY_COEF =</td>\n",
       "      <td>; // OPTIMIZE LOG [0.002, 2.0]</td>\n",
       "    </tr>\n",
       "  </tbody>\n",
       "</table>\n",
       "</div>"
      ],
      "text/plain": [
       "                            name         method      min     max    log  \\\n",
       "0           MCMC_Q_L2_NORM_RANGE  suggest_float    2.000    20.0   True   \n",
       "1                   MCMC_Q_RANGE  suggest_float    0.200    10.0   True   \n",
       "2  EXPECTED_SKILL_EMA_ALPHA_COEF  suggest_float    0.020     2.0   True   \n",
       "3  MAX_N_NOT_OPEN_TASKS_IN_QUEUE    suggest_int   60.000   100.0  False   \n",
       "4            PRIORITY_DAY_OFFSET    suggest_int  400.000  1200.0  False   \n",
       "5                  PRIORITY_COEF  suggest_float    0.002     2.0   True   \n",
       "\n",
       "                                              left  \\\n",
       "0           constexpr auto MCMC_Q_L2_NORM_RANGE =    \n",
       "1                   constexpr auto MCMC_Q_RANGE =    \n",
       "2  constexpr auto EXPECTED_SKILL_EMA_ALPHA_COEF =    \n",
       "3  constexpr auto MAX_N_NOT_OPEN_TASKS_IN_QUEUE =    \n",
       "4            constexpr auto PRIORITY_DAY_OFFSET =    \n",
       "5                  constexpr auto PRIORITY_COEF =    \n",
       "\n",
       "                                             right  \n",
       "0          ;           // OPTIMIZE LOG [2.0, 20.0]  \n",
       "1  ;                   // OPTIMIZE LOG [0.2, 10.0]  \n",
       "2                    ; // OPTIMIZE LOG [0.02, 2.0]  \n",
       "3                          ; // OPTIMIZE [60, 100]  \n",
       "4               ;          // OPTIMIZE [400, 1200]  \n",
       "5                   ; // OPTIMIZE LOG [0.002, 2.0]  "
      ]
     },
     "metadata": {},
     "output_type": "display_data"
    }
   ],
   "source": [
    "# ここでエラー出力は何かおかしいかもしれない\n",
    "\n",
    "\n",
    "# パラメータ抽出\n",
    "with open(FILENAME) as f:\n",
    "    answer = f.read()\n",
    "\n",
    "\n",
    "variables_optimize = []\n",
    "\n",
    "for left, value, right, options in re.findall(r\"^([^/\\n]*=\\s*)(.+?)(\\s*;\\s*//(?:.*\\W)?OPTIMIZE(\\W.*))$\", answer, re.MULTILINE):\n",
    "    name = left.replace(\"=\", \"\").strip().split()[-1]\n",
    "    \n",
    "    searched = re.search(r\".*\\[(?P<min>.*),(?P<max>.*)\\].*\", options)\n",
    "    if searched:\n",
    "        min_value = max_value = None\n",
    "        try:\n",
    "            min_value = eval(searched.group(\"min\"))\n",
    "            max_value = eval(searched.group(\"max\"))\n",
    "            assert min_value <= max_value\n",
    "        except Exception as e:\n",
    "            print(f\"searched={searched}\", file=sys.stderr)\n",
    "            print(e, file=sys.stderr)\n",
    "            continue\n",
    "        log = \"LOG\" in options  # 雑、直したほうが良い\n",
    "        if type(min_value) != type(max_value):\n",
    "            print(f\"searched={searched}\", file=sys.stderr)\n",
    "            print(\"types not matched\", file=sys.stderr)\n",
    "            continue\n",
    "        if isinstance(min_value, int):\n",
    "            method = \"suggest_int\"\n",
    "        elif isinstance(min_value, float):\n",
    "            method = \"suggest_float\"\n",
    "        else:\n",
    "            print(f\"searched={searched}\", file=sys.stderr)\n",
    "            print(f\"unknown type ({type(min_value)})\", file=sys.stderr)\n",
    "            continue\n",
    "        variables_optimize.append({\n",
    "            \"name\": name,\n",
    "            \"method\": method,\n",
    "            \"min\": min_value,\n",
    "            \"max\": max_value,\n",
    "            \"log\": log,\n",
    "            \"left\": left,\n",
    "            \"right\": right,\n",
    "        })\n",
    "    elif searched := re.search(r\".*\\{(?P<choices>.*?)\\}.*\", options):\n",
    "        choices = list(map(lambda x: x.strip(), searched.group(\"choices\").split(\",\")))\n",
    "        variables_optimize.append({\n",
    "            \"name\": name,\n",
    "            \"method\": \"suggest_categorical\",\n",
    "            \"choices\": choices,\n",
    "            \"left\": left,\n",
    "            \"right\": right,\n",
    "        })\n",
    "    else:\n",
    "        print(f\"searched={searched}\", file=sys.stderr)\n",
    "        print(f\"pattern was matched but options are incorrect.\", file=sys.stderr)\n",
    "\n",
    "print(len(variables_optimize), \"variables were found.\")\n",
    "if globals().get(\"pd\"):\n",
    "    display(pd.DataFrame(variables_optimize))\n",
    "else:\n",
    "    pprint(variables_optimize)\n",
    "\n"
   ]
  },
  {
   "cell_type": "code",
   "execution_count": 7,
   "id": "bf6e06b2",
   "metadata": {},
   "outputs": [],
   "source": [
    "def escape(string):  # 正規表現の中でそのまま使いたい文字列をエスケープ\n",
    "    res = !echo '{string}' | sed -e 's/[]\\/$*.^[]/\\\\&/g'\n",
    "    return res[0]\n",
    "\n",
    "def escape_sed(string):  # sed の置換後の文字列用のエスケープ\n",
    "    res = !echo '{string}' | sed -e 's/[\\/&]/\\\\&/g'\n",
    "    return res[0]\n",
    "\n",
    "def run(cmd):\n",
    "    p = subprocess.Popen(\n",
    "        cmd, stdout=subprocess.PIPE, stderr=subprocess.STDOUT, shell=isinstance(cmd, str)\n",
    "    )\n",
    "    for line in iter(p.stdout.readline, b''):\n",
    "        print(line.decode(\"utf8\"), end=\"\")\n",
    "\n",
    "def objective_with_index(trial, n_internal_parallel):\n",
    "    index_parallel = f\"{trial.number:04d}\"\n",
    "    print(f\"{index_parallel=}\")\n",
    "    \n",
    "    parameters_changed_filename = f\"{index_parallel}_{FILENAME}\"\n",
    "    directory_input = Path(\"./in\")  # 中のすべてのファイルに対して実行される\n",
    "    \n",
    "    run([\"mkdir\", f\"{index_parallel}_out\"])\n",
    "    run([\"mkdir\", f\"{index_parallel}_score\"])\n",
    "    \n",
    "    # ファイル作成\n",
    "    run(f\"cp {FILENAME} {parameters_changed_filename}\")\n",
    "    sed_options = [f\"-i {parameters_changed_filename}\"]\n",
    "    for variable in variables_optimize:\n",
    "        if variable[\"method\"] == \"suggest_categorical\":\n",
    "            val =  trial.suggest_categorical(variable[\"name\"], variable[\"choices\"])\n",
    "        else:\n",
    "            val = getattr(trial, variable[\"method\"])(variable[\"name\"], variable[\"min\"], variable[\"max\"], log=variable[\"log\"])\n",
    "        left = variable[\"left\"]\n",
    "        right = variable[\"right\"]\n",
    "        sed_options.append(f\"\"\"-e 's/^{escape(left)}.*{escape(right)}$/{escape_sed(left)}{val}{escape_sed(right)}/'\"\"\")\n",
    "    command_sed = f\"sed {' '.join(sed_options)}\"\n",
    "    print(command_sed)\n",
    "    run(command_sed)\n",
    "    \n",
    "    # コンパイル\n",
    "    command_compile = f\"clang++ {parameters_changed_filename} -std=gnu++17 -O2 -DONLINE_JUDGE -I/ -o {parameters_changed_filename}.out\"\n",
    "    print(command_compile)\n",
    "    run(command_compile)\n",
    "    # 実行・採点コマンド (@ はファイル名)\n",
    "    command_exec = (\n",
    "        #f\"../tools/target/release/tester $(pwd)/{parameters_changed_filename}.out < {directory_input}/@ 2>&1 | grep Score\"\n",
    "        f\"../tools/target/release/tester $(pwd)/{parameters_changed_filename}.out < {directory_input}/@ 2>&1 | grep Score | sed -E s/[^0-9]+// > ./{index_parallel}_score/@;\"\n",
    "        #f\"cargo run --release --manifest-path ../tools/Cargo.toml --bin tester {directory_input}/@ $(pwd)/{parameters_changed_filename}.out 2>&1 | grep Score | sed -E s/[^0-9]+// > ./{index_parallel}_score/@;\"\n",
    "        #f\"./{parameters_changed_filename}.out < {directory_input}/@ > ./{index_parallel}_out/@;\"\n",
    "        #f\"cargo run --release --manifest-path ./tools/Cargo.toml --bin vis {directory_input}/@ ./{index_parallel}_out/@ 2> /dev/null > ./{index_parallel}_score/@;\"\n",
    "    )\n",
    "    # 並列実行 (sed はパスのディレクトリ部分を消してファイル名にしてる)\n",
    "    run(f\"find {directory_input}/* | sed 's!^.*/!!' | xargs -I@ -P {n_internal_parallel} sh -c '{command_exec}'\")\n",
    "    \n",
    "    # 集計\n",
    "    sum_score = 0\n",
    "    for file_path in Path(f\"./{index_parallel}_score/\").iterdir():  \n",
    "        with open(file_path) as f:\n",
    "            sum_score += int(f.read())\n",
    "    \n",
    "    # 後始末\n",
    "    run(f\"rm -rf {index_parallel}_out\")\n",
    "    run(f\"rm -rf {index_parallel}_score\")\n",
    "#     run(f\"rm {parameters_changed_filename}\")\n",
    "    run(f\"rm {parameters_changed_filename}.out\")\n",
    "    \n",
    "    return sum_score\n"
   ]
  },
  {
   "cell_type": "code",
   "execution_count": 8,
   "id": "af9503f8",
   "metadata": {},
   "outputs": [
    {
     "name": "stderr",
     "output_type": "stream",
     "text": [
      "\u001b[32m[I 2021-11-13 00:36:35,081]\u001b[0m A new study created in RDB with name: study\u001b[0m\n"
     ]
    }
   ],
   "source": [
    "storage_path = f\"study.db\"\n",
    "storage = f\"sqlite:///{storage_path}\"\n",
    "study_name = \"study\"\n",
    "study = optuna.create_study(storage=storage, load_if_exists=True, study_name=study_name, direction=\"maximize\")\n",
    "\n",
    "def callback(study, trial):\n",
    "    try:\n",
    "        if study.best_value == trial.value:\n",
    "            print(f\"Updated! {study.best_value}\")\n",
    "            index_parallel = f\"{trial.number:04d}\"\n",
    "            parameters_changed_filename = f\"{index_parallel}_{FILENAME}\"\n",
    "            !cp {parameters_changed_filename} 00000_best_parameters.cpp\n",
    "        !rm {parameters_changed_filename}\n",
    "        print(\"callback ok\")\n",
    "    except:\n",
    "        print(\":(\")"
   ]
  },
  {
   "cell_type": "code",
   "execution_count": null,
   "id": "9e299bef",
   "metadata": {
    "scrolled": true
   },
   "outputs": [
    {
     "name": "stdout",
     "output_type": "stream",
     "text": [
      "index_parallel='0000'\n",
      "index_parallel='0001'\n",
      "index_parallel='0002'\n"
     ]
    },
    {
     "name": "stderr",
     "output_type": "stream",
     "text": [
      "/home/user/anaconda3/lib/python3.8/site-packages/optuna/study/study.py:393: FutureWarning: `n_jobs` argument has been deprecated in v2.7.0. This feature will be removed in v4.0.0. See https://github.com/optuna/optuna/releases/tag/v2.7.0.\n",
      "  warnings.warn(\n"
     ]
    },
    {
     "name": "stdout",
     "output_type": "stream",
     "text": [
      "sed -i 0000_main.cpp -e 's/^constexpr auto MCMC_Q_L2_NORM_RANGE = .*;           \\/\\/ OPTIMIZE LOG \\[2\\.0, 20\\.0\\]$/constexpr auto MCMC_Q_L2_NORM_RANGE = 12.94946521491701;           \\/\\/ OPTIMIZE LOG [2.0, 20.0]/' -e 's/^constexpr auto MCMC_Q_RANGE = .*;                   \\/\\/ OPTIMIZE LOG \\[0\\.2, 10\\.0\\]$/constexpr auto MCMC_Q_RANGE = 0.39550430018137583;                   \\/\\/ OPTIMIZE LOG [0.2, 10.0]/' -e 's/^constexpr auto EXPECTED_SKILL_EMA_ALPHA_COEF = .*; \\/\\/ OPTIMIZE LOG \\[0\\.02, 2\\.0\\]$/constexpr auto EXPECTED_SKILL_EMA_ALPHA_COEF = 0.2827244843106127; \\/\\/ OPTIMIZE LOG [0.02, 2.0]/' -e 's/^constexpr auto MAX_N_NOT_OPEN_TASKS_IN_QUEUE = .*; \\/\\/ OPTIMIZE \\[60, 100\\]$/constexpr auto MAX_N_NOT_OPEN_TASKS_IN_QUEUE = 79; \\/\\/ OPTIMIZE [60, 100]/' -e 's/^constexpr auto PRIORITY_DAY_OFFSET = .*;          \\/\\/ OPTIMIZE \\[400, 1200\\]$/constexpr auto PRIORITY_DAY_OFFSET = 461;          \\/\\/ OPTIMIZE [400, 1200]/' -e 's/^constexpr auto PRIORITY_COEF = .*; \\/\\/ OPTIMIZE LOG \\[0\\.002, 2\\.0\\]$/constexpr auto PRIORITY_COEF = 0.11713065138540142; \\/\\/ OPTIMIZE LOG [0.002, 2.0]/'\n",
      "sed -i 0001_main.cpp -e 's/^constexpr auto MCMC_Q_L2_NORM_RANGE = .*;           \\/\\/ OPTIMIZE LOG \\[2\\.0, 20\\.0\\]$/constexpr auto MCMC_Q_L2_NORM_RANGE = 5.1808347426158425;           \\/\\/ OPTIMIZE LOG [2.0, 20.0]/' -e 's/^constexpr auto MCMC_Q_RANGE = .*;                   \\/\\/ OPTIMIZE LOG \\[0\\.2, 10\\.0\\]$/constexpr auto MCMC_Q_RANGE = 0.5544895374948828;                   \\/\\/ OPTIMIZE LOG [0.2, 10.0]/' -e 's/^constexpr auto EXPECTED_SKILL_EMA_ALPHA_COEF = .*; \\/\\/ OPTIMIZE LOG \\[0\\.02, 2\\.0\\]$/constexpr auto EXPECTED_SKILL_EMA_ALPHA_COEF = 0.2716678423621172; \\/\\/ OPTIMIZE LOG [0.02, 2.0]/' -e 's/^constexpr auto MAX_N_NOT_OPEN_TASKS_IN_QUEUE = .*; \\/\\/ OPTIMIZE \\[60, 100\\]$/constexpr auto MAX_N_NOT_OPEN_TASKS_IN_QUEUE = 67; \\/\\/ OPTIMIZE [60, 100]/' -e 's/^constexpr auto PRIORITY_DAY_OFFSET = .*;          \\/\\/ OPTIMIZE \\[400, 1200\\]$/constexpr auto PRIORITY_DAY_OFFSET = 1005;          \\/\\/ OPTIMIZE [400, 1200]/' -e 's/^constexpr auto PRIORITY_COEF = .*; \\/\\/ OPTIMIZE LOG \\[0\\.002, 2\\.0\\]$/constexpr auto PRIORITY_COEF = 0.056736490804161877; \\/\\/ OPTIMIZE LOG [0.002, 2.0]/'\n",
      "clang++ 0000_main.cpp -std=gnu++17 -O2 -DONLINE_JUDGE -I/ -o 0000_main.cpp.out\n",
      "clang++ 0001_main.cpp -std=gnu++17 -O2 -DONLINE_JUDGE -I/ -o 0001_main.cpp.out\n",
      "sed -i 0002_main.cpp -e 's/^constexpr auto MCMC_Q_L2_NORM_RANGE = .*;           \\/\\/ OPTIMIZE LOG \\[2\\.0, 20\\.0\\]$/constexpr auto MCMC_Q_L2_NORM_RANGE = 2.8078774233660715;           \\/\\/ OPTIMIZE LOG [2.0, 20.0]/' -e 's/^constexpr auto MCMC_Q_RANGE = .*;                   \\/\\/ OPTIMIZE LOG \\[0\\.2, 10\\.0\\]$/constexpr auto MCMC_Q_RANGE = 1.2423942257924114;                   \\/\\/ OPTIMIZE LOG [0.2, 10.0]/' -e 's/^constexpr auto EXPECTED_SKILL_EMA_ALPHA_COEF = .*; \\/\\/ OPTIMIZE LOG \\[0\\.02, 2\\.0\\]$/constexpr auto EXPECTED_SKILL_EMA_ALPHA_COEF = 0.06005636744499221; \\/\\/ OPTIMIZE LOG [0.02, 2.0]/' -e 's/^constexpr auto MAX_N_NOT_OPEN_TASKS_IN_QUEUE = .*; \\/\\/ OPTIMIZE \\[60, 100\\]$/constexpr auto MAX_N_NOT_OPEN_TASKS_IN_QUEUE = 83; \\/\\/ OPTIMIZE [60, 100]/' -e 's/^constexpr auto PRIORITY_DAY_OFFSET = .*;          \\/\\/ OPTIMIZE \\[400, 1200\\]$/constexpr auto PRIORITY_DAY_OFFSET = 598;          \\/\\/ OPTIMIZE [400, 1200]/' -e 's/^constexpr auto PRIORITY_COEF = .*; \\/\\/ OPTIMIZE LOG \\[0\\.002, 2\\.0\\]$/constexpr auto PRIORITY_COEF = 0.6789506847419249; \\/\\/ OPTIMIZE LOG [0.002, 2.0]/'\n",
      "clang++ 0002_main.cpp -std=gnu++17 -O2 -DONLINE_JUDGE -I/ -o 0002_main.cpp.out\n"
     ]
    },
    {
     "name": "stderr",
     "output_type": "stream",
     "text": [
      "\u001b[32m[I 2021-11-13 00:40:44,240]\u001b[0m Trial 1 finished with value: 1004560.0 and parameters: {'MCMC_Q_L2_NORM_RANGE': 5.1808347426158425, 'MCMC_Q_RANGE': 0.5544895374948828, 'EXPECTED_SKILL_EMA_ALPHA_COEF': 0.2716678423621172, 'MAX_N_NOT_OPEN_TASKS_IN_QUEUE': 67, 'PRIORITY_DAY_OFFSET': 1005, 'PRIORITY_COEF': 0.056736490804161877}. Best is trial 1 with value: 1004560.0.\u001b[0m\n"
     ]
    },
    {
     "name": "stdout",
     "output_type": "stream",
     "text": [
      "Updated! 1004560.0\n",
      "callback ok\n",
      "index_parallel='0003'\n",
      "sed -i 0003_main.cpp -e 's/^constexpr auto MCMC_Q_L2_NORM_RANGE = .*;           \\/\\/ OPTIMIZE LOG \\[2\\.0, 20\\.0\\]$/constexpr auto MCMC_Q_L2_NORM_RANGE = 6.4628090661349376;           \\/\\/ OPTIMIZE LOG [2.0, 20.0]/' -e 's/^constexpr auto MCMC_Q_RANGE = .*;                   \\/\\/ OPTIMIZE LOG \\[0\\.2, 10\\.0\\]$/constexpr auto MCMC_Q_RANGE = 2.3510492985738862;                   \\/\\/ OPTIMIZE LOG [0.2, 10.0]/' -e 's/^constexpr auto EXPECTED_SKILL_EMA_ALPHA_COEF = .*; \\/\\/ OPTIMIZE LOG \\[0\\.02, 2\\.0\\]$/constexpr auto EXPECTED_SKILL_EMA_ALPHA_COEF = 0.05054255079709201; \\/\\/ OPTIMIZE LOG [0.02, 2.0]/' -e 's/^constexpr auto MAX_N_NOT_OPEN_TASKS_IN_QUEUE = .*; \\/\\/ OPTIMIZE \\[60, 100\\]$/constexpr auto MAX_N_NOT_OPEN_TASKS_IN_QUEUE = 79; \\/\\/ OPTIMIZE [60, 100]/' -e 's/^constexpr auto PRIORITY_DAY_OFFSET = .*;          \\/\\/ OPTIMIZE \\[400, 1200\\]$/constexpr auto PRIORITY_DAY_OFFSET = 1170;          \\/\\/ OPTIMIZE [400, 1200]/' -e 's/^constexpr auto PRIORITY_COEF = .*; \\/\\/ OPTIMIZE LOG \\[0\\.002, 2\\.0\\]$/constexpr auto PRIORITY_COEF = 0.00546752548489063; \\/\\/ OPTIMIZE LOG [0.002, 2.0]/'\n",
      "clang++ 0003_main.cpp -std=gnu++17 -O2 -DONLINE_JUDGE -I/ -o 0003_main.cpp.out\n"
     ]
    },
    {
     "name": "stderr",
     "output_type": "stream",
     "text": [
      "\u001b[32m[I 2021-11-13 00:40:50,108]\u001b[0m Trial 0 finished with value: 1006491.0 and parameters: {'MCMC_Q_L2_NORM_RANGE': 12.94946521491701, 'MCMC_Q_RANGE': 0.39550430018137583, 'EXPECTED_SKILL_EMA_ALPHA_COEF': 0.2827244843106127, 'MAX_N_NOT_OPEN_TASKS_IN_QUEUE': 79, 'PRIORITY_DAY_OFFSET': 461, 'PRIORITY_COEF': 0.11713065138540142}. Best is trial 0 with value: 1006491.0.\u001b[0m\n"
     ]
    },
    {
     "name": "stdout",
     "output_type": "stream",
     "text": [
      "Updated! 1006491.0\n"
     ]
    },
    {
     "name": "stderr",
     "output_type": "stream",
     "text": [
      "\u001b[32m[I 2021-11-13 00:40:50,431]\u001b[0m Trial 2 finished with value: 996169.0 and parameters: {'MCMC_Q_L2_NORM_RANGE': 2.8078774233660715, 'MCMC_Q_RANGE': 1.2423942257924114, 'EXPECTED_SKILL_EMA_ALPHA_COEF': 0.06005636744499221, 'MAX_N_NOT_OPEN_TASKS_IN_QUEUE': 83, 'PRIORITY_DAY_OFFSET': 598, 'PRIORITY_COEF': 0.6789506847419249}. Best is trial 0 with value: 1006491.0.\u001b[0m\n"
     ]
    },
    {
     "name": "stdout",
     "output_type": "stream",
     "text": [
      "callback ok\n",
      "index_parallel='0004'\n",
      "rm: cannot remove '{parameters_changed_filename}': No such file or directory\n",
      "callback ok\n",
      "index_parallel='0005'\n",
      "sed -i 0004_main.cpp -e 's/^constexpr auto MCMC_Q_L2_NORM_RANGE = .*;           \\/\\/ OPTIMIZE LOG \\[2\\.0, 20\\.0\\]$/constexpr auto MCMC_Q_L2_NORM_RANGE = 6.2166385669602855;           \\/\\/ OPTIMIZE LOG [2.0, 20.0]/' -e 's/^constexpr auto MCMC_Q_RANGE = .*;                   \\/\\/ OPTIMIZE LOG \\[0\\.2, 10\\.0\\]$/constexpr auto MCMC_Q_RANGE = 5.080899803655884;                   \\/\\/ OPTIMIZE LOG [0.2, 10.0]/' -e 's/^constexpr auto EXPECTED_SKILL_EMA_ALPHA_COEF = .*; \\/\\/ OPTIMIZE LOG \\[0\\.02, 2\\.0\\]$/constexpr auto EXPECTED_SKILL_EMA_ALPHA_COEF = 0.7475306255661518; \\/\\/ OPTIMIZE LOG [0.02, 2.0]/' -e 's/^constexpr auto MAX_N_NOT_OPEN_TASKS_IN_QUEUE = .*; \\/\\/ OPTIMIZE \\[60, 100\\]$/constexpr auto MAX_N_NOT_OPEN_TASKS_IN_QUEUE = 65; \\/\\/ OPTIMIZE [60, 100]/' -e 's/^constexpr auto PRIORITY_DAY_OFFSET = .*;          \\/\\/ OPTIMIZE \\[400, 1200\\]$/constexpr auto PRIORITY_DAY_OFFSET = 826;          \\/\\/ OPTIMIZE [400, 1200]/' -e 's/^constexpr auto PRIORITY_COEF = .*; \\/\\/ OPTIMIZE LOG \\[0\\.002, 2\\.0\\]$/constexpr auto PRIORITY_COEF = 1.344874833866837; \\/\\/ OPTIMIZE LOG [0.002, 2.0]/'\n",
      "clang++ 0004_main.cpp -std=gnu++17 -O2 -DONLINE_JUDGE -I/ -o 0004_main.cpp.out\n",
      "sed -i 0005_main.cpp -e 's/^constexpr auto MCMC_Q_L2_NORM_RANGE = .*;           \\/\\/ OPTIMIZE LOG \\[2\\.0, 20\\.0\\]$/constexpr auto MCMC_Q_L2_NORM_RANGE = 11.041850278605535;           \\/\\/ OPTIMIZE LOG [2.0, 20.0]/' -e 's/^constexpr auto MCMC_Q_RANGE = .*;                   \\/\\/ OPTIMIZE LOG \\[0\\.2, 10\\.0\\]$/constexpr auto MCMC_Q_RANGE = 2.7725587227519397;                   \\/\\/ OPTIMIZE LOG [0.2, 10.0]/' -e 's/^constexpr auto EXPECTED_SKILL_EMA_ALPHA_COEF = .*; \\/\\/ OPTIMIZE LOG \\[0\\.02, 2\\.0\\]$/constexpr auto EXPECTED_SKILL_EMA_ALPHA_COEF = 0.07527119648976266; \\/\\/ OPTIMIZE LOG [0.02, 2.0]/' -e 's/^constexpr auto MAX_N_NOT_OPEN_TASKS_IN_QUEUE = .*; \\/\\/ OPTIMIZE \\[60, 100\\]$/constexpr auto MAX_N_NOT_OPEN_TASKS_IN_QUEUE = 80; \\/\\/ OPTIMIZE [60, 100]/' -e 's/^constexpr auto PRIORITY_DAY_OFFSET = .*;          \\/\\/ OPTIMIZE \\[400, 1200\\]$/constexpr auto PRIORITY_DAY_OFFSET = 1164;          \\/\\/ OPTIMIZE [400, 1200]/' -e 's/^constexpr auto PRIORITY_COEF = .*; \\/\\/ OPTIMIZE LOG \\[0\\.002, 2\\.0\\]$/constexpr auto PRIORITY_COEF = 1.274636507919827; \\/\\/ OPTIMIZE LOG [0.002, 2.0]/'\n",
      "clang++ 0005_main.cpp -std=gnu++17 -O2 -DONLINE_JUDGE -I/ -o 0005_main.cpp.out\n"
     ]
    }
   ],
   "source": [
    "objective = partial(objective_with_index, n_internal_parallel=8)\n",
    "study.optimize(objective, n_trials=3000, timeout=86400, n_jobs=3, callbacks=[callback])"
   ]
  },
  {
   "cell_type": "code",
   "execution_count": null,
   "id": "9ea57293",
   "metadata": {},
   "outputs": [],
   "source": []
  }
 ],
 "metadata": {
  "kernelspec": {
   "display_name": "Python 3",
   "language": "python",
   "name": "python3"
  },
  "language_info": {
   "codemirror_mode": {
    "name": "ipython",
    "version": 3
   },
   "file_extension": ".py",
   "mimetype": "text/x-python",
   "name": "python",
   "nbconvert_exporter": "python",
   "pygments_lexer": "ipython3",
   "version": "3.8.8"
  }
 },
 "nbformat": 4,
 "nbformat_minor": 5
}
