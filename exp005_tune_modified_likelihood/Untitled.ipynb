{
 "cells": [
  {
   "cell_type": "code",
   "execution_count": 1,
   "id": "5ac54307",
   "metadata": {},
   "outputs": [],
   "source": [
    "import re\n",
    "import sys\n",
    "from time import sleep\n",
    "from pprint import pprint\n",
    "from pathlib import Path\n",
    "from functools import partial\n",
    "import subprocess\n",
    "from subprocess import PIPE\n",
    "\n",
    "import numpy as np\n",
    "import optuna\n",
    "import pandas as pd\n",
    "import matplotlib.pyplot as plt\n",
    "\n",
    "FILENAME = \"main.cpp\""
   ]
  },
  {
   "cell_type": "code",
   "execution_count": 2,
   "id": "1125ac12",
   "metadata": {},
   "outputs": [],
   "source": [
    "!cp ../answer/{FILENAME} ./{FILENAME}"
   ]
  },
  {
   "cell_type": "code",
   "execution_count": 3,
   "id": "1767baea",
   "metadata": {},
   "outputs": [],
   "source": [
    "!clang++ {FILENAME} -std=gnu++17 -Wall -Wextra -O2 -o {FILENAME}.out -I/"
   ]
  },
  {
   "cell_type": "code",
   "execution_count": 2,
   "id": "adb01159",
   "metadata": {},
   "outputs": [],
   "source": [
    "SEED = 0\n",
    "N_TESTCASES = 500"
   ]
  },
  {
   "cell_type": "code",
   "execution_count": 5,
   "id": "d4af25e6",
   "metadata": {
    "scrolled": true
   },
   "outputs": [
    {
     "name": "stdout",
     "output_type": "stream",
     "text": [
      "\u001b[0m\u001b[0m\u001b[1m\u001b[32m    Finished\u001b[0m release [optimized] target(s) in 0.19s\n",
      "\u001b[0m\u001b[0m\u001b[1m\u001b[32m     Running\u001b[0m `/home/user/ahc_httf_2022_qual/tools/target/release/gen seeds.txt`\n",
      "0000.txt  0063.txt  0126.txt  0189.txt\t0252.txt  0315.txt  0378.txt  0441.txt\n",
      "0001.txt  0064.txt  0127.txt  0190.txt\t0253.txt  0316.txt  0379.txt  0442.txt\n",
      "0002.txt  0065.txt  0128.txt  0191.txt\t0254.txt  0317.txt  0380.txt  0443.txt\n",
      "0003.txt  0066.txt  0129.txt  0192.txt\t0255.txt  0318.txt  0381.txt  0444.txt\n",
      "0004.txt  0067.txt  0130.txt  0193.txt\t0256.txt  0319.txt  0382.txt  0445.txt\n",
      "0005.txt  0068.txt  0131.txt  0194.txt\t0257.txt  0320.txt  0383.txt  0446.txt\n",
      "0006.txt  0069.txt  0132.txt  0195.txt\t0258.txt  0321.txt  0384.txt  0447.txt\n",
      "0007.txt  0070.txt  0133.txt  0196.txt\t0259.txt  0322.txt  0385.txt  0448.txt\n",
      "0008.txt  0071.txt  0134.txt  0197.txt\t0260.txt  0323.txt  0386.txt  0449.txt\n",
      "0009.txt  0072.txt  0135.txt  0198.txt\t0261.txt  0324.txt  0387.txt  0450.txt\n",
      "0010.txt  0073.txt  0136.txt  0199.txt\t0262.txt  0325.txt  0388.txt  0451.txt\n",
      "0011.txt  0074.txt  0137.txt  0200.txt\t0263.txt  0326.txt  0389.txt  0452.txt\n",
      "0012.txt  0075.txt  0138.txt  0201.txt\t0264.txt  0327.txt  0390.txt  0453.txt\n",
      "0013.txt  0076.txt  0139.txt  0202.txt\t0265.txt  0328.txt  0391.txt  0454.txt\n",
      "0014.txt  0077.txt  0140.txt  0203.txt\t0266.txt  0329.txt  0392.txt  0455.txt\n",
      "0015.txt  0078.txt  0141.txt  0204.txt\t0267.txt  0330.txt  0393.txt  0456.txt\n",
      "0016.txt  0079.txt  0142.txt  0205.txt\t0268.txt  0331.txt  0394.txt  0457.txt\n",
      "0017.txt  0080.txt  0143.txt  0206.txt\t0269.txt  0332.txt  0395.txt  0458.txt\n",
      "0018.txt  0081.txt  0144.txt  0207.txt\t0270.txt  0333.txt  0396.txt  0459.txt\n",
      "0019.txt  0082.txt  0145.txt  0208.txt\t0271.txt  0334.txt  0397.txt  0460.txt\n",
      "0020.txt  0083.txt  0146.txt  0209.txt\t0272.txt  0335.txt  0398.txt  0461.txt\n",
      "0021.txt  0084.txt  0147.txt  0210.txt\t0273.txt  0336.txt  0399.txt  0462.txt\n",
      "0022.txt  0085.txt  0148.txt  0211.txt\t0274.txt  0337.txt  0400.txt  0463.txt\n",
      "0023.txt  0086.txt  0149.txt  0212.txt\t0275.txt  0338.txt  0401.txt  0464.txt\n",
      "0024.txt  0087.txt  0150.txt  0213.txt\t0276.txt  0339.txt  0402.txt  0465.txt\n",
      "0025.txt  0088.txt  0151.txt  0214.txt\t0277.txt  0340.txt  0403.txt  0466.txt\n",
      "0026.txt  0089.txt  0152.txt  0215.txt\t0278.txt  0341.txt  0404.txt  0467.txt\n",
      "0027.txt  0090.txt  0153.txt  0216.txt\t0279.txt  0342.txt  0405.txt  0468.txt\n",
      "0028.txt  0091.txt  0154.txt  0217.txt\t0280.txt  0343.txt  0406.txt  0469.txt\n",
      "0029.txt  0092.txt  0155.txt  0218.txt\t0281.txt  0344.txt  0407.txt  0470.txt\n",
      "0030.txt  0093.txt  0156.txt  0219.txt\t0282.txt  0345.txt  0408.txt  0471.txt\n",
      "0031.txt  0094.txt  0157.txt  0220.txt\t0283.txt  0346.txt  0409.txt  0472.txt\n",
      "0032.txt  0095.txt  0158.txt  0221.txt\t0284.txt  0347.txt  0410.txt  0473.txt\n",
      "0033.txt  0096.txt  0159.txt  0222.txt\t0285.txt  0348.txt  0411.txt  0474.txt\n",
      "0034.txt  0097.txt  0160.txt  0223.txt\t0286.txt  0349.txt  0412.txt  0475.txt\n",
      "0035.txt  0098.txt  0161.txt  0224.txt\t0287.txt  0350.txt  0413.txt  0476.txt\n",
      "0036.txt  0099.txt  0162.txt  0225.txt\t0288.txt  0351.txt  0414.txt  0477.txt\n",
      "0037.txt  0100.txt  0163.txt  0226.txt\t0289.txt  0352.txt  0415.txt  0478.txt\n",
      "0038.txt  0101.txt  0164.txt  0227.txt\t0290.txt  0353.txt  0416.txt  0479.txt\n",
      "0039.txt  0102.txt  0165.txt  0228.txt\t0291.txt  0354.txt  0417.txt  0480.txt\n",
      "0040.txt  0103.txt  0166.txt  0229.txt\t0292.txt  0355.txt  0418.txt  0481.txt\n",
      "0041.txt  0104.txt  0167.txt  0230.txt\t0293.txt  0356.txt  0419.txt  0482.txt\n",
      "0042.txt  0105.txt  0168.txt  0231.txt\t0294.txt  0357.txt  0420.txt  0483.txt\n",
      "0043.txt  0106.txt  0169.txt  0232.txt\t0295.txt  0358.txt  0421.txt  0484.txt\n",
      "0044.txt  0107.txt  0170.txt  0233.txt\t0296.txt  0359.txt  0422.txt  0485.txt\n",
      "0045.txt  0108.txt  0171.txt  0234.txt\t0297.txt  0360.txt  0423.txt  0486.txt\n",
      "0046.txt  0109.txt  0172.txt  0235.txt\t0298.txt  0361.txt  0424.txt  0487.txt\n",
      "0047.txt  0110.txt  0173.txt  0236.txt\t0299.txt  0362.txt  0425.txt  0488.txt\n",
      "0048.txt  0111.txt  0174.txt  0237.txt\t0300.txt  0363.txt  0426.txt  0489.txt\n",
      "0049.txt  0112.txt  0175.txt  0238.txt\t0301.txt  0364.txt  0427.txt  0490.txt\n",
      "0050.txt  0113.txt  0176.txt  0239.txt\t0302.txt  0365.txt  0428.txt  0491.txt\n",
      "0051.txt  0114.txt  0177.txt  0240.txt\t0303.txt  0366.txt  0429.txt  0492.txt\n",
      "0052.txt  0115.txt  0178.txt  0241.txt\t0304.txt  0367.txt  0430.txt  0493.txt\n",
      "0053.txt  0116.txt  0179.txt  0242.txt\t0305.txt  0368.txt  0431.txt  0494.txt\n",
      "0054.txt  0117.txt  0180.txt  0243.txt\t0306.txt  0369.txt  0432.txt  0495.txt\n",
      "0055.txt  0118.txt  0181.txt  0244.txt\t0307.txt  0370.txt  0433.txt  0496.txt\n",
      "0056.txt  0119.txt  0182.txt  0245.txt\t0308.txt  0371.txt  0434.txt  0497.txt\n",
      "0057.txt  0120.txt  0183.txt  0246.txt\t0309.txt  0372.txt  0435.txt  0498.txt\n",
      "0058.txt  0121.txt  0184.txt  0247.txt\t0310.txt  0373.txt  0436.txt  0499.txt\n",
      "0059.txt  0122.txt  0185.txt  0248.txt\t0311.txt  0374.txt  0437.txt\n",
      "0060.txt  0123.txt  0186.txt  0249.txt\t0312.txt  0375.txt  0438.txt\n",
      "0061.txt  0124.txt  0187.txt  0250.txt\t0313.txt  0376.txt  0439.txt\n",
      "0062.txt  0125.txt  0188.txt  0251.txt\t0314.txt  0377.txt  0440.txt\n"
     ]
    }
   ],
   "source": [
    "!seq {SEED} {SEED+N_TESTCASES-1} > seeds.txt && cargo run --release --manifest-path ../tools/Cargo.toml --bin gen seeds.txt\n",
    "!ls in"
   ]
  },
  {
   "cell_type": "code",
   "execution_count": null,
   "id": "2da36edd",
   "metadata": {},
   "outputs": [],
   "source": [
    "# %%time\n",
    "# # もとのスコアの確認\n",
    "# scores = []\n",
    "# for i in range(N_TESTCASES):\n",
    "#     i = f\"{i:04d}\"\n",
    "#     score = !../tools/target/release/tester $(pwd)/{FILENAME}.out < in/{i}.txt 2>&1 | grep Score\n",
    "#     print(i, *score)\n",
    "#     score = int(score[0].split()[-1])\n",
    "#     scores.append(score)\n",
    "# np.mean(scores), np.mean(scores) * 50, np.std(scores)"
   ]
  },
  {
   "cell_type": "code",
   "execution_count": 3,
   "id": "cc568aad",
   "metadata": {},
   "outputs": [
    {
     "name": "stdout",
     "output_type": "stream",
     "text": [
      "6 variables were found.\n"
     ]
    },
    {
     "data": {
      "text/html": [
       "<div>\n",
       "<style scoped>\n",
       "    .dataframe tbody tr th:only-of-type {\n",
       "        vertical-align: middle;\n",
       "    }\n",
       "\n",
       "    .dataframe tbody tr th {\n",
       "        vertical-align: top;\n",
       "    }\n",
       "\n",
       "    .dataframe thead th {\n",
       "        text-align: right;\n",
       "    }\n",
       "</style>\n",
       "<table border=\"1\" class=\"dataframe\">\n",
       "  <thead>\n",
       "    <tr style=\"text-align: right;\">\n",
       "      <th></th>\n",
       "      <th>name</th>\n",
       "      <th>method</th>\n",
       "      <th>min</th>\n",
       "      <th>max</th>\n",
       "      <th>log</th>\n",
       "      <th>left</th>\n",
       "      <th>right</th>\n",
       "    </tr>\n",
       "  </thead>\n",
       "  <tbody>\n",
       "    <tr>\n",
       "      <th>0</th>\n",
       "      <td>MCMC_Q_L2_NORM_RANGE</td>\n",
       "      <td>suggest_float</td>\n",
       "      <td>2.000</td>\n",
       "      <td>20.0</td>\n",
       "      <td>True</td>\n",
       "      <td>constexpr auto MCMC_Q_L2_NORM_RANGE =</td>\n",
       "      <td>;           // OPTIMIZE LOG [2.0, 20.0]</td>\n",
       "    </tr>\n",
       "    <tr>\n",
       "      <th>1</th>\n",
       "      <td>MCMC_Q_RANGE</td>\n",
       "      <td>suggest_float</td>\n",
       "      <td>0.200</td>\n",
       "      <td>10.0</td>\n",
       "      <td>True</td>\n",
       "      <td>constexpr auto MCMC_Q_RANGE =</td>\n",
       "      <td>;                   // OPTIMIZE LOG [0.2, 10.0]</td>\n",
       "    </tr>\n",
       "    <tr>\n",
       "      <th>2</th>\n",
       "      <td>EXPECTED_SKILL_EMA_ALPHA_COEF</td>\n",
       "      <td>suggest_float</td>\n",
       "      <td>0.020</td>\n",
       "      <td>2.0</td>\n",
       "      <td>True</td>\n",
       "      <td>constexpr auto EXPECTED_SKILL_EMA_ALPHA_COEF =</td>\n",
       "      <td>; // OPTIMIZE LOG [0.02, 2.0]</td>\n",
       "    </tr>\n",
       "    <tr>\n",
       "      <th>3</th>\n",
       "      <td>MAX_N_NOT_OPEN_TASKS_IN_QUEUE</td>\n",
       "      <td>suggest_int</td>\n",
       "      <td>60.000</td>\n",
       "      <td>100.0</td>\n",
       "      <td>False</td>\n",
       "      <td>constexpr auto MAX_N_NOT_OPEN_TASKS_IN_QUEUE =</td>\n",
       "      <td>; // OPTIMIZE [60, 100]</td>\n",
       "    </tr>\n",
       "    <tr>\n",
       "      <th>4</th>\n",
       "      <td>PRIORITY_DAY_OFFSET</td>\n",
       "      <td>suggest_int</td>\n",
       "      <td>400.000</td>\n",
       "      <td>1200.0</td>\n",
       "      <td>False</td>\n",
       "      <td>constexpr auto PRIORITY_DAY_OFFSET =</td>\n",
       "      <td>;          // OPTIMIZE [400, 1200]</td>\n",
       "    </tr>\n",
       "    <tr>\n",
       "      <th>5</th>\n",
       "      <td>PRIORITY_COEF</td>\n",
       "      <td>suggest_float</td>\n",
       "      <td>0.002</td>\n",
       "      <td>2.0</td>\n",
       "      <td>True</td>\n",
       "      <td>constexpr auto PRIORITY_COEF =</td>\n",
       "      <td>; // OPTIMIZE LOG [0.002, 2.0]</td>\n",
       "    </tr>\n",
       "  </tbody>\n",
       "</table>\n",
       "</div>"
      ],
      "text/plain": [
       "                            name         method      min     max    log  \\\n",
       "0           MCMC_Q_L2_NORM_RANGE  suggest_float    2.000    20.0   True   \n",
       "1                   MCMC_Q_RANGE  suggest_float    0.200    10.0   True   \n",
       "2  EXPECTED_SKILL_EMA_ALPHA_COEF  suggest_float    0.020     2.0   True   \n",
       "3  MAX_N_NOT_OPEN_TASKS_IN_QUEUE    suggest_int   60.000   100.0  False   \n",
       "4            PRIORITY_DAY_OFFSET    suggest_int  400.000  1200.0  False   \n",
       "5                  PRIORITY_COEF  suggest_float    0.002     2.0   True   \n",
       "\n",
       "                                              left  \\\n",
       "0           constexpr auto MCMC_Q_L2_NORM_RANGE =    \n",
       "1                   constexpr auto MCMC_Q_RANGE =    \n",
       "2  constexpr auto EXPECTED_SKILL_EMA_ALPHA_COEF =    \n",
       "3  constexpr auto MAX_N_NOT_OPEN_TASKS_IN_QUEUE =    \n",
       "4            constexpr auto PRIORITY_DAY_OFFSET =    \n",
       "5                  constexpr auto PRIORITY_COEF =    \n",
       "\n",
       "                                             right  \n",
       "0          ;           // OPTIMIZE LOG [2.0, 20.0]  \n",
       "1  ;                   // OPTIMIZE LOG [0.2, 10.0]  \n",
       "2                    ; // OPTIMIZE LOG [0.02, 2.0]  \n",
       "3                          ; // OPTIMIZE [60, 100]  \n",
       "4               ;          // OPTIMIZE [400, 1200]  \n",
       "5                   ; // OPTIMIZE LOG [0.002, 2.0]  "
      ]
     },
     "metadata": {},
     "output_type": "display_data"
    }
   ],
   "source": [
    "# ここでエラー出力は何かおかしいかもしれない\n",
    "\n",
    "\n",
    "# パラメータ抽出\n",
    "with open(FILENAME) as f:\n",
    "    answer = f.read()\n",
    "\n",
    "\n",
    "variables_optimize = []\n",
    "\n",
    "for left, value, right, options in re.findall(r\"^([^/\\n]*=\\s*)(.+?)(\\s*;\\s*//(?:.*\\W)?OPTIMIZE(\\W.*))$\", answer, re.MULTILINE):\n",
    "    name = left.replace(\"=\", \"\").strip().split()[-1]\n",
    "    \n",
    "    searched = re.search(r\".*\\[(?P<min>.*),(?P<max>.*)\\].*\", options)\n",
    "    if searched:\n",
    "        min_value = max_value = None\n",
    "        try:\n",
    "            min_value = eval(searched.group(\"min\"))\n",
    "            max_value = eval(searched.group(\"max\"))\n",
    "            assert min_value <= max_value\n",
    "        except Exception as e:\n",
    "            print(f\"searched={searched}\", file=sys.stderr)\n",
    "            print(e, file=sys.stderr)\n",
    "            continue\n",
    "        log = \"LOG\" in options  # 雑、直したほうが良い\n",
    "        if type(min_value) != type(max_value):\n",
    "            print(f\"searched={searched}\", file=sys.stderr)\n",
    "            print(\"types not matched\", file=sys.stderr)\n",
    "            continue\n",
    "        if isinstance(min_value, int):\n",
    "            method = \"suggest_int\"\n",
    "        elif isinstance(min_value, float):\n",
    "            method = \"suggest_float\"\n",
    "        else:\n",
    "            print(f\"searched={searched}\", file=sys.stderr)\n",
    "            print(f\"unknown type ({type(min_value)})\", file=sys.stderr)\n",
    "            continue\n",
    "        variables_optimize.append({\n",
    "            \"name\": name,\n",
    "            \"method\": method,\n",
    "            \"min\": min_value,\n",
    "            \"max\": max_value,\n",
    "            \"log\": log,\n",
    "            \"left\": left,\n",
    "            \"right\": right,\n",
    "        })\n",
    "    elif searched := re.search(r\".*\\{(?P<choices>.*?)\\}.*\", options):\n",
    "        choices = list(map(lambda x: x.strip(), searched.group(\"choices\").split(\",\")))\n",
    "        variables_optimize.append({\n",
    "            \"name\": name,\n",
    "            \"method\": \"suggest_categorical\",\n",
    "            \"choices\": choices,\n",
    "            \"left\": left,\n",
    "            \"right\": right,\n",
    "        })\n",
    "    else:\n",
    "        print(f\"searched={searched}\", file=sys.stderr)\n",
    "        print(f\"pattern was matched but options are incorrect.\", file=sys.stderr)\n",
    "\n",
    "print(len(variables_optimize), \"variables were found.\")\n",
    "if globals().get(\"pd\"):\n",
    "    display(pd.DataFrame(variables_optimize))\n",
    "else:\n",
    "    pprint(variables_optimize)\n",
    "\n"
   ]
  },
  {
   "cell_type": "code",
   "execution_count": 4,
   "id": "d4ec85b1",
   "metadata": {},
   "outputs": [],
   "source": [
    "def escape(string):  # 正規表現の中でそのまま使いたい文字列をエスケープ\n",
    "    res = !echo '{string}' | sed -e 's/[]\\/$*.^[]/\\\\&/g'\n",
    "    return res[0]\n",
    "\n",
    "def escape_sed(string):  # sed の置換後の文字列用のエスケープ\n",
    "    res = !echo '{string}' | sed -e 's/[\\/&]/\\\\&/g'\n",
    "    return res[0]\n",
    "\n",
    "def run(cmd):\n",
    "    p = subprocess.Popen(\n",
    "        cmd, stdout=subprocess.PIPE, stderr=subprocess.STDOUT, shell=isinstance(cmd, str)\n",
    "    )\n",
    "    for line in iter(p.stdout.readline, b''):\n",
    "        print(line.decode(\"utf8\"), end=\"\")\n",
    "\n",
    "def objective_with_index(trial, n_internal_parallel):\n",
    "    index_parallel = f\"{trial.number:04d}\"\n",
    "    print(f\"{index_parallel=}\")\n",
    "    \n",
    "    parameters_changed_filename = f\"{index_parallel}_{FILENAME}\"\n",
    "    directory_input = Path(\"./in\")  # 中のすべてのファイルに対して実行される\n",
    "    \n",
    "    run([\"mkdir\", f\"{index_parallel}_out\"])\n",
    "    run([\"mkdir\", f\"{index_parallel}_score\"])\n",
    "    \n",
    "    # ファイル作成\n",
    "    run(f\"cp {FILENAME} {parameters_changed_filename}\")\n",
    "    sed_options = [f\"-i {parameters_changed_filename}\"]\n",
    "    for variable in variables_optimize:\n",
    "        if variable[\"method\"] == \"suggest_categorical\":\n",
    "            val =  trial.suggest_categorical(variable[\"name\"], variable[\"choices\"])\n",
    "        else:\n",
    "            val = getattr(trial, variable[\"method\"])(variable[\"name\"], variable[\"min\"], variable[\"max\"], log=variable[\"log\"])\n",
    "        left = variable[\"left\"]\n",
    "        right = variable[\"right\"]\n",
    "        sed_options.append(f\"\"\"-e 's/^{escape(left)}.*{escape(right)}$/{escape_sed(left)}{val}{escape_sed(right)}/'\"\"\")\n",
    "    command_sed = f\"sed {' '.join(sed_options)}\"\n",
    "    print(command_sed)\n",
    "    run(command_sed)\n",
    "    \n",
    "    # コンパイル\n",
    "    command_compile = f\"clang++ {parameters_changed_filename} -std=gnu++17 -O2 -DONLINE_JUDGE -I/ -o {parameters_changed_filename}.out\"\n",
    "    print(command_compile)\n",
    "    run(command_compile)\n",
    "    # 実行・採点コマンド (@ はファイル名)\n",
    "    command_exec = (\n",
    "        #f\"../tools/target/release/tester $(pwd)/{parameters_changed_filename}.out < {directory_input}/@ 2>&1 | grep Score\"\n",
    "        f\"../tools/target/release/tester $(pwd)/{parameters_changed_filename}.out < {directory_input}/@ 2>&1 | grep Score | sed -E s/[^0-9]+// > ./{index_parallel}_score/@;\"\n",
    "        #f\"cargo run --release --manifest-path ../tools/Cargo.toml --bin tester {directory_input}/@ $(pwd)/{parameters_changed_filename}.out 2>&1 | grep Score | sed -E s/[^0-9]+// > ./{index_parallel}_score/@;\"\n",
    "        #f\"./{parameters_changed_filename}.out < {directory_input}/@ > ./{index_parallel}_out/@;\"\n",
    "        #f\"cargo run --release --manifest-path ./tools/Cargo.toml --bin vis {directory_input}/@ ./{index_parallel}_out/@ 2> /dev/null > ./{index_parallel}_score/@;\"\n",
    "    )\n",
    "    # 並列実行 (sed はパスのディレクトリ部分を消してファイル名にしてる)\n",
    "    run(f\"find {directory_input}/* | sed 's!^.*/!!' | xargs -I@ -P {n_internal_parallel} sh -c '{command_exec}'\")\n",
    "    \n",
    "    # 集計\n",
    "    sum_score = 0\n",
    "    for file_path in Path(f\"./{index_parallel}_score/\").iterdir():  \n",
    "        with open(file_path) as f:\n",
    "            sum_score += int(f.read())\n",
    "    \n",
    "    # 後始末\n",
    "    run(f\"rm -rf {index_parallel}_out\")\n",
    "    run(f\"rm -rf {index_parallel}_score\")\n",
    "#     run(f\"rm {parameters_changed_filename}\")\n",
    "    run(f\"rm {parameters_changed_filename}.out\")\n",
    "    \n",
    "    return sum_score\n"
   ]
  },
  {
   "cell_type": "code",
   "execution_count": 5,
   "id": "18c715a5",
   "metadata": {
    "scrolled": false
   },
   "outputs": [
    {
     "name": "stderr",
     "output_type": "stream",
     "text": [
      "\u001b[32m[I 2021-11-13 03:44:07,063]\u001b[0m Using an existing study with name 'study' instead of creating a new one.\u001b[0m\n"
     ]
    }
   ],
   "source": [
    "storage_path = f\"study.db\"\n",
    "storage = f\"sqlite:///{storage_path}\"\n",
    "study_name = \"study\"\n",
    "study = optuna.create_study(storage=storage, load_if_exists=True, study_name=study_name, direction=\"maximize\")\n",
    "\n",
    "def callback(study, trial):\n",
    "    try:\n",
    "        index_parallel = f\"{trial.number:04d}\"\n",
    "        parameters_changed_filename = f\"{index_parallel}_{FILENAME}\"\n",
    "        if study.best_value == trial.value:\n",
    "            print(f\"Updated! {study.best_value}\")\n",
    "            !cp {parameters_changed_filename} 00000_best_parameters.cpp\n",
    "        !rm {parameters_changed_filename}\n",
    "        print(\"callback ok\")\n",
    "    except:\n",
    "        print(\":(\")"
   ]
  },
  {
   "cell_type": "code",
   "execution_count": 6,
   "id": "488887fe",
   "metadata": {
    "scrolled": true
   },
   "outputs": [
    {
     "name": "stderr",
     "output_type": "stream",
     "text": [
      "/home/user/anaconda3/lib/python3.8/site-packages/optuna/study/study.py:393: FutureWarning: `n_jobs` argument has been deprecated in v2.7.0. This feature will be removed in v4.0.0. See https://github.com/optuna/optuna/releases/tag/v2.7.0.\n",
      "  warnings.warn(\n"
     ]
    },
    {
     "name": "stdout",
     "output_type": "stream",
     "text": [
      "index_parallel='0132'\n",
      "index_parallel='0133'\n",
      "index_parallel='0134'\n",
      "sed -i 0132_main.cpp -e 's/^constexpr auto MCMC_Q_L2_NORM_RANGE = .*;           \\/\\/ OPTIMIZE LOG \\[2\\.0, 20\\.0\\]$/constexpr auto MCMC_Q_L2_NORM_RANGE = 8.62848995348339;           \\/\\/ OPTIMIZE LOG [2.0, 20.0]/' -e 's/^constexpr auto MCMC_Q_RANGE = .*;                   \\/\\/ OPTIMIZE LOG \\[0\\.2, 10\\.0\\]$/constexpr auto MCMC_Q_RANGE = 1.145286155886507;                   \\/\\/ OPTIMIZE LOG [0.2, 10.0]/' -e 's/^constexpr auto EXPECTED_SKILL_EMA_ALPHA_COEF = .*; \\/\\/ OPTIMIZE LOG \\[0\\.02, 2\\.0\\]$/constexpr auto EXPECTED_SKILL_EMA_ALPHA_COEF = 0.7223285839117831; \\/\\/ OPTIMIZE LOG [0.02, 2.0]/' -e 's/^constexpr auto MAX_N_NOT_OPEN_TASKS_IN_QUEUE = .*; \\/\\/ OPTIMIZE \\[60, 100\\]$/constexpr auto MAX_N_NOT_OPEN_TASKS_IN_QUEUE = 94; \\/\\/ OPTIMIZE [60, 100]/' -e 's/^constexpr auto PRIORITY_DAY_OFFSET = .*;          \\/\\/ OPTIMIZE \\[400, 1200\\]$/constexpr auto PRIORITY_DAY_OFFSET = 714;          \\/\\/ OPTIMIZE [400, 1200]/' -e 's/^constexpr auto PRIORITY_COEF = .*; \\/\\/ OPTIMIZE LOG \\[0\\.002, 2\\.0\\]$/constexpr auto PRIORITY_COEF = 0.45012799298099926; \\/\\/ OPTIMIZE LOG [0.002, 2.0]/'\n",
      "clang++ 0132_main.cpp -std=gnu++17 -O2 -DONLINE_JUDGE -I/ -o 0132_main.cpp.out\n",
      "sed -i 0133_main.cpp -e 's/^constexpr auto MCMC_Q_L2_NORM_RANGE = .*;           \\/\\/ OPTIMIZE LOG \\[2\\.0, 20\\.0\\]$/constexpr auto MCMC_Q_L2_NORM_RANGE = 12.865789706938177;           \\/\\/ OPTIMIZE LOG [2.0, 20.0]/' -e 's/^constexpr auto MCMC_Q_RANGE = .*;                   \\/\\/ OPTIMIZE LOG \\[0\\.2, 10\\.0\\]$/constexpr auto MCMC_Q_RANGE = 1.1503023664694032;                   \\/\\/ OPTIMIZE LOG [0.2, 10.0]/' -e 's/^constexpr auto EXPECTED_SKILL_EMA_ALPHA_COEF = .*; \\/\\/ OPTIMIZE LOG \\[0\\.02, 2\\.0\\]$/constexpr auto EXPECTED_SKILL_EMA_ALPHA_COEF = 0.6803347047866688; \\/\\/ OPTIMIZE LOG [0.02, 2.0]/' -e 's/^constexpr auto MAX_N_NOT_OPEN_TASKS_IN_QUEUE = .*; \\/\\/ OPTIMIZE \\[60, 100\\]$/constexpr auto MAX_N_NOT_OPEN_TASKS_IN_QUEUE = 94; \\/\\/ OPTIMIZE [60, 100]/' -e 's/^constexpr auto PRIORITY_DAY_OFFSET = .*;          \\/\\/ OPTIMIZE \\[400, 1200\\]$/constexpr auto PRIORITY_DAY_OFFSET = 585;          \\/\\/ OPTIMIZE [400, 1200]/' -e 's/^constexpr auto PRIORITY_COEF = .*; \\/\\/ OPTIMIZE LOG \\[0\\.002, 2\\.0\\]$/constexpr auto PRIORITY_COEF = 0.22317332801370435; \\/\\/ OPTIMIZE LOG [0.002, 2.0]/'\n",
      "clang++ 0133_main.cpp -std=gnu++17 -O2 -DONLINE_JUDGE -I/ -o 0133_main.cpp.out\n",
      "sed -i 0134_main.cpp -e 's/^constexpr auto MCMC_Q_L2_NORM_RANGE = .*;           \\/\\/ OPTIMIZE LOG \\[2\\.0, 20\\.0\\]$/constexpr auto MCMC_Q_L2_NORM_RANGE = 12.540600636679095;           \\/\\/ OPTIMIZE LOG [2.0, 20.0]/' -e 's/^constexpr auto MCMC_Q_RANGE = .*;                   \\/\\/ OPTIMIZE LOG \\[0\\.2, 10\\.0\\]$/constexpr auto MCMC_Q_RANGE = 1.1236784084262321;                   \\/\\/ OPTIMIZE LOG [0.2, 10.0]/' -e 's/^constexpr auto EXPECTED_SKILL_EMA_ALPHA_COEF = .*; \\/\\/ OPTIMIZE LOG \\[0\\.02, 2\\.0\\]$/constexpr auto EXPECTED_SKILL_EMA_ALPHA_COEF = 0.3852669161058527; \\/\\/ OPTIMIZE LOG [0.02, 2.0]/' -e 's/^constexpr auto MAX_N_NOT_OPEN_TASKS_IN_QUEUE = .*; \\/\\/ OPTIMIZE \\[60, 100\\]$/constexpr auto MAX_N_NOT_OPEN_TASKS_IN_QUEUE = 94; \\/\\/ OPTIMIZE [60, 100]/' -e 's/^constexpr auto PRIORITY_DAY_OFFSET = .*;          \\/\\/ OPTIMIZE \\[400, 1200\\]$/constexpr auto PRIORITY_DAY_OFFSET = 723;          \\/\\/ OPTIMIZE [400, 1200]/' -e 's/^constexpr auto PRIORITY_COEF = .*; \\/\\/ OPTIMIZE LOG \\[0\\.002, 2\\.0\\]$/constexpr auto PRIORITY_COEF = 0.21339683565413894; \\/\\/ OPTIMIZE LOG [0.002, 2.0]/'\n",
      "clang++ 0134_main.cpp -std=gnu++17 -O2 -DONLINE_JUDGE -I/ -o 0134_main.cpp.out\n"
     ]
    },
    {
     "name": "stderr",
     "output_type": "stream",
     "text": [
      "\u001b[32m[I 2021-11-13 03:48:29,156]\u001b[0m Trial 134 finished with value: 1011549.0 and parameters: {'MCMC_Q_L2_NORM_RANGE': 12.540600636679095, 'MCMC_Q_RANGE': 1.1236784084262321, 'EXPECTED_SKILL_EMA_ALPHA_COEF': 0.3852669161058527, 'MAX_N_NOT_OPEN_TASKS_IN_QUEUE': 94, 'PRIORITY_DAY_OFFSET': 723, 'PRIORITY_COEF': 0.21339683565413894}. Best is trial 47 with value: 1013922.0.\u001b[0m\n"
     ]
    },
    {
     "name": "stdout",
     "output_type": "stream",
     "text": [
      "callback ok\n",
      "index_parallel='0135'\n"
     ]
    },
    {
     "name": "stderr",
     "output_type": "stream",
     "text": [
      "\u001b[32m[I 2021-11-13 03:48:29,677]\u001b[0m Trial 133 finished with value: 1012616.0 and parameters: {'MCMC_Q_L2_NORM_RANGE': 12.865789706938177, 'MCMC_Q_RANGE': 1.1503023664694032, 'EXPECTED_SKILL_EMA_ALPHA_COEF': 0.6803347047866688, 'MAX_N_NOT_OPEN_TASKS_IN_QUEUE': 94, 'PRIORITY_DAY_OFFSET': 585, 'PRIORITY_COEF': 0.22317332801370435}. Best is trial 47 with value: 1013922.0.\u001b[0m\n"
     ]
    },
    {
     "name": "stdout",
     "output_type": "stream",
     "text": [
      "sed -i 0135_main.cpp -e 's/^constexpr auto MCMC_Q_L2_NORM_RANGE = .*;           \\/\\/ OPTIMIZE LOG \\[2\\.0, 20\\.0\\]$/constexpr auto MCMC_Q_L2_NORM_RANGE = 14.80363269764823;           \\/\\/ OPTIMIZE LOG [2.0, 20.0]/' -e 's/^constexpr auto MCMC_Q_RANGE = .*;                   \\/\\/ OPTIMIZE LOG \\[0\\.2, 10\\.0\\]$/constexpr auto MCMC_Q_RANGE = 1.320238203475765;                   \\/\\/ OPTIMIZE LOG [0.2, 10.0]/' -e 's/^constexpr auto EXPECTED_SKILL_EMA_ALPHA_COEF = .*; \\/\\/ OPTIMIZE LOG \\[0\\.02, 2\\.0\\]$/constexpr auto EXPECTED_SKILL_EMA_ALPHA_COEF = 0.23042809092375102; \\/\\/ OPTIMIZE LOG [0.02, 2.0]/' -e 's/^constexpr auto MAX_N_NOT_OPEN_TASKS_IN_QUEUE = .*; \\/\\/ OPTIMIZE \\[60, 100\\]$/constexpr auto MAX_N_NOT_OPEN_TASKS_IN_QUEUE = 94; \\/\\/ OPTIMIZE [60, 100]/' -e 's/^constexpr auto PRIORITY_DAY_OFFSET = .*;          \\/\\/ OPTIMIZE \\[400, 1200\\]$/constexpr auto PRIORITY_DAY_OFFSET = 803;          \\/\\/ OPTIMIZE [400, 1200]/' -e 's/^constexpr auto PRIORITY_COEF = .*; \\/\\/ OPTIMIZE LOG \\[0\\.002, 2\\.0\\]$/constexpr auto PRIORITY_COEF = 0.17583352878595257; \\/\\/ OPTIMIZE LOG [0.002, 2.0]/'\n",
      "clang++ 0135_main.cpp -std=gnu++17 -O2 -DONLINE_JUDGE -I/ -o 0135_main.cpp.out\n",
      "callback ok\n",
      "index_parallel='0136'\n"
     ]
    },
    {
     "name": "stderr",
     "output_type": "stream",
     "text": [
      "\u001b[32m[I 2021-11-13 03:48:30,068]\u001b[0m Trial 132 finished with value: 1012898.0 and parameters: {'MCMC_Q_L2_NORM_RANGE': 8.62848995348339, 'MCMC_Q_RANGE': 1.145286155886507, 'EXPECTED_SKILL_EMA_ALPHA_COEF': 0.7223285839117831, 'MAX_N_NOT_OPEN_TASKS_IN_QUEUE': 94, 'PRIORITY_DAY_OFFSET': 714, 'PRIORITY_COEF': 0.45012799298099926}. Best is trial 47 with value: 1013922.0.\u001b[0m\n"
     ]
    },
    {
     "name": "stdout",
     "output_type": "stream",
     "text": [
      "callback ok\n",
      "index_parallel='0137'\n",
      "sed -i 0136_main.cpp -e 's/^constexpr auto MCMC_Q_L2_NORM_RANGE = .*;           \\/\\/ OPTIMIZE LOG \\[2\\.0, 20\\.0\\]$/constexpr auto MCMC_Q_L2_NORM_RANGE = 15.185792549590321;           \\/\\/ OPTIMIZE LOG [2.0, 20.0]/' -e 's/^constexpr auto MCMC_Q_RANGE = .*;                   \\/\\/ OPTIMIZE LOG \\[0\\.2, 10\\.0\\]$/constexpr auto MCMC_Q_RANGE = 1.2990261277488682;                   \\/\\/ OPTIMIZE LOG [0.2, 10.0]/' -e 's/^constexpr auto EXPECTED_SKILL_EMA_ALPHA_COEF = .*; \\/\\/ OPTIMIZE LOG \\[0\\.02, 2\\.0\\]$/constexpr auto EXPECTED_SKILL_EMA_ALPHA_COEF = 0.7434439116311793; \\/\\/ OPTIMIZE LOG [0.02, 2.0]/' -e 's/^constexpr auto MAX_N_NOT_OPEN_TASKS_IN_QUEUE = .*; \\/\\/ OPTIMIZE \\[60, 100\\]$/constexpr auto MAX_N_NOT_OPEN_TASKS_IN_QUEUE = 95; \\/\\/ OPTIMIZE [60, 100]/' -e 's/^constexpr auto PRIORITY_DAY_OFFSET = .*;          \\/\\/ OPTIMIZE \\[400, 1200\\]$/constexpr auto PRIORITY_DAY_OFFSET = 724;          \\/\\/ OPTIMIZE [400, 1200]/' -e 's/^constexpr auto PRIORITY_COEF = .*; \\/\\/ OPTIMIZE LOG \\[0\\.002, 2\\.0\\]$/constexpr auto PRIORITY_COEF = 0.18356953588156188; \\/\\/ OPTIMIZE LOG [0.002, 2.0]/'\n",
      "clang++ 0136_main.cpp -std=gnu++17 -O2 -DONLINE_JUDGE -I/ -o 0136_main.cpp.out\n",
      "sed -i 0137_main.cpp -e 's/^constexpr auto MCMC_Q_L2_NORM_RANGE = .*;           \\/\\/ OPTIMIZE LOG \\[2\\.0, 20\\.0\\]$/constexpr auto MCMC_Q_L2_NORM_RANGE = 9.236884806150357;           \\/\\/ OPTIMIZE LOG [2.0, 20.0]/' -e 's/^constexpr auto MCMC_Q_RANGE = .*;                   \\/\\/ OPTIMIZE LOG \\[0\\.2, 10\\.0\\]$/constexpr auto MCMC_Q_RANGE = 1.493859148702871;                   \\/\\/ OPTIMIZE LOG [0.2, 10.0]/' -e 's/^constexpr auto EXPECTED_SKILL_EMA_ALPHA_COEF = .*; \\/\\/ OPTIMIZE LOG \\[0\\.02, 2\\.0\\]$/constexpr auto EXPECTED_SKILL_EMA_ALPHA_COEF = 0.7382099891283338; \\/\\/ OPTIMIZE LOG [0.02, 2.0]/' -e 's/^constexpr auto MAX_N_NOT_OPEN_TASKS_IN_QUEUE = .*; \\/\\/ OPTIMIZE \\[60, 100\\]$/constexpr auto MAX_N_NOT_OPEN_TASKS_IN_QUEUE = 95; \\/\\/ OPTIMIZE [60, 100]/' -e 's/^constexpr auto PRIORITY_DAY_OFFSET = .*;          \\/\\/ OPTIMIZE \\[400, 1200\\]$/constexpr auto PRIORITY_DAY_OFFSET = 728;          \\/\\/ OPTIMIZE [400, 1200]/' -e 's/^constexpr auto PRIORITY_COEF = .*; \\/\\/ OPTIMIZE LOG \\[0\\.002, 2\\.0\\]$/constexpr auto PRIORITY_COEF = 0.4441602681221635; \\/\\/ OPTIMIZE LOG [0.002, 2.0]/'\n",
      "clang++ 0137_main.cpp -std=gnu++17 -O2 -DONLINE_JUDGE -I/ -o 0137_main.cpp.out\n"
     ]
    },
    {
     "name": "stderr",
     "output_type": "stream",
     "text": [
      "\u001b[32m[I 2021-11-13 03:52:42,144]\u001b[0m Trial 135 finished with value: 1010262.0 and parameters: {'MCMC_Q_L2_NORM_RANGE': 14.80363269764823, 'MCMC_Q_RANGE': 1.320238203475765, 'EXPECTED_SKILL_EMA_ALPHA_COEF': 0.23042809092375102, 'MAX_N_NOT_OPEN_TASKS_IN_QUEUE': 94, 'PRIORITY_DAY_OFFSET': 803, 'PRIORITY_COEF': 0.17583352878595257}. Best is trial 47 with value: 1013922.0.\u001b[0m\n"
     ]
    },
    {
     "name": "stdout",
     "output_type": "stream",
     "text": [
      "callback ok\n",
      "index_parallel='0138'\n",
      "sed -i 0138_main.cpp -e 's/^constexpr auto MCMC_Q_L2_NORM_RANGE = .*;           \\/\\/ OPTIMIZE LOG \\[2\\.0, 20\\.0\\]$/constexpr auto MCMC_Q_L2_NORM_RANGE = 8.599801865951537;           \\/\\/ OPTIMIZE LOG [2.0, 20.0]/' -e 's/^constexpr auto MCMC_Q_RANGE = .*;                   \\/\\/ OPTIMIZE LOG \\[0\\.2, 10\\.0\\]$/constexpr auto MCMC_Q_RANGE = 1.464394768540304;                   \\/\\/ OPTIMIZE LOG [0.2, 10.0]/' -e 's/^constexpr auto EXPECTED_SKILL_EMA_ALPHA_COEF = .*; \\/\\/ OPTIMIZE LOG \\[0\\.02, 2\\.0\\]$/constexpr auto EXPECTED_SKILL_EMA_ALPHA_COEF = 0.6945260340048154; \\/\\/ OPTIMIZE LOG [0.02, 2.0]/' -e 's/^constexpr auto MAX_N_NOT_OPEN_TASKS_IN_QUEUE = .*; \\/\\/ OPTIMIZE \\[60, 100\\]$/constexpr auto MAX_N_NOT_OPEN_TASKS_IN_QUEUE = 95; \\/\\/ OPTIMIZE [60, 100]/' -e 's/^constexpr auto PRIORITY_DAY_OFFSET = .*;          \\/\\/ OPTIMIZE \\[400, 1200\\]$/constexpr auto PRIORITY_DAY_OFFSET = 725;          \\/\\/ OPTIMIZE [400, 1200]/' -e 's/^constexpr auto PRIORITY_COEF = .*; \\/\\/ OPTIMIZE LOG \\[0\\.002, 2\\.0\\]$/constexpr auto PRIORITY_COEF = 0.4082191067607778; \\/\\/ OPTIMIZE LOG [0.002, 2.0]/'\n",
      "clang++ 0138_main.cpp -std=gnu++17 -O2 -DONLINE_JUDGE -I/ -o 0138_main.cpp.out\n"
     ]
    },
    {
     "name": "stderr",
     "output_type": "stream",
     "text": [
      "\u001b[32m[I 2021-11-13 03:52:44,500]\u001b[0m Trial 136 finished with value: 1010819.0 and parameters: {'MCMC_Q_L2_NORM_RANGE': 15.185792549590321, 'MCMC_Q_RANGE': 1.2990261277488682, 'EXPECTED_SKILL_EMA_ALPHA_COEF': 0.7434439116311793, 'MAX_N_NOT_OPEN_TASKS_IN_QUEUE': 95, 'PRIORITY_DAY_OFFSET': 724, 'PRIORITY_COEF': 0.18356953588156188}. Best is trial 47 with value: 1013922.0.\u001b[0m\n"
     ]
    },
    {
     "name": "stdout",
     "output_type": "stream",
     "text": [
      "callback ok\n",
      "index_parallel='0139'\n"
     ]
    },
    {
     "name": "stderr",
     "output_type": "stream",
     "text": [
      "\u001b[32m[I 2021-11-13 03:52:44,925]\u001b[0m Trial 137 finished with value: 1011236.0 and parameters: {'MCMC_Q_L2_NORM_RANGE': 9.236884806150357, 'MCMC_Q_RANGE': 1.493859148702871, 'EXPECTED_SKILL_EMA_ALPHA_COEF': 0.7382099891283338, 'MAX_N_NOT_OPEN_TASKS_IN_QUEUE': 95, 'PRIORITY_DAY_OFFSET': 728, 'PRIORITY_COEF': 0.4441602681221635}. Best is trial 47 with value: 1013922.0.\u001b[0m\n"
     ]
    },
    {
     "name": "stdout",
     "output_type": "stream",
     "text": [
      "callback ok\n",
      "index_parallel='0140'\n",
      "sed -i 0139_main.cpp -e 's/^constexpr auto MCMC_Q_L2_NORM_RANGE = .*;           \\/\\/ OPTIMIZE LOG \\[2\\.0, 20\\.0\\]$/constexpr auto MCMC_Q_L2_NORM_RANGE = 9.28282278566811;           \\/\\/ OPTIMIZE LOG [2.0, 20.0]/' -e 's/^constexpr auto MCMC_Q_RANGE = .*;                   \\/\\/ OPTIMIZE LOG \\[0\\.2, 10\\.0\\]$/constexpr auto MCMC_Q_RANGE = 1.4295160154433204;                   \\/\\/ OPTIMIZE LOG [0.2, 10.0]/' -e 's/^constexpr auto EXPECTED_SKILL_EMA_ALPHA_COEF = .*; \\/\\/ OPTIMIZE LOG \\[0\\.02, 2\\.0\\]$/constexpr auto EXPECTED_SKILL_EMA_ALPHA_COEF = 0.7109080798974327; \\/\\/ OPTIMIZE LOG [0.02, 2.0]/' -e 's/^constexpr auto MAX_N_NOT_OPEN_TASKS_IN_QUEUE = .*; \\/\\/ OPTIMIZE \\[60, 100\\]$/constexpr auto MAX_N_NOT_OPEN_TASKS_IN_QUEUE = 93; \\/\\/ OPTIMIZE [60, 100]/' -e 's/^constexpr auto PRIORITY_DAY_OFFSET = .*;          \\/\\/ OPTIMIZE \\[400, 1200\\]$/constexpr auto PRIORITY_DAY_OFFSET = 759;          \\/\\/ OPTIMIZE [400, 1200]/' -e 's/^constexpr auto PRIORITY_COEF = .*; \\/\\/ OPTIMIZE LOG \\[0\\.002, 2\\.0\\]$/constexpr auto PRIORITY_COEF = 0.4657280830435816; \\/\\/ OPTIMIZE LOG [0.002, 2.0]/'\n",
      "clang++ 0139_main.cpp -std=gnu++17 -O2 -DONLINE_JUDGE -I/ -o 0139_main.cpp.out\n",
      "sed -i 0140_main.cpp -e 's/^constexpr auto MCMC_Q_L2_NORM_RANGE = .*;           \\/\\/ OPTIMIZE LOG \\[2\\.0, 20\\.0\\]$/constexpr auto MCMC_Q_L2_NORM_RANGE = 8.601628308614535;           \\/\\/ OPTIMIZE LOG [2.0, 20.0]/' -e 's/^constexpr auto MCMC_Q_RANGE = .*;                   \\/\\/ OPTIMIZE LOG \\[0\\.2, 10\\.0\\]$/constexpr auto MCMC_Q_RANGE = 1.1492923851645838;                   \\/\\/ OPTIMIZE LOG [0.2, 10.0]/' -e 's/^constexpr auto EXPECTED_SKILL_EMA_ALPHA_COEF = .*; \\/\\/ OPTIMIZE LOG \\[0\\.02, 2\\.0\\]$/constexpr auto EXPECTED_SKILL_EMA_ALPHA_COEF = 0.8509478993142949; \\/\\/ OPTIMIZE LOG [0.02, 2.0]/' -e 's/^constexpr auto MAX_N_NOT_OPEN_TASKS_IN_QUEUE = .*; \\/\\/ OPTIMIZE \\[60, 100\\]$/constexpr auto MAX_N_NOT_OPEN_TASKS_IN_QUEUE = 93; \\/\\/ OPTIMIZE [60, 100]/' -e 's/^constexpr auto PRIORITY_DAY_OFFSET = .*;          \\/\\/ OPTIMIZE \\[400, 1200\\]$/constexpr auto PRIORITY_DAY_OFFSET = 682;          \\/\\/ OPTIMIZE [400, 1200]/' -e 's/^constexpr auto PRIORITY_COEF = .*; \\/\\/ OPTIMIZE LOG \\[0\\.002, 2\\.0\\]$/constexpr auto PRIORITY_COEF = 0.45524924783259146; \\/\\/ OPTIMIZE LOG [0.002, 2.0]/'\n",
      "clang++ 0140_main.cpp -std=gnu++17 -O2 -DONLINE_JUDGE -I/ -o 0140_main.cpp.out\n"
     ]
    },
    {
     "name": "stderr",
     "output_type": "stream",
     "text": [
      "\u001b[32m[I 2021-11-13 03:56:57,185]\u001b[0m Trial 138 finished with value: 1013094.0 and parameters: {'MCMC_Q_L2_NORM_RANGE': 8.599801865951537, 'MCMC_Q_RANGE': 1.464394768540304, 'EXPECTED_SKILL_EMA_ALPHA_COEF': 0.6945260340048154, 'MAX_N_NOT_OPEN_TASKS_IN_QUEUE': 95, 'PRIORITY_DAY_OFFSET': 725, 'PRIORITY_COEF': 0.4082191067607778}. Best is trial 47 with value: 1013922.0.\u001b[0m\n"
     ]
    },
    {
     "name": "stdout",
     "output_type": "stream",
     "text": [
      "callback ok\n",
      "index_parallel='0141'\n",
      "sed -i 0141_main.cpp -e 's/^constexpr auto MCMC_Q_L2_NORM_RANGE = .*;           \\/\\/ OPTIMIZE LOG \\[2\\.0, 20\\.0\\]$/constexpr auto MCMC_Q_L2_NORM_RANGE = 8.800862325944928;           \\/\\/ OPTIMIZE LOG [2.0, 20.0]/' -e 's/^constexpr auto MCMC_Q_RANGE = .*;                   \\/\\/ OPTIMIZE LOG \\[0\\.2, 10\\.0\\]$/constexpr auto MCMC_Q_RANGE = 1.6723806951842264;                   \\/\\/ OPTIMIZE LOG [0.2, 10.0]/' -e 's/^constexpr auto EXPECTED_SKILL_EMA_ALPHA_COEF = .*; \\/\\/ OPTIMIZE LOG \\[0\\.02, 2\\.0\\]$/constexpr auto EXPECTED_SKILL_EMA_ALPHA_COEF = 0.6632846169719752; \\/\\/ OPTIMIZE LOG [0.02, 2.0]/' -e 's/^constexpr auto MAX_N_NOT_OPEN_TASKS_IN_QUEUE = .*; \\/\\/ OPTIMIZE \\[60, 100\\]$/constexpr auto MAX_N_NOT_OPEN_TASKS_IN_QUEUE = 93; \\/\\/ OPTIMIZE [60, 100]/' -e 's/^constexpr auto PRIORITY_DAY_OFFSET = .*;          \\/\\/ OPTIMIZE \\[400, 1200\\]$/constexpr auto PRIORITY_DAY_OFFSET = 742;          \\/\\/ OPTIMIZE [400, 1200]/' -e 's/^constexpr auto PRIORITY_COEF = .*; \\/\\/ OPTIMIZE LOG \\[0\\.002, 2\\.0\\]$/constexpr auto PRIORITY_COEF = 0.4981689682590504; \\/\\/ OPTIMIZE LOG [0.002, 2.0]/'\n",
      "clang++ 0141_main.cpp -std=gnu++17 -O2 -DONLINE_JUDGE -I/ -o 0141_main.cpp.out\n"
     ]
    },
    {
     "name": "stderr",
     "output_type": "stream",
     "text": [
      "\u001b[32m[I 2021-11-13 03:56:58,851]\u001b[0m Trial 139 finished with value: 1012630.0 and parameters: {'MCMC_Q_L2_NORM_RANGE': 9.28282278566811, 'MCMC_Q_RANGE': 1.4295160154433204, 'EXPECTED_SKILL_EMA_ALPHA_COEF': 0.7109080798974327, 'MAX_N_NOT_OPEN_TASKS_IN_QUEUE': 93, 'PRIORITY_DAY_OFFSET': 759, 'PRIORITY_COEF': 0.4657280830435816}. Best is trial 47 with value: 1013922.0.\u001b[0m\n"
     ]
    },
    {
     "name": "stdout",
     "output_type": "stream",
     "text": [
      "callback ok\n",
      "index_parallel='0142'\n",
      "sed -i 0142_main.cpp -e 's/^constexpr auto MCMC_Q_L2_NORM_RANGE = .*;           \\/\\/ OPTIMIZE LOG \\[2\\.0, 20\\.0\\]$/constexpr auto MCMC_Q_L2_NORM_RANGE = 8.810447691100284;           \\/\\/ OPTIMIZE LOG [2.0, 20.0]/' -e 's/^constexpr auto MCMC_Q_RANGE = .*;                   \\/\\/ OPTIMIZE LOG \\[0\\.2, 10\\.0\\]$/constexpr auto MCMC_Q_RANGE = 1.4582311584027121;                   \\/\\/ OPTIMIZE LOG [0.2, 10.0]/' -e 's/^constexpr auto EXPECTED_SKILL_EMA_ALPHA_COEF = .*; \\/\\/ OPTIMIZE LOG \\[0\\.02, 2\\.0\\]$/constexpr auto EXPECTED_SKILL_EMA_ALPHA_COEF = 0.6636490690596614; \\/\\/ OPTIMIZE LOG [0.02, 2.0]/' -e 's/^constexpr auto MAX_N_NOT_OPEN_TASKS_IN_QUEUE = .*; \\/\\/ OPTIMIZE \\[60, 100\\]$/constexpr auto MAX_N_NOT_OPEN_TASKS_IN_QUEUE = 91; \\/\\/ OPTIMIZE [60, 100]/' -e 's/^constexpr auto PRIORITY_DAY_OFFSET = .*;          \\/\\/ OPTIMIZE \\[400, 1200\\]$/constexpr auto PRIORITY_DAY_OFFSET = 747;          \\/\\/ OPTIMIZE [400, 1200]/' -e 's/^constexpr auto PRIORITY_COEF = .*; \\/\\/ OPTIMIZE LOG \\[0\\.002, 2\\.0\\]$/constexpr auto PRIORITY_COEF = 0.4836354474471084; \\/\\/ OPTIMIZE LOG [0.002, 2.0]/'\n",
      "clang++ 0142_main.cpp -std=gnu++17 -O2 -DONLINE_JUDGE -I/ -o 0142_main.cpp.out\n"
     ]
    },
    {
     "name": "stderr",
     "output_type": "stream",
     "text": [
      "\u001b[32m[I 2021-11-13 03:56:59,782]\u001b[0m Trial 140 finished with value: 1012464.0 and parameters: {'MCMC_Q_L2_NORM_RANGE': 8.601628308614535, 'MCMC_Q_RANGE': 1.1492923851645838, 'EXPECTED_SKILL_EMA_ALPHA_COEF': 0.8509478993142949, 'MAX_N_NOT_OPEN_TASKS_IN_QUEUE': 93, 'PRIORITY_DAY_OFFSET': 682, 'PRIORITY_COEF': 0.45524924783259146}. Best is trial 47 with value: 1013922.0.\u001b[0m\n"
     ]
    },
    {
     "name": "stdout",
     "output_type": "stream",
     "text": [
      "callback ok\n",
      "index_parallel='0143'\n",
      "sed -i 0143_main.cpp -e 's/^constexpr auto MCMC_Q_L2_NORM_RANGE = .*;           \\/\\/ OPTIMIZE LOG \\[2\\.0, 20\\.0\\]$/constexpr auto MCMC_Q_L2_NORM_RANGE = 7.424324489215531;           \\/\\/ OPTIMIZE LOG [2.0, 20.0]/' -e 's/^constexpr auto MCMC_Q_RANGE = .*;                   \\/\\/ OPTIMIZE LOG \\[0\\.2, 10\\.0\\]$/constexpr auto MCMC_Q_RANGE = 1.603946132395456;                   \\/\\/ OPTIMIZE LOG [0.2, 10.0]/' -e 's/^constexpr auto EXPECTED_SKILL_EMA_ALPHA_COEF = .*; \\/\\/ OPTIMIZE LOG \\[0\\.02, 2\\.0\\]$/constexpr auto EXPECTED_SKILL_EMA_ALPHA_COEF = 0.8575611735739519; \\/\\/ OPTIMIZE LOG [0.02, 2.0]/' -e 's/^constexpr auto MAX_N_NOT_OPEN_TASKS_IN_QUEUE = .*; \\/\\/ OPTIMIZE \\[60, 100\\]$/constexpr auto MAX_N_NOT_OPEN_TASKS_IN_QUEUE = 94; \\/\\/ OPTIMIZE [60, 100]/' -e 's/^constexpr auto PRIORITY_DAY_OFFSET = .*;          \\/\\/ OPTIMIZE \\[400, 1200\\]$/constexpr auto PRIORITY_DAY_OFFSET = 763;          \\/\\/ OPTIMIZE [400, 1200]/' -e 's/^constexpr auto PRIORITY_COEF = .*; \\/\\/ OPTIMIZE LOG \\[0\\.002, 2\\.0\\]$/constexpr auto PRIORITY_COEF = 0.45927432795979667; \\/\\/ OPTIMIZE LOG [0.002, 2.0]/'\n",
      "clang++ 0143_main.cpp -std=gnu++17 -O2 -DONLINE_JUDGE -I/ -o 0143_main.cpp.out\n"
     ]
    },
    {
     "name": "stderr",
     "output_type": "stream",
     "text": [
      "\u001b[32m[I 2021-11-13 04:01:10,295]\u001b[0m Trial 141 finished with value: 1011197.0 and parameters: {'MCMC_Q_L2_NORM_RANGE': 8.800862325944928, 'MCMC_Q_RANGE': 1.6723806951842264, 'EXPECTED_SKILL_EMA_ALPHA_COEF': 0.6632846169719752, 'MAX_N_NOT_OPEN_TASKS_IN_QUEUE': 93, 'PRIORITY_DAY_OFFSET': 742, 'PRIORITY_COEF': 0.4981689682590504}. Best is trial 47 with value: 1013922.0.\u001b[0m\n"
     ]
    },
    {
     "name": "stdout",
     "output_type": "stream",
     "text": [
      "callback ok\n",
      "index_parallel='0144'\n",
      "sed -i 0144_main.cpp -e 's/^constexpr auto MCMC_Q_L2_NORM_RANGE = .*;           \\/\\/ OPTIMIZE LOG \\[2\\.0, 20\\.0\\]$/constexpr auto MCMC_Q_L2_NORM_RANGE = 16.55651652060571;           \\/\\/ OPTIMIZE LOG [2.0, 20.0]/' -e 's/^constexpr auto MCMC_Q_RANGE = .*;                   \\/\\/ OPTIMIZE LOG \\[0\\.2, 10\\.0\\]$/constexpr auto MCMC_Q_RANGE = 0.9771694236889076;                   \\/\\/ OPTIMIZE LOG [0.2, 10.0]/' -e 's/^constexpr auto EXPECTED_SKILL_EMA_ALPHA_COEF = .*; \\/\\/ OPTIMIZE LOG \\[0\\.02, 2\\.0\\]$/constexpr auto EXPECTED_SKILL_EMA_ALPHA_COEF = 0.8606415179865542; \\/\\/ OPTIMIZE LOG [0.02, 2.0]/' -e 's/^constexpr auto MAX_N_NOT_OPEN_TASKS_IN_QUEUE = .*; \\/\\/ OPTIMIZE \\[60, 100\\]$/constexpr auto MAX_N_NOT_OPEN_TASKS_IN_QUEUE = 94; \\/\\/ OPTIMIZE [60, 100]/' -e 's/^constexpr auto PRIORITY_DAY_OFFSET = .*;          \\/\\/ OPTIMIZE \\[400, 1200\\]$/constexpr auto PRIORITY_DAY_OFFSET = 761;          \\/\\/ OPTIMIZE [400, 1200]/' -e 's/^constexpr auto PRIORITY_COEF = .*; \\/\\/ OPTIMIZE LOG \\[0\\.002, 2\\.0\\]$/constexpr auto PRIORITY_COEF = 0.32709027889047937; \\/\\/ OPTIMIZE LOG [0.002, 2.0]/'\n",
      "clang++ 0144_main.cpp -std=gnu++17 -O2 -DONLINE_JUDGE -I/ -o 0144_main.cpp.out\n"
     ]
    },
    {
     "name": "stderr",
     "output_type": "stream",
     "text": [
      "\u001b[32m[I 2021-11-13 04:01:11,278]\u001b[0m Trial 142 finished with value: 1010763.0 and parameters: {'MCMC_Q_L2_NORM_RANGE': 8.810447691100284, 'MCMC_Q_RANGE': 1.4582311584027121, 'EXPECTED_SKILL_EMA_ALPHA_COEF': 0.6636490690596614, 'MAX_N_NOT_OPEN_TASKS_IN_QUEUE': 91, 'PRIORITY_DAY_OFFSET': 747, 'PRIORITY_COEF': 0.4836354474471084}. Best is trial 47 with value: 1013922.0.\u001b[0m\n"
     ]
    },
    {
     "name": "stdout",
     "output_type": "stream",
     "text": [
      "callback ok\n",
      "index_parallel='0145'\n",
      "sed -i 0145_main.cpp -e 's/^constexpr auto MCMC_Q_L2_NORM_RANGE = .*;           \\/\\/ OPTIMIZE LOG \\[2\\.0, 20\\.0\\]$/constexpr auto MCMC_Q_L2_NORM_RANGE = 2.0655673155689636;           \\/\\/ OPTIMIZE LOG [2.0, 20.0]/' -e 's/^constexpr auto MCMC_Q_RANGE = .*;                   \\/\\/ OPTIMIZE LOG \\[0\\.2, 10\\.0\\]$/constexpr auto MCMC_Q_RANGE = 0.9803170942516863;                   \\/\\/ OPTIMIZE LOG [0.2, 10.0]/' -e 's/^constexpr auto EXPECTED_SKILL_EMA_ALPHA_COEF = .*; \\/\\/ OPTIMIZE LOG \\[0\\.02, 2\\.0\\]$/constexpr auto EXPECTED_SKILL_EMA_ALPHA_COEF = 0.8608517437305298; \\/\\/ OPTIMIZE LOG [0.02, 2.0]/' -e 's/^constexpr auto MAX_N_NOT_OPEN_TASKS_IN_QUEUE = .*; \\/\\/ OPTIMIZE \\[60, 100\\]$/constexpr auto MAX_N_NOT_OPEN_TASKS_IN_QUEUE = 96; \\/\\/ OPTIMIZE [60, 100]/' -e 's/^constexpr auto PRIORITY_DAY_OFFSET = .*;          \\/\\/ OPTIMIZE \\[400, 1200\\]$/constexpr auto PRIORITY_DAY_OFFSET = 783;          \\/\\/ OPTIMIZE [400, 1200]/' -e 's/^constexpr auto PRIORITY_COEF = .*; \\/\\/ OPTIMIZE LOG \\[0\\.002, 2\\.0\\]$/constexpr auto PRIORITY_COEF = 0.41890765278924846; \\/\\/ OPTIMIZE LOG [0.002, 2.0]/'\n",
      "clang++ 0145_main.cpp -std=gnu++17 -O2 -DONLINE_JUDGE -I/ -o 0145_main.cpp.out\n"
     ]
    },
    {
     "name": "stderr",
     "output_type": "stream",
     "text": [
      "\u001b[32m[I 2021-11-13 04:01:14,014]\u001b[0m Trial 143 finished with value: 1011804.0 and parameters: {'MCMC_Q_L2_NORM_RANGE': 7.424324489215531, 'MCMC_Q_RANGE': 1.603946132395456, 'EXPECTED_SKILL_EMA_ALPHA_COEF': 0.8575611735739519, 'MAX_N_NOT_OPEN_TASKS_IN_QUEUE': 94, 'PRIORITY_DAY_OFFSET': 763, 'PRIORITY_COEF': 0.45927432795979667}. Best is trial 47 with value: 1013922.0.\u001b[0m\n"
     ]
    },
    {
     "name": "stdout",
     "output_type": "stream",
     "text": [
      "callback ok\n",
      "index_parallel='0146'\n",
      "sed -i 0146_main.cpp -e 's/^constexpr auto MCMC_Q_L2_NORM_RANGE = .*;           \\/\\/ OPTIMIZE LOG \\[2\\.0, 20\\.0\\]$/constexpr auto MCMC_Q_L2_NORM_RANGE = 8.36666192603956;           \\/\\/ OPTIMIZE LOG [2.0, 20.0]/' -e 's/^constexpr auto MCMC_Q_RANGE = .*;                   \\/\\/ OPTIMIZE LOG \\[0\\.2, 10\\.0\\]$/constexpr auto MCMC_Q_RANGE = 0.9916898446007009;                   \\/\\/ OPTIMIZE LOG [0.2, 10.0]/' -e 's/^constexpr auto EXPECTED_SKILL_EMA_ALPHA_COEF = .*; \\/\\/ OPTIMIZE LOG \\[0\\.02, 2\\.0\\]$/constexpr auto EXPECTED_SKILL_EMA_ALPHA_COEF = 0.7613454613666119; \\/\\/ OPTIMIZE LOG [0.02, 2.0]/' -e 's/^constexpr auto MAX_N_NOT_OPEN_TASKS_IN_QUEUE = .*; \\/\\/ OPTIMIZE \\[60, 100\\]$/constexpr auto MAX_N_NOT_OPEN_TASKS_IN_QUEUE = 94; \\/\\/ OPTIMIZE [60, 100]/' -e 's/^constexpr auto PRIORITY_DAY_OFFSET = .*;          \\/\\/ OPTIMIZE \\[400, 1200\\]$/constexpr auto PRIORITY_DAY_OFFSET = 690;          \\/\\/ OPTIMIZE [400, 1200]/' -e 's/^constexpr auto PRIORITY_COEF = .*; \\/\\/ OPTIMIZE LOG \\[0\\.002, 2\\.0\\]$/constexpr auto PRIORITY_COEF = 0.3288693546597431; \\/\\/ OPTIMIZE LOG [0.002, 2.0]/'\n",
      "clang++ 0146_main.cpp -std=gnu++17 -O2 -DONLINE_JUDGE -I/ -o 0146_main.cpp.out\n"
     ]
    },
    {
     "name": "stderr",
     "output_type": "stream",
     "text": [
      "\u001b[32m[I 2021-11-13 04:05:24,838]\u001b[0m Trial 144 finished with value: 1012209.0 and parameters: {'MCMC_Q_L2_NORM_RANGE': 16.55651652060571, 'MCMC_Q_RANGE': 0.9771694236889076, 'EXPECTED_SKILL_EMA_ALPHA_COEF': 0.8606415179865542, 'MAX_N_NOT_OPEN_TASKS_IN_QUEUE': 94, 'PRIORITY_DAY_OFFSET': 761, 'PRIORITY_COEF': 0.32709027889047937}. Best is trial 47 with value: 1013922.0.\u001b[0m\n"
     ]
    },
    {
     "name": "stdout",
     "output_type": "stream",
     "text": [
      "callback ok\n",
      "index_parallel='0147'\n",
      "sed -i 0147_main.cpp -e 's/^constexpr auto MCMC_Q_L2_NORM_RANGE = .*;           \\/\\/ OPTIMIZE LOG \\[2\\.0, 20\\.0\\]$/constexpr auto MCMC_Q_L2_NORM_RANGE = 8.361963561443778;           \\/\\/ OPTIMIZE LOG [2.0, 20.0]/' -e 's/^constexpr auto MCMC_Q_RANGE = .*;                   \\/\\/ OPTIMIZE LOG \\[0\\.2, 10\\.0\\]$/constexpr auto MCMC_Q_RANGE = 1.148833790174605;                   \\/\\/ OPTIMIZE LOG [0.2, 10.0]/' -e 's/^constexpr auto EXPECTED_SKILL_EMA_ALPHA_COEF = .*; \\/\\/ OPTIMIZE LOG \\[0\\.02, 2\\.0\\]$/constexpr auto EXPECTED_SKILL_EMA_ALPHA_COEF = 0.756152087113165; \\/\\/ OPTIMIZE LOG [0.02, 2.0]/' -e 's/^constexpr auto MAX_N_NOT_OPEN_TASKS_IN_QUEUE = .*; \\/\\/ OPTIMIZE \\[60, 100\\]$/constexpr auto MAX_N_NOT_OPEN_TASKS_IN_QUEUE = 96; \\/\\/ OPTIMIZE [60, 100]/' -e 's/^constexpr auto PRIORITY_DAY_OFFSET = .*;          \\/\\/ OPTIMIZE \\[400, 1200\\]$/constexpr auto PRIORITY_DAY_OFFSET = 706;          \\/\\/ OPTIMIZE [400, 1200]/' -e 's/^constexpr auto PRIORITY_COEF = .*; \\/\\/ OPTIMIZE LOG \\[0\\.002, 2\\.0\\]$/constexpr auto PRIORITY_COEF = 0.5700841867492519; \\/\\/ OPTIMIZE LOG [0.002, 2.0]/'\n",
      "clang++ 0147_main.cpp -std=gnu++17 -O2 -DONLINE_JUDGE -I/ -o 0147_main.cpp.out\n"
     ]
    },
    {
     "name": "stderr",
     "output_type": "stream",
     "text": [
      "\u001b[32m[I 2021-11-13 04:05:29,277]\u001b[0m Trial 145 finished with value: 1010725.0 and parameters: {'MCMC_Q_L2_NORM_RANGE': 2.0655673155689636, 'MCMC_Q_RANGE': 0.9803170942516863, 'EXPECTED_SKILL_EMA_ALPHA_COEF': 0.8608517437305298, 'MAX_N_NOT_OPEN_TASKS_IN_QUEUE': 96, 'PRIORITY_DAY_OFFSET': 783, 'PRIORITY_COEF': 0.41890765278924846}. Best is trial 47 with value: 1013922.0.\u001b[0m\n"
     ]
    },
    {
     "name": "stdout",
     "output_type": "stream",
     "text": [
      "callback ok\n",
      "index_parallel='0148'\n"
     ]
    },
    {
     "name": "stderr",
     "output_type": "stream",
     "text": [
      "\u001b[32m[I 2021-11-13 04:05:29,729]\u001b[0m Trial 146 finished with value: 1011186.0 and parameters: {'MCMC_Q_L2_NORM_RANGE': 8.36666192603956, 'MCMC_Q_RANGE': 0.9916898446007009, 'EXPECTED_SKILL_EMA_ALPHA_COEF': 0.7613454613666119, 'MAX_N_NOT_OPEN_TASKS_IN_QUEUE': 94, 'PRIORITY_DAY_OFFSET': 690, 'PRIORITY_COEF': 0.3288693546597431}. Best is trial 47 with value: 1013922.0.\u001b[0m\n"
     ]
    },
    {
     "name": "stdout",
     "output_type": "stream",
     "text": [
      "callback ok\n",
      "index_parallel='0149'\n",
      "sed -i 0148_main.cpp -e 's/^constexpr auto MCMC_Q_L2_NORM_RANGE = .*;           \\/\\/ OPTIMIZE LOG \\[2\\.0, 20\\.0\\]$/constexpr auto MCMC_Q_L2_NORM_RANGE = 8.413291079786452;           \\/\\/ OPTIMIZE LOG [2.0, 20.0]/' -e 's/^constexpr auto MCMC_Q_RANGE = .*;                   \\/\\/ OPTIMIZE LOG \\[0\\.2, 10\\.0\\]$/constexpr auto MCMC_Q_RANGE = 1.1451366237037575;                   \\/\\/ OPTIMIZE LOG [0.2, 10.0]/' -e 's/^constexpr auto EXPECTED_SKILL_EMA_ALPHA_COEF = .*; \\/\\/ OPTIMIZE LOG \\[0\\.02, 2\\.0\\]$/constexpr auto EXPECTED_SKILL_EMA_ALPHA_COEF = 0.7557963199250538; \\/\\/ OPTIMIZE LOG [0.02, 2.0]/' -e 's/^constexpr auto MAX_N_NOT_OPEN_TASKS_IN_QUEUE = .*; \\/\\/ OPTIMIZE \\[60, 100\\]$/constexpr auto MAX_N_NOT_OPEN_TASKS_IN_QUEUE = 97; \\/\\/ OPTIMIZE [60, 100]/' -e 's/^constexpr auto PRIORITY_DAY_OFFSET = .*;          \\/\\/ OPTIMIZE \\[400, 1200\\]$/constexpr auto PRIORITY_DAY_OFFSET = 705;          \\/\\/ OPTIMIZE [400, 1200]/' -e 's/^constexpr auto PRIORITY_COEF = .*; \\/\\/ OPTIMIZE LOG \\[0\\.002, 2\\.0\\]$/constexpr auto PRIORITY_COEF = 0.5856994774534802; \\/\\/ OPTIMIZE LOG [0.002, 2.0]/'\n",
      "clang++ 0148_main.cpp -std=gnu++17 -O2 -DONLINE_JUDGE -I/ -o 0148_main.cpp.out\n",
      "sed -i 0149_main.cpp -e 's/^constexpr auto MCMC_Q_L2_NORM_RANGE = .*;           \\/\\/ OPTIMIZE LOG \\[2\\.0, 20\\.0\\]$/constexpr auto MCMC_Q_L2_NORM_RANGE = 9.43599860843042;           \\/\\/ OPTIMIZE LOG [2.0, 20.0]/' -e 's/^constexpr auto MCMC_Q_RANGE = .*;                   \\/\\/ OPTIMIZE LOG \\[0\\.2, 10\\.0\\]$/constexpr auto MCMC_Q_RANGE = 1.144534596640371;                   \\/\\/ OPTIMIZE LOG [0.2, 10.0]/' -e 's/^constexpr auto EXPECTED_SKILL_EMA_ALPHA_COEF = .*; \\/\\/ OPTIMIZE LOG \\[0\\.02, 2\\.0\\]$/constexpr auto EXPECTED_SKILL_EMA_ALPHA_COEF = 0.7009038210777545; \\/\\/ OPTIMIZE LOG [0.02, 2.0]/' -e 's/^constexpr auto MAX_N_NOT_OPEN_TASKS_IN_QUEUE = .*; \\/\\/ OPTIMIZE \\[60, 100\\]$/constexpr auto MAX_N_NOT_OPEN_TASKS_IN_QUEUE = 91; \\/\\/ OPTIMIZE [60, 100]/' -e 's/^constexpr auto PRIORITY_DAY_OFFSET = .*;          \\/\\/ OPTIMIZE \\[400, 1200\\]$/constexpr auto PRIORITY_DAY_OFFSET = 682;          \\/\\/ OPTIMIZE [400, 1200]/' -e 's/^constexpr auto PRIORITY_COEF = .*; \\/\\/ OPTIMIZE LOG \\[0\\.002, 2\\.0\\]$/constexpr auto PRIORITY_COEF = 0.5885977446836111; \\/\\/ OPTIMIZE LOG [0.002, 2.0]/'\n",
      "clang++ 0149_main.cpp -std=gnu++17 -O2 -DONLINE_JUDGE -I/ -o 0149_main.cpp.out\n"
     ]
    },
    {
     "name": "stderr",
     "output_type": "stream",
     "text": [
      "\u001b[32m[I 2021-11-13 04:09:40,800]\u001b[0m Trial 147 finished with value: 1013510.0 and parameters: {'MCMC_Q_L2_NORM_RANGE': 8.361963561443778, 'MCMC_Q_RANGE': 1.148833790174605, 'EXPECTED_SKILL_EMA_ALPHA_COEF': 0.756152087113165, 'MAX_N_NOT_OPEN_TASKS_IN_QUEUE': 96, 'PRIORITY_DAY_OFFSET': 706, 'PRIORITY_COEF': 0.5700841867492519}. Best is trial 47 with value: 1013922.0.\u001b[0m\n"
     ]
    },
    {
     "name": "stdout",
     "output_type": "stream",
     "text": [
      "callback ok\n",
      "index_parallel='0150'\n",
      "sed -i 0150_main.cpp -e 's/^constexpr auto MCMC_Q_L2_NORM_RANGE = .*;           \\/\\/ OPTIMIZE LOG \\[2\\.0, 20\\.0\\]$/constexpr auto MCMC_Q_L2_NORM_RANGE = 8.018019354257765;           \\/\\/ OPTIMIZE LOG [2.0, 20.0]/' -e 's/^constexpr auto MCMC_Q_RANGE = .*;                   \\/\\/ OPTIMIZE LOG \\[0\\.2, 10\\.0\\]$/constexpr auto MCMC_Q_RANGE = 1.120614473594935;                   \\/\\/ OPTIMIZE LOG [0.2, 10.0]/' -e 's/^constexpr auto EXPECTED_SKILL_EMA_ALPHA_COEF = .*; \\/\\/ OPTIMIZE LOG \\[0\\.02, 2\\.0\\]$/constexpr auto EXPECTED_SKILL_EMA_ALPHA_COEF = 0.950263706912037; \\/\\/ OPTIMIZE LOG [0.02, 2.0]/' -e 's/^constexpr auto MAX_N_NOT_OPEN_TASKS_IN_QUEUE = .*; \\/\\/ OPTIMIZE \\[60, 100\\]$/constexpr auto MAX_N_NOT_OPEN_TASKS_IN_QUEUE = 97; \\/\\/ OPTIMIZE [60, 100]/' -e 's/^constexpr auto PRIORITY_DAY_OFFSET = .*;          \\/\\/ OPTIMIZE \\[400, 1200\\]$/constexpr auto PRIORITY_DAY_OFFSET = 713;          \\/\\/ OPTIMIZE [400, 1200]/' -e 's/^constexpr auto PRIORITY_COEF = .*; \\/\\/ OPTIMIZE LOG \\[0\\.002, 2\\.0\\]$/constexpr auto PRIORITY_COEF = 0.3929276058839664; \\/\\/ OPTIMIZE LOG [0.002, 2.0]/'\n",
      "clang++ 0150_main.cpp -std=gnu++17 -O2 -DONLINE_JUDGE -I/ -o 0150_main.cpp.out\n"
     ]
    },
    {
     "name": "stderr",
     "output_type": "stream",
     "text": [
      "\u001b[32m[I 2021-11-13 04:09:43,054]\u001b[0m Trial 149 finished with value: 1012198.0 and parameters: {'MCMC_Q_L2_NORM_RANGE': 9.43599860843042, 'MCMC_Q_RANGE': 1.144534596640371, 'EXPECTED_SKILL_EMA_ALPHA_COEF': 0.7009038210777545, 'MAX_N_NOT_OPEN_TASKS_IN_QUEUE': 91, 'PRIORITY_DAY_OFFSET': 682, 'PRIORITY_COEF': 0.5885977446836111}. Best is trial 47 with value: 1013922.0.\u001b[0m\n"
     ]
    },
    {
     "name": "stdout",
     "output_type": "stream",
     "text": [
      "callback ok\n",
      "index_parallel='0151'\n",
      "sed -i 0151_main.cpp -e 's/^constexpr auto MCMC_Q_L2_NORM_RANGE = .*;           \\/\\/ OPTIMIZE LOG \\[2\\.0, 20\\.0\\]$/constexpr auto MCMC_Q_L2_NORM_RANGE = 7.921562650694968;           \\/\\/ OPTIMIZE LOG [2.0, 20.0]/' -e 's/^constexpr auto MCMC_Q_RANGE = .*;                   \\/\\/ OPTIMIZE LOG \\[0\\.2, 10\\.0\\]$/constexpr auto MCMC_Q_RANGE = 1.11634041379061;                   \\/\\/ OPTIMIZE LOG [0.2, 10.0]/' -e 's/^constexpr auto EXPECTED_SKILL_EMA_ALPHA_COEF = .*; \\/\\/ OPTIMIZE LOG \\[0\\.02, 2\\.0\\]$/constexpr auto EXPECTED_SKILL_EMA_ALPHA_COEF = 0.5978979471563048; \\/\\/ OPTIMIZE LOG [0.02, 2.0]/' -e 's/^constexpr auto MAX_N_NOT_OPEN_TASKS_IN_QUEUE = .*; \\/\\/ OPTIMIZE \\[60, 100\\]$/constexpr auto MAX_N_NOT_OPEN_TASKS_IN_QUEUE = 96; \\/\\/ OPTIMIZE [60, 100]/' -e 's/^constexpr auto PRIORITY_DAY_OFFSET = .*;          \\/\\/ OPTIMIZE \\[400, 1200\\]$/constexpr auto PRIORITY_DAY_OFFSET = 702;          \\/\\/ OPTIMIZE [400, 1200]/' -e 's/^constexpr auto PRIORITY_COEF = .*; \\/\\/ OPTIMIZE LOG \\[0\\.002, 2\\.0\\]$/constexpr auto PRIORITY_COEF = 0.4088259803781307; \\/\\/ OPTIMIZE LOG [0.002, 2.0]/'\n",
      "clang++ 0151_main.cpp -std=gnu++17 -O2 -DONLINE_JUDGE -I/ -o 0151_main.cpp.out\n"
     ]
    },
    {
     "name": "stderr",
     "output_type": "stream",
     "text": [
      "\u001b[32m[I 2021-11-13 04:09:45,122]\u001b[0m Trial 148 finished with value: 1011549.0 and parameters: {'MCMC_Q_L2_NORM_RANGE': 8.413291079786452, 'MCMC_Q_RANGE': 1.1451366237037575, 'EXPECTED_SKILL_EMA_ALPHA_COEF': 0.7557963199250538, 'MAX_N_NOT_OPEN_TASKS_IN_QUEUE': 97, 'PRIORITY_DAY_OFFSET': 705, 'PRIORITY_COEF': 0.5856994774534802}. Best is trial 47 with value: 1013922.0.\u001b[0m\n"
     ]
    },
    {
     "name": "stdout",
     "output_type": "stream",
     "text": [
      "callback ok\n",
      "index_parallel='0152'\n",
      "sed -i 0152_main.cpp -e 's/^constexpr auto MCMC_Q_L2_NORM_RANGE = .*;           \\/\\/ OPTIMIZE LOG \\[2\\.0, 20\\.0\\]$/constexpr auto MCMC_Q_L2_NORM_RANGE = 8.13700165334607;           \\/\\/ OPTIMIZE LOG [2.0, 20.0]/' -e 's/^constexpr auto MCMC_Q_RANGE = .*;                   \\/\\/ OPTIMIZE LOG \\[0\\.2, 10\\.0\\]$/constexpr auto MCMC_Q_RANGE = 0.80626143535899;                   \\/\\/ OPTIMIZE LOG [0.2, 10.0]/' -e 's/^constexpr auto EXPECTED_SKILL_EMA_ALPHA_COEF = .*; \\/\\/ OPTIMIZE LOG \\[0\\.02, 2\\.0\\]$/constexpr auto EXPECTED_SKILL_EMA_ALPHA_COEF = 0.6064401198298374; \\/\\/ OPTIMIZE LOG [0.02, 2.0]/' -e 's/^constexpr auto MAX_N_NOT_OPEN_TASKS_IN_QUEUE = .*; \\/\\/ OPTIMIZE \\[60, 100\\]$/constexpr auto MAX_N_NOT_OPEN_TASKS_IN_QUEUE = 96; \\/\\/ OPTIMIZE [60, 100]/' -e 's/^constexpr auto PRIORITY_DAY_OFFSET = .*;          \\/\\/ OPTIMIZE \\[400, 1200\\]$/constexpr auto PRIORITY_DAY_OFFSET = 739;          \\/\\/ OPTIMIZE [400, 1200]/' -e 's/^constexpr auto PRIORITY_COEF = .*; \\/\\/ OPTIMIZE LOG \\[0\\.002, 2\\.0\\]$/constexpr auto PRIORITY_COEF = 0.404593413516628; \\/\\/ OPTIMIZE LOG [0.002, 2.0]/'\n",
      "clang++ 0152_main.cpp -std=gnu++17 -O2 -DONLINE_JUDGE -I/ -o 0152_main.cpp.out\n"
     ]
    },
    {
     "name": "stderr",
     "output_type": "stream",
     "text": [
      "\u001b[32m[I 2021-11-13 04:13:56,991]\u001b[0m Trial 150 finished with value: 1012224.0 and parameters: {'MCMC_Q_L2_NORM_RANGE': 8.018019354257765, 'MCMC_Q_RANGE': 1.120614473594935, 'EXPECTED_SKILL_EMA_ALPHA_COEF': 0.950263706912037, 'MAX_N_NOT_OPEN_TASKS_IN_QUEUE': 97, 'PRIORITY_DAY_OFFSET': 713, 'PRIORITY_COEF': 0.3929276058839664}. Best is trial 47 with value: 1013922.0.\u001b[0m\n"
     ]
    },
    {
     "name": "stdout",
     "output_type": "stream",
     "text": [
      "callback ok\n",
      "index_parallel='0153'\n",
      "sed -i 0153_main.cpp -e 's/^constexpr auto MCMC_Q_L2_NORM_RANGE = .*;           \\/\\/ OPTIMIZE LOG \\[2\\.0, 20\\.0\\]$/constexpr auto MCMC_Q_L2_NORM_RANGE = 8.70590718448619;           \\/\\/ OPTIMIZE LOG [2.0, 20.0]/' -e 's/^constexpr auto MCMC_Q_RANGE = .*;                   \\/\\/ OPTIMIZE LOG \\[0\\.2, 10\\.0\\]$/constexpr auto MCMC_Q_RANGE = 0.7941613559335701;                   \\/\\/ OPTIMIZE LOG [0.2, 10.0]/' -e 's/^constexpr auto EXPECTED_SKILL_EMA_ALPHA_COEF = .*; \\/\\/ OPTIMIZE LOG \\[0\\.02, 2\\.0\\]$/constexpr auto EXPECTED_SKILL_EMA_ALPHA_COEF = 0.6014567665798313; \\/\\/ OPTIMIZE LOG [0.02, 2.0]/' -e 's/^constexpr auto MAX_N_NOT_OPEN_TASKS_IN_QUEUE = .*; \\/\\/ OPTIMIZE \\[60, 100\\]$/constexpr auto MAX_N_NOT_OPEN_TASKS_IN_QUEUE = 78; \\/\\/ OPTIMIZE [60, 100]/' -e 's/^constexpr auto PRIORITY_DAY_OFFSET = .*;          \\/\\/ OPTIMIZE \\[400, 1200\\]$/constexpr auto PRIORITY_DAY_OFFSET = 664;          \\/\\/ OPTIMIZE [400, 1200]/' -e 's/^constexpr auto PRIORITY_COEF = .*; \\/\\/ OPTIMIZE LOG \\[0\\.002, 2\\.0\\]$/constexpr auto PRIORITY_COEF = 0.23463833982309104; \\/\\/ OPTIMIZE LOG [0.002, 2.0]/'\n",
      "clang++ 0153_main.cpp -std=gnu++17 -O2 -DONLINE_JUDGE -I/ -o 0153_main.cpp.out\n"
     ]
    },
    {
     "name": "stderr",
     "output_type": "stream",
     "text": [
      "\u001b[32m[I 2021-11-13 04:13:58,913]\u001b[0m Trial 151 finished with value: 1013358.0 and parameters: {'MCMC_Q_L2_NORM_RANGE': 7.921562650694968, 'MCMC_Q_RANGE': 1.11634041379061, 'EXPECTED_SKILL_EMA_ALPHA_COEF': 0.5978979471563048, 'MAX_N_NOT_OPEN_TASKS_IN_QUEUE': 96, 'PRIORITY_DAY_OFFSET': 702, 'PRIORITY_COEF': 0.4088259803781307}. Best is trial 47 with value: 1013922.0.\u001b[0m\n"
     ]
    },
    {
     "name": "stdout",
     "output_type": "stream",
     "text": [
      "callback ok\n",
      "index_parallel='0154'\n",
      "sed -i 0154_main.cpp -e 's/^constexpr auto MCMC_Q_L2_NORM_RANGE = .*;           \\/\\/ OPTIMIZE LOG \\[2\\.0, 20\\.0\\]$/constexpr auto MCMC_Q_L2_NORM_RANGE = 7.178134902482188;           \\/\\/ OPTIMIZE LOG [2.0, 20.0]/' -e 's/^constexpr auto MCMC_Q_RANGE = .*;                   \\/\\/ OPTIMIZE LOG \\[0\\.2, 10\\.0\\]$/constexpr auto MCMC_Q_RANGE = 0.8099796450254059;                   \\/\\/ OPTIMIZE LOG [0.2, 10.0]/' -e 's/^constexpr auto EXPECTED_SKILL_EMA_ALPHA_COEF = .*; \\/\\/ OPTIMIZE LOG \\[0\\.02, 2\\.0\\]$/constexpr auto EXPECTED_SKILL_EMA_ALPHA_COEF = 0.5970968553658913; \\/\\/ OPTIMIZE LOG [0.02, 2.0]/' -e 's/^constexpr auto MAX_N_NOT_OPEN_TASKS_IN_QUEUE = .*; \\/\\/ OPTIMIZE \\[60, 100\\]$/constexpr auto MAX_N_NOT_OPEN_TASKS_IN_QUEUE = 95; \\/\\/ OPTIMIZE [60, 100]/' -e 's/^constexpr auto PRIORITY_DAY_OFFSET = .*;          \\/\\/ OPTIMIZE \\[400, 1200\\]$/constexpr auto PRIORITY_DAY_OFFSET = 674;          \\/\\/ OPTIMIZE [400, 1200]/' -e 's/^constexpr auto PRIORITY_COEF = .*; \\/\\/ OPTIMIZE LOG \\[0\\.002, 2\\.0\\]$/constexpr auto PRIORITY_COEF = 0.24300777656193984; \\/\\/ OPTIMIZE LOG [0.002, 2.0]/'\n",
      "clang++ 0154_main.cpp -std=gnu++17 -O2 -DONLINE_JUDGE -I/ -o 0154_main.cpp.out\n"
     ]
    },
    {
     "name": "stderr",
     "output_type": "stream",
     "text": [
      "\u001b[32m[I 2021-11-13 04:14:01,204]\u001b[0m Trial 152 finished with value: 1011396.0 and parameters: {'MCMC_Q_L2_NORM_RANGE': 8.13700165334607, 'MCMC_Q_RANGE': 0.80626143535899, 'EXPECTED_SKILL_EMA_ALPHA_COEF': 0.6064401198298374, 'MAX_N_NOT_OPEN_TASKS_IN_QUEUE': 96, 'PRIORITY_DAY_OFFSET': 739, 'PRIORITY_COEF': 0.404593413516628}. Best is trial 47 with value: 1013922.0.\u001b[0m\n"
     ]
    },
    {
     "name": "stdout",
     "output_type": "stream",
     "text": [
      "callback ok\n",
      "index_parallel='0155'\n",
      "sed -i 0155_main.cpp -e 's/^constexpr auto MCMC_Q_L2_NORM_RANGE = .*;           \\/\\/ OPTIMIZE LOG \\[2\\.0, 20\\.0\\]$/constexpr auto MCMC_Q_L2_NORM_RANGE = 7.805038188757433;           \\/\\/ OPTIMIZE LOG [2.0, 20.0]/' -e 's/^constexpr auto MCMC_Q_RANGE = .*;                   \\/\\/ OPTIMIZE LOG \\[0\\.2, 10\\.0\\]$/constexpr auto MCMC_Q_RANGE = 0.7136619629056222;                   \\/\\/ OPTIMIZE LOG [0.2, 10.0]/' -e 's/^constexpr auto EXPECTED_SKILL_EMA_ALPHA_COEF = .*; \\/\\/ OPTIMIZE LOG \\[0\\.02, 2\\.0\\]$/constexpr auto EXPECTED_SKILL_EMA_ALPHA_COEF = 0.503847104266755; \\/\\/ OPTIMIZE LOG [0.02, 2.0]/' -e 's/^constexpr auto MAX_N_NOT_OPEN_TASKS_IN_QUEUE = .*; \\/\\/ OPTIMIZE \\[60, 100\\]$/constexpr auto MAX_N_NOT_OPEN_TASKS_IN_QUEUE = 95; \\/\\/ OPTIMIZE [60, 100]/' -e 's/^constexpr auto PRIORITY_DAY_OFFSET = .*;          \\/\\/ OPTIMIZE \\[400, 1200\\]$/constexpr auto PRIORITY_DAY_OFFSET = 682;          \\/\\/ OPTIMIZE [400, 1200]/' -e 's/^constexpr auto PRIORITY_COEF = .*; \\/\\/ OPTIMIZE LOG \\[0\\.002, 2\\.0\\]$/constexpr auto PRIORITY_COEF = 0.23917738107163547; \\/\\/ OPTIMIZE LOG [0.002, 2.0]/'\n",
      "clang++ 0155_main.cpp -std=gnu++17 -O2 -DONLINE_JUDGE -I/ -o 0155_main.cpp.out\n"
     ]
    },
    {
     "name": "stderr",
     "output_type": "stream",
     "text": [
      "\u001b[32m[I 2021-11-13 04:18:01,865]\u001b[0m Trial 153 finished with value: 1010211.0 and parameters: {'MCMC_Q_L2_NORM_RANGE': 8.70590718448619, 'MCMC_Q_RANGE': 0.7941613559335701, 'EXPECTED_SKILL_EMA_ALPHA_COEF': 0.6014567665798313, 'MAX_N_NOT_OPEN_TASKS_IN_QUEUE': 78, 'PRIORITY_DAY_OFFSET': 664, 'PRIORITY_COEF': 0.23463833982309104}. Best is trial 47 with value: 1013922.0.\u001b[0m\n"
     ]
    },
    {
     "name": "stdout",
     "output_type": "stream",
     "text": [
      "callback ok\n",
      "index_parallel='0156'\n",
      "sed -i 0156_main.cpp -e 's/^constexpr auto MCMC_Q_L2_NORM_RANGE = .*;           \\/\\/ OPTIMIZE LOG \\[2\\.0, 20\\.0\\]$/constexpr auto MCMC_Q_L2_NORM_RANGE = 7.248527947291901;           \\/\\/ OPTIMIZE LOG [2.0, 20.0]/' -e 's/^constexpr auto MCMC_Q_RANGE = .*;                   \\/\\/ OPTIMIZE LOG \\[0\\.2, 10\\.0\\]$/constexpr auto MCMC_Q_RANGE = 1.3659222062685572;                   \\/\\/ OPTIMIZE LOG [0.2, 10.0]/' -e 's/^constexpr auto EXPECTED_SKILL_EMA_ALPHA_COEF = .*; \\/\\/ OPTIMIZE LOG \\[0\\.02, 2\\.0\\]$/constexpr auto EXPECTED_SKILL_EMA_ALPHA_COEF = 0.4941529307943016; \\/\\/ OPTIMIZE LOG [0.02, 2.0]/' -e 's/^constexpr auto MAX_N_NOT_OPEN_TASKS_IN_QUEUE = .*; \\/\\/ OPTIMIZE \\[60, 100\\]$/constexpr auto MAX_N_NOT_OPEN_TASKS_IN_QUEUE = 95; \\/\\/ OPTIMIZE [60, 100]/' -e 's/^constexpr auto PRIORITY_DAY_OFFSET = .*;          \\/\\/ OPTIMIZE \\[400, 1200\\]$/constexpr auto PRIORITY_DAY_OFFSET = 686;          \\/\\/ OPTIMIZE [400, 1200]/' -e 's/^constexpr auto PRIORITY_COEF = .*; \\/\\/ OPTIMIZE LOG \\[0\\.002, 2\\.0\\]$/constexpr auto PRIORITY_COEF = 0.2863560595504091; \\/\\/ OPTIMIZE LOG [0.002, 2.0]/'\n",
      "clang++ 0156_main.cpp -std=gnu++17 -O2 -DONLINE_JUDGE -I/ -o 0156_main.cpp.out\n"
     ]
    },
    {
     "name": "stderr",
     "output_type": "stream",
     "text": [
      "\u001b[32m[I 2021-11-13 04:18:14,230]\u001b[0m Trial 154 finished with value: 1011534.0 and parameters: {'MCMC_Q_L2_NORM_RANGE': 7.178134902482188, 'MCMC_Q_RANGE': 0.8099796450254059, 'EXPECTED_SKILL_EMA_ALPHA_COEF': 0.5970968553658913, 'MAX_N_NOT_OPEN_TASKS_IN_QUEUE': 95, 'PRIORITY_DAY_OFFSET': 674, 'PRIORITY_COEF': 0.24300777656193984}. Best is trial 47 with value: 1013922.0.\u001b[0m\n"
     ]
    },
    {
     "name": "stdout",
     "output_type": "stream",
     "text": [
      "callback ok\n",
      "index_parallel='0157'\n",
      "sed -i 0157_main.cpp -e 's/^constexpr auto MCMC_Q_L2_NORM_RANGE = .*;           \\/\\/ OPTIMIZE LOG \\[2\\.0, 20\\.0\\]$/constexpr auto MCMC_Q_L2_NORM_RANGE = 9.606168907637436;           \\/\\/ OPTIMIZE LOG [2.0, 20.0]/' -e 's/^constexpr auto MCMC_Q_RANGE = .*;                   \\/\\/ OPTIMIZE LOG \\[0\\.2, 10\\.0\\]$/constexpr auto MCMC_Q_RANGE = 1.2501625827387408;                   \\/\\/ OPTIMIZE LOG [0.2, 10.0]/' -e 's/^constexpr auto EXPECTED_SKILL_EMA_ALPHA_COEF = .*; \\/\\/ OPTIMIZE LOG \\[0\\.02, 2\\.0\\]$/constexpr auto EXPECTED_SKILL_EMA_ALPHA_COEF = 0.49686359944425174; \\/\\/ OPTIMIZE LOG [0.02, 2.0]/' -e 's/^constexpr auto MAX_N_NOT_OPEN_TASKS_IN_QUEUE = .*; \\/\\/ OPTIMIZE \\[60, 100\\]$/constexpr auto MAX_N_NOT_OPEN_TASKS_IN_QUEUE = 93; \\/\\/ OPTIMIZE [60, 100]/' -e 's/^constexpr auto PRIORITY_DAY_OFFSET = .*;          \\/\\/ OPTIMIZE \\[400, 1200\\]$/constexpr auto PRIORITY_DAY_OFFSET = 691;          \\/\\/ OPTIMIZE [400, 1200]/' -e 's/^constexpr auto PRIORITY_COEF = .*; \\/\\/ OPTIMIZE LOG \\[0\\.002, 2\\.0\\]$/constexpr auto PRIORITY_COEF = 0.28072727753859145; \\/\\/ OPTIMIZE LOG [0.002, 2.0]/'\n",
      "clang++ 0157_main.cpp -std=gnu++17 -O2 -DONLINE_JUDGE -I/ -o 0157_main.cpp.out\n"
     ]
    },
    {
     "name": "stderr",
     "output_type": "stream",
     "text": [
      "\u001b[32m[I 2021-11-13 04:18:16,870]\u001b[0m Trial 155 finished with value: 1012199.0 and parameters: {'MCMC_Q_L2_NORM_RANGE': 7.805038188757433, 'MCMC_Q_RANGE': 0.7136619629056222, 'EXPECTED_SKILL_EMA_ALPHA_COEF': 0.503847104266755, 'MAX_N_NOT_OPEN_TASKS_IN_QUEUE': 95, 'PRIORITY_DAY_OFFSET': 682, 'PRIORITY_COEF': 0.23917738107163547}. Best is trial 47 with value: 1013922.0.\u001b[0m\n"
     ]
    },
    {
     "name": "stdout",
     "output_type": "stream",
     "text": [
      "callback ok\n",
      "index_parallel='0158'\n",
      "sed -i 0158_main.cpp -e 's/^constexpr auto MCMC_Q_L2_NORM_RANGE = .*;           \\/\\/ OPTIMIZE LOG \\[2\\.0, 20\\.0\\]$/constexpr auto MCMC_Q_L2_NORM_RANGE = 6.753872092547157;           \\/\\/ OPTIMIZE LOG [2.0, 20.0]/' -e 's/^constexpr auto MCMC_Q_RANGE = .*;                   \\/\\/ OPTIMIZE LOG \\[0\\.2, 10\\.0\\]$/constexpr auto MCMC_Q_RANGE = 1.372472179618784;                   \\/\\/ OPTIMIZE LOG [0.2, 10.0]/' -e 's/^constexpr auto EXPECTED_SKILL_EMA_ALPHA_COEF = .*; \\/\\/ OPTIMIZE LOG \\[0\\.02, 2\\.0\\]$/constexpr auto EXPECTED_SKILL_EMA_ALPHA_COEF = 0.6900201291082089; \\/\\/ OPTIMIZE LOG [0.02, 2.0]/' -e 's/^constexpr auto MAX_N_NOT_OPEN_TASKS_IN_QUEUE = .*; \\/\\/ OPTIMIZE \\[60, 100\\]$/constexpr auto MAX_N_NOT_OPEN_TASKS_IN_QUEUE = 96; \\/\\/ OPTIMIZE [60, 100]/' -e 's/^constexpr auto PRIORITY_DAY_OFFSET = .*;          \\/\\/ OPTIMIZE \\[400, 1200\\]$/constexpr auto PRIORITY_DAY_OFFSET = 707;          \\/\\/ OPTIMIZE [400, 1200]/' -e 's/^constexpr auto PRIORITY_COEF = .*; \\/\\/ OPTIMIZE LOG \\[0\\.002, 2\\.0\\]$/constexpr auto PRIORITY_COEF = 0.2763593268205712; \\/\\/ OPTIMIZE LOG [0.002, 2.0]/'\n",
      "clang++ 0158_main.cpp -std=gnu++17 -O2 -DONLINE_JUDGE -I/ -o 0158_main.cpp.out\n"
     ]
    },
    {
     "name": "stderr",
     "output_type": "stream",
     "text": [
      "\u001b[32m[I 2021-11-13 04:22:16,772]\u001b[0m Trial 156 finished with value: 1012650.0 and parameters: {'MCMC_Q_L2_NORM_RANGE': 7.248527947291901, 'MCMC_Q_RANGE': 1.3659222062685572, 'EXPECTED_SKILL_EMA_ALPHA_COEF': 0.4941529307943016, 'MAX_N_NOT_OPEN_TASKS_IN_QUEUE': 95, 'PRIORITY_DAY_OFFSET': 686, 'PRIORITY_COEF': 0.2863560595504091}. Best is trial 47 with value: 1013922.0.\u001b[0m\n"
     ]
    },
    {
     "name": "stdout",
     "output_type": "stream",
     "text": [
      "callback ok\n",
      "index_parallel='0159'\n",
      "sed -i 0159_main.cpp -e 's/^constexpr auto MCMC_Q_L2_NORM_RANGE = .*;           \\/\\/ OPTIMIZE LOG \\[2\\.0, 20\\.0\\]$/constexpr auto MCMC_Q_L2_NORM_RANGE = 6.848923473860559;           \\/\\/ OPTIMIZE LOG [2.0, 20.0]/' -e 's/^constexpr auto MCMC_Q_RANGE = .*;                   \\/\\/ OPTIMIZE LOG \\[0\\.2, 10\\.0\\]$/constexpr auto MCMC_Q_RANGE = 1.3387028460563182;                   \\/\\/ OPTIMIZE LOG [0.2, 10.0]/' -e 's/^constexpr auto EXPECTED_SKILL_EMA_ALPHA_COEF = .*; \\/\\/ OPTIMIZE LOG \\[0\\.02, 2\\.0\\]$/constexpr auto EXPECTED_SKILL_EMA_ALPHA_COEF = 0.6671959732526554; \\/\\/ OPTIMIZE LOG [0.02, 2.0]/' -e 's/^constexpr auto MAX_N_NOT_OPEN_TASKS_IN_QUEUE = .*; \\/\\/ OPTIMIZE \\[60, 100\\]$/constexpr auto MAX_N_NOT_OPEN_TASKS_IN_QUEUE = 93; \\/\\/ OPTIMIZE [60, 100]/' -e 's/^constexpr auto PRIORITY_DAY_OFFSET = .*;          \\/\\/ OPTIMIZE \\[400, 1200\\]$/constexpr auto PRIORITY_DAY_OFFSET = 703;          \\/\\/ OPTIMIZE [400, 1200]/' -e 's/^constexpr auto PRIORITY_COEF = .*; \\/\\/ OPTIMIZE LOG \\[0\\.002, 2\\.0\\]$/constexpr auto PRIORITY_COEF = 0.28928840481698453; \\/\\/ OPTIMIZE LOG [0.002, 2.0]/'\n",
      "clang++ 0159_main.cpp -std=gnu++17 -O2 -DONLINE_JUDGE -I/ -o 0159_main.cpp.out\n"
     ]
    },
    {
     "name": "stderr",
     "output_type": "stream",
     "text": [
      "\u001b[32m[I 2021-11-13 04:22:28,409]\u001b[0m Trial 157 finished with value: 1011950.0 and parameters: {'MCMC_Q_L2_NORM_RANGE': 9.606168907637436, 'MCMC_Q_RANGE': 1.2501625827387408, 'EXPECTED_SKILL_EMA_ALPHA_COEF': 0.49686359944425174, 'MAX_N_NOT_OPEN_TASKS_IN_QUEUE': 93, 'PRIORITY_DAY_OFFSET': 691, 'PRIORITY_COEF': 0.28072727753859145}. Best is trial 47 with value: 1013922.0.\u001b[0m\n"
     ]
    },
    {
     "name": "stdout",
     "output_type": "stream",
     "text": [
      "callback ok\n",
      "index_parallel='0160'\n",
      "sed -i 0160_main.cpp -e 's/^constexpr auto MCMC_Q_L2_NORM_RANGE = .*;           \\/\\/ OPTIMIZE LOG \\[2\\.0, 20\\.0\\]$/constexpr auto MCMC_Q_L2_NORM_RANGE = 6.531613080212277;           \\/\\/ OPTIMIZE LOG [2.0, 20.0]/' -e 's/^constexpr auto MCMC_Q_RANGE = .*;                   \\/\\/ OPTIMIZE LOG \\[0\\.2, 10\\.0\\]$/constexpr auto MCMC_Q_RANGE = 1.3635257182135092;                   \\/\\/ OPTIMIZE LOG [0.2, 10.0]/' -e 's/^constexpr auto EXPECTED_SKILL_EMA_ALPHA_COEF = .*; \\/\\/ OPTIMIZE LOG \\[0\\.02, 2\\.0\\]$/constexpr auto EXPECTED_SKILL_EMA_ALPHA_COEF = 0.6765279789367015; \\/\\/ OPTIMIZE LOG [0.02, 2.0]/' -e 's/^constexpr auto MAX_N_NOT_OPEN_TASKS_IN_QUEUE = .*; \\/\\/ OPTIMIZE \\[60, 100\\]$/constexpr auto MAX_N_NOT_OPEN_TASKS_IN_QUEUE = 96; \\/\\/ OPTIMIZE [60, 100]/' -e 's/^constexpr auto PRIORITY_DAY_OFFSET = .*;          \\/\\/ OPTIMIZE \\[400, 1200\\]$/constexpr auto PRIORITY_DAY_OFFSET = 711;          \\/\\/ OPTIMIZE [400, 1200]/' -e 's/^constexpr auto PRIORITY_COEF = .*; \\/\\/ OPTIMIZE LOG \\[0\\.002, 2\\.0\\]$/constexpr auto PRIORITY_COEF = 0.4881776922038496; \\/\\/ OPTIMIZE LOG [0.002, 2.0]/'\n",
      "clang++ 0160_main.cpp -std=gnu++17 -O2 -DONLINE_JUDGE -I/ -o 0160_main.cpp.out\n"
     ]
    },
    {
     "name": "stderr",
     "output_type": "stream",
     "text": [
      "\u001b[32m[I 2021-11-13 04:22:32,318]\u001b[0m Trial 158 finished with value: 1011830.0 and parameters: {'MCMC_Q_L2_NORM_RANGE': 6.753872092547157, 'MCMC_Q_RANGE': 1.372472179618784, 'EXPECTED_SKILL_EMA_ALPHA_COEF': 0.6900201291082089, 'MAX_N_NOT_OPEN_TASKS_IN_QUEUE': 96, 'PRIORITY_DAY_OFFSET': 707, 'PRIORITY_COEF': 0.2763593268205712}. Best is trial 47 with value: 1013922.0.\u001b[0m\n"
     ]
    },
    {
     "name": "stdout",
     "output_type": "stream",
     "text": [
      "callback ok\n",
      "index_parallel='0161'\n",
      "sed -i 0161_main.cpp -e 's/^constexpr auto MCMC_Q_L2_NORM_RANGE = .*;           \\/\\/ OPTIMIZE LOG \\[2\\.0, 20\\.0\\]$/constexpr auto MCMC_Q_L2_NORM_RANGE = 7.599008668467879;           \\/\\/ OPTIMIZE LOG [2.0, 20.0]/' -e 's/^constexpr auto MCMC_Q_RANGE = .*;                   \\/\\/ OPTIMIZE LOG \\[0\\.2, 10\\.0\\]$/constexpr auto MCMC_Q_RANGE = 1.3618414794897769;                   \\/\\/ OPTIMIZE LOG [0.2, 10.0]/' -e 's/^constexpr auto EXPECTED_SKILL_EMA_ALPHA_COEF = .*; \\/\\/ OPTIMIZE LOG \\[0\\.02, 2\\.0\\]$/constexpr auto EXPECTED_SKILL_EMA_ALPHA_COEF = 0.44920214341409587; \\/\\/ OPTIMIZE LOG [0.02, 2.0]/' -e 's/^constexpr auto MAX_N_NOT_OPEN_TASKS_IN_QUEUE = .*; \\/\\/ OPTIMIZE \\[60, 100\\]$/constexpr auto MAX_N_NOT_OPEN_TASKS_IN_QUEUE = 92; \\/\\/ OPTIMIZE [60, 100]/' -e 's/^constexpr auto PRIORITY_DAY_OFFSET = .*;          \\/\\/ OPTIMIZE \\[400, 1200\\]$/constexpr auto PRIORITY_DAY_OFFSET = 732;          \\/\\/ OPTIMIZE [400, 1200]/' -e 's/^constexpr auto PRIORITY_COEF = .*; \\/\\/ OPTIMIZE LOG \\[0\\.002, 2\\.0\\]$/constexpr auto PRIORITY_COEF = 0.4935332151850702; \\/\\/ OPTIMIZE LOG [0.002, 2.0]/'\n",
      "clang++ 0161_main.cpp -std=gnu++17 -O2 -DONLINE_JUDGE -I/ -o 0161_main.cpp.out\n"
     ]
    },
    {
     "name": "stderr",
     "output_type": "stream",
     "text": [
      "\u001b[32m[I 2021-11-13 04:26:30,402]\u001b[0m Trial 159 finished with value: 1010661.0 and parameters: {'MCMC_Q_L2_NORM_RANGE': 6.848923473860559, 'MCMC_Q_RANGE': 1.3387028460563182, 'EXPECTED_SKILL_EMA_ALPHA_COEF': 0.6671959732526554, 'MAX_N_NOT_OPEN_TASKS_IN_QUEUE': 93, 'PRIORITY_DAY_OFFSET': 703, 'PRIORITY_COEF': 0.28928840481698453}. Best is trial 47 with value: 1013922.0.\u001b[0m\n"
     ]
    },
    {
     "name": "stdout",
     "output_type": "stream",
     "text": [
      "callback ok\n",
      "index_parallel='0162'\n",
      "sed -i 0162_main.cpp -e 's/^constexpr auto MCMC_Q_L2_NORM_RANGE = .*;           \\/\\/ OPTIMIZE LOG \\[2\\.0, 20\\.0\\]$/constexpr auto MCMC_Q_L2_NORM_RANGE = 7.563704038399125;           \\/\\/ OPTIMIZE LOG [2.0, 20.0]/' -e 's/^constexpr auto MCMC_Q_RANGE = .*;                   \\/\\/ OPTIMIZE LOG \\[0\\.2, 10\\.0\\]$/constexpr auto MCMC_Q_RANGE = 0.9397644862412179;                   \\/\\/ OPTIMIZE LOG [0.2, 10.0]/' -e 's/^constexpr auto EXPECTED_SKILL_EMA_ALPHA_COEF = .*; \\/\\/ OPTIMIZE LOG \\[0\\.02, 2\\.0\\]$/constexpr auto EXPECTED_SKILL_EMA_ALPHA_COEF = 0.5530142885987893; \\/\\/ OPTIMIZE LOG [0.02, 2.0]/' -e 's/^constexpr auto MAX_N_NOT_OPEN_TASKS_IN_QUEUE = .*; \\/\\/ OPTIMIZE \\[60, 100\\]$/constexpr auto MAX_N_NOT_OPEN_TASKS_IN_QUEUE = 92; \\/\\/ OPTIMIZE [60, 100]/' -e 's/^constexpr auto PRIORITY_DAY_OFFSET = .*;          \\/\\/ OPTIMIZE \\[400, 1200\\]$/constexpr auto PRIORITY_DAY_OFFSET = 658;          \\/\\/ OPTIMIZE [400, 1200]/' -e 's/^constexpr auto PRIORITY_COEF = .*; \\/\\/ OPTIMIZE LOG \\[0\\.002, 2\\.0\\]$/constexpr auto PRIORITY_COEF = 0.4950028323209531; \\/\\/ OPTIMIZE LOG [0.002, 2.0]/'\n",
      "clang++ 0162_main.cpp -std=gnu++17 -O2 -DONLINE_JUDGE -I/ -o 0162_main.cpp.out\n"
     ]
    },
    {
     "name": "stderr",
     "output_type": "stream",
     "text": [
      "\u001b[32m[I 2021-11-13 04:26:43,431]\u001b[0m Trial 160 finished with value: 1011944.0 and parameters: {'MCMC_Q_L2_NORM_RANGE': 6.531613080212277, 'MCMC_Q_RANGE': 1.3635257182135092, 'EXPECTED_SKILL_EMA_ALPHA_COEF': 0.6765279789367015, 'MAX_N_NOT_OPEN_TASKS_IN_QUEUE': 96, 'PRIORITY_DAY_OFFSET': 711, 'PRIORITY_COEF': 0.4881776922038496}. Best is trial 47 with value: 1013922.0.\u001b[0m\n"
     ]
    },
    {
     "name": "stdout",
     "output_type": "stream",
     "text": [
      "callback ok\n",
      "index_parallel='0163'\n",
      "sed -i 0163_main.cpp -e 's/^constexpr auto MCMC_Q_L2_NORM_RANGE = .*;           \\/\\/ OPTIMIZE LOG \\[2\\.0, 20\\.0\\]$/constexpr auto MCMC_Q_L2_NORM_RANGE = 7.796380438171052;           \\/\\/ OPTIMIZE LOG [2.0, 20.0]/' -e 's/^constexpr auto MCMC_Q_RANGE = .*;                   \\/\\/ OPTIMIZE LOG \\[0\\.2, 10\\.0\\]$/constexpr auto MCMC_Q_RANGE = 0.933360572011176;                   \\/\\/ OPTIMIZE LOG [0.2, 10.0]/' -e 's/^constexpr auto EXPECTED_SKILL_EMA_ALPHA_COEF = .*; \\/\\/ OPTIMIZE LOG \\[0\\.02, 2\\.0\\]$/constexpr auto EXPECTED_SKILL_EMA_ALPHA_COEF = 0.11753865777368357; \\/\\/ OPTIMIZE LOG [0.02, 2.0]/' -e 's/^constexpr auto MAX_N_NOT_OPEN_TASKS_IN_QUEUE = .*; \\/\\/ OPTIMIZE \\[60, 100\\]$/constexpr auto MAX_N_NOT_OPEN_TASKS_IN_QUEUE = 95; \\/\\/ OPTIMIZE [60, 100]/' -e 's/^constexpr auto PRIORITY_DAY_OFFSET = .*;          \\/\\/ OPTIMIZE \\[400, 1200\\]$/constexpr auto PRIORITY_DAY_OFFSET = 726;          \\/\\/ OPTIMIZE [400, 1200]/' -e 's/^constexpr auto PRIORITY_COEF = .*; \\/\\/ OPTIMIZE LOG \\[0\\.002, 2\\.0\\]$/constexpr auto PRIORITY_COEF = 0.3561493997708036; \\/\\/ OPTIMIZE LOG [0.002, 2.0]/'\n",
      "clang++ 0163_main.cpp -std=gnu++17 -O2 -DONLINE_JUDGE -I/ -o 0163_main.cpp.out\n"
     ]
    },
    {
     "name": "stderr",
     "output_type": "stream",
     "text": [
      "\u001b[32m[I 2021-11-13 04:26:44,851]\u001b[0m Trial 161 finished with value: 1011493.0 and parameters: {'MCMC_Q_L2_NORM_RANGE': 7.599008668467879, 'MCMC_Q_RANGE': 1.3618414794897769, 'EXPECTED_SKILL_EMA_ALPHA_COEF': 0.44920214341409587, 'MAX_N_NOT_OPEN_TASKS_IN_QUEUE': 92, 'PRIORITY_DAY_OFFSET': 732, 'PRIORITY_COEF': 0.4935332151850702}. Best is trial 47 with value: 1013922.0.\u001b[0m\n"
     ]
    },
    {
     "name": "stdout",
     "output_type": "stream",
     "text": [
      "callback ok\n",
      "index_parallel='0164'\n",
      "sed -i 0164_main.cpp -e 's/^constexpr auto MCMC_Q_L2_NORM_RANGE = .*;           \\/\\/ OPTIMIZE LOG \\[2\\.0, 20\\.0\\]$/constexpr auto MCMC_Q_L2_NORM_RANGE = 13.285405595569033;           \\/\\/ OPTIMIZE LOG [2.0, 20.0]/' -e 's/^constexpr auto MCMC_Q_RANGE = .*;                   \\/\\/ OPTIMIZE LOG \\[0\\.2, 10\\.0\\]$/constexpr auto MCMC_Q_RANGE = 1.0685554348000295;                   \\/\\/ OPTIMIZE LOG [0.2, 10.0]/' -e 's/^constexpr auto EXPECTED_SKILL_EMA_ALPHA_COEF = .*; \\/\\/ OPTIMIZE LOG \\[0\\.02, 2\\.0\\]$/constexpr auto EXPECTED_SKILL_EMA_ALPHA_COEF = 0.5683170994310137; \\/\\/ OPTIMIZE LOG [0.02, 2.0]/' -e 's/^constexpr auto MAX_N_NOT_OPEN_TASKS_IN_QUEUE = .*; \\/\\/ OPTIMIZE \\[60, 100\\]$/constexpr auto MAX_N_NOT_OPEN_TASKS_IN_QUEUE = 95; \\/\\/ OPTIMIZE [60, 100]/' -e 's/^constexpr auto PRIORITY_DAY_OFFSET = .*;          \\/\\/ OPTIMIZE \\[400, 1200\\]$/constexpr auto PRIORITY_DAY_OFFSET = 772;          \\/\\/ OPTIMIZE [400, 1200]/' -e 's/^constexpr auto PRIORITY_COEF = .*; \\/\\/ OPTIMIZE LOG \\[0\\.002, 2\\.0\\]$/constexpr auto PRIORITY_COEF = 0.3539944788704485; \\/\\/ OPTIMIZE LOG [0.002, 2.0]/'\n",
      "clang++ 0164_main.cpp -std=gnu++17 -O2 -DONLINE_JUDGE -I/ -o 0164_main.cpp.out\n"
     ]
    },
    {
     "name": "stderr",
     "output_type": "stream",
     "text": [
      "\u001b[32m[I 2021-11-13 04:30:44,777]\u001b[0m Trial 162 finished with value: 1011425.0 and parameters: {'MCMC_Q_L2_NORM_RANGE': 7.563704038399125, 'MCMC_Q_RANGE': 0.9397644862412179, 'EXPECTED_SKILL_EMA_ALPHA_COEF': 0.5530142885987893, 'MAX_N_NOT_OPEN_TASKS_IN_QUEUE': 92, 'PRIORITY_DAY_OFFSET': 658, 'PRIORITY_COEF': 0.4950028323209531}. Best is trial 47 with value: 1013922.0.\u001b[0m\n"
     ]
    },
    {
     "name": "stdout",
     "output_type": "stream",
     "text": [
      "callback ok\n",
      "index_parallel='0165'\n",
      "sed -i 0165_main.cpp -e 's/^constexpr auto MCMC_Q_L2_NORM_RANGE = .*;           \\/\\/ OPTIMIZE LOG \\[2\\.0, 20\\.0\\]$/constexpr auto MCMC_Q_L2_NORM_RANGE = 8.314935344612069;           \\/\\/ OPTIMIZE LOG [2.0, 20.0]/' -e 's/^constexpr auto MCMC_Q_RANGE = .*;                   \\/\\/ OPTIMIZE LOG \\[0\\.2, 10\\.0\\]$/constexpr auto MCMC_Q_RANGE = 1.0589142284471271;                   \\/\\/ OPTIMIZE LOG [0.2, 10.0]/' -e 's/^constexpr auto EXPECTED_SKILL_EMA_ALPHA_COEF = .*; \\/\\/ OPTIMIZE LOG \\[0\\.02, 2\\.0\\]$/constexpr auto EXPECTED_SKILL_EMA_ALPHA_COEF = 0.7870757411744116; \\/\\/ OPTIMIZE LOG [0.02, 2.0]/' -e 's/^constexpr auto MAX_N_NOT_OPEN_TASKS_IN_QUEUE = .*; \\/\\/ OPTIMIZE \\[60, 100\\]$/constexpr auto MAX_N_NOT_OPEN_TASKS_IN_QUEUE = 95; \\/\\/ OPTIMIZE [60, 100]/' -e 's/^constexpr auto PRIORITY_DAY_OFFSET = .*;          \\/\\/ OPTIMIZE \\[400, 1200\\]$/constexpr auto PRIORITY_DAY_OFFSET = 769;          \\/\\/ OPTIMIZE [400, 1200]/' -e 's/^constexpr auto PRIORITY_COEF = .*; \\/\\/ OPTIMIZE LOG \\[0\\.002, 2\\.0\\]$/constexpr auto PRIORITY_COEF = 0.33636363470318814; \\/\\/ OPTIMIZE LOG [0.002, 2.0]/'\n",
      "clang++ 0165_main.cpp -std=gnu++17 -O2 -DONLINE_JUDGE -I/ -o 0165_main.cpp.out\n"
     ]
    },
    {
     "name": "stderr",
     "output_type": "stream",
     "text": [
      "\u001b[32m[I 2021-11-13 04:30:56,463]\u001b[0m Trial 163 finished with value: 1004458.0 and parameters: {'MCMC_Q_L2_NORM_RANGE': 7.796380438171052, 'MCMC_Q_RANGE': 0.933360572011176, 'EXPECTED_SKILL_EMA_ALPHA_COEF': 0.11753865777368357, 'MAX_N_NOT_OPEN_TASKS_IN_QUEUE': 95, 'PRIORITY_DAY_OFFSET': 726, 'PRIORITY_COEF': 0.3561493997708036}. Best is trial 47 with value: 1013922.0.\u001b[0m\n"
     ]
    },
    {
     "name": "stdout",
     "output_type": "stream",
     "text": [
      "callback ok\n",
      "index_parallel='0166'\n",
      "sed -i 0166_main.cpp -e 's/^constexpr auto MCMC_Q_L2_NORM_RANGE = .*;           \\/\\/ OPTIMIZE LOG \\[2\\.0, 20\\.0\\]$/constexpr auto MCMC_Q_L2_NORM_RANGE = 8.46572854124583;           \\/\\/ OPTIMIZE LOG [2.0, 20.0]/' -e 's/^constexpr auto MCMC_Q_RANGE = .*;                   \\/\\/ OPTIMIZE LOG \\[0\\.2, 10\\.0\\]$/constexpr auto MCMC_Q_RANGE = 1.2063071461587547;                   \\/\\/ OPTIMIZE LOG [0.2, 10.0]/' -e 's/^constexpr auto EXPECTED_SKILL_EMA_ALPHA_COEF = .*; \\/\\/ OPTIMIZE LOG \\[0\\.02, 2\\.0\\]$/constexpr auto EXPECTED_SKILL_EMA_ALPHA_COEF = 0.7996831692778769; \\/\\/ OPTIMIZE LOG [0.02, 2.0]/' -e 's/^constexpr auto MAX_N_NOT_OPEN_TASKS_IN_QUEUE = .*; \\/\\/ OPTIMIZE \\[60, 100\\]$/constexpr auto MAX_N_NOT_OPEN_TASKS_IN_QUEUE = 97; \\/\\/ OPTIMIZE [60, 100]/' -e 's/^constexpr auto PRIORITY_DAY_OFFSET = .*;          \\/\\/ OPTIMIZE \\[400, 1200\\]$/constexpr auto PRIORITY_DAY_OFFSET = 761;          \\/\\/ OPTIMIZE [400, 1200]/' -e 's/^constexpr auto PRIORITY_COEF = .*; \\/\\/ OPTIMIZE LOG \\[0\\.002, 2\\.0\\]$/constexpr auto PRIORITY_COEF = 0.40693475444866095; \\/\\/ OPTIMIZE LOG [0.002, 2.0]/'\n",
      "clang++ 0166_main.cpp -std=gnu++17 -O2 -DONLINE_JUDGE -I/ -o 0166_main.cpp.out\n"
     ]
    },
    {
     "name": "stderr",
     "output_type": "stream",
     "text": [
      "\u001b[32m[I 2021-11-13 04:30:59,447]\u001b[0m Trial 164 finished with value: 1012242.0 and parameters: {'MCMC_Q_L2_NORM_RANGE': 13.285405595569033, 'MCMC_Q_RANGE': 1.0685554348000295, 'EXPECTED_SKILL_EMA_ALPHA_COEF': 0.5683170994310137, 'MAX_N_NOT_OPEN_TASKS_IN_QUEUE': 95, 'PRIORITY_DAY_OFFSET': 772, 'PRIORITY_COEF': 0.3539944788704485}. Best is trial 47 with value: 1013922.0.\u001b[0m\n"
     ]
    },
    {
     "name": "stdout",
     "output_type": "stream",
     "text": [
      "callback ok\n",
      "index_parallel='0167'\n",
      "sed -i 0167_main.cpp -e 's/^constexpr auto MCMC_Q_L2_NORM_RANGE = .*;           \\/\\/ OPTIMIZE LOG \\[2\\.0, 20\\.0\\]$/constexpr auto MCMC_Q_L2_NORM_RANGE = 8.546334735184768;           \\/\\/ OPTIMIZE LOG [2.0, 20.0]/' -e 's/^constexpr auto MCMC_Q_RANGE = .*;                   \\/\\/ OPTIMIZE LOG \\[0\\.2, 10\\.0\\]$/constexpr auto MCMC_Q_RANGE = 1.2077899962513303;                   \\/\\/ OPTIMIZE LOG [0.2, 10.0]/' -e 's/^constexpr auto EXPECTED_SKILL_EMA_ALPHA_COEF = .*; \\/\\/ OPTIMIZE LOG \\[0\\.02, 2\\.0\\]$/constexpr auto EXPECTED_SKILL_EMA_ALPHA_COEF = 0.7874988696837762; \\/\\/ OPTIMIZE LOG [0.02, 2.0]/' -e 's/^constexpr auto MAX_N_NOT_OPEN_TASKS_IN_QUEUE = .*; \\/\\/ OPTIMIZE \\[60, 100\\]$/constexpr auto MAX_N_NOT_OPEN_TASKS_IN_QUEUE = 97; \\/\\/ OPTIMIZE [60, 100]/' -e 's/^constexpr auto PRIORITY_DAY_OFFSET = .*;          \\/\\/ OPTIMIZE \\[400, 1200\\]$/constexpr auto PRIORITY_DAY_OFFSET = 662;          \\/\\/ OPTIMIZE [400, 1200]/' -e 's/^constexpr auto PRIORITY_COEF = .*; \\/\\/ OPTIMIZE LOG \\[0\\.002, 2\\.0\\]$/constexpr auto PRIORITY_COEF = 0.41697275960337665; \\/\\/ OPTIMIZE LOG [0.002, 2.0]/'\n",
      "clang++ 0167_main.cpp -std=gnu++17 -O2 -DONLINE_JUDGE -I/ -o 0167_main.cpp.out\n"
     ]
    },
    {
     "name": "stderr",
     "output_type": "stream",
     "text": [
      "\u001b[32m[I 2021-11-13 04:34:59,662]\u001b[0m Trial 165 finished with value: 1011464.0 and parameters: {'MCMC_Q_L2_NORM_RANGE': 8.314935344612069, 'MCMC_Q_RANGE': 1.0589142284471271, 'EXPECTED_SKILL_EMA_ALPHA_COEF': 0.7870757411744116, 'MAX_N_NOT_OPEN_TASKS_IN_QUEUE': 95, 'PRIORITY_DAY_OFFSET': 769, 'PRIORITY_COEF': 0.33636363470318814}. Best is trial 47 with value: 1013922.0.\u001b[0m\n"
     ]
    },
    {
     "name": "stdout",
     "output_type": "stream",
     "text": [
      "callback ok\n",
      "index_parallel='0168'\n",
      "sed -i 0168_main.cpp -e 's/^constexpr auto MCMC_Q_L2_NORM_RANGE = .*;           \\/\\/ OPTIMIZE LOG \\[2\\.0, 20\\.0\\]$/constexpr auto MCMC_Q_L2_NORM_RANGE = 11.419831439668819;           \\/\\/ OPTIMIZE LOG [2.0, 20.0]/' -e 's/^constexpr auto MCMC_Q_RANGE = .*;                   \\/\\/ OPTIMIZE LOG \\[0\\.2, 10\\.0\\]$/constexpr auto MCMC_Q_RANGE = 1.2413547826906315;                   \\/\\/ OPTIMIZE LOG [0.2, 10.0]/' -e 's/^constexpr auto EXPECTED_SKILL_EMA_ALPHA_COEF = .*; \\/\\/ OPTIMIZE LOG \\[0\\.02, 2\\.0\\]$/constexpr auto EXPECTED_SKILL_EMA_ALPHA_COEF = 0.7923642816056705; \\/\\/ OPTIMIZE LOG [0.02, 2.0]/' -e 's/^constexpr auto MAX_N_NOT_OPEN_TASKS_IN_QUEUE = .*; \\/\\/ OPTIMIZE \\[60, 100\\]$/constexpr auto MAX_N_NOT_OPEN_TASKS_IN_QUEUE = 97; \\/\\/ OPTIMIZE [60, 100]/' -e 's/^constexpr auto PRIORITY_DAY_OFFSET = .*;          \\/\\/ OPTIMIZE \\[400, 1200\\]$/constexpr auto PRIORITY_DAY_OFFSET = 581;          \\/\\/ OPTIMIZE [400, 1200]/' -e 's/^constexpr auto PRIORITY_COEF = .*; \\/\\/ OPTIMIZE LOG \\[0\\.002, 2\\.0\\]$/constexpr auto PRIORITY_COEF = 0.20885336197932192; \\/\\/ OPTIMIZE LOG [0.002, 2.0]/'\n",
      "clang++ 0168_main.cpp -std=gnu++17 -O2 -DONLINE_JUDGE -I/ -o 0168_main.cpp.out\n"
     ]
    },
    {
     "name": "stderr",
     "output_type": "stream",
     "text": [
      "\u001b[32m[I 2021-11-13 04:35:12,447]\u001b[0m Trial 166 finished with value: 1012662.0 and parameters: {'MCMC_Q_L2_NORM_RANGE': 8.46572854124583, 'MCMC_Q_RANGE': 1.2063071461587547, 'EXPECTED_SKILL_EMA_ALPHA_COEF': 0.7996831692778769, 'MAX_N_NOT_OPEN_TASKS_IN_QUEUE': 97, 'PRIORITY_DAY_OFFSET': 761, 'PRIORITY_COEF': 0.40693475444866095}. Best is trial 47 with value: 1013922.0.\u001b[0m\n"
     ]
    },
    {
     "name": "stdout",
     "output_type": "stream",
     "text": [
      "callback ok\n",
      "index_parallel='0169'\n",
      "sed -i 0169_main.cpp -e 's/^constexpr auto MCMC_Q_L2_NORM_RANGE = .*;           \\/\\/ OPTIMIZE LOG \\[2\\.0, 20\\.0\\]$/constexpr auto MCMC_Q_L2_NORM_RANGE = 8.578979171778103;           \\/\\/ OPTIMIZE LOG [2.0, 20.0]/' -e 's/^constexpr auto MCMC_Q_RANGE = .*;                   \\/\\/ OPTIMIZE LOG \\[0\\.2, 10\\.0\\]$/constexpr auto MCMC_Q_RANGE = 1.2608891600216479;                   \\/\\/ OPTIMIZE LOG [0.2, 10.0]/' -e 's/^constexpr auto EXPECTED_SKILL_EMA_ALPHA_COEF = .*; \\/\\/ OPTIMIZE LOG \\[0\\.02, 2\\.0\\]$/constexpr auto EXPECTED_SKILL_EMA_ALPHA_COEF = 0.9815104779857773; \\/\\/ OPTIMIZE LOG [0.02, 2.0]/' -e 's/^constexpr auto MAX_N_NOT_OPEN_TASKS_IN_QUEUE = .*; \\/\\/ OPTIMIZE \\[60, 100\\]$/constexpr auto MAX_N_NOT_OPEN_TASKS_IN_QUEUE = 97; \\/\\/ OPTIMIZE [60, 100]/' -e 's/^constexpr auto PRIORITY_DAY_OFFSET = .*;          \\/\\/ OPTIMIZE \\[400, 1200\\]$/constexpr auto PRIORITY_DAY_OFFSET = 750;          \\/\\/ OPTIMIZE [400, 1200]/' -e 's/^constexpr auto PRIORITY_COEF = .*; \\/\\/ OPTIMIZE LOG \\[0\\.002, 2\\.0\\]$/constexpr auto PRIORITY_COEF = 0.4192711972430223; \\/\\/ OPTIMIZE LOG [0.002, 2.0]/'\n",
      "clang++ 0169_main.cpp -std=gnu++17 -O2 -DONLINE_JUDGE -I/ -o 0169_main.cpp.out\n"
     ]
    },
    {
     "name": "stderr",
     "output_type": "stream",
     "text": [
      "\u001b[32m[I 2021-11-13 04:35:15,364]\u001b[0m Trial 167 finished with value: 1011822.0 and parameters: {'MCMC_Q_L2_NORM_RANGE': 8.546334735184768, 'MCMC_Q_RANGE': 1.2077899962513303, 'EXPECTED_SKILL_EMA_ALPHA_COEF': 0.7874988696837762, 'MAX_N_NOT_OPEN_TASKS_IN_QUEUE': 97, 'PRIORITY_DAY_OFFSET': 662, 'PRIORITY_COEF': 0.41697275960337665}. Best is trial 47 with value: 1013922.0.\u001b[0m\n"
     ]
    },
    {
     "name": "stdout",
     "output_type": "stream",
     "text": [
      "callback ok\n",
      "index_parallel='0170'\n",
      "sed -i 0170_main.cpp -e 's/^constexpr auto MCMC_Q_L2_NORM_RANGE = .*;           \\/\\/ OPTIMIZE LOG \\[2\\.0, 20\\.0\\]$/constexpr auto MCMC_Q_L2_NORM_RANGE = 8.923230784060356;           \\/\\/ OPTIMIZE LOG [2.0, 20.0]/' -e 's/^constexpr auto MCMC_Q_RANGE = .*;                   \\/\\/ OPTIMIZE LOG \\[0\\.2, 10\\.0\\]$/constexpr auto MCMC_Q_RANGE = 1.5516814916739574;                   \\/\\/ OPTIMIZE LOG [0.2, 10.0]/' -e 's/^constexpr auto EXPECTED_SKILL_EMA_ALPHA_COEF = .*; \\/\\/ OPTIMIZE LOG \\[0\\.02, 2\\.0\\]$/constexpr auto EXPECTED_SKILL_EMA_ALPHA_COEF = 0.9897619726845869; \\/\\/ OPTIMIZE LOG [0.02, 2.0]/' -e 's/^constexpr auto MAX_N_NOT_OPEN_TASKS_IN_QUEUE = .*; \\/\\/ OPTIMIZE \\[60, 100\\]$/constexpr auto MAX_N_NOT_OPEN_TASKS_IN_QUEUE = 94; \\/\\/ OPTIMIZE [60, 100]/' -e 's/^constexpr auto PRIORITY_DAY_OFFSET = .*;          \\/\\/ OPTIMIZE \\[400, 1200\\]$/constexpr auto PRIORITY_DAY_OFFSET = 756;          \\/\\/ OPTIMIZE [400, 1200]/' -e 's/^constexpr auto PRIORITY_COEF = .*; \\/\\/ OPTIMIZE LOG \\[0\\.002, 2\\.0\\]$/constexpr auto PRIORITY_COEF = 0.6633060646392248; \\/\\/ OPTIMIZE LOG [0.002, 2.0]/'\n",
      "clang++ 0170_main.cpp -std=gnu++17 -O2 -DONLINE_JUDGE -I/ -o 0170_main.cpp.out\n"
     ]
    },
    {
     "name": "stderr",
     "output_type": "stream",
     "text": [
      "\u001b[32m[I 2021-11-13 04:39:16,227]\u001b[0m Trial 168 finished with value: 1012194.0 and parameters: {'MCMC_Q_L2_NORM_RANGE': 11.419831439668819, 'MCMC_Q_RANGE': 1.2413547826906315, 'EXPECTED_SKILL_EMA_ALPHA_COEF': 0.7923642816056705, 'MAX_N_NOT_OPEN_TASKS_IN_QUEUE': 97, 'PRIORITY_DAY_OFFSET': 581, 'PRIORITY_COEF': 0.20885336197932192}. Best is trial 47 with value: 1013922.0.\u001b[0m\n"
     ]
    },
    {
     "name": "stdout",
     "output_type": "stream",
     "text": [
      "callback ok\n",
      "index_parallel='0171'\n",
      "sed -i 0171_main.cpp -e 's/^constexpr auto MCMC_Q_L2_NORM_RANGE = .*;           \\/\\/ OPTIMIZE LOG \\[2\\.0, 20\\.0\\]$/constexpr auto MCMC_Q_L2_NORM_RANGE = 6.243930668369845;           \\/\\/ OPTIMIZE LOG [2.0, 20.0]/' -e 's/^constexpr auto MCMC_Q_RANGE = .*;                   \\/\\/ OPTIMIZE LOG \\[0\\.2, 10\\.0\\]$/constexpr auto MCMC_Q_RANGE = 1.5180479786752026;                   \\/\\/ OPTIMIZE LOG [0.2, 10.0]/' -e 's/^constexpr auto EXPECTED_SKILL_EMA_ALPHA_COEF = .*; \\/\\/ OPTIMIZE LOG \\[0\\.02, 2\\.0\\]$/constexpr auto EXPECTED_SKILL_EMA_ALPHA_COEF = 0.9711893051424214; \\/\\/ OPTIMIZE LOG [0.02, 2.0]/' -e 's/^constexpr auto MAX_N_NOT_OPEN_TASKS_IN_QUEUE = .*; \\/\\/ OPTIMIZE \\[60, 100\\]$/constexpr auto MAX_N_NOT_OPEN_TASKS_IN_QUEUE = 94; \\/\\/ OPTIMIZE [60, 100]/' -e 's/^constexpr auto PRIORITY_DAY_OFFSET = .*;          \\/\\/ OPTIMIZE \\[400, 1200\\]$/constexpr auto PRIORITY_DAY_OFFSET = 792;          \\/\\/ OPTIMIZE [400, 1200]/' -e 's/^constexpr auto PRIORITY_COEF = .*; \\/\\/ OPTIMIZE LOG \\[0\\.002, 2\\.0\\]$/constexpr auto PRIORITY_COEF = 0.41548561100124104; \\/\\/ OPTIMIZE LOG [0.002, 2.0]/'\n",
      "clang++ 0171_main.cpp -std=gnu++17 -O2 -DONLINE_JUDGE -I/ -o 0171_main.cpp.out\n"
     ]
    },
    {
     "name": "stderr",
     "output_type": "stream",
     "text": [
      "\u001b[32m[I 2021-11-13 04:39:28,817]\u001b[0m Trial 169 finished with value: 1012671.0 and parameters: {'MCMC_Q_L2_NORM_RANGE': 8.578979171778103, 'MCMC_Q_RANGE': 1.2608891600216479, 'EXPECTED_SKILL_EMA_ALPHA_COEF': 0.9815104779857773, 'MAX_N_NOT_OPEN_TASKS_IN_QUEUE': 97, 'PRIORITY_DAY_OFFSET': 750, 'PRIORITY_COEF': 0.4192711972430223}. Best is trial 47 with value: 1013922.0.\u001b[0m\n"
     ]
    },
    {
     "name": "stdout",
     "output_type": "stream",
     "text": [
      "callback ok\n",
      "index_parallel='0172'\n",
      "sed -i 0172_main.cpp -e 's/^constexpr auto MCMC_Q_L2_NORM_RANGE = .*;           \\/\\/ OPTIMIZE LOG \\[2\\.0, 20\\.0\\]$/constexpr auto MCMC_Q_L2_NORM_RANGE = 9.077324658879162;           \\/\\/ OPTIMIZE LOG [2.0, 20.0]/' -e 's/^constexpr auto MCMC_Q_RANGE = .*;                   \\/\\/ OPTIMIZE LOG \\[0\\.2, 10\\.0\\]$/constexpr auto MCMC_Q_RANGE = 1.4897830605340132;                   \\/\\/ OPTIMIZE LOG [0.2, 10.0]/' -e 's/^constexpr auto EXPECTED_SKILL_EMA_ALPHA_COEF = .*; \\/\\/ OPTIMIZE LOG \\[0\\.02, 2\\.0\\]$/constexpr auto EXPECTED_SKILL_EMA_ALPHA_COEF = 1.0064960919335606; \\/\\/ OPTIMIZE LOG [0.02, 2.0]/' -e 's/^constexpr auto MAX_N_NOT_OPEN_TASKS_IN_QUEUE = .*; \\/\\/ OPTIMIZE \\[60, 100\\]$/constexpr auto MAX_N_NOT_OPEN_TASKS_IN_QUEUE = 99; \\/\\/ OPTIMIZE [60, 100]/' -e 's/^constexpr auto PRIORITY_DAY_OFFSET = .*;          \\/\\/ OPTIMIZE \\[400, 1200\\]$/constexpr auto PRIORITY_DAY_OFFSET = 758;          \\/\\/ OPTIMIZE [400, 1200]/' -e 's/^constexpr auto PRIORITY_COEF = .*; \\/\\/ OPTIMIZE LOG \\[0\\.002, 2\\.0\\]$/constexpr auto PRIORITY_COEF = 0.6694567229275054; \\/\\/ OPTIMIZE LOG [0.002, 2.0]/'\n",
      "clang++ 0172_main.cpp -std=gnu++17 -O2 -DONLINE_JUDGE -I/ -o 0172_main.cpp.out\n"
     ]
    },
    {
     "name": "stderr",
     "output_type": "stream",
     "text": [
      "\u001b[32m[I 2021-11-13 04:39:30,290]\u001b[0m Trial 170 finished with value: 1010892.0 and parameters: {'MCMC_Q_L2_NORM_RANGE': 8.923230784060356, 'MCMC_Q_RANGE': 1.5516814916739574, 'EXPECTED_SKILL_EMA_ALPHA_COEF': 0.9897619726845869, 'MAX_N_NOT_OPEN_TASKS_IN_QUEUE': 94, 'PRIORITY_DAY_OFFSET': 756, 'PRIORITY_COEF': 0.6633060646392248}. Best is trial 47 with value: 1013922.0.\u001b[0m\n"
     ]
    },
    {
     "name": "stdout",
     "output_type": "stream",
     "text": [
      "callback ok\n",
      "index_parallel='0173'\n",
      "sed -i 0173_main.cpp -e 's/^constexpr auto MCMC_Q_L2_NORM_RANGE = .*;           \\/\\/ OPTIMIZE LOG \\[2\\.0, 20\\.0\\]$/constexpr auto MCMC_Q_L2_NORM_RANGE = 7.237985007021781;           \\/\\/ OPTIMIZE LOG [2.0, 20.0]/' -e 's/^constexpr auto MCMC_Q_RANGE = .*;                   \\/\\/ OPTIMIZE LOG \\[0\\.2, 10\\.0\\]$/constexpr auto MCMC_Q_RANGE = 1.259021399122043;                   \\/\\/ OPTIMIZE LOG [0.2, 10.0]/' -e 's/^constexpr auto EXPECTED_SKILL_EMA_ALPHA_COEF = .*; \\/\\/ OPTIMIZE LOG \\[0\\.02, 2\\.0\\]$/constexpr auto EXPECTED_SKILL_EMA_ALPHA_COEF = 0.9215854900048815; \\/\\/ OPTIMIZE LOG [0.02, 2.0]/' -e 's/^constexpr auto MAX_N_NOT_OPEN_TASKS_IN_QUEUE = .*; \\/\\/ OPTIMIZE \\[60, 100\\]$/constexpr auto MAX_N_NOT_OPEN_TASKS_IN_QUEUE = 99; \\/\\/ OPTIMIZE [60, 100]/' -e 's/^constexpr auto PRIORITY_DAY_OFFSET = .*;          \\/\\/ OPTIMIZE \\[400, 1200\\]$/constexpr auto PRIORITY_DAY_OFFSET = 785;          \\/\\/ OPTIMIZE [400, 1200]/' -e 's/^constexpr auto PRIORITY_COEF = .*; \\/\\/ OPTIMIZE LOG \\[0\\.002, 2\\.0\\]$/constexpr auto PRIORITY_COEF = 0.3968707388320167; \\/\\/ OPTIMIZE LOG [0.002, 2.0]/'\n",
      "clang++ 0173_main.cpp -std=gnu++17 -O2 -DONLINE_JUDGE -I/ -o 0173_main.cpp.out\n"
     ]
    },
    {
     "name": "stderr",
     "output_type": "stream",
     "text": [
      "\u001b[32m[I 2021-11-13 04:43:31,332]\u001b[0m Trial 171 finished with value: 1011192.0 and parameters: {'MCMC_Q_L2_NORM_RANGE': 6.243930668369845, 'MCMC_Q_RANGE': 1.5180479786752026, 'EXPECTED_SKILL_EMA_ALPHA_COEF': 0.9711893051424214, 'MAX_N_NOT_OPEN_TASKS_IN_QUEUE': 94, 'PRIORITY_DAY_OFFSET': 792, 'PRIORITY_COEF': 0.41548561100124104}. Best is trial 47 with value: 1013922.0.\u001b[0m\n"
     ]
    },
    {
     "name": "stdout",
     "output_type": "stream",
     "text": [
      "callback ok\n",
      "index_parallel='0174'\n",
      "sed -i 0174_main.cpp -e 's/^constexpr auto MCMC_Q_L2_NORM_RANGE = .*;           \\/\\/ OPTIMIZE LOG \\[2\\.0, 20\\.0\\]$/constexpr auto MCMC_Q_L2_NORM_RANGE = 9.132434540445526;           \\/\\/ OPTIMIZE LOG [2.0, 20.0]/' -e 's/^constexpr auto MCMC_Q_RANGE = .*;                   \\/\\/ OPTIMIZE LOG \\[0\\.2, 10\\.0\\]$/constexpr auto MCMC_Q_RANGE = 1.6970794407566878;                   \\/\\/ OPTIMIZE LOG [0.2, 10.0]/' -e 's/^constexpr auto EXPECTED_SKILL_EMA_ALPHA_COEF = .*; \\/\\/ OPTIMIZE LOG \\[0\\.02, 2\\.0\\]$/constexpr auto EXPECTED_SKILL_EMA_ALPHA_COEF = 0.6314003266841594; \\/\\/ OPTIMIZE LOG [0.02, 2.0]/' -e 's/^constexpr auto MAX_N_NOT_OPEN_TASKS_IN_QUEUE = .*; \\/\\/ OPTIMIZE \\[60, 100\\]$/constexpr auto MAX_N_NOT_OPEN_TASKS_IN_QUEUE = 99; \\/\\/ OPTIMIZE [60, 100]/' -e 's/^constexpr auto PRIORITY_DAY_OFFSET = .*;          \\/\\/ OPTIMIZE \\[400, 1200\\]$/constexpr auto PRIORITY_DAY_OFFSET = 810;          \\/\\/ OPTIMIZE [400, 1200]/' -e 's/^constexpr auto PRIORITY_COEF = .*; \\/\\/ OPTIMIZE LOG \\[0\\.002, 2\\.0\\]$/constexpr auto PRIORITY_COEF = 0.30783599871339334; \\/\\/ OPTIMIZE LOG [0.002, 2.0]/'\n",
      "clang++ 0174_main.cpp -std=gnu++17 -O2 -DONLINE_JUDGE -I/ -o 0174_main.cpp.out\n"
     ]
    },
    {
     "name": "stderr",
     "output_type": "stream",
     "text": [
      "\u001b[32m[I 2021-11-13 04:43:45,353]\u001b[0m Trial 172 finished with value: 1011249.0 and parameters: {'MCMC_Q_L2_NORM_RANGE': 9.077324658879162, 'MCMC_Q_RANGE': 1.4897830605340132, 'EXPECTED_SKILL_EMA_ALPHA_COEF': 1.0064960919335606, 'MAX_N_NOT_OPEN_TASKS_IN_QUEUE': 99, 'PRIORITY_DAY_OFFSET': 758, 'PRIORITY_COEF': 0.6694567229275054}. Best is trial 47 with value: 1013922.0.\u001b[0m\n"
     ]
    },
    {
     "name": "stdout",
     "output_type": "stream",
     "text": [
      "callback ok\n",
      "index_parallel='0175'\n",
      "sed -i 0175_main.cpp -e 's/^constexpr auto MCMC_Q_L2_NORM_RANGE = .*;           \\/\\/ OPTIMIZE LOG \\[2\\.0, 20\\.0\\]$/constexpr auto MCMC_Q_L2_NORM_RANGE = 7.113899732740736;           \\/\\/ OPTIMIZE LOG [2.0, 20.0]/' -e 's/^constexpr auto MCMC_Q_RANGE = .*;                   \\/\\/ OPTIMIZE LOG \\[0\\.2, 10\\.0\\]$/constexpr auto MCMC_Q_RANGE = 1.271561569244674;                   \\/\\/ OPTIMIZE LOG [0.2, 10.0]/' -e 's/^constexpr auto EXPECTED_SKILL_EMA_ALPHA_COEF = .*; \\/\\/ OPTIMIZE LOG \\[0\\.02, 2\\.0\\]$/constexpr auto EXPECTED_SKILL_EMA_ALPHA_COEF = 0.6318678601287824; \\/\\/ OPTIMIZE LOG [0.02, 2.0]/' -e 's/^constexpr auto MAX_N_NOT_OPEN_TASKS_IN_QUEUE = .*; \\/\\/ OPTIMIZE \\[60, 100\\]$/constexpr auto MAX_N_NOT_OPEN_TASKS_IN_QUEUE = 96; \\/\\/ OPTIMIZE [60, 100]/' -e 's/^constexpr auto PRIORITY_DAY_OFFSET = .*;          \\/\\/ OPTIMIZE \\[400, 1200\\]$/constexpr auto PRIORITY_DAY_OFFSET = 738;          \\/\\/ OPTIMIZE [400, 1200]/' -e 's/^constexpr auto PRIORITY_COEF = .*; \\/\\/ OPTIMIZE LOG \\[0\\.002, 2\\.0\\]$/constexpr auto PRIORITY_COEF = 0.30935058082400374; \\/\\/ OPTIMIZE LOG [0.002, 2.0]/'\n",
      "clang++ 0175_main.cpp -std=gnu++17 -O2 -DONLINE_JUDGE -I/ -o 0175_main.cpp.out\n"
     ]
    },
    {
     "name": "stderr",
     "output_type": "stream",
     "text": [
      "\u001b[32m[I 2021-11-13 04:43:47,089]\u001b[0m Trial 173 finished with value: 1011354.0 and parameters: {'MCMC_Q_L2_NORM_RANGE': 7.237985007021781, 'MCMC_Q_RANGE': 1.259021399122043, 'EXPECTED_SKILL_EMA_ALPHA_COEF': 0.9215854900048815, 'MAX_N_NOT_OPEN_TASKS_IN_QUEUE': 99, 'PRIORITY_DAY_OFFSET': 785, 'PRIORITY_COEF': 0.3968707388320167}. Best is trial 47 with value: 1013922.0.\u001b[0m\n"
     ]
    },
    {
     "name": "stdout",
     "output_type": "stream",
     "text": [
      "callback ok\n",
      "index_parallel='0176'\n",
      "sed -i 0176_main.cpp -e 's/^constexpr auto MCMC_Q_L2_NORM_RANGE = .*;           \\/\\/ OPTIMIZE LOG \\[2\\.0, 20\\.0\\]$/constexpr auto MCMC_Q_L2_NORM_RANGE = 7.907307320834672;           \\/\\/ OPTIMIZE LOG [2.0, 20.0]/' -e 's/^constexpr auto MCMC_Q_RANGE = .*;                   \\/\\/ OPTIMIZE LOG \\[0\\.2, 10\\.0\\]$/constexpr auto MCMC_Q_RANGE = 1.1013469401628198;                   \\/\\/ OPTIMIZE LOG [0.2, 10.0]/' -e 's/^constexpr auto EXPECTED_SKILL_EMA_ALPHA_COEF = .*; \\/\\/ OPTIMIZE LOG \\[0\\.02, 2\\.0\\]$/constexpr auto EXPECTED_SKILL_EMA_ALPHA_COEF = 0.7300907158965559; \\/\\/ OPTIMIZE LOG [0.02, 2.0]/' -e 's/^constexpr auto MAX_N_NOT_OPEN_TASKS_IN_QUEUE = .*; \\/\\/ OPTIMIZE \\[60, 100\\]$/constexpr auto MAX_N_NOT_OPEN_TASKS_IN_QUEUE = 96; \\/\\/ OPTIMIZE [60, 100]/' -e 's/^constexpr auto PRIORITY_DAY_OFFSET = .*;          \\/\\/ OPTIMIZE \\[400, 1200\\]$/constexpr auto PRIORITY_DAY_OFFSET = 747;          \\/\\/ OPTIMIZE [400, 1200]/' -e 's/^constexpr auto PRIORITY_COEF = .*; \\/\\/ OPTIMIZE LOG \\[0\\.002, 2\\.0\\]$/constexpr auto PRIORITY_COEF = 0.5446286655253649; \\/\\/ OPTIMIZE LOG [0.002, 2.0]/'\n",
      "clang++ 0176_main.cpp -std=gnu++17 -O2 -DONLINE_JUDGE -I/ -o 0176_main.cpp.out\n"
     ]
    },
    {
     "name": "stderr",
     "output_type": "stream",
     "text": [
      "\u001b[32m[I 2021-11-13 04:47:47,411]\u001b[0m Trial 174 finished with value: 1013561.0 and parameters: {'MCMC_Q_L2_NORM_RANGE': 9.132434540445526, 'MCMC_Q_RANGE': 1.6970794407566878, 'EXPECTED_SKILL_EMA_ALPHA_COEF': 0.6314003266841594, 'MAX_N_NOT_OPEN_TASKS_IN_QUEUE': 99, 'PRIORITY_DAY_OFFSET': 810, 'PRIORITY_COEF': 0.30783599871339334}. Best is trial 47 with value: 1013922.0.\u001b[0m\n"
     ]
    },
    {
     "name": "stdout",
     "output_type": "stream",
     "text": [
      "callback ok\n",
      "index_parallel='0177'\n",
      "sed -i 0177_main.cpp -e 's/^constexpr auto MCMC_Q_L2_NORM_RANGE = .*;           \\/\\/ OPTIMIZE LOG \\[2\\.0, 20\\.0\\]$/constexpr auto MCMC_Q_L2_NORM_RANGE = 12.064011774090186;           \\/\\/ OPTIMIZE LOG [2.0, 20.0]/' -e 's/^constexpr auto MCMC_Q_RANGE = .*;                   \\/\\/ OPTIMIZE LOG \\[0\\.2, 10\\.0\\]$/constexpr auto MCMC_Q_RANGE = 1.7510445659195444;                   \\/\\/ OPTIMIZE LOG [0.2, 10.0]/' -e 's/^constexpr auto EXPECTED_SKILL_EMA_ALPHA_COEF = .*; \\/\\/ OPTIMIZE LOG \\[0\\.02, 2\\.0\\]$/constexpr auto EXPECTED_SKILL_EMA_ALPHA_COEF = 0.6295415805288611; \\/\\/ OPTIMIZE LOG [0.02, 2.0]/' -e 's/^constexpr auto MAX_N_NOT_OPEN_TASKS_IN_QUEUE = .*; \\/\\/ OPTIMIZE \\[60, 100\\]$/constexpr auto MAX_N_NOT_OPEN_TASKS_IN_QUEUE = 100; \\/\\/ OPTIMIZE [60, 100]/' -e 's/^constexpr auto PRIORITY_DAY_OFFSET = .*;          \\/\\/ OPTIMIZE \\[400, 1200\\]$/constexpr auto PRIORITY_DAY_OFFSET = 811;          \\/\\/ OPTIMIZE [400, 1200]/' -e 's/^constexpr auto PRIORITY_COEF = .*; \\/\\/ OPTIMIZE LOG \\[0\\.002, 2\\.0\\]$/constexpr auto PRIORITY_COEF = 0.30263695001339713; \\/\\/ OPTIMIZE LOG [0.002, 2.0]/'\n",
      "clang++ 0177_main.cpp -std=gnu++17 -O2 -DONLINE_JUDGE -I/ -o 0177_main.cpp.out\n"
     ]
    },
    {
     "name": "stderr",
     "output_type": "stream",
     "text": [
      "\u001b[32m[I 2021-11-13 04:48:01,308]\u001b[0m Trial 175 finished with value: 1012202.0 and parameters: {'MCMC_Q_L2_NORM_RANGE': 7.113899732740736, 'MCMC_Q_RANGE': 1.271561569244674, 'EXPECTED_SKILL_EMA_ALPHA_COEF': 0.6318678601287824, 'MAX_N_NOT_OPEN_TASKS_IN_QUEUE': 96, 'PRIORITY_DAY_OFFSET': 738, 'PRIORITY_COEF': 0.30935058082400374}. Best is trial 47 with value: 1013922.0.\u001b[0m\n"
     ]
    },
    {
     "name": "stdout",
     "output_type": "stream",
     "text": [
      "callback ok\n",
      "index_parallel='0178'\n",
      "sed -i 0178_main.cpp -e 's/^constexpr auto MCMC_Q_L2_NORM_RANGE = .*;           \\/\\/ OPTIMIZE LOG \\[2\\.0, 20\\.0\\]$/constexpr auto MCMC_Q_L2_NORM_RANGE = 7.993829955861407;           \\/\\/ OPTIMIZE LOG [2.0, 20.0]/' -e 's/^constexpr auto MCMC_Q_RANGE = .*;                   \\/\\/ OPTIMIZE LOG \\[0\\.2, 10\\.0\\]$/constexpr auto MCMC_Q_RANGE = 2.016530624088037;                   \\/\\/ OPTIMIZE LOG [0.2, 10.0]/' -e 's/^constexpr auto EXPECTED_SKILL_EMA_ALPHA_COEF = .*; \\/\\/ OPTIMIZE LOG \\[0\\.02, 2\\.0\\]$/constexpr auto EXPECTED_SKILL_EMA_ALPHA_COEF = 0.7238109022099255; \\/\\/ OPTIMIZE LOG [0.02, 2.0]/' -e 's/^constexpr auto MAX_N_NOT_OPEN_TASKS_IN_QUEUE = .*; \\/\\/ OPTIMIZE \\[60, 100\\]$/constexpr auto MAX_N_NOT_OPEN_TASKS_IN_QUEUE = 100; \\/\\/ OPTIMIZE [60, 100]/' -e 's/^constexpr auto PRIORITY_DAY_OFFSET = .*;          \\/\\/ OPTIMIZE \\[400, 1200\\]$/constexpr auto PRIORITY_DAY_OFFSET = 817;          \\/\\/ OPTIMIZE [400, 1200]/' -e 's/^constexpr auto PRIORITY_COEF = .*; \\/\\/ OPTIMIZE LOG \\[0\\.002, 2\\.0\\]$/constexpr auto PRIORITY_COEF = 0.5587547040510217; \\/\\/ OPTIMIZE LOG [0.002, 2.0]/'\n",
      "clang++ 0178_main.cpp -std=gnu++17 -O2 -DONLINE_JUDGE -I/ -o 0178_main.cpp.out\n"
     ]
    },
    {
     "name": "stderr",
     "output_type": "stream",
     "text": [
      "\u001b[32m[I 2021-11-13 04:48:03,359]\u001b[0m Trial 176 finished with value: 1011407.0 and parameters: {'MCMC_Q_L2_NORM_RANGE': 7.907307320834672, 'MCMC_Q_RANGE': 1.1013469401628198, 'EXPECTED_SKILL_EMA_ALPHA_COEF': 0.7300907158965559, 'MAX_N_NOT_OPEN_TASKS_IN_QUEUE': 96, 'PRIORITY_DAY_OFFSET': 747, 'PRIORITY_COEF': 0.5446286655253649}. Best is trial 47 with value: 1013922.0.\u001b[0m\n"
     ]
    },
    {
     "name": "stdout",
     "output_type": "stream",
     "text": [
      "callback ok\n",
      "index_parallel='0179'\n",
      "sed -i 0179_main.cpp -e 's/^constexpr auto MCMC_Q_L2_NORM_RANGE = .*;           \\/\\/ OPTIMIZE LOG \\[2\\.0, 20\\.0\\]$/constexpr auto MCMC_Q_L2_NORM_RANGE = 12.28288882565673;           \\/\\/ OPTIMIZE LOG [2.0, 20.0]/' -e 's/^constexpr auto MCMC_Q_RANGE = .*;                   \\/\\/ OPTIMIZE LOG \\[0\\.2, 10\\.0\\]$/constexpr auto MCMC_Q_RANGE = 1.7469298968677456;                   \\/\\/ OPTIMIZE LOG [0.2, 10.0]/' -e 's/^constexpr auto EXPECTED_SKILL_EMA_ALPHA_COEF = .*; \\/\\/ OPTIMIZE LOG \\[0\\.02, 2\\.0\\]$/constexpr auto EXPECTED_SKILL_EMA_ALPHA_COEF = 0.7235849805304176; \\/\\/ OPTIMIZE LOG [0.02, 2.0]/' -e 's/^constexpr auto MAX_N_NOT_OPEN_TASKS_IN_QUEUE = .*; \\/\\/ OPTIMIZE \\[60, 100\\]$/constexpr auto MAX_N_NOT_OPEN_TASKS_IN_QUEUE = 98; \\/\\/ OPTIMIZE [60, 100]/' -e 's/^constexpr auto PRIORITY_DAY_OFFSET = .*;          \\/\\/ OPTIMIZE \\[400, 1200\\]$/constexpr auto PRIORITY_DAY_OFFSET = 804;          \\/\\/ OPTIMIZE [400, 1200]/' -e 's/^constexpr auto PRIORITY_COEF = .*; \\/\\/ OPTIMIZE LOG \\[0\\.002, 2\\.0\\]$/constexpr auto PRIORITY_COEF = 0.26954509138665095; \\/\\/ OPTIMIZE LOG [0.002, 2.0]/'\n",
      "clang++ 0179_main.cpp -std=gnu++17 -O2 -DONLINE_JUDGE -I/ -o 0179_main.cpp.out\n"
     ]
    },
    {
     "name": "stderr",
     "output_type": "stream",
     "text": [
      "\u001b[32m[I 2021-11-13 04:52:03,499]\u001b[0m Trial 177 finished with value: 1010637.0 and parameters: {'MCMC_Q_L2_NORM_RANGE': 12.064011774090186, 'MCMC_Q_RANGE': 1.7510445659195444, 'EXPECTED_SKILL_EMA_ALPHA_COEF': 0.6295415805288611, 'MAX_N_NOT_OPEN_TASKS_IN_QUEUE': 100, 'PRIORITY_DAY_OFFSET': 811, 'PRIORITY_COEF': 0.30263695001339713}. Best is trial 47 with value: 1013922.0.\u001b[0m\n"
     ]
    },
    {
     "name": "stdout",
     "output_type": "stream",
     "text": [
      "callback ok\n",
      "index_parallel='0180'\n",
      "sed -i 0180_main.cpp -e 's/^constexpr auto MCMC_Q_L2_NORM_RANGE = .*;           \\/\\/ OPTIMIZE LOG \\[2\\.0, 20\\.0\\]$/constexpr auto MCMC_Q_L2_NORM_RANGE = 9.373147627488914;           \\/\\/ OPTIMIZE LOG [2.0, 20.0]/' -e 's/^constexpr auto MCMC_Q_RANGE = .*;                   \\/\\/ OPTIMIZE LOG \\[0\\.2, 10\\.0\\]$/constexpr auto MCMC_Q_RANGE = 2.050621292873935;                   \\/\\/ OPTIMIZE LOG [0.2, 10.0]/' -e 's/^constexpr auto EXPECTED_SKILL_EMA_ALPHA_COEF = .*; \\/\\/ OPTIMIZE LOG \\[0\\.02, 2\\.0\\]$/constexpr auto EXPECTED_SKILL_EMA_ALPHA_COEF = 0.7263822610344045; \\/\\/ OPTIMIZE LOG [0.02, 2.0]/' -e 's/^constexpr auto MAX_N_NOT_OPEN_TASKS_IN_QUEUE = .*; \\/\\/ OPTIMIZE \\[60, 100\\]$/constexpr auto MAX_N_NOT_OPEN_TASKS_IN_QUEUE = 98; \\/\\/ OPTIMIZE [60, 100]/' -e 's/^constexpr auto PRIORITY_DAY_OFFSET = .*;          \\/\\/ OPTIMIZE \\[400, 1200\\]$/constexpr auto PRIORITY_DAY_OFFSET = 849;          \\/\\/ OPTIMIZE [400, 1200]/' -e 's/^constexpr auto PRIORITY_COEF = .*; \\/\\/ OPTIMIZE LOG \\[0\\.002, 2\\.0\\]$/constexpr auto PRIORITY_COEF = 0.24801729932597713; \\/\\/ OPTIMIZE LOG [0.002, 2.0]/'\n",
      "clang++ 0180_main.cpp -std=gnu++17 -O2 -DONLINE_JUDGE -I/ -o 0180_main.cpp.out\n"
     ]
    },
    {
     "name": "stderr",
     "output_type": "stream",
     "text": [
      "\u001b[32m[I 2021-11-13 04:52:16,944]\u001b[0m Trial 178 finished with value: 1010822.0 and parameters: {'MCMC_Q_L2_NORM_RANGE': 7.993829955861407, 'MCMC_Q_RANGE': 2.016530624088037, 'EXPECTED_SKILL_EMA_ALPHA_COEF': 0.7238109022099255, 'MAX_N_NOT_OPEN_TASKS_IN_QUEUE': 100, 'PRIORITY_DAY_OFFSET': 817, 'PRIORITY_COEF': 0.5587547040510217}. Best is trial 47 with value: 1013922.0.\u001b[0m\n"
     ]
    },
    {
     "name": "stdout",
     "output_type": "stream",
     "text": [
      "callback ok\n",
      "index_parallel='0181'\n",
      "sed -i 0181_main.cpp -e 's/^constexpr auto MCMC_Q_L2_NORM_RANGE = .*;           \\/\\/ OPTIMIZE LOG \\[2\\.0, 20\\.0\\]$/constexpr auto MCMC_Q_L2_NORM_RANGE = 12.898234568157514;           \\/\\/ OPTIMIZE LOG [2.0, 20.0]/' -e 's/^constexpr auto MCMC_Q_RANGE = .*;                   \\/\\/ OPTIMIZE LOG \\[0\\.2, 10\\.0\\]$/constexpr auto MCMC_Q_RANGE = 1.6413171675444365;                   \\/\\/ OPTIMIZE LOG [0.2, 10.0]/' -e 's/^constexpr auto EXPECTED_SKILL_EMA_ALPHA_COEF = .*; \\/\\/ OPTIMIZE LOG \\[0\\.02, 2\\.0\\]$/constexpr auto EXPECTED_SKILL_EMA_ALPHA_COEF = 0.5519764120655556; \\/\\/ OPTIMIZE LOG [0.02, 2.0]/' -e 's/^constexpr auto MAX_N_NOT_OPEN_TASKS_IN_QUEUE = .*; \\/\\/ OPTIMIZE \\[60, 100\\]$/constexpr auto MAX_N_NOT_OPEN_TASKS_IN_QUEUE = 98; \\/\\/ OPTIMIZE [60, 100]/' -e 's/^constexpr auto PRIORITY_DAY_OFFSET = .*;          \\/\\/ OPTIMIZE \\[400, 1200\\]$/constexpr auto PRIORITY_DAY_OFFSET = 720;          \\/\\/ OPTIMIZE [400, 1200]/' -e 's/^constexpr auto PRIORITY_COEF = .*; \\/\\/ OPTIMIZE LOG \\[0\\.002, 2\\.0\\]$/constexpr auto PRIORITY_COEF = 0.2632187324089777; \\/\\/ OPTIMIZE LOG [0.002, 2.0]/'\n",
      "clang++ 0181_main.cpp -std=gnu++17 -O2 -DONLINE_JUDGE -I/ -o 0181_main.cpp.out\n"
     ]
    },
    {
     "name": "stderr",
     "output_type": "stream",
     "text": [
      "\u001b[32m[I 2021-11-13 04:52:19,263]\u001b[0m Trial 179 finished with value: 1011414.0 and parameters: {'MCMC_Q_L2_NORM_RANGE': 12.28288882565673, 'MCMC_Q_RANGE': 1.7469298968677456, 'EXPECTED_SKILL_EMA_ALPHA_COEF': 0.7235849805304176, 'MAX_N_NOT_OPEN_TASKS_IN_QUEUE': 98, 'PRIORITY_DAY_OFFSET': 804, 'PRIORITY_COEF': 0.26954509138665095}. Best is trial 47 with value: 1013922.0.\u001b[0m\n"
     ]
    },
    {
     "name": "stdout",
     "output_type": "stream",
     "text": [
      "callback ok\n",
      "index_parallel='0182'\n",
      "sed -i 0182_main.cpp -e 's/^constexpr auto MCMC_Q_L2_NORM_RANGE = .*;           \\/\\/ OPTIMIZE LOG \\[2\\.0, 20\\.0\\]$/constexpr auto MCMC_Q_L2_NORM_RANGE = 9.423283207097436;           \\/\\/ OPTIMIZE LOG [2.0, 20.0]/' -e 's/^constexpr auto MCMC_Q_RANGE = .*;                   \\/\\/ OPTIMIZE LOG \\[0\\.2, 10\\.0\\]$/constexpr auto MCMC_Q_RANGE = 1.40304681174107;                   \\/\\/ OPTIMIZE LOG [0.2, 10.0]/' -e 's/^constexpr auto EXPECTED_SKILL_EMA_ALPHA_COEF = .*; \\/\\/ OPTIMIZE LOG \\[0\\.02, 2\\.0\\]$/constexpr auto EXPECTED_SKILL_EMA_ALPHA_COEF = 0.5364439918842425; \\/\\/ OPTIMIZE LOG [0.02, 2.0]/' -e 's/^constexpr auto MAX_N_NOT_OPEN_TASKS_IN_QUEUE = .*; \\/\\/ OPTIMIZE \\[60, 100\\]$/constexpr auto MAX_N_NOT_OPEN_TASKS_IN_QUEUE = 98; \\/\\/ OPTIMIZE [60, 100]/' -e 's/^constexpr auto PRIORITY_DAY_OFFSET = .*;          \\/\\/ OPTIMIZE \\[400, 1200\\]$/constexpr auto PRIORITY_DAY_OFFSET = 846;          \\/\\/ OPTIMIZE [400, 1200]/' -e 's/^constexpr auto PRIORITY_COEF = .*; \\/\\/ OPTIMIZE LOG \\[0\\.002, 2\\.0\\]$/constexpr auto PRIORITY_COEF = 0.22477326122608554; \\/\\/ OPTIMIZE LOG [0.002, 2.0]/'\n",
      "clang++ 0182_main.cpp -std=gnu++17 -O2 -DONLINE_JUDGE -I/ -o 0182_main.cpp.out\n"
     ]
    },
    {
     "name": "stderr",
     "output_type": "stream",
     "text": [
      "\u001b[32m[I 2021-11-13 04:56:19,731]\u001b[0m Trial 180 finished with value: 1012085.0 and parameters: {'MCMC_Q_L2_NORM_RANGE': 9.373147627488914, 'MCMC_Q_RANGE': 2.050621292873935, 'EXPECTED_SKILL_EMA_ALPHA_COEF': 0.7263822610344045, 'MAX_N_NOT_OPEN_TASKS_IN_QUEUE': 98, 'PRIORITY_DAY_OFFSET': 849, 'PRIORITY_COEF': 0.24801729932597713}. Best is trial 47 with value: 1013922.0.\u001b[0m\n"
     ]
    },
    {
     "name": "stdout",
     "output_type": "stream",
     "text": [
      "callback ok\n",
      "index_parallel='0183'\n",
      "sed -i 0183_main.cpp -e 's/^constexpr auto MCMC_Q_L2_NORM_RANGE = .*;           \\/\\/ OPTIMIZE LOG \\[2\\.0, 20\\.0\\]$/constexpr auto MCMC_Q_L2_NORM_RANGE = 13.9895741199423;           \\/\\/ OPTIMIZE LOG [2.0, 20.0]/' -e 's/^constexpr auto MCMC_Q_RANGE = .*;                   \\/\\/ OPTIMIZE LOG \\[0\\.2, 10\\.0\\]$/constexpr auto MCMC_Q_RANGE = 1.420859922210453;                   \\/\\/ OPTIMIZE LOG [0.2, 10.0]/' -e 's/^constexpr auto EXPECTED_SKILL_EMA_ALPHA_COEF = .*; \\/\\/ OPTIMIZE LOG \\[0\\.02, 2\\.0\\]$/constexpr auto EXPECTED_SKILL_EMA_ALPHA_COEF = 0.5231362347941932; \\/\\/ OPTIMIZE LOG [0.02, 2.0]/' -e 's/^constexpr auto MAX_N_NOT_OPEN_TASKS_IN_QUEUE = .*; \\/\\/ OPTIMIZE \\[60, 100\\]$/constexpr auto MAX_N_NOT_OPEN_TASKS_IN_QUEUE = 97; \\/\\/ OPTIMIZE [60, 100]/' -e 's/^constexpr auto PRIORITY_DAY_OFFSET = .*;          \\/\\/ OPTIMIZE \\[400, 1200\\]$/constexpr auto PRIORITY_DAY_OFFSET = 874;          \\/\\/ OPTIMIZE [400, 1200]/' -e 's/^constexpr auto PRIORITY_COEF = .*; \\/\\/ OPTIMIZE LOG \\[0\\.002, 2\\.0\\]$/constexpr auto PRIORITY_COEF = 0.3336640151250993; \\/\\/ OPTIMIZE LOG [0.002, 2.0]/'\n",
      "clang++ 0183_main.cpp -std=gnu++17 -O2 -DONLINE_JUDGE -I/ -o 0183_main.cpp.out\n"
     ]
    },
    {
     "name": "stderr",
     "output_type": "stream",
     "text": [
      "\u001b[32m[I 2021-11-13 04:56:32,881]\u001b[0m Trial 181 finished with value: 1012862.0 and parameters: {'MCMC_Q_L2_NORM_RANGE': 12.898234568157514, 'MCMC_Q_RANGE': 1.6413171675444365, 'EXPECTED_SKILL_EMA_ALPHA_COEF': 0.5519764120655556, 'MAX_N_NOT_OPEN_TASKS_IN_QUEUE': 98, 'PRIORITY_DAY_OFFSET': 720, 'PRIORITY_COEF': 0.2632187324089777}. Best is trial 47 with value: 1013922.0.\u001b[0m\n"
     ]
    },
    {
     "name": "stdout",
     "output_type": "stream",
     "text": [
      "callback ok\n",
      "index_parallel='0184'\n",
      "sed -i 0184_main.cpp -e 's/^constexpr auto MCMC_Q_L2_NORM_RANGE = .*;           \\/\\/ OPTIMIZE LOG \\[2\\.0, 20\\.0\\]$/constexpr auto MCMC_Q_L2_NORM_RANGE = 13.974546309487621;           \\/\\/ OPTIMIZE LOG [2.0, 20.0]/' -e 's/^constexpr auto MCMC_Q_RANGE = .*;                   \\/\\/ OPTIMIZE LOG \\[0\\.2, 10\\.0\\]$/constexpr auto MCMC_Q_RANGE = 1.6571224721615692;                   \\/\\/ OPTIMIZE LOG [0.2, 10.0]/' -e 's/^constexpr auto EXPECTED_SKILL_EMA_ALPHA_COEF = .*; \\/\\/ OPTIMIZE LOG \\[0\\.02, 2\\.0\\]$/constexpr auto EXPECTED_SKILL_EMA_ALPHA_COEF = 0.5204498376989567; \\/\\/ OPTIMIZE LOG [0.02, 2.0]/' -e 's/^constexpr auto MAX_N_NOT_OPEN_TASKS_IN_QUEUE = .*; \\/\\/ OPTIMIZE \\[60, 100\\]$/constexpr auto MAX_N_NOT_OPEN_TASKS_IN_QUEUE = 97; \\/\\/ OPTIMIZE [60, 100]/' -e 's/^constexpr auto PRIORITY_DAY_OFFSET = .*;          \\/\\/ OPTIMIZE \\[400, 1200\\]$/constexpr auto PRIORITY_DAY_OFFSET = 721;          \\/\\/ OPTIMIZE [400, 1200]/' -e 's/^constexpr auto PRIORITY_COEF = .*; \\/\\/ OPTIMIZE LOG \\[0\\.002, 2\\.0\\]$/constexpr auto PRIORITY_COEF = 0.3316339754891393; \\/\\/ OPTIMIZE LOG [0.002, 2.0]/'\n",
      "clang++ 0184_main.cpp -std=gnu++17 -O2 -DONLINE_JUDGE -I/ -o 0184_main.cpp.out\n"
     ]
    },
    {
     "name": "stderr",
     "output_type": "stream",
     "text": [
      "\u001b[32m[I 2021-11-13 04:56:35,873]\u001b[0m Trial 182 finished with value: 1011818.0 and parameters: {'MCMC_Q_L2_NORM_RANGE': 9.423283207097436, 'MCMC_Q_RANGE': 1.40304681174107, 'EXPECTED_SKILL_EMA_ALPHA_COEF': 0.5364439918842425, 'MAX_N_NOT_OPEN_TASKS_IN_QUEUE': 98, 'PRIORITY_DAY_OFFSET': 846, 'PRIORITY_COEF': 0.22477326122608554}. Best is trial 47 with value: 1013922.0.\u001b[0m\n"
     ]
    },
    {
     "name": "stdout",
     "output_type": "stream",
     "text": [
      "callback ok\n",
      "index_parallel='0185'\n",
      "sed -i 0185_main.cpp -e 's/^constexpr auto MCMC_Q_L2_NORM_RANGE = .*;           \\/\\/ OPTIMIZE LOG \\[2\\.0, 20\\.0\\]$/constexpr auto MCMC_Q_L2_NORM_RANGE = 14.434568937248166;           \\/\\/ OPTIMIZE LOG [2.0, 20.0]/' -e 's/^constexpr auto MCMC_Q_RANGE = .*;                   \\/\\/ OPTIMIZE LOG \\[0\\.2, 10\\.0\\]$/constexpr auto MCMC_Q_RANGE = 1.6582312460466497;                   \\/\\/ OPTIMIZE LOG [0.2, 10.0]/' -e 's/^constexpr auto EXPECTED_SKILL_EMA_ALPHA_COEF = .*; \\/\\/ OPTIMIZE LOG \\[0\\.02, 2\\.0\\]$/constexpr auto EXPECTED_SKILL_EMA_ALPHA_COEF = 0.45892130889202637; \\/\\/ OPTIMIZE LOG [0.02, 2.0]/' -e 's/^constexpr auto MAX_N_NOT_OPEN_TASKS_IN_QUEUE = .*; \\/\\/ OPTIMIZE \\[60, 100\\]$/constexpr auto MAX_N_NOT_OPEN_TASKS_IN_QUEUE = 97; \\/\\/ OPTIMIZE [60, 100]/' -e 's/^constexpr auto PRIORITY_DAY_OFFSET = .*;          \\/\\/ OPTIMIZE \\[400, 1200\\]$/constexpr auto PRIORITY_DAY_OFFSET = 721;          \\/\\/ OPTIMIZE [400, 1200]/' -e 's/^constexpr auto PRIORITY_COEF = .*; \\/\\/ OPTIMIZE LOG \\[0\\.002, 2\\.0\\]$/constexpr auto PRIORITY_COEF = 0.3343018205498716; \\/\\/ OPTIMIZE LOG [0.002, 2.0]/'\n",
      "clang++ 0185_main.cpp -std=gnu++17 -O2 -DONLINE_JUDGE -I/ -o 0185_main.cpp.out\n"
     ]
    },
    {
     "name": "stderr",
     "output_type": "stream",
     "text": [
      "\u001b[32m[I 2021-11-13 05:00:34,285]\u001b[0m Trial 183 finished with value: 1010086.0 and parameters: {'MCMC_Q_L2_NORM_RANGE': 13.9895741199423, 'MCMC_Q_RANGE': 1.420859922210453, 'EXPECTED_SKILL_EMA_ALPHA_COEF': 0.5231362347941932, 'MAX_N_NOT_OPEN_TASKS_IN_QUEUE': 97, 'PRIORITY_DAY_OFFSET': 874, 'PRIORITY_COEF': 0.3336640151250993}. Best is trial 47 with value: 1013922.0.\u001b[0m\n"
     ]
    },
    {
     "name": "stdout",
     "output_type": "stream",
     "text": [
      "callback ok\n",
      "index_parallel='0186'\n",
      "sed -i 0186_main.cpp -e 's/^constexpr auto MCMC_Q_L2_NORM_RANGE = .*;           \\/\\/ OPTIMIZE LOG \\[2\\.0, 20\\.0\\]$/constexpr auto MCMC_Q_L2_NORM_RANGE = 11.059583140108668;           \\/\\/ OPTIMIZE LOG [2.0, 20.0]/' -e 's/^constexpr auto MCMC_Q_RANGE = .*;                   \\/\\/ OPTIMIZE LOG \\[0\\.2, 10\\.0\\]$/constexpr auto MCMC_Q_RANGE = 0.8832227708278453;                   \\/\\/ OPTIMIZE LOG [0.2, 10.0]/' -e 's/^constexpr auto EXPECTED_SKILL_EMA_ALPHA_COEF = .*; \\/\\/ OPTIMIZE LOG \\[0\\.02, 2\\.0\\]$/constexpr auto EXPECTED_SKILL_EMA_ALPHA_COEF = 0.58054770083729; \\/\\/ OPTIMIZE LOG [0.02, 2.0]/' -e 's/^constexpr auto MAX_N_NOT_OPEN_TASKS_IN_QUEUE = .*; \\/\\/ OPTIMIZE \\[60, 100\\]$/constexpr auto MAX_N_NOT_OPEN_TASKS_IN_QUEUE = 97; \\/\\/ OPTIMIZE [60, 100]/' -e 's/^constexpr auto PRIORITY_DAY_OFFSET = .*;          \\/\\/ OPTIMIZE \\[400, 1200\\]$/constexpr auto PRIORITY_DAY_OFFSET = 709;          \\/\\/ OPTIMIZE [400, 1200]/' -e 's/^constexpr auto PRIORITY_COEF = .*; \\/\\/ OPTIMIZE LOG \\[0\\.002, 2\\.0\\]$/constexpr auto PRIORITY_COEF = 0.37121591913438845; \\/\\/ OPTIMIZE LOG [0.002, 2.0]/'\n",
      "clang++ 0186_main.cpp -std=gnu++17 -O2 -DONLINE_JUDGE -I/ -o 0186_main.cpp.out\n"
     ]
    },
    {
     "name": "stderr",
     "output_type": "stream",
     "text": [
      "\u001b[32m[I 2021-11-13 05:00:46,698]\u001b[0m Trial 184 finished with value: 1011722.0 and parameters: {'MCMC_Q_L2_NORM_RANGE': 13.974546309487621, 'MCMC_Q_RANGE': 1.6571224721615692, 'EXPECTED_SKILL_EMA_ALPHA_COEF': 0.5204498376989567, 'MAX_N_NOT_OPEN_TASKS_IN_QUEUE': 97, 'PRIORITY_DAY_OFFSET': 721, 'PRIORITY_COEF': 0.3316339754891393}. Best is trial 47 with value: 1013922.0.\u001b[0m\n"
     ]
    },
    {
     "name": "stdout",
     "output_type": "stream",
     "text": [
      "callback ok\n",
      "index_parallel='0187'\n",
      "sed -i 0187_main.cpp -e 's/^constexpr auto MCMC_Q_L2_NORM_RANGE = .*;           \\/\\/ OPTIMIZE LOG \\[2\\.0, 20\\.0\\]$/constexpr auto MCMC_Q_L2_NORM_RANGE = 13.172137684277962;           \\/\\/ OPTIMIZE LOG [2.0, 20.0]/' -e 's/^constexpr auto MCMC_Q_RANGE = .*;                   \\/\\/ OPTIMIZE LOG \\[0\\.2, 10\\.0\\]$/constexpr auto MCMC_Q_RANGE = 1.8682821109157428;                   \\/\\/ OPTIMIZE LOG [0.2, 10.0]/' -e 's/^constexpr auto EXPECTED_SKILL_EMA_ALPHA_COEF = .*; \\/\\/ OPTIMIZE LOG \\[0\\.02, 2\\.0\\]$/constexpr auto EXPECTED_SKILL_EMA_ALPHA_COEF = 0.5846299154954292; \\/\\/ OPTIMIZE LOG [0.02, 2.0]/' -e 's/^constexpr auto MAX_N_NOT_OPEN_TASKS_IN_QUEUE = .*; \\/\\/ OPTIMIZE \\[60, 100\\]$/constexpr auto MAX_N_NOT_OPEN_TASKS_IN_QUEUE = 99; \\/\\/ OPTIMIZE [60, 100]/' -e 's/^constexpr auto PRIORITY_DAY_OFFSET = .*;          \\/\\/ OPTIMIZE \\[400, 1200\\]$/constexpr auto PRIORITY_DAY_OFFSET = 737;          \\/\\/ OPTIMIZE [400, 1200]/' -e 's/^constexpr auto PRIORITY_COEF = .*; \\/\\/ OPTIMIZE LOG \\[0\\.002, 2\\.0\\]$/constexpr auto PRIORITY_COEF = 0.18919964049701135; \\/\\/ OPTIMIZE LOG [0.002, 2.0]/'\n",
      "clang++ 0187_main.cpp -std=gnu++17 -O2 -DONLINE_JUDGE -I/ -o 0187_main.cpp.out\n"
     ]
    },
    {
     "name": "stderr",
     "output_type": "stream",
     "text": [
      "\u001b[32m[I 2021-11-13 05:00:50,435]\u001b[0m Trial 185 finished with value: 1011559.0 and parameters: {'MCMC_Q_L2_NORM_RANGE': 14.434568937248166, 'MCMC_Q_RANGE': 1.6582312460466497, 'EXPECTED_SKILL_EMA_ALPHA_COEF': 0.45892130889202637, 'MAX_N_NOT_OPEN_TASKS_IN_QUEUE': 97, 'PRIORITY_DAY_OFFSET': 721, 'PRIORITY_COEF': 0.3343018205498716}. Best is trial 47 with value: 1013922.0.\u001b[0m\n"
     ]
    },
    {
     "name": "stdout",
     "output_type": "stream",
     "text": [
      "callback ok\n",
      "index_parallel='0188'\n",
      "sed -i 0188_main.cpp -e 's/^constexpr auto MCMC_Q_L2_NORM_RANGE = .*;           \\/\\/ OPTIMIZE LOG \\[2\\.0, 20\\.0\\]$/constexpr auto MCMC_Q_L2_NORM_RANGE = 13.209157239313948;           \\/\\/ OPTIMIZE LOG [2.0, 20.0]/' -e 's/^constexpr auto MCMC_Q_RANGE = .*;                   \\/\\/ OPTIMIZE LOG \\[0\\.2, 10\\.0\\]$/constexpr auto MCMC_Q_RANGE = 1.893881593040469;                   \\/\\/ OPTIMIZE LOG [0.2, 10.0]/' -e 's/^constexpr auto EXPECTED_SKILL_EMA_ALPHA_COEF = .*; \\/\\/ OPTIMIZE LOG \\[0\\.02, 2\\.0\\]$/constexpr auto EXPECTED_SKILL_EMA_ALPHA_COEF = 0.5874946471213826; \\/\\/ OPTIMIZE LOG [0.02, 2.0]/' -e 's/^constexpr auto MAX_N_NOT_OPEN_TASKS_IN_QUEUE = .*; \\/\\/ OPTIMIZE \\[60, 100\\]$/constexpr auto MAX_N_NOT_OPEN_TASKS_IN_QUEUE = 99; \\/\\/ OPTIMIZE [60, 100]/' -e 's/^constexpr auto PRIORITY_DAY_OFFSET = .*;          \\/\\/ OPTIMIZE \\[400, 1200\\]$/constexpr auto PRIORITY_DAY_OFFSET = 697;          \\/\\/ OPTIMIZE [400, 1200]/' -e 's/^constexpr auto PRIORITY_COEF = .*; \\/\\/ OPTIMIZE LOG \\[0\\.002, 2\\.0\\]$/constexpr auto PRIORITY_COEF = 0.19100183712694727; \\/\\/ OPTIMIZE LOG [0.002, 2.0]/'\n",
      "clang++ 0188_main.cpp -std=gnu++17 -O2 -DONLINE_JUDGE -I/ -o 0188_main.cpp.out\n"
     ]
    },
    {
     "name": "stderr",
     "output_type": "stream",
     "text": [
      "\u001b[32m[I 2021-11-13 05:04:51,148]\u001b[0m Trial 186 finished with value: 1011807.0 and parameters: {'MCMC_Q_L2_NORM_RANGE': 11.059583140108668, 'MCMC_Q_RANGE': 0.8832227708278453, 'EXPECTED_SKILL_EMA_ALPHA_COEF': 0.58054770083729, 'MAX_N_NOT_OPEN_TASKS_IN_QUEUE': 97, 'PRIORITY_DAY_OFFSET': 709, 'PRIORITY_COEF': 0.37121591913438845}. Best is trial 47 with value: 1013922.0.\u001b[0m\n"
     ]
    },
    {
     "name": "stdout",
     "output_type": "stream",
     "text": [
      "callback ok\n",
      "index_parallel='0189'\n",
      "sed -i 0189_main.cpp -e 's/^constexpr auto MCMC_Q_L2_NORM_RANGE = .*;           \\/\\/ OPTIMIZE LOG \\[2\\.0, 20\\.0\\]$/constexpr auto MCMC_Q_L2_NORM_RANGE = 12.967039700456217;           \\/\\/ OPTIMIZE LOG [2.0, 20.0]/' -e 's/^constexpr auto MCMC_Q_RANGE = .*;                   \\/\\/ OPTIMIZE LOG \\[0\\.2, 10\\.0\\]$/constexpr auto MCMC_Q_RANGE = 1.8261667472785714;                   \\/\\/ OPTIMIZE LOG [0.2, 10.0]/' -e 's/^constexpr auto EXPECTED_SKILL_EMA_ALPHA_COEF = .*; \\/\\/ OPTIMIZE LOG \\[0\\.02, 2\\.0\\]$/constexpr auto EXPECTED_SKILL_EMA_ALPHA_COEF = 0.6369990304816994; \\/\\/ OPTIMIZE LOG [0.02, 2.0]/' -e 's/^constexpr auto MAX_N_NOT_OPEN_TASKS_IN_QUEUE = .*; \\/\\/ OPTIMIZE \\[60, 100\\]$/constexpr auto MAX_N_NOT_OPEN_TASKS_IN_QUEUE = 96; \\/\\/ OPTIMIZE [60, 100]/' -e 's/^constexpr auto PRIORITY_DAY_OFFSET = .*;          \\/\\/ OPTIMIZE \\[400, 1200\\]$/constexpr auto PRIORITY_DAY_OFFSET = 691;          \\/\\/ OPTIMIZE [400, 1200]/' -e 's/^constexpr auto PRIORITY_COEF = .*; \\/\\/ OPTIMIZE LOG \\[0\\.002, 2\\.0\\]$/constexpr auto PRIORITY_COEF = 0.4449759047832763; \\/\\/ OPTIMIZE LOG [0.002, 2.0]/'\n",
      "clang++ 0189_main.cpp -std=gnu++17 -O2 -DONLINE_JUDGE -I/ -o 0189_main.cpp.out\n"
     ]
    },
    {
     "name": "stderr",
     "output_type": "stream",
     "text": [
      "\u001b[32m[I 2021-11-13 05:05:01,646]\u001b[0m Trial 187 finished with value: 1010779.0 and parameters: {'MCMC_Q_L2_NORM_RANGE': 13.172137684277962, 'MCMC_Q_RANGE': 1.8682821109157428, 'EXPECTED_SKILL_EMA_ALPHA_COEF': 0.5846299154954292, 'MAX_N_NOT_OPEN_TASKS_IN_QUEUE': 99, 'PRIORITY_DAY_OFFSET': 737, 'PRIORITY_COEF': 0.18919964049701135}. Best is trial 47 with value: 1013922.0.\u001b[0m\n"
     ]
    },
    {
     "name": "stdout",
     "output_type": "stream",
     "text": [
      "callback ok\n",
      "index_parallel='0190'\n",
      "sed -i 0190_main.cpp -e 's/^constexpr auto MCMC_Q_L2_NORM_RANGE = .*;           \\/\\/ OPTIMIZE LOG \\[2\\.0, 20\\.0\\]$/constexpr auto MCMC_Q_L2_NORM_RANGE = 12.823223973637797;           \\/\\/ OPTIMIZE LOG [2.0, 20.0]/' -e 's/^constexpr auto MCMC_Q_RANGE = .*;                   \\/\\/ OPTIMIZE LOG \\[0\\.2, 10\\.0\\]$/constexpr auto MCMC_Q_RANGE = 1.1797844627792042;                   \\/\\/ OPTIMIZE LOG [0.2, 10.0]/' -e 's/^constexpr auto EXPECTED_SKILL_EMA_ALPHA_COEF = .*; \\/\\/ OPTIMIZE LOG \\[0\\.02, 2\\.0\\]$/constexpr auto EXPECTED_SKILL_EMA_ALPHA_COEF = 0.6488100306000095; \\/\\/ OPTIMIZE LOG [0.02, 2.0]/' -e 's/^constexpr auto MAX_N_NOT_OPEN_TASKS_IN_QUEUE = .*; \\/\\/ OPTIMIZE \\[60, 100\\]$/constexpr auto MAX_N_NOT_OPEN_TASKS_IN_QUEUE = 96; \\/\\/ OPTIMIZE [60, 100]/' -e 's/^constexpr auto PRIORITY_DAY_OFFSET = .*;          \\/\\/ OPTIMIZE \\[400, 1200\\]$/constexpr auto PRIORITY_DAY_OFFSET = 693;          \\/\\/ OPTIMIZE [400, 1200]/' -e 's/^constexpr auto PRIORITY_COEF = .*; \\/\\/ OPTIMIZE LOG \\[0\\.002, 2\\.0\\]$/constexpr auto PRIORITY_COEF = 0.4043563852486347; \\/\\/ OPTIMIZE LOG [0.002, 2.0]/'\n",
      "clang++ 0190_main.cpp -std=gnu++17 -O2 -DONLINE_JUDGE -I/ -o 0190_main.cpp.out\n"
     ]
    },
    {
     "name": "stderr",
     "output_type": "stream",
     "text": [
      "\u001b[32m[I 2021-11-13 05:05:05,292]\u001b[0m Trial 188 finished with value: 1009955.0 and parameters: {'MCMC_Q_L2_NORM_RANGE': 13.209157239313948, 'MCMC_Q_RANGE': 1.893881593040469, 'EXPECTED_SKILL_EMA_ALPHA_COEF': 0.5874946471213826, 'MAX_N_NOT_OPEN_TASKS_IN_QUEUE': 99, 'PRIORITY_DAY_OFFSET': 697, 'PRIORITY_COEF': 0.19100183712694727}. Best is trial 47 with value: 1013922.0.\u001b[0m\n"
     ]
    },
    {
     "name": "stdout",
     "output_type": "stream",
     "text": [
      "callback ok\n",
      "index_parallel='0191'\n",
      "sed -i 0191_main.cpp -e 's/^constexpr auto MCMC_Q_L2_NORM_RANGE = .*;           \\/\\/ OPTIMIZE LOG \\[2\\.0, 20\\.0\\]$/constexpr auto MCMC_Q_L2_NORM_RANGE = 11.608872376148803;           \\/\\/ OPTIMIZE LOG [2.0, 20.0]/' -e 's/^constexpr auto MCMC_Q_RANGE = .*;                   \\/\\/ OPTIMIZE LOG \\[0\\.2, 10\\.0\\]$/constexpr auto MCMC_Q_RANGE = 1.192960698594897;                   \\/\\/ OPTIMIZE LOG [0.2, 10.0]/' -e 's/^constexpr auto EXPECTED_SKILL_EMA_ALPHA_COEF = .*; \\/\\/ OPTIMIZE LOG \\[0\\.02, 2\\.0\\]$/constexpr auto EXPECTED_SKILL_EMA_ALPHA_COEF = 0.366341042447505; \\/\\/ OPTIMIZE LOG [0.02, 2.0]/' -e 's/^constexpr auto MAX_N_NOT_OPEN_TASKS_IN_QUEUE = .*; \\/\\/ OPTIMIZE \\[60, 100\\]$/constexpr auto MAX_N_NOT_OPEN_TASKS_IN_QUEUE = 96; \\/\\/ OPTIMIZE [60, 100]/' -e 's/^constexpr auto PRIORITY_DAY_OFFSET = .*;          \\/\\/ OPTIMIZE \\[400, 1200\\]$/constexpr auto PRIORITY_DAY_OFFSET = 781;          \\/\\/ OPTIMIZE [400, 1200]/' -e 's/^constexpr auto PRIORITY_COEF = .*; \\/\\/ OPTIMIZE LOG \\[0\\.002, 2\\.0\\]$/constexpr auto PRIORITY_COEF = 0.4261994238779183; \\/\\/ OPTIMIZE LOG [0.002, 2.0]/'\n",
      "clang++ 0191_main.cpp -std=gnu++17 -O2 -DONLINE_JUDGE -I/ -o 0191_main.cpp.out\n"
     ]
    },
    {
     "name": "stderr",
     "output_type": "stream",
     "text": [
      "\u001b[32m[I 2021-11-13 05:09:06,422]\u001b[0m Trial 189 finished with value: 1011859.0 and parameters: {'MCMC_Q_L2_NORM_RANGE': 12.967039700456217, 'MCMC_Q_RANGE': 1.8261667472785714, 'EXPECTED_SKILL_EMA_ALPHA_COEF': 0.6369990304816994, 'MAX_N_NOT_OPEN_TASKS_IN_QUEUE': 96, 'PRIORITY_DAY_OFFSET': 691, 'PRIORITY_COEF': 0.4449759047832763}. Best is trial 47 with value: 1013922.0.\u001b[0m\n"
     ]
    },
    {
     "name": "stdout",
     "output_type": "stream",
     "text": [
      "callback ok\n",
      "index_parallel='0192'\n",
      "sed -i 0192_main.cpp -e 's/^constexpr auto MCMC_Q_L2_NORM_RANGE = .*;           \\/\\/ OPTIMIZE LOG \\[2\\.0, 20\\.0\\]$/constexpr auto MCMC_Q_L2_NORM_RANGE = 8.256684231334303;           \\/\\/ OPTIMIZE LOG [2.0, 20.0]/' -e 's/^constexpr auto MCMC_Q_RANGE = .*;                   \\/\\/ OPTIMIZE LOG \\[0\\.2, 10\\.0\\]$/constexpr auto MCMC_Q_RANGE = 1.0097973765669253;                   \\/\\/ OPTIMIZE LOG [0.2, 10.0]/' -e 's/^constexpr auto EXPECTED_SKILL_EMA_ALPHA_COEF = .*; \\/\\/ OPTIMIZE LOG \\[0\\.02, 2\\.0\\]$/constexpr auto EXPECTED_SKILL_EMA_ALPHA_COEF = 0.8531867753110078; \\/\\/ OPTIMIZE LOG [0.02, 2.0]/' -e 's/^constexpr auto MAX_N_NOT_OPEN_TASKS_IN_QUEUE = .*; \\/\\/ OPTIMIZE \\[60, 100\\]$/constexpr auto MAX_N_NOT_OPEN_TASKS_IN_QUEUE = 95; \\/\\/ OPTIMIZE [60, 100]/' -e 's/^constexpr auto PRIORITY_DAY_OFFSET = .*;          \\/\\/ OPTIMIZE \\[400, 1200\\]$/constexpr auto PRIORITY_DAY_OFFSET = 779;          \\/\\/ OPTIMIZE [400, 1200]/' -e 's/^constexpr auto PRIORITY_COEF = .*; \\/\\/ OPTIMIZE LOG \\[0\\.002, 2\\.0\\]$/constexpr auto PRIORITY_COEF = 0.14522538986694708; \\/\\/ OPTIMIZE LOG [0.002, 2.0]/'\n",
      "clang++ 0192_main.cpp -std=gnu++17 -O2 -DONLINE_JUDGE -I/ -o 0192_main.cpp.out\n"
     ]
    },
    {
     "name": "stderr",
     "output_type": "stream",
     "text": [
      "\u001b[32m[I 2021-11-13 05:09:16,950]\u001b[0m Trial 190 finished with value: 1012832.0 and parameters: {'MCMC_Q_L2_NORM_RANGE': 12.823223973637797, 'MCMC_Q_RANGE': 1.1797844627792042, 'EXPECTED_SKILL_EMA_ALPHA_COEF': 0.6488100306000095, 'MAX_N_NOT_OPEN_TASKS_IN_QUEUE': 96, 'PRIORITY_DAY_OFFSET': 693, 'PRIORITY_COEF': 0.4043563852486347}. Best is trial 47 with value: 1013922.0.\u001b[0m\n"
     ]
    },
    {
     "name": "stdout",
     "output_type": "stream",
     "text": [
      "callback ok\n",
      "index_parallel='0193'\n",
      "sed -i 0193_main.cpp -e 's/^constexpr auto MCMC_Q_L2_NORM_RANGE = .*;           \\/\\/ OPTIMIZE LOG \\[2\\.0, 20\\.0\\]$/constexpr auto MCMC_Q_L2_NORM_RANGE = 8.28263488810491;           \\/\\/ OPTIMIZE LOG [2.0, 20.0]/' -e 's/^constexpr auto MCMC_Q_RANGE = .*;                   \\/\\/ OPTIMIZE LOG \\[0\\.2, 10\\.0\\]$/constexpr auto MCMC_Q_RANGE = 1.1966562698821541;                   \\/\\/ OPTIMIZE LOG [0.2, 10.0]/' -e 's/^constexpr auto EXPECTED_SKILL_EMA_ALPHA_COEF = .*; \\/\\/ OPTIMIZE LOG \\[0\\.02, 2\\.0\\]$/constexpr auto EXPECTED_SKILL_EMA_ALPHA_COEF = 0.6689544122716989; \\/\\/ OPTIMIZE LOG [0.02, 2.0]/' -e 's/^constexpr auto MAX_N_NOT_OPEN_TASKS_IN_QUEUE = .*; \\/\\/ OPTIMIZE \\[60, 100\\]$/constexpr auto MAX_N_NOT_OPEN_TASKS_IN_QUEUE = 94; \\/\\/ OPTIMIZE [60, 100]/' -e 's/^constexpr auto PRIORITY_DAY_OFFSET = .*;          \\/\\/ OPTIMIZE \\[400, 1200\\]$/constexpr auto PRIORITY_DAY_OFFSET = 777;          \\/\\/ OPTIMIZE [400, 1200]/' -e 's/^constexpr auto PRIORITY_COEF = .*; \\/\\/ OPTIMIZE LOG \\[0\\.002, 2\\.0\\]$/constexpr auto PRIORITY_COEF = 0.39919536472403655; \\/\\/ OPTIMIZE LOG [0.002, 2.0]/'\n",
      "clang++ 0193_main.cpp -std=gnu++17 -O2 -DONLINE_JUDGE -I/ -o 0193_main.cpp.out\n"
     ]
    },
    {
     "name": "stderr",
     "output_type": "stream",
     "text": [
      "\u001b[32m[I 2021-11-13 05:09:19,401]\u001b[0m Trial 191 finished with value: 1010695.0 and parameters: {'MCMC_Q_L2_NORM_RANGE': 11.608872376148803, 'MCMC_Q_RANGE': 1.192960698594897, 'EXPECTED_SKILL_EMA_ALPHA_COEF': 0.366341042447505, 'MAX_N_NOT_OPEN_TASKS_IN_QUEUE': 96, 'PRIORITY_DAY_OFFSET': 781, 'PRIORITY_COEF': 0.4261994238779183}. Best is trial 47 with value: 1013922.0.\u001b[0m\n"
     ]
    },
    {
     "name": "stdout",
     "output_type": "stream",
     "text": [
      "callback ok\n",
      "index_parallel='0194'\n",
      "sed -i 0194_main.cpp -e 's/^constexpr auto MCMC_Q_L2_NORM_RANGE = .*;           \\/\\/ OPTIMIZE LOG \\[2\\.0, 20\\.0\\]$/constexpr auto MCMC_Q_L2_NORM_RANGE = 8.277513553389728;           \\/\\/ OPTIMIZE LOG [2.0, 20.0]/' -e 's/^constexpr auto MCMC_Q_RANGE = .*;                   \\/\\/ OPTIMIZE LOG \\[0\\.2, 10\\.0\\]$/constexpr auto MCMC_Q_RANGE = 1.083280855538549;                   \\/\\/ OPTIMIZE LOG [0.2, 10.0]/' -e 's/^constexpr auto EXPECTED_SKILL_EMA_ALPHA_COEF = .*; \\/\\/ OPTIMIZE LOG \\[0\\.02, 2\\.0\\]$/constexpr auto EXPECTED_SKILL_EMA_ALPHA_COEF = 0.6781340647845174; \\/\\/ OPTIMIZE LOG [0.02, 2.0]/' -e 's/^constexpr auto MAX_N_NOT_OPEN_TASKS_IN_QUEUE = .*; \\/\\/ OPTIMIZE \\[60, 100\\]$/constexpr auto MAX_N_NOT_OPEN_TASKS_IN_QUEUE = 94; \\/\\/ OPTIMIZE [60, 100]/' -e 's/^constexpr auto PRIORITY_DAY_OFFSET = .*;          \\/\\/ OPTIMIZE \\[400, 1200\\]$/constexpr auto PRIORITY_DAY_OFFSET = 752;          \\/\\/ OPTIMIZE [400, 1200]/' -e 's/^constexpr auto PRIORITY_COEF = .*; \\/\\/ OPTIMIZE LOG \\[0\\.002, 2\\.0\\]$/constexpr auto PRIORITY_COEF = 0.39198447511870005; \\/\\/ OPTIMIZE LOG [0.002, 2.0]/'\n",
      "clang++ 0194_main.cpp -std=gnu++17 -O2 -DONLINE_JUDGE -I/ -o 0194_main.cpp.out\n"
     ]
    },
    {
     "name": "stderr",
     "output_type": "stream",
     "text": [
      "\u001b[32m[I 2021-11-13 05:13:22,249]\u001b[0m Trial 192 finished with value: 1011836.0 and parameters: {'MCMC_Q_L2_NORM_RANGE': 8.256684231334303, 'MCMC_Q_RANGE': 1.0097973765669253, 'EXPECTED_SKILL_EMA_ALPHA_COEF': 0.8531867753110078, 'MAX_N_NOT_OPEN_TASKS_IN_QUEUE': 95, 'PRIORITY_DAY_OFFSET': 779, 'PRIORITY_COEF': 0.14522538986694708}. Best is trial 47 with value: 1013922.0.\u001b[0m\n"
     ]
    },
    {
     "name": "stdout",
     "output_type": "stream",
     "text": [
      "callback ok\n",
      "index_parallel='0195'\n",
      "sed -i 0195_main.cpp -e 's/^constexpr auto MCMC_Q_L2_NORM_RANGE = .*;           \\/\\/ OPTIMIZE LOG \\[2\\.0, 20\\.0\\]$/constexpr auto MCMC_Q_L2_NORM_RANGE = 8.79706346979227;           \\/\\/ OPTIMIZE LOG [2.0, 20.0]/' -e 's/^constexpr auto MCMC_Q_RANGE = .*;                   \\/\\/ OPTIMIZE LOG \\[0\\.2, 10\\.0\\]$/constexpr auto MCMC_Q_RANGE = 1.3046862262697583;                   \\/\\/ OPTIMIZE LOG [0.2, 10.0]/' -e 's/^constexpr auto EXPECTED_SKILL_EMA_ALPHA_COEF = .*; \\/\\/ OPTIMIZE LOG \\[0\\.02, 2\\.0\\]$/constexpr auto EXPECTED_SKILL_EMA_ALPHA_COEF = 0.6600299130908155; \\/\\/ OPTIMIZE LOG [0.02, 2.0]/' -e 's/^constexpr auto MAX_N_NOT_OPEN_TASKS_IN_QUEUE = .*; \\/\\/ OPTIMIZE \\[60, 100\\]$/constexpr auto MAX_N_NOT_OPEN_TASKS_IN_QUEUE = 94; \\/\\/ OPTIMIZE [60, 100]/' -e 's/^constexpr auto PRIORITY_DAY_OFFSET = .*;          \\/\\/ OPTIMIZE \\[400, 1200\\]$/constexpr auto PRIORITY_DAY_OFFSET = 829;          \\/\\/ OPTIMIZE [400, 1200]/' -e 's/^constexpr auto PRIORITY_COEF = .*; \\/\\/ OPTIMIZE LOG \\[0\\.002, 2\\.0\\]$/constexpr auto PRIORITY_COEF = 0.3874463982162028; \\/\\/ OPTIMIZE LOG [0.002, 2.0]/'\n",
      "clang++ 0195_main.cpp -std=gnu++17 -O2 -DONLINE_JUDGE -I/ -o 0195_main.cpp.out\n"
     ]
    },
    {
     "name": "stderr",
     "output_type": "stream",
     "text": [
      "\u001b[32m[I 2021-11-13 05:13:32,193]\u001b[0m Trial 193 finished with value: 1011487.0 and parameters: {'MCMC_Q_L2_NORM_RANGE': 8.28263488810491, 'MCMC_Q_RANGE': 1.1966562698821541, 'EXPECTED_SKILL_EMA_ALPHA_COEF': 0.6689544122716989, 'MAX_N_NOT_OPEN_TASKS_IN_QUEUE': 94, 'PRIORITY_DAY_OFFSET': 777, 'PRIORITY_COEF': 0.39919536472403655}. Best is trial 47 with value: 1013922.0.\u001b[0m\n"
     ]
    },
    {
     "name": "stdout",
     "output_type": "stream",
     "text": [
      "callback ok\n",
      "index_parallel='0196'\n",
      "sed -i 0196_main.cpp -e 's/^constexpr auto MCMC_Q_L2_NORM_RANGE = .*;           \\/\\/ OPTIMIZE LOG \\[2\\.0, 20\\.0\\]$/constexpr auto MCMC_Q_L2_NORM_RANGE = 12.622595834535868;           \\/\\/ OPTIMIZE LOG [2.0, 20.0]/' -e 's/^constexpr auto MCMC_Q_RANGE = .*;                   \\/\\/ OPTIMIZE LOG \\[0\\.2, 10\\.0\\]$/constexpr auto MCMC_Q_RANGE = 1.098904870842275;                   \\/\\/ OPTIMIZE LOG [0.2, 10.0]/' -e 's/^constexpr auto EXPECTED_SKILL_EMA_ALPHA_COEF = .*; \\/\\/ OPTIMIZE LOG \\[0\\.02, 2\\.0\\]$/constexpr auto EXPECTED_SKILL_EMA_ALPHA_COEF = 0.785782143490213; \\/\\/ OPTIMIZE LOG [0.02, 2.0]/' -e 's/^constexpr auto MAX_N_NOT_OPEN_TASKS_IN_QUEUE = .*; \\/\\/ OPTIMIZE \\[60, 100\\]$/constexpr auto MAX_N_NOT_OPEN_TASKS_IN_QUEUE = 98; \\/\\/ OPTIMIZE [60, 100]/' -e 's/^constexpr auto PRIORITY_DAY_OFFSET = .*;          \\/\\/ OPTIMIZE \\[400, 1200\\]$/constexpr auto PRIORITY_DAY_OFFSET = 733;          \\/\\/ OPTIMIZE [400, 1200]/' -e 's/^constexpr auto PRIORITY_COEF = .*; \\/\\/ OPTIMIZE LOG \\[0\\.002, 2\\.0\\]$/constexpr auto PRIORITY_COEF = 0.2816776800588105; \\/\\/ OPTIMIZE LOG [0.002, 2.0]/'\n",
      "clang++ 0196_main.cpp -std=gnu++17 -O2 -DONLINE_JUDGE -I/ -o 0196_main.cpp.out\n"
     ]
    },
    {
     "name": "stderr",
     "output_type": "stream",
     "text": [
      "\u001b[32m[I 2021-11-13 05:13:34,609]\u001b[0m Trial 194 finished with value: 1011054.0 and parameters: {'MCMC_Q_L2_NORM_RANGE': 8.277513553389728, 'MCMC_Q_RANGE': 1.083280855538549, 'EXPECTED_SKILL_EMA_ALPHA_COEF': 0.6781340647845174, 'MAX_N_NOT_OPEN_TASKS_IN_QUEUE': 94, 'PRIORITY_DAY_OFFSET': 752, 'PRIORITY_COEF': 0.39198447511870005}. Best is trial 47 with value: 1013922.0.\u001b[0m\n"
     ]
    },
    {
     "name": "stdout",
     "output_type": "stream",
     "text": [
      "callback ok\n",
      "index_parallel='0197'\n",
      "sed -i 0197_main.cpp -e 's/^constexpr auto MCMC_Q_L2_NORM_RANGE = .*;           \\/\\/ OPTIMIZE LOG \\[2\\.0, 20\\.0\\]$/constexpr auto MCMC_Q_L2_NORM_RANGE = 12.227338632401095;           \\/\\/ OPTIMIZE LOG [2.0, 20.0]/' -e 's/^constexpr auto MCMC_Q_RANGE = .*;                   \\/\\/ OPTIMIZE LOG \\[0\\.2, 10\\.0\\]$/constexpr auto MCMC_Q_RANGE = 1.3203994614232233;                   \\/\\/ OPTIMIZE LOG [0.2, 10.0]/' -e 's/^constexpr auto EXPECTED_SKILL_EMA_ALPHA_COEF = .*; \\/\\/ OPTIMIZE LOG \\[0\\.02, 2\\.0\\]$/constexpr auto EXPECTED_SKILL_EMA_ALPHA_COEF = 0.8068933131062577; \\/\\/ OPTIMIZE LOG [0.02, 2.0]/' -e 's/^constexpr auto MAX_N_NOT_OPEN_TASKS_IN_QUEUE = .*; \\/\\/ OPTIMIZE \\[60, 100\\]$/constexpr auto MAX_N_NOT_OPEN_TASKS_IN_QUEUE = 98; \\/\\/ OPTIMIZE [60, 100]/' -e 's/^constexpr auto PRIORITY_DAY_OFFSET = .*;          \\/\\/ OPTIMIZE \\[400, 1200\\]$/constexpr auto PRIORITY_DAY_OFFSET = 642;          \\/\\/ OPTIMIZE [400, 1200]/' -e 's/^constexpr auto PRIORITY_COEF = .*; \\/\\/ OPTIMIZE LOG \\[0\\.002, 2\\.0\\]$/constexpr auto PRIORITY_COEF = 0.2802903185616246; \\/\\/ OPTIMIZE LOG [0.002, 2.0]/'\n",
      "clang++ 0197_main.cpp -std=gnu++17 -O2 -DONLINE_JUDGE -I/ -o 0197_main.cpp.out\n"
     ]
    },
    {
     "name": "stderr",
     "output_type": "stream",
     "text": [
      "\u001b[32m[I 2021-11-13 05:17:36,312]\u001b[0m Trial 195 finished with value: 1011002.0 and parameters: {'MCMC_Q_L2_NORM_RANGE': 8.79706346979227, 'MCMC_Q_RANGE': 1.3046862262697583, 'EXPECTED_SKILL_EMA_ALPHA_COEF': 0.6600299130908155, 'MAX_N_NOT_OPEN_TASKS_IN_QUEUE': 94, 'PRIORITY_DAY_OFFSET': 829, 'PRIORITY_COEF': 0.3874463982162028}. Best is trial 47 with value: 1013922.0.\u001b[0m\n"
     ]
    },
    {
     "name": "stdout",
     "output_type": "stream",
     "text": [
      "callback ok\n",
      "index_parallel='0198'\n",
      "sed -i 0198_main.cpp -e 's/^constexpr auto MCMC_Q_L2_NORM_RANGE = .*;           \\/\\/ OPTIMIZE LOG \\[2\\.0, 20\\.0\\]$/constexpr auto MCMC_Q_L2_NORM_RANGE = 12.027953606018896;           \\/\\/ OPTIMIZE LOG [2.0, 20.0]/' -e 's/^constexpr auto MCMC_Q_RANGE = .*;                   \\/\\/ OPTIMIZE LOG \\[0\\.2, 10\\.0\\]$/constexpr auto MCMC_Q_RANGE = 1.0977929178016625;                   \\/\\/ OPTIMIZE LOG [0.2, 10.0]/' -e 's/^constexpr auto EXPECTED_SKILL_EMA_ALPHA_COEF = .*; \\/\\/ OPTIMIZE LOG \\[0\\.02, 2\\.0\\]$/constexpr auto EXPECTED_SKILL_EMA_ALPHA_COEF = 0.8047466372162907; \\/\\/ OPTIMIZE LOG [0.02, 2.0]/' -e 's/^constexpr auto MAX_N_NOT_OPEN_TASKS_IN_QUEUE = .*; \\/\\/ OPTIMIZE \\[60, 100\\]$/constexpr auto MAX_N_NOT_OPEN_TASKS_IN_QUEUE = 98; \\/\\/ OPTIMIZE [60, 100]/' -e 's/^constexpr auto PRIORITY_DAY_OFFSET = .*;          \\/\\/ OPTIMIZE \\[400, 1200\\]$/constexpr auto PRIORITY_DAY_OFFSET = 733;          \\/\\/ OPTIMIZE [400, 1200]/' -e 's/^constexpr auto PRIORITY_COEF = .*; \\/\\/ OPTIMIZE LOG \\[0\\.002, 2\\.0\\]$/constexpr auto PRIORITY_COEF = 0.27466812311100913; \\/\\/ OPTIMIZE LOG [0.002, 2.0]/'\n",
      "clang++ 0198_main.cpp -std=gnu++17 -O2 -DONLINE_JUDGE -I/ -o 0198_main.cpp.out\n"
     ]
    },
    {
     "name": "stderr",
     "output_type": "stream",
     "text": [
      "\u001b[32m[I 2021-11-13 05:17:47,802]\u001b[0m Trial 196 finished with value: 1011642.0 and parameters: {'MCMC_Q_L2_NORM_RANGE': 12.622595834535868, 'MCMC_Q_RANGE': 1.098904870842275, 'EXPECTED_SKILL_EMA_ALPHA_COEF': 0.785782143490213, 'MAX_N_NOT_OPEN_TASKS_IN_QUEUE': 98, 'PRIORITY_DAY_OFFSET': 733, 'PRIORITY_COEF': 0.2816776800588105}. Best is trial 47 with value: 1013922.0.\u001b[0m\n"
     ]
    },
    {
     "name": "stdout",
     "output_type": "stream",
     "text": [
      "callback ok\n",
      "index_parallel='0199'\n",
      "sed -i 0199_main.cpp -e 's/^constexpr auto MCMC_Q_L2_NORM_RANGE = .*;           \\/\\/ OPTIMIZE LOG \\[2\\.0, 20\\.0\\]$/constexpr auto MCMC_Q_L2_NORM_RANGE = 12.023206606667271;           \\/\\/ OPTIMIZE LOG [2.0, 20.0]/' -e 's/^constexpr auto MCMC_Q_RANGE = .*;                   \\/\\/ OPTIMIZE LOG \\[0\\.2, 10\\.0\\]$/constexpr auto MCMC_Q_RANGE = 1.5091155674104735;                   \\/\\/ OPTIMIZE LOG [0.2, 10.0]/' -e 's/^constexpr auto EXPECTED_SKILL_EMA_ALPHA_COEF = .*; \\/\\/ OPTIMIZE LOG \\[0\\.02, 2\\.0\\]$/constexpr auto EXPECTED_SKILL_EMA_ALPHA_COEF = 0.8973076370719156; \\/\\/ OPTIMIZE LOG [0.02, 2.0]/' -e 's/^constexpr auto MAX_N_NOT_OPEN_TASKS_IN_QUEUE = .*; \\/\\/ OPTIMIZE \\[60, 100\\]$/constexpr auto MAX_N_NOT_OPEN_TASKS_IN_QUEUE = 96; \\/\\/ OPTIMIZE [60, 100]/' -e 's/^constexpr auto PRIORITY_DAY_OFFSET = .*;          \\/\\/ OPTIMIZE \\[400, 1200\\]$/constexpr auto PRIORITY_DAY_OFFSET = 640;          \\/\\/ OPTIMIZE [400, 1200]/' -e 's/^constexpr auto PRIORITY_COEF = .*; \\/\\/ OPTIMIZE LOG \\[0\\.002, 2\\.0\\]$/constexpr auto PRIORITY_COEF = 0.06922013354525124; \\/\\/ OPTIMIZE LOG [0.002, 2.0]/'\n",
      "clang++ 0199_main.cpp -std=gnu++17 -O2 -DONLINE_JUDGE -I/ -o 0199_main.cpp.out\n"
     ]
    },
    {
     "name": "stderr",
     "output_type": "stream",
     "text": [
      "\u001b[32m[I 2021-11-13 05:17:50,994]\u001b[0m Trial 197 finished with value: 1012199.0 and parameters: {'MCMC_Q_L2_NORM_RANGE': 12.227338632401095, 'MCMC_Q_RANGE': 1.3203994614232233, 'EXPECTED_SKILL_EMA_ALPHA_COEF': 0.8068933131062577, 'MAX_N_NOT_OPEN_TASKS_IN_QUEUE': 98, 'PRIORITY_DAY_OFFSET': 642, 'PRIORITY_COEF': 0.2802903185616246}. Best is trial 47 with value: 1013922.0.\u001b[0m\n"
     ]
    },
    {
     "name": "stdout",
     "output_type": "stream",
     "text": [
      "callback ok\n",
      "index_parallel='0200'\n",
      "sed -i 0200_main.cpp -e 's/^constexpr auto MCMC_Q_L2_NORM_RANGE = .*;           \\/\\/ OPTIMIZE LOG \\[2\\.0, 20\\.0\\]$/constexpr auto MCMC_Q_L2_NORM_RANGE = 10.20607312655396;           \\/\\/ OPTIMIZE LOG [2.0, 20.0]/' -e 's/^constexpr auto MCMC_Q_RANGE = .*;                   \\/\\/ OPTIMIZE LOG \\[0\\.2, 10\\.0\\]$/constexpr auto MCMC_Q_RANGE = 1.5392543176836633;                   \\/\\/ OPTIMIZE LOG [0.2, 10.0]/' -e 's/^constexpr auto EXPECTED_SKILL_EMA_ALPHA_COEF = .*; \\/\\/ OPTIMIZE LOG \\[0\\.02, 2\\.0\\]$/constexpr auto EXPECTED_SKILL_EMA_ALPHA_COEF = 0.8965386300943431; \\/\\/ OPTIMIZE LOG [0.02, 2.0]/' -e 's/^constexpr auto MAX_N_NOT_OPEN_TASKS_IN_QUEUE = .*; \\/\\/ OPTIMIZE \\[60, 100\\]$/constexpr auto MAX_N_NOT_OPEN_TASKS_IN_QUEUE = 96; \\/\\/ OPTIMIZE [60, 100]/' -e 's/^constexpr auto PRIORITY_DAY_OFFSET = .*;          \\/\\/ OPTIMIZE \\[400, 1200\\]$/constexpr auto PRIORITY_DAY_OFFSET = 679;          \\/\\/ OPTIMIZE [400, 1200]/' -e 's/^constexpr auto PRIORITY_COEF = .*; \\/\\/ OPTIMIZE LOG \\[0\\.002, 2\\.0\\]$/constexpr auto PRIORITY_COEF = 0.5036116270588117; \\/\\/ OPTIMIZE LOG [0.002, 2.0]/'\n",
      "clang++ 0200_main.cpp -std=gnu++17 -O2 -DONLINE_JUDGE -I/ -o 0200_main.cpp.out\n"
     ]
    },
    {
     "name": "stderr",
     "output_type": "stream",
     "text": [
      "\u001b[32m[I 2021-11-13 05:21:51,927]\u001b[0m Trial 198 finished with value: 1012852.0 and parameters: {'MCMC_Q_L2_NORM_RANGE': 12.027953606018896, 'MCMC_Q_RANGE': 1.0977929178016625, 'EXPECTED_SKILL_EMA_ALPHA_COEF': 0.8047466372162907, 'MAX_N_NOT_OPEN_TASKS_IN_QUEUE': 98, 'PRIORITY_DAY_OFFSET': 733, 'PRIORITY_COEF': 0.27466812311100913}. Best is trial 47 with value: 1013922.0.\u001b[0m\n"
     ]
    },
    {
     "name": "stdout",
     "output_type": "stream",
     "text": [
      "callback ok\n",
      "index_parallel='0201'\n",
      "sed -i 0201_main.cpp -e 's/^constexpr auto MCMC_Q_L2_NORM_RANGE = .*;           \\/\\/ OPTIMIZE LOG \\[2\\.0, 20\\.0\\]$/constexpr auto MCMC_Q_L2_NORM_RANGE = 10.24225296228992;           \\/\\/ OPTIMIZE LOG [2.0, 20.0]/' -e 's/^constexpr auto MCMC_Q_RANGE = .*;                   \\/\\/ OPTIMIZE LOG \\[0\\.2, 10\\.0\\]$/constexpr auto MCMC_Q_RANGE = 1.543223256293991;                   \\/\\/ OPTIMIZE LOG [0.2, 10.0]/' -e 's/^constexpr auto EXPECTED_SKILL_EMA_ALPHA_COEF = .*; \\/\\/ OPTIMIZE LOG \\[0\\.02, 2\\.0\\]$/constexpr auto EXPECTED_SKILL_EMA_ALPHA_COEF = 0.04166362292386354; \\/\\/ OPTIMIZE LOG [0.02, 2.0]/' -e 's/^constexpr auto MAX_N_NOT_OPEN_TASKS_IN_QUEUE = .*; \\/\\/ OPTIMIZE \\[60, 100\\]$/constexpr auto MAX_N_NOT_OPEN_TASKS_IN_QUEUE = 96; \\/\\/ OPTIMIZE [60, 100]/' -e 's/^constexpr auto PRIORITY_DAY_OFFSET = .*;          \\/\\/ OPTIMIZE \\[400, 1200\\]$/constexpr auto PRIORITY_DAY_OFFSET = 716;          \\/\\/ OPTIMIZE [400, 1200]/' -e 's/^constexpr auto PRIORITY_COEF = .*; \\/\\/ OPTIMIZE LOG \\[0\\.002, 2\\.0\\]$/constexpr auto PRIORITY_COEF = 0.06043028887230946; \\/\\/ OPTIMIZE LOG [0.002, 2.0]/'\n",
      "clang++ 0201_main.cpp -std=gnu++17 -O2 -DONLINE_JUDGE -I/ -o 0201_main.cpp.out\n"
     ]
    },
    {
     "name": "stderr",
     "output_type": "stream",
     "text": [
      "\u001b[32m[I 2021-11-13 05:22:02,724]\u001b[0m Trial 199 finished with value: 1012074.0 and parameters: {'MCMC_Q_L2_NORM_RANGE': 12.023206606667271, 'MCMC_Q_RANGE': 1.5091155674104735, 'EXPECTED_SKILL_EMA_ALPHA_COEF': 0.8973076370719156, 'MAX_N_NOT_OPEN_TASKS_IN_QUEUE': 96, 'PRIORITY_DAY_OFFSET': 640, 'PRIORITY_COEF': 0.06922013354525124}. Best is trial 47 with value: 1013922.0.\u001b[0m\n"
     ]
    },
    {
     "name": "stdout",
     "output_type": "stream",
     "text": [
      "callback ok\n",
      "index_parallel='0202'\n",
      "sed -i 0202_main.cpp -e 's/^constexpr auto MCMC_Q_L2_NORM_RANGE = .*;           \\/\\/ OPTIMIZE LOG \\[2\\.0, 20\\.0\\]$/constexpr auto MCMC_Q_L2_NORM_RANGE = 10.540337436760383;           \\/\\/ OPTIMIZE LOG [2.0, 20.0]/' -e 's/^constexpr auto MCMC_Q_RANGE = .*;                   \\/\\/ OPTIMIZE LOG \\[0\\.2, 10\\.0\\]$/constexpr auto MCMC_Q_RANGE = 1.1936003738905647;                   \\/\\/ OPTIMIZE LOG [0.2, 10.0]/' -e 's/^constexpr auto EXPECTED_SKILL_EMA_ALPHA_COEF = .*; \\/\\/ OPTIMIZE LOG \\[0\\.02, 2\\.0\\]$/constexpr auto EXPECTED_SKILL_EMA_ALPHA_COEF = 0.7334661981068294; \\/\\/ OPTIMIZE LOG [0.02, 2.0]/' -e 's/^constexpr auto MAX_N_NOT_OPEN_TASKS_IN_QUEUE = .*; \\/\\/ OPTIMIZE \\[60, 100\\]$/constexpr auto MAX_N_NOT_OPEN_TASKS_IN_QUEUE = 97; \\/\\/ OPTIMIZE [60, 100]/' -e 's/^constexpr auto PRIORITY_DAY_OFFSET = .*;          \\/\\/ OPTIMIZE \\[400, 1200\\]$/constexpr auto PRIORITY_DAY_OFFSET = 715;          \\/\\/ OPTIMIZE [400, 1200]/' -e 's/^constexpr auto PRIORITY_COEF = .*; \\/\\/ OPTIMIZE LOG \\[0\\.002, 2\\.0\\]$/constexpr auto PRIORITY_COEF = 0.4887281011551068; \\/\\/ OPTIMIZE LOG [0.002, 2.0]/'\n",
      "clang++ 0202_main.cpp -std=gnu++17 -O2 -DONLINE_JUDGE -I/ -o 0202_main.cpp.out\n"
     ]
    },
    {
     "name": "stderr",
     "output_type": "stream",
     "text": [
      "\u001b[32m[I 2021-11-13 05:22:06,538]\u001b[0m Trial 200 finished with value: 1012176.0 and parameters: {'MCMC_Q_L2_NORM_RANGE': 10.20607312655396, 'MCMC_Q_RANGE': 1.5392543176836633, 'EXPECTED_SKILL_EMA_ALPHA_COEF': 0.8965386300943431, 'MAX_N_NOT_OPEN_TASKS_IN_QUEUE': 96, 'PRIORITY_DAY_OFFSET': 679, 'PRIORITY_COEF': 0.5036116270588117}. Best is trial 47 with value: 1013922.0.\u001b[0m\n"
     ]
    },
    {
     "name": "stdout",
     "output_type": "stream",
     "text": [
      "callback ok\n",
      "index_parallel='0203'\n",
      "sed -i 0203_main.cpp -e 's/^constexpr auto MCMC_Q_L2_NORM_RANGE = .*;           \\/\\/ OPTIMIZE LOG \\[2\\.0, 20\\.0\\]$/constexpr auto MCMC_Q_L2_NORM_RANGE = 8.676069947667528;           \\/\\/ OPTIMIZE LOG [2.0, 20.0]/' -e 's/^constexpr auto MCMC_Q_RANGE = .*;                   \\/\\/ OPTIMIZE LOG \\[0\\.2, 10\\.0\\]$/constexpr auto MCMC_Q_RANGE = 1.2004119852884292;                   \\/\\/ OPTIMIZE LOG [0.2, 10.0]/' -e 's/^constexpr auto EXPECTED_SKILL_EMA_ALPHA_COEF = .*; \\/\\/ OPTIMIZE LOG \\[0\\.02, 2\\.0\\]$/constexpr auto EXPECTED_SKILL_EMA_ALPHA_COEF = 0.7595625929070787; \\/\\/ OPTIMIZE LOG [0.02, 2.0]/' -e 's/^constexpr auto MAX_N_NOT_OPEN_TASKS_IN_QUEUE = .*; \\/\\/ OPTIMIZE \\[60, 100\\]$/constexpr auto MAX_N_NOT_OPEN_TASKS_IN_QUEUE = 97; \\/\\/ OPTIMIZE [60, 100]/' -e 's/^constexpr auto PRIORITY_DAY_OFFSET = .*;          \\/\\/ OPTIMIZE \\[400, 1200\\]$/constexpr auto PRIORITY_DAY_OFFSET = 714;          \\/\\/ OPTIMIZE [400, 1200]/' -e 's/^constexpr auto PRIORITY_COEF = .*; \\/\\/ OPTIMIZE LOG \\[0\\.002, 2\\.0\\]$/constexpr auto PRIORITY_COEF = 0.23194832059976847; \\/\\/ OPTIMIZE LOG [0.002, 2.0]/'\n",
      "clang++ 0203_main.cpp -std=gnu++17 -O2 -DONLINE_JUDGE -I/ -o 0203_main.cpp.out\n"
     ]
    },
    {
     "name": "stderr",
     "output_type": "stream",
     "text": [
      "\u001b[32m[I 2021-11-13 05:25:58,489]\u001b[0m Trial 201 finished with value: 991288.0 and parameters: {'MCMC_Q_L2_NORM_RANGE': 10.24225296228992, 'MCMC_Q_RANGE': 1.543223256293991, 'EXPECTED_SKILL_EMA_ALPHA_COEF': 0.04166362292386354, 'MAX_N_NOT_OPEN_TASKS_IN_QUEUE': 96, 'PRIORITY_DAY_OFFSET': 716, 'PRIORITY_COEF': 0.06043028887230946}. Best is trial 47 with value: 1013922.0.\u001b[0m\n"
     ]
    },
    {
     "name": "stdout",
     "output_type": "stream",
     "text": [
      "callback ok\n",
      "index_parallel='0204'\n",
      "sed -i 0204_main.cpp -e 's/^constexpr auto MCMC_Q_L2_NORM_RANGE = .*;           \\/\\/ OPTIMIZE LOG \\[2\\.0, 20\\.0\\]$/constexpr auto MCMC_Q_L2_NORM_RANGE = 13.662727000997748;           \\/\\/ OPTIMIZE LOG [2.0, 20.0]/' -e 's/^constexpr auto MCMC_Q_RANGE = .*;                   \\/\\/ OPTIMIZE LOG \\[0\\.2, 10\\.0\\]$/constexpr auto MCMC_Q_RANGE = 1.1580125288930103;                   \\/\\/ OPTIMIZE LOG [0.2, 10.0]/' -e 's/^constexpr auto EXPECTED_SKILL_EMA_ALPHA_COEF = .*; \\/\\/ OPTIMIZE LOG \\[0\\.02, 2\\.0\\]$/constexpr auto EXPECTED_SKILL_EMA_ALPHA_COEF = 0.7319040520476863; \\/\\/ OPTIMIZE LOG [0.02, 2.0]/' -e 's/^constexpr auto MAX_N_NOT_OPEN_TASKS_IN_QUEUE = .*; \\/\\/ OPTIMIZE \\[60, 100\\]$/constexpr auto MAX_N_NOT_OPEN_TASKS_IN_QUEUE = 95; \\/\\/ OPTIMIZE [60, 100]/' -e 's/^constexpr auto PRIORITY_DAY_OFFSET = .*;          \\/\\/ OPTIMIZE \\[400, 1200\\]$/constexpr auto PRIORITY_DAY_OFFSET = 1193;          \\/\\/ OPTIMIZE [400, 1200]/' -e 's/^constexpr auto PRIORITY_COEF = .*; \\/\\/ OPTIMIZE LOG \\[0\\.002, 2\\.0\\]$/constexpr auto PRIORITY_COEF = 0.21880061326090408; \\/\\/ OPTIMIZE LOG [0.002, 2.0]/'\n",
      "clang++ 0204_main.cpp -std=gnu++17 -O2 -DONLINE_JUDGE -I/ -o 0204_main.cpp.out\n"
     ]
    },
    {
     "name": "stderr",
     "output_type": "stream",
     "text": [
      "\u001b[32m[I 2021-11-13 05:26:17,584]\u001b[0m Trial 202 finished with value: 1012054.0 and parameters: {'MCMC_Q_L2_NORM_RANGE': 10.540337436760383, 'MCMC_Q_RANGE': 1.1936003738905647, 'EXPECTED_SKILL_EMA_ALPHA_COEF': 0.7334661981068294, 'MAX_N_NOT_OPEN_TASKS_IN_QUEUE': 97, 'PRIORITY_DAY_OFFSET': 715, 'PRIORITY_COEF': 0.4887281011551068}. Best is trial 47 with value: 1013922.0.\u001b[0m\n"
     ]
    },
    {
     "name": "stdout",
     "output_type": "stream",
     "text": [
      "callback ok\n",
      "index_parallel='0205'\n",
      "sed -i 0205_main.cpp -e 's/^constexpr auto MCMC_Q_L2_NORM_RANGE = .*;           \\/\\/ OPTIMIZE LOG \\[2\\.0, 20\\.0\\]$/constexpr auto MCMC_Q_L2_NORM_RANGE = 3.416615375974108;           \\/\\/ OPTIMIZE LOG [2.0, 20.0]/' -e 's/^constexpr auto MCMC_Q_RANGE = .*;                   \\/\\/ OPTIMIZE LOG \\[0\\.2, 10\\.0\\]$/constexpr auto MCMC_Q_RANGE = 1.095324621156875;                   \\/\\/ OPTIMIZE LOG [0.2, 10.0]/' -e 's/^constexpr auto EXPECTED_SKILL_EMA_ALPHA_COEF = .*; \\/\\/ OPTIMIZE LOG \\[0\\.02, 2\\.0\\]$/constexpr auto EXPECTED_SKILL_EMA_ALPHA_COEF = 0.4923979851173801; \\/\\/ OPTIMIZE LOG [0.02, 2.0]/' -e 's/^constexpr auto MAX_N_NOT_OPEN_TASKS_IN_QUEUE = .*; \\/\\/ OPTIMIZE \\[60, 100\\]$/constexpr auto MAX_N_NOT_OPEN_TASKS_IN_QUEUE = 95; \\/\\/ OPTIMIZE [60, 100]/' -e 's/^constexpr auto PRIORITY_DAY_OFFSET = .*;          \\/\\/ OPTIMIZE \\[400, 1200\\]$/constexpr auto PRIORITY_DAY_OFFSET = 745;          \\/\\/ OPTIMIZE [400, 1200]/' -e 's/^constexpr auto PRIORITY_COEF = .*; \\/\\/ OPTIMIZE LOG \\[0\\.002, 2\\.0\\]$/constexpr auto PRIORITY_COEF = 0.241945691704566; \\/\\/ OPTIMIZE LOG [0.002, 2.0]/'\n",
      "clang++ 0205_main.cpp -std=gnu++17 -O2 -DONLINE_JUDGE -I/ -o 0205_main.cpp.out\n"
     ]
    },
    {
     "name": "stderr",
     "output_type": "stream",
     "text": [
      "\u001b[32m[I 2021-11-13 05:26:22,782]\u001b[0m Trial 203 finished with value: 1011588.0 and parameters: {'MCMC_Q_L2_NORM_RANGE': 8.676069947667528, 'MCMC_Q_RANGE': 1.2004119852884292, 'EXPECTED_SKILL_EMA_ALPHA_COEF': 0.7595625929070787, 'MAX_N_NOT_OPEN_TASKS_IN_QUEUE': 97, 'PRIORITY_DAY_OFFSET': 714, 'PRIORITY_COEF': 0.23194832059976847}. Best is trial 47 with value: 1013922.0.\u001b[0m\n"
     ]
    },
    {
     "name": "stdout",
     "output_type": "stream",
     "text": [
      "callback ok\n",
      "index_parallel='0206'\n",
      "sed -i 0206_main.cpp -e 's/^constexpr auto MCMC_Q_L2_NORM_RANGE = .*;           \\/\\/ OPTIMIZE LOG \\[2\\.0, 20\\.0\\]$/constexpr auto MCMC_Q_L2_NORM_RANGE = 11.355238491371558;           \\/\\/ OPTIMIZE LOG [2.0, 20.0]/' -e 's/^constexpr auto MCMC_Q_RANGE = .*;                   \\/\\/ OPTIMIZE LOG \\[0\\.2, 10\\.0\\]$/constexpr auto MCMC_Q_RANGE = 0.9824480673255849;                   \\/\\/ OPTIMIZE LOG [0.2, 10.0]/' -e 's/^constexpr auto EXPECTED_SKILL_EMA_ALPHA_COEF = .*; \\/\\/ OPTIMIZE LOG \\[0\\.02, 2\\.0\\]$/constexpr auto EXPECTED_SKILL_EMA_ALPHA_COEF = 0.6257177544855349; \\/\\/ OPTIMIZE LOG [0.02, 2.0]/' -e 's/^constexpr auto MAX_N_NOT_OPEN_TASKS_IN_QUEUE = .*; \\/\\/ OPTIMIZE \\[60, 100\\]$/constexpr auto MAX_N_NOT_OPEN_TASKS_IN_QUEUE = 99; \\/\\/ OPTIMIZE [60, 100]/' -e 's/^constexpr auto PRIORITY_DAY_OFFSET = .*;          \\/\\/ OPTIMIZE \\[400, 1200\\]$/constexpr auto PRIORITY_DAY_OFFSET = 695;          \\/\\/ OPTIMIZE [400, 1200]/' -e 's/^constexpr auto PRIORITY_COEF = .*; \\/\\/ OPTIMIZE LOG \\[0\\.002, 2\\.0\\]$/constexpr auto PRIORITY_COEF = 0.2598461304673451; \\/\\/ OPTIMIZE LOG [0.002, 2.0]/'\n",
      "clang++ 0206_main.cpp -std=gnu++17 -O2 -DONLINE_JUDGE -I/ -o 0206_main.cpp.out\n"
     ]
    },
    {
     "name": "stderr",
     "output_type": "stream",
     "text": [
      "\u001b[32m[I 2021-11-13 05:30:13,428]\u001b[0m Trial 204 finished with value: 1010782.0 and parameters: {'MCMC_Q_L2_NORM_RANGE': 13.662727000997748, 'MCMC_Q_RANGE': 1.1580125288930103, 'EXPECTED_SKILL_EMA_ALPHA_COEF': 0.7319040520476863, 'MAX_N_NOT_OPEN_TASKS_IN_QUEUE': 95, 'PRIORITY_DAY_OFFSET': 1193, 'PRIORITY_COEF': 0.21880061326090408}. Best is trial 47 with value: 1013922.0.\u001b[0m\n"
     ]
    },
    {
     "name": "stdout",
     "output_type": "stream",
     "text": [
      "callback ok\n",
      "index_parallel='0207'\n",
      "sed -i 0207_main.cpp -e 's/^constexpr auto MCMC_Q_L2_NORM_RANGE = .*;           \\/\\/ OPTIMIZE LOG \\[2\\.0, 20\\.0\\]$/constexpr auto MCMC_Q_L2_NORM_RANGE = 11.136492738045956;           \\/\\/ OPTIMIZE LOG [2.0, 20.0]/' -e 's/^constexpr auto MCMC_Q_RANGE = .*;                   \\/\\/ OPTIMIZE LOG \\[0\\.2, 10\\.0\\]$/constexpr auto MCMC_Q_RANGE = 0.9965481486198594;                   \\/\\/ OPTIMIZE LOG [0.2, 10.0]/' -e 's/^constexpr auto EXPECTED_SKILL_EMA_ALPHA_COEF = .*; \\/\\/ OPTIMIZE LOG \\[0\\.02, 2\\.0\\]$/constexpr auto EXPECTED_SKILL_EMA_ALPHA_COEF = 0.6318502224199041; \\/\\/ OPTIMIZE LOG [0.02, 2.0]/' -e 's/^constexpr auto MAX_N_NOT_OPEN_TASKS_IN_QUEUE = .*; \\/\\/ OPTIMIZE \\[60, 100\\]$/constexpr auto MAX_N_NOT_OPEN_TASKS_IN_QUEUE = 99; \\/\\/ OPTIMIZE [60, 100]/' -e 's/^constexpr auto PRIORITY_DAY_OFFSET = .*;          \\/\\/ OPTIMIZE \\[400, 1200\\]$/constexpr auto PRIORITY_DAY_OFFSET = 696;          \\/\\/ OPTIMIZE [400, 1200]/' -e 's/^constexpr auto PRIORITY_COEF = .*; \\/\\/ OPTIMIZE LOG \\[0\\.002, 2\\.0\\]$/constexpr auto PRIORITY_COEF = 0.304484350502072; \\/\\/ OPTIMIZE LOG [0.002, 2.0]/'\n",
      "clang++ 0207_main.cpp -std=gnu++17 -O2 -DONLINE_JUDGE -I/ -o 0207_main.cpp.out\n"
     ]
    },
    {
     "name": "stderr",
     "output_type": "stream",
     "text": [
      "\u001b[32m[I 2021-11-13 05:30:33,799]\u001b[0m Trial 205 finished with value: 1010883.0 and parameters: {'MCMC_Q_L2_NORM_RANGE': 3.416615375974108, 'MCMC_Q_RANGE': 1.095324621156875, 'EXPECTED_SKILL_EMA_ALPHA_COEF': 0.4923979851173801, 'MAX_N_NOT_OPEN_TASKS_IN_QUEUE': 95, 'PRIORITY_DAY_OFFSET': 745, 'PRIORITY_COEF': 0.241945691704566}. Best is trial 47 with value: 1013922.0.\u001b[0m\n"
     ]
    },
    {
     "name": "stdout",
     "output_type": "stream",
     "text": [
      "callback ok\n",
      "index_parallel='0208'\n",
      "sed -i 0208_main.cpp -e 's/^constexpr auto MCMC_Q_L2_NORM_RANGE = .*;           \\/\\/ OPTIMIZE LOG \\[2\\.0, 20\\.0\\]$/constexpr auto MCMC_Q_L2_NORM_RANGE = 11.108149030121936;           \\/\\/ OPTIMIZE LOG [2.0, 20.0]/' -e 's/^constexpr auto MCMC_Q_RANGE = .*;                   \\/\\/ OPTIMIZE LOG \\[0\\.2, 10\\.0\\]$/constexpr auto MCMC_Q_RANGE = 0.9986431498568471;                   \\/\\/ OPTIMIZE LOG [0.2, 10.0]/' -e 's/^constexpr auto EXPECTED_SKILL_EMA_ALPHA_COEF = .*; \\/\\/ OPTIMIZE LOG \\[0\\.02, 2\\.0\\]$/constexpr auto EXPECTED_SKILL_EMA_ALPHA_COEF = 0.5648494981218437; \\/\\/ OPTIMIZE LOG [0.02, 2.0]/' -e 's/^constexpr auto MAX_N_NOT_OPEN_TASKS_IN_QUEUE = .*; \\/\\/ OPTIMIZE \\[60, 100\\]$/constexpr auto MAX_N_NOT_OPEN_TASKS_IN_QUEUE = 99; \\/\\/ OPTIMIZE [60, 100]/' -e 's/^constexpr auto PRIORITY_DAY_OFFSET = .*;          \\/\\/ OPTIMIZE \\[400, 1200\\]$/constexpr auto PRIORITY_DAY_OFFSET = 694;          \\/\\/ OPTIMIZE [400, 1200]/' -e 's/^constexpr auto PRIORITY_COEF = .*; \\/\\/ OPTIMIZE LOG \\[0\\.002, 2\\.0\\]$/constexpr auto PRIORITY_COEF = 0.34068765585755717; \\/\\/ OPTIMIZE LOG [0.002, 2.0]/'\n",
      "clang++ 0208_main.cpp -std=gnu++17 -O2 -DONLINE_JUDGE -I/ -o 0208_main.cpp.out\n"
     ]
    },
    {
     "name": "stderr",
     "output_type": "stream",
     "text": [
      "\u001b[32m[I 2021-11-13 05:30:38,644]\u001b[0m Trial 206 finished with value: 1011949.0 and parameters: {'MCMC_Q_L2_NORM_RANGE': 11.355238491371558, 'MCMC_Q_RANGE': 0.9824480673255849, 'EXPECTED_SKILL_EMA_ALPHA_COEF': 0.6257177544855349, 'MAX_N_NOT_OPEN_TASKS_IN_QUEUE': 99, 'PRIORITY_DAY_OFFSET': 695, 'PRIORITY_COEF': 0.2598461304673451}. Best is trial 47 with value: 1013922.0.\u001b[0m\n"
     ]
    },
    {
     "name": "stdout",
     "output_type": "stream",
     "text": [
      "callback ok\n",
      "index_parallel='0209'\n",
      "sed -i 0209_main.cpp -e 's/^constexpr auto MCMC_Q_L2_NORM_RANGE = .*;           \\/\\/ OPTIMIZE LOG \\[2\\.0, 20\\.0\\]$/constexpr auto MCMC_Q_L2_NORM_RANGE = 12.720516009956603;           \\/\\/ OPTIMIZE LOG [2.0, 20.0]/' -e 's/^constexpr auto MCMC_Q_RANGE = .*;                   \\/\\/ OPTIMIZE LOG \\[0\\.2, 10\\.0\\]$/constexpr auto MCMC_Q_RANGE = 1.0029579135012527;                   \\/\\/ OPTIMIZE LOG [0.2, 10.0]/' -e 's/^constexpr auto EXPECTED_SKILL_EMA_ALPHA_COEF = .*; \\/\\/ OPTIMIZE LOG \\[0\\.02, 2\\.0\\]$/constexpr auto EXPECTED_SKILL_EMA_ALPHA_COEF = 0.8235413983978627; \\/\\/ OPTIMIZE LOG [0.02, 2.0]/' -e 's/^constexpr auto MAX_N_NOT_OPEN_TASKS_IN_QUEUE = .*; \\/\\/ OPTIMIZE \\[60, 100\\]$/constexpr auto MAX_N_NOT_OPEN_TASKS_IN_QUEUE = 99; \\/\\/ OPTIMIZE [60, 100]/' -e 's/^constexpr auto PRIORITY_DAY_OFFSET = .*;          \\/\\/ OPTIMIZE \\[400, 1200\\]$/constexpr auto PRIORITY_DAY_OFFSET = 590;          \\/\\/ OPTIMIZE [400, 1200]/' -e 's/^constexpr auto PRIORITY_COEF = .*; \\/\\/ OPTIMIZE LOG \\[0\\.002, 2\\.0\\]$/constexpr auto PRIORITY_COEF = 0.3120904689489373; \\/\\/ OPTIMIZE LOG [0.002, 2.0]/'\n",
      "clang++ 0209_main.cpp -std=gnu++17 -O2 -DONLINE_JUDGE -I/ -o 0209_main.cpp.out\n"
     ]
    },
    {
     "name": "stderr",
     "output_type": "stream",
     "text": [
      "\u001b[32m[I 2021-11-13 05:34:29,476]\u001b[0m Trial 207 finished with value: 1012684.0 and parameters: {'MCMC_Q_L2_NORM_RANGE': 11.136492738045956, 'MCMC_Q_RANGE': 0.9965481486198594, 'EXPECTED_SKILL_EMA_ALPHA_COEF': 0.6318502224199041, 'MAX_N_NOT_OPEN_TASKS_IN_QUEUE': 99, 'PRIORITY_DAY_OFFSET': 696, 'PRIORITY_COEF': 0.304484350502072}. Best is trial 47 with value: 1013922.0.\u001b[0m\n"
     ]
    },
    {
     "name": "stdout",
     "output_type": "stream",
     "text": [
      "callback ok\n",
      "index_parallel='0210'\n",
      "sed -i 0210_main.cpp -e 's/^constexpr auto MCMC_Q_L2_NORM_RANGE = .*;           \\/\\/ OPTIMIZE LOG \\[2\\.0, 20\\.0\\]$/constexpr auto MCMC_Q_L2_NORM_RANGE = 11.156727496563958;           \\/\\/ OPTIMIZE LOG [2.0, 20.0]/' -e 's/^constexpr auto MCMC_Q_RANGE = .*;                   \\/\\/ OPTIMIZE LOG \\[0\\.2, 10\\.0\\]$/constexpr auto MCMC_Q_RANGE = 1.0243867238723734;                   \\/\\/ OPTIMIZE LOG [0.2, 10.0]/' -e 's/^constexpr auto EXPECTED_SKILL_EMA_ALPHA_COEF = .*; \\/\\/ OPTIMIZE LOG \\[0\\.02, 2\\.0\\]$/constexpr auto EXPECTED_SKILL_EMA_ALPHA_COEF = 0.5619058395055104; \\/\\/ OPTIMIZE LOG [0.02, 2.0]/' -e 's/^constexpr auto MAX_N_NOT_OPEN_TASKS_IN_QUEUE = .*; \\/\\/ OPTIMIZE \\[60, 100\\]$/constexpr auto MAX_N_NOT_OPEN_TASKS_IN_QUEUE = 100; \\/\\/ OPTIMIZE [60, 100]/' -e 's/^constexpr auto PRIORITY_DAY_OFFSET = .*;          \\/\\/ OPTIMIZE \\[400, 1200\\]$/constexpr auto PRIORITY_DAY_OFFSET = 670;          \\/\\/ OPTIMIZE [400, 1200]/' -e 's/^constexpr auto PRIORITY_COEF = .*; \\/\\/ OPTIMIZE LOG \\[0\\.002, 2\\.0\\]$/constexpr auto PRIORITY_COEF = 0.312411274808735; \\/\\/ OPTIMIZE LOG [0.002, 2.0]/'\n",
      "clang++ 0210_main.cpp -std=gnu++17 -O2 -DONLINE_JUDGE -I/ -o 0210_main.cpp.out\n"
     ]
    },
    {
     "name": "stderr",
     "output_type": "stream",
     "text": [
      "\u001b[32m[I 2021-11-13 05:34:49,915]\u001b[0m Trial 208 finished with value: 1011705.0 and parameters: {'MCMC_Q_L2_NORM_RANGE': 11.108149030121936, 'MCMC_Q_RANGE': 0.9986431498568471, 'EXPECTED_SKILL_EMA_ALPHA_COEF': 0.5648494981218437, 'MAX_N_NOT_OPEN_TASKS_IN_QUEUE': 99, 'PRIORITY_DAY_OFFSET': 694, 'PRIORITY_COEF': 0.34068765585755717}. Best is trial 47 with value: 1013922.0.\u001b[0m\n"
     ]
    },
    {
     "name": "stdout",
     "output_type": "stream",
     "text": [
      "callback ok\n",
      "index_parallel='0211'\n",
      "sed -i 0211_main.cpp -e 's/^constexpr auto MCMC_Q_L2_NORM_RANGE = .*;           \\/\\/ OPTIMIZE LOG \\[2\\.0, 20\\.0\\]$/constexpr auto MCMC_Q_L2_NORM_RANGE = 9.686199129646766;           \\/\\/ OPTIMIZE LOG [2.0, 20.0]/' -e 's/^constexpr auto MCMC_Q_RANGE = .*;                   \\/\\/ OPTIMIZE LOG \\[0\\.2, 10\\.0\\]$/constexpr auto MCMC_Q_RANGE = 1.3012758432212854;                   \\/\\/ OPTIMIZE LOG [0.2, 10.0]/' -e 's/^constexpr auto EXPECTED_SKILL_EMA_ALPHA_COEF = .*; \\/\\/ OPTIMIZE LOG \\[0\\.02, 2\\.0\\]$/constexpr auto EXPECTED_SKILL_EMA_ALPHA_COEF = 0.6653124080847296; \\/\\/ OPTIMIZE LOG [0.02, 2.0]/' -e 's/^constexpr auto MAX_N_NOT_OPEN_TASKS_IN_QUEUE = .*; \\/\\/ OPTIMIZE \\[60, 100\\]$/constexpr auto MAX_N_NOT_OPEN_TASKS_IN_QUEUE = 100; \\/\\/ OPTIMIZE [60, 100]/' -e 's/^constexpr auto PRIORITY_DAY_OFFSET = .*;          \\/\\/ OPTIMIZE \\[400, 1200\\]$/constexpr auto PRIORITY_DAY_OFFSET = 668;          \\/\\/ OPTIMIZE [400, 1200]/' -e 's/^constexpr auto PRIORITY_COEF = .*; \\/\\/ OPTIMIZE LOG \\[0\\.002, 2\\.0\\]$/constexpr auto PRIORITY_COEF = 0.2996030393015599; \\/\\/ OPTIMIZE LOG [0.002, 2.0]/'\n",
      "clang++ 0211_main.cpp -std=gnu++17 -O2 -DONLINE_JUDGE -I/ -o 0211_main.cpp.out\n"
     ]
    },
    {
     "name": "stderr",
     "output_type": "stream",
     "text": [
      "\u001b[32m[I 2021-11-13 05:34:54,547]\u001b[0m Trial 209 finished with value: 1011127.0 and parameters: {'MCMC_Q_L2_NORM_RANGE': 12.720516009956603, 'MCMC_Q_RANGE': 1.0029579135012527, 'EXPECTED_SKILL_EMA_ALPHA_COEF': 0.8235413983978627, 'MAX_N_NOT_OPEN_TASKS_IN_QUEUE': 99, 'PRIORITY_DAY_OFFSET': 590, 'PRIORITY_COEF': 0.3120904689489373}. Best is trial 47 with value: 1013922.0.\u001b[0m\n"
     ]
    },
    {
     "name": "stdout",
     "output_type": "stream",
     "text": [
      "callback ok\n",
      "index_parallel='0212'\n",
      "sed -i 0212_main.cpp -e 's/^constexpr auto MCMC_Q_L2_NORM_RANGE = .*;           \\/\\/ OPTIMIZE LOG \\[2\\.0, 20\\.0\\]$/constexpr auto MCMC_Q_L2_NORM_RANGE = 9.015039490583147;           \\/\\/ OPTIMIZE LOG [2.0, 20.0]/' -e 's/^constexpr auto MCMC_Q_RANGE = .*;                   \\/\\/ OPTIMIZE LOG \\[0\\.2, 10\\.0\\]$/constexpr auto MCMC_Q_RANGE = 1.4257383494638787;                   \\/\\/ OPTIMIZE LOG [0.2, 10.0]/' -e 's/^constexpr auto EXPECTED_SKILL_EMA_ALPHA_COEF = .*; \\/\\/ OPTIMIZE LOG \\[0\\.02, 2\\.0\\]$/constexpr auto EXPECTED_SKILL_EMA_ALPHA_COEF = 0.6490417044035391; \\/\\/ OPTIMIZE LOG [0.02, 2.0]/' -e 's/^constexpr auto MAX_N_NOT_OPEN_TASKS_IN_QUEUE = .*; \\/\\/ OPTIMIZE \\[60, 100\\]$/constexpr auto MAX_N_NOT_OPEN_TASKS_IN_QUEUE = 100; \\/\\/ OPTIMIZE [60, 100]/' -e 's/^constexpr auto PRIORITY_DAY_OFFSET = .*;          \\/\\/ OPTIMIZE \\[400, 1200\\]$/constexpr auto PRIORITY_DAY_OFFSET = 735;          \\/\\/ OPTIMIZE [400, 1200]/' -e 's/^constexpr auto PRIORITY_COEF = .*; \\/\\/ OPTIMIZE LOG \\[0\\.002, 2\\.0\\]$/constexpr auto PRIORITY_COEF = 0.4554123297504873; \\/\\/ OPTIMIZE LOG [0.002, 2.0]/'\n",
      "clang++ 0212_main.cpp -std=gnu++17 -O2 -DONLINE_JUDGE -I/ -o 0212_main.cpp.out\n"
     ]
    },
    {
     "name": "stderr",
     "output_type": "stream",
     "text": [
      "\u001b[32m[I 2021-11-13 05:38:45,545]\u001b[0m Trial 210 finished with value: 1013517.0 and parameters: {'MCMC_Q_L2_NORM_RANGE': 11.156727496563958, 'MCMC_Q_RANGE': 1.0243867238723734, 'EXPECTED_SKILL_EMA_ALPHA_COEF': 0.5619058395055104, 'MAX_N_NOT_OPEN_TASKS_IN_QUEUE': 100, 'PRIORITY_DAY_OFFSET': 670, 'PRIORITY_COEF': 0.312411274808735}. Best is trial 47 with value: 1013922.0.\u001b[0m\n"
     ]
    },
    {
     "name": "stdout",
     "output_type": "stream",
     "text": [
      "callback ok\n",
      "index_parallel='0213'\n",
      "sed -i 0213_main.cpp -e 's/^constexpr auto MCMC_Q_L2_NORM_RANGE = .*;           \\/\\/ OPTIMIZE LOG \\[2\\.0, 20\\.0\\]$/constexpr auto MCMC_Q_L2_NORM_RANGE = 9.774578931965218;           \\/\\/ OPTIMIZE LOG [2.0, 20.0]/' -e 's/^constexpr auto MCMC_Q_RANGE = .*;                   \\/\\/ OPTIMIZE LOG \\[0\\.2, 10\\.0\\]$/constexpr auto MCMC_Q_RANGE = 0.8617068531006074;                   \\/\\/ OPTIMIZE LOG [0.2, 10.0]/' -e 's/^constexpr auto EXPECTED_SKILL_EMA_ALPHA_COEF = .*; \\/\\/ OPTIMIZE LOG \\[0\\.02, 2\\.0\\]$/constexpr auto EXPECTED_SKILL_EMA_ALPHA_COEF = 0.690936546040008; \\/\\/ OPTIMIZE LOG [0.02, 2.0]/' -e 's/^constexpr auto MAX_N_NOT_OPEN_TASKS_IN_QUEUE = .*; \\/\\/ OPTIMIZE \\[60, 100\\]$/constexpr auto MAX_N_NOT_OPEN_TASKS_IN_QUEUE = 100; \\/\\/ OPTIMIZE [60, 100]/' -e 's/^constexpr auto PRIORITY_DAY_OFFSET = .*;          \\/\\/ OPTIMIZE \\[400, 1200\\]$/constexpr auto PRIORITY_DAY_OFFSET = 667;          \\/\\/ OPTIMIZE [400, 1200]/' -e 's/^constexpr auto PRIORITY_COEF = .*; \\/\\/ OPTIMIZE LOG \\[0\\.002, 2\\.0\\]$/constexpr auto PRIORITY_COEF = 0.44517724703234474; \\/\\/ OPTIMIZE LOG [0.002, 2.0]/'\n",
      "clang++ 0213_main.cpp -std=gnu++17 -O2 -DONLINE_JUDGE -I/ -o 0213_main.cpp.out\n"
     ]
    },
    {
     "name": "stderr",
     "output_type": "stream",
     "text": [
      "\u001b[32m[I 2021-11-13 05:39:05,073]\u001b[0m Trial 211 finished with value: 1013959.0 and parameters: {'MCMC_Q_L2_NORM_RANGE': 9.686199129646766, 'MCMC_Q_RANGE': 1.3012758432212854, 'EXPECTED_SKILL_EMA_ALPHA_COEF': 0.6653124080847296, 'MAX_N_NOT_OPEN_TASKS_IN_QUEUE': 100, 'PRIORITY_DAY_OFFSET': 668, 'PRIORITY_COEF': 0.2996030393015599}. Best is trial 211 with value: 1013959.0.\u001b[0m\n"
     ]
    },
    {
     "name": "stdout",
     "output_type": "stream",
     "text": [
      "Updated! 1013959.0\n",
      "callback ok\n",
      "index_parallel='0214'\n",
      "sed -i 0214_main.cpp -e 's/^constexpr auto MCMC_Q_L2_NORM_RANGE = .*;           \\/\\/ OPTIMIZE LOG \\[2\\.0, 20\\.0\\]$/constexpr auto MCMC_Q_L2_NORM_RANGE = 9.081157370947299;           \\/\\/ OPTIMIZE LOG [2.0, 20.0]/' -e 's/^constexpr auto MCMC_Q_RANGE = .*;                   \\/\\/ OPTIMIZE LOG \\[0\\.2, 10\\.0\\]$/constexpr auto MCMC_Q_RANGE = 1.3994173476823923;                   \\/\\/ OPTIMIZE LOG [0.2, 10.0]/' -e 's/^constexpr auto EXPECTED_SKILL_EMA_ALPHA_COEF = .*; \\/\\/ OPTIMIZE LOG \\[0\\.02, 2\\.0\\]$/constexpr auto EXPECTED_SKILL_EMA_ALPHA_COEF = 0.674454741284207; \\/\\/ OPTIMIZE LOG [0.02, 2.0]/' -e 's/^constexpr auto MAX_N_NOT_OPEN_TASKS_IN_QUEUE = .*; \\/\\/ OPTIMIZE \\[60, 100\\]$/constexpr auto MAX_N_NOT_OPEN_TASKS_IN_QUEUE = 100; \\/\\/ OPTIMIZE [60, 100]/' -e 's/^constexpr auto PRIORITY_DAY_OFFSET = .*;          \\/\\/ OPTIMIZE \\[400, 1200\\]$/constexpr auto PRIORITY_DAY_OFFSET = 670;          \\/\\/ OPTIMIZE [400, 1200]/' -e 's/^constexpr auto PRIORITY_COEF = .*; \\/\\/ OPTIMIZE LOG \\[0\\.002, 2\\.0\\]$/constexpr auto PRIORITY_COEF = 0.37169493013667354; \\/\\/ OPTIMIZE LOG [0.002, 2.0]/'\n",
      "clang++ 0214_main.cpp -std=gnu++17 -O2 -DONLINE_JUDGE -I/ -o 0214_main.cpp.out\n"
     ]
    },
    {
     "name": "stderr",
     "output_type": "stream",
     "text": [
      "\u001b[32m[I 2021-11-13 05:39:11,222]\u001b[0m Trial 212 finished with value: 1011742.0 and parameters: {'MCMC_Q_L2_NORM_RANGE': 9.015039490583147, 'MCMC_Q_RANGE': 1.4257383494638787, 'EXPECTED_SKILL_EMA_ALPHA_COEF': 0.6490417044035391, 'MAX_N_NOT_OPEN_TASKS_IN_QUEUE': 100, 'PRIORITY_DAY_OFFSET': 735, 'PRIORITY_COEF': 0.4554123297504873}. Best is trial 211 with value: 1013959.0.\u001b[0m\n"
     ]
    },
    {
     "name": "stdout",
     "output_type": "stream",
     "text": [
      "callback ok\n",
      "index_parallel='0215'\n",
      "sed -i 0215_main.cpp -e 's/^constexpr auto MCMC_Q_L2_NORM_RANGE = .*;           \\/\\/ OPTIMIZE LOG \\[2\\.0, 20\\.0\\]$/constexpr auto MCMC_Q_L2_NORM_RANGE = 9.69494977610306;           \\/\\/ OPTIMIZE LOG [2.0, 20.0]/' -e 's/^constexpr auto MCMC_Q_RANGE = .*;                   \\/\\/ OPTIMIZE LOG \\[0\\.2, 10\\.0\\]$/constexpr auto MCMC_Q_RANGE = 1.2963090340054593;                   \\/\\/ OPTIMIZE LOG [0.2, 10.0]/' -e 's/^constexpr auto EXPECTED_SKILL_EMA_ALPHA_COEF = .*; \\/\\/ OPTIMIZE LOG \\[0\\.02, 2\\.0\\]$/constexpr auto EXPECTED_SKILL_EMA_ALPHA_COEF = 0.7000305438017836; \\/\\/ OPTIMIZE LOG [0.02, 2.0]/' -e 's/^constexpr auto MAX_N_NOT_OPEN_TASKS_IN_QUEUE = .*; \\/\\/ OPTIMIZE \\[60, 100\\]$/constexpr auto MAX_N_NOT_OPEN_TASKS_IN_QUEUE = 100; \\/\\/ OPTIMIZE [60, 100]/' -e 's/^constexpr auto PRIORITY_DAY_OFFSET = .*;          \\/\\/ OPTIMIZE \\[400, 1200\\]$/constexpr auto PRIORITY_DAY_OFFSET = 666;          \\/\\/ OPTIMIZE [400, 1200]/' -e 's/^constexpr auto PRIORITY_COEF = .*; \\/\\/ OPTIMIZE LOG \\[0\\.002, 2\\.0\\]$/constexpr auto PRIORITY_COEF = 0.30300766607362856; \\/\\/ OPTIMIZE LOG [0.002, 2.0]/'\n",
      "clang++ 0215_main.cpp -std=gnu++17 -O2 -DONLINE_JUDGE -I/ -o 0215_main.cpp.out\n"
     ]
    },
    {
     "name": "stderr",
     "output_type": "stream",
     "text": [
      "\u001b[32m[I 2021-11-13 05:43:02,781]\u001b[0m Trial 213 finished with value: 1012997.0 and parameters: {'MCMC_Q_L2_NORM_RANGE': 9.774578931965218, 'MCMC_Q_RANGE': 0.8617068531006074, 'EXPECTED_SKILL_EMA_ALPHA_COEF': 0.690936546040008, 'MAX_N_NOT_OPEN_TASKS_IN_QUEUE': 100, 'PRIORITY_DAY_OFFSET': 667, 'PRIORITY_COEF': 0.44517724703234474}. Best is trial 211 with value: 1013959.0.\u001b[0m\n"
     ]
    },
    {
     "name": "stdout",
     "output_type": "stream",
     "text": [
      "callback ok\n",
      "index_parallel='0216'\n",
      "sed -i 0216_main.cpp -e 's/^constexpr auto MCMC_Q_L2_NORM_RANGE = .*;           \\/\\/ OPTIMIZE LOG \\[2\\.0, 20\\.0\\]$/constexpr auto MCMC_Q_L2_NORM_RANGE = 9.812782427262412;           \\/\\/ OPTIMIZE LOG [2.0, 20.0]/' -e 's/^constexpr auto MCMC_Q_RANGE = .*;                   \\/\\/ OPTIMIZE LOG \\[0\\.2, 10\\.0\\]$/constexpr auto MCMC_Q_RANGE = 1.2820227169652427;                   \\/\\/ OPTIMIZE LOG [0.2, 10.0]/' -e 's/^constexpr auto EXPECTED_SKILL_EMA_ALPHA_COEF = .*; \\/\\/ OPTIMIZE LOG \\[0\\.02, 2\\.0\\]$/constexpr auto EXPECTED_SKILL_EMA_ALPHA_COEF = 0.6844481005597425; \\/\\/ OPTIMIZE LOG [0.02, 2.0]/' -e 's/^constexpr auto MAX_N_NOT_OPEN_TASKS_IN_QUEUE = .*; \\/\\/ OPTIMIZE \\[60, 100\\]$/constexpr auto MAX_N_NOT_OPEN_TASKS_IN_QUEUE = 100; \\/\\/ OPTIMIZE [60, 100]/' -e 's/^constexpr auto PRIORITY_DAY_OFFSET = .*;          \\/\\/ OPTIMIZE \\[400, 1200\\]$/constexpr auto PRIORITY_DAY_OFFSET = 664;          \\/\\/ OPTIMIZE [400, 1200]/' -e 's/^constexpr auto PRIORITY_COEF = .*; \\/\\/ OPTIMIZE LOG \\[0\\.002, 2\\.0\\]$/constexpr auto PRIORITY_COEF = 0.30596234834695846; \\/\\/ OPTIMIZE LOG [0.002, 2.0]/'\n",
      "clang++ 0216_main.cpp -std=gnu++17 -O2 -DONLINE_JUDGE -I/ -o 0216_main.cpp.out\n"
     ]
    },
    {
     "name": "stderr",
     "output_type": "stream",
     "text": [
      "\u001b[32m[I 2021-11-13 05:43:21,276]\u001b[0m Trial 214 finished with value: 1011537.0 and parameters: {'MCMC_Q_L2_NORM_RANGE': 9.081157370947299, 'MCMC_Q_RANGE': 1.3994173476823923, 'EXPECTED_SKILL_EMA_ALPHA_COEF': 0.674454741284207, 'MAX_N_NOT_OPEN_TASKS_IN_QUEUE': 100, 'PRIORITY_DAY_OFFSET': 670, 'PRIORITY_COEF': 0.37169493013667354}. Best is trial 211 with value: 1013959.0.\u001b[0m\n"
     ]
    },
    {
     "name": "stdout",
     "output_type": "stream",
     "text": [
      "callback ok\n",
      "index_parallel='0217'\n",
      "sed -i 0217_main.cpp -e 's/^constexpr auto MCMC_Q_L2_NORM_RANGE = .*;           \\/\\/ OPTIMIZE LOG \\[2\\.0, 20\\.0\\]$/constexpr auto MCMC_Q_L2_NORM_RANGE = 9.729771765035878;           \\/\\/ OPTIMIZE LOG [2.0, 20.0]/' -e 's/^constexpr auto MCMC_Q_RANGE = .*;                   \\/\\/ OPTIMIZE LOG \\[0\\.2, 10\\.0\\]$/constexpr auto MCMC_Q_RANGE = 0.8998715297356017;                   \\/\\/ OPTIMIZE LOG [0.2, 10.0]/' -e 's/^constexpr auto EXPECTED_SKILL_EMA_ALPHA_COEF = .*; \\/\\/ OPTIMIZE LOG \\[0\\.02, 2\\.0\\]$/constexpr auto EXPECTED_SKILL_EMA_ALPHA_COEF = 0.09297912868398302; \\/\\/ OPTIMIZE LOG [0.02, 2.0]/' -e 's/^constexpr auto MAX_N_NOT_OPEN_TASKS_IN_QUEUE = .*; \\/\\/ OPTIMIZE \\[60, 100\\]$/constexpr auto MAX_N_NOT_OPEN_TASKS_IN_QUEUE = 100; \\/\\/ OPTIMIZE [60, 100]/' -e 's/^constexpr auto PRIORITY_DAY_OFFSET = .*;          \\/\\/ OPTIMIZE \\[400, 1200\\]$/constexpr auto PRIORITY_DAY_OFFSET = 656;          \\/\\/ OPTIMIZE [400, 1200]/' -e 's/^constexpr auto PRIORITY_COEF = .*; \\/\\/ OPTIMIZE LOG \\[0\\.002, 2\\.0\\]$/constexpr auto PRIORITY_COEF = 0.29498901386246257; \\/\\/ OPTIMIZE LOG [0.002, 2.0]/'\n",
      "clang++ 0217_main.cpp -std=gnu++17 -O2 -DONLINE_JUDGE -I/ -o 0217_main.cpp.out\n"
     ]
    },
    {
     "name": "stderr",
     "output_type": "stream",
     "text": [
      "\u001b[32m[I 2021-11-13 05:43:26,726]\u001b[0m Trial 215 finished with value: 1012516.0 and parameters: {'MCMC_Q_L2_NORM_RANGE': 9.69494977610306, 'MCMC_Q_RANGE': 1.2963090340054593, 'EXPECTED_SKILL_EMA_ALPHA_COEF': 0.7000305438017836, 'MAX_N_NOT_OPEN_TASKS_IN_QUEUE': 100, 'PRIORITY_DAY_OFFSET': 666, 'PRIORITY_COEF': 0.30300766607362856}. Best is trial 211 with value: 1013959.0.\u001b[0m\n"
     ]
    },
    {
     "name": "stdout",
     "output_type": "stream",
     "text": [
      "callback ok\n",
      "index_parallel='0218'\n",
      "sed -i 0218_main.cpp -e 's/^constexpr auto MCMC_Q_L2_NORM_RANGE = .*;           \\/\\/ OPTIMIZE LOG \\[2\\.0, 20\\.0\\]$/constexpr auto MCMC_Q_L2_NORM_RANGE = 9.361883988437341;           \\/\\/ OPTIMIZE LOG [2.0, 20.0]/' -e 's/^constexpr auto MCMC_Q_RANGE = .*;                   \\/\\/ OPTIMIZE LOG \\[0\\.2, 10\\.0\\]$/constexpr auto MCMC_Q_RANGE = 0.8364163149522356;                   \\/\\/ OPTIMIZE LOG [0.2, 10.0]/' -e 's/^constexpr auto EXPECTED_SKILL_EMA_ALPHA_COEF = .*; \\/\\/ OPTIMIZE LOG \\[0\\.02, 2\\.0\\]$/constexpr auto EXPECTED_SKILL_EMA_ALPHA_COEF = 0.575069224890732; \\/\\/ OPTIMIZE LOG [0.02, 2.0]/' -e 's/^constexpr auto MAX_N_NOT_OPEN_TASKS_IN_QUEUE = .*; \\/\\/ OPTIMIZE \\[60, 100\\]$/constexpr auto MAX_N_NOT_OPEN_TASKS_IN_QUEUE = 100; \\/\\/ OPTIMIZE [60, 100]/' -e 's/^constexpr auto PRIORITY_DAY_OFFSET = .*;          \\/\\/ OPTIMIZE \\[400, 1200\\]$/constexpr auto PRIORITY_DAY_OFFSET = 653;          \\/\\/ OPTIMIZE [400, 1200]/' -e 's/^constexpr auto PRIORITY_COEF = .*; \\/\\/ OPTIMIZE LOG \\[0\\.002, 2\\.0\\]$/constexpr auto PRIORITY_COEF = 0.5835412352564157; \\/\\/ OPTIMIZE LOG [0.002, 2.0]/'\n",
      "clang++ 0218_main.cpp -std=gnu++17 -O2 -DONLINE_JUDGE -I/ -o 0218_main.cpp.out\n"
     ]
    },
    {
     "name": "stderr",
     "output_type": "stream",
     "text": [
      "\u001b[32m[I 2021-11-13 05:47:18,316]\u001b[0m Trial 216 finished with value: 1012883.0 and parameters: {'MCMC_Q_L2_NORM_RANGE': 9.812782427262412, 'MCMC_Q_RANGE': 1.2820227169652427, 'EXPECTED_SKILL_EMA_ALPHA_COEF': 0.6844481005597425, 'MAX_N_NOT_OPEN_TASKS_IN_QUEUE': 100, 'PRIORITY_DAY_OFFSET': 664, 'PRIORITY_COEF': 0.30596234834695846}. Best is trial 211 with value: 1013959.0.\u001b[0m\n"
     ]
    },
    {
     "name": "stdout",
     "output_type": "stream",
     "text": [
      "callback ok\n",
      "index_parallel='0219'\n",
      "sed -i 0219_main.cpp -e 's/^constexpr auto MCMC_Q_L2_NORM_RANGE = .*;           \\/\\/ OPTIMIZE LOG \\[2\\.0, 20\\.0\\]$/constexpr auto MCMC_Q_L2_NORM_RANGE = 9.976401269351562;           \\/\\/ OPTIMIZE LOG [2.0, 20.0]/' -e 's/^constexpr auto MCMC_Q_RANGE = .*;                   \\/\\/ OPTIMIZE LOG \\[0\\.2, 10\\.0\\]$/constexpr auto MCMC_Q_RANGE = 0.8630121769656213;                   \\/\\/ OPTIMIZE LOG [0.2, 10.0]/' -e 's/^constexpr auto EXPECTED_SKILL_EMA_ALPHA_COEF = .*; \\/\\/ OPTIMIZE LOG \\[0\\.02, 2\\.0\\]$/constexpr auto EXPECTED_SKILL_EMA_ALPHA_COEF = 0.5872418084723094; \\/\\/ OPTIMIZE LOG [0.02, 2.0]/' -e 's/^constexpr auto MAX_N_NOT_OPEN_TASKS_IN_QUEUE = .*; \\/\\/ OPTIMIZE \\[60, 100\\]$/constexpr auto MAX_N_NOT_OPEN_TASKS_IN_QUEUE = 100; \\/\\/ OPTIMIZE [60, 100]/' -e 's/^constexpr auto PRIORITY_DAY_OFFSET = .*;          \\/\\/ OPTIMIZE \\[400, 1200\\]$/constexpr auto PRIORITY_DAY_OFFSET = 660;          \\/\\/ OPTIMIZE [400, 1200]/' -e 's/^constexpr auto PRIORITY_COEF = .*; \\/\\/ OPTIMIZE LOG \\[0\\.002, 2\\.0\\]$/constexpr auto PRIORITY_COEF = 0.622761811239855; \\/\\/ OPTIMIZE LOG [0.002, 2.0]/'\n",
      "clang++ 0219_main.cpp -std=gnu++17 -O2 -DONLINE_JUDGE -I/ -o 0219_main.cpp.out\n"
     ]
    },
    {
     "name": "stderr",
     "output_type": "stream",
     "text": [
      "\u001b[32m[I 2021-11-13 05:47:34,139]\u001b[0m Trial 217 finished with value: 1002769.0 and parameters: {'MCMC_Q_L2_NORM_RANGE': 9.729771765035878, 'MCMC_Q_RANGE': 0.8998715297356017, 'EXPECTED_SKILL_EMA_ALPHA_COEF': 0.09297912868398302, 'MAX_N_NOT_OPEN_TASKS_IN_QUEUE': 100, 'PRIORITY_DAY_OFFSET': 656, 'PRIORITY_COEF': 0.29498901386246257}. Best is trial 211 with value: 1013959.0.\u001b[0m\n"
     ]
    },
    {
     "name": "stdout",
     "output_type": "stream",
     "text": [
      "callback ok\n",
      "index_parallel='0220'\n",
      "sed -i 0220_main.cpp -e 's/^constexpr auto MCMC_Q_L2_NORM_RANGE = .*;           \\/\\/ OPTIMIZE LOG \\[2\\.0, 20\\.0\\]$/constexpr auto MCMC_Q_L2_NORM_RANGE = 9.859030121580503;           \\/\\/ OPTIMIZE LOG [2.0, 20.0]/' -e 's/^constexpr auto MCMC_Q_RANGE = .*;                   \\/\\/ OPTIMIZE LOG \\[0\\.2, 10\\.0\\]$/constexpr auto MCMC_Q_RANGE = 1.2774380339103562;                   \\/\\/ OPTIMIZE LOG [0.2, 10.0]/' -e 's/^constexpr auto EXPECTED_SKILL_EMA_ALPHA_COEF = .*; \\/\\/ OPTIMIZE LOG \\[0\\.02, 2\\.0\\]$/constexpr auto EXPECTED_SKILL_EMA_ALPHA_COEF = 0.5857342865767423; \\/\\/ OPTIMIZE LOG [0.02, 2.0]/' -e 's/^constexpr auto MAX_N_NOT_OPEN_TASKS_IN_QUEUE = .*; \\/\\/ OPTIMIZE \\[60, 100\\]$/constexpr auto MAX_N_NOT_OPEN_TASKS_IN_QUEUE = 100; \\/\\/ OPTIMIZE [60, 100]/' -e 's/^constexpr auto PRIORITY_DAY_OFFSET = .*;          \\/\\/ OPTIMIZE \\[400, 1200\\]$/constexpr auto PRIORITY_DAY_OFFSET = 670;          \\/\\/ OPTIMIZE [400, 1200]/' -e 's/^constexpr auto PRIORITY_COEF = .*; \\/\\/ OPTIMIZE LOG \\[0\\.002, 2\\.0\\]$/constexpr auto PRIORITY_COEF = 0.5535111667395327; \\/\\/ OPTIMIZE LOG [0.002, 2.0]/'\n",
      "clang++ 0220_main.cpp -std=gnu++17 -O2 -DONLINE_JUDGE -I/ -o 0220_main.cpp.out\n"
     ]
    },
    {
     "name": "stderr",
     "output_type": "stream",
     "text": [
      "\u001b[32m[I 2021-11-13 05:47:43,384]\u001b[0m Trial 218 finished with value: 1013405.0 and parameters: {'MCMC_Q_L2_NORM_RANGE': 9.361883988437341, 'MCMC_Q_RANGE': 0.8364163149522356, 'EXPECTED_SKILL_EMA_ALPHA_COEF': 0.575069224890732, 'MAX_N_NOT_OPEN_TASKS_IN_QUEUE': 100, 'PRIORITY_DAY_OFFSET': 653, 'PRIORITY_COEF': 0.5835412352564157}. Best is trial 211 with value: 1013959.0.\u001b[0m\n"
     ]
    },
    {
     "name": "stdout",
     "output_type": "stream",
     "text": [
      "callback ok\n",
      "index_parallel='0221'\n",
      "sed -i 0221_main.cpp -e 's/^constexpr auto MCMC_Q_L2_NORM_RANGE = .*;           \\/\\/ OPTIMIZE LOG \\[2\\.0, 20\\.0\\]$/constexpr auto MCMC_Q_L2_NORM_RANGE = 9.88073165758138;           \\/\\/ OPTIMIZE LOG [2.0, 20.0]/' -e 's/^constexpr auto MCMC_Q_RANGE = .*;                   \\/\\/ OPTIMIZE LOG \\[0\\.2, 10\\.0\\]$/constexpr auto MCMC_Q_RANGE = 0.8478311934973567;                   \\/\\/ OPTIMIZE LOG [0.2, 10.0]/' -e 's/^constexpr auto EXPECTED_SKILL_EMA_ALPHA_COEF = .*; \\/\\/ OPTIMIZE LOG \\[0\\.02, 2\\.0\\]$/constexpr auto EXPECTED_SKILL_EMA_ALPHA_COEF = 0.5736605591486464; \\/\\/ OPTIMIZE LOG [0.02, 2.0]/' -e 's/^constexpr auto MAX_N_NOT_OPEN_TASKS_IN_QUEUE = .*; \\/\\/ OPTIMIZE \\[60, 100\\]$/constexpr auto MAX_N_NOT_OPEN_TASKS_IN_QUEUE = 100; \\/\\/ OPTIMIZE [60, 100]/' -e 's/^constexpr auto PRIORITY_DAY_OFFSET = .*;          \\/\\/ OPTIMIZE \\[400, 1200\\]$/constexpr auto PRIORITY_DAY_OFFSET = 675;          \\/\\/ OPTIMIZE [400, 1200]/' -e 's/^constexpr auto PRIORITY_COEF = .*; \\/\\/ OPTIMIZE LOG \\[0\\.002, 2\\.0\\]$/constexpr auto PRIORITY_COEF = 0.614096760568232; \\/\\/ OPTIMIZE LOG [0.002, 2.0]/'\n",
      "clang++ 0221_main.cpp -std=gnu++17 -O2 -DONLINE_JUDGE -I/ -o 0221_main.cpp.out\n"
     ]
    },
    {
     "name": "stderr",
     "output_type": "stream",
     "text": [
      "\u001b[32m[I 2021-11-13 05:51:35,556]\u001b[0m Trial 219 finished with value: 1011835.0 and parameters: {'MCMC_Q_L2_NORM_RANGE': 9.976401269351562, 'MCMC_Q_RANGE': 0.8630121769656213, 'EXPECTED_SKILL_EMA_ALPHA_COEF': 0.5872418084723094, 'MAX_N_NOT_OPEN_TASKS_IN_QUEUE': 100, 'PRIORITY_DAY_OFFSET': 660, 'PRIORITY_COEF': 0.622761811239855}. Best is trial 211 with value: 1013959.0.\u001b[0m\n"
     ]
    },
    {
     "name": "stdout",
     "output_type": "stream",
     "text": [
      "callback ok\n",
      "index_parallel='0222'\n",
      "sed -i 0222_main.cpp -e 's/^constexpr auto MCMC_Q_L2_NORM_RANGE = .*;           \\/\\/ OPTIMIZE LOG \\[2\\.0, 20\\.0\\]$/constexpr auto MCMC_Q_L2_NORM_RANGE = 10.932716663869702;           \\/\\/ OPTIMIZE LOG [2.0, 20.0]/' -e 's/^constexpr auto MCMC_Q_RANGE = .*;                   \\/\\/ OPTIMIZE LOG \\[0\\.2, 10\\.0\\]$/constexpr auto MCMC_Q_RANGE = 0.7311266717497062;                   \\/\\/ OPTIMIZE LOG [0.2, 10.0]/' -e 's/^constexpr auto EXPECTED_SKILL_EMA_ALPHA_COEF = .*; \\/\\/ OPTIMIZE LOG \\[0\\.02, 2\\.0\\]$/constexpr auto EXPECTED_SKILL_EMA_ALPHA_COEF = 0.5461895110004108; \\/\\/ OPTIMIZE LOG [0.02, 2.0]/' -e 's/^constexpr auto MAX_N_NOT_OPEN_TASKS_IN_QUEUE = .*; \\/\\/ OPTIMIZE \\[60, 100\\]$/constexpr auto MAX_N_NOT_OPEN_TASKS_IN_QUEUE = 100; \\/\\/ OPTIMIZE [60, 100]/' -e 's/^constexpr auto PRIORITY_DAY_OFFSET = .*;          \\/\\/ OPTIMIZE \\[400, 1200\\]$/constexpr auto PRIORITY_DAY_OFFSET = 678;          \\/\\/ OPTIMIZE [400, 1200]/' -e 's/^constexpr auto PRIORITY_COEF = .*; \\/\\/ OPTIMIZE LOG \\[0\\.002, 2\\.0\\]$/constexpr auto PRIORITY_COEF = 0.3655934513426314; \\/\\/ OPTIMIZE LOG [0.002, 2.0]/'\n",
      "clang++ 0222_main.cpp -std=gnu++17 -O2 -DONLINE_JUDGE -I/ -o 0222_main.cpp.out\n"
     ]
    },
    {
     "name": "stderr",
     "output_type": "stream",
     "text": [
      "\u001b[32m[I 2021-11-13 05:51:49,427]\u001b[0m Trial 220 finished with value: 1012211.0 and parameters: {'MCMC_Q_L2_NORM_RANGE': 9.859030121580503, 'MCMC_Q_RANGE': 1.2774380339103562, 'EXPECTED_SKILL_EMA_ALPHA_COEF': 0.5857342865767423, 'MAX_N_NOT_OPEN_TASKS_IN_QUEUE': 100, 'PRIORITY_DAY_OFFSET': 670, 'PRIORITY_COEF': 0.5535111667395327}. Best is trial 211 with value: 1013959.0.\u001b[0m\n"
     ]
    },
    {
     "name": "stdout",
     "output_type": "stream",
     "text": [
      "callback ok\n",
      "index_parallel='0223'\n",
      "sed -i 0223_main.cpp -e 's/^constexpr auto MCMC_Q_L2_NORM_RANGE = .*;           \\/\\/ OPTIMIZE LOG \\[2\\.0, 20\\.0\\]$/constexpr auto MCMC_Q_L2_NORM_RANGE = 10.882666208532278;           \\/\\/ OPTIMIZE LOG [2.0, 20.0]/' -e 's/^constexpr auto MCMC_Q_RANGE = .*;                   \\/\\/ OPTIMIZE LOG \\[0\\.2, 10\\.0\\]$/constexpr auto MCMC_Q_RANGE = 0.7579158669532415;                   \\/\\/ OPTIMIZE LOG [0.2, 10.0]/' -e 's/^constexpr auto EXPECTED_SKILL_EMA_ALPHA_COEF = .*; \\/\\/ OPTIMIZE LOG \\[0\\.02, 2\\.0\\]$/constexpr auto EXPECTED_SKILL_EMA_ALPHA_COEF = 0.5423686108885433; \\/\\/ OPTIMIZE LOG [0.02, 2.0]/' -e 's/^constexpr auto MAX_N_NOT_OPEN_TASKS_IN_QUEUE = .*; \\/\\/ OPTIMIZE \\[60, 100\\]$/constexpr auto MAX_N_NOT_OPEN_TASKS_IN_QUEUE = 99; \\/\\/ OPTIMIZE [60, 100]/' -e 's/^constexpr auto PRIORITY_DAY_OFFSET = .*;          \\/\\/ OPTIMIZE \\[400, 1200\\]$/constexpr auto PRIORITY_DAY_OFFSET = 677;          \\/\\/ OPTIMIZE [400, 1200]/' -e 's/^constexpr auto PRIORITY_COEF = .*; \\/\\/ OPTIMIZE LOG \\[0\\.002, 2\\.0\\]$/constexpr auto PRIORITY_COEF = 0.7393273849112877; \\/\\/ OPTIMIZE LOG [0.002, 2.0]/'\n",
      "clang++ 0223_main.cpp -std=gnu++17 -O2 -DONLINE_JUDGE -I/ -o 0223_main.cpp.out\n"
     ]
    },
    {
     "name": "stderr",
     "output_type": "stream",
     "text": [
      "\u001b[32m[I 2021-11-13 05:51:59,776]\u001b[0m Trial 221 finished with value: 1009894.0 and parameters: {'MCMC_Q_L2_NORM_RANGE': 9.88073165758138, 'MCMC_Q_RANGE': 0.8478311934973567, 'EXPECTED_SKILL_EMA_ALPHA_COEF': 0.5736605591486464, 'MAX_N_NOT_OPEN_TASKS_IN_QUEUE': 100, 'PRIORITY_DAY_OFFSET': 675, 'PRIORITY_COEF': 0.614096760568232}. Best is trial 211 with value: 1013959.0.\u001b[0m\n"
     ]
    },
    {
     "name": "stdout",
     "output_type": "stream",
     "text": [
      "callback ok\n",
      "index_parallel='0224'\n",
      "sed -i 0224_main.cpp -e 's/^constexpr auto MCMC_Q_L2_NORM_RANGE = .*;           \\/\\/ OPTIMIZE LOG \\[2\\.0, 20\\.0\\]$/constexpr auto MCMC_Q_L2_NORM_RANGE = 8.593976343755408;           \\/\\/ OPTIMIZE LOG [2.0, 20.0]/' -e 's/^constexpr auto MCMC_Q_RANGE = .*;                   \\/\\/ OPTIMIZE LOG \\[0\\.2, 10\\.0\\]$/constexpr auto MCMC_Q_RANGE = 0.7043487707796923;                   \\/\\/ OPTIMIZE LOG [0.2, 10.0]/' -e 's/^constexpr auto EXPECTED_SKILL_EMA_ALPHA_COEF = .*; \\/\\/ OPTIMIZE LOG \\[0\\.02, 2\\.0\\]$/constexpr auto EXPECTED_SKILL_EMA_ALPHA_COEF = 0.5277422254340752; \\/\\/ OPTIMIZE LOG [0.02, 2.0]/' -e 's/^constexpr auto MAX_N_NOT_OPEN_TASKS_IN_QUEUE = .*; \\/\\/ OPTIMIZE \\[60, 100\\]$/constexpr auto MAX_N_NOT_OPEN_TASKS_IN_QUEUE = 99; \\/\\/ OPTIMIZE [60, 100]/' -e 's/^constexpr auto PRIORITY_DAY_OFFSET = .*;          \\/\\/ OPTIMIZE \\[400, 1200\\]$/constexpr auto PRIORITY_DAY_OFFSET = 646;          \\/\\/ OPTIMIZE [400, 1200]/' -e 's/^constexpr auto PRIORITY_COEF = .*; \\/\\/ OPTIMIZE LOG \\[0\\.002, 2\\.0\\]$/constexpr auto PRIORITY_COEF = 0.36796847944199534; \\/\\/ OPTIMIZE LOG [0.002, 2.0]/'\n",
      "clang++ 0224_main.cpp -std=gnu++17 -O2 -DONLINE_JUDGE -I/ -o 0224_main.cpp.out\n"
     ]
    },
    {
     "name": "stderr",
     "output_type": "stream",
     "text": [
      "\u001b[32m[I 2021-11-13 05:55:52,156]\u001b[0m Trial 222 finished with value: 1011413.0 and parameters: {'MCMC_Q_L2_NORM_RANGE': 10.932716663869702, 'MCMC_Q_RANGE': 0.7311266717497062, 'EXPECTED_SKILL_EMA_ALPHA_COEF': 0.5461895110004108, 'MAX_N_NOT_OPEN_TASKS_IN_QUEUE': 100, 'PRIORITY_DAY_OFFSET': 678, 'PRIORITY_COEF': 0.3655934513426314}. Best is trial 211 with value: 1013959.0.\u001b[0m\n"
     ]
    },
    {
     "name": "stdout",
     "output_type": "stream",
     "text": [
      "callback ok\n",
      "index_parallel='0225'\n",
      "sed -i 0225_main.cpp -e 's/^constexpr auto MCMC_Q_L2_NORM_RANGE = .*;           \\/\\/ OPTIMIZE LOG \\[2\\.0, 20\\.0\\]$/constexpr auto MCMC_Q_L2_NORM_RANGE = 8.669502986083277;           \\/\\/ OPTIMIZE LOG [2.0, 20.0]/' -e 's/^constexpr auto MCMC_Q_RANGE = .*;                   \\/\\/ OPTIMIZE LOG \\[0\\.2, 10\\.0\\]$/constexpr auto MCMC_Q_RANGE = 0.9388041364911814;                   \\/\\/ OPTIMIZE LOG [0.2, 10.0]/' -e 's/^constexpr auto EXPECTED_SKILL_EMA_ALPHA_COEF = .*; \\/\\/ OPTIMIZE LOG \\[0\\.02, 2\\.0\\]$/constexpr auto EXPECTED_SKILL_EMA_ALPHA_COEF = 0.796794887102013; \\/\\/ OPTIMIZE LOG [0.02, 2.0]/' -e 's/^constexpr auto MAX_N_NOT_OPEN_TASKS_IN_QUEUE = .*; \\/\\/ OPTIMIZE \\[60, 100\\]$/constexpr auto MAX_N_NOT_OPEN_TASKS_IN_QUEUE = 99; \\/\\/ OPTIMIZE [60, 100]/' -e 's/^constexpr auto PRIORITY_DAY_OFFSET = .*;          \\/\\/ OPTIMIZE \\[400, 1200\\]$/constexpr auto PRIORITY_DAY_OFFSET = 646;          \\/\\/ OPTIMIZE [400, 1200]/' -e 's/^constexpr auto PRIORITY_COEF = .*; \\/\\/ OPTIMIZE LOG \\[0\\.002, 2\\.0\\]$/constexpr auto PRIORITY_COEF = 0.7224035856673212; \\/\\/ OPTIMIZE LOG [0.002, 2.0]/'\n",
      "clang++ 0225_main.cpp -std=gnu++17 -O2 -DONLINE_JUDGE -I/ -o 0225_main.cpp.out\n"
     ]
    },
    {
     "name": "stderr",
     "output_type": "stream",
     "text": [
      "\u001b[32m[I 2021-11-13 05:56:06,451]\u001b[0m Trial 223 finished with value: 1011456.0 and parameters: {'MCMC_Q_L2_NORM_RANGE': 10.882666208532278, 'MCMC_Q_RANGE': 0.7579158669532415, 'EXPECTED_SKILL_EMA_ALPHA_COEF': 0.5423686108885433, 'MAX_N_NOT_OPEN_TASKS_IN_QUEUE': 99, 'PRIORITY_DAY_OFFSET': 677, 'PRIORITY_COEF': 0.7393273849112877}. Best is trial 211 with value: 1013959.0.\u001b[0m\n"
     ]
    },
    {
     "name": "stdout",
     "output_type": "stream",
     "text": [
      "callback ok\n",
      "index_parallel='0226'\n",
      "sed -i 0226_main.cpp -e 's/^constexpr auto MCMC_Q_L2_NORM_RANGE = .*;           \\/\\/ OPTIMIZE LOG \\[2\\.0, 20\\.0\\]$/constexpr auto MCMC_Q_L2_NORM_RANGE = 9.310628794646979;           \\/\\/ OPTIMIZE LOG [2.0, 20.0]/' -e 's/^constexpr auto MCMC_Q_RANGE = .*;                   \\/\\/ OPTIMIZE LOG \\[0\\.2, 10\\.0\\]$/constexpr auto MCMC_Q_RANGE = 0.9367719181653829;                   \\/\\/ OPTIMIZE LOG [0.2, 10.0]/' -e 's/^constexpr auto EXPECTED_SKILL_EMA_ALPHA_COEF = .*; \\/\\/ OPTIMIZE LOG \\[0\\.02, 2\\.0\\]$/constexpr auto EXPECTED_SKILL_EMA_ALPHA_COEF = 0.7567038817464411; \\/\\/ OPTIMIZE LOG [0.02, 2.0]/' -e 's/^constexpr auto MAX_N_NOT_OPEN_TASKS_IN_QUEUE = .*; \\/\\/ OPTIMIZE \\[60, 100\\]$/constexpr auto MAX_N_NOT_OPEN_TASKS_IN_QUEUE = 99; \\/\\/ OPTIMIZE [60, 100]/' -e 's/^constexpr auto PRIORITY_DAY_OFFSET = .*;          \\/\\/ OPTIMIZE \\[400, 1200\\]$/constexpr auto PRIORITY_DAY_OFFSET = 706;          \\/\\/ OPTIMIZE [400, 1200]/' -e 's/^constexpr auto PRIORITY_COEF = .*; \\/\\/ OPTIMIZE LOG \\[0\\.002, 2\\.0\\]$/constexpr auto PRIORITY_COEF = 0.4452314471240335; \\/\\/ OPTIMIZE LOG [0.002, 2.0]/'\n",
      "clang++ 0226_main.cpp -std=gnu++17 -O2 -DONLINE_JUDGE -I/ -o 0226_main.cpp.out\n"
     ]
    },
    {
     "name": "stderr",
     "output_type": "stream",
     "text": [
      "\u001b[32m[I 2021-11-13 05:56:15,686]\u001b[0m Trial 224 finished with value: 1011844.0 and parameters: {'MCMC_Q_L2_NORM_RANGE': 8.593976343755408, 'MCMC_Q_RANGE': 0.7043487707796923, 'EXPECTED_SKILL_EMA_ALPHA_COEF': 0.5277422254340752, 'MAX_N_NOT_OPEN_TASKS_IN_QUEUE': 99, 'PRIORITY_DAY_OFFSET': 646, 'PRIORITY_COEF': 0.36796847944199534}. Best is trial 211 with value: 1013959.0.\u001b[0m\n"
     ]
    },
    {
     "name": "stdout",
     "output_type": "stream",
     "text": [
      "callback ok\n",
      "index_parallel='0227'\n",
      "sed -i 0227_main.cpp -e 's/^constexpr auto MCMC_Q_L2_NORM_RANGE = .*;           \\/\\/ OPTIMIZE LOG \\[2\\.0, 20\\.0\\]$/constexpr auto MCMC_Q_L2_NORM_RANGE = 9.334823040663064;           \\/\\/ OPTIMIZE LOG [2.0, 20.0]/' -e 's/^constexpr auto MCMC_Q_RANGE = .*;                   \\/\\/ OPTIMIZE LOG \\[0\\.2, 10\\.0\\]$/constexpr auto MCMC_Q_RANGE = 0.9335193574425018;                   \\/\\/ OPTIMIZE LOG [0.2, 10.0]/' -e 's/^constexpr auto EXPECTED_SKILL_EMA_ALPHA_COEF = .*; \\/\\/ OPTIMIZE LOG \\[0\\.02, 2\\.0\\]$/constexpr auto EXPECTED_SKILL_EMA_ALPHA_COEF = 0.7775467041206251; \\/\\/ OPTIMIZE LOG [0.02, 2.0]/' -e 's/^constexpr auto MAX_N_NOT_OPEN_TASKS_IN_QUEUE = .*; \\/\\/ OPTIMIZE \\[60, 100\\]$/constexpr auto MAX_N_NOT_OPEN_TASKS_IN_QUEUE = 99; \\/\\/ OPTIMIZE [60, 100]/' -e 's/^constexpr auto PRIORITY_DAY_OFFSET = .*;          \\/\\/ OPTIMIZE \\[400, 1200\\]$/constexpr auto PRIORITY_DAY_OFFSET = 700;          \\/\\/ OPTIMIZE [400, 1200]/' -e 's/^constexpr auto PRIORITY_COEF = .*; \\/\\/ OPTIMIZE LOG \\[0\\.002, 2\\.0\\]$/constexpr auto PRIORITY_COEF = 0.46116203502278924; \\/\\/ OPTIMIZE LOG [0.002, 2.0]/'\n",
      "clang++ 0227_main.cpp -std=gnu++17 -O2 -DONLINE_JUDGE -I/ -o 0227_main.cpp.out\n"
     ]
    },
    {
     "name": "stderr",
     "output_type": "stream",
     "text": [
      "\u001b[32m[I 2021-11-13 06:00:09,471]\u001b[0m Trial 225 finished with value: 1012021.0 and parameters: {'MCMC_Q_L2_NORM_RANGE': 8.669502986083277, 'MCMC_Q_RANGE': 0.9388041364911814, 'EXPECTED_SKILL_EMA_ALPHA_COEF': 0.796794887102013, 'MAX_N_NOT_OPEN_TASKS_IN_QUEUE': 99, 'PRIORITY_DAY_OFFSET': 646, 'PRIORITY_COEF': 0.7224035856673212}. Best is trial 211 with value: 1013959.0.\u001b[0m\n"
     ]
    },
    {
     "name": "stdout",
     "output_type": "stream",
     "text": [
      "callback ok\n",
      "index_parallel='0228'\n",
      "sed -i 0228_main.cpp -e 's/^constexpr auto MCMC_Q_L2_NORM_RANGE = .*;           \\/\\/ OPTIMIZE LOG \\[2\\.0, 20\\.0\\]$/constexpr auto MCMC_Q_L2_NORM_RANGE = 9.168827471710275;           \\/\\/ OPTIMIZE LOG [2.0, 20.0]/' -e 's/^constexpr auto MCMC_Q_RANGE = .*;                   \\/\\/ OPTIMIZE LOG \\[0\\.2, 10\\.0\\]$/constexpr auto MCMC_Q_RANGE = 1.0451531542123287;                   \\/\\/ OPTIMIZE LOG [0.2, 10.0]/' -e 's/^constexpr auto EXPECTED_SKILL_EMA_ALPHA_COEF = .*; \\/\\/ OPTIMIZE LOG \\[0\\.02, 2\\.0\\]$/constexpr auto EXPECTED_SKILL_EMA_ALPHA_COEF = 0.7131400259525107; \\/\\/ OPTIMIZE LOG [0.02, 2.0]/' -e 's/^constexpr auto MAX_N_NOT_OPEN_TASKS_IN_QUEUE = .*; \\/\\/ OPTIMIZE \\[60, 100\\]$/constexpr auto MAX_N_NOT_OPEN_TASKS_IN_QUEUE = 98; \\/\\/ OPTIMIZE [60, 100]/' -e 's/^constexpr auto PRIORITY_DAY_OFFSET = .*;          \\/\\/ OPTIMIZE \\[400, 1200\\]$/constexpr auto PRIORITY_DAY_OFFSET = 698;          \\/\\/ OPTIMIZE [400, 1200]/' -e 's/^constexpr auto PRIORITY_COEF = .*; \\/\\/ OPTIMIZE LOG \\[0\\.002, 2\\.0\\]$/constexpr auto PRIORITY_COEF = 0.4403228378311439; \\/\\/ OPTIMIZE LOG [0.002, 2.0]/'\n",
      "clang++ 0228_main.cpp -std=gnu++17 -O2 -DONLINE_JUDGE -I/ -o 0228_main.cpp.out\n"
     ]
    },
    {
     "name": "stderr",
     "output_type": "stream",
     "text": [
      "\u001b[32m[I 2021-11-13 06:00:22,998]\u001b[0m Trial 226 finished with value: 1012706.0 and parameters: {'MCMC_Q_L2_NORM_RANGE': 9.310628794646979, 'MCMC_Q_RANGE': 0.9367719181653829, 'EXPECTED_SKILL_EMA_ALPHA_COEF': 0.7567038817464411, 'MAX_N_NOT_OPEN_TASKS_IN_QUEUE': 99, 'PRIORITY_DAY_OFFSET': 706, 'PRIORITY_COEF': 0.4452314471240335}. Best is trial 211 with value: 1013959.0.\u001b[0m\n"
     ]
    },
    {
     "name": "stdout",
     "output_type": "stream",
     "text": [
      "callback ok\n",
      "index_parallel='0229'\n",
      "sed -i 0229_main.cpp -e 's/^constexpr auto MCMC_Q_L2_NORM_RANGE = .*;           \\/\\/ OPTIMIZE LOG \\[2\\.0, 20\\.0\\]$/constexpr auto MCMC_Q_L2_NORM_RANGE = 9.245453669332512;           \\/\\/ OPTIMIZE LOG [2.0, 20.0]/' -e 's/^constexpr auto MCMC_Q_RANGE = .*;                   \\/\\/ OPTIMIZE LOG \\[0\\.2, 10\\.0\\]$/constexpr auto MCMC_Q_RANGE = 1.0483725213579045;                   \\/\\/ OPTIMIZE LOG [0.2, 10.0]/' -e 's/^constexpr auto EXPECTED_SKILL_EMA_ALPHA_COEF = .*; \\/\\/ OPTIMIZE LOG \\[0\\.02, 2\\.0\\]$/constexpr auto EXPECTED_SKILL_EMA_ALPHA_COEF = 0.764251751898658; \\/\\/ OPTIMIZE LOG [0.02, 2.0]/' -e 's/^constexpr auto MAX_N_NOT_OPEN_TASKS_IN_QUEUE = .*; \\/\\/ OPTIMIZE \\[60, 100\\]$/constexpr auto MAX_N_NOT_OPEN_TASKS_IN_QUEUE = 98; \\/\\/ OPTIMIZE [60, 100]/' -e 's/^constexpr auto PRIORITY_DAY_OFFSET = .*;          \\/\\/ OPTIMIZE \\[400, 1200\\]$/constexpr auto PRIORITY_DAY_OFFSET = 703;          \\/\\/ OPTIMIZE [400, 1200]/' -e 's/^constexpr auto PRIORITY_COEF = .*; \\/\\/ OPTIMIZE LOG \\[0\\.002, 2\\.0\\]$/constexpr auto PRIORITY_COEF = 0.4383071703087013; \\/\\/ OPTIMIZE LOG [0.002, 2.0]/'\n",
      "clang++ 0229_main.cpp -std=gnu++17 -O2 -DONLINE_JUDGE -I/ -o 0229_main.cpp.out\n"
     ]
    },
    {
     "name": "stderr",
     "output_type": "stream",
     "text": [
      "\u001b[32m[I 2021-11-13 06:00:32,320]\u001b[0m Trial 227 finished with value: 1012898.0 and parameters: {'MCMC_Q_L2_NORM_RANGE': 9.334823040663064, 'MCMC_Q_RANGE': 0.9335193574425018, 'EXPECTED_SKILL_EMA_ALPHA_COEF': 0.7775467041206251, 'MAX_N_NOT_OPEN_TASKS_IN_QUEUE': 99, 'PRIORITY_DAY_OFFSET': 700, 'PRIORITY_COEF': 0.46116203502278924}. Best is trial 211 with value: 1013959.0.\u001b[0m\n"
     ]
    },
    {
     "name": "stdout",
     "output_type": "stream",
     "text": [
      "callback ok\n",
      "index_parallel='0230'\n",
      "sed -i 0230_main.cpp -e 's/^constexpr auto MCMC_Q_L2_NORM_RANGE = .*;           \\/\\/ OPTIMIZE LOG \\[2\\.0, 20\\.0\\]$/constexpr auto MCMC_Q_L2_NORM_RANGE = 9.319303058560381;           \\/\\/ OPTIMIZE LOG [2.0, 20.0]/' -e 's/^constexpr auto MCMC_Q_RANGE = .*;                   \\/\\/ OPTIMIZE LOG \\[0\\.2, 10\\.0\\]$/constexpr auto MCMC_Q_RANGE = 0.8417223585636774;                   \\/\\/ OPTIMIZE LOG [0.2, 10.0]/' -e 's/^constexpr auto EXPECTED_SKILL_EMA_ALPHA_COEF = .*; \\/\\/ OPTIMIZE LOG \\[0\\.02, 2\\.0\\]$/constexpr auto EXPECTED_SKILL_EMA_ALPHA_COEF = 0.8753011377057225; \\/\\/ OPTIMIZE LOG [0.02, 2.0]/' -e 's/^constexpr auto MAX_N_NOT_OPEN_TASKS_IN_QUEUE = .*; \\/\\/ OPTIMIZE \\[60, 100\\]$/constexpr auto MAX_N_NOT_OPEN_TASKS_IN_QUEUE = 98; \\/\\/ OPTIMIZE [60, 100]/' -e 's/^constexpr auto PRIORITY_DAY_OFFSET = .*;          \\/\\/ OPTIMIZE \\[400, 1200\\]$/constexpr auto PRIORITY_DAY_OFFSET = 714;          \\/\\/ OPTIMIZE [400, 1200]/' -e 's/^constexpr auto PRIORITY_COEF = .*; \\/\\/ OPTIMIZE LOG \\[0\\.002, 2\\.0\\]$/constexpr auto PRIORITY_COEF = 0.43343464147768423; \\/\\/ OPTIMIZE LOG [0.002, 2.0]/'\n",
      "clang++ 0230_main.cpp -std=gnu++17 -O2 -DONLINE_JUDGE -I/ -o 0230_main.cpp.out\n"
     ]
    },
    {
     "name": "stderr",
     "output_type": "stream",
     "text": [
      "\u001b[32m[I 2021-11-13 06:04:26,391]\u001b[0m Trial 228 finished with value: 1012162.0 and parameters: {'MCMC_Q_L2_NORM_RANGE': 9.168827471710275, 'MCMC_Q_RANGE': 1.0451531542123287, 'EXPECTED_SKILL_EMA_ALPHA_COEF': 0.7131400259525107, 'MAX_N_NOT_OPEN_TASKS_IN_QUEUE': 98, 'PRIORITY_DAY_OFFSET': 698, 'PRIORITY_COEF': 0.4403228378311439}. Best is trial 211 with value: 1013959.0.\u001b[0m\n"
     ]
    },
    {
     "name": "stdout",
     "output_type": "stream",
     "text": [
      "callback ok\n",
      "index_parallel='0231'\n",
      "sed -i 0231_main.cpp -e 's/^constexpr auto MCMC_Q_L2_NORM_RANGE = .*;           \\/\\/ OPTIMIZE LOG \\[2\\.0, 20\\.0\\]$/constexpr auto MCMC_Q_L2_NORM_RANGE = 9.392290559788451;           \\/\\/ OPTIMIZE LOG [2.0, 20.0]/' -e 's/^constexpr auto MCMC_Q_RANGE = .*;                   \\/\\/ OPTIMIZE LOG \\[0\\.2, 10\\.0\\]$/constexpr auto MCMC_Q_RANGE = 0.8357512670283495;                   \\/\\/ OPTIMIZE LOG [0.2, 10.0]/' -e 's/^constexpr auto EXPECTED_SKILL_EMA_ALPHA_COEF = .*; \\/\\/ OPTIMIZE LOG \\[0\\.02, 2\\.0\\]$/constexpr auto EXPECTED_SKILL_EMA_ALPHA_COEF = 0.020181579224884057; \\/\\/ OPTIMIZE LOG [0.02, 2.0]/' -e 's/^constexpr auto MAX_N_NOT_OPEN_TASKS_IN_QUEUE = .*; \\/\\/ OPTIMIZE \\[60, 100\\]$/constexpr auto MAX_N_NOT_OPEN_TASKS_IN_QUEUE = 99; \\/\\/ OPTIMIZE [60, 100]/' -e 's/^constexpr auto PRIORITY_DAY_OFFSET = .*;          \\/\\/ OPTIMIZE \\[400, 1200\\]$/constexpr auto PRIORITY_DAY_OFFSET = 710;          \\/\\/ OPTIMIZE [400, 1200]/' -e 's/^constexpr auto PRIORITY_COEF = .*; \\/\\/ OPTIMIZE LOG \\[0\\.002, 2\\.0\\]$/constexpr auto PRIORITY_COEF = 0.530867783851487; \\/\\/ OPTIMIZE LOG [0.002, 2.0]/'\n",
      "clang++ 0231_main.cpp -std=gnu++17 -O2 -DONLINE_JUDGE -I/ -o 0231_main.cpp.out\n"
     ]
    },
    {
     "name": "stderr",
     "output_type": "stream",
     "text": [
      "\u001b[32m[I 2021-11-13 06:04:38,495]\u001b[0m Trial 229 finished with value: 1011183.0 and parameters: {'MCMC_Q_L2_NORM_RANGE': 9.245453669332512, 'MCMC_Q_RANGE': 1.0483725213579045, 'EXPECTED_SKILL_EMA_ALPHA_COEF': 0.764251751898658, 'MAX_N_NOT_OPEN_TASKS_IN_QUEUE': 98, 'PRIORITY_DAY_OFFSET': 703, 'PRIORITY_COEF': 0.4383071703087013}. Best is trial 211 with value: 1013959.0.\u001b[0m\n"
     ]
    },
    {
     "name": "stdout",
     "output_type": "stream",
     "text": [
      "callback ok\n",
      "index_parallel='0232'\n",
      "sed -i 0232_main.cpp -e 's/^constexpr auto MCMC_Q_L2_NORM_RANGE = .*;           \\/\\/ OPTIMIZE LOG \\[2\\.0, 20\\.0\\]$/constexpr auto MCMC_Q_L2_NORM_RANGE = 9.528268476925911;           \\/\\/ OPTIMIZE LOG [2.0, 20.0]/' -e 's/^constexpr auto MCMC_Q_RANGE = .*;                   \\/\\/ OPTIMIZE LOG \\[0\\.2, 10\\.0\\]$/constexpr auto MCMC_Q_RANGE = 0.8160156598079796;                   \\/\\/ OPTIMIZE LOG [0.2, 10.0]/' -e 's/^constexpr auto EXPECTED_SKILL_EMA_ALPHA_COEF = .*; \\/\\/ OPTIMIZE LOG \\[0\\.02, 2\\.0\\]$/constexpr auto EXPECTED_SKILL_EMA_ALPHA_COEF = 0.8496199757108898; \\/\\/ OPTIMIZE LOG [0.02, 2.0]/' -e 's/^constexpr auto MAX_N_NOT_OPEN_TASKS_IN_QUEUE = .*; \\/\\/ OPTIMIZE \\[60, 100\\]$/constexpr auto MAX_N_NOT_OPEN_TASKS_IN_QUEUE = 99; \\/\\/ OPTIMIZE [60, 100]/' -e 's/^constexpr auto PRIORITY_DAY_OFFSET = .*;          \\/\\/ OPTIMIZE \\[400, 1200\\]$/constexpr auto PRIORITY_DAY_OFFSET = 725;          \\/\\/ OPTIMIZE [400, 1200]/' -e 's/^constexpr auto PRIORITY_COEF = .*; \\/\\/ OPTIMIZE LOG \\[0\\.002, 2\\.0\\]$/constexpr auto PRIORITY_COEF = 0.5427376410490692; \\/\\/ OPTIMIZE LOG [0.002, 2.0]/'\n",
      "clang++ 0232_main.cpp -std=gnu++17 -O2 -DONLINE_JUDGE -I/ -o 0232_main.cpp.out\n"
     ]
    },
    {
     "name": "stderr",
     "output_type": "stream",
     "text": [
      "\u001b[32m[I 2021-11-13 06:04:48,640]\u001b[0m Trial 230 finished with value: 1011430.0 and parameters: {'MCMC_Q_L2_NORM_RANGE': 9.319303058560381, 'MCMC_Q_RANGE': 0.8417223585636774, 'EXPECTED_SKILL_EMA_ALPHA_COEF': 0.8753011377057225, 'MAX_N_NOT_OPEN_TASKS_IN_QUEUE': 98, 'PRIORITY_DAY_OFFSET': 714, 'PRIORITY_COEF': 0.43343464147768423}. Best is trial 211 with value: 1013959.0.\u001b[0m\n"
     ]
    },
    {
     "name": "stdout",
     "output_type": "stream",
     "text": [
      "callback ok\n",
      "index_parallel='0233'\n",
      "sed -i 0233_main.cpp -e 's/^constexpr auto MCMC_Q_L2_NORM_RANGE = .*;           \\/\\/ OPTIMIZE LOG \\[2\\.0, 20\\.0\\]$/constexpr auto MCMC_Q_L2_NORM_RANGE = 10.38649881624105;           \\/\\/ OPTIMIZE LOG [2.0, 20.0]/' -e 's/^constexpr auto MCMC_Q_RANGE = .*;                   \\/\\/ OPTIMIZE LOG \\[0\\.2, 10\\.0\\]$/constexpr auto MCMC_Q_RANGE = 0.9560205841099666;                   \\/\\/ OPTIMIZE LOG [0.2, 10.0]/' -e 's/^constexpr auto EXPECTED_SKILL_EMA_ALPHA_COEF = .*; \\/\\/ OPTIMIZE LOG \\[0\\.02, 2\\.0\\]$/constexpr auto EXPECTED_SKILL_EMA_ALPHA_COEF = 1.0502358458717784; \\/\\/ OPTIMIZE LOG [0.02, 2.0]/' -e 's/^constexpr auto MAX_N_NOT_OPEN_TASKS_IN_QUEUE = .*; \\/\\/ OPTIMIZE \\[60, 100\\]$/constexpr auto MAX_N_NOT_OPEN_TASKS_IN_QUEUE = 99; \\/\\/ OPTIMIZE [60, 100]/' -e 's/^constexpr auto PRIORITY_DAY_OFFSET = .*;          \\/\\/ OPTIMIZE \\[400, 1200\\]$/constexpr auto PRIORITY_DAY_OFFSET = 731;          \\/\\/ OPTIMIZE [400, 1200]/' -e 's/^constexpr auto PRIORITY_COEF = .*; \\/\\/ OPTIMIZE LOG \\[0\\.002, 2\\.0\\]$/constexpr auto PRIORITY_COEF = 0.5127335082850888; \\/\\/ OPTIMIZE LOG [0.002, 2.0]/'\n",
      "clang++ 0233_main.cpp -std=gnu++17 -O2 -DONLINE_JUDGE -I/ -o 0233_main.cpp.out\n"
     ]
    },
    {
     "name": "stderr",
     "output_type": "stream",
     "text": [
      "\u001b[32m[I 2021-11-13 06:08:33,639]\u001b[0m Trial 231 finished with value: 978461.0 and parameters: {'MCMC_Q_L2_NORM_RANGE': 9.392290559788451, 'MCMC_Q_RANGE': 0.8357512670283495, 'EXPECTED_SKILL_EMA_ALPHA_COEF': 0.020181579224884057, 'MAX_N_NOT_OPEN_TASKS_IN_QUEUE': 99, 'PRIORITY_DAY_OFFSET': 710, 'PRIORITY_COEF': 0.530867783851487}. Best is trial 211 with value: 1013959.0.\u001b[0m\n"
     ]
    },
    {
     "name": "stdout",
     "output_type": "stream",
     "text": [
      "callback ok\n",
      "index_parallel='0234'\n",
      "sed -i 0234_main.cpp -e 's/^constexpr auto MCMC_Q_L2_NORM_RANGE = .*;           \\/\\/ OPTIMIZE LOG \\[2\\.0, 20\\.0\\]$/constexpr auto MCMC_Q_L2_NORM_RANGE = 10.373789118397204;           \\/\\/ OPTIMIZE LOG [2.0, 20.0]/' -e 's/^constexpr auto MCMC_Q_RANGE = .*;                   \\/\\/ OPTIMIZE LOG \\[0\\.2, 10\\.0\\]$/constexpr auto MCMC_Q_RANGE = 0.9217114317573984;                   \\/\\/ OPTIMIZE LOG [0.2, 10.0]/' -e 's/^constexpr auto EXPECTED_SKILL_EMA_ALPHA_COEF = .*; \\/\\/ OPTIMIZE LOG \\[0\\.02, 2\\.0\\]$/constexpr auto EXPECTED_SKILL_EMA_ALPHA_COEF = 1.032501616298424; \\/\\/ OPTIMIZE LOG [0.02, 2.0]/' -e 's/^constexpr auto MAX_N_NOT_OPEN_TASKS_IN_QUEUE = .*; \\/\\/ OPTIMIZE \\[60, 100\\]$/constexpr auto MAX_N_NOT_OPEN_TASKS_IN_QUEUE = 100; \\/\\/ OPTIMIZE [60, 100]/' -e 's/^constexpr auto PRIORITY_DAY_OFFSET = .*;          \\/\\/ OPTIMIZE \\[400, 1200\\]$/constexpr auto PRIORITY_DAY_OFFSET = 727;          \\/\\/ OPTIMIZE [400, 1200]/' -e 's/^constexpr auto PRIORITY_COEF = .*; \\/\\/ OPTIMIZE LOG \\[0\\.002, 2\\.0\\]$/constexpr auto PRIORITY_COEF = 0.333521526739301; \\/\\/ OPTIMIZE LOG [0.002, 2.0]/'\n",
      "clang++ 0234_main.cpp -std=gnu++17 -O2 -DONLINE_JUDGE -I/ -o 0234_main.cpp.out\n"
     ]
    },
    {
     "name": "stderr",
     "output_type": "stream",
     "text": [
      "\u001b[32m[I 2021-11-13 06:08:55,056]\u001b[0m Trial 232 finished with value: 1012520.0 and parameters: {'MCMC_Q_L2_NORM_RANGE': 9.528268476925911, 'MCMC_Q_RANGE': 0.8160156598079796, 'EXPECTED_SKILL_EMA_ALPHA_COEF': 0.8496199757108898, 'MAX_N_NOT_OPEN_TASKS_IN_QUEUE': 99, 'PRIORITY_DAY_OFFSET': 725, 'PRIORITY_COEF': 0.5427376410490692}. Best is trial 211 with value: 1013959.0.\u001b[0m\n"
     ]
    },
    {
     "name": "stdout",
     "output_type": "stream",
     "text": [
      "callback ok\n",
      "index_parallel='0235'\n",
      "sed -i 0235_main.cpp -e 's/^constexpr auto MCMC_Q_L2_NORM_RANGE = .*;           \\/\\/ OPTIMIZE LOG \\[2\\.0, 20\\.0\\]$/constexpr auto MCMC_Q_L2_NORM_RANGE = 10.372169205004473;           \\/\\/ OPTIMIZE LOG [2.0, 20.0]/' -e 's/^constexpr auto MCMC_Q_RANGE = .*;                   \\/\\/ OPTIMIZE LOG \\[0\\.2, 10\\.0\\]$/constexpr auto MCMC_Q_RANGE = 0.9355116704261909;                   \\/\\/ OPTIMIZE LOG [0.2, 10.0]/' -e 's/^constexpr auto EXPECTED_SKILL_EMA_ALPHA_COEF = .*; \\/\\/ OPTIMIZE LOG \\[0\\.02, 2\\.0\\]$/constexpr auto EXPECTED_SKILL_EMA_ALPHA_COEF = 0.9496676762853489; \\/\\/ OPTIMIZE LOG [0.02, 2.0]/' -e 's/^constexpr auto MAX_N_NOT_OPEN_TASKS_IN_QUEUE = .*; \\/\\/ OPTIMIZE \\[60, 100\\]$/constexpr auto MAX_N_NOT_OPEN_TASKS_IN_QUEUE = 100; \\/\\/ OPTIMIZE [60, 100]/' -e 's/^constexpr auto PRIORITY_DAY_OFFSET = .*;          \\/\\/ OPTIMIZE \\[400, 1200\\]$/constexpr auto PRIORITY_DAY_OFFSET = 631;          \\/\\/ OPTIMIZE [400, 1200]/' -e 's/^constexpr auto PRIORITY_COEF = .*; \\/\\/ OPTIMIZE LOG \\[0\\.002, 2\\.0\\]$/constexpr auto PRIORITY_COEF = 0.3401465610075729; \\/\\/ OPTIMIZE LOG [0.002, 2.0]/'\n",
      "clang++ 0235_main.cpp -std=gnu++17 -O2 -DONLINE_JUDGE -I/ -o 0235_main.cpp.out\n"
     ]
    },
    {
     "name": "stderr",
     "output_type": "stream",
     "text": [
      "\u001b[32m[I 2021-11-13 06:09:05,232]\u001b[0m Trial 233 finished with value: 1011084.0 and parameters: {'MCMC_Q_L2_NORM_RANGE': 10.38649881624105, 'MCMC_Q_RANGE': 0.9560205841099666, 'EXPECTED_SKILL_EMA_ALPHA_COEF': 1.0502358458717784, 'MAX_N_NOT_OPEN_TASKS_IN_QUEUE': 99, 'PRIORITY_DAY_OFFSET': 731, 'PRIORITY_COEF': 0.5127335082850888}. Best is trial 211 with value: 1013959.0.\u001b[0m\n"
     ]
    },
    {
     "name": "stdout",
     "output_type": "stream",
     "text": [
      "callback ok\n",
      "index_parallel='0236'\n",
      "sed -i 0236_main.cpp -e 's/^constexpr auto MCMC_Q_L2_NORM_RANGE = .*;           \\/\\/ OPTIMIZE LOG \\[2\\.0, 20\\.0\\]$/constexpr auto MCMC_Q_L2_NORM_RANGE = 8.020735001650234;           \\/\\/ OPTIMIZE LOG [2.0, 20.0]/' -e 's/^constexpr auto MCMC_Q_RANGE = .*;                   \\/\\/ OPTIMIZE LOG \\[0\\.2, 10\\.0\\]$/constexpr auto MCMC_Q_RANGE = 0.9169866161679537;                   \\/\\/ OPTIMIZE LOG [0.2, 10.0]/' -e 's/^constexpr auto EXPECTED_SKILL_EMA_ALPHA_COEF = .*; \\/\\/ OPTIMIZE LOG \\[0\\.02, 2\\.0\\]$/constexpr auto EXPECTED_SKILL_EMA_ALPHA_COEF = 0.6257264315512396; \\/\\/ OPTIMIZE LOG [0.02, 2.0]/' -e 's/^constexpr auto MAX_N_NOT_OPEN_TASKS_IN_QUEUE = .*; \\/\\/ OPTIMIZE \\[60, 100\\]$/constexpr auto MAX_N_NOT_OPEN_TASKS_IN_QUEUE = 100; \\/\\/ OPTIMIZE [60, 100]/' -e 's/^constexpr auto PRIORITY_DAY_OFFSET = .*;          \\/\\/ OPTIMIZE \\[400, 1200\\]$/constexpr auto PRIORITY_DAY_OFFSET = 690;          \\/\\/ OPTIMIZE [400, 1200]/' -e 's/^constexpr auto PRIORITY_COEF = .*; \\/\\/ OPTIMIZE LOG \\[0\\.002, 2\\.0\\]$/constexpr auto PRIORITY_COEF = 0.3245166039713105; \\/\\/ OPTIMIZE LOG [0.002, 2.0]/'\n",
      "clang++ 0236_main.cpp -std=gnu++17 -O2 -DONLINE_JUDGE -I/ -o 0236_main.cpp.out\n"
     ]
    },
    {
     "name": "stderr",
     "output_type": "stream",
     "text": [
      "\u001b[32m[I 2021-11-13 06:12:50,099]\u001b[0m Trial 234 finished with value: 1011803.0 and parameters: {'MCMC_Q_L2_NORM_RANGE': 10.373789118397204, 'MCMC_Q_RANGE': 0.9217114317573984, 'EXPECTED_SKILL_EMA_ALPHA_COEF': 1.032501616298424, 'MAX_N_NOT_OPEN_TASKS_IN_QUEUE': 100, 'PRIORITY_DAY_OFFSET': 727, 'PRIORITY_COEF': 0.333521526739301}. Best is trial 211 with value: 1013959.0.\u001b[0m\n"
     ]
    },
    {
     "name": "stdout",
     "output_type": "stream",
     "text": [
      "callback ok\n",
      "index_parallel='0237'\n",
      "sed -i 0237_main.cpp -e 's/^constexpr auto MCMC_Q_L2_NORM_RANGE = .*;           \\/\\/ OPTIMIZE LOG \\[2\\.0, 20\\.0\\]$/constexpr auto MCMC_Q_L2_NORM_RANGE = 8.817600401333097;           \\/\\/ OPTIMIZE LOG [2.0, 20.0]/' -e 's/^constexpr auto MCMC_Q_RANGE = .*;                   \\/\\/ OPTIMIZE LOG \\[0\\.2, 10\\.0\\]$/constexpr auto MCMC_Q_RANGE = 1.0728399154755102;                   \\/\\/ OPTIMIZE LOG [0.2, 10.0]/' -e 's/^constexpr auto EXPECTED_SKILL_EMA_ALPHA_COEF = .*; \\/\\/ OPTIMIZE LOG \\[0\\.02, 2\\.0\\]$/constexpr auto EXPECTED_SKILL_EMA_ALPHA_COEF = 0.6447609259341107; \\/\\/ OPTIMIZE LOG [0.02, 2.0]/' -e 's/^constexpr auto MAX_N_NOT_OPEN_TASKS_IN_QUEUE = .*; \\/\\/ OPTIMIZE \\[60, 100\\]$/constexpr auto MAX_N_NOT_OPEN_TASKS_IN_QUEUE = 100; \\/\\/ OPTIMIZE [60, 100]/' -e 's/^constexpr auto PRIORITY_DAY_OFFSET = .*;          \\/\\/ OPTIMIZE \\[400, 1200\\]$/constexpr auto PRIORITY_DAY_OFFSET = 688;          \\/\\/ OPTIMIZE [400, 1200]/' -e 's/^constexpr auto PRIORITY_COEF = .*; \\/\\/ OPTIMIZE LOG \\[0\\.002, 2\\.0\\]$/constexpr auto PRIORITY_COEF = 0.3943706842556851; \\/\\/ OPTIMIZE LOG [0.002, 2.0]/'\n",
      "clang++ 0237_main.cpp -std=gnu++17 -O2 -DONLINE_JUDGE -I/ -o 0237_main.cpp.out\n"
     ]
    },
    {
     "name": "stderr",
     "output_type": "stream",
     "text": [
      "\u001b[32m[I 2021-11-13 06:13:11,873]\u001b[0m Trial 235 finished with value: 1012298.0 and parameters: {'MCMC_Q_L2_NORM_RANGE': 10.372169205004473, 'MCMC_Q_RANGE': 0.9355116704261909, 'EXPECTED_SKILL_EMA_ALPHA_COEF': 0.9496676762853489, 'MAX_N_NOT_OPEN_TASKS_IN_QUEUE': 100, 'PRIORITY_DAY_OFFSET': 631, 'PRIORITY_COEF': 0.3401465610075729}. Best is trial 211 with value: 1013959.0.\u001b[0m\n"
     ]
    },
    {
     "name": "stdout",
     "output_type": "stream",
     "text": [
      "callback ok\n",
      "index_parallel='0238'\n",
      "sed -i 0238_main.cpp -e 's/^constexpr auto MCMC_Q_L2_NORM_RANGE = .*;           \\/\\/ OPTIMIZE LOG \\[2\\.0, 20\\.0\\]$/constexpr auto MCMC_Q_L2_NORM_RANGE = 8.07578170190571;           \\/\\/ OPTIMIZE LOG [2.0, 20.0]/' -e 's/^constexpr auto MCMC_Q_RANGE = .*;                   \\/\\/ OPTIMIZE LOG \\[0\\.2, 10\\.0\\]$/constexpr auto MCMC_Q_RANGE = 1.097113288975651;                   \\/\\/ OPTIMIZE LOG [0.2, 10.0]/' -e 's/^constexpr auto EXPECTED_SKILL_EMA_ALPHA_COEF = .*; \\/\\/ OPTIMIZE LOG \\[0\\.02, 2\\.0\\]$/constexpr auto EXPECTED_SKILL_EMA_ALPHA_COEF = 0.6267708168114097; \\/\\/ OPTIMIZE LOG [0.02, 2.0]/' -e 's/^constexpr auto MAX_N_NOT_OPEN_TASKS_IN_QUEUE = .*; \\/\\/ OPTIMIZE \\[60, 100\\]$/constexpr auto MAX_N_NOT_OPEN_TASKS_IN_QUEUE = 99; \\/\\/ OPTIMIZE [60, 100]/' -e 's/^constexpr auto PRIORITY_DAY_OFFSET = .*;          \\/\\/ OPTIMIZE \\[400, 1200\\]$/constexpr auto PRIORITY_DAY_OFFSET = 690;          \\/\\/ OPTIMIZE [400, 1200]/' -e 's/^constexpr auto PRIORITY_COEF = .*; \\/\\/ OPTIMIZE LOG \\[0\\.002, 2\\.0\\]$/constexpr auto PRIORITY_COEF = 0.417732317355665; \\/\\/ OPTIMIZE LOG [0.002, 2.0]/'\n",
      "clang++ 0238_main.cpp -std=gnu++17 -O2 -DONLINE_JUDGE -I/ -o 0238_main.cpp.out\n"
     ]
    },
    {
     "name": "stderr",
     "output_type": "stream",
     "text": [
      "\u001b[32m[I 2021-11-13 06:13:22,074]\u001b[0m Trial 236 finished with value: 1012262.0 and parameters: {'MCMC_Q_L2_NORM_RANGE': 8.020735001650234, 'MCMC_Q_RANGE': 0.9169866161679537, 'EXPECTED_SKILL_EMA_ALPHA_COEF': 0.6257264315512396, 'MAX_N_NOT_OPEN_TASKS_IN_QUEUE': 100, 'PRIORITY_DAY_OFFSET': 690, 'PRIORITY_COEF': 0.3245166039713105}. Best is trial 211 with value: 1013959.0.\u001b[0m\n"
     ]
    },
    {
     "name": "stdout",
     "output_type": "stream",
     "text": [
      "callback ok\n",
      "index_parallel='0239'\n",
      "sed -i 0239_main.cpp -e 's/^constexpr auto MCMC_Q_L2_NORM_RANGE = .*;           \\/\\/ OPTIMIZE LOG \\[2\\.0, 20\\.0\\]$/constexpr auto MCMC_Q_L2_NORM_RANGE = 8.832939706331066;           \\/\\/ OPTIMIZE LOG [2.0, 20.0]/' -e 's/^constexpr auto MCMC_Q_RANGE = .*;                   \\/\\/ OPTIMIZE LOG \\[0\\.2, 10\\.0\\]$/constexpr auto MCMC_Q_RANGE = 1.1090010570865685;                   \\/\\/ OPTIMIZE LOG [0.2, 10.0]/' -e 's/^constexpr auto EXPECTED_SKILL_EMA_ALPHA_COEF = .*; \\/\\/ OPTIMIZE LOG \\[0\\.02, 2\\.0\\]$/constexpr auto EXPECTED_SKILL_EMA_ALPHA_COEF = 0.7716824570475878; \\/\\/ OPTIMIZE LOG [0.02, 2.0]/' -e 's/^constexpr auto MAX_N_NOT_OPEN_TASKS_IN_QUEUE = .*; \\/\\/ OPTIMIZE \\[60, 100\\]$/constexpr auto MAX_N_NOT_OPEN_TASKS_IN_QUEUE = 98; \\/\\/ OPTIMIZE [60, 100]/' -e 's/^constexpr auto PRIORITY_DAY_OFFSET = .*;          \\/\\/ OPTIMIZE \\[400, 1200\\]$/constexpr auto PRIORITY_DAY_OFFSET = 685;          \\/\\/ OPTIMIZE [400, 1200]/' -e 's/^constexpr auto PRIORITY_COEF = .*; \\/\\/ OPTIMIZE LOG \\[0\\.002, 2\\.0\\]$/constexpr auto PRIORITY_COEF = 0.3743151780058433; \\/\\/ OPTIMIZE LOG [0.002, 2.0]/'\n",
      "clang++ 0239_main.cpp -std=gnu++17 -O2 -DONLINE_JUDGE -I/ -o 0239_main.cpp.out\n"
     ]
    },
    {
     "name": "stderr",
     "output_type": "stream",
     "text": [
      "\u001b[32m[I 2021-11-13 06:17:05,855]\u001b[0m Trial 237 finished with value: 1010717.0 and parameters: {'MCMC_Q_L2_NORM_RANGE': 8.817600401333097, 'MCMC_Q_RANGE': 1.0728399154755102, 'EXPECTED_SKILL_EMA_ALPHA_COEF': 0.6447609259341107, 'MAX_N_NOT_OPEN_TASKS_IN_QUEUE': 100, 'PRIORITY_DAY_OFFSET': 688, 'PRIORITY_COEF': 0.3943706842556851}. Best is trial 211 with value: 1013959.0.\u001b[0m\n"
     ]
    },
    {
     "name": "stdout",
     "output_type": "stream",
     "text": [
      "callback ok\n",
      "index_parallel='0240'\n",
      "sed -i 0240_main.cpp -e 's/^constexpr auto MCMC_Q_L2_NORM_RANGE = .*;           \\/\\/ OPTIMIZE LOG \\[2\\.0, 20\\.0\\]$/constexpr auto MCMC_Q_L2_NORM_RANGE = 8.234762417189287;           \\/\\/ OPTIMIZE LOG [2.0, 20.0]/' -e 's/^constexpr auto MCMC_Q_RANGE = .*;                   \\/\\/ OPTIMIZE LOG \\[0\\.2, 10\\.0\\]$/constexpr auto MCMC_Q_RANGE = 1.2146019725601596;                   \\/\\/ OPTIMIZE LOG [0.2, 10.0]/' -e 's/^constexpr auto EXPECTED_SKILL_EMA_ALPHA_COEF = .*; \\/\\/ OPTIMIZE LOG \\[0\\.02, 2\\.0\\]$/constexpr auto EXPECTED_SKILL_EMA_ALPHA_COEF = 0.770241887994401; \\/\\/ OPTIMIZE LOG [0.02, 2.0]/' -e 's/^constexpr auto MAX_N_NOT_OPEN_TASKS_IN_QUEUE = .*; \\/\\/ OPTIMIZE \\[60, 100\\]$/constexpr auto MAX_N_NOT_OPEN_TASKS_IN_QUEUE = 98; \\/\\/ OPTIMIZE [60, 100]/' -e 's/^constexpr auto PRIORITY_DAY_OFFSET = .*;          \\/\\/ OPTIMIZE \\[400, 1200\\]$/constexpr auto PRIORITY_DAY_OFFSET = 657;          \\/\\/ OPTIMIZE [400, 1200]/' -e 's/^constexpr auto PRIORITY_COEF = .*; \\/\\/ OPTIMIZE LOG \\[0\\.002, 2\\.0\\]$/constexpr auto PRIORITY_COEF = 0.40261121024812674; \\/\\/ OPTIMIZE LOG [0.002, 2.0]/'\n",
      "clang++ 0240_main.cpp -std=gnu++17 -O2 -DONLINE_JUDGE -I/ -o 0240_main.cpp.out\n"
     ]
    },
    {
     "name": "stderr",
     "output_type": "stream",
     "text": [
      "\u001b[32m[I 2021-11-13 06:17:27,918]\u001b[0m Trial 238 finished with value: 1013025.0 and parameters: {'MCMC_Q_L2_NORM_RANGE': 8.07578170190571, 'MCMC_Q_RANGE': 1.097113288975651, 'EXPECTED_SKILL_EMA_ALPHA_COEF': 0.6267708168114097, 'MAX_N_NOT_OPEN_TASKS_IN_QUEUE': 99, 'PRIORITY_DAY_OFFSET': 690, 'PRIORITY_COEF': 0.417732317355665}. Best is trial 211 with value: 1013959.0.\u001b[0m\n"
     ]
    },
    {
     "name": "stdout",
     "output_type": "stream",
     "text": [
      "callback ok\n",
      "index_parallel='0241'\n",
      "sed -i 0241_main.cpp -e 's/^constexpr auto MCMC_Q_L2_NORM_RANGE = .*;           \\/\\/ OPTIMIZE LOG \\[2\\.0, 20\\.0\\]$/constexpr auto MCMC_Q_L2_NORM_RANGE = 8.478841927859063;           \\/\\/ OPTIMIZE LOG [2.0, 20.0]/' -e 's/^constexpr auto MCMC_Q_RANGE = .*;                   \\/\\/ OPTIMIZE LOG \\[0\\.2, 10\\.0\\]$/constexpr auto MCMC_Q_RANGE = 1.1141491340381817;                   \\/\\/ OPTIMIZE LOG [0.2, 10.0]/' -e 's/^constexpr auto EXPECTED_SKILL_EMA_ALPHA_COEF = .*; \\/\\/ OPTIMIZE LOG \\[0\\.02, 2\\.0\\]$/constexpr auto EXPECTED_SKILL_EMA_ALPHA_COEF = 0.7676930174663342; \\/\\/ OPTIMIZE LOG [0.02, 2.0]/' -e 's/^constexpr auto MAX_N_NOT_OPEN_TASKS_IN_QUEUE = .*; \\/\\/ OPTIMIZE \\[60, 100\\]$/constexpr auto MAX_N_NOT_OPEN_TASKS_IN_QUEUE = 98; \\/\\/ OPTIMIZE [60, 100]/' -e 's/^constexpr auto PRIORITY_DAY_OFFSET = .*;          \\/\\/ OPTIMIZE \\[400, 1200\\]$/constexpr auto PRIORITY_DAY_OFFSET = 661;          \\/\\/ OPTIMIZE [400, 1200]/' -e 's/^constexpr auto PRIORITY_COEF = .*; \\/\\/ OPTIMIZE LOG \\[0\\.002, 2\\.0\\]$/constexpr auto PRIORITY_COEF = 0.4069756852562247; \\/\\/ OPTIMIZE LOG [0.002, 2.0]/'\n",
      "clang++ 0241_main.cpp -std=gnu++17 -O2 -DONLINE_JUDGE -I/ -o 0241_main.cpp.out\n"
     ]
    },
    {
     "name": "stderr",
     "output_type": "stream",
     "text": [
      "\u001b[32m[I 2021-11-13 06:17:37,469]\u001b[0m Trial 239 finished with value: 1011008.0 and parameters: {'MCMC_Q_L2_NORM_RANGE': 8.832939706331066, 'MCMC_Q_RANGE': 1.1090010570865685, 'EXPECTED_SKILL_EMA_ALPHA_COEF': 0.7716824570475878, 'MAX_N_NOT_OPEN_TASKS_IN_QUEUE': 98, 'PRIORITY_DAY_OFFSET': 685, 'PRIORITY_COEF': 0.3743151780058433}. Best is trial 211 with value: 1013959.0.\u001b[0m\n"
     ]
    },
    {
     "name": "stdout",
     "output_type": "stream",
     "text": [
      "callback ok\n",
      "index_parallel='0242'\n",
      "sed -i 0242_main.cpp -e 's/^constexpr auto MCMC_Q_L2_NORM_RANGE = .*;           \\/\\/ OPTIMIZE LOG \\[2\\.0, 20\\.0\\]$/constexpr auto MCMC_Q_L2_NORM_RANGE = 8.385434649347086;           \\/\\/ OPTIMIZE LOG [2.0, 20.0]/' -e 's/^constexpr auto MCMC_Q_RANGE = .*;                   \\/\\/ OPTIMIZE LOG \\[0\\.2, 10\\.0\\]$/constexpr auto MCMC_Q_RANGE = 0.9950515764233386;                   \\/\\/ OPTIMIZE LOG [0.2, 10.0]/' -e 's/^constexpr auto EXPECTED_SKILL_EMA_ALPHA_COEF = .*; \\/\\/ OPTIMIZE LOG \\[0\\.02, 2\\.0\\]$/constexpr auto EXPECTED_SKILL_EMA_ALPHA_COEF = 0.7005655036140889; \\/\\/ OPTIMIZE LOG [0.02, 2.0]/' -e 's/^constexpr auto MAX_N_NOT_OPEN_TASKS_IN_QUEUE = .*; \\/\\/ OPTIMIZE \\[60, 100\\]$/constexpr auto MAX_N_NOT_OPEN_TASKS_IN_QUEUE = 99; \\/\\/ OPTIMIZE [60, 100]/' -e 's/^constexpr auto PRIORITY_DAY_OFFSET = .*;          \\/\\/ OPTIMIZE \\[400, 1200\\]$/constexpr auto PRIORITY_DAY_OFFSET = 657;          \\/\\/ OPTIMIZE [400, 1200]/' -e 's/^constexpr auto PRIORITY_COEF = .*; \\/\\/ OPTIMIZE LOG \\[0\\.002, 2\\.0\\]$/constexpr auto PRIORITY_COEF = 0.4581179827369257; \\/\\/ OPTIMIZE LOG [0.002, 2.0]/'\n",
      "clang++ 0242_main.cpp -std=gnu++17 -O2 -DONLINE_JUDGE -I/ -o 0242_main.cpp.out\n"
     ]
    },
    {
     "name": "stderr",
     "output_type": "stream",
     "text": [
      "\u001b[32m[I 2021-11-13 06:21:25,461]\u001b[0m Trial 240 finished with value: 1012818.0 and parameters: {'MCMC_Q_L2_NORM_RANGE': 8.234762417189287, 'MCMC_Q_RANGE': 1.2146019725601596, 'EXPECTED_SKILL_EMA_ALPHA_COEF': 0.770241887994401, 'MAX_N_NOT_OPEN_TASKS_IN_QUEUE': 98, 'PRIORITY_DAY_OFFSET': 657, 'PRIORITY_COEF': 0.40261121024812674}. Best is trial 211 with value: 1013959.0.\u001b[0m\n"
     ]
    },
    {
     "name": "stdout",
     "output_type": "stream",
     "text": [
      "callback ok\n",
      "index_parallel='0243'\n",
      "sed -i 0243_main.cpp -e 's/^constexpr auto MCMC_Q_L2_NORM_RANGE = .*;           \\/\\/ OPTIMIZE LOG \\[2\\.0, 20\\.0\\]$/constexpr auto MCMC_Q_L2_NORM_RANGE = 8.01195461548698;           \\/\\/ OPTIMIZE LOG [2.0, 20.0]/' -e 's/^constexpr auto MCMC_Q_RANGE = .*;                   \\/\\/ OPTIMIZE LOG \\[0\\.2, 10\\.0\\]$/constexpr auto MCMC_Q_RANGE = 1.0483815438896567;                   \\/\\/ OPTIMIZE LOG [0.2, 10.0]/' -e 's/^constexpr auto EXPECTED_SKILL_EMA_ALPHA_COEF = .*; \\/\\/ OPTIMIZE LOG \\[0\\.02, 2\\.0\\]$/constexpr auto EXPECTED_SKILL_EMA_ALPHA_COEF = 0.7201203924908911; \\/\\/ OPTIMIZE LOG [0.02, 2.0]/' -e 's/^constexpr auto MAX_N_NOT_OPEN_TASKS_IN_QUEUE = .*; \\/\\/ OPTIMIZE \\[60, 100\\]$/constexpr auto MAX_N_NOT_OPEN_TASKS_IN_QUEUE = 99; \\/\\/ OPTIMIZE [60, 100]/' -e 's/^constexpr auto PRIORITY_DAY_OFFSET = .*;          \\/\\/ OPTIMIZE \\[400, 1200\\]$/constexpr auto PRIORITY_DAY_OFFSET = 662;          \\/\\/ OPTIMIZE [400, 1200]/' -e 's/^constexpr auto PRIORITY_COEF = .*; \\/\\/ OPTIMIZE LOG \\[0\\.002, 2\\.0\\]$/constexpr auto PRIORITY_COEF = 0.47599814133159907; \\/\\/ OPTIMIZE LOG [0.002, 2.0]/'\n",
      "clang++ 0243_main.cpp -std=gnu++17 -O2 -DONLINE_JUDGE -I/ -o 0243_main.cpp.out\n"
     ]
    },
    {
     "name": "stderr",
     "output_type": "stream",
     "text": [
      "\u001b[32m[I 2021-11-13 06:21:47,882]\u001b[0m Trial 241 finished with value: 1013447.0 and parameters: {'MCMC_Q_L2_NORM_RANGE': 8.478841927859063, 'MCMC_Q_RANGE': 1.1141491340381817, 'EXPECTED_SKILL_EMA_ALPHA_COEF': 0.7676930174663342, 'MAX_N_NOT_OPEN_TASKS_IN_QUEUE': 98, 'PRIORITY_DAY_OFFSET': 661, 'PRIORITY_COEF': 0.4069756852562247}. Best is trial 211 with value: 1013959.0.\u001b[0m\n"
     ]
    },
    {
     "name": "stdout",
     "output_type": "stream",
     "text": [
      "callback ok\n",
      "index_parallel='0244'\n",
      "sed -i 0244_main.cpp -e 's/^constexpr auto MCMC_Q_L2_NORM_RANGE = .*;           \\/\\/ OPTIMIZE LOG \\[2\\.0, 20\\.0\\]$/constexpr auto MCMC_Q_L2_NORM_RANGE = 8.137899966299907;           \\/\\/ OPTIMIZE LOG [2.0, 20.0]/' -e 's/^constexpr auto MCMC_Q_RANGE = .*;                   \\/\\/ OPTIMIZE LOG \\[0\\.2, 10\\.0\\]$/constexpr auto MCMC_Q_RANGE = 1.011849107127159;                   \\/\\/ OPTIMIZE LOG [0.2, 10.0]/' -e 's/^constexpr auto EXPECTED_SKILL_EMA_ALPHA_COEF = .*; \\/\\/ OPTIMIZE LOG \\[0\\.02, 2\\.0\\]$/constexpr auto EXPECTED_SKILL_EMA_ALPHA_COEF = 0.6982391766256664; \\/\\/ OPTIMIZE LOG [0.02, 2.0]/' -e 's/^constexpr auto MAX_N_NOT_OPEN_TASKS_IN_QUEUE = .*; \\/\\/ OPTIMIZE \\[60, 100\\]$/constexpr auto MAX_N_NOT_OPEN_TASKS_IN_QUEUE = 99; \\/\\/ OPTIMIZE [60, 100]/' -e 's/^constexpr auto PRIORITY_DAY_OFFSET = .*;          \\/\\/ OPTIMIZE \\[400, 1200\\]$/constexpr auto PRIORITY_DAY_OFFSET = 656;          \\/\\/ OPTIMIZE [400, 1200]/' -e 's/^constexpr auto PRIORITY_COEF = .*; \\/\\/ OPTIMIZE LOG \\[0\\.002, 2\\.0\\]$/constexpr auto PRIORITY_COEF = 0.4836041161498226; \\/\\/ OPTIMIZE LOG [0.002, 2.0]/'\n",
      "clang++ 0244_main.cpp -std=gnu++17 -O2 -DONLINE_JUDGE -I/ -o 0244_main.cpp.out\n"
     ]
    },
    {
     "name": "stderr",
     "output_type": "stream",
     "text": [
      "\u001b[32m[I 2021-11-13 06:21:56,272]\u001b[0m Trial 242 finished with value: 1012979.0 and parameters: {'MCMC_Q_L2_NORM_RANGE': 8.385434649347086, 'MCMC_Q_RANGE': 0.9950515764233386, 'EXPECTED_SKILL_EMA_ALPHA_COEF': 0.7005655036140889, 'MAX_N_NOT_OPEN_TASKS_IN_QUEUE': 99, 'PRIORITY_DAY_OFFSET': 657, 'PRIORITY_COEF': 0.4581179827369257}. Best is trial 211 with value: 1013959.0.\u001b[0m\n"
     ]
    },
    {
     "name": "stdout",
     "output_type": "stream",
     "text": [
      "callback ok\n",
      "index_parallel='0245'\n",
      "sed -i 0245_main.cpp -e 's/^constexpr auto MCMC_Q_L2_NORM_RANGE = .*;           \\/\\/ OPTIMIZE LOG \\[2\\.0, 20\\.0\\]$/constexpr auto MCMC_Q_L2_NORM_RANGE = 7.877453197920919;           \\/\\/ OPTIMIZE LOG [2.0, 20.0]/' -e 's/^constexpr auto MCMC_Q_RANGE = .*;                   \\/\\/ OPTIMIZE LOG \\[0\\.2, 10\\.0\\]$/constexpr auto MCMC_Q_RANGE = 1.02807134708411;                   \\/\\/ OPTIMIZE LOG [0.2, 10.0]/' -e 's/^constexpr auto EXPECTED_SKILL_EMA_ALPHA_COEF = .*; \\/\\/ OPTIMIZE LOG \\[0\\.02, 2\\.0\\]$/constexpr auto EXPECTED_SKILL_EMA_ALPHA_COEF = 0.7083216318762907; \\/\\/ OPTIMIZE LOG [0.02, 2.0]/' -e 's/^constexpr auto MAX_N_NOT_OPEN_TASKS_IN_QUEUE = .*; \\/\\/ OPTIMIZE \\[60, 100\\]$/constexpr auto MAX_N_NOT_OPEN_TASKS_IN_QUEUE = 99; \\/\\/ OPTIMIZE [60, 100]/' -e 's/^constexpr auto PRIORITY_DAY_OFFSET = .*;          \\/\\/ OPTIMIZE \\[400, 1200\\]$/constexpr auto PRIORITY_DAY_OFFSET = 650;          \\/\\/ OPTIMIZE [400, 1200]/' -e 's/^constexpr auto PRIORITY_COEF = .*; \\/\\/ OPTIMIZE LOG \\[0\\.002, 2\\.0\\]$/constexpr auto PRIORITY_COEF = 0.49263518654092253; \\/\\/ OPTIMIZE LOG [0.002, 2.0]/'\n",
      "clang++ 0245_main.cpp -std=gnu++17 -O2 -DONLINE_JUDGE -I/ -o 0245_main.cpp.out\n"
     ]
    },
    {
     "name": "stderr",
     "output_type": "stream",
     "text": [
      "\u001b[32m[I 2021-11-13 06:25:41,860]\u001b[0m Trial 243 finished with value: 1011391.0 and parameters: {'MCMC_Q_L2_NORM_RANGE': 8.01195461548698, 'MCMC_Q_RANGE': 1.0483815438896567, 'EXPECTED_SKILL_EMA_ALPHA_COEF': 0.7201203924908911, 'MAX_N_NOT_OPEN_TASKS_IN_QUEUE': 99, 'PRIORITY_DAY_OFFSET': 662, 'PRIORITY_COEF': 0.47599814133159907}. Best is trial 211 with value: 1013959.0.\u001b[0m\n"
     ]
    },
    {
     "name": "stdout",
     "output_type": "stream",
     "text": [
      "callback ok\n",
      "index_parallel='0246'\n",
      "sed -i 0246_main.cpp -e 's/^constexpr auto MCMC_Q_L2_NORM_RANGE = .*;           \\/\\/ OPTIMIZE LOG \\[2\\.0, 20\\.0\\]$/constexpr auto MCMC_Q_L2_NORM_RANGE = 7.68102964824569;           \\/\\/ OPTIMIZE LOG [2.0, 20.0]/' -e 's/^constexpr auto MCMC_Q_RANGE = .*;                   \\/\\/ OPTIMIZE LOG \\[0\\.2, 10\\.0\\]$/constexpr auto MCMC_Q_RANGE = 1.0017494301010421;                   \\/\\/ OPTIMIZE LOG [0.2, 10.0]/' -e 's/^constexpr auto EXPECTED_SKILL_EMA_ALPHA_COEF = .*; \\/\\/ OPTIMIZE LOG \\[0\\.02, 2\\.0\\]$/constexpr auto EXPECTED_SKILL_EMA_ALPHA_COEF = 0.6579395012385779; \\/\\/ OPTIMIZE LOG [0.02, 2.0]/' -e 's/^constexpr auto MAX_N_NOT_OPEN_TASKS_IN_QUEUE = .*; \\/\\/ OPTIMIZE \\[60, 100\\]$/constexpr auto MAX_N_NOT_OPEN_TASKS_IN_QUEUE = 99; \\/\\/ OPTIMIZE [60, 100]/' -e 's/^constexpr auto PRIORITY_DAY_OFFSET = .*;          \\/\\/ OPTIMIZE \\[400, 1200\\]$/constexpr auto PRIORITY_DAY_OFFSET = 651;          \\/\\/ OPTIMIZE [400, 1200]/' -e 's/^constexpr auto PRIORITY_COEF = .*; \\/\\/ OPTIMIZE LOG \\[0\\.002, 2\\.0\\]$/constexpr auto PRIORITY_COEF = 0.5902415095842752; \\/\\/ OPTIMIZE LOG [0.002, 2.0]/'\n",
      "clang++ 0246_main.cpp -std=gnu++17 -O2 -DONLINE_JUDGE -I/ -o 0246_main.cpp.out\n"
     ]
    },
    {
     "name": "stderr",
     "output_type": "stream",
     "text": [
      "\u001b[32m[I 2021-11-13 06:26:05,019]\u001b[0m Trial 244 finished with value: 1010881.0 and parameters: {'MCMC_Q_L2_NORM_RANGE': 8.137899966299907, 'MCMC_Q_RANGE': 1.011849107127159, 'EXPECTED_SKILL_EMA_ALPHA_COEF': 0.6982391766256664, 'MAX_N_NOT_OPEN_TASKS_IN_QUEUE': 99, 'PRIORITY_DAY_OFFSET': 656, 'PRIORITY_COEF': 0.4836041161498226}. Best is trial 211 with value: 1013959.0.\u001b[0m\n"
     ]
    },
    {
     "name": "stdout",
     "output_type": "stream",
     "text": [
      "callback ok\n",
      "index_parallel='0247'\n",
      "sed -i 0247_main.cpp -e 's/^constexpr auto MCMC_Q_L2_NORM_RANGE = .*;           \\/\\/ OPTIMIZE LOG \\[2\\.0, 20\\.0\\]$/constexpr auto MCMC_Q_L2_NORM_RANGE = 7.6024573673688245;           \\/\\/ OPTIMIZE LOG [2.0, 20.0]/' -e 's/^constexpr auto MCMC_Q_RANGE = .*;                   \\/\\/ OPTIMIZE LOG \\[0\\.2, 10\\.0\\]$/constexpr auto MCMC_Q_RANGE = 0.987025322974298;                   \\/\\/ OPTIMIZE LOG [0.2, 10.0]/' -e 's/^constexpr auto EXPECTED_SKILL_EMA_ALPHA_COEF = .*; \\/\\/ OPTIMIZE LOG \\[0\\.02, 2\\.0\\]$/constexpr auto EXPECTED_SKILL_EMA_ALPHA_COEF = 0.6357872339057244; \\/\\/ OPTIMIZE LOG [0.02, 2.0]/' -e 's/^constexpr auto MAX_N_NOT_OPEN_TASKS_IN_QUEUE = .*; \\/\\/ OPTIMIZE \\[60, 100\\]$/constexpr auto MAX_N_NOT_OPEN_TASKS_IN_QUEUE = 99; \\/\\/ OPTIMIZE [60, 100]/' -e 's/^constexpr auto PRIORITY_DAY_OFFSET = .*;          \\/\\/ OPTIMIZE \\[400, 1200\\]$/constexpr auto PRIORITY_DAY_OFFSET = 619;          \\/\\/ OPTIMIZE [400, 1200]/' -e 's/^constexpr auto PRIORITY_COEF = .*; \\/\\/ OPTIMIZE LOG \\[0\\.002, 2\\.0\\]$/constexpr auto PRIORITY_COEF = 0.5752569664541141; \\/\\/ OPTIMIZE LOG [0.002, 2.0]/'\n",
      "clang++ 0247_main.cpp -std=gnu++17 -O2 -DONLINE_JUDGE -I/ -o 0247_main.cpp.out\n"
     ]
    },
    {
     "name": "stderr",
     "output_type": "stream",
     "text": [
      "\u001b[32m[I 2021-11-13 06:26:13,716]\u001b[0m Trial 245 finished with value: 1011362.0 and parameters: {'MCMC_Q_L2_NORM_RANGE': 7.877453197920919, 'MCMC_Q_RANGE': 1.02807134708411, 'EXPECTED_SKILL_EMA_ALPHA_COEF': 0.7083216318762907, 'MAX_N_NOT_OPEN_TASKS_IN_QUEUE': 99, 'PRIORITY_DAY_OFFSET': 650, 'PRIORITY_COEF': 0.49263518654092253}. Best is trial 211 with value: 1013959.0.\u001b[0m\n"
     ]
    },
    {
     "name": "stdout",
     "output_type": "stream",
     "text": [
      "callback ok\n",
      "index_parallel='0248'\n",
      "sed -i 0248_main.cpp -e 's/^constexpr auto MCMC_Q_L2_NORM_RANGE = .*;           \\/\\/ OPTIMIZE LOG \\[2\\.0, 20\\.0\\]$/constexpr auto MCMC_Q_L2_NORM_RANGE = 9.04549236137957;           \\/\\/ OPTIMIZE LOG [2.0, 20.0]/' -e 's/^constexpr auto MCMC_Q_RANGE = .*;                   \\/\\/ OPTIMIZE LOG \\[0\\.2, 10\\.0\\]$/constexpr auto MCMC_Q_RANGE = 7.64147858134465;                   \\/\\/ OPTIMIZE LOG [0.2, 10.0]/' -e 's/^constexpr auto EXPECTED_SKILL_EMA_ALPHA_COEF = .*; \\/\\/ OPTIMIZE LOG \\[0\\.02, 2\\.0\\]$/constexpr auto EXPECTED_SKILL_EMA_ALPHA_COEF = 0.6453706604908622; \\/\\/ OPTIMIZE LOG [0.02, 2.0]/' -e 's/^constexpr auto MAX_N_NOT_OPEN_TASKS_IN_QUEUE = .*; \\/\\/ OPTIMIZE \\[60, 100\\]$/constexpr auto MAX_N_NOT_OPEN_TASKS_IN_QUEUE = 98; \\/\\/ OPTIMIZE [60, 100]/' -e 's/^constexpr auto PRIORITY_DAY_OFFSET = .*;          \\/\\/ OPTIMIZE \\[400, 1200\\]$/constexpr auto PRIORITY_DAY_OFFSET = 619;          \\/\\/ OPTIMIZE [400, 1200]/' -e 's/^constexpr auto PRIORITY_COEF = .*; \\/\\/ OPTIMIZE LOG \\[0\\.002, 2\\.0\\]$/constexpr auto PRIORITY_COEF = 0.6136732623547034; \\/\\/ OPTIMIZE LOG [0.002, 2.0]/'\n",
      "clang++ 0248_main.cpp -std=gnu++17 -O2 -DONLINE_JUDGE -I/ -o 0248_main.cpp.out\n"
     ]
    },
    {
     "name": "stderr",
     "output_type": "stream",
     "text": [
      "\u001b[32m[I 2021-11-13 06:29:57,736]\u001b[0m Trial 246 finished with value: 1013271.0 and parameters: {'MCMC_Q_L2_NORM_RANGE': 7.68102964824569, 'MCMC_Q_RANGE': 1.0017494301010421, 'EXPECTED_SKILL_EMA_ALPHA_COEF': 0.6579395012385779, 'MAX_N_NOT_OPEN_TASKS_IN_QUEUE': 99, 'PRIORITY_DAY_OFFSET': 651, 'PRIORITY_COEF': 0.5902415095842752}. Best is trial 211 with value: 1013959.0.\u001b[0m\n"
     ]
    },
    {
     "name": "stdout",
     "output_type": "stream",
     "text": [
      "callback ok\n",
      "index_parallel='0249'\n",
      "sed -i 0249_main.cpp -e 's/^constexpr auto MCMC_Q_L2_NORM_RANGE = .*;           \\/\\/ OPTIMIZE LOG \\[2\\.0, 20\\.0\\]$/constexpr auto MCMC_Q_L2_NORM_RANGE = 7.44253465303336;           \\/\\/ OPTIMIZE LOG [2.0, 20.0]/' -e 's/^constexpr auto MCMC_Q_RANGE = .*;                   \\/\\/ OPTIMIZE LOG \\[0\\.2, 10\\.0\\]$/constexpr auto MCMC_Q_RANGE = 1.143306071008334;                   \\/\\/ OPTIMIZE LOG [0.2, 10.0]/' -e 's/^constexpr auto EXPECTED_SKILL_EMA_ALPHA_COEF = .*; \\/\\/ OPTIMIZE LOG \\[0\\.02, 2\\.0\\]$/constexpr auto EXPECTED_SKILL_EMA_ALPHA_COEF = 0.6339375839788993; \\/\\/ OPTIMIZE LOG [0.02, 2.0]/' -e 's/^constexpr auto MAX_N_NOT_OPEN_TASKS_IN_QUEUE = .*; \\/\\/ OPTIMIZE \\[60, 100\\]$/constexpr auto MAX_N_NOT_OPEN_TASKS_IN_QUEUE = 98; \\/\\/ OPTIMIZE [60, 100]/' -e 's/^constexpr auto PRIORITY_DAY_OFFSET = .*;          \\/\\/ OPTIMIZE \\[400, 1200\\]$/constexpr auto PRIORITY_DAY_OFFSET = 619;          \\/\\/ OPTIMIZE [400, 1200]/' -e 's/^constexpr auto PRIORITY_COEF = .*; \\/\\/ OPTIMIZE LOG \\[0\\.002, 2\\.0\\]$/constexpr auto PRIORITY_COEF = 0.5967837989277599; \\/\\/ OPTIMIZE LOG [0.002, 2.0]/'\n",
      "clang++ 0249_main.cpp -std=gnu++17 -O2 -DONLINE_JUDGE -I/ -o 0249_main.cpp.out\n"
     ]
    },
    {
     "name": "stderr",
     "output_type": "stream",
     "text": [
      "\u001b[32m[I 2021-11-13 06:30:22,385]\u001b[0m Trial 247 finished with value: 1013439.0 and parameters: {'MCMC_Q_L2_NORM_RANGE': 7.6024573673688245, 'MCMC_Q_RANGE': 0.987025322974298, 'EXPECTED_SKILL_EMA_ALPHA_COEF': 0.6357872339057244, 'MAX_N_NOT_OPEN_TASKS_IN_QUEUE': 99, 'PRIORITY_DAY_OFFSET': 619, 'PRIORITY_COEF': 0.5752569664541141}. Best is trial 211 with value: 1013959.0.\u001b[0m\n"
     ]
    },
    {
     "name": "stdout",
     "output_type": "stream",
     "text": [
      "callback ok\n",
      "index_parallel='0250'\n",
      "sed -i 0250_main.cpp -e 's/^constexpr auto MCMC_Q_L2_NORM_RANGE = .*;           \\/\\/ OPTIMIZE LOG \\[2\\.0, 20\\.0\\]$/constexpr auto MCMC_Q_L2_NORM_RANGE = 7.5821312818843465;           \\/\\/ OPTIMIZE LOG [2.0, 20.0]/' -e 's/^constexpr auto MCMC_Q_RANGE = .*;                   \\/\\/ OPTIMIZE LOG \\[0\\.2, 10\\.0\\]$/constexpr auto MCMC_Q_RANGE = 1.1408741683793737;                   \\/\\/ OPTIMIZE LOG [0.2, 10.0]/' -e 's/^constexpr auto EXPECTED_SKILL_EMA_ALPHA_COEF = .*; \\/\\/ OPTIMIZE LOG \\[0\\.02, 2\\.0\\]$/constexpr auto EXPECTED_SKILL_EMA_ALPHA_COEF = 0.621988719703389; \\/\\/ OPTIMIZE LOG [0.02, 2.0]/' -e 's/^constexpr auto MAX_N_NOT_OPEN_TASKS_IN_QUEUE = .*; \\/\\/ OPTIMIZE \\[60, 100\\]$/constexpr auto MAX_N_NOT_OPEN_TASKS_IN_QUEUE = 98; \\/\\/ OPTIMIZE [60, 100]/' -e 's/^constexpr auto PRIORITY_DAY_OFFSET = .*;          \\/\\/ OPTIMIZE \\[400, 1200\\]$/constexpr auto PRIORITY_DAY_OFFSET = 623;          \\/\\/ OPTIMIZE [400, 1200]/' -e 's/^constexpr auto PRIORITY_COEF = .*; \\/\\/ OPTIMIZE LOG \\[0\\.002, 2\\.0\\]$/constexpr auto PRIORITY_COEF = 0.6267767879147464; \\/\\/ OPTIMIZE LOG [0.002, 2.0]/'\n",
      "clang++ 0250_main.cpp -std=gnu++17 -O2 -DONLINE_JUDGE -I/ -o 0250_main.cpp.out\n"
     ]
    },
    {
     "name": "stderr",
     "output_type": "stream",
     "text": [
      "\u001b[32m[I 2021-11-13 06:30:32,206]\u001b[0m Trial 248 finished with value: 1007619.0 and parameters: {'MCMC_Q_L2_NORM_RANGE': 9.04549236137957, 'MCMC_Q_RANGE': 7.64147858134465, 'EXPECTED_SKILL_EMA_ALPHA_COEF': 0.6453706604908622, 'MAX_N_NOT_OPEN_TASKS_IN_QUEUE': 98, 'PRIORITY_DAY_OFFSET': 619, 'PRIORITY_COEF': 0.6136732623547034}. Best is trial 211 with value: 1013959.0.\u001b[0m\n"
     ]
    },
    {
     "name": "stdout",
     "output_type": "stream",
     "text": [
      "callback ok\n",
      "index_parallel='0251'\n",
      "sed -i 0251_main.cpp -e 's/^constexpr auto MCMC_Q_L2_NORM_RANGE = .*;           \\/\\/ OPTIMIZE LOG \\[2\\.0, 20\\.0\\]$/constexpr auto MCMC_Q_L2_NORM_RANGE = 7.473667385149741;           \\/\\/ OPTIMIZE LOG [2.0, 20.0]/' -e 's/^constexpr auto MCMC_Q_RANGE = .*;                   \\/\\/ OPTIMIZE LOG \\[0\\.2, 10\\.0\\]$/constexpr auto MCMC_Q_RANGE = 1.1387048411207394;                   \\/\\/ OPTIMIZE LOG [0.2, 10.0]/' -e 's/^constexpr auto EXPECTED_SKILL_EMA_ALPHA_COEF = .*; \\/\\/ OPTIMIZE LOG \\[0\\.02, 2\\.0\\]$/constexpr auto EXPECTED_SKILL_EMA_ALPHA_COEF = 0.6142109749725553; \\/\\/ OPTIMIZE LOG [0.02, 2.0]/' -e 's/^constexpr auto MAX_N_NOT_OPEN_TASKS_IN_QUEUE = .*; \\/\\/ OPTIMIZE \\[60, 100\\]$/constexpr auto MAX_N_NOT_OPEN_TASKS_IN_QUEUE = 98; \\/\\/ OPTIMIZE [60, 100]/' -e 's/^constexpr auto PRIORITY_DAY_OFFSET = .*;          \\/\\/ OPTIMIZE \\[400, 1200\\]$/constexpr auto PRIORITY_DAY_OFFSET = 627;          \\/\\/ OPTIMIZE [400, 1200]/' -e 's/^constexpr auto PRIORITY_COEF = .*; \\/\\/ OPTIMIZE LOG \\[0\\.002, 2\\.0\\]$/constexpr auto PRIORITY_COEF = 0.5080790607942469; \\/\\/ OPTIMIZE LOG [0.002, 2.0]/'\n",
      "clang++ 0251_main.cpp -std=gnu++17 -O2 -DONLINE_JUDGE -I/ -o 0251_main.cpp.out\n"
     ]
    },
    {
     "name": "stderr",
     "output_type": "stream",
     "text": [
      "\u001b[32m[I 2021-11-13 06:34:13,408]\u001b[0m Trial 249 finished with value: 1012160.0 and parameters: {'MCMC_Q_L2_NORM_RANGE': 7.44253465303336, 'MCMC_Q_RANGE': 1.143306071008334, 'EXPECTED_SKILL_EMA_ALPHA_COEF': 0.6339375839788993, 'MAX_N_NOT_OPEN_TASKS_IN_QUEUE': 98, 'PRIORITY_DAY_OFFSET': 619, 'PRIORITY_COEF': 0.5967837989277599}. Best is trial 211 with value: 1013959.0.\u001b[0m\n"
     ]
    },
    {
     "name": "stdout",
     "output_type": "stream",
     "text": [
      "callback ok\n",
      "index_parallel='0252'\n",
      "sed -i 0252_main.cpp -e 's/^constexpr auto MCMC_Q_L2_NORM_RANGE = .*;           \\/\\/ OPTIMIZE LOG \\[2\\.0, 20\\.0\\]$/constexpr auto MCMC_Q_L2_NORM_RANGE = 7.725057245544036;           \\/\\/ OPTIMIZE LOG [2.0, 20.0]/' -e 's/^constexpr auto MCMC_Q_RANGE = .*;                   \\/\\/ OPTIMIZE LOG \\[0\\.2, 10\\.0\\]$/constexpr auto MCMC_Q_RANGE = 1.175695019490402;                   \\/\\/ OPTIMIZE LOG [0.2, 10.0]/' -e 's/^constexpr auto EXPECTED_SKILL_EMA_ALPHA_COEF = .*; \\/\\/ OPTIMIZE LOG \\[0\\.02, 2\\.0\\]$/constexpr auto EXPECTED_SKILL_EMA_ALPHA_COEF = 0.6088375408563393; \\/\\/ OPTIMIZE LOG [0.02, 2.0]/' -e 's/^constexpr auto MAX_N_NOT_OPEN_TASKS_IN_QUEUE = .*; \\/\\/ OPTIMIZE \\[60, 100\\]$/constexpr auto MAX_N_NOT_OPEN_TASKS_IN_QUEUE = 100; \\/\\/ OPTIMIZE [60, 100]/' -e 's/^constexpr auto PRIORITY_DAY_OFFSET = .*;          \\/\\/ OPTIMIZE \\[400, 1200\\]$/constexpr auto PRIORITY_DAY_OFFSET = 633;          \\/\\/ OPTIMIZE [400, 1200]/' -e 's/^constexpr auto PRIORITY_COEF = .*; \\/\\/ OPTIMIZE LOG \\[0\\.002, 2\\.0\\]$/constexpr auto PRIORITY_COEF = 0.6661715624607802; \\/\\/ OPTIMIZE LOG [0.002, 2.0]/'\n",
      "clang++ 0252_main.cpp -std=gnu++17 -O2 -DONLINE_JUDGE -I/ -o 0252_main.cpp.out\n"
     ]
    },
    {
     "name": "stderr",
     "output_type": "stream",
     "text": [
      "\u001b[32m[I 2021-11-13 06:34:38,211]\u001b[0m Trial 250 finished with value: 1012192.0 and parameters: {'MCMC_Q_L2_NORM_RANGE': 7.5821312818843465, 'MCMC_Q_RANGE': 1.1408741683793737, 'EXPECTED_SKILL_EMA_ALPHA_COEF': 0.621988719703389, 'MAX_N_NOT_OPEN_TASKS_IN_QUEUE': 98, 'PRIORITY_DAY_OFFSET': 623, 'PRIORITY_COEF': 0.6267767879147464}. Best is trial 211 with value: 1013959.0.\u001b[0m\n"
     ]
    },
    {
     "name": "stdout",
     "output_type": "stream",
     "text": [
      "callback ok\n",
      "index_parallel='0253'\n",
      "sed -i 0253_main.cpp -e 's/^constexpr auto MCMC_Q_L2_NORM_RANGE = .*;           \\/\\/ OPTIMIZE LOG \\[2\\.0, 20\\.0\\]$/constexpr auto MCMC_Q_L2_NORM_RANGE = 8.334630882607712;           \\/\\/ OPTIMIZE LOG [2.0, 20.0]/' -e 's/^constexpr auto MCMC_Q_RANGE = .*;                   \\/\\/ OPTIMIZE LOG \\[0\\.2, 10\\.0\\]$/constexpr auto MCMC_Q_RANGE = 1.1256795263179558;                   \\/\\/ OPTIMIZE LOG [0.2, 10.0]/' -e 's/^constexpr auto EXPECTED_SKILL_EMA_ALPHA_COEF = .*; \\/\\/ OPTIMIZE LOG \\[0\\.02, 2\\.0\\]$/constexpr auto EXPECTED_SKILL_EMA_ALPHA_COEF = 0.8168409553246608; \\/\\/ OPTIMIZE LOG [0.02, 2.0]/' -e 's/^constexpr auto MAX_N_NOT_OPEN_TASKS_IN_QUEUE = .*; \\/\\/ OPTIMIZE \\[60, 100\\]$/constexpr auto MAX_N_NOT_OPEN_TASKS_IN_QUEUE = 100; \\/\\/ OPTIMIZE [60, 100]/' -e 's/^constexpr auto PRIORITY_DAY_OFFSET = .*;          \\/\\/ OPTIMIZE \\[400, 1200\\]$/constexpr auto PRIORITY_DAY_OFFSET = 639;          \\/\\/ OPTIMIZE [400, 1200]/' -e 's/^constexpr auto PRIORITY_COEF = .*; \\/\\/ OPTIMIZE LOG \\[0\\.002, 2\\.0\\]$/constexpr auto PRIORITY_COEF = 0.8991410584275548; \\/\\/ OPTIMIZE LOG [0.002, 2.0]/'\n",
      "clang++ 0253_main.cpp -std=gnu++17 -O2 -DONLINE_JUDGE -I/ -o 0253_main.cpp.out\n"
     ]
    },
    {
     "name": "stderr",
     "output_type": "stream",
     "text": [
      "\u001b[32m[I 2021-11-13 06:34:47,892]\u001b[0m Trial 251 finished with value: 1012265.0 and parameters: {'MCMC_Q_L2_NORM_RANGE': 7.473667385149741, 'MCMC_Q_RANGE': 1.1387048411207394, 'EXPECTED_SKILL_EMA_ALPHA_COEF': 0.6142109749725553, 'MAX_N_NOT_OPEN_TASKS_IN_QUEUE': 98, 'PRIORITY_DAY_OFFSET': 627, 'PRIORITY_COEF': 0.5080790607942469}. Best is trial 211 with value: 1013959.0.\u001b[0m\n"
     ]
    },
    {
     "name": "stdout",
     "output_type": "stream",
     "text": [
      "callback ok\n",
      "index_parallel='0254'\n",
      "sed -i 0254_main.cpp -e 's/^constexpr auto MCMC_Q_L2_NORM_RANGE = .*;           \\/\\/ OPTIMIZE LOG \\[2\\.0, 20\\.0\\]$/constexpr auto MCMC_Q_L2_NORM_RANGE = 8.276385741193328;           \\/\\/ OPTIMIZE LOG [2.0, 20.0]/' -e 's/^constexpr auto MCMC_Q_RANGE = .*;                   \\/\\/ OPTIMIZE LOG \\[0\\.2, 10\\.0\\]$/constexpr auto MCMC_Q_RANGE = 1.2252769247893782;                   \\/\\/ OPTIMIZE LOG [0.2, 10.0]/' -e 's/^constexpr auto EXPECTED_SKILL_EMA_ALPHA_COEF = .*; \\/\\/ OPTIMIZE LOG \\[0\\.02, 2\\.0\\]$/constexpr auto EXPECTED_SKILL_EMA_ALPHA_COEF = 0.6925511371790393; \\/\\/ OPTIMIZE LOG [0.02, 2.0]/' -e 's/^constexpr auto MAX_N_NOT_OPEN_TASKS_IN_QUEUE = .*; \\/\\/ OPTIMIZE \\[60, 100\\]$/constexpr auto MAX_N_NOT_OPEN_TASKS_IN_QUEUE = 100; \\/\\/ OPTIMIZE [60, 100]/' -e 's/^constexpr auto PRIORITY_DAY_OFFSET = .*;          \\/\\/ OPTIMIZE \\[400, 1200\\]$/constexpr auto PRIORITY_DAY_OFFSET = 637;          \\/\\/ OPTIMIZE [400, 1200]/' -e 's/^constexpr auto PRIORITY_COEF = .*; \\/\\/ OPTIMIZE LOG \\[0\\.002, 2\\.0\\]$/constexpr auto PRIORITY_COEF = 0.7729397727782725; \\/\\/ OPTIMIZE LOG [0.002, 2.0]/'\n",
      "clang++ 0254_main.cpp -std=gnu++17 -O2 -DONLINE_JUDGE -I/ -o 0254_main.cpp.out\n"
     ]
    },
    {
     "name": "stderr",
     "output_type": "stream",
     "text": [
      "\u001b[32m[I 2021-11-13 06:38:29,813]\u001b[0m Trial 252 finished with value: 1012019.0 and parameters: {'MCMC_Q_L2_NORM_RANGE': 7.725057245544036, 'MCMC_Q_RANGE': 1.175695019490402, 'EXPECTED_SKILL_EMA_ALPHA_COEF': 0.6088375408563393, 'MAX_N_NOT_OPEN_TASKS_IN_QUEUE': 100, 'PRIORITY_DAY_OFFSET': 633, 'PRIORITY_COEF': 0.6661715624607802}. Best is trial 211 with value: 1013959.0.\u001b[0m\n"
     ]
    },
    {
     "name": "stdout",
     "output_type": "stream",
     "text": [
      "callback ok\n",
      "index_parallel='0255'\n",
      "sed -i 0255_main.cpp -e 's/^constexpr auto MCMC_Q_L2_NORM_RANGE = .*;           \\/\\/ OPTIMIZE LOG \\[2\\.0, 20\\.0\\]$/constexpr auto MCMC_Q_L2_NORM_RANGE = 8.276479171986036;           \\/\\/ OPTIMIZE LOG [2.0, 20.0]/' -e 's/^constexpr auto MCMC_Q_RANGE = .*;                   \\/\\/ OPTIMIZE LOG \\[0\\.2, 10\\.0\\]$/constexpr auto MCMC_Q_RANGE = 0.8745534670317598;                   \\/\\/ OPTIMIZE LOG [0.2, 10.0]/' -e 's/^constexpr auto EXPECTED_SKILL_EMA_ALPHA_COEF = .*; \\/\\/ OPTIMIZE LOG \\[0\\.02, 2\\.0\\]$/constexpr auto EXPECTED_SKILL_EMA_ALPHA_COEF = 0.6837958466769879; \\/\\/ OPTIMIZE LOG [0.02, 2.0]/' -e 's/^constexpr auto MAX_N_NOT_OPEN_TASKS_IN_QUEUE = .*; \\/\\/ OPTIMIZE \\[60, 100\\]$/constexpr auto MAX_N_NOT_OPEN_TASKS_IN_QUEUE = 100; \\/\\/ OPTIMIZE [60, 100]/' -e 's/^constexpr auto PRIORITY_DAY_OFFSET = .*;          \\/\\/ OPTIMIZE \\[400, 1200\\]$/constexpr auto PRIORITY_DAY_OFFSET = 653;          \\/\\/ OPTIMIZE [400, 1200]/' -e 's/^constexpr auto PRIORITY_COEF = .*; \\/\\/ OPTIMIZE LOG \\[0\\.002, 2\\.0\\]$/constexpr auto PRIORITY_COEF = 0.5648303514960671; \\/\\/ OPTIMIZE LOG [0.002, 2.0]/'\n",
      "clang++ 0255_main.cpp -std=gnu++17 -O2 -DONLINE_JUDGE -I/ -o 0255_main.cpp.out\n"
     ]
    },
    {
     "name": "stderr",
     "output_type": "stream",
     "text": [
      "\u001b[32m[I 2021-11-13 06:38:53,482]\u001b[0m Trial 253 finished with value: 1011527.0 and parameters: {'MCMC_Q_L2_NORM_RANGE': 8.334630882607712, 'MCMC_Q_RANGE': 1.1256795263179558, 'EXPECTED_SKILL_EMA_ALPHA_COEF': 0.8168409553246608, 'MAX_N_NOT_OPEN_TASKS_IN_QUEUE': 100, 'PRIORITY_DAY_OFFSET': 639, 'PRIORITY_COEF': 0.8991410584275548}. Best is trial 211 with value: 1013959.0.\u001b[0m\n"
     ]
    },
    {
     "name": "stdout",
     "output_type": "stream",
     "text": [
      "callback ok\n",
      "index_parallel='0256'\n",
      "sed -i 0256_main.cpp -e 's/^constexpr auto MCMC_Q_L2_NORM_RANGE = .*;           \\/\\/ OPTIMIZE LOG \\[2\\.0, 20\\.0\\]$/constexpr auto MCMC_Q_L2_NORM_RANGE = 8.365811588747823;           \\/\\/ OPTIMIZE LOG [2.0, 20.0]/' -e 's/^constexpr auto MCMC_Q_RANGE = .*;                   \\/\\/ OPTIMIZE LOG \\[0\\.2, 10\\.0\\]$/constexpr auto MCMC_Q_RANGE = 0.8857369041512072;                   \\/\\/ OPTIMIZE LOG [0.2, 10.0]/' -e 's/^constexpr auto EXPECTED_SKILL_EMA_ALPHA_COEF = .*; \\/\\/ OPTIMIZE LOG \\[0\\.02, 2\\.0\\]$/constexpr auto EXPECTED_SKILL_EMA_ALPHA_COEF = 0.6950293307984486; \\/\\/ OPTIMIZE LOG [0.02, 2.0]/' -e 's/^constexpr auto MAX_N_NOT_OPEN_TASKS_IN_QUEUE = .*; \\/\\/ OPTIMIZE \\[60, 100\\]$/constexpr auto MAX_N_NOT_OPEN_TASKS_IN_QUEUE = 100; \\/\\/ OPTIMIZE [60, 100]/' -e 's/^constexpr auto PRIORITY_DAY_OFFSET = .*;          \\/\\/ OPTIMIZE \\[400, 1200\\]$/constexpr auto PRIORITY_DAY_OFFSET = 661;          \\/\\/ OPTIMIZE [400, 1200]/' -e 's/^constexpr auto PRIORITY_COEF = .*; \\/\\/ OPTIMIZE LOG \\[0\\.002, 2\\.0\\]$/constexpr auto PRIORITY_COEF = 0.5546321264151982; \\/\\/ OPTIMIZE LOG [0.002, 2.0]/'\n",
      "clang++ 0256_main.cpp -std=gnu++17 -O2 -DONLINE_JUDGE -I/ -o 0256_main.cpp.out\n"
     ]
    },
    {
     "name": "stderr",
     "output_type": "stream",
     "text": [
      "\u001b[32m[I 2021-11-13 06:39:04,211]\u001b[0m Trial 254 finished with value: 1012128.0 and parameters: {'MCMC_Q_L2_NORM_RANGE': 8.276385741193328, 'MCMC_Q_RANGE': 1.2252769247893782, 'EXPECTED_SKILL_EMA_ALPHA_COEF': 0.6925511371790393, 'MAX_N_NOT_OPEN_TASKS_IN_QUEUE': 100, 'PRIORITY_DAY_OFFSET': 637, 'PRIORITY_COEF': 0.7729397727782725}. Best is trial 211 with value: 1013959.0.\u001b[0m\n"
     ]
    },
    {
     "name": "stdout",
     "output_type": "stream",
     "text": [
      "callback ok\n",
      "index_parallel='0257'\n",
      "sed -i 0257_main.cpp -e 's/^constexpr auto MCMC_Q_L2_NORM_RANGE = .*;           \\/\\/ OPTIMIZE LOG \\[2\\.0, 20\\.0\\]$/constexpr auto MCMC_Q_L2_NORM_RANGE = 8.51953443323534;           \\/\\/ OPTIMIZE LOG [2.0, 20.0]/' -e 's/^constexpr auto MCMC_Q_RANGE = .*;                   \\/\\/ OPTIMIZE LOG \\[0\\.2, 10\\.0\\]$/constexpr auto MCMC_Q_RANGE = 0.8867002489478653;                   \\/\\/ OPTIMIZE LOG [0.2, 10.0]/' -e 's/^constexpr auto EXPECTED_SKILL_EMA_ALPHA_COEF = .*; \\/\\/ OPTIMIZE LOG \\[0\\.02, 2\\.0\\]$/constexpr auto EXPECTED_SKILL_EMA_ALPHA_COEF = 0.7421145865089496; \\/\\/ OPTIMIZE LOG [0.02, 2.0]/' -e 's/^constexpr auto MAX_N_NOT_OPEN_TASKS_IN_QUEUE = .*; \\/\\/ OPTIMIZE \\[60, 100\\]$/constexpr auto MAX_N_NOT_OPEN_TASKS_IN_QUEUE = 99; \\/\\/ OPTIMIZE [60, 100]/' -e 's/^constexpr auto PRIORITY_DAY_OFFSET = .*;          \\/\\/ OPTIMIZE \\[400, 1200\\]$/constexpr auto PRIORITY_DAY_OFFSET = 661;          \\/\\/ OPTIMIZE [400, 1200]/' -e 's/^constexpr auto PRIORITY_COEF = .*; \\/\\/ OPTIMIZE LOG \\[0\\.002, 2\\.0\\]$/constexpr auto PRIORITY_COEF = 0.5458843256522771; \\/\\/ OPTIMIZE LOG [0.002, 2.0]/'\n",
      "clang++ 0257_main.cpp -std=gnu++17 -O2 -DONLINE_JUDGE -I/ -o 0257_main.cpp.out\n"
     ]
    },
    {
     "name": "stderr",
     "output_type": "stream",
     "text": [
      "\u001b[32m[I 2021-11-13 06:42:47,026]\u001b[0m Trial 255 finished with value: 1013922.0 and parameters: {'MCMC_Q_L2_NORM_RANGE': 8.276479171986036, 'MCMC_Q_RANGE': 0.8745534670317598, 'EXPECTED_SKILL_EMA_ALPHA_COEF': 0.6837958466769879, 'MAX_N_NOT_OPEN_TASKS_IN_QUEUE': 100, 'PRIORITY_DAY_OFFSET': 653, 'PRIORITY_COEF': 0.5648303514960671}. Best is trial 211 with value: 1013959.0.\u001b[0m\n"
     ]
    },
    {
     "name": "stdout",
     "output_type": "stream",
     "text": [
      "callback ok\n",
      "index_parallel='0258'\n",
      "sed -i 0258_main.cpp -e 's/^constexpr auto MCMC_Q_L2_NORM_RANGE = .*;           \\/\\/ OPTIMIZE LOG \\[2\\.0, 20\\.0\\]$/constexpr auto MCMC_Q_L2_NORM_RANGE = 7.89156253645427;           \\/\\/ OPTIMIZE LOG [2.0, 20.0]/' -e 's/^constexpr auto MCMC_Q_RANGE = .*;                   \\/\\/ OPTIMIZE LOG \\[0\\.2, 10\\.0\\]$/constexpr auto MCMC_Q_RANGE = 0.8665253512890319;                   \\/\\/ OPTIMIZE LOG [0.2, 10.0]/' -e 's/^constexpr auto EXPECTED_SKILL_EMA_ALPHA_COEF = .*; \\/\\/ OPTIMIZE LOG \\[0\\.02, 2\\.0\\]$/constexpr auto EXPECTED_SKILL_EMA_ALPHA_COEF = 0.6700765180393383; \\/\\/ OPTIMIZE LOG [0.02, 2.0]/' -e 's/^constexpr auto MAX_N_NOT_OPEN_TASKS_IN_QUEUE = .*; \\/\\/ OPTIMIZE \\[60, 100\\]$/constexpr auto MAX_N_NOT_OPEN_TASKS_IN_QUEUE = 99; \\/\\/ OPTIMIZE [60, 100]/' -e 's/^constexpr auto PRIORITY_DAY_OFFSET = .*;          \\/\\/ OPTIMIZE \\[400, 1200\\]$/constexpr auto PRIORITY_DAY_OFFSET = 663;          \\/\\/ OPTIMIZE [400, 1200]/' -e 's/^constexpr auto PRIORITY_COEF = .*; \\/\\/ OPTIMIZE LOG \\[0\\.002, 2\\.0\\]$/constexpr auto PRIORITY_COEF = 0.5475003633954582; \\/\\/ OPTIMIZE LOG [0.002, 2.0]/'\n",
      "clang++ 0258_main.cpp -std=gnu++17 -O2 -DONLINE_JUDGE -I/ -o 0258_main.cpp.out\n"
     ]
    },
    {
     "name": "stderr",
     "output_type": "stream",
     "text": [
      "\u001b[32m[I 2021-11-13 06:43:11,110]\u001b[0m Trial 256 finished with value: 1012065.0 and parameters: {'MCMC_Q_L2_NORM_RANGE': 8.365811588747823, 'MCMC_Q_RANGE': 0.8857369041512072, 'EXPECTED_SKILL_EMA_ALPHA_COEF': 0.6950293307984486, 'MAX_N_NOT_OPEN_TASKS_IN_QUEUE': 100, 'PRIORITY_DAY_OFFSET': 661, 'PRIORITY_COEF': 0.5546321264151982}. Best is trial 211 with value: 1013959.0.\u001b[0m\n"
     ]
    },
    {
     "name": "stdout",
     "output_type": "stream",
     "text": [
      "callback ok\n",
      "index_parallel='0259'\n",
      "sed -i 0259_main.cpp -e 's/^constexpr auto MCMC_Q_L2_NORM_RANGE = .*;           \\/\\/ OPTIMIZE LOG \\[2\\.0, 20\\.0\\]$/constexpr auto MCMC_Q_L2_NORM_RANGE = 7.822021630583093;           \\/\\/ OPTIMIZE LOG [2.0, 20.0]/' -e 's/^constexpr auto MCMC_Q_RANGE = .*;                   \\/\\/ OPTIMIZE LOG \\[0\\.2, 10\\.0\\]$/constexpr auto MCMC_Q_RANGE = 0.7779459947536359;                   \\/\\/ OPTIMIZE LOG [0.2, 10.0]/' -e 's/^constexpr auto EXPECTED_SKILL_EMA_ALPHA_COEF = .*; \\/\\/ OPTIMIZE LOG \\[0\\.02, 2\\.0\\]$/constexpr auto EXPECTED_SKILL_EMA_ALPHA_COEF = 0.7527090198070806; \\/\\/ OPTIMIZE LOG [0.02, 2.0]/' -e 's/^constexpr auto MAX_N_NOT_OPEN_TASKS_IN_QUEUE = .*; \\/\\/ OPTIMIZE \\[60, 100\\]$/constexpr auto MAX_N_NOT_OPEN_TASKS_IN_QUEUE = 99; \\/\\/ OPTIMIZE [60, 100]/' -e 's/^constexpr auto PRIORITY_DAY_OFFSET = .*;          \\/\\/ OPTIMIZE \\[400, 1200\\]$/constexpr auto PRIORITY_DAY_OFFSET = 668;          \\/\\/ OPTIMIZE [400, 1200]/' -e 's/^constexpr auto PRIORITY_COEF = .*; \\/\\/ OPTIMIZE LOG \\[0\\.002, 2\\.0\\]$/constexpr auto PRIORITY_COEF = 0.4045678100365833; \\/\\/ OPTIMIZE LOG [0.002, 2.0]/'\n",
      "clang++ 0259_main.cpp -std=gnu++17 -O2 -DONLINE_JUDGE -I/ -o 0259_main.cpp.out\n"
     ]
    },
    {
     "name": "stderr",
     "output_type": "stream",
     "text": [
      "\u001b[32m[I 2021-11-13 06:43:20,836]\u001b[0m Trial 257 finished with value: 1011170.0 and parameters: {'MCMC_Q_L2_NORM_RANGE': 8.51953443323534, 'MCMC_Q_RANGE': 0.8867002489478653, 'EXPECTED_SKILL_EMA_ALPHA_COEF': 0.7421145865089496, 'MAX_N_NOT_OPEN_TASKS_IN_QUEUE': 99, 'PRIORITY_DAY_OFFSET': 661, 'PRIORITY_COEF': 0.5458843256522771}. Best is trial 211 with value: 1013959.0.\u001b[0m\n"
     ]
    },
    {
     "name": "stdout",
     "output_type": "stream",
     "text": [
      "callback ok\n",
      "index_parallel='0260'\n",
      "sed -i 0260_main.cpp -e 's/^constexpr auto MCMC_Q_L2_NORM_RANGE = .*;           \\/\\/ OPTIMIZE LOG \\[2\\.0, 20\\.0\\]$/constexpr auto MCMC_Q_L2_NORM_RANGE = 7.783387562760386;           \\/\\/ OPTIMIZE LOG [2.0, 20.0]/' -e 's/^constexpr auto MCMC_Q_RANGE = .*;                   \\/\\/ OPTIMIZE LOG \\[0\\.2, 10\\.0\\]$/constexpr auto MCMC_Q_RANGE = 0.9953708376119065;                   \\/\\/ OPTIMIZE LOG [0.2, 10.0]/' -e 's/^constexpr auto EXPECTED_SKILL_EMA_ALPHA_COEF = .*; \\/\\/ OPTIMIZE LOG \\[0\\.02, 2\\.0\\]$/constexpr auto EXPECTED_SKILL_EMA_ALPHA_COEF = 0.5600307348884317; \\/\\/ OPTIMIZE LOG [0.02, 2.0]/' -e 's/^constexpr auto MAX_N_NOT_OPEN_TASKS_IN_QUEUE = .*; \\/\\/ OPTIMIZE \\[60, 100\\]$/constexpr auto MAX_N_NOT_OPEN_TASKS_IN_QUEUE = 98; \\/\\/ OPTIMIZE [60, 100]/' -e 's/^constexpr auto PRIORITY_DAY_OFFSET = .*;          \\/\\/ OPTIMIZE \\[400, 1200\\]$/constexpr auto PRIORITY_DAY_OFFSET = 648;          \\/\\/ OPTIMIZE [400, 1200]/' -e 's/^constexpr auto PRIORITY_COEF = .*; \\/\\/ OPTIMIZE LOG \\[0\\.002, 2\\.0\\]$/constexpr auto PRIORITY_COEF = 0.4113625680959482; \\/\\/ OPTIMIZE LOG [0.002, 2.0]/'\n",
      "clang++ 0260_main.cpp -std=gnu++17 -O2 -DONLINE_JUDGE -I/ -o 0260_main.cpp.out\n"
     ]
    },
    {
     "name": "stderr",
     "output_type": "stream",
     "text": [
      "\u001b[32m[I 2021-11-13 06:47:03,110]\u001b[0m Trial 258 finished with value: 1012729.0 and parameters: {'MCMC_Q_L2_NORM_RANGE': 7.89156253645427, 'MCMC_Q_RANGE': 0.8665253512890319, 'EXPECTED_SKILL_EMA_ALPHA_COEF': 0.6700765180393383, 'MAX_N_NOT_OPEN_TASKS_IN_QUEUE': 99, 'PRIORITY_DAY_OFFSET': 663, 'PRIORITY_COEF': 0.5475003633954582}. Best is trial 211 with value: 1013959.0.\u001b[0m\n"
     ]
    },
    {
     "name": "stdout",
     "output_type": "stream",
     "text": [
      "callback ok\n",
      "index_parallel='0261'\n",
      "sed -i 0261_main.cpp -e 's/^constexpr auto MCMC_Q_L2_NORM_RANGE = .*;           \\/\\/ OPTIMIZE LOG \\[2\\.0, 20\\.0\\]$/constexpr auto MCMC_Q_L2_NORM_RANGE = 7.730332745616092;           \\/\\/ OPTIMIZE LOG [2.0, 20.0]/' -e 's/^constexpr auto MCMC_Q_RANGE = .*;                   \\/\\/ OPTIMIZE LOG \\[0\\.2, 10\\.0\\]$/constexpr auto MCMC_Q_RANGE = 0.7997712886913626;                   \\/\\/ OPTIMIZE LOG [0.2, 10.0]/' -e 's/^constexpr auto EXPECTED_SKILL_EMA_ALPHA_COEF = .*; \\/\\/ OPTIMIZE LOG \\[0\\.02, 2\\.0\\]$/constexpr auto EXPECTED_SKILL_EMA_ALPHA_COEF = 0.7966152916960979; \\/\\/ OPTIMIZE LOG [0.02, 2.0]/' -e 's/^constexpr auto MAX_N_NOT_OPEN_TASKS_IN_QUEUE = .*; \\/\\/ OPTIMIZE \\[60, 100\\]$/constexpr auto MAX_N_NOT_OPEN_TASKS_IN_QUEUE = 99; \\/\\/ OPTIMIZE [60, 100]/' -e 's/^constexpr auto PRIORITY_DAY_OFFSET = .*;          \\/\\/ OPTIMIZE \\[400, 1200\\]$/constexpr auto PRIORITY_DAY_OFFSET = 677;          \\/\\/ OPTIMIZE [400, 1200]/' -e 's/^constexpr auto PRIORITY_COEF = .*; \\/\\/ OPTIMIZE LOG \\[0\\.002, 2\\.0\\]$/constexpr auto PRIORITY_COEF = 0.3959683827752111; \\/\\/ OPTIMIZE LOG [0.002, 2.0]/'\n",
      "clang++ 0261_main.cpp -std=gnu++17 -O2 -DONLINE_JUDGE -I/ -o 0261_main.cpp.out\n"
     ]
    },
    {
     "name": "stderr",
     "output_type": "stream",
     "text": [
      "\u001b[32m[I 2021-11-13 06:47:29,324]\u001b[0m Trial 259 finished with value: 1012777.0 and parameters: {'MCMC_Q_L2_NORM_RANGE': 7.822021630583093, 'MCMC_Q_RANGE': 0.7779459947536359, 'EXPECTED_SKILL_EMA_ALPHA_COEF': 0.7527090198070806, 'MAX_N_NOT_OPEN_TASKS_IN_QUEUE': 99, 'PRIORITY_DAY_OFFSET': 668, 'PRIORITY_COEF': 0.4045678100365833}. Best is trial 211 with value: 1013959.0.\u001b[0m\n"
     ]
    },
    {
     "name": "stdout",
     "output_type": "stream",
     "text": [
      "callback ok\n",
      "index_parallel='0262'\n",
      "sed -i 0262_main.cpp -e 's/^constexpr auto MCMC_Q_L2_NORM_RANGE = .*;           \\/\\/ OPTIMIZE LOG \\[2\\.0, 20\\.0\\]$/constexpr auto MCMC_Q_L2_NORM_RANGE = 7.666370064239534;           \\/\\/ OPTIMIZE LOG [2.0, 20.0]/' -e 's/^constexpr auto MCMC_Q_RANGE = .*;                   \\/\\/ OPTIMIZE LOG \\[0\\.2, 10\\.0\\]$/constexpr auto MCMC_Q_RANGE = 1.0192902674866535;                   \\/\\/ OPTIMIZE LOG [0.2, 10.0]/' -e 's/^constexpr auto EXPECTED_SKILL_EMA_ALPHA_COEF = .*; \\/\\/ OPTIMIZE LOG \\[0\\.02, 2\\.0\\]$/constexpr auto EXPECTED_SKILL_EMA_ALPHA_COEF = 0.5789900106826689; \\/\\/ OPTIMIZE LOG [0.02, 2.0]/' -e 's/^constexpr auto MAX_N_NOT_OPEN_TASKS_IN_QUEUE = .*; \\/\\/ OPTIMIZE \\[60, 100\\]$/constexpr auto MAX_N_NOT_OPEN_TASKS_IN_QUEUE = 98; \\/\\/ OPTIMIZE [60, 100]/' -e 's/^constexpr auto PRIORITY_DAY_OFFSET = .*;          \\/\\/ OPTIMIZE \\[400, 1200\\]$/constexpr auto PRIORITY_DAY_OFFSET = 674;          \\/\\/ OPTIMIZE [400, 1200]/' -e 's/^constexpr auto PRIORITY_COEF = .*; \\/\\/ OPTIMIZE LOG \\[0\\.002, 2\\.0\\]$/constexpr auto PRIORITY_COEF = 0.38728611706294663; \\/\\/ OPTIMIZE LOG [0.002, 2.0]/'\n",
      "clang++ 0262_main.cpp -std=gnu++17 -O2 -DONLINE_JUDGE -I/ -o 0262_main.cpp.out\n"
     ]
    },
    {
     "name": "stderr",
     "output_type": "stream",
     "text": [
      "\u001b[32m[I 2021-11-13 06:47:37,219]\u001b[0m Trial 260 finished with value: 1013292.0 and parameters: {'MCMC_Q_L2_NORM_RANGE': 7.783387562760386, 'MCMC_Q_RANGE': 0.9953708376119065, 'EXPECTED_SKILL_EMA_ALPHA_COEF': 0.5600307348884317, 'MAX_N_NOT_OPEN_TASKS_IN_QUEUE': 98, 'PRIORITY_DAY_OFFSET': 648, 'PRIORITY_COEF': 0.4113625680959482}. Best is trial 211 with value: 1013959.0.\u001b[0m\n"
     ]
    },
    {
     "name": "stdout",
     "output_type": "stream",
     "text": [
      "callback ok\n",
      "index_parallel='0263'\n",
      "sed -i 0263_main.cpp -e 's/^constexpr auto MCMC_Q_L2_NORM_RANGE = .*;           \\/\\/ OPTIMIZE LOG \\[2\\.0, 20\\.0\\]$/constexpr auto MCMC_Q_L2_NORM_RANGE = 7.4698687662137395;           \\/\\/ OPTIMIZE LOG [2.0, 20.0]/' -e 's/^constexpr auto MCMC_Q_RANGE = .*;                   \\/\\/ OPTIMIZE LOG \\[0\\.2, 10\\.0\\]$/constexpr auto MCMC_Q_RANGE = 1.0344748808008521;                   \\/\\/ OPTIMIZE LOG [0.2, 10.0]/' -e 's/^constexpr auto EXPECTED_SKILL_EMA_ALPHA_COEF = .*; \\/\\/ OPTIMIZE LOG \\[0\\.02, 2\\.0\\]$/constexpr auto EXPECTED_SKILL_EMA_ALPHA_COEF = 0.590189600971181; \\/\\/ OPTIMIZE LOG [0.02, 2.0]/' -e 's/^constexpr auto MAX_N_NOT_OPEN_TASKS_IN_QUEUE = .*; \\/\\/ OPTIMIZE \\[60, 100\\]$/constexpr auto MAX_N_NOT_OPEN_TASKS_IN_QUEUE = 98; \\/\\/ OPTIMIZE [60, 100]/' -e 's/^constexpr auto PRIORITY_DAY_OFFSET = .*;          \\/\\/ OPTIMIZE \\[400, 1200\\]$/constexpr auto PRIORITY_DAY_OFFSET = 646;          \\/\\/ OPTIMIZE [400, 1200]/' -e 's/^constexpr auto PRIORITY_COEF = .*; \\/\\/ OPTIMIZE LOG \\[0\\.002, 2\\.0\\]$/constexpr auto PRIORITY_COEF = 0.3801831735062558; \\/\\/ OPTIMIZE LOG [0.002, 2.0]/'\n",
      "clang++ 0263_main.cpp -std=gnu++17 -O2 -DONLINE_JUDGE -I/ -o 0263_main.cpp.out\n"
     ]
    },
    {
     "name": "stderr",
     "output_type": "stream",
     "text": [
      "\u001b[32m[I 2021-11-13 06:51:20,306]\u001b[0m Trial 261 finished with value: 1012524.0 and parameters: {'MCMC_Q_L2_NORM_RANGE': 7.730332745616092, 'MCMC_Q_RANGE': 0.7997712886913626, 'EXPECTED_SKILL_EMA_ALPHA_COEF': 0.7966152916960979, 'MAX_N_NOT_OPEN_TASKS_IN_QUEUE': 99, 'PRIORITY_DAY_OFFSET': 677, 'PRIORITY_COEF': 0.3959683827752111}. Best is trial 211 with value: 1013959.0.\u001b[0m\n"
     ]
    },
    {
     "name": "stdout",
     "output_type": "stream",
     "text": [
      "callback ok\n",
      "index_parallel='0264'\n",
      "sed -i 0264_main.cpp -e 's/^constexpr auto MCMC_Q_L2_NORM_RANGE = .*;           \\/\\/ OPTIMIZE LOG \\[2\\.0, 20\\.0\\]$/constexpr auto MCMC_Q_L2_NORM_RANGE = 8.167282240430053;           \\/\\/ OPTIMIZE LOG [2.0, 20.0]/' -e 's/^constexpr auto MCMC_Q_RANGE = .*;                   \\/\\/ OPTIMIZE LOG \\[0\\.2, 10\\.0\\]$/constexpr auto MCMC_Q_RANGE = 1.0045967178060542;                   \\/\\/ OPTIMIZE LOG [0.2, 10.0]/' -e 's/^constexpr auto EXPECTED_SKILL_EMA_ALPHA_COEF = .*; \\/\\/ OPTIMIZE LOG \\[0\\.02, 2\\.0\\]$/constexpr auto EXPECTED_SKILL_EMA_ALPHA_COEF = 0.5811535978421617; \\/\\/ OPTIMIZE LOG [0.02, 2.0]/' -e 's/^constexpr auto MAX_N_NOT_OPEN_TASKS_IN_QUEUE = .*; \\/\\/ OPTIMIZE \\[60, 100\\]$/constexpr auto MAX_N_NOT_OPEN_TASKS_IN_QUEUE = 97; \\/\\/ OPTIMIZE [60, 100]/' -e 's/^constexpr auto PRIORITY_DAY_OFFSET = .*;          \\/\\/ OPTIMIZE \\[400, 1200\\]$/constexpr auto PRIORITY_DAY_OFFSET = 651;          \\/\\/ OPTIMIZE [400, 1200]/' -e 's/^constexpr auto PRIORITY_COEF = .*; \\/\\/ OPTIMIZE LOG \\[0\\.002, 2\\.0\\]$/constexpr auto PRIORITY_COEF = 0.4165611960938067; \\/\\/ OPTIMIZE LOG [0.002, 2.0]/'\n",
      "clang++ 0264_main.cpp -std=gnu++17 -O2 -DONLINE_JUDGE -I/ -o 0264_main.cpp.out\n"
     ]
    },
    {
     "name": "stderr",
     "output_type": "stream",
     "text": [
      "\u001b[32m[I 2021-11-13 06:51:44,495]\u001b[0m Trial 262 finished with value: 1012112.0 and parameters: {'MCMC_Q_L2_NORM_RANGE': 7.666370064239534, 'MCMC_Q_RANGE': 1.0192902674866535, 'EXPECTED_SKILL_EMA_ALPHA_COEF': 0.5789900106826689, 'MAX_N_NOT_OPEN_TASKS_IN_QUEUE': 98, 'PRIORITY_DAY_OFFSET': 674, 'PRIORITY_COEF': 0.38728611706294663}. Best is trial 211 with value: 1013959.0.\u001b[0m\n"
     ]
    },
    {
     "name": "stdout",
     "output_type": "stream",
     "text": [
      "callback ok\n",
      "index_parallel='0265'\n",
      "sed -i 0265_main.cpp -e 's/^constexpr auto MCMC_Q_L2_NORM_RANGE = .*;           \\/\\/ OPTIMIZE LOG \\[2\\.0, 20\\.0\\]$/constexpr auto MCMC_Q_L2_NORM_RANGE = 8.118252477470673;           \\/\\/ OPTIMIZE LOG [2.0, 20.0]/' -e 's/^constexpr auto MCMC_Q_RANGE = .*;                   \\/\\/ OPTIMIZE LOG \\[0\\.2, 10\\.0\\]$/constexpr auto MCMC_Q_RANGE = 1.0592428685894035;                   \\/\\/ OPTIMIZE LOG [0.2, 10.0]/' -e 's/^constexpr auto EXPECTED_SKILL_EMA_ALPHA_COEF = .*; \\/\\/ OPTIMIZE LOG \\[0\\.02, 2\\.0\\]$/constexpr auto EXPECTED_SKILL_EMA_ALPHA_COEF = 0.49150488552347094; \\/\\/ OPTIMIZE LOG [0.02, 2.0]/' -e 's/^constexpr auto MAX_N_NOT_OPEN_TASKS_IN_QUEUE = .*; \\/\\/ OPTIMIZE \\[60, 100\\]$/constexpr auto MAX_N_NOT_OPEN_TASKS_IN_QUEUE = 97; \\/\\/ OPTIMIZE [60, 100]/' -e 's/^constexpr auto PRIORITY_DAY_OFFSET = .*;          \\/\\/ OPTIMIZE \\[400, 1200\\]$/constexpr auto PRIORITY_DAY_OFFSET = 651;          \\/\\/ OPTIMIZE [400, 1200]/' -e 's/^constexpr auto PRIORITY_COEF = .*; \\/\\/ OPTIMIZE LOG \\[0\\.002, 2\\.0\\]$/constexpr auto PRIORITY_COEF = 0.4853136186845666; \\/\\/ OPTIMIZE LOG [0.002, 2.0]/'\n",
      "clang++ 0265_main.cpp -std=gnu++17 -O2 -DONLINE_JUDGE -I/ -o 0265_main.cpp.out\n"
     ]
    },
    {
     "name": "stderr",
     "output_type": "stream",
     "text": [
      "\u001b[32m[I 2021-11-13 06:51:53,962]\u001b[0m Trial 263 finished with value: 1011345.0 and parameters: {'MCMC_Q_L2_NORM_RANGE': 7.4698687662137395, 'MCMC_Q_RANGE': 1.0344748808008521, 'EXPECTED_SKILL_EMA_ALPHA_COEF': 0.590189600971181, 'MAX_N_NOT_OPEN_TASKS_IN_QUEUE': 98, 'PRIORITY_DAY_OFFSET': 646, 'PRIORITY_COEF': 0.3801831735062558}. Best is trial 211 with value: 1013959.0.\u001b[0m\n"
     ]
    },
    {
     "name": "stdout",
     "output_type": "stream",
     "text": [
      "callback ok\n",
      "index_parallel='0266'\n",
      "sed -i 0266_main.cpp -e 's/^constexpr auto MCMC_Q_L2_NORM_RANGE = .*;           \\/\\/ OPTIMIZE LOG \\[2\\.0, 20\\.0\\]$/constexpr auto MCMC_Q_L2_NORM_RANGE = 8.10800372584208;           \\/\\/ OPTIMIZE LOG [2.0, 20.0]/' -e 's/^constexpr auto MCMC_Q_RANGE = .*;                   \\/\\/ OPTIMIZE LOG \\[0\\.2, 10\\.0\\]$/constexpr auto MCMC_Q_RANGE = 1.2354936295558527;                   \\/\\/ OPTIMIZE LOG [0.2, 10.0]/' -e 's/^constexpr auto EXPECTED_SKILL_EMA_ALPHA_COEF = .*; \\/\\/ OPTIMIZE LOG \\[0\\.02, 2\\.0\\]$/constexpr auto EXPECTED_SKILL_EMA_ALPHA_COEF = 0.47563854485759766; \\/\\/ OPTIMIZE LOG [0.02, 2.0]/' -e 's/^constexpr auto MAX_N_NOT_OPEN_TASKS_IN_QUEUE = .*; \\/\\/ OPTIMIZE \\[60, 100\\]$/constexpr auto MAX_N_NOT_OPEN_TASKS_IN_QUEUE = 97; \\/\\/ OPTIMIZE [60, 100]/' -e 's/^constexpr auto PRIORITY_DAY_OFFSET = .*;          \\/\\/ OPTIMIZE \\[400, 1200\\]$/constexpr auto PRIORITY_DAY_OFFSET = 647;          \\/\\/ OPTIMIZE [400, 1200]/' -e 's/^constexpr auto PRIORITY_COEF = .*; \\/\\/ OPTIMIZE LOG \\[0\\.002, 2\\.0\\]$/constexpr auto PRIORITY_COEF = 0.4558578840979619; \\/\\/ OPTIMIZE LOG [0.002, 2.0]/'\n",
      "clang++ 0266_main.cpp -std=gnu++17 -O2 -DONLINE_JUDGE -I/ -o 0266_main.cpp.out\n"
     ]
    },
    {
     "name": "stderr",
     "output_type": "stream",
     "text": [
      "\u001b[33m[W 2021-11-13 06:54:40,303]\u001b[0m Trial 265 failed because of the following error: ValueError(\"invalid literal for int() with base 10: ''\")\u001b[0m\n",
      "Traceback (most recent call last):\n",
      "  File \"/home/user/anaconda3/lib/python3.8/site-packages/optuna/study/_optimize.py\", line 213, in _run_trial\n",
      "    value_or_values = func(trial)\n",
      "  File \"<ipython-input-4-72e45d5d6fbc>\", line 60, in objective_with_index\n",
      "    sum_score += int(f.read())\n",
      "ValueError: invalid literal for int() with base 10: ''\n",
      "\u001b[33m[W 2021-11-13 06:54:40,317]\u001b[0m Trial 266 failed because of the following error: ValueError(\"invalid literal for int() with base 10: ''\")\u001b[0m\n",
      "Traceback (most recent call last):\n",
      "  File \"/home/user/anaconda3/lib/python3.8/site-packages/optuna/study/_optimize.py\", line 213, in _run_trial\n",
      "    value_or_values = func(trial)\n",
      "  File \"<ipython-input-4-72e45d5d6fbc>\", line 60, in objective_with_index\n",
      "    sum_score += int(f.read())\n",
      "ValueError: invalid literal for int() with base 10: ''\n",
      "\u001b[33m[W 2021-11-13 06:54:40,318]\u001b[0m Trial 264 failed because of the following error: ValueError(\"invalid literal for int() with base 10: ''\")\u001b[0m\n",
      "Traceback (most recent call last):\n",
      "  File \"/home/user/anaconda3/lib/python3.8/site-packages/optuna/study/_optimize.py\", line 213, in _run_trial\n",
      "    value_or_values = func(trial)\n",
      "  File \"<ipython-input-4-72e45d5d6fbc>\", line 60, in objective_with_index\n",
      "    sum_score += int(f.read())\n",
      "ValueError: invalid literal for int() with base 10: ''\n"
     ]
    },
    {
     "ename": "KeyboardInterrupt",
     "evalue": "",
     "output_type": "error",
     "traceback": [
      "\u001b[0;31m---------------------------------------------------------------------------\u001b[0m",
      "\u001b[0;31mKeyboardInterrupt\u001b[0m                         Traceback (most recent call last)",
      "\u001b[0;32m<ipython-input-6-10443199a7d9>\u001b[0m in \u001b[0;36m<module>\u001b[0;34m\u001b[0m\n\u001b[1;32m      1\u001b[0m \u001b[0mobjective\u001b[0m \u001b[0;34m=\u001b[0m \u001b[0mpartial\u001b[0m\u001b[0;34m(\u001b[0m\u001b[0mobjective_with_index\u001b[0m\u001b[0;34m,\u001b[0m \u001b[0mn_internal_parallel\u001b[0m\u001b[0;34m=\u001b[0m\u001b[0;36m8\u001b[0m\u001b[0;34m)\u001b[0m\u001b[0;34m\u001b[0m\u001b[0;34m\u001b[0m\u001b[0m\n\u001b[0;32m----> 2\u001b[0;31m \u001b[0mstudy\u001b[0m\u001b[0;34m.\u001b[0m\u001b[0moptimize\u001b[0m\u001b[0;34m(\u001b[0m\u001b[0mobjective\u001b[0m\u001b[0;34m,\u001b[0m \u001b[0mn_trials\u001b[0m\u001b[0;34m=\u001b[0m\u001b[0;36m3000\u001b[0m\u001b[0;34m,\u001b[0m \u001b[0mtimeout\u001b[0m\u001b[0;34m=\u001b[0m\u001b[0;36m86400\u001b[0m\u001b[0;34m,\u001b[0m \u001b[0mn_jobs\u001b[0m\u001b[0;34m=\u001b[0m\u001b[0;36m3\u001b[0m\u001b[0;34m,\u001b[0m \u001b[0mcallbacks\u001b[0m\u001b[0;34m=\u001b[0m\u001b[0;34m[\u001b[0m\u001b[0mcallback\u001b[0m\u001b[0;34m]\u001b[0m\u001b[0;34m)\u001b[0m\u001b[0;34m\u001b[0m\u001b[0;34m\u001b[0m\u001b[0m\n\u001b[0m",
      "\u001b[0;32m~/anaconda3/lib/python3.8/site-packages/optuna/study/study.py\u001b[0m in \u001b[0;36moptimize\u001b[0;34m(self, func, n_trials, timeout, n_jobs, catch, callbacks, gc_after_trial, show_progress_bar)\u001b[0m\n\u001b[1;32m    398\u001b[0m             )\n\u001b[1;32m    399\u001b[0m \u001b[0;34m\u001b[0m\u001b[0m\n\u001b[0;32m--> 400\u001b[0;31m         _optimize(\n\u001b[0m\u001b[1;32m    401\u001b[0m             \u001b[0mstudy\u001b[0m\u001b[0;34m=\u001b[0m\u001b[0mself\u001b[0m\u001b[0;34m,\u001b[0m\u001b[0;34m\u001b[0m\u001b[0;34m\u001b[0m\u001b[0m\n\u001b[1;32m    402\u001b[0m             \u001b[0mfunc\u001b[0m\u001b[0;34m=\u001b[0m\u001b[0mfunc\u001b[0m\u001b[0;34m,\u001b[0m\u001b[0;34m\u001b[0m\u001b[0;34m\u001b[0m\u001b[0m\n",
      "\u001b[0;32m~/anaconda3/lib/python3.8/site-packages/optuna/study/_optimize.py\u001b[0m in \u001b[0;36m_optimize\u001b[0;34m(study, func, n_trials, timeout, n_jobs, catch, callbacks, gc_after_trial, show_progress_bar)\u001b[0m\n\u001b[1;32m    101\u001b[0m \u001b[0;34m\u001b[0m\u001b[0m\n\u001b[1;32m    102\u001b[0m                     \u001b[0;32mif\u001b[0m \u001b[0mlen\u001b[0m\u001b[0;34m(\u001b[0m\u001b[0mfutures\u001b[0m\u001b[0;34m)\u001b[0m \u001b[0;34m>=\u001b[0m \u001b[0mn_jobs\u001b[0m\u001b[0;34m:\u001b[0m\u001b[0;34m\u001b[0m\u001b[0;34m\u001b[0m\u001b[0m\n\u001b[0;32m--> 103\u001b[0;31m                         \u001b[0mcompleted\u001b[0m\u001b[0;34m,\u001b[0m \u001b[0mfutures\u001b[0m \u001b[0;34m=\u001b[0m \u001b[0mwait\u001b[0m\u001b[0;34m(\u001b[0m\u001b[0mfutures\u001b[0m\u001b[0;34m,\u001b[0m \u001b[0mreturn_when\u001b[0m\u001b[0;34m=\u001b[0m\u001b[0mFIRST_COMPLETED\u001b[0m\u001b[0;34m)\u001b[0m\u001b[0;34m\u001b[0m\u001b[0;34m\u001b[0m\u001b[0m\n\u001b[0m\u001b[1;32m    104\u001b[0m                         \u001b[0;31m# Raise if exception occurred in executing the completed futures.\u001b[0m\u001b[0;34m\u001b[0m\u001b[0;34m\u001b[0m\u001b[0;34m\u001b[0m\u001b[0m\n\u001b[1;32m    105\u001b[0m                         \u001b[0;32mfor\u001b[0m \u001b[0mf\u001b[0m \u001b[0;32min\u001b[0m \u001b[0mcompleted\u001b[0m\u001b[0;34m:\u001b[0m\u001b[0;34m\u001b[0m\u001b[0;34m\u001b[0m\u001b[0m\n",
      "\u001b[0;32m~/anaconda3/lib/python3.8/concurrent/futures/_base.py\u001b[0m in \u001b[0;36mwait\u001b[0;34m(fs, timeout, return_when)\u001b[0m\n\u001b[1;32m    303\u001b[0m         \u001b[0mwaiter\u001b[0m \u001b[0;34m=\u001b[0m \u001b[0m_create_and_install_waiters\u001b[0m\u001b[0;34m(\u001b[0m\u001b[0mfs\u001b[0m\u001b[0;34m,\u001b[0m \u001b[0mreturn_when\u001b[0m\u001b[0;34m)\u001b[0m\u001b[0;34m\u001b[0m\u001b[0;34m\u001b[0m\u001b[0m\n\u001b[1;32m    304\u001b[0m \u001b[0;34m\u001b[0m\u001b[0m\n\u001b[0;32m--> 305\u001b[0;31m     \u001b[0mwaiter\u001b[0m\u001b[0;34m.\u001b[0m\u001b[0mevent\u001b[0m\u001b[0;34m.\u001b[0m\u001b[0mwait\u001b[0m\u001b[0;34m(\u001b[0m\u001b[0mtimeout\u001b[0m\u001b[0;34m)\u001b[0m\u001b[0;34m\u001b[0m\u001b[0;34m\u001b[0m\u001b[0m\n\u001b[0m\u001b[1;32m    306\u001b[0m     \u001b[0;32mfor\u001b[0m \u001b[0mf\u001b[0m \u001b[0;32min\u001b[0m \u001b[0mfs\u001b[0m\u001b[0;34m:\u001b[0m\u001b[0;34m\u001b[0m\u001b[0;34m\u001b[0m\u001b[0m\n\u001b[1;32m    307\u001b[0m         \u001b[0;32mwith\u001b[0m \u001b[0mf\u001b[0m\u001b[0;34m.\u001b[0m\u001b[0m_condition\u001b[0m\u001b[0;34m:\u001b[0m\u001b[0;34m\u001b[0m\u001b[0;34m\u001b[0m\u001b[0m\n",
      "\u001b[0;32m~/anaconda3/lib/python3.8/threading.py\u001b[0m in \u001b[0;36mwait\u001b[0;34m(self, timeout)\u001b[0m\n\u001b[1;32m    556\u001b[0m             \u001b[0msignaled\u001b[0m \u001b[0;34m=\u001b[0m \u001b[0mself\u001b[0m\u001b[0;34m.\u001b[0m\u001b[0m_flag\u001b[0m\u001b[0;34m\u001b[0m\u001b[0;34m\u001b[0m\u001b[0m\n\u001b[1;32m    557\u001b[0m             \u001b[0;32mif\u001b[0m \u001b[0;32mnot\u001b[0m \u001b[0msignaled\u001b[0m\u001b[0;34m:\u001b[0m\u001b[0;34m\u001b[0m\u001b[0;34m\u001b[0m\u001b[0m\n\u001b[0;32m--> 558\u001b[0;31m                 \u001b[0msignaled\u001b[0m \u001b[0;34m=\u001b[0m \u001b[0mself\u001b[0m\u001b[0;34m.\u001b[0m\u001b[0m_cond\u001b[0m\u001b[0;34m.\u001b[0m\u001b[0mwait\u001b[0m\u001b[0;34m(\u001b[0m\u001b[0mtimeout\u001b[0m\u001b[0;34m)\u001b[0m\u001b[0;34m\u001b[0m\u001b[0;34m\u001b[0m\u001b[0m\n\u001b[0m\u001b[1;32m    559\u001b[0m             \u001b[0;32mreturn\u001b[0m \u001b[0msignaled\u001b[0m\u001b[0;34m\u001b[0m\u001b[0;34m\u001b[0m\u001b[0m\n\u001b[1;32m    560\u001b[0m \u001b[0;34m\u001b[0m\u001b[0m\n",
      "\u001b[0;32m~/anaconda3/lib/python3.8/threading.py\u001b[0m in \u001b[0;36mwait\u001b[0;34m(self, timeout)\u001b[0m\n\u001b[1;32m    300\u001b[0m         \u001b[0;32mtry\u001b[0m\u001b[0;34m:\u001b[0m    \u001b[0;31m# restore state no matter what (e.g., KeyboardInterrupt)\u001b[0m\u001b[0;34m\u001b[0m\u001b[0;34m\u001b[0m\u001b[0m\n\u001b[1;32m    301\u001b[0m             \u001b[0;32mif\u001b[0m \u001b[0mtimeout\u001b[0m \u001b[0;32mis\u001b[0m \u001b[0;32mNone\u001b[0m\u001b[0;34m:\u001b[0m\u001b[0;34m\u001b[0m\u001b[0;34m\u001b[0m\u001b[0m\n\u001b[0;32m--> 302\u001b[0;31m                 \u001b[0mwaiter\u001b[0m\u001b[0;34m.\u001b[0m\u001b[0macquire\u001b[0m\u001b[0;34m(\u001b[0m\u001b[0;34m)\u001b[0m\u001b[0;34m\u001b[0m\u001b[0;34m\u001b[0m\u001b[0m\n\u001b[0m\u001b[1;32m    303\u001b[0m                 \u001b[0mgotit\u001b[0m \u001b[0;34m=\u001b[0m \u001b[0;32mTrue\u001b[0m\u001b[0;34m\u001b[0m\u001b[0;34m\u001b[0m\u001b[0m\n\u001b[1;32m    304\u001b[0m             \u001b[0;32melse\u001b[0m\u001b[0;34m:\u001b[0m\u001b[0;34m\u001b[0m\u001b[0;34m\u001b[0m\u001b[0m\n",
      "\u001b[0;31mKeyboardInterrupt\u001b[0m: "
     ]
    }
   ],
   "source": [
    "objective = partial(objective_with_index, n_internal_parallel=8)\n",
    "study.optimize(objective, n_trials=3000, timeout=86400, n_jobs=3, callbacks=[callback])"
   ]
  },
  {
   "cell_type": "code",
   "execution_count": null,
   "id": "85b30824",
   "metadata": {},
   "outputs": [],
   "source": []
  }
 ],
 "metadata": {
  "kernelspec": {
   "display_name": "Python 3",
   "language": "python",
   "name": "python3"
  },
  "language_info": {
   "codemirror_mode": {
    "name": "ipython",
    "version": 3
   },
   "file_extension": ".py",
   "mimetype": "text/x-python",
   "name": "python",
   "nbconvert_exporter": "python",
   "pygments_lexer": "ipython3",
   "version": "3.8.8"
  }
 },
 "nbformat": 4,
 "nbformat_minor": 5
}
